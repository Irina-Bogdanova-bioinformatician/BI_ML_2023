{
  "cells": [
    {
      "cell_type": "markdown",
      "metadata": {
        "id": "view-in-github",
        "colab_type": "text"
      },
      "source": [
        "<a href=\"https://colab.research.google.com/github/Irina-Bogdanova-bioinformatician/BI_ML_2023/blob/protein-stability/protein_stability_prediction/predict_protein_stability.ipynb\" target=\"_parent\"><img src=\"https://colab.research.google.com/assets/colab-badge.svg\" alt=\"Open In Colab\"/></a>"
      ]
    },
    {
      "cell_type": "markdown",
      "id": "ae249cda-8598-421c-afd6-0443f2264511",
      "metadata": {
        "id": "ae249cda-8598-421c-afd6-0443f2264511"
      },
      "source": [
        "# Задание\n",
        "\n",
        "Вам предстоит поработать с данными о стабильности белков (`tm`). Нужно по последовательности белка и по `pH` предсказывать стабильность. Так как это дополнительное задание, то комментариев и подробного плана не будет, вам нужно максимально показать свои знания и постараться добиться наилучшего качества.\n",
        "\n",
        "Небольшой план для начала:\n",
        "\n",
        "1. Провести небольшой EDA, найти возможные выбросы и понять, в чем может быть дело.\n",
        "2. Придумать, как закодировать аминокислотные последовательности в числовые векторы.\n",
        "3. Разделить данные на `train` и `test` (подумать над правильной стратегией разбиения).\n",
        "4. Используя кросс-вадидацию подобрать наилучшую модель на тренировочных данных.\n",
        "5. Обучить лучшую модель на всех тренировочных данных.\n",
        "5. Протестировать лучшую модель на тестовых данных.\n",
        "\n",
        "Оформить подробный отчет в виде ноутбука. Постарайтесь воспользоваться всеми техниками, которые мы прошли в курсе.\n",
        "\n",
        "*Так как текущее задание в довольно свободной форме, то четких критериев оценки нет. Если минимально проследовать вышеуказанным рекомендациям, то можно получить до **20 баллов**. Максимально за это задание можно получить **40***."
      ]
    },
    {
      "cell_type": "code",
      "execution_count": null,
      "id": "e5cebea5-2fce-4894-a4c0-f52e76a76fd2",
      "metadata": {
        "id": "e5cebea5-2fce-4894-a4c0-f52e76a76fd2"
      },
      "outputs": [],
      "source": [
        "from os.path import join\n",
        "import pandas as pd"
      ]
    },
    {
      "cell_type": "code",
      "execution_count": null,
      "id": "dceea717-649f-4bea-9317-0b0410e90e61",
      "metadata": {
        "id": "dceea717-649f-4bea-9317-0b0410e90e61"
      },
      "outputs": [],
      "source": [
        "data_folder = \"data\"\n",
        "data_filename = \"data.csv\"\n",
        "data_path = join(data_folder, data_filename)"
      ]
    },
    {
      "cell_type": "markdown",
      "id": "dqfv0W5wRtng",
      "metadata": {
        "id": "dqfv0W5wRtng"
      },
      "source": [
        "## Data downloading and EDA"
      ]
    },
    {
      "cell_type": "code",
      "execution_count": null,
      "id": "QrRFB57lGCKQ",
      "metadata": {
        "id": "QrRFB57lGCKQ"
      },
      "outputs": [],
      "source": [
        "!mkdir data/\n",
        "!mv data.csv data/"
      ]
    },
    {
      "cell_type": "code",
      "execution_count": null,
      "id": "5af9a82b-8df1-4dd6-b7c9-759b85dad89a",
      "metadata": {
        "colab": {
          "base_uri": "https://localhost:8080/",
          "height": 238
        },
        "id": "5af9a82b-8df1-4dd6-b7c9-759b85dad89a",
        "outputId": "610db7fb-4dfd-4b3e-f790-383e083c0414"
      },
      "outputs": [
        {
          "data": {
            "text/html": [
              "\n",
              "  <div id=\"df-2fe7af95-2b82-4fc4-9b1b-a96ac1a555bc\">\n",
              "    <div class=\"colab-df-container\">\n",
              "      <div>\n",
              "<style scoped>\n",
              "    .dataframe tbody tr th:only-of-type {\n",
              "        vertical-align: middle;\n",
              "    }\n",
              "\n",
              "    .dataframe tbody tr th {\n",
              "        vertical-align: top;\n",
              "    }\n",
              "\n",
              "    .dataframe thead th {\n",
              "        text-align: right;\n",
              "    }\n",
              "</style>\n",
              "<table border=\"1\" class=\"dataframe\">\n",
              "  <thead>\n",
              "    <tr style=\"text-align: right;\">\n",
              "      <th></th>\n",
              "      <th>protein_sequence</th>\n",
              "      <th>pH</th>\n",
              "      <th>data_source</th>\n",
              "      <th>tm</th>\n",
              "    </tr>\n",
              "    <tr>\n",
              "      <th>seq_id</th>\n",
              "      <th></th>\n",
              "      <th></th>\n",
              "      <th></th>\n",
              "      <th></th>\n",
              "    </tr>\n",
              "  </thead>\n",
              "  <tbody>\n",
              "    <tr>\n",
              "      <th>0</th>\n",
              "      <td>AAAAKAAALALLGEAPEVVDIWLPAGWRQPFRVFRLERKGDGVLVG...</td>\n",
              "      <td>7.0</td>\n",
              "      <td>doi.org/10.1038/s41592-020-0801-4</td>\n",
              "      <td>75.7</td>\n",
              "    </tr>\n",
              "    <tr>\n",
              "      <th>1</th>\n",
              "      <td>AAADGEPLHNEEERAGAGQVGRSLPQESEEQRTGSRPRRRRDLGSR...</td>\n",
              "      <td>7.0</td>\n",
              "      <td>doi.org/10.1038/s41592-020-0801-4</td>\n",
              "      <td>50.5</td>\n",
              "    </tr>\n",
              "    <tr>\n",
              "      <th>2</th>\n",
              "      <td>AAAFSTPRATSYRILSSAGSGSTRADAPQVRRLHTTRDLLAKDYYA...</td>\n",
              "      <td>7.0</td>\n",
              "      <td>doi.org/10.1038/s41592-020-0801-4</td>\n",
              "      <td>40.5</td>\n",
              "    </tr>\n",
              "    <tr>\n",
              "      <th>3</th>\n",
              "      <td>AAASGLRTAIPAQPLRHLLQPAPRPCLRPFGLLSVRAGSARRSGLL...</td>\n",
              "      <td>7.0</td>\n",
              "      <td>doi.org/10.1038/s41592-020-0801-4</td>\n",
              "      <td>47.2</td>\n",
              "    </tr>\n",
              "    <tr>\n",
              "      <th>4</th>\n",
              "      <td>AAATKSGPRRQSQGASVRTFTPFYFLVEPVDTLSVRGSSVILNCSA...</td>\n",
              "      <td>7.0</td>\n",
              "      <td>doi.org/10.1038/s41592-020-0801-4</td>\n",
              "      <td>49.5</td>\n",
              "    </tr>\n",
              "  </tbody>\n",
              "</table>\n",
              "</div>\n",
              "      <button class=\"colab-df-convert\" onclick=\"convertToInteractive('df-2fe7af95-2b82-4fc4-9b1b-a96ac1a555bc')\"\n",
              "              title=\"Convert this dataframe to an interactive table.\"\n",
              "              style=\"display:none;\">\n",
              "        \n",
              "  <svg xmlns=\"http://www.w3.org/2000/svg\" height=\"24px\"viewBox=\"0 0 24 24\"\n",
              "       width=\"24px\">\n",
              "    <path d=\"M0 0h24v24H0V0z\" fill=\"none\"/>\n",
              "    <path d=\"M18.56 5.44l.94 2.06.94-2.06 2.06-.94-2.06-.94-.94-2.06-.94 2.06-2.06.94zm-11 1L8.5 8.5l.94-2.06 2.06-.94-2.06-.94L8.5 2.5l-.94 2.06-2.06.94zm10 10l.94 2.06.94-2.06 2.06-.94-2.06-.94-.94-2.06-.94 2.06-2.06.94z\"/><path d=\"M17.41 7.96l-1.37-1.37c-.4-.4-.92-.59-1.43-.59-.52 0-1.04.2-1.43.59L10.3 9.45l-7.72 7.72c-.78.78-.78 2.05 0 2.83L4 21.41c.39.39.9.59 1.41.59.51 0 1.02-.2 1.41-.59l7.78-7.78 2.81-2.81c.8-.78.8-2.07 0-2.86zM5.41 20L4 18.59l7.72-7.72 1.47 1.35L5.41 20z\"/>\n",
              "  </svg>\n",
              "      </button>\n",
              "      \n",
              "  <style>\n",
              "    .colab-df-container {\n",
              "      display:flex;\n",
              "      flex-wrap:wrap;\n",
              "      gap: 12px;\n",
              "    }\n",
              "\n",
              "    .colab-df-convert {\n",
              "      background-color: #E8F0FE;\n",
              "      border: none;\n",
              "      border-radius: 50%;\n",
              "      cursor: pointer;\n",
              "      display: none;\n",
              "      fill: #1967D2;\n",
              "      height: 32px;\n",
              "      padding: 0 0 0 0;\n",
              "      width: 32px;\n",
              "    }\n",
              "\n",
              "    .colab-df-convert:hover {\n",
              "      background-color: #E2EBFA;\n",
              "      box-shadow: 0px 1px 2px rgba(60, 64, 67, 0.3), 0px 1px 3px 1px rgba(60, 64, 67, 0.15);\n",
              "      fill: #174EA6;\n",
              "    }\n",
              "\n",
              "    [theme=dark] .colab-df-convert {\n",
              "      background-color: #3B4455;\n",
              "      fill: #D2E3FC;\n",
              "    }\n",
              "\n",
              "    [theme=dark] .colab-df-convert:hover {\n",
              "      background-color: #434B5C;\n",
              "      box-shadow: 0px 1px 3px 1px rgba(0, 0, 0, 0.15);\n",
              "      filter: drop-shadow(0px 1px 2px rgba(0, 0, 0, 0.3));\n",
              "      fill: #FFFFFF;\n",
              "    }\n",
              "  </style>\n",
              "\n",
              "      <script>\n",
              "        const buttonEl =\n",
              "          document.querySelector('#df-2fe7af95-2b82-4fc4-9b1b-a96ac1a555bc button.colab-df-convert');\n",
              "        buttonEl.style.display =\n",
              "          google.colab.kernel.accessAllowed ? 'block' : 'none';\n",
              "\n",
              "        async function convertToInteractive(key) {\n",
              "          const element = document.querySelector('#df-2fe7af95-2b82-4fc4-9b1b-a96ac1a555bc');\n",
              "          const dataTable =\n",
              "            await google.colab.kernel.invokeFunction('convertToInteractive',\n",
              "                                                     [key], {});\n",
              "          if (!dataTable) return;\n",
              "\n",
              "          const docLinkHtml = 'Like what you see? Visit the ' +\n",
              "            '<a target=\"_blank\" href=https://colab.research.google.com/notebooks/data_table.ipynb>data table notebook</a>'\n",
              "            + ' to learn more about interactive tables.';\n",
              "          element.innerHTML = '';\n",
              "          dataTable['output_type'] = 'display_data';\n",
              "          await google.colab.output.renderOutput(dataTable, element);\n",
              "          const docLink = document.createElement('div');\n",
              "          docLink.innerHTML = docLinkHtml;\n",
              "          element.appendChild(docLink);\n",
              "        }\n",
              "      </script>\n",
              "    </div>\n",
              "  </div>\n",
              "  "
            ],
            "text/plain": [
              "                                         protein_sequence   pH  \\\n",
              "seq_id                                                           \n",
              "0       AAAAKAAALALLGEAPEVVDIWLPAGWRQPFRVFRLERKGDGVLVG...  7.0   \n",
              "1       AAADGEPLHNEEERAGAGQVGRSLPQESEEQRTGSRPRRRRDLGSR...  7.0   \n",
              "2       AAAFSTPRATSYRILSSAGSGSTRADAPQVRRLHTTRDLLAKDYYA...  7.0   \n",
              "3       AAASGLRTAIPAQPLRHLLQPAPRPCLRPFGLLSVRAGSARRSGLL...  7.0   \n",
              "4       AAATKSGPRRQSQGASVRTFTPFYFLVEPVDTLSVRGSSVILNCSA...  7.0   \n",
              "\n",
              "                              data_source    tm  \n",
              "seq_id                                           \n",
              "0       doi.org/10.1038/s41592-020-0801-4  75.7  \n",
              "1       doi.org/10.1038/s41592-020-0801-4  50.5  \n",
              "2       doi.org/10.1038/s41592-020-0801-4  40.5  \n",
              "3       doi.org/10.1038/s41592-020-0801-4  47.2  \n",
              "4       doi.org/10.1038/s41592-020-0801-4  49.5  "
            ]
          },
          "execution_count": 12,
          "metadata": {},
          "output_type": "execute_result"
        }
      ],
      "source": [
        "data = pd.read_csv(data_path, index_col=0)\n",
        "data.head()"
      ]
    },
    {
      "cell_type": "code",
      "execution_count": null,
      "id": "22d13e09-6dce-4e8d-ac57-61e4c667b0f0",
      "metadata": {
        "colab": {
          "base_uri": "https://localhost:8080/"
        },
        "id": "22d13e09-6dce-4e8d-ac57-61e4c667b0f0",
        "outputId": "0c6a5cea-2372-46cb-e9e5-18efdaf9df47"
      },
      "outputs": [
        {
          "data": {
            "text/plain": [
              "(31390, 4)"
            ]
          },
          "execution_count": 13,
          "metadata": {},
          "output_type": "execute_result"
        }
      ],
      "source": [
        "data.shape"
      ]
    },
    {
      "cell_type": "code",
      "execution_count": null,
      "id": "wBTX14Irfr3g",
      "metadata": {
        "id": "wBTX14Irfr3g"
      },
      "outputs": [],
      "source": [
        "data = data.drop_duplicates()"
      ]
    },
    {
      "cell_type": "code",
      "execution_count": null,
      "id": "240d295b-cd62-4a2e-bc9e-f88d7e38cbf6",
      "metadata": {
        "colab": {
          "base_uri": "https://localhost:8080/",
          "height": 300
        },
        "id": "240d295b-cd62-4a2e-bc9e-f88d7e38cbf6",
        "outputId": "83da786f-ce72-4f2a-cda9-80c987af135a"
      },
      "outputs": [
        {
          "data": {
            "text/html": [
              "\n",
              "  <div id=\"df-6124cbbd-bc69-48bc-bd02-7535a60def42\">\n",
              "    <div class=\"colab-df-container\">\n",
              "      <div>\n",
              "<style scoped>\n",
              "    .dataframe tbody tr th:only-of-type {\n",
              "        vertical-align: middle;\n",
              "    }\n",
              "\n",
              "    .dataframe tbody tr th {\n",
              "        vertical-align: top;\n",
              "    }\n",
              "\n",
              "    .dataframe thead th {\n",
              "        text-align: right;\n",
              "    }\n",
              "</style>\n",
              "<table border=\"1\" class=\"dataframe\">\n",
              "  <thead>\n",
              "    <tr style=\"text-align: right;\">\n",
              "      <th></th>\n",
              "      <th>pH</th>\n",
              "      <th>tm</th>\n",
              "    </tr>\n",
              "  </thead>\n",
              "  <tbody>\n",
              "    <tr>\n",
              "      <th>count</th>\n",
              "      <td>31104.000000</td>\n",
              "      <td>31390.000000</td>\n",
              "    </tr>\n",
              "    <tr>\n",
              "      <th>mean</th>\n",
              "      <td>6.892339</td>\n",
              "      <td>49.147337</td>\n",
              "    </tr>\n",
              "    <tr>\n",
              "      <th>std</th>\n",
              "      <td>1.612225</td>\n",
              "      <td>14.010089</td>\n",
              "    </tr>\n",
              "    <tr>\n",
              "      <th>min</th>\n",
              "      <td>1.990000</td>\n",
              "      <td>-1.000000</td>\n",
              "    </tr>\n",
              "    <tr>\n",
              "      <th>25%</th>\n",
              "      <td>7.000000</td>\n",
              "      <td>42.100000</td>\n",
              "    </tr>\n",
              "    <tr>\n",
              "      <th>50%</th>\n",
              "      <td>7.000000</td>\n",
              "      <td>48.000000</td>\n",
              "    </tr>\n",
              "    <tr>\n",
              "      <th>75%</th>\n",
              "      <td>7.000000</td>\n",
              "      <td>53.800000</td>\n",
              "    </tr>\n",
              "    <tr>\n",
              "      <th>max</th>\n",
              "      <td>64.900000</td>\n",
              "      <td>130.000000</td>\n",
              "    </tr>\n",
              "  </tbody>\n",
              "</table>\n",
              "</div>\n",
              "      <button class=\"colab-df-convert\" onclick=\"convertToInteractive('df-6124cbbd-bc69-48bc-bd02-7535a60def42')\"\n",
              "              title=\"Convert this dataframe to an interactive table.\"\n",
              "              style=\"display:none;\">\n",
              "        \n",
              "  <svg xmlns=\"http://www.w3.org/2000/svg\" height=\"24px\"viewBox=\"0 0 24 24\"\n",
              "       width=\"24px\">\n",
              "    <path d=\"M0 0h24v24H0V0z\" fill=\"none\"/>\n",
              "    <path d=\"M18.56 5.44l.94 2.06.94-2.06 2.06-.94-2.06-.94-.94-2.06-.94 2.06-2.06.94zm-11 1L8.5 8.5l.94-2.06 2.06-.94-2.06-.94L8.5 2.5l-.94 2.06-2.06.94zm10 10l.94 2.06.94-2.06 2.06-.94-2.06-.94-.94-2.06-.94 2.06-2.06.94z\"/><path d=\"M17.41 7.96l-1.37-1.37c-.4-.4-.92-.59-1.43-.59-.52 0-1.04.2-1.43.59L10.3 9.45l-7.72 7.72c-.78.78-.78 2.05 0 2.83L4 21.41c.39.39.9.59 1.41.59.51 0 1.02-.2 1.41-.59l7.78-7.78 2.81-2.81c.8-.78.8-2.07 0-2.86zM5.41 20L4 18.59l7.72-7.72 1.47 1.35L5.41 20z\"/>\n",
              "  </svg>\n",
              "      </button>\n",
              "      \n",
              "  <style>\n",
              "    .colab-df-container {\n",
              "      display:flex;\n",
              "      flex-wrap:wrap;\n",
              "      gap: 12px;\n",
              "    }\n",
              "\n",
              "    .colab-df-convert {\n",
              "      background-color: #E8F0FE;\n",
              "      border: none;\n",
              "      border-radius: 50%;\n",
              "      cursor: pointer;\n",
              "      display: none;\n",
              "      fill: #1967D2;\n",
              "      height: 32px;\n",
              "      padding: 0 0 0 0;\n",
              "      width: 32px;\n",
              "    }\n",
              "\n",
              "    .colab-df-convert:hover {\n",
              "      background-color: #E2EBFA;\n",
              "      box-shadow: 0px 1px 2px rgba(60, 64, 67, 0.3), 0px 1px 3px 1px rgba(60, 64, 67, 0.15);\n",
              "      fill: #174EA6;\n",
              "    }\n",
              "\n",
              "    [theme=dark] .colab-df-convert {\n",
              "      background-color: #3B4455;\n",
              "      fill: #D2E3FC;\n",
              "    }\n",
              "\n",
              "    [theme=dark] .colab-df-convert:hover {\n",
              "      background-color: #434B5C;\n",
              "      box-shadow: 0px 1px 3px 1px rgba(0, 0, 0, 0.15);\n",
              "      filter: drop-shadow(0px 1px 2px rgba(0, 0, 0, 0.3));\n",
              "      fill: #FFFFFF;\n",
              "    }\n",
              "  </style>\n",
              "\n",
              "      <script>\n",
              "        const buttonEl =\n",
              "          document.querySelector('#df-6124cbbd-bc69-48bc-bd02-7535a60def42 button.colab-df-convert');\n",
              "        buttonEl.style.display =\n",
              "          google.colab.kernel.accessAllowed ? 'block' : 'none';\n",
              "\n",
              "        async function convertToInteractive(key) {\n",
              "          const element = document.querySelector('#df-6124cbbd-bc69-48bc-bd02-7535a60def42');\n",
              "          const dataTable =\n",
              "            await google.colab.kernel.invokeFunction('convertToInteractive',\n",
              "                                                     [key], {});\n",
              "          if (!dataTable) return;\n",
              "\n",
              "          const docLinkHtml = 'Like what you see? Visit the ' +\n",
              "            '<a target=\"_blank\" href=https://colab.research.google.com/notebooks/data_table.ipynb>data table notebook</a>'\n",
              "            + ' to learn more about interactive tables.';\n",
              "          element.innerHTML = '';\n",
              "          dataTable['output_type'] = 'display_data';\n",
              "          await google.colab.output.renderOutput(dataTable, element);\n",
              "          const docLink = document.createElement('div');\n",
              "          docLink.innerHTML = docLinkHtml;\n",
              "          element.appendChild(docLink);\n",
              "        }\n",
              "      </script>\n",
              "    </div>\n",
              "  </div>\n",
              "  "
            ],
            "text/plain": [
              "                 pH            tm\n",
              "count  31104.000000  31390.000000\n",
              "mean       6.892339     49.147337\n",
              "std        1.612225     14.010089\n",
              "min        1.990000     -1.000000\n",
              "25%        7.000000     42.100000\n",
              "50%        7.000000     48.000000\n",
              "75%        7.000000     53.800000\n",
              "max       64.900000    130.000000"
            ]
          },
          "execution_count": 6,
          "metadata": {},
          "output_type": "execute_result"
        }
      ],
      "source": [
        "data.describe()"
      ]
    },
    {
      "cell_type": "code",
      "execution_count": null,
      "id": "Ys86Izd_Ua8m",
      "metadata": {
        "colab": {
          "base_uri": "https://localhost:8080/"
        },
        "id": "Ys86Izd_Ua8m",
        "outputId": "b83752ba-5c35-42c8-97f3-a22a14ebaf53"
      },
      "outputs": [
        {
          "name": "stdout",
          "output_type": "stream",
          "text": [
            "<class 'pandas.core.frame.DataFrame'>\n",
            "Int64Index: 31390 entries, 0 to 31389\n",
            "Data columns (total 4 columns):\n",
            " #   Column            Non-Null Count  Dtype  \n",
            "---  ------            --------------  -----  \n",
            " 0   protein_sequence  31390 non-null  object \n",
            " 1   pH                31104 non-null  float64\n",
            " 2   data_source       28043 non-null  object \n",
            " 3   tm                31390 non-null  float64\n",
            "dtypes: float64(2), object(2)\n",
            "memory usage: 1.2+ MB\n"
          ]
        }
      ],
      "source": [
        "data.info()"
      ]
    },
    {
      "cell_type": "code",
      "execution_count": null,
      "id": "W-oitXktUbBs",
      "metadata": {
        "colab": {
          "base_uri": "https://localhost:8080/",
          "height": 487
        },
        "id": "W-oitXktUbBs",
        "outputId": "2c095df2-f70e-485b-8d64-5f28f540774a"
      },
      "outputs": [
        {
          "data": {
            "image/png": "[encoded data removed]",
            "text/plain": [
              "<Figure size 800x500 with 1 Axes>"
            ]
          },
          "metadata": {},
          "output_type": "display_data"
        }
      ],
      "source": [
        "# Check target destribution\n",
        "\n",
        "import matplotlib.pyplot as plt\n",
        "import seaborn as sns\n",
        "\n",
        "plt.figure(figsize=(8, 5))\n",
        "sns.countplot(x=\"tm\", data=data[[\"tm\"]])\n",
        "plt.title('Target variable distribution')\n",
        "plt.show()"
      ]
    },
    {
      "cell_type": "markdown",
      "id": "mLFMmNVNW36q",
      "metadata": {
        "id": "mLFMmNVNW36q"
      },
      "source": [
        "**Outlier processing**"
      ]
    },
    {
      "cell_type": "code",
      "execution_count": null,
      "id": "0ta8xZHLUbDp",
      "metadata": {
        "id": "0ta8xZHLUbDp"
      },
      "outputs": [],
      "source": [
        "def outliers_number(df_in, param_name):\n",
        "    q1 = df_in[param_name].quantile(0.25)\n",
        "    q3 = df_in[param_name].quantile(0.75)\n",
        "    iqr = q3 - q1\n",
        "    boxplot_range = [q1 - 1.5 * iqr, q3 + 1.5 * iqr]\n",
        "    outliers = df_in[param_name].loc[(df_in[param_name] < boxplot_range[0]) | (df_in[param_name] > boxplot_range[1])]\n",
        "    n = len(outliers)\n",
        "    return n   \n",
        "\n",
        "\n",
        "def remove_outlier(df_in, params_names):\n",
        "    for param_name in params_names:\n",
        "        q1 = df_in[param_name].quantile(0.25)\n",
        "        q3 = df_in[param_name].quantile(0.75)\n",
        "        iqr = q3 - q1\n",
        "        boxplot_range = [q1 - 1.5 * iqr, q3 + 1.5 * iqr]\n",
        "        changed_data = df_in.loc[(df_in[param_name] >= boxplot_range[0]) & (df_in[param_name] <= boxplot_range[1])]\n",
        "    return changed_data\n",
        "\n",
        "\n",
        "def outliers_to_median(df_in, params_names):\n",
        "    for param_name in params_names:\n",
        "        q1 = df_in[param_name].quantile(0.25)\n",
        "        q3 = df_in[param_name].quantile(0.75)\n",
        "        iqr = q3 - q1\n",
        "        boxplot_range = [q1 - 1.5 * iqr, q3 + 1.5 * iqr]\n",
        "        new_condition = (df_in[param_name] < boxplot_range[0]) | (df_in[param_name] > boxplot_range[1])\n",
        "        feature_median = df_in[param_name].median()\n",
        "        df_in.loc[new_condition, param_name] = feature_median\n",
        "    return df_in\n",
        "  \n",
        "    \n",
        "def outliers_to_mean(df_in, params_names):\n",
        "    for param_name in params_names:\n",
        "        q1 = df_in[param_name].quantile(0.25)\n",
        "        q3 = df_in[param_name].quantile(0.75)\n",
        "        iqr = q3 - q1\n",
        "        boxplot_range = [q1 - 1.5 * iqr, q3 + 1.5 * iqr]\n",
        "        new_condition = (df_in[param_name] < boxplot_range[0]) | (df_in[param_name] > boxplot_range[1])\n",
        "        condition_mean = (df_in[param_name] >= boxplot_range[0]) | (df_in[param_name] <= boxplot_range[1])\n",
        "        feature_mean = df_in[param_name].mean()\n",
        "        df_in.loc[new_condition, param_name] = feature_mean\n",
        "    return df_in\n",
        "\n",
        "\n",
        "def outliers_clip(df_in, params_names):\n",
        "    for param_name in params_names:\n",
        "        q1 = df_in[param_name].quantile(0.25)\n",
        "        q3 = df_in[param_name].quantile(0.75)\n",
        "        iqr = q3 - q1\n",
        "        boxplot_range = [q1 - 1.5 * iqr, q3 + 1.5 * iqr]\n",
        "        condition_1 = (df_in[param_name] < boxplot_range[0]) \n",
        "        condition_2 = (df_in[param_name] > boxplot_range[1])\n",
        "        df_in.loc[condition_1, param_name] = boxplot_range[0]\n",
        "        df_in.loc[condition_1, param_name] = boxplot_range[1]\n",
        "    return df_in\n"
      ]
    },
    {
      "cell_type": "markdown",
      "id": "PtIoeCMogGna",
      "metadata": {
        "id": "PtIoeCMogGna"
      },
      "source": [
        "- outliers_number function calculates the number of outliers in the sample;\n",
        "- outliers_to_median function replaces outliers with median (takes dataset \n",
        "and the name of the feature by which outliers are determined as an input);\n",
        "- remove_outlier function removes outliers;\n",
        "- outliers_clip function acts like np.clip;\n",
        "- outliers_to_mean function replaces outliers with averages.\n",
        "\n",
        "The ends of the boxplot whiskers are calculated as the difference between the first quartile and one and a half interquartile distances and the sum of the third quartile and one and a half interquartile distances, respectively."
      ]
    },
    {
      "cell_type": "code",
      "execution_count": null,
      "id": "M2wxVzkbUbHp",
      "metadata": {
        "colab": {
          "base_uri": "https://localhost:8080/"
        },
        "id": "M2wxVzkbUbHp",
        "outputId": "bb2ea499-817a-43a4-d8e2-07216d217340"
      },
      "outputs": [
        {
          "name": "stdout",
          "output_type": "stream",
          "text": [
            "Outliers count for the pH feature: 4642\n"
          ]
        }
      ],
      "source": [
        "quantative_features = data.drop(columns=['tm']).select_dtypes(include=['float64', 'int64']).columns.tolist()\n",
        "for el in quantative_features:\n",
        "    print(f\"Outliers count for the {el} feature: {outliers_number(data, el)}\")"
      ]
    },
    {
      "cell_type": "markdown",
      "id": "J-uSslvPheue",
      "metadata": {
        "id": "J-uSslvPheue"
      },
      "source": [
        "As we can see there are quite a lot of outliers. There are several options to deal with them: for example, to leave unchanged, to delete such data, to change to something (median, mean or anything else), to make a clip (like in np.clip)."
      ]
    },
    {
      "cell_type": "code",
      "execution_count": null,
      "id": "Zn6_6rUgUbKm",
      "metadata": {
        "colab": {
          "base_uri": "https://localhost:8080/",
          "height": 523
        },
        "id": "Zn6_6rUgUbKm",
        "outputId": "2253c023-aeaf-4c68-b1a7-b2f342ca09dc"
      },
      "outputs": [
        {
          "data": {
            "text/plain": [
              "<seaborn.axisgrid.FacetGrid at 0x7f2e02cb2d70>"
            ]
          },
          "execution_count": 11,
          "metadata": {},
          "output_type": "execute_result"
        },
        {
          "data": {
            "image/png": "[encoded data removed]",
            "text/plain": [
              "<Figure size 500x500 with 1 Axes>"
            ]
          },
          "metadata": {},
          "output_type": "display_data"
        }
      ],
      "source": [
        "sns.displot(data=data[[\"pH\"]], x=\"pH\", kde=True)"
      ]
    },
    {
      "cell_type": "code",
      "execution_count": null,
      "id": "LRiSwz5wlU-z",
      "metadata": {
        "colab": {
          "base_uri": "https://localhost:8080/"
        },
        "id": "LRiSwz5wlU-z",
        "outputId": "da2d80c0-3d65-4c5c-d347-6d270eda72f9"
      },
      "outputs": [
        {
          "name": "stdout",
          "output_type": "stream",
          "text": [
            "q1: 7.0\n",
            "q3 7.0\n"
          ]
        },
        {
          "data": {
            "text/plain": [
              "[7.0, 7.0]"
            ]
          },
          "execution_count": 17,
          "metadata": {},
          "output_type": "execute_result"
        }
      ],
      "source": [
        "# look at (1 quartile - 1.5 IQR) and (3 quartile + 1.5 IQR) - the ends of the boxplot whiskers \n",
        "\n",
        "q1 = data[\"pH\"].quantile(0.25)\n",
        "print(\"q1:\", q1)\n",
        "q3 = data[\"pH\"].quantile(0.75)\n",
        "print(\"q3\", q3)\n",
        "iqr = q3 - q1\n",
        "boxplot_range = [q1 - 1.5 * iqr, q3 + 1.5 * iqr]\n",
        "boxplot_range"
      ]
    },
    {
      "cell_type": "markdown",
      "id": "y6wRYv68l2w6",
      "metadata": {
        "id": "y6wRYv68l2w6"
      },
      "source": [
        "So, all values except 7 are outliers.\n",
        "\n",
        "The distribution of the average pH-optimum of protein stability is almost Gaussian with a mean at about pH=7, while the distribution of the average pH-optimum of activity shows several peaks. Perhaps, such difference indicates that activity is more sensitive to pH changes, while structural integrity can better sustain pH fluctuations (https://www.ncbi.nlm.nih.gov/pmc/articles/PMC2911520/).\n",
        "\n",
        "It's makes total sence as most living organisms function at the optimal pH range of 6.5 to 8.5. Our blood has a normal pH range of 7.35 to 7.45.  "
      ]
    },
    {
      "cell_type": "code",
      "execution_count": null,
      "id": "8I009jzCkvFu",
      "metadata": {
        "colab": {
          "base_uri": "https://localhost:8080/",
          "height": 990
        },
        "id": "8I009jzCkvFu",
        "outputId": "b0d23728-9dba-4013-8ebb-98ab69d9bbeb"
      },
      "outputs": [
        {
          "data": {
            "text/html": [
              "\n",
              "  <div id=\"df-d613e701-d350-4eaa-b5e8-99e40b60dae2\">\n",
              "    <div class=\"colab-df-container\">\n",
              "      <div>\n",
              "<style scoped>\n",
              "    .dataframe tbody tr th:only-of-type {\n",
              "        vertical-align: middle;\n",
              "    }\n",
              "\n",
              "    .dataframe tbody tr th {\n",
              "        vertical-align: top;\n",
              "    }\n",
              "\n",
              "    .dataframe thead th {\n",
              "        text-align: right;\n",
              "    }\n",
              "</style>\n",
              "<table border=\"1\" class=\"dataframe\">\n",
              "  <thead>\n",
              "    <tr style=\"text-align: right;\">\n",
              "      <th></th>\n",
              "      <th>protein_sequence</th>\n",
              "      <th>pH</th>\n",
              "      <th>data_source</th>\n",
              "      <th>tm</th>\n",
              "    </tr>\n",
              "    <tr>\n",
              "      <th>seq_id</th>\n",
              "      <th></th>\n",
              "      <th></th>\n",
              "      <th></th>\n",
              "      <th></th>\n",
              "    </tr>\n",
              "  </thead>\n",
              "  <tbody>\n",
              "    <tr>\n",
              "      <th>973</th>\n",
              "      <td>DTSGTVCLSALPPEATDTLNLIASDGPFPYSQDGVVFQNRESVLPT...</td>\n",
              "      <td>48.4</td>\n",
              "      <td>NaN</td>\n",
              "      <td>7.0</td>\n",
              "    </tr>\n",
              "    <tr>\n",
              "      <th>986</th>\n",
              "      <td>DVSGTVCLSALPPEATDTLNLIASDGPFPYSQDGVTFQNRESVLPT...</td>\n",
              "      <td>48.4</td>\n",
              "      <td>NaN</td>\n",
              "      <td>7.0</td>\n",
              "    </tr>\n",
              "    <tr>\n",
              "      <th>988</th>\n",
              "      <td>DVSGTVCLSALPPEATDTLNLIASDGPFPYSQDGVVFANRESVLPT...</td>\n",
              "      <td>49.0</td>\n",
              "      <td>NaN</td>\n",
              "      <td>7.0</td>\n",
              "    </tr>\n",
              "    <tr>\n",
              "      <th>989</th>\n",
              "      <td>DVSGTVCLSALPPEATDTLNLIASDGPFPYSQDGVVFANRESVLPT...</td>\n",
              "      <td>55.6</td>\n",
              "      <td>NaN</td>\n",
              "      <td>5.5</td>\n",
              "    </tr>\n",
              "    <tr>\n",
              "      <th>1003</th>\n",
              "      <td>DVSGTVCLSALPPEATDTLNLIASDGPFPYSQDGVVFQNRESTLPT...</td>\n",
              "      <td>48.4</td>\n",
              "      <td>NaN</td>\n",
              "      <td>7.0</td>\n",
              "    </tr>\n",
              "    <tr>\n",
              "      <th>1012</th>\n",
              "      <td>DVSGTVCLSALPPEATDTLNLIASDGPFPYSQDGVVFQNRESVLPT...</td>\n",
              "      <td>48.4</td>\n",
              "      <td>NaN</td>\n",
              "      <td>7.0</td>\n",
              "    </tr>\n",
              "    <tr>\n",
              "      <th>1014</th>\n",
              "      <td>DVSGTVCLSALPPEATDTLNLIASDGPFPYSQDGVVFQNRESVLPT...</td>\n",
              "      <td>55.6</td>\n",
              "      <td>NaN</td>\n",
              "      <td>5.5</td>\n",
              "    </tr>\n",
              "    <tr>\n",
              "      <th>1018</th>\n",
              "      <td>DVSGTVCLSALPPEATDTLNLIASDGPFPYSQDGVVFQNRESVLPT...</td>\n",
              "      <td>49.0</td>\n",
              "      <td>NaN</td>\n",
              "      <td>7.0</td>\n",
              "    </tr>\n",
              "    <tr>\n",
              "      <th>1037</th>\n",
              "      <td>DVSGTVCLSALPPEATDTLNLIASDGPFPYSQDGVVFQNRESVLPT...</td>\n",
              "      <td>49.0</td>\n",
              "      <td>NaN</td>\n",
              "      <td>7.0</td>\n",
              "    </tr>\n",
              "    <tr>\n",
              "      <th>1042</th>\n",
              "      <td>DVSGTVCLSALPPEATDTLNLIASDGPFPYSQDGVVFQNRESVLPT...</td>\n",
              "      <td>48.4</td>\n",
              "      <td>NaN</td>\n",
              "      <td>7.0</td>\n",
              "    </tr>\n",
              "    <tr>\n",
              "      <th>1079</th>\n",
              "      <td>DVSGTVCLSALPPEATDTLNLIASDGPFPYSQDGVVFQNRESVLPT...</td>\n",
              "      <td>55.6</td>\n",
              "      <td>NaN</td>\n",
              "      <td>5.5</td>\n",
              "    </tr>\n",
              "    <tr>\n",
              "      <th>1081</th>\n",
              "      <td>DVSGTVCLSALPPEATDTLNLIASDGPFPYSQDGVVFQNRESVLPT...</td>\n",
              "      <td>49.0</td>\n",
              "      <td>NaN</td>\n",
              "      <td>7.0</td>\n",
              "    </tr>\n",
              "    <tr>\n",
              "      <th>1088</th>\n",
              "      <td>DVSGTVCLSALPPEATDTLNLIASDGPFPYSQDGVVFQNRESVLPT...</td>\n",
              "      <td>48.4</td>\n",
              "      <td>NaN</td>\n",
              "      <td>7.0</td>\n",
              "    </tr>\n",
              "    <tr>\n",
              "      <th>1093</th>\n",
              "      <td>DVSGTVCLSALPPEATDTLNLIASDGPFPYSQDGVVFQNRESVLPT...</td>\n",
              "      <td>48.4</td>\n",
              "      <td>NaN</td>\n",
              "      <td>7.0</td>\n",
              "    </tr>\n",
              "    <tr>\n",
              "      <th>1096</th>\n",
              "      <td>DVSGTVCLSALPPEATDTLNLIASDGPFPYSQDGVVFQNRESVLPT...</td>\n",
              "      <td>48.4</td>\n",
              "      <td>NaN</td>\n",
              "      <td>7.0</td>\n",
              "    </tr>\n",
              "    <tr>\n",
              "      <th>1098</th>\n",
              "      <td>DVSGTVCLSALPPEATDTLNLIASDGPFPYSQDGVVFQNRESVLPT...</td>\n",
              "      <td>48.4</td>\n",
              "      <td>NaN</td>\n",
              "      <td>7.0</td>\n",
              "    </tr>\n",
              "    <tr>\n",
              "      <th>1100</th>\n",
              "      <td>DVSGTVCLSALPPEATDTLNLIASDGPFPYSQDGVVFQNRESVLPT...</td>\n",
              "      <td>55.6</td>\n",
              "      <td>NaN</td>\n",
              "      <td>5.5</td>\n",
              "    </tr>\n",
              "    <tr>\n",
              "      <th>1108</th>\n",
              "      <td>DVSGTVCLSALPPEATDTLNLIASDGPFPYSQDGVVFQNRKSVLPT...</td>\n",
              "      <td>49.0</td>\n",
              "      <td>NaN</td>\n",
              "      <td>7.0</td>\n",
              "    </tr>\n",
              "    <tr>\n",
              "      <th>1111</th>\n",
              "      <td>DVSGTVCLSALPPEATDTLNLIASDGPFPYSQDGVVFQNRKSVLPT...</td>\n",
              "      <td>55.6</td>\n",
              "      <td>NaN</td>\n",
              "      <td>5.5</td>\n",
              "    </tr>\n",
              "    <tr>\n",
              "      <th>1120</th>\n",
              "      <td>DVSGTVCLSALPPEATDVLNLIASDGPFPYSQDGVVFQNRESVLPT...</td>\n",
              "      <td>48.4</td>\n",
              "      <td>NaN</td>\n",
              "      <td>7.0</td>\n",
              "    </tr>\n",
              "    <tr>\n",
              "      <th>1122</th>\n",
              "      <td>DVSGTVCLSALPPEAVDTLNLIASDGPFPYSQDGVVFQNRESVLPT...</td>\n",
              "      <td>48.4</td>\n",
              "      <td>NaN</td>\n",
              "      <td>7.0</td>\n",
              "    </tr>\n",
              "    <tr>\n",
              "      <th>1125</th>\n",
              "      <td>DVSGVVCLSALPPEATDTLNLIASDGPFPYSQDGVVFQNRESVLPT...</td>\n",
              "      <td>48.4</td>\n",
              "      <td>NaN</td>\n",
              "      <td>7.0</td>\n",
              "    </tr>\n",
              "    <tr>\n",
              "      <th>13447</th>\n",
              "      <td>MKALIVLGLVLLSVTVQGKVFERCELARTLKRLGMDGYRGISLANW...</td>\n",
              "      <td>64.9</td>\n",
              "      <td>NaN</td>\n",
              "      <td>0.2</td>\n",
              "    </tr>\n",
              "    <tr>\n",
              "      <th>13449</th>\n",
              "      <td>MKALIVLGLVLLSVTVQGKVFERCELARTLKRLGMDGYRGISLANW...</td>\n",
              "      <td>64.9</td>\n",
              "      <td>NaN</td>\n",
              "      <td>0.1</td>\n",
              "    </tr>\n",
              "    <tr>\n",
              "      <th>14640</th>\n",
              "      <td>MKMSRLCLSVALLVLLGTLAASTPGCDTSNQAKAQRPDFCLEPPYT...</td>\n",
              "      <td>39.0</td>\n",
              "      <td>NaN</td>\n",
              "      <td>0.0</td>\n",
              "    </tr>\n",
              "    <tr>\n",
              "      <th>22116</th>\n",
              "      <td>MRNTGAGPSPSVSRPPPSAAPLSGAALAAPGDAPSALYAPSALVLT...</td>\n",
              "      <td>53.4</td>\n",
              "      <td>NaN</td>\n",
              "      <td>0.1</td>\n",
              "    </tr>\n",
              "    <tr>\n",
              "      <th>22123</th>\n",
              "      <td>MRNTGAGPSPSVSRPPPSAAPLSGAALAAPGDAPSALYAPSALVLT...</td>\n",
              "      <td>53.4</td>\n",
              "      <td>NaN</td>\n",
              "      <td>1.2</td>\n",
              "    </tr>\n",
              "    <tr>\n",
              "      <th>22131</th>\n",
              "      <td>MRNTGAGPSPSVSRPPPSAAPLSGAALAAPGDAPSALYAPSALVLT...</td>\n",
              "      <td>53.4</td>\n",
              "      <td>NaN</td>\n",
              "      <td>0.6</td>\n",
              "    </tr>\n",
              "    <tr>\n",
              "      <th>22145</th>\n",
              "      <td>MRNTGAGPSPSVSRPPPSAAPLSGAALAAPGDAPSALYAPSALVLT...</td>\n",
              "      <td>53.4</td>\n",
              "      <td>NaN</td>\n",
              "      <td>0.1</td>\n",
              "    </tr>\n",
              "  </tbody>\n",
              "</table>\n",
              "</div>\n",
              "      <button class=\"colab-df-convert\" onclick=\"convertToInteractive('df-d613e701-d350-4eaa-b5e8-99e40b60dae2')\"\n",
              "              title=\"Convert this dataframe to an interactive table.\"\n",
              "              style=\"display:none;\">\n",
              "        \n",
              "  <svg xmlns=\"http://www.w3.org/2000/svg\" height=\"24px\"viewBox=\"0 0 24 24\"\n",
              "       width=\"24px\">\n",
              "    <path d=\"M0 0h24v24H0V0z\" fill=\"none\"/>\n",
              "    <path d=\"M18.56 5.44l.94 2.06.94-2.06 2.06-.94-2.06-.94-.94-2.06-.94 2.06-2.06.94zm-11 1L8.5 8.5l.94-2.06 2.06-.94-2.06-.94L8.5 2.5l-.94 2.06-2.06.94zm10 10l.94 2.06.94-2.06 2.06-.94-2.06-.94-.94-2.06-.94 2.06-2.06.94z\"/><path d=\"M17.41 7.96l-1.37-1.37c-.4-.4-.92-.59-1.43-.59-.52 0-1.04.2-1.43.59L10.3 9.45l-7.72 7.72c-.78.78-.78 2.05 0 2.83L4 21.41c.39.39.9.59 1.41.59.51 0 1.02-.2 1.41-.59l7.78-7.78 2.81-2.81c.8-.78.8-2.07 0-2.86zM5.41 20L4 18.59l7.72-7.72 1.47 1.35L5.41 20z\"/>\n",
              "  </svg>\n",
              "      </button>\n",
              "      \n",
              "  <style>\n",
              "    .colab-df-container {\n",
              "      display:flex;\n",
              "      flex-wrap:wrap;\n",
              "      gap: 12px;\n",
              "    }\n",
              "\n",
              "    .colab-df-convert {\n",
              "      background-color: #E8F0FE;\n",
              "      border: none;\n",
              "      border-radius: 50%;\n",
              "      cursor: pointer;\n",
              "      display: none;\n",
              "      fill: #1967D2;\n",
              "      height: 32px;\n",
              "      padding: 0 0 0 0;\n",
              "      width: 32px;\n",
              "    }\n",
              "\n",
              "    .colab-df-convert:hover {\n",
              "      background-color: #E2EBFA;\n",
              "      box-shadow: 0px 1px 2px rgba(60, 64, 67, 0.3), 0px 1px 3px 1px rgba(60, 64, 67, 0.15);\n",
              "      fill: #174EA6;\n",
              "    }\n",
              "\n",
              "    [theme=dark] .colab-df-convert {\n",
              "      background-color: #3B4455;\n",
              "      fill: #D2E3FC;\n",
              "    }\n",
              "\n",
              "    [theme=dark] .colab-df-convert:hover {\n",
              "      background-color: #434B5C;\n",
              "      box-shadow: 0px 1px 3px 1px rgba(0, 0, 0, 0.15);\n",
              "      filter: drop-shadow(0px 1px 2px rgba(0, 0, 0, 0.3));\n",
              "      fill: #FFFFFF;\n",
              "    }\n",
              "  </style>\n",
              "\n",
              "      <script>\n",
              "        const buttonEl =\n",
              "          document.querySelector('#df-d613e701-d350-4eaa-b5e8-99e40b60dae2 button.colab-df-convert');\n",
              "        buttonEl.style.display =\n",
              "          google.colab.kernel.accessAllowed ? 'block' : 'none';\n",
              "\n",
              "        async function convertToInteractive(key) {\n",
              "          const element = document.querySelector('#df-d613e701-d350-4eaa-b5e8-99e40b60dae2');\n",
              "          const dataTable =\n",
              "            await google.colab.kernel.invokeFunction('convertToInteractive',\n",
              "                                                     [key], {});\n",
              "          if (!dataTable) return;\n",
              "\n",
              "          const docLinkHtml = 'Like what you see? Visit the ' +\n",
              "            '<a target=\"_blank\" href=https://colab.research.google.com/notebooks/data_table.ipynb>data table notebook</a>'\n",
              "            + ' to learn more about interactive tables.';\n",
              "          element.innerHTML = '';\n",
              "          dataTable['output_type'] = 'display_data';\n",
              "          await google.colab.output.renderOutput(dataTable, element);\n",
              "          const docLink = document.createElement('div');\n",
              "          docLink.innerHTML = docLinkHtml;\n",
              "          element.appendChild(docLink);\n",
              "        }\n",
              "      </script>\n",
              "    </div>\n",
              "  </div>\n",
              "  "
            ],
            "text/plain": [
              "                                         protein_sequence    pH data_source  \\\n",
              "seq_id                                                                        \n",
              "973     DTSGTVCLSALPPEATDTLNLIASDGPFPYSQDGVVFQNRESVLPT...  48.4         NaN   \n",
              "986     DVSGTVCLSALPPEATDTLNLIASDGPFPYSQDGVTFQNRESVLPT...  48.4         NaN   \n",
              "988     DVSGTVCLSALPPEATDTLNLIASDGPFPYSQDGVVFANRESVLPT...  49.0         NaN   \n",
              "989     DVSGTVCLSALPPEATDTLNLIASDGPFPYSQDGVVFANRESVLPT...  55.6         NaN   \n",
              "1003    DVSGTVCLSALPPEATDTLNLIASDGPFPYSQDGVVFQNRESTLPT...  48.4         NaN   \n",
              "1012    DVSGTVCLSALPPEATDTLNLIASDGPFPYSQDGVVFQNRESVLPT...  48.4         NaN   \n",
              "1014    DVSGTVCLSALPPEATDTLNLIASDGPFPYSQDGVVFQNRESVLPT...  55.6         NaN   \n",
              "1018    DVSGTVCLSALPPEATDTLNLIASDGPFPYSQDGVVFQNRESVLPT...  49.0         NaN   \n",
              "1037    DVSGTVCLSALPPEATDTLNLIASDGPFPYSQDGVVFQNRESVLPT...  49.0         NaN   \n",
              "1042    DVSGTVCLSALPPEATDTLNLIASDGPFPYSQDGVVFQNRESVLPT...  48.4         NaN   \n",
              "1079    DVSGTVCLSALPPEATDTLNLIASDGPFPYSQDGVVFQNRESVLPT...  55.6         NaN   \n",
              "1081    DVSGTVCLSALPPEATDTLNLIASDGPFPYSQDGVVFQNRESVLPT...  49.0         NaN   \n",
              "1088    DVSGTVCLSALPPEATDTLNLIASDGPFPYSQDGVVFQNRESVLPT...  48.4         NaN   \n",
              "1093    DVSGTVCLSALPPEATDTLNLIASDGPFPYSQDGVVFQNRESVLPT...  48.4         NaN   \n",
              "1096    DVSGTVCLSALPPEATDTLNLIASDGPFPYSQDGVVFQNRESVLPT...  48.4         NaN   \n",
              "1098    DVSGTVCLSALPPEATDTLNLIASDGPFPYSQDGVVFQNRESVLPT...  48.4         NaN   \n",
              "1100    DVSGTVCLSALPPEATDTLNLIASDGPFPYSQDGVVFQNRESVLPT...  55.6         NaN   \n",
              "1108    DVSGTVCLSALPPEATDTLNLIASDGPFPYSQDGVVFQNRKSVLPT...  49.0         NaN   \n",
              "1111    DVSGTVCLSALPPEATDTLNLIASDGPFPYSQDGVVFQNRKSVLPT...  55.6         NaN   \n",
              "1120    DVSGTVCLSALPPEATDVLNLIASDGPFPYSQDGVVFQNRESVLPT...  48.4         NaN   \n",
              "1122    DVSGTVCLSALPPEAVDTLNLIASDGPFPYSQDGVVFQNRESVLPT...  48.4         NaN   \n",
              "1125    DVSGVVCLSALPPEATDTLNLIASDGPFPYSQDGVVFQNRESVLPT...  48.4         NaN   \n",
              "13447   MKALIVLGLVLLSVTVQGKVFERCELARTLKRLGMDGYRGISLANW...  64.9         NaN   \n",
              "13449   MKALIVLGLVLLSVTVQGKVFERCELARTLKRLGMDGYRGISLANW...  64.9         NaN   \n",
              "14640   MKMSRLCLSVALLVLLGTLAASTPGCDTSNQAKAQRPDFCLEPPYT...  39.0         NaN   \n",
              "22116   MRNTGAGPSPSVSRPPPSAAPLSGAALAAPGDAPSALYAPSALVLT...  53.4         NaN   \n",
              "22123   MRNTGAGPSPSVSRPPPSAAPLSGAALAAPGDAPSALYAPSALVLT...  53.4         NaN   \n",
              "22131   MRNTGAGPSPSVSRPPPSAAPLSGAALAAPGDAPSALYAPSALVLT...  53.4         NaN   \n",
              "22145   MRNTGAGPSPSVSRPPPSAAPLSGAALAAPGDAPSALYAPSALVLT...  53.4         NaN   \n",
              "\n",
              "         tm  \n",
              "seq_id       \n",
              "973     7.0  \n",
              "986     7.0  \n",
              "988     7.0  \n",
              "989     5.5  \n",
              "1003    7.0  \n",
              "1012    7.0  \n",
              "1014    5.5  \n",
              "1018    7.0  \n",
              "1037    7.0  \n",
              "1042    7.0  \n",
              "1079    5.5  \n",
              "1081    7.0  \n",
              "1088    7.0  \n",
              "1093    7.0  \n",
              "1096    7.0  \n",
              "1098    7.0  \n",
              "1100    5.5  \n",
              "1108    7.0  \n",
              "1111    5.5  \n",
              "1120    7.0  \n",
              "1122    7.0  \n",
              "1125    7.0  \n",
              "13447   0.2  \n",
              "13449   0.1  \n",
              "14640   0.0  \n",
              "22116   0.1  \n",
              "22123   1.2  \n",
              "22131   0.6  \n",
              "22145   0.1  "
            ]
          },
          "execution_count": 18,
          "metadata": {},
          "output_type": "execute_result"
        }
      ],
      "source": [
        "# let's look at rows with ph values > 14 as tese are abnormal\n",
        "\n",
        "data[data[\"pH\"] > 14]"
      ]
    },
    {
      "cell_type": "code",
      "execution_count": null,
      "id": "IlgFzM46sPDU",
      "metadata": {
        "colab": {
          "base_uri": "https://localhost:8080/"
        },
        "id": "IlgFzM46sPDU",
        "outputId": "23d3b6b6-03d3-4e2e-c7df-f745f473808c"
      },
      "outputs": [
        {
          "data": {
            "text/plain": [
              "(29, 4)"
            ]
          },
          "execution_count": 19,
          "metadata": {},
          "output_type": "execute_result"
        }
      ],
      "source": [
        "data[data[\"pH\"] > 14].shape"
      ]
    },
    {
      "cell_type": "code",
      "execution_count": null,
      "id": "y5VxaahzstJy",
      "metadata": {
        "id": "y5VxaahzstJy"
      },
      "outputs": [],
      "source": [
        "# let's remove them\n",
        "\n",
        "data = data[data[\"pH\"] < 14]"
      ]
    },
    {
      "cell_type": "code",
      "execution_count": null,
      "id": "qBN99uqLtkj8",
      "metadata": {
        "colab": {
          "base_uri": "https://localhost:8080/",
          "height": 81
        },
        "id": "qBN99uqLtkj8",
        "outputId": "218a6ecc-e485-4480-cf49-4a54745211a6"
      },
      "outputs": [
        {
          "data": {
            "text/html": [
              "\n",
              "  <div id=\"df-da4c25cd-29ea-4b87-a84a-12308b404b0c\">\n",
              "    <div class=\"colab-df-container\">\n",
              "      <div>\n",
              "<style scoped>\n",
              "    .dataframe tbody tr th:only-of-type {\n",
              "        vertical-align: middle;\n",
              "    }\n",
              "\n",
              "    .dataframe tbody tr th {\n",
              "        vertical-align: top;\n",
              "    }\n",
              "\n",
              "    .dataframe thead th {\n",
              "        text-align: right;\n",
              "    }\n",
              "</style>\n",
              "<table border=\"1\" class=\"dataframe\">\n",
              "  <thead>\n",
              "    <tr style=\"text-align: right;\">\n",
              "      <th></th>\n",
              "      <th>protein_sequence</th>\n",
              "      <th>pH</th>\n",
              "      <th>data_source</th>\n",
              "      <th>tm</th>\n",
              "    </tr>\n",
              "    <tr>\n",
              "      <th>seq_id</th>\n",
              "      <th></th>\n",
              "      <th></th>\n",
              "      <th></th>\n",
              "      <th></th>\n",
              "    </tr>\n",
              "  </thead>\n",
              "  <tbody>\n",
              "  </tbody>\n",
              "</table>\n",
              "</div>\n",
              "      <button class=\"colab-df-convert\" onclick=\"convertToInteractive('df-da4c25cd-29ea-4b87-a84a-12308b404b0c')\"\n",
              "              title=\"Convert this dataframe to an interactive table.\"\n",
              "              style=\"display:none;\">\n",
              "        \n",
              "  <svg xmlns=\"http://www.w3.org/2000/svg\" height=\"24px\"viewBox=\"0 0 24 24\"\n",
              "       width=\"24px\">\n",
              "    <path d=\"M0 0h24v24H0V0z\" fill=\"none\"/>\n",
              "    <path d=\"M18.56 5.44l.94 2.06.94-2.06 2.06-.94-2.06-.94-.94-2.06-.94 2.06-2.06.94zm-11 1L8.5 8.5l.94-2.06 2.06-.94-2.06-.94L8.5 2.5l-.94 2.06-2.06.94zm10 10l.94 2.06.94-2.06 2.06-.94-2.06-.94-.94-2.06-.94 2.06-2.06.94z\"/><path d=\"M17.41 7.96l-1.37-1.37c-.4-.4-.92-.59-1.43-.59-.52 0-1.04.2-1.43.59L10.3 9.45l-7.72 7.72c-.78.78-.78 2.05 0 2.83L4 21.41c.39.39.9.59 1.41.59.51 0 1.02-.2 1.41-.59l7.78-7.78 2.81-2.81c.8-.78.8-2.07 0-2.86zM5.41 20L4 18.59l7.72-7.72 1.47 1.35L5.41 20z\"/>\n",
              "  </svg>\n",
              "      </button>\n",
              "      \n",
              "  <style>\n",
              "    .colab-df-container {\n",
              "      display:flex;\n",
              "      flex-wrap:wrap;\n",
              "      gap: 12px;\n",
              "    }\n",
              "\n",
              "    .colab-df-convert {\n",
              "      background-color: #E8F0FE;\n",
              "      border: none;\n",
              "      border-radius: 50%;\n",
              "      cursor: pointer;\n",
              "      display: none;\n",
              "      fill: #1967D2;\n",
              "      height: 32px;\n",
              "      padding: 0 0 0 0;\n",
              "      width: 32px;\n",
              "    }\n",
              "\n",
              "    .colab-df-convert:hover {\n",
              "      background-color: #E2EBFA;\n",
              "      box-shadow: 0px 1px 2px rgba(60, 64, 67, 0.3), 0px 1px 3px 1px rgba(60, 64, 67, 0.15);\n",
              "      fill: #174EA6;\n",
              "    }\n",
              "\n",
              "    [theme=dark] .colab-df-convert {\n",
              "      background-color: #3B4455;\n",
              "      fill: #D2E3FC;\n",
              "    }\n",
              "\n",
              "    [theme=dark] .colab-df-convert:hover {\n",
              "      background-color: #434B5C;\n",
              "      box-shadow: 0px 1px 3px 1px rgba(0, 0, 0, 0.15);\n",
              "      filter: drop-shadow(0px 1px 2px rgba(0, 0, 0, 0.3));\n",
              "      fill: #FFFFFF;\n",
              "    }\n",
              "  </style>\n",
              "\n",
              "      <script>\n",
              "        const buttonEl =\n",
              "          document.querySelector('#df-da4c25cd-29ea-4b87-a84a-12308b404b0c button.colab-df-convert');\n",
              "        buttonEl.style.display =\n",
              "          google.colab.kernel.accessAllowed ? 'block' : 'none';\n",
              "\n",
              "        async function convertToInteractive(key) {\n",
              "          const element = document.querySelector('#df-da4c25cd-29ea-4b87-a84a-12308b404b0c');\n",
              "          const dataTable =\n",
              "            await google.colab.kernel.invokeFunction('convertToInteractive',\n",
              "                                                     [key], {});\n",
              "          if (!dataTable) return;\n",
              "\n",
              "          const docLinkHtml = 'Like what you see? Visit the ' +\n",
              "            '<a target=\"_blank\" href=https://colab.research.google.com/notebooks/data_table.ipynb>data table notebook</a>'\n",
              "            + ' to learn more about interactive tables.';\n",
              "          element.innerHTML = '';\n",
              "          dataTable['output_type'] = 'display_data';\n",
              "          await google.colab.output.renderOutput(dataTable, element);\n",
              "          const docLink = document.createElement('div');\n",
              "          docLink.innerHTML = docLinkHtml;\n",
              "          element.appendChild(docLink);\n",
              "        }\n",
              "      </script>\n",
              "    </div>\n",
              "  </div>\n",
              "  "
            ],
            "text/plain": [
              "Empty DataFrame\n",
              "Columns: [protein_sequence, pH, data_source, tm]\n",
              "Index: []"
            ]
          },
          "execution_count": 21,
          "metadata": {},
          "output_type": "execute_result"
        }
      ],
      "source": [
        "data[data[\"pH\"] > 14]"
      ]
    },
    {
      "cell_type": "code",
      "execution_count": null,
      "id": "Lvk3u52T4H1y",
      "metadata": {
        "colab": {
          "base_uri": "https://localhost:8080/"
        },
        "id": "Lvk3u52T4H1y",
        "outputId": "59b7f5c8-6046-47d2-b76f-60eddde56626"
      },
      "outputs": [
        {
          "data": {
            "text/plain": [
              "(31075, 4)"
            ]
          },
          "execution_count": 22,
          "metadata": {},
          "output_type": "execute_result"
        }
      ],
      "source": [
        "data.shape"
      ]
    },
    {
      "cell_type": "markdown",
      "id": "BYOEPhhyuKv7",
      "metadata": {
        "id": "BYOEPhhyuKv7"
      },
      "source": [
        "**Handle the NaN values**"
      ]
    },
    {
      "cell_type": "code",
      "execution_count": null,
      "id": "RbEqtUT7tpNd",
      "metadata": {
        "colab": {
          "base_uri": "https://localhost:8080/"
        },
        "id": "RbEqtUT7tpNd",
        "outputId": "f2f065bf-286c-4441-c40d-8f1ed6e8764e"
      },
      "outputs": [
        {
          "name": "stdout",
          "output_type": "stream",
          "text": [
            "NaN count in protein_sequence: 0\n",
            "NaN count in pH: 0\n",
            "NaN count in data_source: 3306\n",
            "NaN count in tm: 0\n"
          ]
        }
      ],
      "source": [
        "# Let's look how many of NaN we have\n",
        "\n",
        "for feature in data.columns:\n",
        "    print(f\"NaN count in {feature}: {data[feature].isna().sum()}\")"
      ]
    },
    {
      "cell_type": "markdown",
      "id": "irLyOtulvCBt",
      "metadata": {
        "id": "irLyOtulvCBt"
      },
      "source": [
        "The data_source feature is not important - we can delete it."
      ]
    },
    {
      "cell_type": "code",
      "execution_count": null,
      "id": "hexU8Ag5tpP9",
      "metadata": {
        "colab": {
          "base_uri": "https://localhost:8080/",
          "height": 455
        },
        "id": "hexU8Ag5tpP9",
        "outputId": "e0650e9d-cb3d-4086-e6bd-433b73e7c027"
      },
      "outputs": [
        {
          "data": {
            "text/html": [
              "\n",
              "  <div id=\"df-cf845d48-5c41-4dde-a0a6-982d432135ac\">\n",
              "    <div class=\"colab-df-container\">\n",
              "      <div>\n",
              "<style scoped>\n",
              "    .dataframe tbody tr th:only-of-type {\n",
              "        vertical-align: middle;\n",
              "    }\n",
              "\n",
              "    .dataframe tbody tr th {\n",
              "        vertical-align: top;\n",
              "    }\n",
              "\n",
              "    .dataframe thead th {\n",
              "        text-align: right;\n",
              "    }\n",
              "</style>\n",
              "<table border=\"1\" class=\"dataframe\">\n",
              "  <thead>\n",
              "    <tr style=\"text-align: right;\">\n",
              "      <th></th>\n",
              "      <th>protein_sequence</th>\n",
              "      <th>pH</th>\n",
              "      <th>tm</th>\n",
              "    </tr>\n",
              "    <tr>\n",
              "      <th>seq_id</th>\n",
              "      <th></th>\n",
              "      <th></th>\n",
              "      <th></th>\n",
              "    </tr>\n",
              "  </thead>\n",
              "  <tbody>\n",
              "    <tr>\n",
              "      <th>0</th>\n",
              "      <td>AAAAKAAALALLGEAPEVVDIWLPAGWRQPFRVFRLERKGDGVLVG...</td>\n",
              "      <td>7.0</td>\n",
              "      <td>75.7</td>\n",
              "    </tr>\n",
              "    <tr>\n",
              "      <th>1</th>\n",
              "      <td>AAADGEPLHNEEERAGAGQVGRSLPQESEEQRTGSRPRRRRDLGSR...</td>\n",
              "      <td>7.0</td>\n",
              "      <td>50.5</td>\n",
              "    </tr>\n",
              "    <tr>\n",
              "      <th>2</th>\n",
              "      <td>AAAFSTPRATSYRILSSAGSGSTRADAPQVRRLHTTRDLLAKDYYA...</td>\n",
              "      <td>7.0</td>\n",
              "      <td>40.5</td>\n",
              "    </tr>\n",
              "    <tr>\n",
              "      <th>3</th>\n",
              "      <td>AAASGLRTAIPAQPLRHLLQPAPRPCLRPFGLLSVRAGSARRSGLL...</td>\n",
              "      <td>7.0</td>\n",
              "      <td>47.2</td>\n",
              "    </tr>\n",
              "    <tr>\n",
              "      <th>4</th>\n",
              "      <td>AAATKSGPRRQSQGASVRTFTPFYFLVEPVDTLSVRGSSVILNCSA...</td>\n",
              "      <td>7.0</td>\n",
              "      <td>49.5</td>\n",
              "    </tr>\n",
              "    <tr>\n",
              "      <th>...</th>\n",
              "      <td>...</td>\n",
              "      <td>...</td>\n",
              "      <td>...</td>\n",
              "    </tr>\n",
              "    <tr>\n",
              "      <th>31385</th>\n",
              "      <td>YYMYSGGGSALAAGGGGAGRKGDWNDIDSIKKKDLHHSRGDEKAQG...</td>\n",
              "      <td>7.0</td>\n",
              "      <td>51.8</td>\n",
              "    </tr>\n",
              "    <tr>\n",
              "      <th>31386</th>\n",
              "      <td>YYNDQHRLSSYSVETAMFLSWERAIVKPGAMFKKAVIGFNCNVDLI...</td>\n",
              "      <td>7.0</td>\n",
              "      <td>37.2</td>\n",
              "    </tr>\n",
              "    <tr>\n",
              "      <th>31387</th>\n",
              "      <td>YYQRTLGAELLYKISFGEMPKSAQDSAENCPSGMQFPDTAIAHANV...</td>\n",
              "      <td>7.0</td>\n",
              "      <td>64.6</td>\n",
              "    </tr>\n",
              "    <tr>\n",
              "      <th>31388</th>\n",
              "      <td>YYSFSDNITTVFLSRQAIDDDHSLSLGTISDVVESENGVVAADDAR...</td>\n",
              "      <td>7.0</td>\n",
              "      <td>50.7</td>\n",
              "    </tr>\n",
              "    <tr>\n",
              "      <th>31389</th>\n",
              "      <td>YYVPDEYWQSLEVAHKLTFGYGYLTWEWVQGIRSYVYPLLIAGLYK...</td>\n",
              "      <td>7.0</td>\n",
              "      <td>37.6</td>\n",
              "    </tr>\n",
              "  </tbody>\n",
              "</table>\n",
              "<p>31075 rows × 3 columns</p>\n",
              "</div>\n",
              "      <button class=\"colab-df-convert\" onclick=\"convertToInteractive('df-cf845d48-5c41-4dde-a0a6-982d432135ac')\"\n",
              "              title=\"Convert this dataframe to an interactive table.\"\n",
              "              style=\"display:none;\">\n",
              "        \n",
              "  <svg xmlns=\"http://www.w3.org/2000/svg\" height=\"24px\"viewBox=\"0 0 24 24\"\n",
              "       width=\"24px\">\n",
              "    <path d=\"M0 0h24v24H0V0z\" fill=\"none\"/>\n",
              "    <path d=\"M18.56 5.44l.94 2.06.94-2.06 2.06-.94-2.06-.94-.94-2.06-.94 2.06-2.06.94zm-11 1L8.5 8.5l.94-2.06 2.06-.94-2.06-.94L8.5 2.5l-.94 2.06-2.06.94zm10 10l.94 2.06.94-2.06 2.06-.94-2.06-.94-.94-2.06-.94 2.06-2.06.94z\"/><path d=\"M17.41 7.96l-1.37-1.37c-.4-.4-.92-.59-1.43-.59-.52 0-1.04.2-1.43.59L10.3 9.45l-7.72 7.72c-.78.78-.78 2.05 0 2.83L4 21.41c.39.39.9.59 1.41.59.51 0 1.02-.2 1.41-.59l7.78-7.78 2.81-2.81c.8-.78.8-2.07 0-2.86zM5.41 20L4 18.59l7.72-7.72 1.47 1.35L5.41 20z\"/>\n",
              "  </svg>\n",
              "      </button>\n",
              "      \n",
              "  <style>\n",
              "    .colab-df-container {\n",
              "      display:flex;\n",
              "      flex-wrap:wrap;\n",
              "      gap: 12px;\n",
              "    }\n",
              "\n",
              "    .colab-df-convert {\n",
              "      background-color: #E8F0FE;\n",
              "      border: none;\n",
              "      border-radius: 50%;\n",
              "      cursor: pointer;\n",
              "      display: none;\n",
              "      fill: #1967D2;\n",
              "      height: 32px;\n",
              "      padding: 0 0 0 0;\n",
              "      width: 32px;\n",
              "    }\n",
              "\n",
              "    .colab-df-convert:hover {\n",
              "      background-color: #E2EBFA;\n",
              "      box-shadow: 0px 1px 2px rgba(60, 64, 67, 0.3), 0px 1px 3px 1px rgba(60, 64, 67, 0.15);\n",
              "      fill: #174EA6;\n",
              "    }\n",
              "\n",
              "    [theme=dark] .colab-df-convert {\n",
              "      background-color: #3B4455;\n",
              "      fill: #D2E3FC;\n",
              "    }\n",
              "\n",
              "    [theme=dark] .colab-df-convert:hover {\n",
              "      background-color: #434B5C;\n",
              "      box-shadow: 0px 1px 3px 1px rgba(0, 0, 0, 0.15);\n",
              "      filter: drop-shadow(0px 1px 2px rgba(0, 0, 0, 0.3));\n",
              "      fill: #FFFFFF;\n",
              "    }\n",
              "  </style>\n",
              "\n",
              "      <script>\n",
              "        const buttonEl =\n",
              "          document.querySelector('#df-cf845d48-5c41-4dde-a0a6-982d432135ac button.colab-df-convert');\n",
              "        buttonEl.style.display =\n",
              "          google.colab.kernel.accessAllowed ? 'block' : 'none';\n",
              "\n",
              "        async function convertToInteractive(key) {\n",
              "          const element = document.querySelector('#df-cf845d48-5c41-4dde-a0a6-982d432135ac');\n",
              "          const dataTable =\n",
              "            await google.colab.kernel.invokeFunction('convertToInteractive',\n",
              "                                                     [key], {});\n",
              "          if (!dataTable) return;\n",
              "\n",
              "          const docLinkHtml = 'Like what you see? Visit the ' +\n",
              "            '<a target=\"_blank\" href=https://colab.research.google.com/notebooks/data_table.ipynb>data table notebook</a>'\n",
              "            + ' to learn more about interactive tables.';\n",
              "          element.innerHTML = '';\n",
              "          dataTable['output_type'] = 'display_data';\n",
              "          await google.colab.output.renderOutput(dataTable, element);\n",
              "          const docLink = document.createElement('div');\n",
              "          docLink.innerHTML = docLinkHtml;\n",
              "          element.appendChild(docLink);\n",
              "        }\n",
              "      </script>\n",
              "    </div>\n",
              "  </div>\n",
              "  "
            ],
            "text/plain": [
              "                                         protein_sequence   pH    tm\n",
              "seq_id                                                              \n",
              "0       AAAAKAAALALLGEAPEVVDIWLPAGWRQPFRVFRLERKGDGVLVG...  7.0  75.7\n",
              "1       AAADGEPLHNEEERAGAGQVGRSLPQESEEQRTGSRPRRRRDLGSR...  7.0  50.5\n",
              "2       AAAFSTPRATSYRILSSAGSGSTRADAPQVRRLHTTRDLLAKDYYA...  7.0  40.5\n",
              "3       AAASGLRTAIPAQPLRHLLQPAPRPCLRPFGLLSVRAGSARRSGLL...  7.0  47.2\n",
              "4       AAATKSGPRRQSQGASVRTFTPFYFLVEPVDTLSVRGSSVILNCSA...  7.0  49.5\n",
              "...                                                   ...  ...   ...\n",
              "31385   YYMYSGGGSALAAGGGGAGRKGDWNDIDSIKKKDLHHSRGDEKAQG...  7.0  51.8\n",
              "31386   YYNDQHRLSSYSVETAMFLSWERAIVKPGAMFKKAVIGFNCNVDLI...  7.0  37.2\n",
              "31387   YYQRTLGAELLYKISFGEMPKSAQDSAENCPSGMQFPDTAIAHANV...  7.0  64.6\n",
              "31388   YYSFSDNITTVFLSRQAIDDDHSLSLGTISDVVESENGVVAADDAR...  7.0  50.7\n",
              "31389   YYVPDEYWQSLEVAHKLTFGYGYLTWEWVQGIRSYVYPLLIAGLYK...  7.0  37.6\n",
              "\n",
              "[31075 rows x 3 columns]"
            ]
          },
          "execution_count": 24,
          "metadata": {},
          "output_type": "execute_result"
        }
      ],
      "source": [
        "data = data.drop(columns=[\"data_source\"])\n",
        "data"
      ]
    },
    {
      "cell_type": "markdown",
      "id": "vjNE7PZSxRv3",
      "metadata": {
        "id": "vjNE7PZSxRv3"
      },
      "source": [
        "## Feature space analysis"
      ]
    },
    {
      "cell_type": "markdown",
      "id": "01f7rXo-73iJ",
      "metadata": {
        "id": "01f7rXo-73iJ"
      },
      "source": [
        "**Amino acid sequences encoding**"
      ]
    },
    {
      "cell_type": "markdown",
      "id": "wlXtc19GzTQo",
      "metadata": {
        "id": "wlXtc19GzTQo"
      },
      "source": [
        "Let's encode amino acid sequences into numeric vectors\n",
        "\n",
        "https://www.ncbi.nlm.nih.gov/pmc/articles/PMC6658705/\n",
        "\n",
        "use iFeature package (https://github.com/Superzchen/iFeature/blob/master/iFeatureManual.pdf)"
      ]
    },
    {
      "cell_type": "code",
      "execution_count": null,
      "id": "MYU06B2ZD7Hi",
      "metadata": {
        "colab": {
          "base_uri": "https://localhost:8080/"
        },
        "id": "MYU06B2ZD7Hi",
        "outputId": "20946789-dfb8-4aa0-8ac7-235c77b751b3"
      },
      "outputs": [
        {
          "name": "stdout",
          "output_type": "stream",
          "text": [
            "Cloning into 'iFeature'...\n",
            "remote: Enumerating objects: 322, done.\u001b[K\n",
            "remote: Counting objects: 100% (47/47), done.\u001b[K\n",
            "remote: Compressing objects: 100% (18/18), done.\u001b[K\n",
            "remote: Total 322 (delta 40), reused 33 (delta 29), pack-reused 275\u001b[K\n",
            "Receiving objects: 100% (322/322), 6.72 MiB | 13.16 MiB/s, done.\n",
            "Resolving deltas: 100% (150/150), done.\n"
          ]
        }
      ],
      "source": [
        "!git clone https://github.com/Superzchen/iFeature"
      ]
    },
    {
      "cell_type": "code",
      "execution_count": null,
      "id": "QTHVMauz1A7j",
      "metadata": {
        "colab": {
          "base_uri": "https://localhost:8080/"
        },
        "id": "QTHVMauz1A7j",
        "outputId": "840a0d6c-aff1-489c-a278-11e191a9ebfd"
      },
      "outputs": [
        {
          "name": "stdout",
          "output_type": "stream",
          "text": [
            "usage: it's usage tip.\n",
            "\n",
            "Generating\n",
            "various\n",
            "numerical r\n",
            "epresentati\n",
            "on schemes\n",
            "for protein\n",
            "sequences\n",
            "\n",
            "options:\n",
            "  -h, --help\n",
            "    show this\n",
            "    help\n",
            "    message and\n",
            "    exit\n",
            "  --file FILE\n",
            "    input fasta\n",
            "    file\n",
            "  --type {AAC,EAAC,CKSAAP,DPC,DDE,TPC,BINARY,GAAC,EGAAC,CKSAAGP,GDPC,GTPC,AAINDEX,ZSCALE,BLOSUM62,NMBroto,Moran,Geary,CTDC,CTDT,CTDD,CTriad,KSCTriad,SOCNumber,QSOrder,PAAC,APAAC,KNNprotein,KNNpeptide,PSSM,SSEC,SSEB,Disorder,DisorderC,DisorderB,ASA,TA}\n",
            "    the\n",
            "    encoding\n",
            "    type\n",
            "  --path FILEPATH\n",
            "    data file\n",
            "    path used\n",
            "    for 'PSSM',\n",
            "    'SSEB(C)', \n",
            "    'Disorder(B\n",
            "    C)', 'ASA'\n",
            "    and 'TA'\n",
            "    encodings\n",
            "  --train TRAINFILE\n",
            "    training\n",
            "    file in\n",
            "    fasta\n",
            "    format only\n",
            "    used for 'K\n",
            "    NNprotein'\n",
            "    or 'KNNpept\n",
            "    ide'\n",
            "    encodings\n",
            "  --label LABELFILE\n",
            "    sample\n",
            "    label file\n",
            "    only used\n",
            "    for 'KNNpro\n",
            "    tein' or 'K\n",
            "    NNpeptide'\n",
            "    encodings\n",
            "  --order {alphabetically,polarity,sideChainVolume,userDefined}\n",
            "    output\n",
            "    order for\n",
            "    of Amino\n",
            "    Acid\n",
            "    Composition\n",
            "    (i.e. AAC,\n",
            "    EAAC,\n",
            "    CKSAAP,\n",
            "    DPC, DDE,\n",
            "    TPC)\n",
            "    descriptors\n",
            "  --userDefinedOrder USERDEFINEDORDER\n",
            "    user\n",
            "    defined\n",
            "    output\n",
            "    order for\n",
            "    of Amino\n",
            "    Acid\n",
            "    Composition\n",
            "    (i.e. AAC,\n",
            "    EAAC,\n",
            "    CKSAAP,\n",
            "    DPC, DDE,\n",
            "    TPC)\n",
            "    descriptors\n",
            "  --out OUTFILE\n",
            "    the\n",
            "    generated\n",
            "    descriptor\n",
            "    file\n"
          ]
        }
      ],
      "source": [
        "!python3 iFeature/iFeature.py --help"
      ]
    },
    {
      "cell_type": "code",
      "execution_count": null,
      "id": "2EL_Zk9uRB2w",
      "metadata": {
        "id": "2EL_Zk9uRB2w"
      },
      "outputs": [],
      "source": [
        "!touch aa_seq.fasta # this file will contain all proteins sequences"
      ]
    },
    {
      "cell_type": "code",
      "execution_count": null,
      "id": "ruNrdiqJDNMJ",
      "metadata": {
        "id": "ruNrdiqJDNMJ"
      },
      "outputs": [],
      "source": [
        "with open(f\"aa_seq.fasta\", \"w\") as fasta:\n",
        "    for i, seq in data[[\"protein_sequence\"]].iterrows():\n",
        "        prot = seq[\"protein_sequence\"]\n",
        "        fasta.write(f\">{i}\\n\")\n",
        "        fasta.write(prot + \"\\n\")\n"
      ]
    },
    {
      "cell_type": "code",
      "execution_count": null,
      "id": "kJwXCPNg06p0",
      "metadata": {
        "colab": {
          "base_uri": "https://localhost:8080/"
        },
        "id": "kJwXCPNg06p0",
        "outputId": "39fc2ff1-bd03-4889-b539-775bd9bf6df5"
      },
      "outputs": [
        {
          "name": "stdout",
          "output_type": "stream",
          "text": [
            ">0\n",
            "AAAAKAAALALLGEAPEVVDIWLPAGWRQPFRVFRLERKGDGVLVGMIKDAGDDPDVTHGAEIQAFVRFASEDRLEGGEGVGVVTKPGLGVPVGEPAINPVPRRMIWEAVREVTERPLAVTIAIPGGEELAKKTLNPRLGILGGLSVLGTTGVVKPYSTSAFRMSVVQAVGVARANGLLEIAATTGGKSERFAQRLLPHLPEMAFIEMGDFVGDVLRAARKVGVEVVRVVGMIGKISKMADGKTMTHAAGGEVNLSLLLSLLKEAGASPKALKEAEGAATARRFLEIALEEGLELFFVNLVRLAQEKLQAYIGERPFVSVALTDFDEGRCLAAWPDREVYR\n",
            ">1\n",
            "AAADGEPLHNEEERAGAGQVGRSLPQESEEQRTGSRPRRRRDLGSRLQAQRRAQRVAWEDGDENVGQTVIPAQEEEGIEKPAEVHPTGKIGAKKLRKLEEKQARKAQREAEEAEREERKRLESQREAEWKKEEERLRLKEEQKEEEERKAQEEQARREHEEYLKLKEAFVVEEEGVSETMTEEQSHSFLTEFINYIKKSKVVLLEDLAFQMGLRTQDAINRIQDLLTEGTLTGVIDDRGKFIYITPEELAAVANFIRQRGRVSITELAQASNSLISWGQDLPAQAS\n",
            ">2\n",
            "AAAFSTPRATSYRILSSAGSGSTRADAPQVRRLHTTRDLLAKDYYATLGVAKNANGKDIKKAYYQLAKKYHPDTNKEDPDAGRKFQEVSEAYEVLSDEQKRREYDTYGQTAENIGRQGGGFPGGGAGGFGPEGFSQSWQFRSSIDPEELFRKIFGEGNFRTNSFDDFADSKFGFGQAQEMVMDLTFAQAARGVNKDVNVNVVDQCPKCAGTKCEPGTKPGRCQYCNGTGFETVSTGPFVMRSTCRYCQGTRQHIKYPCSECEGKGRTVQRRKVTVPVPAGIENGQTVRMQVGSKELFVTFRVERSDYFRREGADVHTDAAISLAQAVLGGTVRVQGVYEDQWINVEPGTSSHHKIMLRGKGLKRVNAHGHGDHYVHVKITVPSAKKLDKKRLALIEAYAELEEDTPGQIHGIANRKDGSKQATAGASEEPGAGAAAKASAAAAGSGASKPGPGAEESEGKDQWTDNKKTKAKEGGGSGSGQGDGGGGGFISKIKSMF\n",
            ">3\n",
            "AAASGLRTAIPAQPLRHLLQPAPRPCLRPFGLLSVRAGSARRSGLLQPPVPCACGCGALHTEGDKAFVEFLTDEIKEEKKIQKHKSLPKMSGDWELEVNGTEAKLLRKVAGEKITVTFNINNSIPPTFDGEEEPSQGQKAEEQEPELTSTPNFVVEVTKTDGKKTLVLDCHYPEDEIGHEDEAESDIFSIKEVSFQATGDSEWRDTNYTLNTDSLDWALYDHLMDFLADRGVDNTFADELVELSTALEHQEYITFLEDLKSFVKN\n",
            ">4\n",
            "AAATKSGPRRQSQGASVRTFTPFYFLVEPVDTLSVRGSSVILNCSAYSEPSPNIEWKKDGTFLNLESDDRRQLLPDGSLFISNVVHSKHNKPDEGFYQCVATVDNLGTIVSRTAKLTVAGLPRFTSQPEPSSVYVGNSAILNCEVNADLVPFVRWEQNRQPLLLDDRIVKLPSGTLVISNATEGDGGLYRCIVESGGPPKFSDEAELKVLQDPEEIVDLVFLMRPSSMMKVTGQSAVLPCVVSGLPAPVVRWMKNEEVLDTESSGRLVLLAGGCLEISDVTEDDAGTYFCIADNGNKTVEAQAELTVQVPPGFLKQPANIYAHESMDIVFECEVTGKPTPTVKWVKNGDVVIPSDNFKIVKEHNLQVLGLVKSDEGFYQCIAENDVGNAQAGAQLIILEHDVAIPTLPPTSLTSATTDHLAPATTGPLPSAPRDVVASLVSTRFIKLTWRTPASDPHGDNLTYSVFYTKEGVDRERVENTSQPGEMQVTIQNLMPATVYIFKVMAQNKHGSGESSAPLRVETQPEVQLPGPAPNIRAYATSPTSITVTWETPLSGNGEIQNYKLYYMEKGTDKEQDIDVSSHSYTINGLKKYTEYSFRVVAYNKHGPGVSTQDVAVRTLSDVPSAAPQNLSLEVRNSKSIVIHWQPPSSTTQNGQITGYKIRYRKASRKSDVTETLVTGTQLSQLIEGLDRGTEYNFRVAALTVNGTGPATDWLSAETFESDLDETRVPEVPSSLHVRPLVTSIVVSWTPPENQNIVVRGYAIGYGIGSPHAQTIKVDYKQRYYTIENLDPSSHYVITLKAFNNVGEGIPLYESAVTRPHTDTSEVDLFVINAPYTPVPDPTPMMPPVGVQASILSHDTIRITWADNSLPKHQKITDSRYYTVRWKTNIPANTKYKNANATTLSYLVTGLKPNTLYEFSVMVTKGRRSSTWSMTAHGATFELVPTSPPKDVTVVSKEGKPRTIIVNWQPPSEANGKITGYIIYYSTDVNAEIHDWVIEPVVGNRLTHQIQELTLDTPYYFKIQARNSKGMGPMSEAVQFRTPKADSSDKMPNDQALGSAGKGSRLPDLGSDYKPPMSGSNSPHGSPTSPLDSNMLLVIIVSVGVITIVVVVVIAVFCTRRTTSHQKKKRAACKSVNGSHKYKGNCKDVKPPDLWIHHERLELKPIDKSPDPNPVMTDTPIPRNSQDITPVDNSMDSNIHQRRNSYRGHESEDSMSTLAGRRGMRPKMMMPFDSQPPQPVISAHPIHSLDNPHHHFHSSSLASPARSHLYHPSSPWPIGTSMSLSDRANSTESVRNTPSTDTMPASSSQTCCTDHQDPEGATSSSYLASSQEEDSGQSLPTAHVRPSHPLKSFAVPAIPPPGPPLYDPALPSTPLLSQQALEPSTFHSVKTASIGTLGRSRPPMPVVVPSAPEVQETTRMLEDSESSYEPDELTKEMAHLEGLMKDLNAITT\n"
          ]
        }
      ],
      "source": [
        "!cat aa_seq.fasta | head -n 10"
      ]
    },
    {
      "cell_type": "code",
      "execution_count": null,
      "id": "nY7pkn9dSElv",
      "metadata": {
        "id": "nY7pkn9dSElv"
      },
      "outputs": [],
      "source": [
        "!touch encoding_aac.tsv # amino acid composition (frequencies of each of 20 natural aa)"
      ]
    },
    {
      "cell_type": "code",
      "execution_count": null,
      "id": "ftdi_1MlDNAE",
      "metadata": {
        "colab": {
          "base_uri": "https://localhost:8080/"
        },
        "id": "ftdi_1MlDNAE",
        "outputId": "7c60f4f7-0a55-4890-c1be-fda471f7cf32"
      },
      "outputs": [
        {
          "name": "stdout",
          "output_type": "stream",
          "text": [
            "Descriptor type: AAC\n"
          ]
        }
      ],
      "source": [
        "!python iFeature/iFeature.py --file aa_seq.fasta --type AAC --out encoding_aac.tsv"
      ]
    },
    {
      "cell_type": "code",
      "execution_count": null,
      "id": "58XUaues3qD8",
      "metadata": {
        "colab": {
          "base_uri": "https://localhost:8080/"
        },
        "id": "58XUaues3qD8",
        "outputId": "4e516228-b667-405f-9e6e-750a2039b9d6"
      },
      "outputs": [
        {
          "name": "stdout",
          "output_type": "stream",
          "text": [
            "#\tA\tC\tD\tE\tF\tG\tH\tI\tK\tL\tM\tN\tP\tQ\tR\tS\tT\tV\tW\tY\n",
            "0\t0.13196480938416422\t0.002932551319648094\t0.03812316715542522\t0.08797653958944282\t0.03812316715542522\t0.11143695014662756\t0.008797653958944282\t0.04105571847507331\t0.0469208211143695\t0.10850439882697947\t0.02346041055718475\t0.01466275659824047\t0.05278592375366569\t0.017595307917888565\t0.07331378299120235\t0.03225806451612903\t0.04105571847507331\t0.10850439882697947\t0.011730205278592375\t0.008797653958944282\n",
            "1\t0.0979020979020979\t0.0\t0.03496503496503497\t0.18181818181818182\t0.02097902097902098\t0.06293706293706294\t0.013986013986013986\t0.045454545454545456\t0.06643356643356643\t0.08041958041958042\t0.006993006993006993\t0.02097902097902098\t0.027972027972027972\t0.07692307692307693\t0.1048951048951049\t0.04895104895104895\t0.04195804195804196\t0.045454545454545456\t0.01048951048951049\t0.01048951048951049\n",
            "2\t0.1006036217303823\t0.018108651911468814\t0.05432595573440644\t0.06438631790744467\t0.04225352112676056\t0.13078470824949698\t0.022132796780684104\t0.03219315895372234\t0.07847082494969819\t0.03621730382293763\t0.012072434607645875\t0.030181086519114688\t0.04024144869215292\t0.05030181086519115\t0.06237424547283702\t0.06639839034205232\t0.060362173038229376\t0.060362173038229376\t0.006036217303822937\t0.03219315895372234\n",
            "3\t0.07547169811320754\t0.018867924528301886\t0.07169811320754717\t0.10943396226415095\t0.045283018867924525\t0.06037735849056604\t0.026415094339622643\t0.03773584905660377\t0.06415094339622641\t0.10566037735849057\t0.007547169811320755\t0.033962264150943396\t0.06037735849056604\t0.033962264150943396\t0.03773584905660377\t0.06037735849056604\t0.07169811320754717\t0.052830188679245285\t0.011320754716981131\t0.01509433962264151\n",
            "4\t0.059269469331495524\t0.009648518263266712\t0.053756030323914544\t0.053756030323914544\t0.022053756030323914\t0.057891109579600274\t0.027567195037904894\t0.04893177119228118\t0.04686423156443832\t0.07167470709855273\t0.021364576154376293\t0.044796691936595454\t0.08821502412129566\t0.037215713301171606\t0.043418332184700204\t0.1019986216402481\t0.08270158511371468\t0.08545830461750517\t0.011026878015161957\t0.03239145416953825\n",
            "5\t0.0868421052631579\t0.010526315789473684\t0.042105263157894736\t0.05\t0.042105263157894736\t0.0868421052631579\t0.02368421052631579\t0.042105263157894736\t0.07105263157894737\t0.0868421052631579\t0.02894736842105263\t0.034210526315789476\t0.05\t0.021052631578947368\t0.042105263157894736\t0.05789473684210526\t0.06578947368421052\t0.10789473684210527\t0.02631578947368421\t0.02368421052631579\n",
            "6\t0.0868421052631579\t0.010526315789473684\t0.042105263157894736\t0.05\t0.042105263157894736\t0.0868421052631579\t0.02368421052631579\t0.042105263157894736\t0.06842105263157895\t0.0868421052631579\t0.02894736842105263\t0.034210526315789476\t0.05\t0.021052631578947368\t0.04473684210526316\t0.05789473684210526\t0.06578947368421052\t0.10789473684210527\t0.02631578947368421\t0.02368421052631579\n",
            "7\t0.04983388704318937\t0.053156146179401995\t0.059800664451827246\t0.05647840531561462\t0.009966777408637873\t0.09302325581395349\t0.03322259136212625\t0.026578073089700997\t0.07308970099667775\t0.08970099667774087\t0.019933554817275746\t0.059800664451827246\t0.06976744186046512\t0.036544850498338874\t0.03322259136212625\t0.036544850498338874\t0.059800664451827246\t0.07641196013289037\t0.006644518272425249\t0.05647840531561462\n",
            "8\t0.14285714285714285\t0.003484320557491289\t0.06620209059233449\t0.05574912891986063\t0.0313588850174216\t0.08710801393728224\t0.0\t0.059233449477351915\t0.09407665505226481\t0.07317073170731707\t0.027874564459930314\t0.05574912891986063\t0.03484320557491289\t0.0313588850174216\t0.020905923344947737\t0.04878048780487805\t0.04529616724738676\t0.0975609756097561\t0.010452961672473868\t0.013937282229965157\n"
          ]
        }
      ],
      "source": [
        "!cat encoding_aac.tsv | head -n 10"
      ]
    },
    {
      "cell_type": "code",
      "execution_count": null,
      "id": "eYEWnwqY3-0C",
      "metadata": {
        "colab": {
          "base_uri": "https://localhost:8080/"
        },
        "id": "eYEWnwqY3-0C",
        "outputId": "fabd2881-5c11-464a-a121-d93151fc81ef"
      },
      "outputs": [
        {
          "name": "stdout",
          "output_type": "stream",
          "text": [
            "   31076   652596 12364208 encoding_aac.tsv\n"
          ]
        }
      ],
      "source": [
        "!wc encoding_aac.tsv"
      ]
    },
    {
      "cell_type": "code",
      "execution_count": null,
      "id": "H6aHmjfbfSPg",
      "metadata": {
        "colab": {
          "base_uri": "https://localhost:8080/"
        },
        "id": "H6aHmjfbfSPg",
        "outputId": "cf5a2585-3aa9-4bf5-a6c9-fc02d366cfbf"
      },
      "outputs": [
        {
          "name": "stdout",
          "output_type": "stream",
          "text": [
            "[{'aa_A_freq': 0.13196480938416422, 'aa_C_freq': 0.002932551319648094, 'aa_D_freq': 0.03812316715542522, 'aa_E_freq': 0.08797653958944282, 'aa_F_freq': 0.03812316715542522, 'aa_G_freq': 0.11143695014662756, 'aa_H_freq': 0.008797653958944282, 'aa_I_freq': 0.04105571847507331, 'aa_K_freq': 0.0469208211143695, 'aa_L_freq': 0.10850439882697947, 'aa_M_freq': 0.02346041055718475, 'aa_N_freq': 0.01466275659824047, 'aa_P_freq': 0.05278592375366569, 'aa_Q_freq': 0.017595307917888565, 'aa_R_freq': 0.07331378299120235, 'aa_S_freq': 0.03225806451612903, 'aa_T_freq': 0.04105571847507331, 'aa_V_freq': 0.10850439882697947, 'aa_W_freq': 0.011730205278592375, 'aa_Y_freq': 0.008797653958944282}, {'aa_A_freq': 0.0979020979020979, 'aa_C_freq': 0.0, 'aa_D_freq': 0.03496503496503497, 'aa_E_freq': 0.18181818181818182, 'aa_F_freq': 0.02097902097902098, 'aa_G_freq': 0.06293706293706294, 'aa_H_freq': 0.013986013986013986, 'aa_I_freq': 0.045454545454545456, 'aa_K_freq': 0.06643356643356643, 'aa_L_freq': 0.08041958041958042, 'aa_M_freq': 0.006993006993006993, 'aa_N_freq': 0.02097902097902098, 'aa_P_freq': 0.027972027972027972, 'aa_Q_freq': 0.07692307692307693, 'aa_R_freq': 0.1048951048951049, 'aa_S_freq': 0.04895104895104895, 'aa_T_freq': 0.04195804195804196, 'aa_V_freq': 0.045454545454545456, 'aa_W_freq': 0.01048951048951049, 'aa_Y_freq': 0.01048951048951049}, {'aa_A_freq': 0.1006036217303823, 'aa_C_freq': 0.018108651911468814, 'aa_D_freq': 0.05432595573440644, 'aa_E_freq': 0.06438631790744467, 'aa_F_freq': 0.04225352112676056, 'aa_G_freq': 0.13078470824949698, 'aa_H_freq': 0.022132796780684104, 'aa_I_freq': 0.03219315895372234, 'aa_K_freq': 0.07847082494969819, 'aa_L_freq': 0.03621730382293763, 'aa_M_freq': 0.012072434607645875, 'aa_N_freq': 0.030181086519114688, 'aa_P_freq': 0.04024144869215292, 'aa_Q_freq': 0.05030181086519115, 'aa_R_freq': 0.06237424547283702, 'aa_S_freq': 0.06639839034205232, 'aa_T_freq': 0.060362173038229376, 'aa_V_freq': 0.060362173038229376, 'aa_W_freq': 0.006036217303822937, 'aa_Y_freq': 0.03219315895372234}]\n"
          ]
        }
      ],
      "source": [
        "encoded = []\n",
        "\n",
        "with open(\"encoding_aac.tsv\") as infile:\n",
        "    lines = infile.readlines()\n",
        "    column_list = lines[0].strip().split(\"\\t\")[1:]\n",
        "    for line in lines[1:]:\n",
        "        values_dict = {}\n",
        "        line_elements = line.strip().split(\"\\t\")\n",
        "        for i in range(len(line_elements) - 1):\n",
        "            values_dict[f\"aa_{column_list[i]}_freq\"] = float(line_elements[i + 1])\n",
        "        encoded.append(values_dict)\n",
        "\n",
        "print(encoded[:3])"
      ]
    },
    {
      "cell_type": "code",
      "execution_count": null,
      "id": "SiaCOYCQZue9",
      "metadata": {
        "colab": {
          "base_uri": "https://localhost:8080/",
          "height": 488
        },
        "id": "SiaCOYCQZue9",
        "outputId": "52352b2a-c258-4aca-9f23-0efdc207fbd5"
      },
      "outputs": [
        {
          "data": {
            "text/html": [
              "\n",
              "  <div id=\"df-80ec55c0-8334-45c0-a069-24b0cdbbe969\">\n",
              "    <div class=\"colab-df-container\">\n",
              "      <div>\n",
              "<style scoped>\n",
              "    .dataframe tbody tr th:only-of-type {\n",
              "        vertical-align: middle;\n",
              "    }\n",
              "\n",
              "    .dataframe tbody tr th {\n",
              "        vertical-align: top;\n",
              "    }\n",
              "\n",
              "    .dataframe thead th {\n",
              "        text-align: right;\n",
              "    }\n",
              "</style>\n",
              "<table border=\"1\" class=\"dataframe\">\n",
              "  <thead>\n",
              "    <tr style=\"text-align: right;\">\n",
              "      <th></th>\n",
              "      <th>aa_A_freq</th>\n",
              "      <th>aa_C_freq</th>\n",
              "      <th>aa_D_freq</th>\n",
              "      <th>aa_E_freq</th>\n",
              "      <th>aa_F_freq</th>\n",
              "      <th>aa_G_freq</th>\n",
              "      <th>aa_H_freq</th>\n",
              "      <th>aa_I_freq</th>\n",
              "      <th>aa_K_freq</th>\n",
              "      <th>aa_L_freq</th>\n",
              "      <th>aa_M_freq</th>\n",
              "      <th>aa_N_freq</th>\n",
              "      <th>aa_P_freq</th>\n",
              "      <th>aa_Q_freq</th>\n",
              "      <th>aa_R_freq</th>\n",
              "      <th>aa_S_freq</th>\n",
              "      <th>aa_T_freq</th>\n",
              "      <th>aa_V_freq</th>\n",
              "      <th>aa_W_freq</th>\n",
              "      <th>aa_Y_freq</th>\n",
              "    </tr>\n",
              "  </thead>\n",
              "  <tbody>\n",
              "    <tr>\n",
              "      <th>0</th>\n",
              "      <td>0.131965</td>\n",
              "      <td>0.002933</td>\n",
              "      <td>0.038123</td>\n",
              "      <td>0.087977</td>\n",
              "      <td>0.038123</td>\n",
              "      <td>0.111437</td>\n",
              "      <td>0.008798</td>\n",
              "      <td>0.041056</td>\n",
              "      <td>0.046921</td>\n",
              "      <td>0.108504</td>\n",
              "      <td>0.023460</td>\n",
              "      <td>0.014663</td>\n",
              "      <td>0.052786</td>\n",
              "      <td>0.017595</td>\n",
              "      <td>0.073314</td>\n",
              "      <td>0.032258</td>\n",
              "      <td>0.041056</td>\n",
              "      <td>0.108504</td>\n",
              "      <td>0.011730</td>\n",
              "      <td>0.008798</td>\n",
              "    </tr>\n",
              "    <tr>\n",
              "      <th>1</th>\n",
              "      <td>0.097902</td>\n",
              "      <td>0.000000</td>\n",
              "      <td>0.034965</td>\n",
              "      <td>0.181818</td>\n",
              "      <td>0.020979</td>\n",
              "      <td>0.062937</td>\n",
              "      <td>0.013986</td>\n",
              "      <td>0.045455</td>\n",
              "      <td>0.066434</td>\n",
              "      <td>0.080420</td>\n",
              "      <td>0.006993</td>\n",
              "      <td>0.020979</td>\n",
              "      <td>0.027972</td>\n",
              "      <td>0.076923</td>\n",
              "      <td>0.104895</td>\n",
              "      <td>0.048951</td>\n",
              "      <td>0.041958</td>\n",
              "      <td>0.045455</td>\n",
              "      <td>0.010490</td>\n",
              "      <td>0.010490</td>\n",
              "    </tr>\n",
              "    <tr>\n",
              "      <th>2</th>\n",
              "      <td>0.100604</td>\n",
              "      <td>0.018109</td>\n",
              "      <td>0.054326</td>\n",
              "      <td>0.064386</td>\n",
              "      <td>0.042254</td>\n",
              "      <td>0.130785</td>\n",
              "      <td>0.022133</td>\n",
              "      <td>0.032193</td>\n",
              "      <td>0.078471</td>\n",
              "      <td>0.036217</td>\n",
              "      <td>0.012072</td>\n",
              "      <td>0.030181</td>\n",
              "      <td>0.040241</td>\n",
              "      <td>0.050302</td>\n",
              "      <td>0.062374</td>\n",
              "      <td>0.066398</td>\n",
              "      <td>0.060362</td>\n",
              "      <td>0.060362</td>\n",
              "      <td>0.006036</td>\n",
              "      <td>0.032193</td>\n",
              "    </tr>\n",
              "    <tr>\n",
              "      <th>3</th>\n",
              "      <td>0.075472</td>\n",
              "      <td>0.018868</td>\n",
              "      <td>0.071698</td>\n",
              "      <td>0.109434</td>\n",
              "      <td>0.045283</td>\n",
              "      <td>0.060377</td>\n",
              "      <td>0.026415</td>\n",
              "      <td>0.037736</td>\n",
              "      <td>0.064151</td>\n",
              "      <td>0.105660</td>\n",
              "      <td>0.007547</td>\n",
              "      <td>0.033962</td>\n",
              "      <td>0.060377</td>\n",
              "      <td>0.033962</td>\n",
              "      <td>0.037736</td>\n",
              "      <td>0.060377</td>\n",
              "      <td>0.071698</td>\n",
              "      <td>0.052830</td>\n",
              "      <td>0.011321</td>\n",
              "      <td>0.015094</td>\n",
              "    </tr>\n",
              "    <tr>\n",
              "      <th>4</th>\n",
              "      <td>0.059269</td>\n",
              "      <td>0.009649</td>\n",
              "      <td>0.053756</td>\n",
              "      <td>0.053756</td>\n",
              "      <td>0.022054</td>\n",
              "      <td>0.057891</td>\n",
              "      <td>0.027567</td>\n",
              "      <td>0.048932</td>\n",
              "      <td>0.046864</td>\n",
              "      <td>0.071675</td>\n",
              "      <td>0.021365</td>\n",
              "      <td>0.044797</td>\n",
              "      <td>0.088215</td>\n",
              "      <td>0.037216</td>\n",
              "      <td>0.043418</td>\n",
              "      <td>0.101999</td>\n",
              "      <td>0.082702</td>\n",
              "      <td>0.085458</td>\n",
              "      <td>0.011027</td>\n",
              "      <td>0.032391</td>\n",
              "    </tr>\n",
              "    <tr>\n",
              "      <th>...</th>\n",
              "      <td>...</td>\n",
              "      <td>...</td>\n",
              "      <td>...</td>\n",
              "      <td>...</td>\n",
              "      <td>...</td>\n",
              "      <td>...</td>\n",
              "      <td>...</td>\n",
              "      <td>...</td>\n",
              "      <td>...</td>\n",
              "      <td>...</td>\n",
              "      <td>...</td>\n",
              "      <td>...</td>\n",
              "      <td>...</td>\n",
              "      <td>...</td>\n",
              "      <td>...</td>\n",
              "      <td>...</td>\n",
              "      <td>...</td>\n",
              "      <td>...</td>\n",
              "      <td>...</td>\n",
              "      <td>...</td>\n",
              "    </tr>\n",
              "    <tr>\n",
              "      <th>31070</th>\n",
              "      <td>0.060109</td>\n",
              "      <td>0.021858</td>\n",
              "      <td>0.069217</td>\n",
              "      <td>0.056466</td>\n",
              "      <td>0.032787</td>\n",
              "      <td>0.092896</td>\n",
              "      <td>0.027322</td>\n",
              "      <td>0.038251</td>\n",
              "      <td>0.058288</td>\n",
              "      <td>0.083789</td>\n",
              "      <td>0.023679</td>\n",
              "      <td>0.043716</td>\n",
              "      <td>0.045537</td>\n",
              "      <td>0.043716</td>\n",
              "      <td>0.076503</td>\n",
              "      <td>0.060109</td>\n",
              "      <td>0.032787</td>\n",
              "      <td>0.076503</td>\n",
              "      <td>0.023679</td>\n",
              "      <td>0.032787</td>\n",
              "    </tr>\n",
              "    <tr>\n",
              "      <th>31071</th>\n",
              "      <td>0.078891</td>\n",
              "      <td>0.010661</td>\n",
              "      <td>0.044776</td>\n",
              "      <td>0.061834</td>\n",
              "      <td>0.046908</td>\n",
              "      <td>0.057569</td>\n",
              "      <td>0.046908</td>\n",
              "      <td>0.063966</td>\n",
              "      <td>0.042644</td>\n",
              "      <td>0.100213</td>\n",
              "      <td>0.029851</td>\n",
              "      <td>0.040512</td>\n",
              "      <td>0.040512</td>\n",
              "      <td>0.034115</td>\n",
              "      <td>0.053305</td>\n",
              "      <td>0.078891</td>\n",
              "      <td>0.055437</td>\n",
              "      <td>0.072495</td>\n",
              "      <td>0.010661</td>\n",
              "      <td>0.029851</td>\n",
              "    </tr>\n",
              "    <tr>\n",
              "      <th>31072</th>\n",
              "      <td>0.101562</td>\n",
              "      <td>0.007812</td>\n",
              "      <td>0.054688</td>\n",
              "      <td>0.054688</td>\n",
              "      <td>0.054688</td>\n",
              "      <td>0.085938</td>\n",
              "      <td>0.015625</td>\n",
              "      <td>0.046875</td>\n",
              "      <td>0.062500</td>\n",
              "      <td>0.046875</td>\n",
              "      <td>0.054688</td>\n",
              "      <td>0.039062</td>\n",
              "      <td>0.046875</td>\n",
              "      <td>0.062500</td>\n",
              "      <td>0.023438</td>\n",
              "      <td>0.078125</td>\n",
              "      <td>0.046875</td>\n",
              "      <td>0.054688</td>\n",
              "      <td>0.031250</td>\n",
              "      <td>0.031250</td>\n",
              "    </tr>\n",
              "    <tr>\n",
              "      <th>31073</th>\n",
              "      <td>0.079258</td>\n",
              "      <td>0.008432</td>\n",
              "      <td>0.057336</td>\n",
              "      <td>0.060708</td>\n",
              "      <td>0.038786</td>\n",
              "      <td>0.087690</td>\n",
              "      <td>0.018550</td>\n",
              "      <td>0.057336</td>\n",
              "      <td>0.059022</td>\n",
              "      <td>0.075885</td>\n",
              "      <td>0.043845</td>\n",
              "      <td>0.042159</td>\n",
              "      <td>0.052277</td>\n",
              "      <td>0.020236</td>\n",
              "      <td>0.042159</td>\n",
              "      <td>0.086003</td>\n",
              "      <td>0.053963</td>\n",
              "      <td>0.080944</td>\n",
              "      <td>0.005059</td>\n",
              "      <td>0.030354</td>\n",
              "    </tr>\n",
              "    <tr>\n",
              "      <th>31074</th>\n",
              "      <td>0.063315</td>\n",
              "      <td>0.009311</td>\n",
              "      <td>0.027933</td>\n",
              "      <td>0.059590</td>\n",
              "      <td>0.048417</td>\n",
              "      <td>0.044693</td>\n",
              "      <td>0.039106</td>\n",
              "      <td>0.057728</td>\n",
              "      <td>0.033520</td>\n",
              "      <td>0.147114</td>\n",
              "      <td>0.013035</td>\n",
              "      <td>0.037244</td>\n",
              "      <td>0.057728</td>\n",
              "      <td>0.033520</td>\n",
              "      <td>0.052142</td>\n",
              "      <td>0.063315</td>\n",
              "      <td>0.054004</td>\n",
              "      <td>0.070764</td>\n",
              "      <td>0.033520</td>\n",
              "      <td>0.054004</td>\n",
              "    </tr>\n",
              "  </tbody>\n",
              "</table>\n",
              "<p>31075 rows × 20 columns</p>\n",
              "</div>\n",
              "      <button class=\"colab-df-convert\" onclick=\"convertToInteractive('df-80ec55c0-8334-45c0-a069-24b0cdbbe969')\"\n",
              "              title=\"Convert this dataframe to an interactive table.\"\n",
              "              style=\"display:none;\">\n",
              "        \n",
              "  <svg xmlns=\"http://www.w3.org/2000/svg\" height=\"24px\"viewBox=\"0 0 24 24\"\n",
              "       width=\"24px\">\n",
              "    <path d=\"M0 0h24v24H0V0z\" fill=\"none\"/>\n",
              "    <path d=\"M18.56 5.44l.94 2.06.94-2.06 2.06-.94-2.06-.94-.94-2.06-.94 2.06-2.06.94zm-11 1L8.5 8.5l.94-2.06 2.06-.94-2.06-.94L8.5 2.5l-.94 2.06-2.06.94zm10 10l.94 2.06.94-2.06 2.06-.94-2.06-.94-.94-2.06-.94 2.06-2.06.94z\"/><path d=\"M17.41 7.96l-1.37-1.37c-.4-.4-.92-.59-1.43-.59-.52 0-1.04.2-1.43.59L10.3 9.45l-7.72 7.72c-.78.78-.78 2.05 0 2.83L4 21.41c.39.39.9.59 1.41.59.51 0 1.02-.2 1.41-.59l7.78-7.78 2.81-2.81c.8-.78.8-2.07 0-2.86zM5.41 20L4 18.59l7.72-7.72 1.47 1.35L5.41 20z\"/>\n",
              "  </svg>\n",
              "      </button>\n",
              "      \n",
              "  <style>\n",
              "    .colab-df-container {\n",
              "      display:flex;\n",
              "      flex-wrap:wrap;\n",
              "      gap: 12px;\n",
              "    }\n",
              "\n",
              "    .colab-df-convert {\n",
              "      background-color: #E8F0FE;\n",
              "      border: none;\n",
              "      border-radius: 50%;\n",
              "      cursor: pointer;\n",
              "      display: none;\n",
              "      fill: #1967D2;\n",
              "      height: 32px;\n",
              "      padding: 0 0 0 0;\n",
              "      width: 32px;\n",
              "    }\n",
              "\n",
              "    .colab-df-convert:hover {\n",
              "      background-color: #E2EBFA;\n",
              "      box-shadow: 0px 1px 2px rgba(60, 64, 67, 0.3), 0px 1px 3px 1px rgba(60, 64, 67, 0.15);\n",
              "      fill: #174EA6;\n",
              "    }\n",
              "\n",
              "    [theme=dark] .colab-df-convert {\n",
              "      background-color: #3B4455;\n",
              "      fill: #D2E3FC;\n",
              "    }\n",
              "\n",
              "    [theme=dark] .colab-df-convert:hover {\n",
              "      background-color: #434B5C;\n",
              "      box-shadow: 0px 1px 3px 1px rgba(0, 0, 0, 0.15);\n",
              "      filter: drop-shadow(0px 1px 2px rgba(0, 0, 0, 0.3));\n",
              "      fill: #FFFFFF;\n",
              "    }\n",
              "  </style>\n",
              "\n",
              "      <script>\n",
              "        const buttonEl =\n",
              "          document.querySelector('#df-80ec55c0-8334-45c0-a069-24b0cdbbe969 button.colab-df-convert');\n",
              "        buttonEl.style.display =\n",
              "          google.colab.kernel.accessAllowed ? 'block' : 'none';\n",
              "\n",
              "        async function convertToInteractive(key) {\n",
              "          const element = document.querySelector('#df-80ec55c0-8334-45c0-a069-24b0cdbbe969');\n",
              "          const dataTable =\n",
              "            await google.colab.kernel.invokeFunction('convertToInteractive',\n",
              "                                                     [key], {});\n",
              "          if (!dataTable) return;\n",
              "\n",
              "          const docLinkHtml = 'Like what you see? Visit the ' +\n",
              "            '<a target=\"_blank\" href=https://colab.research.google.com/notebooks/data_table.ipynb>data table notebook</a>'\n",
              "            + ' to learn more about interactive tables.';\n",
              "          element.innerHTML = '';\n",
              "          dataTable['output_type'] = 'display_data';\n",
              "          await google.colab.output.renderOutput(dataTable, element);\n",
              "          const docLink = document.createElement('div');\n",
              "          docLink.innerHTML = docLinkHtml;\n",
              "          element.appendChild(docLink);\n",
              "        }\n",
              "      </script>\n",
              "    </div>\n",
              "  </div>\n",
              "  "
            ],
            "text/plain": [
              "       aa_A_freq  aa_C_freq  aa_D_freq  aa_E_freq  aa_F_freq  aa_G_freq  \\\n",
              "0       0.131965   0.002933   0.038123   0.087977   0.038123   0.111437   \n",
              "1       0.097902   0.000000   0.034965   0.181818   0.020979   0.062937   \n",
              "2       0.100604   0.018109   0.054326   0.064386   0.042254   0.130785   \n",
              "3       0.075472   0.018868   0.071698   0.109434   0.045283   0.060377   \n",
              "4       0.059269   0.009649   0.053756   0.053756   0.022054   0.057891   \n",
              "...          ...        ...        ...        ...        ...        ...   \n",
              "31070   0.060109   0.021858   0.069217   0.056466   0.032787   0.092896   \n",
              "31071   0.078891   0.010661   0.044776   0.061834   0.046908   0.057569   \n",
              "31072   0.101562   0.007812   0.054688   0.054688   0.054688   0.085938   \n",
              "31073   0.079258   0.008432   0.057336   0.060708   0.038786   0.087690   \n",
              "31074   0.063315   0.009311   0.027933   0.059590   0.048417   0.044693   \n",
              "\n",
              "       aa_H_freq  aa_I_freq  aa_K_freq  aa_L_freq  aa_M_freq  aa_N_freq  \\\n",
              "0       0.008798   0.041056   0.046921   0.108504   0.023460   0.014663   \n",
              "1       0.013986   0.045455   0.066434   0.080420   0.006993   0.020979   \n",
              "2       0.022133   0.032193   0.078471   0.036217   0.012072   0.030181   \n",
              "3       0.026415   0.037736   0.064151   0.105660   0.007547   0.033962   \n",
              "4       0.027567   0.048932   0.046864   0.071675   0.021365   0.044797   \n",
              "...          ...        ...        ...        ...        ...        ...   \n",
              "31070   0.027322   0.038251   0.058288   0.083789   0.023679   0.043716   \n",
              "31071   0.046908   0.063966   0.042644   0.100213   0.029851   0.040512   \n",
              "31072   0.015625   0.046875   0.062500   0.046875   0.054688   0.039062   \n",
              "31073   0.018550   0.057336   0.059022   0.075885   0.043845   0.042159   \n",
              "31074   0.039106   0.057728   0.033520   0.147114   0.013035   0.037244   \n",
              "\n",
              "       aa_P_freq  aa_Q_freq  aa_R_freq  aa_S_freq  aa_T_freq  aa_V_freq  \\\n",
              "0       0.052786   0.017595   0.073314   0.032258   0.041056   0.108504   \n",
              "1       0.027972   0.076923   0.104895   0.048951   0.041958   0.045455   \n",
              "2       0.040241   0.050302   0.062374   0.066398   0.060362   0.060362   \n",
              "3       0.060377   0.033962   0.037736   0.060377   0.071698   0.052830   \n",
              "4       0.088215   0.037216   0.043418   0.101999   0.082702   0.085458   \n",
              "...          ...        ...        ...        ...        ...        ...   \n",
              "31070   0.045537   0.043716   0.076503   0.060109   0.032787   0.076503   \n",
              "31071   0.040512   0.034115   0.053305   0.078891   0.055437   0.072495   \n",
              "31072   0.046875   0.062500   0.023438   0.078125   0.046875   0.054688   \n",
              "31073   0.052277   0.020236   0.042159   0.086003   0.053963   0.080944   \n",
              "31074   0.057728   0.033520   0.052142   0.063315   0.054004   0.070764   \n",
              "\n",
              "       aa_W_freq  aa_Y_freq  \n",
              "0       0.011730   0.008798  \n",
              "1       0.010490   0.010490  \n",
              "2       0.006036   0.032193  \n",
              "3       0.011321   0.015094  \n",
              "4       0.011027   0.032391  \n",
              "...          ...        ...  \n",
              "31070   0.023679   0.032787  \n",
              "31071   0.010661   0.029851  \n",
              "31072   0.031250   0.031250  \n",
              "31073   0.005059   0.030354  \n",
              "31074   0.033520   0.054004  \n",
              "\n",
              "[31075 rows x 20 columns]"
            ]
          },
          "execution_count": 35,
          "metadata": {},
          "output_type": "execute_result"
        }
      ],
      "source": [
        "df_aac_encode = pd.DataFrame(encoded)\n",
        "df_aac_encode"
      ]
    },
    {
      "cell_type": "code",
      "execution_count": null,
      "id": "eKvjoqtl8NsG",
      "metadata": {
        "id": "eKvjoqtl8NsG"
      },
      "outputs": [],
      "source": [
        "!touch encoding_gaac.tsv # grouped amino acid composition (20 aa types are further categorized into 5 classes according to their physicochemical properties)"
      ]
    },
    {
      "cell_type": "code",
      "execution_count": null,
      "id": "Ig34dradDNIO",
      "metadata": {
        "colab": {
          "base_uri": "https://localhost:8080/"
        },
        "id": "Ig34dradDNIO",
        "outputId": "17929b23-6989-4d4f-e5c5-0e22a9f69e8b"
      },
      "outputs": [
        {
          "name": "stdout",
          "output_type": "stream",
          "text": [
            "Descriptor type: GAAC\n"
          ]
        }
      ],
      "source": [
        "!python iFeature/iFeature.py --file aa_seq.fasta --type GAAC --out encoding_gaac.tsv"
      ]
    },
    {
      "cell_type": "code",
      "execution_count": null,
      "id": "Pv6A_IpWOvNc",
      "metadata": {
        "colab": {
          "base_uri": "https://localhost:8080/"
        },
        "id": "Pv6A_IpWOvNc",
        "outputId": "9e298bae-156e-49ba-c749-d96212e46920"
      },
      "outputs": [
        {
          "name": "stdout",
          "output_type": "stream",
          "text": [
            "#\talphatic\taromatic\tpostivecharge\tnegativecharge\tuncharge\n",
            "0\t0.5249266862170088\t0.05865102639296188\t0.12903225806451613\t0.12609970674486803\t0.16129032258064516\n",
            "1\t0.33916083916083917\t0.04195804195804196\t0.1853146853146853\t0.21678321678321677\t0.21678321678321677\n",
            "2\t0.3722334004024145\t0.08048289738430583\t0.16297786720321933\t0.11871227364185111\t0.2655935613682093\n",
            "3\t0.33962264150943394\t0.07169811320754717\t0.12830188679245283\t0.1811320754716981\t0.2792452830188679\n",
            "4\t0.34458993797381116\t0.06547208821502412\t0.11784975878704342\t0.10751206064782909\t0.3645761543762922\n",
            "5\t0.4394736842105263\t0.09210526315789473\t0.1368421052631579\t0.09210526315789473\t0.2394736842105263\n",
            "6\t0.4394736842105263\t0.09210526315789473\t0.1368421052631579\t0.09210526315789473\t0.2394736842105263\n",
            "7\t0.3554817275747508\t0.07308970099667775\t0.13953488372093023\t0.11627906976744186\t0.31561461794019935\n",
            "8\t0.4878048780487805\t0.05574912891986063\t0.11498257839721254\t0.12195121951219512\t0.21951219512195122\n"
          ]
        }
      ],
      "source": [
        "!cat encoding_gaac.tsv | head -n 10"
      ]
    },
    {
      "cell_type": "code",
      "execution_count": null,
      "id": "Wnmpn5gWOvSi",
      "metadata": {
        "colab": {
          "base_uri": "https://localhost:8080/"
        },
        "id": "Wnmpn5gWOvSi",
        "outputId": "f358dbbe-c039-4559-d4d3-9c082749d5ef"
      },
      "outputs": [
        {
          "name": "stdout",
          "output_type": "stream",
          "text": [
            "  31076  186456 3159211 encoding_gaac.tsv\n"
          ]
        }
      ],
      "source": [
        "!wc encoding_gaac.tsv"
      ]
    },
    {
      "cell_type": "code",
      "execution_count": null,
      "id": "15k-px9iOvYZ",
      "metadata": {
        "colab": {
          "base_uri": "https://localhost:8080/"
        },
        "id": "15k-px9iOvYZ",
        "outputId": "683d6817-d730-4e74-aee6-bc9f6384a2a9"
      },
      "outputs": [
        {
          "name": "stdout",
          "output_type": "stream",
          "text": [
            "[{'alphatic': 0.5249266862170088, 'aromatic': 0.05865102639296188, 'postivecharge': 0.12903225806451613, 'negativecharge': 0.12609970674486803, 'uncharge': 0.16129032258064516}, {'alphatic': 0.33916083916083917, 'aromatic': 0.04195804195804196, 'postivecharge': 0.1853146853146853, 'negativecharge': 0.21678321678321677, 'uncharge': 0.21678321678321677}, {'alphatic': 0.3722334004024145, 'aromatic': 0.08048289738430583, 'postivecharge': 0.16297786720321933, 'negativecharge': 0.11871227364185111, 'uncharge': 0.2655935613682093}]\n"
          ]
        }
      ],
      "source": [
        "encoded = []\n",
        "\n",
        "with open(\"encoding_gaac.tsv\") as infile:\n",
        "    lines = infile.readlines()\n",
        "    column_list = lines[0].strip().split(\"\\t\")[1:]\n",
        "    for line in lines[1:]:\n",
        "        values_dict = {}\n",
        "        line_elements = line.strip().split(\"\\t\")\n",
        "        for i in range(len(line_elements) - 1):\n",
        "            values_dict[column_list[i]] = float(line_elements[i + 1])\n",
        "        encoded.append(values_dict)\n",
        "\n",
        "print(encoded[:3])"
      ]
    },
    {
      "cell_type": "code",
      "execution_count": null,
      "id": "-HQntViNOveF",
      "metadata": {
        "colab": {
          "base_uri": "https://localhost:8080/",
          "height": 424
        },
        "id": "-HQntViNOveF",
        "outputId": "b1491e00-0143-44be-8841-2243ac7ce6da"
      },
      "outputs": [
        {
          "data": {
            "text/html": [
              "\n",
              "  <div id=\"df-c78265b0-4f07-49a4-87c7-b5a5ff8bbf3e\">\n",
              "    <div class=\"colab-df-container\">\n",
              "      <div>\n",
              "<style scoped>\n",
              "    .dataframe tbody tr th:only-of-type {\n",
              "        vertical-align: middle;\n",
              "    }\n",
              "\n",
              "    .dataframe tbody tr th {\n",
              "        vertical-align: top;\n",
              "    }\n",
              "\n",
              "    .dataframe thead th {\n",
              "        text-align: right;\n",
              "    }\n",
              "</style>\n",
              "<table border=\"1\" class=\"dataframe\">\n",
              "  <thead>\n",
              "    <tr style=\"text-align: right;\">\n",
              "      <th></th>\n",
              "      <th>alphatic</th>\n",
              "      <th>aromatic</th>\n",
              "      <th>postivecharge</th>\n",
              "      <th>negativecharge</th>\n",
              "      <th>uncharge</th>\n",
              "    </tr>\n",
              "  </thead>\n",
              "  <tbody>\n",
              "    <tr>\n",
              "      <th>0</th>\n",
              "      <td>0.524927</td>\n",
              "      <td>0.058651</td>\n",
              "      <td>0.129032</td>\n",
              "      <td>0.126100</td>\n",
              "      <td>0.161290</td>\n",
              "    </tr>\n",
              "    <tr>\n",
              "      <th>1</th>\n",
              "      <td>0.339161</td>\n",
              "      <td>0.041958</td>\n",
              "      <td>0.185315</td>\n",
              "      <td>0.216783</td>\n",
              "      <td>0.216783</td>\n",
              "    </tr>\n",
              "    <tr>\n",
              "      <th>2</th>\n",
              "      <td>0.372233</td>\n",
              "      <td>0.080483</td>\n",
              "      <td>0.162978</td>\n",
              "      <td>0.118712</td>\n",
              "      <td>0.265594</td>\n",
              "    </tr>\n",
              "    <tr>\n",
              "      <th>3</th>\n",
              "      <td>0.339623</td>\n",
              "      <td>0.071698</td>\n",
              "      <td>0.128302</td>\n",
              "      <td>0.181132</td>\n",
              "      <td>0.279245</td>\n",
              "    </tr>\n",
              "    <tr>\n",
              "      <th>4</th>\n",
              "      <td>0.344590</td>\n",
              "      <td>0.065472</td>\n",
              "      <td>0.117850</td>\n",
              "      <td>0.107512</td>\n",
              "      <td>0.364576</td>\n",
              "    </tr>\n",
              "    <tr>\n",
              "      <th>...</th>\n",
              "      <td>...</td>\n",
              "      <td>...</td>\n",
              "      <td>...</td>\n",
              "      <td>...</td>\n",
              "      <td>...</td>\n",
              "    </tr>\n",
              "    <tr>\n",
              "      <th>31070</th>\n",
              "      <td>0.375228</td>\n",
              "      <td>0.089253</td>\n",
              "      <td>0.162113</td>\n",
              "      <td>0.125683</td>\n",
              "      <td>0.247723</td>\n",
              "    </tr>\n",
              "    <tr>\n",
              "      <th>31071</th>\n",
              "      <td>0.402985</td>\n",
              "      <td>0.087420</td>\n",
              "      <td>0.142857</td>\n",
              "      <td>0.106610</td>\n",
              "      <td>0.260128</td>\n",
              "    </tr>\n",
              "    <tr>\n",
              "      <th>31072</th>\n",
              "      <td>0.390625</td>\n",
              "      <td>0.117188</td>\n",
              "      <td>0.101562</td>\n",
              "      <td>0.109375</td>\n",
              "      <td>0.281250</td>\n",
              "    </tr>\n",
              "    <tr>\n",
              "      <th>31073</th>\n",
              "      <td>0.424958</td>\n",
              "      <td>0.074199</td>\n",
              "      <td>0.119730</td>\n",
              "      <td>0.118044</td>\n",
              "      <td>0.263069</td>\n",
              "    </tr>\n",
              "    <tr>\n",
              "      <th>31074</th>\n",
              "      <td>0.396648</td>\n",
              "      <td>0.135940</td>\n",
              "      <td>0.124767</td>\n",
              "      <td>0.087523</td>\n",
              "      <td>0.255121</td>\n",
              "    </tr>\n",
              "  </tbody>\n",
              "</table>\n",
              "<p>31075 rows × 5 columns</p>\n",
              "</div>\n",
              "      <button class=\"colab-df-convert\" onclick=\"convertToInteractive('df-c78265b0-4f07-49a4-87c7-b5a5ff8bbf3e')\"\n",
              "              title=\"Convert this dataframe to an interactive table.\"\n",
              "              style=\"display:none;\">\n",
              "        \n",
              "  <svg xmlns=\"http://www.w3.org/2000/svg\" height=\"24px\"viewBox=\"0 0 24 24\"\n",
              "       width=\"24px\">\n",
              "    <path d=\"M0 0h24v24H0V0z\" fill=\"none\"/>\n",
              "    <path d=\"M18.56 5.44l.94 2.06.94-2.06 2.06-.94-2.06-.94-.94-2.06-.94 2.06-2.06.94zm-11 1L8.5 8.5l.94-2.06 2.06-.94-2.06-.94L8.5 2.5l-.94 2.06-2.06.94zm10 10l.94 2.06.94-2.06 2.06-.94-2.06-.94-.94-2.06-.94 2.06-2.06.94z\"/><path d=\"M17.41 7.96l-1.37-1.37c-.4-.4-.92-.59-1.43-.59-.52 0-1.04.2-1.43.59L10.3 9.45l-7.72 7.72c-.78.78-.78 2.05 0 2.83L4 21.41c.39.39.9.59 1.41.59.51 0 1.02-.2 1.41-.59l7.78-7.78 2.81-2.81c.8-.78.8-2.07 0-2.86zM5.41 20L4 18.59l7.72-7.72 1.47 1.35L5.41 20z\"/>\n",
              "  </svg>\n",
              "      </button>\n",
              "      \n",
              "  <style>\n",
              "    .colab-df-container {\n",
              "      display:flex;\n",
              "      flex-wrap:wrap;\n",
              "      gap: 12px;\n",
              "    }\n",
              "\n",
              "    .colab-df-convert {\n",
              "      background-color: #E8F0FE;\n",
              "      border: none;\n",
              "      border-radius: 50%;\n",
              "      cursor: pointer;\n",
              "      display: none;\n",
              "      fill: #1967D2;\n",
              "      height: 32px;\n",
              "      padding: 0 0 0 0;\n",
              "      width: 32px;\n",
              "    }\n",
              "\n",
              "    .colab-df-convert:hover {\n",
              "      background-color: #E2EBFA;\n",
              "      box-shadow: 0px 1px 2px rgba(60, 64, 67, 0.3), 0px 1px 3px 1px rgba(60, 64, 67, 0.15);\n",
              "      fill: #174EA6;\n",
              "    }\n",
              "\n",
              "    [theme=dark] .colab-df-convert {\n",
              "      background-color: #3B4455;\n",
              "      fill: #D2E3FC;\n",
              "    }\n",
              "\n",
              "    [theme=dark] .colab-df-convert:hover {\n",
              "      background-color: #434B5C;\n",
              "      box-shadow: 0px 1px 3px 1px rgba(0, 0, 0, 0.15);\n",
              "      filter: drop-shadow(0px 1px 2px rgba(0, 0, 0, 0.3));\n",
              "      fill: #FFFFFF;\n",
              "    }\n",
              "  </style>\n",
              "\n",
              "      <script>\n",
              "        const buttonEl =\n",
              "          document.querySelector('#df-c78265b0-4f07-49a4-87c7-b5a5ff8bbf3e button.colab-df-convert');\n",
              "        buttonEl.style.display =\n",
              "          google.colab.kernel.accessAllowed ? 'block' : 'none';\n",
              "\n",
              "        async function convertToInteractive(key) {\n",
              "          const element = document.querySelector('#df-c78265b0-4f07-49a4-87c7-b5a5ff8bbf3e');\n",
              "          const dataTable =\n",
              "            await google.colab.kernel.invokeFunction('convertToInteractive',\n",
              "                                                     [key], {});\n",
              "          if (!dataTable) return;\n",
              "\n",
              "          const docLinkHtml = 'Like what you see? Visit the ' +\n",
              "            '<a target=\"_blank\" href=https://colab.research.google.com/notebooks/data_table.ipynb>data table notebook</a>'\n",
              "            + ' to learn more about interactive tables.';\n",
              "          element.innerHTML = '';\n",
              "          dataTable['output_type'] = 'display_data';\n",
              "          await google.colab.output.renderOutput(dataTable, element);\n",
              "          const docLink = document.createElement('div');\n",
              "          docLink.innerHTML = docLinkHtml;\n",
              "          element.appendChild(docLink);\n",
              "        }\n",
              "      </script>\n",
              "    </div>\n",
              "  </div>\n",
              "  "
            ],
            "text/plain": [
              "       alphatic  aromatic  postivecharge  negativecharge  uncharge\n",
              "0      0.524927  0.058651       0.129032        0.126100  0.161290\n",
              "1      0.339161  0.041958       0.185315        0.216783  0.216783\n",
              "2      0.372233  0.080483       0.162978        0.118712  0.265594\n",
              "3      0.339623  0.071698       0.128302        0.181132  0.279245\n",
              "4      0.344590  0.065472       0.117850        0.107512  0.364576\n",
              "...         ...       ...            ...             ...       ...\n",
              "31070  0.375228  0.089253       0.162113        0.125683  0.247723\n",
              "31071  0.402985  0.087420       0.142857        0.106610  0.260128\n",
              "31072  0.390625  0.117188       0.101562        0.109375  0.281250\n",
              "31073  0.424958  0.074199       0.119730        0.118044  0.263069\n",
              "31074  0.396648  0.135940       0.124767        0.087523  0.255121\n",
              "\n",
              "[31075 rows x 5 columns]"
            ]
          },
          "execution_count": 41,
          "metadata": {},
          "output_type": "execute_result"
        }
      ],
      "source": [
        "df_gaac_encode = pd.DataFrame(encoded)\n",
        "df_gaac_encode"
      ]
    },
    {
      "cell_type": "code",
      "execution_count": null,
      "id": "Z8HSZ1jAJvBx",
      "metadata": {
        "colab": {
          "base_uri": "https://localhost:8080/",
          "height": 424
        },
        "id": "Z8HSZ1jAJvBx",
        "outputId": "9de7c674-1164-4a56-c068-1566af1b09dd"
      },
      "outputs": [
        {
          "data": {
            "text/html": [
              "\n",
              "  <div id=\"df-ea9dffaa-316b-4a5f-bba2-4bc462bd7f26\">\n",
              "    <div class=\"colab-df-container\">\n",
              "      <div>\n",
              "<style scoped>\n",
              "    .dataframe tbody tr th:only-of-type {\n",
              "        vertical-align: middle;\n",
              "    }\n",
              "\n",
              "    .dataframe tbody tr th {\n",
              "        vertical-align: top;\n",
              "    }\n",
              "\n",
              "    .dataframe thead th {\n",
              "        text-align: right;\n",
              "    }\n",
              "</style>\n",
              "<table border=\"1\" class=\"dataframe\">\n",
              "  <thead>\n",
              "    <tr style=\"text-align: right;\">\n",
              "      <th></th>\n",
              "      <th>protein_sequence</th>\n",
              "      <th>pH</th>\n",
              "      <th>tm</th>\n",
              "    </tr>\n",
              "  </thead>\n",
              "  <tbody>\n",
              "    <tr>\n",
              "      <th>0</th>\n",
              "      <td>AAAAKAAALALLGEAPEVVDIWLPAGWRQPFRVFRLERKGDGVLVG...</td>\n",
              "      <td>7.0</td>\n",
              "      <td>75.7</td>\n",
              "    </tr>\n",
              "    <tr>\n",
              "      <th>1</th>\n",
              "      <td>AAADGEPLHNEEERAGAGQVGRSLPQESEEQRTGSRPRRRRDLGSR...</td>\n",
              "      <td>7.0</td>\n",
              "      <td>50.5</td>\n",
              "    </tr>\n",
              "    <tr>\n",
              "      <th>2</th>\n",
              "      <td>AAAFSTPRATSYRILSSAGSGSTRADAPQVRRLHTTRDLLAKDYYA...</td>\n",
              "      <td>7.0</td>\n",
              "      <td>40.5</td>\n",
              "    </tr>\n",
              "    <tr>\n",
              "      <th>3</th>\n",
              "      <td>AAASGLRTAIPAQPLRHLLQPAPRPCLRPFGLLSVRAGSARRSGLL...</td>\n",
              "      <td>7.0</td>\n",
              "      <td>47.2</td>\n",
              "    </tr>\n",
              "    <tr>\n",
              "      <th>4</th>\n",
              "      <td>AAATKSGPRRQSQGASVRTFTPFYFLVEPVDTLSVRGSSVILNCSA...</td>\n",
              "      <td>7.0</td>\n",
              "      <td>49.5</td>\n",
              "    </tr>\n",
              "    <tr>\n",
              "      <th>...</th>\n",
              "      <td>...</td>\n",
              "      <td>...</td>\n",
              "      <td>...</td>\n",
              "    </tr>\n",
              "    <tr>\n",
              "      <th>31070</th>\n",
              "      <td>YYMYSGGGSALAAGGGGAGRKGDWNDIDSIKKKDLHHSRGDEKAQG...</td>\n",
              "      <td>7.0</td>\n",
              "      <td>51.8</td>\n",
              "    </tr>\n",
              "    <tr>\n",
              "      <th>31071</th>\n",
              "      <td>YYNDQHRLSSYSVETAMFLSWERAIVKPGAMFKKAVIGFNCNVDLI...</td>\n",
              "      <td>7.0</td>\n",
              "      <td>37.2</td>\n",
              "    </tr>\n",
              "    <tr>\n",
              "      <th>31072</th>\n",
              "      <td>YYQRTLGAELLYKISFGEMPKSAQDSAENCPSGMQFPDTAIAHANV...</td>\n",
              "      <td>7.0</td>\n",
              "      <td>64.6</td>\n",
              "    </tr>\n",
              "    <tr>\n",
              "      <th>31073</th>\n",
              "      <td>YYSFSDNITTVFLSRQAIDDDHSLSLGTISDVVESENGVVAADDAR...</td>\n",
              "      <td>7.0</td>\n",
              "      <td>50.7</td>\n",
              "    </tr>\n",
              "    <tr>\n",
              "      <th>31074</th>\n",
              "      <td>YYVPDEYWQSLEVAHKLTFGYGYLTWEWVQGIRSYVYPLLIAGLYK...</td>\n",
              "      <td>7.0</td>\n",
              "      <td>37.6</td>\n",
              "    </tr>\n",
              "  </tbody>\n",
              "</table>\n",
              "<p>31075 rows × 3 columns</p>\n",
              "</div>\n",
              "      <button class=\"colab-df-convert\" onclick=\"convertToInteractive('df-ea9dffaa-316b-4a5f-bba2-4bc462bd7f26')\"\n",
              "              title=\"Convert this dataframe to an interactive table.\"\n",
              "              style=\"display:none;\">\n",
              "        \n",
              "  <svg xmlns=\"http://www.w3.org/2000/svg\" height=\"24px\"viewBox=\"0 0 24 24\"\n",
              "       width=\"24px\">\n",
              "    <path d=\"M0 0h24v24H0V0z\" fill=\"none\"/>\n",
              "    <path d=\"M18.56 5.44l.94 2.06.94-2.06 2.06-.94-2.06-.94-.94-2.06-.94 2.06-2.06.94zm-11 1L8.5 8.5l.94-2.06 2.06-.94-2.06-.94L8.5 2.5l-.94 2.06-2.06.94zm10 10l.94 2.06.94-2.06 2.06-.94-2.06-.94-.94-2.06-.94 2.06-2.06.94z\"/><path d=\"M17.41 7.96l-1.37-1.37c-.4-.4-.92-.59-1.43-.59-.52 0-1.04.2-1.43.59L10.3 9.45l-7.72 7.72c-.78.78-.78 2.05 0 2.83L4 21.41c.39.39.9.59 1.41.59.51 0 1.02-.2 1.41-.59l7.78-7.78 2.81-2.81c.8-.78.8-2.07 0-2.86zM5.41 20L4 18.59l7.72-7.72 1.47 1.35L5.41 20z\"/>\n",
              "  </svg>\n",
              "      </button>\n",
              "      \n",
              "  <style>\n",
              "    .colab-df-container {\n",
              "      display:flex;\n",
              "      flex-wrap:wrap;\n",
              "      gap: 12px;\n",
              "    }\n",
              "\n",
              "    .colab-df-convert {\n",
              "      background-color: #E8F0FE;\n",
              "      border: none;\n",
              "      border-radius: 50%;\n",
              "      cursor: pointer;\n",
              "      display: none;\n",
              "      fill: #1967D2;\n",
              "      height: 32px;\n",
              "      padding: 0 0 0 0;\n",
              "      width: 32px;\n",
              "    }\n",
              "\n",
              "    .colab-df-convert:hover {\n",
              "      background-color: #E2EBFA;\n",
              "      box-shadow: 0px 1px 2px rgba(60, 64, 67, 0.3), 0px 1px 3px 1px rgba(60, 64, 67, 0.15);\n",
              "      fill: #174EA6;\n",
              "    }\n",
              "\n",
              "    [theme=dark] .colab-df-convert {\n",
              "      background-color: #3B4455;\n",
              "      fill: #D2E3FC;\n",
              "    }\n",
              "\n",
              "    [theme=dark] .colab-df-convert:hover {\n",
              "      background-color: #434B5C;\n",
              "      box-shadow: 0px 1px 3px 1px rgba(0, 0, 0, 0.15);\n",
              "      filter: drop-shadow(0px 1px 2px rgba(0, 0, 0, 0.3));\n",
              "      fill: #FFFFFF;\n",
              "    }\n",
              "  </style>\n",
              "\n",
              "      <script>\n",
              "        const buttonEl =\n",
              "          document.querySelector('#df-ea9dffaa-316b-4a5f-bba2-4bc462bd7f26 button.colab-df-convert');\n",
              "        buttonEl.style.display =\n",
              "          google.colab.kernel.accessAllowed ? 'block' : 'none';\n",
              "\n",
              "        async function convertToInteractive(key) {\n",
              "          const element = document.querySelector('#df-ea9dffaa-316b-4a5f-bba2-4bc462bd7f26');\n",
              "          const dataTable =\n",
              "            await google.colab.kernel.invokeFunction('convertToInteractive',\n",
              "                                                     [key], {});\n",
              "          if (!dataTable) return;\n",
              "\n",
              "          const docLinkHtml = 'Like what you see? Visit the ' +\n",
              "            '<a target=\"_blank\" href=https://colab.research.google.com/notebooks/data_table.ipynb>data table notebook</a>'\n",
              "            + ' to learn more about interactive tables.';\n",
              "          element.innerHTML = '';\n",
              "          dataTable['output_type'] = 'display_data';\n",
              "          await google.colab.output.renderOutput(dataTable, element);\n",
              "          const docLink = document.createElement('div');\n",
              "          docLink.innerHTML = docLinkHtml;\n",
              "          element.appendChild(docLink);\n",
              "        }\n",
              "      </script>\n",
              "    </div>\n",
              "  </div>\n",
              "  "
            ],
            "text/plain": [
              "                                        protein_sequence   pH    tm\n",
              "0      AAAAKAAALALLGEAPEVVDIWLPAGWRQPFRVFRLERKGDGVLVG...  7.0  75.7\n",
              "1      AAADGEPLHNEEERAGAGQVGRSLPQESEEQRTGSRPRRRRDLGSR...  7.0  50.5\n",
              "2      AAAFSTPRATSYRILSSAGSGSTRADAPQVRRLHTTRDLLAKDYYA...  7.0  40.5\n",
              "3      AAASGLRTAIPAQPLRHLLQPAPRPCLRPFGLLSVRAGSARRSGLL...  7.0  47.2\n",
              "4      AAATKSGPRRQSQGASVRTFTPFYFLVEPVDTLSVRGSSVILNCSA...  7.0  49.5\n",
              "...                                                  ...  ...   ...\n",
              "31070  YYMYSGGGSALAAGGGGAGRKGDWNDIDSIKKKDLHHSRGDEKAQG...  7.0  51.8\n",
              "31071  YYNDQHRLSSYSVETAMFLSWERAIVKPGAMFKKAVIGFNCNVDLI...  7.0  37.2\n",
              "31072  YYQRTLGAELLYKISFGEMPKSAQDSAENCPSGMQFPDTAIAHANV...  7.0  64.6\n",
              "31073  YYSFSDNITTVFLSRQAIDDDHSLSLGTISDVVESENGVVAADDAR...  7.0  50.7\n",
              "31074  YYVPDEYWQSLEVAHKLTFGYGYLTWEWVQGIRSYVYPLLIAGLYK...  7.0  37.6\n",
              "\n",
              "[31075 rows x 3 columns]"
            ]
          },
          "execution_count": 42,
          "metadata": {},
          "output_type": "execute_result"
        }
      ],
      "source": [
        "index = pd.Index([i for i in range(31075)])\n",
        "data.set_index(index, inplace=True)\n",
        "data"
      ]
    },
    {
      "cell_type": "code",
      "execution_count": null,
      "id": "8RZHEswnOvjw",
      "metadata": {
        "colab": {
          "base_uri": "https://localhost:8080/",
          "height": 488
        },
        "id": "8RZHEswnOvjw",
        "outputId": "32f086e7-583e-49b0-ab50-24d2b17f8a1e"
      },
      "outputs": [
        {
          "data": {
            "text/html": [
              "\n",
              "  <div id=\"df-6b32c08c-7efd-4953-b1f7-99f5e888e38f\">\n",
              "    <div class=\"colab-df-container\">\n",
              "      <div>\n",
              "<style scoped>\n",
              "    .dataframe tbody tr th:only-of-type {\n",
              "        vertical-align: middle;\n",
              "    }\n",
              "\n",
              "    .dataframe tbody tr th {\n",
              "        vertical-align: top;\n",
              "    }\n",
              "\n",
              "    .dataframe thead th {\n",
              "        text-align: right;\n",
              "    }\n",
              "</style>\n",
              "<table border=\"1\" class=\"dataframe\">\n",
              "  <thead>\n",
              "    <tr style=\"text-align: right;\">\n",
              "      <th></th>\n",
              "      <th>protein_sequence</th>\n",
              "      <th>pH</th>\n",
              "      <th>tm</th>\n",
              "      <th>aa_A_freq</th>\n",
              "      <th>aa_C_freq</th>\n",
              "      <th>aa_D_freq</th>\n",
              "      <th>aa_E_freq</th>\n",
              "      <th>aa_F_freq</th>\n",
              "      <th>aa_G_freq</th>\n",
              "      <th>aa_H_freq</th>\n",
              "      <th>...</th>\n",
              "      <th>aa_S_freq</th>\n",
              "      <th>aa_T_freq</th>\n",
              "      <th>aa_V_freq</th>\n",
              "      <th>aa_W_freq</th>\n",
              "      <th>aa_Y_freq</th>\n",
              "      <th>alphatic</th>\n",
              "      <th>aromatic</th>\n",
              "      <th>postivecharge</th>\n",
              "      <th>negativecharge</th>\n",
              "      <th>uncharge</th>\n",
              "    </tr>\n",
              "  </thead>\n",
              "  <tbody>\n",
              "    <tr>\n",
              "      <th>0</th>\n",
              "      <td>AAAAKAAALALLGEAPEVVDIWLPAGWRQPFRVFRLERKGDGVLVG...</td>\n",
              "      <td>7.0</td>\n",
              "      <td>75.7</td>\n",
              "      <td>0.131965</td>\n",
              "      <td>0.002933</td>\n",
              "      <td>0.038123</td>\n",
              "      <td>0.087977</td>\n",
              "      <td>0.038123</td>\n",
              "      <td>0.111437</td>\n",
              "      <td>0.008798</td>\n",
              "      <td>...</td>\n",
              "      <td>0.032258</td>\n",
              "      <td>0.041056</td>\n",
              "      <td>0.108504</td>\n",
              "      <td>0.011730</td>\n",
              "      <td>0.008798</td>\n",
              "      <td>0.524927</td>\n",
              "      <td>0.058651</td>\n",
              "      <td>0.129032</td>\n",
              "      <td>0.126100</td>\n",
              "      <td>0.161290</td>\n",
              "    </tr>\n",
              "    <tr>\n",
              "      <th>1</th>\n",
              "      <td>AAADGEPLHNEEERAGAGQVGRSLPQESEEQRTGSRPRRRRDLGSR...</td>\n",
              "      <td>7.0</td>\n",
              "      <td>50.5</td>\n",
              "      <td>0.097902</td>\n",
              "      <td>0.000000</td>\n",
              "      <td>0.034965</td>\n",
              "      <td>0.181818</td>\n",
              "      <td>0.020979</td>\n",
              "      <td>0.062937</td>\n",
              "      <td>0.013986</td>\n",
              "      <td>...</td>\n",
              "      <td>0.048951</td>\n",
              "      <td>0.041958</td>\n",
              "      <td>0.045455</td>\n",
              "      <td>0.010490</td>\n",
              "      <td>0.010490</td>\n",
              "      <td>0.339161</td>\n",
              "      <td>0.041958</td>\n",
              "      <td>0.185315</td>\n",
              "      <td>0.216783</td>\n",
              "      <td>0.216783</td>\n",
              "    </tr>\n",
              "    <tr>\n",
              "      <th>2</th>\n",
              "      <td>AAAFSTPRATSYRILSSAGSGSTRADAPQVRRLHTTRDLLAKDYYA...</td>\n",
              "      <td>7.0</td>\n",
              "      <td>40.5</td>\n",
              "      <td>0.100604</td>\n",
              "      <td>0.018109</td>\n",
              "      <td>0.054326</td>\n",
              "      <td>0.064386</td>\n",
              "      <td>0.042254</td>\n",
              "      <td>0.130785</td>\n",
              "      <td>0.022133</td>\n",
              "      <td>...</td>\n",
              "      <td>0.066398</td>\n",
              "      <td>0.060362</td>\n",
              "      <td>0.060362</td>\n",
              "      <td>0.006036</td>\n",
              "      <td>0.032193</td>\n",
              "      <td>0.372233</td>\n",
              "      <td>0.080483</td>\n",
              "      <td>0.162978</td>\n",
              "      <td>0.118712</td>\n",
              "      <td>0.265594</td>\n",
              "    </tr>\n",
              "    <tr>\n",
              "      <th>3</th>\n",
              "      <td>AAASGLRTAIPAQPLRHLLQPAPRPCLRPFGLLSVRAGSARRSGLL...</td>\n",
              "      <td>7.0</td>\n",
              "      <td>47.2</td>\n",
              "      <td>0.075472</td>\n",
              "      <td>0.018868</td>\n",
              "      <td>0.071698</td>\n",
              "      <td>0.109434</td>\n",
              "      <td>0.045283</td>\n",
              "      <td>0.060377</td>\n",
              "      <td>0.026415</td>\n",
              "      <td>...</td>\n",
              "      <td>0.060377</td>\n",
              "      <td>0.071698</td>\n",
              "      <td>0.052830</td>\n",
              "      <td>0.011321</td>\n",
              "      <td>0.015094</td>\n",
              "      <td>0.339623</td>\n",
              "      <td>0.071698</td>\n",
              "      <td>0.128302</td>\n",
              "      <td>0.181132</td>\n",
              "      <td>0.279245</td>\n",
              "    </tr>\n",
              "    <tr>\n",
              "      <th>4</th>\n",
              "      <td>AAATKSGPRRQSQGASVRTFTPFYFLVEPVDTLSVRGSSVILNCSA...</td>\n",
              "      <td>7.0</td>\n",
              "      <td>49.5</td>\n",
              "      <td>0.059269</td>\n",
              "      <td>0.009649</td>\n",
              "      <td>0.053756</td>\n",
              "      <td>0.053756</td>\n",
              "      <td>0.022054</td>\n",
              "      <td>0.057891</td>\n",
              "      <td>0.027567</td>\n",
              "      <td>...</td>\n",
              "      <td>0.101999</td>\n",
              "      <td>0.082702</td>\n",
              "      <td>0.085458</td>\n",
              "      <td>0.011027</td>\n",
              "      <td>0.032391</td>\n",
              "      <td>0.344590</td>\n",
              "      <td>0.065472</td>\n",
              "      <td>0.117850</td>\n",
              "      <td>0.107512</td>\n",
              "      <td>0.364576</td>\n",
              "    </tr>\n",
              "    <tr>\n",
              "      <th>...</th>\n",
              "      <td>...</td>\n",
              "      <td>...</td>\n",
              "      <td>...</td>\n",
              "      <td>...</td>\n",
              "      <td>...</td>\n",
              "      <td>...</td>\n",
              "      <td>...</td>\n",
              "      <td>...</td>\n",
              "      <td>...</td>\n",
              "      <td>...</td>\n",
              "      <td>...</td>\n",
              "      <td>...</td>\n",
              "      <td>...</td>\n",
              "      <td>...</td>\n",
              "      <td>...</td>\n",
              "      <td>...</td>\n",
              "      <td>...</td>\n",
              "      <td>...</td>\n",
              "      <td>...</td>\n",
              "      <td>...</td>\n",
              "      <td>...</td>\n",
              "    </tr>\n",
              "    <tr>\n",
              "      <th>31070</th>\n",
              "      <td>YYMYSGGGSALAAGGGGAGRKGDWNDIDSIKKKDLHHSRGDEKAQG...</td>\n",
              "      <td>7.0</td>\n",
              "      <td>51.8</td>\n",
              "      <td>0.060109</td>\n",
              "      <td>0.021858</td>\n",
              "      <td>0.069217</td>\n",
              "      <td>0.056466</td>\n",
              "      <td>0.032787</td>\n",
              "      <td>0.092896</td>\n",
              "      <td>0.027322</td>\n",
              "      <td>...</td>\n",
              "      <td>0.060109</td>\n",
              "      <td>0.032787</td>\n",
              "      <td>0.076503</td>\n",
              "      <td>0.023679</td>\n",
              "      <td>0.032787</td>\n",
              "      <td>0.375228</td>\n",
              "      <td>0.089253</td>\n",
              "      <td>0.162113</td>\n",
              "      <td>0.125683</td>\n",
              "      <td>0.247723</td>\n",
              "    </tr>\n",
              "    <tr>\n",
              "      <th>31071</th>\n",
              "      <td>YYNDQHRLSSYSVETAMFLSWERAIVKPGAMFKKAVIGFNCNVDLI...</td>\n",
              "      <td>7.0</td>\n",
              "      <td>37.2</td>\n",
              "      <td>0.078891</td>\n",
              "      <td>0.010661</td>\n",
              "      <td>0.044776</td>\n",
              "      <td>0.061834</td>\n",
              "      <td>0.046908</td>\n",
              "      <td>0.057569</td>\n",
              "      <td>0.046908</td>\n",
              "      <td>...</td>\n",
              "      <td>0.078891</td>\n",
              "      <td>0.055437</td>\n",
              "      <td>0.072495</td>\n",
              "      <td>0.010661</td>\n",
              "      <td>0.029851</td>\n",
              "      <td>0.402985</td>\n",
              "      <td>0.087420</td>\n",
              "      <td>0.142857</td>\n",
              "      <td>0.106610</td>\n",
              "      <td>0.260128</td>\n",
              "    </tr>\n",
              "    <tr>\n",
              "      <th>31072</th>\n",
              "      <td>YYQRTLGAELLYKISFGEMPKSAQDSAENCPSGMQFPDTAIAHANV...</td>\n",
              "      <td>7.0</td>\n",
              "      <td>64.6</td>\n",
              "      <td>0.101562</td>\n",
              "      <td>0.007812</td>\n",
              "      <td>0.054688</td>\n",
              "      <td>0.054688</td>\n",
              "      <td>0.054688</td>\n",
              "      <td>0.085938</td>\n",
              "      <td>0.015625</td>\n",
              "      <td>...</td>\n",
              "      <td>0.078125</td>\n",
              "      <td>0.046875</td>\n",
              "      <td>0.054688</td>\n",
              "      <td>0.031250</td>\n",
              "      <td>0.031250</td>\n",
              "      <td>0.390625</td>\n",
              "      <td>0.117188</td>\n",
              "      <td>0.101562</td>\n",
              "      <td>0.109375</td>\n",
              "      <td>0.281250</td>\n",
              "    </tr>\n",
              "    <tr>\n",
              "      <th>31073</th>\n",
              "      <td>YYSFSDNITTVFLSRQAIDDDHSLSLGTISDVVESENGVVAADDAR...</td>\n",
              "      <td>7.0</td>\n",
              "      <td>50.7</td>\n",
              "      <td>0.079258</td>\n",
              "      <td>0.008432</td>\n",
              "      <td>0.057336</td>\n",
              "      <td>0.060708</td>\n",
              "      <td>0.038786</td>\n",
              "      <td>0.087690</td>\n",
              "      <td>0.018550</td>\n",
              "      <td>...</td>\n",
              "      <td>0.086003</td>\n",
              "      <td>0.053963</td>\n",
              "      <td>0.080944</td>\n",
              "      <td>0.005059</td>\n",
              "      <td>0.030354</td>\n",
              "      <td>0.424958</td>\n",
              "      <td>0.074199</td>\n",
              "      <td>0.119730</td>\n",
              "      <td>0.118044</td>\n",
              "      <td>0.263069</td>\n",
              "    </tr>\n",
              "    <tr>\n",
              "      <th>31074</th>\n",
              "      <td>YYVPDEYWQSLEVAHKLTFGYGYLTWEWVQGIRSYVYPLLIAGLYK...</td>\n",
              "      <td>7.0</td>\n",
              "      <td>37.6</td>\n",
              "      <td>0.063315</td>\n",
              "      <td>0.009311</td>\n",
              "      <td>0.027933</td>\n",
              "      <td>0.059590</td>\n",
              "      <td>0.048417</td>\n",
              "      <td>0.044693</td>\n",
              "      <td>0.039106</td>\n",
              "      <td>...</td>\n",
              "      <td>0.063315</td>\n",
              "      <td>0.054004</td>\n",
              "      <td>0.070764</td>\n",
              "      <td>0.033520</td>\n",
              "      <td>0.054004</td>\n",
              "      <td>0.396648</td>\n",
              "      <td>0.135940</td>\n",
              "      <td>0.124767</td>\n",
              "      <td>0.087523</td>\n",
              "      <td>0.255121</td>\n",
              "    </tr>\n",
              "  </tbody>\n",
              "</table>\n",
              "<p>31075 rows × 28 columns</p>\n",
              "</div>\n",
              "      <button class=\"colab-df-convert\" onclick=\"convertToInteractive('df-6b32c08c-7efd-4953-b1f7-99f5e888e38f')\"\n",
              "              title=\"Convert this dataframe to an interactive table.\"\n",
              "              style=\"display:none;\">\n",
              "        \n",
              "  <svg xmlns=\"http://www.w3.org/2000/svg\" height=\"24px\"viewBox=\"0 0 24 24\"\n",
              "       width=\"24px\">\n",
              "    <path d=\"M0 0h24v24H0V0z\" fill=\"none\"/>\n",
              "    <path d=\"M18.56 5.44l.94 2.06.94-2.06 2.06-.94-2.06-.94-.94-2.06-.94 2.06-2.06.94zm-11 1L8.5 8.5l.94-2.06 2.06-.94-2.06-.94L8.5 2.5l-.94 2.06-2.06.94zm10 10l.94 2.06.94-2.06 2.06-.94-2.06-.94-.94-2.06-.94 2.06-2.06.94z\"/><path d=\"M17.41 7.96l-1.37-1.37c-.4-.4-.92-.59-1.43-.59-.52 0-1.04.2-1.43.59L10.3 9.45l-7.72 7.72c-.78.78-.78 2.05 0 2.83L4 21.41c.39.39.9.59 1.41.59.51 0 1.02-.2 1.41-.59l7.78-7.78 2.81-2.81c.8-.78.8-2.07 0-2.86zM5.41 20L4 18.59l7.72-7.72 1.47 1.35L5.41 20z\"/>\n",
              "  </svg>\n",
              "      </button>\n",
              "      \n",
              "  <style>\n",
              "    .colab-df-container {\n",
              "      display:flex;\n",
              "      flex-wrap:wrap;\n",
              "      gap: 12px;\n",
              "    }\n",
              "\n",
              "    .colab-df-convert {\n",
              "      background-color: #E8F0FE;\n",
              "      border: none;\n",
              "      border-radius: 50%;\n",
              "      cursor: pointer;\n",
              "      display: none;\n",
              "      fill: #1967D2;\n",
              "      height: 32px;\n",
              "      padding: 0 0 0 0;\n",
              "      width: 32px;\n",
              "    }\n",
              "\n",
              "    .colab-df-convert:hover {\n",
              "      background-color: #E2EBFA;\n",
              "      box-shadow: 0px 1px 2px rgba(60, 64, 67, 0.3), 0px 1px 3px 1px rgba(60, 64, 67, 0.15);\n",
              "      fill: #174EA6;\n",
              "    }\n",
              "\n",
              "    [theme=dark] .colab-df-convert {\n",
              "      background-color: #3B4455;\n",
              "      fill: #D2E3FC;\n",
              "    }\n",
              "\n",
              "    [theme=dark] .colab-df-convert:hover {\n",
              "      background-color: #434B5C;\n",
              "      box-shadow: 0px 1px 3px 1px rgba(0, 0, 0, 0.15);\n",
              "      filter: drop-shadow(0px 1px 2px rgba(0, 0, 0, 0.3));\n",
              "      fill: #FFFFFF;\n",
              "    }\n",
              "  </style>\n",
              "\n",
              "      <script>\n",
              "        const buttonEl =\n",
              "          document.querySelector('#df-6b32c08c-7efd-4953-b1f7-99f5e888e38f button.colab-df-convert');\n",
              "        buttonEl.style.display =\n",
              "          google.colab.kernel.accessAllowed ? 'block' : 'none';\n",
              "\n",
              "        async function convertToInteractive(key) {\n",
              "          const element = document.querySelector('#df-6b32c08c-7efd-4953-b1f7-99f5e888e38f');\n",
              "          const dataTable =\n",
              "            await google.colab.kernel.invokeFunction('convertToInteractive',\n",
              "                                                     [key], {});\n",
              "          if (!dataTable) return;\n",
              "\n",
              "          const docLinkHtml = 'Like what you see? Visit the ' +\n",
              "            '<a target=\"_blank\" href=https://colab.research.google.com/notebooks/data_table.ipynb>data table notebook</a>'\n",
              "            + ' to learn more about interactive tables.';\n",
              "          element.innerHTML = '';\n",
              "          dataTable['output_type'] = 'display_data';\n",
              "          await google.colab.output.renderOutput(dataTable, element);\n",
              "          const docLink = document.createElement('div');\n",
              "          docLink.innerHTML = docLinkHtml;\n",
              "          element.appendChild(docLink);\n",
              "        }\n",
              "      </script>\n",
              "    </div>\n",
              "  </div>\n",
              "  "
            ],
            "text/plain": [
              "                                        protein_sequence   pH    tm  \\\n",
              "0      AAAAKAAALALLGEAPEVVDIWLPAGWRQPFRVFRLERKGDGVLVG...  7.0  75.7   \n",
              "1      AAADGEPLHNEEERAGAGQVGRSLPQESEEQRTGSRPRRRRDLGSR...  7.0  50.5   \n",
              "2      AAAFSTPRATSYRILSSAGSGSTRADAPQVRRLHTTRDLLAKDYYA...  7.0  40.5   \n",
              "3      AAASGLRTAIPAQPLRHLLQPAPRPCLRPFGLLSVRAGSARRSGLL...  7.0  47.2   \n",
              "4      AAATKSGPRRQSQGASVRTFTPFYFLVEPVDTLSVRGSSVILNCSA...  7.0  49.5   \n",
              "...                                                  ...  ...   ...   \n",
              "31070  YYMYSGGGSALAAGGGGAGRKGDWNDIDSIKKKDLHHSRGDEKAQG...  7.0  51.8   \n",
              "31071  YYNDQHRLSSYSVETAMFLSWERAIVKPGAMFKKAVIGFNCNVDLI...  7.0  37.2   \n",
              "31072  YYQRTLGAELLYKISFGEMPKSAQDSAENCPSGMQFPDTAIAHANV...  7.0  64.6   \n",
              "31073  YYSFSDNITTVFLSRQAIDDDHSLSLGTISDVVESENGVVAADDAR...  7.0  50.7   \n",
              "31074  YYVPDEYWQSLEVAHKLTFGYGYLTWEWVQGIRSYVYPLLIAGLYK...  7.0  37.6   \n",
              "\n",
              "       aa_A_freq  aa_C_freq  aa_D_freq  aa_E_freq  aa_F_freq  aa_G_freq  \\\n",
              "0       0.131965   0.002933   0.038123   0.087977   0.038123   0.111437   \n",
              "1       0.097902   0.000000   0.034965   0.181818   0.020979   0.062937   \n",
              "2       0.100604   0.018109   0.054326   0.064386   0.042254   0.130785   \n",
              "3       0.075472   0.018868   0.071698   0.109434   0.045283   0.060377   \n",
              "4       0.059269   0.009649   0.053756   0.053756   0.022054   0.057891   \n",
              "...          ...        ...        ...        ...        ...        ...   \n",
              "31070   0.060109   0.021858   0.069217   0.056466   0.032787   0.092896   \n",
              "31071   0.078891   0.010661   0.044776   0.061834   0.046908   0.057569   \n",
              "31072   0.101562   0.007812   0.054688   0.054688   0.054688   0.085938   \n",
              "31073   0.079258   0.008432   0.057336   0.060708   0.038786   0.087690   \n",
              "31074   0.063315   0.009311   0.027933   0.059590   0.048417   0.044693   \n",
              "\n",
              "       aa_H_freq  ...  aa_S_freq  aa_T_freq  aa_V_freq  aa_W_freq  aa_Y_freq  \\\n",
              "0       0.008798  ...   0.032258   0.041056   0.108504   0.011730   0.008798   \n",
              "1       0.013986  ...   0.048951   0.041958   0.045455   0.010490   0.010490   \n",
              "2       0.022133  ...   0.066398   0.060362   0.060362   0.006036   0.032193   \n",
              "3       0.026415  ...   0.060377   0.071698   0.052830   0.011321   0.015094   \n",
              "4       0.027567  ...   0.101999   0.082702   0.085458   0.011027   0.032391   \n",
              "...          ...  ...        ...        ...        ...        ...        ...   \n",
              "31070   0.027322  ...   0.060109   0.032787   0.076503   0.023679   0.032787   \n",
              "31071   0.046908  ...   0.078891   0.055437   0.072495   0.010661   0.029851   \n",
              "31072   0.015625  ...   0.078125   0.046875   0.054688   0.031250   0.031250   \n",
              "31073   0.018550  ...   0.086003   0.053963   0.080944   0.005059   0.030354   \n",
              "31074   0.039106  ...   0.063315   0.054004   0.070764   0.033520   0.054004   \n",
              "\n",
              "       alphatic  aromatic  postivecharge  negativecharge  uncharge  \n",
              "0      0.524927  0.058651       0.129032        0.126100  0.161290  \n",
              "1      0.339161  0.041958       0.185315        0.216783  0.216783  \n",
              "2      0.372233  0.080483       0.162978        0.118712  0.265594  \n",
              "3      0.339623  0.071698       0.128302        0.181132  0.279245  \n",
              "4      0.344590  0.065472       0.117850        0.107512  0.364576  \n",
              "...         ...       ...            ...             ...       ...  \n",
              "31070  0.375228  0.089253       0.162113        0.125683  0.247723  \n",
              "31071  0.402985  0.087420       0.142857        0.106610  0.260128  \n",
              "31072  0.390625  0.117188       0.101562        0.109375  0.281250  \n",
              "31073  0.424958  0.074199       0.119730        0.118044  0.263069  \n",
              "31074  0.396648  0.135940       0.124767        0.087523  0.255121  \n",
              "\n",
              "[31075 rows x 28 columns]"
            ]
          },
          "execution_count": 43,
          "metadata": {},
          "output_type": "execute_result"
        }
      ],
      "source": [
        "# make df with new features\n",
        "\n",
        "data_2 = pd.concat([data, df_aac_encode, df_gaac_encode], axis=1)\n",
        "data_2"
      ]
    },
    {
      "cell_type": "code",
      "execution_count": null,
      "id": "IdxxqOUAZ8W5",
      "metadata": {
        "id": "IdxxqOUAZ8W5"
      },
      "outputs": [],
      "source": [
        "data_2.to_csv(\"new_features_added.csv\")"
      ]
    },
    {
      "cell_type": "code",
      "execution_count": null,
      "id": "A5ooscKmfrij",
      "metadata": {
        "colab": {
          "base_uri": "https://localhost:8080/",
          "height": 300
        },
        "id": "A5ooscKmfrij",
        "outputId": "ad8bc259-ec6c-4057-a3b5-77a9d9dfbd94"
      },
      "outputs": [
        {
          "data": {
            "text/html": [
              "<div>\n",
              "<style scoped>\n",
              "    .dataframe tbody tr th:only-of-type {\n",
              "        vertical-align: middle;\n",
              "    }\n",
              "\n",
              "    .dataframe tbody tr th {\n",
              "        vertical-align: top;\n",
              "    }\n",
              "\n",
              "    .dataframe thead th {\n",
              "        text-align: right;\n",
              "    }\n",
              "</style>\n",
              "<table border=\"1\" class=\"dataframe\">\n",
              "  <thead>\n",
              "    <tr style=\"text-align: right;\">\n",
              "      <th></th>\n",
              "      <th>protein_sequence</th>\n",
              "      <th>pH</th>\n",
              "      <th>tm</th>\n",
              "      <th>aa_A_freq</th>\n",
              "      <th>aa_C_freq</th>\n",
              "      <th>aa_D_freq</th>\n",
              "      <th>aa_E_freq</th>\n",
              "      <th>aa_F_freq</th>\n",
              "      <th>aa_G_freq</th>\n",
              "      <th>aa_H_freq</th>\n",
              "      <th>...</th>\n",
              "      <th>aa_S_freq</th>\n",
              "      <th>aa_T_freq</th>\n",
              "      <th>aa_V_freq</th>\n",
              "      <th>aa_W_freq</th>\n",
              "      <th>aa_Y_freq</th>\n",
              "      <th>alphatic</th>\n",
              "      <th>aromatic</th>\n",
              "      <th>postivecharge</th>\n",
              "      <th>negativecharge</th>\n",
              "      <th>uncharge</th>\n",
              "    </tr>\n",
              "  </thead>\n",
              "  <tbody>\n",
              "    <tr>\n",
              "      <th>0</th>\n",
              "      <td>AAAAKAAALALLGEAPEVVDIWLPAGWRQPFRVFRLERKGDGVLVG...</td>\n",
              "      <td>7.0</td>\n",
              "      <td>75.7</td>\n",
              "      <td>0.131965</td>\n",
              "      <td>0.002933</td>\n",
              "      <td>0.038123</td>\n",
              "      <td>0.087977</td>\n",
              "      <td>0.038123</td>\n",
              "      <td>0.111437</td>\n",
              "      <td>0.008798</td>\n",
              "      <td>...</td>\n",
              "      <td>0.032258</td>\n",
              "      <td>0.041056</td>\n",
              "      <td>0.108504</td>\n",
              "      <td>0.011730</td>\n",
              "      <td>0.008798</td>\n",
              "      <td>0.524927</td>\n",
              "      <td>0.058651</td>\n",
              "      <td>0.129032</td>\n",
              "      <td>0.126100</td>\n",
              "      <td>0.161290</td>\n",
              "    </tr>\n",
              "    <tr>\n",
              "      <th>1</th>\n",
              "      <td>AAADGEPLHNEEERAGAGQVGRSLPQESEEQRTGSRPRRRRDLGSR...</td>\n",
              "      <td>7.0</td>\n",
              "      <td>50.5</td>\n",
              "      <td>0.097902</td>\n",
              "      <td>0.000000</td>\n",
              "      <td>0.034965</td>\n",
              "      <td>0.181818</td>\n",
              "      <td>0.020979</td>\n",
              "      <td>0.062937</td>\n",
              "      <td>0.013986</td>\n",
              "      <td>...</td>\n",
              "      <td>0.048951</td>\n",
              "      <td>0.041958</td>\n",
              "      <td>0.045455</td>\n",
              "      <td>0.010490</td>\n",
              "      <td>0.010490</td>\n",
              "      <td>0.339161</td>\n",
              "      <td>0.041958</td>\n",
              "      <td>0.185315</td>\n",
              "      <td>0.216783</td>\n",
              "      <td>0.216783</td>\n",
              "    </tr>\n",
              "    <tr>\n",
              "      <th>2</th>\n",
              "      <td>AAAFSTPRATSYRILSSAGSGSTRADAPQVRRLHTTRDLLAKDYYA...</td>\n",
              "      <td>7.0</td>\n",
              "      <td>40.5</td>\n",
              "      <td>0.100604</td>\n",
              "      <td>0.018109</td>\n",
              "      <td>0.054326</td>\n",
              "      <td>0.064386</td>\n",
              "      <td>0.042254</td>\n",
              "      <td>0.130785</td>\n",
              "      <td>0.022133</td>\n",
              "      <td>...</td>\n",
              "      <td>0.066398</td>\n",
              "      <td>0.060362</td>\n",
              "      <td>0.060362</td>\n",
              "      <td>0.006036</td>\n",
              "      <td>0.032193</td>\n",
              "      <td>0.372233</td>\n",
              "      <td>0.080483</td>\n",
              "      <td>0.162978</td>\n",
              "      <td>0.118712</td>\n",
              "      <td>0.265594</td>\n",
              "    </tr>\n",
              "    <tr>\n",
              "      <th>3</th>\n",
              "      <td>AAASGLRTAIPAQPLRHLLQPAPRPCLRPFGLLSVRAGSARRSGLL...</td>\n",
              "      <td>7.0</td>\n",
              "      <td>47.2</td>\n",
              "      <td>0.075472</td>\n",
              "      <td>0.018868</td>\n",
              "      <td>0.071698</td>\n",
              "      <td>0.109434</td>\n",
              "      <td>0.045283</td>\n",
              "      <td>0.060377</td>\n",
              "      <td>0.026415</td>\n",
              "      <td>...</td>\n",
              "      <td>0.060377</td>\n",
              "      <td>0.071698</td>\n",
              "      <td>0.052830</td>\n",
              "      <td>0.011321</td>\n",
              "      <td>0.015094</td>\n",
              "      <td>0.339623</td>\n",
              "      <td>0.071698</td>\n",
              "      <td>0.128302</td>\n",
              "      <td>0.181132</td>\n",
              "      <td>0.279245</td>\n",
              "    </tr>\n",
              "    <tr>\n",
              "      <th>4</th>\n",
              "      <td>AAATKSGPRRQSQGASVRTFTPFYFLVEPVDTLSVRGSSVILNCSA...</td>\n",
              "      <td>7.0</td>\n",
              "      <td>49.5</td>\n",
              "      <td>0.059269</td>\n",
              "      <td>0.009649</td>\n",
              "      <td>0.053756</td>\n",
              "      <td>0.053756</td>\n",
              "      <td>0.022054</td>\n",
              "      <td>0.057891</td>\n",
              "      <td>0.027567</td>\n",
              "      <td>...</td>\n",
              "      <td>0.101999</td>\n",
              "      <td>0.082702</td>\n",
              "      <td>0.085458</td>\n",
              "      <td>0.011027</td>\n",
              "      <td>0.032391</td>\n",
              "      <td>0.344590</td>\n",
              "      <td>0.065472</td>\n",
              "      <td>0.117850</td>\n",
              "      <td>0.107512</td>\n",
              "      <td>0.364576</td>\n",
              "    </tr>\n",
              "  </tbody>\n",
              "</table>\n",
              "<p>5 rows × 28 columns</p>\n",
              "</div>"
            ],
            "text/plain": [
              "                                    protein_sequence   pH    tm  aa_A_freq  \\\n",
              "0  AAAAKAAALALLGEAPEVVDIWLPAGWRQPFRVFRLERKGDGVLVG...  7.0  75.7   0.131965   \n",
              "1  AAADGEPLHNEEERAGAGQVGRSLPQESEEQRTGSRPRRRRDLGSR...  7.0  50.5   0.097902   \n",
              "2  AAAFSTPRATSYRILSSAGSGSTRADAPQVRRLHTTRDLLAKDYYA...  7.0  40.5   0.100604   \n",
              "3  AAASGLRTAIPAQPLRHLLQPAPRPCLRPFGLLSVRAGSARRSGLL...  7.0  47.2   0.075472   \n",
              "4  AAATKSGPRRQSQGASVRTFTPFYFLVEPVDTLSVRGSSVILNCSA...  7.0  49.5   0.059269   \n",
              "\n",
              "   aa_C_freq  aa_D_freq  aa_E_freq  aa_F_freq  aa_G_freq  aa_H_freq  ...  \\\n",
              "0   0.002933   0.038123   0.087977   0.038123   0.111437   0.008798  ...   \n",
              "1   0.000000   0.034965   0.181818   0.020979   0.062937   0.013986  ...   \n",
              "2   0.018109   0.054326   0.064386   0.042254   0.130785   0.022133  ...   \n",
              "3   0.018868   0.071698   0.109434   0.045283   0.060377   0.026415  ...   \n",
              "4   0.009649   0.053756   0.053756   0.022054   0.057891   0.027567  ...   \n",
              "\n",
              "   aa_S_freq  aa_T_freq  aa_V_freq  aa_W_freq  aa_Y_freq  alphatic  aromatic  \\\n",
              "0   0.032258   0.041056   0.108504   0.011730   0.008798  0.524927  0.058651   \n",
              "1   0.048951   0.041958   0.045455   0.010490   0.010490  0.339161  0.041958   \n",
              "2   0.066398   0.060362   0.060362   0.006036   0.032193  0.372233  0.080483   \n",
              "3   0.060377   0.071698   0.052830   0.011321   0.015094  0.339623  0.071698   \n",
              "4   0.101999   0.082702   0.085458   0.011027   0.032391  0.344590  0.065472   \n",
              "\n",
              "   postivecharge  negativecharge  uncharge  \n",
              "0       0.129032        0.126100  0.161290  \n",
              "1       0.185315        0.216783  0.216783  \n",
              "2       0.162978        0.118712  0.265594  \n",
              "3       0.128302        0.181132  0.279245  \n",
              "4       0.117850        0.107512  0.364576  \n",
              "\n",
              "[5 rows x 28 columns]"
            ]
          },
          "execution_count": 3,
          "metadata": {},
          "output_type": "execute_result"
        }
      ],
      "source": [
        "data_2 = pd.read_csv(\"new_features_added.csv\", index_col=0)\n",
        "data_2.head()"
      ]
    },
    {
      "cell_type": "markdown",
      "id": "cmjgeDOvMWru",
      "metadata": {
        "id": "cmjgeDOvMWru"
      },
      "source": [
        "**Correlation with target**"
      ]
    },
    {
      "cell_type": "code",
      "execution_count": null,
      "id": "fKuTVbcGU_YV",
      "metadata": {
        "colab": {
          "base_uri": "https://localhost:8080/"
        },
        "id": "fKuTVbcGU_YV",
        "outputId": "e6ebcca3-d68c-44af-81ac-bf91902cf695"
      },
      "outputs": [
        {
          "data": {
            "text/plain": [
              "['pH',\n",
              " 'aa_A_freq',\n",
              " 'aa_C_freq',\n",
              " 'aa_D_freq',\n",
              " 'aa_E_freq',\n",
              " 'aa_F_freq',\n",
              " 'aa_G_freq',\n",
              " 'aa_H_freq',\n",
              " 'aa_I_freq',\n",
              " 'aa_K_freq',\n",
              " 'aa_L_freq',\n",
              " 'aa_M_freq',\n",
              " 'aa_N_freq',\n",
              " 'aa_P_freq',\n",
              " 'aa_Q_freq',\n",
              " 'aa_R_freq',\n",
              " 'aa_S_freq',\n",
              " 'aa_T_freq',\n",
              " 'aa_V_freq',\n",
              " 'aa_W_freq',\n",
              " 'aa_Y_freq',\n",
              " 'alphatic',\n",
              " 'aromatic',\n",
              " 'postivecharge',\n",
              " 'negativecharge',\n",
              " 'uncharge']"
            ]
          },
          "execution_count": 4,
          "metadata": {},
          "output_type": "execute_result"
        }
      ],
      "source": [
        "target = 'tm'\n",
        "features = data_2.columns.drop([target, \"protein_sequence\"]).tolist()\n",
        "features"
      ]
    },
    {
      "cell_type": "code",
      "execution_count": null,
      "id": "jApRq7Okw_Yn",
      "metadata": {
        "colab": {
          "base_uri": "https://localhost:8080/",
          "height": 468
        },
        "id": "jApRq7Okw_Yn",
        "outputId": "00bd57a8-12d2-4043-f1d2-53f0d5a2dde5"
      },
      "outputs": [
        {
          "data": {
            "image/png": "[encoded data removed]",
            "text/plain": [
              "<Figure size 500x500 with 1 Axes>"
            ]
          },
          "metadata": {},
          "output_type": "display_data"
        }
      ],
      "source": [
        "corr_with_target = data_2[features + [target]].corr().iloc[:-1, -1].sort_values(ascending=False)\n",
        "\n",
        "plt.figure(figsize=(5, 5))\n",
        "\n",
        "sns.barplot(x=corr_with_target.values, y=corr_with_target.index)\n",
        "\n",
        "plt.title('Correlation with target variable')\n",
        "plt.show()"
      ]
    },
    {
      "cell_type": "markdown",
      "id": "Nn3qL1QvX_RX",
      "metadata": {
        "id": "Nn3qL1QvX_RX"
      },
      "source": [
        "**Correlation matrix**"
      ]
    },
    {
      "cell_type": "code",
      "execution_count": null,
      "id": "iHQA16x0w_dT",
      "metadata": {
        "colab": {
          "base_uri": "https://localhost:8080/",
          "height": 1000
        },
        "id": "iHQA16x0w_dT",
        "outputId": "7ea7971a-c763-4b29-a80b-844272b824f7"
      },
      "outputs": [
        {
          "data": {
            "image/png": "[encoded data removed]",
            "text/plain": [
              "<Figure size 1500x1500 with 2 Axes>"
            ]
          },
          "metadata": {},
          "output_type": "display_data"
        }
      ],
      "source": [
        "plt.figure(figsize = (15, 15))\n",
        "\n",
        "sns.set(font_scale=0.6)\n",
        "sns.heatmap(data_2[features].corr().round(3), annot=True, linewidths=.4, cmap='GnBu')\n",
        "\n",
        "plt.title('Correlation matrix')\n",
        "plt.show()"
      ]
    },
    {
      "cell_type": "markdown",
      "id": "8cc550S6at7V",
      "metadata": {
        "id": "8cc550S6at7V"
      },
      "source": [
        "## Train_Test_split"
      ]
    },
    {
      "cell_type": "code",
      "execution_count": null,
      "id": "dO5YWnPaw_gy",
      "metadata": {
        "id": "dO5YWnPaw_gy"
      },
      "outputs": [],
      "source": [
        "from sklearn.model_selection import train_test_split\n",
        "\n",
        "X = data_2[features]\n",
        "y = data_2[target]\n",
        "X_train, X_test, y_train, y_test = train_test_split(X, y, test_size=0.3, shuffle=True, random_state=42)"
      ]
    },
    {
      "cell_type": "code",
      "execution_count": null,
      "id": "QBli2xHF-6tD",
      "metadata": {
        "colab": {
          "base_uri": "https://localhost:8080/"
        },
        "id": "QBli2xHF-6tD",
        "outputId": "574c2d58-3cbf-46da-ca3c-e3ab94331f3c"
      },
      "outputs": [
        {
          "data": {
            "text/plain": [
              "(21752, 26)"
            ]
          },
          "execution_count": 6,
          "metadata": {},
          "output_type": "execute_result"
        }
      ],
      "source": [
        "X_train.shape"
      ]
    },
    {
      "cell_type": "code",
      "execution_count": null,
      "id": "tjtzAImQ_CP6",
      "metadata": {
        "colab": {
          "base_uri": "https://localhost:8080/"
        },
        "id": "tjtzAImQ_CP6",
        "outputId": "25661d4f-c18a-4c47-b559-ffeaa52305ae"
      },
      "outputs": [
        {
          "data": {
            "text/plain": [
              "(21752,)"
            ]
          },
          "execution_count": 44,
          "metadata": {},
          "output_type": "execute_result"
        }
      ],
      "source": [
        "y_train.shape"
      ]
    },
    {
      "cell_type": "code",
      "execution_count": null,
      "id": "ufJebNmeE5pG",
      "metadata": {
        "colab": {
          "base_uri": "https://localhost:8080/"
        },
        "id": "ufJebNmeE5pG",
        "outputId": "65bcdf89-1cf9-450c-e29f-198fa0f6d8ed"
      },
      "outputs": [
        {
          "data": {
            "text/plain": [
              "(9323, 26)"
            ]
          },
          "execution_count": 49,
          "metadata": {},
          "output_type": "execute_result"
        }
      ],
      "source": [
        "X_test.shape"
      ]
    },
    {
      "cell_type": "code",
      "execution_count": null,
      "id": "ZP_Mr47rFBR9",
      "metadata": {
        "colab": {
          "base_uri": "https://localhost:8080/"
        },
        "id": "ZP_Mr47rFBR9",
        "outputId": "f61109e8-116d-4d81-cba5-f6b7c1a02756"
      },
      "outputs": [
        {
          "data": {
            "text/plain": [
              "(9323,)"
            ]
          },
          "execution_count": 46,
          "metadata": {},
          "output_type": "execute_result"
        }
      ],
      "source": [
        "y_test.shape"
      ]
    },
    {
      "cell_type": "markdown",
      "id": "mPlN_rzxc5P5",
      "metadata": {
        "id": "mPlN_rzxc5P5"
      },
      "source": [
        "## Models building"
      ]
    },
    {
      "cell_type": "markdown",
      "id": "r3coZoAdc9Eo",
      "metadata": {
        "id": "r3coZoAdc9Eo"
      },
      "source": [
        "**Logistic regression**"
      ]
    },
    {
      "cell_type": "markdown",
      "id": "zwDkRESVz1eS",
      "metadata": {
        "id": "zwDkRESVz1eS"
      },
      "source": [
        "It seems to be not good choice, but let's try"
      ]
    },
    {
      "cell_type": "code",
      "execution_count": null,
      "id": "aVUwrmcmd__n",
      "metadata": {
        "id": "aVUwrmcmd__n"
      },
      "outputs": [],
      "source": [
        "from sklearn.linear_model import LogisticRegression\n",
        "from sklearn import preprocessing\n",
        "from sklearn import utils"
      ]
    },
    {
      "cell_type": "code",
      "execution_count": null,
      "id": "4VOlyn5teTYt",
      "metadata": {
        "colab": {
          "base_uri": "https://localhost:8080/"
        },
        "id": "4VOlyn5teTYt",
        "outputId": "6901d7d2-bfc9-48b8-f518-860f7207d1e6"
      },
      "outputs": [
        {
          "name": "stdout",
          "output_type": "stream",
          "text": [
            "902      44.6\n",
            "6501     41.5\n",
            "8192     41.0\n",
            "14981    43.0\n",
            "513      56.4\n",
            "         ... \n",
            "29802    46.5\n",
            "5390     82.7\n",
            "860      58.9\n",
            "15795    53.5\n",
            "23654    35.9\n",
            "Name: tm, Length: 21752, dtype: float64\n"
          ]
        }
      ],
      "source": [
        "print(y_train)"
      ]
    },
    {
      "cell_type": "code",
      "execution_count": null,
      "id": "d8cQcia_lvxF",
      "metadata": {
        "colab": {
          "base_uri": "https://localhost:8080/"
        },
        "id": "d8cQcia_lvxF",
        "outputId": "fcdd3bdd-9a2c-4ef4-c3c0-7790c1eaefcb"
      },
      "outputs": [
        {
          "name": "stdout",
          "output_type": "stream",
          "text": [
            "[529 277 177 ... 418 279 148]\n"
          ]
        }
      ],
      "source": [
        "from sklearn import preprocessing\n",
        "from sklearn import utils\n",
        "\n",
        "y_copy = data_2[target].copy()\n",
        "\n",
        "#convert y values to categorical values\n",
        "lab = preprocessing.LabelEncoder()\n",
        "y_transformed = lab.fit_transform(y_copy)\n",
        "\n",
        "#view transformed values\n",
        "print(y_transformed)\n",
        "\n",
        "X_train_lr, X_test_lr, y_train_lr, y_test_lr = train_test_split(X, y_transformed, test_size=0.3, shuffle=True, random_state=42)"
      ]
    },
    {
      "cell_type": "code",
      "execution_count": null,
      "id": "p8jnQ8dOckmI",
      "metadata": {
        "id": "p8jnQ8dOckmI"
      },
      "outputs": [],
      "source": [
        "from sklearn.model_selection import KFold\n",
        "from sklearn.model_selection import cross_val_score\n",
        "import numpy as np"
      ]
    },
    {
      "cell_type": "code",
      "execution_count": null,
      "id": "Ba1L5SGrdKGY",
      "metadata": {
        "colab": {
          "base_uri": "https://localhost:8080/"
        },
        "id": "Ba1L5SGrdKGY",
        "outputId": "9b0ae005-850e-4577-8a92-09d03f8bbd54"
      },
      "outputs": [
        {
          "name": "stderr",
          "output_type": "stream",
          "text": [
            "/usr/local/lib/python3.10/dist-packages/sklearn/linear_model/_logistic.py:458: ConvergenceWarning: lbfgs failed to converge (status=1):\n",
            "STOP: TOTAL NO. of ITERATIONS REACHED LIMIT.\n",
            "\n",
            "Increase the number of iterations (max_iter) or scale the data as shown in:\n",
            "    https://scikit-learn.org/stable/modules/preprocessing.html\n",
            "Please also refer to the documentation for alternative solver options:\n",
            "    https://scikit-learn.org/stable/modules/linear_model.html#logistic-regression\n",
            "  n_iter_i = _check_optimize_result(\n"
          ]
        },
        {
          "data": {
            "text/plain": [
              "array([0.04550678, 0.04665594, 0.04643678, 0.04827586, 0.04344828])"
            ]
          },
          "execution_count": 60,
          "metadata": {},
          "output_type": "execute_result"
        }
      ],
      "source": [
        "# prepare the cross-validation procedure\n",
        "cv = KFold(n_splits=5, random_state=21, shuffle=True)\n",
        "\n",
        "model_lr = LogisticRegression()\n",
        "model_lr.fit(X_train_lr, y_train_lr)\n",
        "\n",
        "# evaluate model\n",
        "cross_val_score(model_lr, X_train_lr, y_train_lr, scoring='accuracy', cv=cv, n_jobs=-1) # returns array of scores of the estimator for each run of the cross validation\n",
        "\n"
      ]
    },
    {
      "cell_type": "code",
      "execution_count": null,
      "id": "SnED15P-yzW1",
      "metadata": {
        "colab": {
          "base_uri": "https://localhost:8080/"
        },
        "id": "SnED15P-yzW1",
        "outputId": "f1acb8f2-b621-4305-eabc-ce331279ab6f"
      },
      "outputs": [
        {
          "data": {
            "text/plain": [
              "array([0.04075067, 0.03914209, 0.04450402, 0.03648069, 0.04184549])"
            ]
          },
          "execution_count": 61,
          "metadata": {},
          "output_type": "execute_result"
        }
      ],
      "source": [
        "# evaluate model on test\n",
        "cross_val_score(model_lr, X_test_lr, y_test_lr, scoring='accuracy', cv=cv, n_jobs=-1)"
      ]
    },
    {
      "cell_type": "markdown",
      "id": "sb_J55QWzYU0",
      "metadata": {
        "id": "sb_J55QWzYU0"
      },
      "source": [
        "Bad model, let's try other"
      ]
    },
    {
      "cell_type": "markdown",
      "id": "N-MxfV9Ir2-6",
      "metadata": {
        "id": "N-MxfV9Ir2-6"
      },
      "source": [
        "**RandomForestRegressor**"
      ]
    },
    {
      "cell_type": "code",
      "execution_count": null,
      "id": "yJfIcaUdx6kv",
      "metadata": {
        "id": "yJfIcaUdx6kv"
      },
      "outputs": [],
      "source": [
        "from sklearn.ensemble import RandomForestRegressor\n",
        "from sklearn.model_selection import GridSearchCV, KFold, RandomizedSearchCV"
      ]
    },
    {
      "cell_type": "code",
      "execution_count": null,
      "id": "r0FdqHiir5yI",
      "metadata": {
        "id": "r0FdqHiir5yI"
      },
      "outputs": [],
      "source": [
        "# Find optimal values fro n_estimators, max_depth parameters\n",
        "depths = list(np.arange(3, 15))\n",
        "depths.append(None)\n",
        "parameters = [{'n_estimators': [10, 50, 100, 300, 400, 500], \n",
        "               'max_depth': depths}]\n",
        "clf = GridSearchCV(estimator=RandomForestRegressor(random_state=42), param_grid=parameters, cv=5)\n",
        "clf.fit(X_train, y_train)\n",
        "clf.best_params_\n",
        "\n",
        "# n_estimators':  500, max_depth: None\n"
      ]
    },
    {
      "cell_type": "code",
      "execution_count": null,
      "id": "Q3xjLqDicvOS",
      "metadata": {
        "id": "Q3xjLqDicvOS"
      },
      "outputs": [],
      "source": [
        "from sklearn.metrics import r2_score\n",
        "from sklearn.model_selection import cross_val_score"
      ]
    },
    {
      "cell_type": "code",
      "execution_count": null,
      "id": "e8Usoduor57u",
      "metadata": {
        "colab": {
          "base_uri": "https://localhost:8080/"
        },
        "id": "e8Usoduor57u",
        "outputId": "eac969de-3834-4264-ebfd-a38e0418fa8a"
      },
      "outputs": [
        {
          "name": "stdout",
          "output_type": "stream",
          "text": [
            "R2 for train: 0.8977073498248391.\n",
            "R2 for test: 0.6000382887794447\n"
          ]
        }
      ],
      "source": [
        "forest = RandomForestRegressor(n_estimators=500, random_state=42, max_depth=None)\n",
        "forest.fit(X_train, y_train)\n",
        "y_train_pred = forest.predict(X_train)\n",
        "y_test_pred = forest.predict(X_test)\n",
        "\n",
        "r2_test_forest1 = r2_score(y_test, y_test_pred)\n",
        "r2_train_forest1 = r2_score(y_train, y_train_pred)\n",
        "\n",
        "print(f\"R2 for train: {r2_train_forest1}.\\nR2 for test: {r2_test_forest1}\")\n"
      ]
    },
    {
      "cell_type": "code",
      "execution_count": null,
      "id": "kFnsAWgN1rAi",
      "metadata": {
        "colab": {
          "base_uri": "https://localhost:8080/"
        },
        "id": "kFnsAWgN1rAi",
        "outputId": "f62cbdf2-deed-48f6-c1e1-7b3963bd1b6f"
      },
      "outputs": [
        {
          "name": "stdout",
          "output_type": "stream",
          "text": [
            "cv_score: [0.60050306 0.56799084 0.59575885], cv_score.mean():0.588084246729777\n"
          ]
        }
      ],
      "source": [
        "# cross-validation\n",
        "\n",
        "cv_score = cross_val_score(forest, X_train, y_train, scoring='r2', cv=KFold(n_splits=3, shuffle=True, random_state=42))\n",
        "print(f\"cv_score: {cv_score}, cv_score.mean():{cv_score.mean()}\")"
      ]
    },
    {
      "cell_type": "code",
      "execution_count": null,
      "id": "nLR5ca4W1xwd",
      "metadata": {
        "colab": {
          "base_uri": "https://localhost:8080/",
          "height": 865
        },
        "id": "nLR5ca4W1xwd",
        "outputId": "5f09c87b-b97e-4a3c-fc83-869df53fa9d6"
      },
      "outputs": [
        {
          "data": {
            "text/html": [
              "\n",
              "  <div id=\"df-26011e01-56b1-492e-b8d8-8595c4707611\">\n",
              "    <div class=\"colab-df-container\">\n",
              "      <div>\n",
              "<style scoped>\n",
              "    .dataframe tbody tr th:only-of-type {\n",
              "        vertical-align: middle;\n",
              "    }\n",
              "\n",
              "    .dataframe tbody tr th {\n",
              "        vertical-align: top;\n",
              "    }\n",
              "\n",
              "    .dataframe thead th {\n",
              "        text-align: right;\n",
              "    }\n",
              "</style>\n",
              "<table border=\"1\" class=\"dataframe\">\n",
              "  <thead>\n",
              "    <tr style=\"text-align: right;\">\n",
              "      <th></th>\n",
              "      <th>feature_name</th>\n",
              "      <th>importance</th>\n",
              "    </tr>\n",
              "  </thead>\n",
              "  <tbody>\n",
              "    <tr>\n",
              "      <th>25</th>\n",
              "      <td>uncharge</td>\n",
              "      <td>0.187031</td>\n",
              "    </tr>\n",
              "    <tr>\n",
              "      <th>9</th>\n",
              "      <td>aa_K_freq</td>\n",
              "      <td>0.091810</td>\n",
              "    </tr>\n",
              "    <tr>\n",
              "      <th>0</th>\n",
              "      <td>pH</td>\n",
              "      <td>0.088643</td>\n",
              "    </tr>\n",
              "    <tr>\n",
              "      <th>8</th>\n",
              "      <td>aa_I_freq</td>\n",
              "      <td>0.065341</td>\n",
              "    </tr>\n",
              "    <tr>\n",
              "      <th>14</th>\n",
              "      <td>aa_Q_freq</td>\n",
              "      <td>0.057162</td>\n",
              "    </tr>\n",
              "    <tr>\n",
              "      <th>13</th>\n",
              "      <td>aa_P_freq</td>\n",
              "      <td>0.052361</td>\n",
              "    </tr>\n",
              "    <tr>\n",
              "      <th>17</th>\n",
              "      <td>aa_T_freq</td>\n",
              "      <td>0.035468</td>\n",
              "    </tr>\n",
              "    <tr>\n",
              "      <th>16</th>\n",
              "      <td>aa_S_freq</td>\n",
              "      <td>0.032662</td>\n",
              "    </tr>\n",
              "    <tr>\n",
              "      <th>11</th>\n",
              "      <td>aa_M_freq</td>\n",
              "      <td>0.031829</td>\n",
              "    </tr>\n",
              "    <tr>\n",
              "      <th>12</th>\n",
              "      <td>aa_N_freq</td>\n",
              "      <td>0.031259</td>\n",
              "    </tr>\n",
              "    <tr>\n",
              "      <th>3</th>\n",
              "      <td>aa_D_freq</td>\n",
              "      <td>0.028040</td>\n",
              "    </tr>\n",
              "    <tr>\n",
              "      <th>20</th>\n",
              "      <td>aa_Y_freq</td>\n",
              "      <td>0.026460</td>\n",
              "    </tr>\n",
              "    <tr>\n",
              "      <th>18</th>\n",
              "      <td>aa_V_freq</td>\n",
              "      <td>0.025579</td>\n",
              "    </tr>\n",
              "    <tr>\n",
              "      <th>6</th>\n",
              "      <td>aa_G_freq</td>\n",
              "      <td>0.025509</td>\n",
              "    </tr>\n",
              "    <tr>\n",
              "      <th>1</th>\n",
              "      <td>aa_A_freq</td>\n",
              "      <td>0.025012</td>\n",
              "    </tr>\n",
              "    <tr>\n",
              "      <th>2</th>\n",
              "      <td>aa_C_freq</td>\n",
              "      <td>0.022009</td>\n",
              "    </tr>\n",
              "    <tr>\n",
              "      <th>15</th>\n",
              "      <td>aa_R_freq</td>\n",
              "      <td>0.021982</td>\n",
              "    </tr>\n",
              "    <tr>\n",
              "      <th>10</th>\n",
              "      <td>aa_L_freq</td>\n",
              "      <td>0.021441</td>\n",
              "    </tr>\n",
              "    <tr>\n",
              "      <th>23</th>\n",
              "      <td>postivecharge</td>\n",
              "      <td>0.018290</td>\n",
              "    </tr>\n",
              "    <tr>\n",
              "      <th>7</th>\n",
              "      <td>aa_H_freq</td>\n",
              "      <td>0.017721</td>\n",
              "    </tr>\n",
              "    <tr>\n",
              "      <th>21</th>\n",
              "      <td>alphatic</td>\n",
              "      <td>0.017307</td>\n",
              "    </tr>\n",
              "    <tr>\n",
              "      <th>5</th>\n",
              "      <td>aa_F_freq</td>\n",
              "      <td>0.016899</td>\n",
              "    </tr>\n",
              "    <tr>\n",
              "      <th>4</th>\n",
              "      <td>aa_E_freq</td>\n",
              "      <td>0.016419</td>\n",
              "    </tr>\n",
              "    <tr>\n",
              "      <th>19</th>\n",
              "      <td>aa_W_freq</td>\n",
              "      <td>0.015744</td>\n",
              "    </tr>\n",
              "    <tr>\n",
              "      <th>24</th>\n",
              "      <td>negativecharge</td>\n",
              "      <td>0.014936</td>\n",
              "    </tr>\n",
              "    <tr>\n",
              "      <th>22</th>\n",
              "      <td>aromatic</td>\n",
              "      <td>0.013088</td>\n",
              "    </tr>\n",
              "  </tbody>\n",
              "</table>\n",
              "</div>\n",
              "      <button class=\"colab-df-convert\" onclick=\"convertToInteractive('df-26011e01-56b1-492e-b8d8-8595c4707611')\"\n",
              "              title=\"Convert this dataframe to an interactive table.\"\n",
              "              style=\"display:none;\">\n",
              "        \n",
              "  <svg xmlns=\"http://www.w3.org/2000/svg\" height=\"24px\"viewBox=\"0 0 24 24\"\n",
              "       width=\"24px\">\n",
              "    <path d=\"M0 0h24v24H0V0z\" fill=\"none\"/>\n",
              "    <path d=\"M18.56 5.44l.94 2.06.94-2.06 2.06-.94-2.06-.94-.94-2.06-.94 2.06-2.06.94zm-11 1L8.5 8.5l.94-2.06 2.06-.94-2.06-.94L8.5 2.5l-.94 2.06-2.06.94zm10 10l.94 2.06.94-2.06 2.06-.94-2.06-.94-.94-2.06-.94 2.06-2.06.94z\"/><path d=\"M17.41 7.96l-1.37-1.37c-.4-.4-.92-.59-1.43-.59-.52 0-1.04.2-1.43.59L10.3 9.45l-7.72 7.72c-.78.78-.78 2.05 0 2.83L4 21.41c.39.39.9.59 1.41.59.51 0 1.02-.2 1.41-.59l7.78-7.78 2.81-2.81c.8-.78.8-2.07 0-2.86zM5.41 20L4 18.59l7.72-7.72 1.47 1.35L5.41 20z\"/>\n",
              "  </svg>\n",
              "      </button>\n",
              "      \n",
              "  <style>\n",
              "    .colab-df-container {\n",
              "      display:flex;\n",
              "      flex-wrap:wrap;\n",
              "      gap: 12px;\n",
              "    }\n",
              "\n",
              "    .colab-df-convert {\n",
              "      background-color: #E8F0FE;\n",
              "      border: none;\n",
              "      border-radius: 50%;\n",
              "      cursor: pointer;\n",
              "      display: none;\n",
              "      fill: #1967D2;\n",
              "      height: 32px;\n",
              "      padding: 0 0 0 0;\n",
              "      width: 32px;\n",
              "    }\n",
              "\n",
              "    .colab-df-convert:hover {\n",
              "      background-color: #E2EBFA;\n",
              "      box-shadow: 0px 1px 2px rgba(60, 64, 67, 0.3), 0px 1px 3px 1px rgba(60, 64, 67, 0.15);\n",
              "      fill: #174EA6;\n",
              "    }\n",
              "\n",
              "    [theme=dark] .colab-df-convert {\n",
              "      background-color: #3B4455;\n",
              "      fill: #D2E3FC;\n",
              "    }\n",
              "\n",
              "    [theme=dark] .colab-df-convert:hover {\n",
              "      background-color: #434B5C;\n",
              "      box-shadow: 0px 1px 3px 1px rgba(0, 0, 0, 0.15);\n",
              "      filter: drop-shadow(0px 1px 2px rgba(0, 0, 0, 0.3));\n",
              "      fill: #FFFFFF;\n",
              "    }\n",
              "  </style>\n",
              "\n",
              "      <script>\n",
              "        const buttonEl =\n",
              "          document.querySelector('#df-26011e01-56b1-492e-b8d8-8595c4707611 button.colab-df-convert');\n",
              "        buttonEl.style.display =\n",
              "          google.colab.kernel.accessAllowed ? 'block' : 'none';\n",
              "\n",
              "        async function convertToInteractive(key) {\n",
              "          const element = document.querySelector('#df-26011e01-56b1-492e-b8d8-8595c4707611');\n",
              "          const dataTable =\n",
              "            await google.colab.kernel.invokeFunction('convertToInteractive',\n",
              "                                                     [key], {});\n",
              "          if (!dataTable) return;\n",
              "\n",
              "          const docLinkHtml = 'Like what you see? Visit the ' +\n",
              "            '<a target=\"_blank\" href=https://colab.research.google.com/notebooks/data_table.ipynb>data table notebook</a>'\n",
              "            + ' to learn more about interactive tables.';\n",
              "          element.innerHTML = '';\n",
              "          dataTable['output_type'] = 'display_data';\n",
              "          await google.colab.output.renderOutput(dataTable, element);\n",
              "          const docLink = document.createElement('div');\n",
              "          docLink.innerHTML = docLinkHtml;\n",
              "          element.appendChild(docLink);\n",
              "        }\n",
              "      </script>\n",
              "    </div>\n",
              "  </div>\n",
              "  "
            ],
            "text/plain": [
              "      feature_name  importance\n",
              "25        uncharge    0.187031\n",
              "9        aa_K_freq    0.091810\n",
              "0               pH    0.088643\n",
              "8        aa_I_freq    0.065341\n",
              "14       aa_Q_freq    0.057162\n",
              "13       aa_P_freq    0.052361\n",
              "17       aa_T_freq    0.035468\n",
              "16       aa_S_freq    0.032662\n",
              "11       aa_M_freq    0.031829\n",
              "12       aa_N_freq    0.031259\n",
              "3        aa_D_freq    0.028040\n",
              "20       aa_Y_freq    0.026460\n",
              "18       aa_V_freq    0.025579\n",
              "6        aa_G_freq    0.025509\n",
              "1        aa_A_freq    0.025012\n",
              "2        aa_C_freq    0.022009\n",
              "15       aa_R_freq    0.021982\n",
              "10       aa_L_freq    0.021441\n",
              "23   postivecharge    0.018290\n",
              "7        aa_H_freq    0.017721\n",
              "21        alphatic    0.017307\n",
              "5        aa_F_freq    0.016899\n",
              "4        aa_E_freq    0.016419\n",
              "19       aa_W_freq    0.015744\n",
              "24  negativecharge    0.014936\n",
              "22        aromatic    0.013088"
            ]
          },
          "execution_count": 53,
          "metadata": {},
          "output_type": "execute_result"
        }
      ],
      "source": [
        "# Assess features importance\n",
        "\n",
        "feature_importances = pd.DataFrame(zip(X_train.columns, forest.feature_importances_), columns=['feature_name', 'importance'])\n",
        "feature_importances.sort_values(by='importance', ascending=False)"
      ]
    },
    {
      "cell_type": "code",
      "execution_count": null,
      "id": "TThfxLcD17x4",
      "metadata": {
        "colab": {
          "base_uri": "https://localhost:8080/"
        },
        "id": "TThfxLcD17x4",
        "outputId": "0067dd0c-1db7-45cb-fafa-cfe943b39d41"
      },
      "outputs": [
        {
          "data": {
            "text/plain": [
              "['aa_E_freq',\n",
              " 'aa_F_freq',\n",
              " 'aa_H_freq',\n",
              " 'aa_W_freq',\n",
              " 'alphatic',\n",
              " 'aromatic',\n",
              " 'postivecharge',\n",
              " 'negativecharge']"
            ]
          },
          "execution_count": 54,
          "metadata": {},
          "output_type": "execute_result"
        }
      ],
      "source": [
        "less_important = feature_importances['feature_name'][feature_importances['importance'] < 0.02]\n",
        "list(less_important)"
      ]
    },
    {
      "cell_type": "code",
      "execution_count": null,
      "id": "Gg7GSLcy1760",
      "metadata": {
        "id": "Gg7GSLcy1760"
      },
      "outputs": [],
      "source": [
        "train_df_preprocessed = X_train.copy().drop(less_important, axis = 1)\n",
        "test_df_preprocessed = X_test.copy().drop(less_important, axis = 1)"
      ]
    },
    {
      "cell_type": "code",
      "execution_count": null,
      "id": "c9Qb8uOq18De",
      "metadata": {
        "colab": {
          "base_uri": "https://localhost:8080/"
        },
        "id": "c9Qb8uOq18De",
        "outputId": "e2db220f-93ca-4f82-9c8a-54fc396022a0"
      },
      "outputs": [
        {
          "name": "stdout",
          "output_type": "stream",
          "text": [
            "R2 for train: 0.8949631738380606.\n",
            "R2 for test: 0.5931198048743938\n"
          ]
        }
      ],
      "source": [
        "forest_2 = RandomForestRegressor(n_estimators=500, random_state=42)\n",
        "forest_2.fit(train_df_preprocessed, y_train)\n",
        "y_train_pred_forest2 = forest_2.predict(train_df_preprocessed)\n",
        "y_test_pred_forest2 = forest_2.predict(test_df_preprocessed)\n",
        "\n",
        "r2_test_forest2 = r2_score(y_test, y_test_pred_forest2)\n",
        "r2_train_forest2 = r2_score(y_train, y_train_pred_forest2)\n",
        "\n",
        "print(f\"R2 for train: {r2_train_forest2}.\\nR2 for test: {r2_test_forest2}\")"
      ]
    },
    {
      "cell_type": "markdown",
      "id": "bCqfQ8aJ17fI",
      "metadata": {
        "id": "bCqfQ8aJ17fI"
      },
      "source": [
        "**CatBoost**"
      ]
    },
    {
      "cell_type": "code",
      "execution_count": null,
      "id": "qUG7-gNP6wyY",
      "metadata": {
        "colab": {
          "base_uri": "https://localhost:8080/"
        },
        "id": "qUG7-gNP6wyY",
        "outputId": "4f743872-3b33-4242-bee6-1ddb5146a948"
      },
      "outputs": [
        {
          "name": "stdout",
          "output_type": "stream",
          "text": [
            "Looking in indexes: https://pypi.org/simple, https://us-python.pkg.dev/colab-wheels/public/simple/\n",
            "Collecting catboost\n",
            "  Downloading catboost-1.2-cp310-cp310-manylinux2014_x86_64.whl (98.6 MB)\n",
            "\u001b[2K     \u001b[90m━━━━━━━━━━━━━━━━━━━━━━━━━━━━━━━━━━━━━━━━\u001b[0m \u001b[32m98.6/98.6 MB\u001b[0m \u001b[31m3.1 MB/s\u001b[0m eta \u001b[36m0:00:00\u001b[0m\n",
            "\u001b[?25hRequirement already satisfied: graphviz in /usr/local/lib/python3.10/dist-packages (from catboost) (0.20.1)\n",
            "Requirement already satisfied: matplotlib in /usr/local/lib/python3.10/dist-packages (from catboost) (3.7.1)\n",
            "Requirement already satisfied: numpy>=1.16.0 in /usr/local/lib/python3.10/dist-packages (from catboost) (1.22.4)\n",
            "Requirement already satisfied: pandas>=0.24 in /usr/local/lib/python3.10/dist-packages (from catboost) (1.5.3)\n",
            "Requirement already satisfied: scipy in /usr/local/lib/python3.10/dist-packages (from catboost) (1.10.1)\n",
            "Requirement already satisfied: plotly in /usr/local/lib/python3.10/dist-packages (from catboost) (5.13.1)\n",
            "Requirement already satisfied: six in /usr/local/lib/python3.10/dist-packages (from catboost) (1.16.0)\n",
            "Requirement already satisfied: python-dateutil>=2.8.1 in /usr/local/lib/python3.10/dist-packages (from pandas>=0.24->catboost) (2.8.2)\n",
            "Requirement already satisfied: pytz>=2020.1 in /usr/local/lib/python3.10/dist-packages (from pandas>=0.24->catboost) (2022.7.1)\n",
            "Requirement already satisfied: contourpy>=1.0.1 in /usr/local/lib/python3.10/dist-packages (from matplotlib->catboost) (1.0.7)\n",
            "Requirement already satisfied: cycler>=0.10 in /usr/local/lib/python3.10/dist-packages (from matplotlib->catboost) (0.11.0)\n",
            "Requirement already satisfied: fonttools>=4.22.0 in /usr/local/lib/python3.10/dist-packages (from matplotlib->catboost) (4.39.3)\n",
            "Requirement already satisfied: kiwisolver>=1.0.1 in /usr/local/lib/python3.10/dist-packages (from matplotlib->catboost) (1.4.4)\n",
            "Requirement already satisfied: packaging>=20.0 in /usr/local/lib/python3.10/dist-packages (from matplotlib->catboost) (23.1)\n",
            "Requirement already satisfied: pillow>=6.2.0 in /usr/local/lib/python3.10/dist-packages (from matplotlib->catboost) (8.4.0)\n",
            "Requirement already satisfied: pyparsing>=2.3.1 in /usr/local/lib/python3.10/dist-packages (from matplotlib->catboost) (3.0.9)\n",
            "Requirement already satisfied: tenacity>=6.2.0 in /usr/local/lib/python3.10/dist-packages (from plotly->catboost) (8.2.2)\n",
            "Installing collected packages: catboost\n",
            "Successfully installed catboost-1.2\n"
          ]
        }
      ],
      "source": [
        "!pip install catboost"
      ]
    },
    {
      "cell_type": "code",
      "execution_count": null,
      "id": "ox2mqsbA6jCH",
      "metadata": {
        "id": "ox2mqsbA6jCH"
      },
      "outputs": [],
      "source": [
        "import catboost as catb"
      ]
    },
    {
      "cell_type": "code",
      "execution_count": null,
      "id": "d2xUeUR56jNa",
      "metadata": {
        "id": "d2xUeUR56jNa"
      },
      "outputs": [],
      "source": [
        "model_catb = catb.CatBoostRegressor(loss_function=\"RMSE\", silent=True, random_state=42)\n",
        "model_catb.fit(X_train, y_train)\n",
        "\n",
        "y_train_pred_ctb = model_catb.predict(X_train)\n",
        "y_test_pred_ctb = model_catb.predict(X_test)"
      ]
    },
    {
      "cell_type": "code",
      "execution_count": null,
      "id": "g7z33L8v6jYY",
      "metadata": {
        "colab": {
          "base_uri": "https://localhost:8080/"
        },
        "id": "g7z33L8v6jYY",
        "outputId": "c25ee7bd-71d1-4121-be28-a620bd5b47b0"
      },
      "outputs": [
        {
          "name": "stdout",
          "output_type": "stream",
          "text": [
            "R2 for train: 0.7497067756954594.\n",
            "R2 for test: 0.6216988307511448\n"
          ]
        }
      ],
      "source": [
        "r2_test_ctb = r2_score(y_test, y_test_pred_ctb)\n",
        "r2_train_ctb = r2_score(y_train, y_train_pred_ctb)\n",
        "\n",
        "print(f\"R2 for train: {r2_train_ctb}.\\nR2 for test: {r2_test_ctb}\")"
      ]
    },
    {
      "cell_type": "code",
      "execution_count": null,
      "id": "h7565PDJ6jjK",
      "metadata": {
        "colab": {
          "base_uri": "https://localhost:8080/"
        },
        "id": "h7565PDJ6jjK",
        "outputId": "e118b67e-4c41-491e-ff7f-83ab8fdb588b"
      },
      "outputs": [
        {
          "name": "stderr",
          "output_type": "stream",
          "text": [
            "/usr/local/lib/python3.10/dist-packages/joblib/externals/loky/process_executor.py:700: UserWarning: A worker stopped while some jobs were given to the executor. This can be caused by a too short worker timeout or by a memory leak.\n",
            "  warnings.warn(\n"
          ]
        },
        {
          "name": "stdout",
          "output_type": "stream",
          "text": [
            "Learning rate set to 0.246472\n",
            "0:\tlearn: 13.0337964\ttotal: 18.9ms\tremaining: 3.75s\n",
            "1:\tlearn: 12.2853032\ttotal: 34.2ms\tremaining: 3.39s\n",
            "2:\tlearn: 11.6996371\ttotal: 52.3ms\tremaining: 3.43s\n",
            "3:\tlearn: 11.2401221\ttotal: 74.8ms\tremaining: 3.67s\n",
            "4:\tlearn: 10.9636185\ttotal: 88.9ms\tremaining: 3.47s\n",
            "5:\tlearn: 10.7106152\ttotal: 103ms\tremaining: 3.34s\n",
            "6:\tlearn: 10.4932674\ttotal: 119ms\tremaining: 3.29s\n",
            "7:\tlearn: 10.3275596\ttotal: 135ms\tremaining: 3.23s\n",
            "8:\tlearn: 10.1762068\ttotal: 149ms\tremaining: 3.16s\n",
            "9:\tlearn: 10.0872418\ttotal: 163ms\tremaining: 3.1s\n",
            "10:\tlearn: 9.9431471\ttotal: 178ms\tremaining: 3.06s\n",
            "11:\tlearn: 9.8553738\ttotal: 192ms\tremaining: 3.01s\n",
            "12:\tlearn: 9.7471399\ttotal: 211ms\tremaining: 3.04s\n",
            "13:\tlearn: 9.6783017\ttotal: 225ms\tremaining: 2.98s\n",
            "14:\tlearn: 9.6237358\ttotal: 238ms\tremaining: 2.94s\n",
            "15:\tlearn: 9.5472328\ttotal: 253ms\tremaining: 2.91s\n",
            "16:\tlearn: 9.5038448\ttotal: 267ms\tremaining: 2.88s\n",
            "17:\tlearn: 9.4325400\ttotal: 281ms\tremaining: 2.84s\n",
            "18:\tlearn: 9.3756468\ttotal: 296ms\tremaining: 2.82s\n",
            "19:\tlearn: 9.3326520\ttotal: 311ms\tremaining: 2.79s\n",
            "20:\tlearn: 9.2931881\ttotal: 324ms\tremaining: 2.77s\n",
            "21:\tlearn: 9.2561831\ttotal: 339ms\tremaining: 2.74s\n",
            "22:\tlearn: 9.2179894\ttotal: 353ms\tremaining: 2.72s\n",
            "23:\tlearn: 9.1851743\ttotal: 367ms\tremaining: 2.69s\n",
            "24:\tlearn: 9.1576364\ttotal: 382ms\tremaining: 2.67s\n",
            "25:\tlearn: 9.1331502\ttotal: 396ms\tremaining: 2.65s\n",
            "26:\tlearn: 9.1010874\ttotal: 415ms\tremaining: 2.66s\n",
            "27:\tlearn: 9.0644401\ttotal: 429ms\tremaining: 2.63s\n",
            "28:\tlearn: 9.0324143\ttotal: 444ms\tremaining: 2.62s\n",
            "29:\tlearn: 8.9989217\ttotal: 459ms\tremaining: 2.6s\n",
            "30:\tlearn: 8.9821659\ttotal: 473ms\tremaining: 2.58s\n",
            "31:\tlearn: 8.9546047\ttotal: 488ms\tremaining: 2.56s\n",
            "32:\tlearn: 8.9358532\ttotal: 502ms\tremaining: 2.54s\n",
            "33:\tlearn: 8.9181291\ttotal: 516ms\tremaining: 2.52s\n",
            "34:\tlearn: 8.8842802\ttotal: 531ms\tremaining: 2.5s\n",
            "35:\tlearn: 8.8590108\ttotal: 545ms\tremaining: 2.48s\n",
            "36:\tlearn: 8.8386201\ttotal: 560ms\tremaining: 2.47s\n",
            "37:\tlearn: 8.8163713\ttotal: 574ms\tremaining: 2.45s\n",
            "38:\tlearn: 8.7963690\ttotal: 589ms\tremaining: 2.43s\n",
            "39:\tlearn: 8.7798185\ttotal: 603ms\tremaining: 2.41s\n",
            "40:\tlearn: 8.7614923\ttotal: 621ms\tremaining: 2.41s\n",
            "41:\tlearn: 8.7439570\ttotal: 635ms\tremaining: 2.39s\n",
            "42:\tlearn: 8.7183049\ttotal: 650ms\tremaining: 2.37s\n",
            "43:\tlearn: 8.7009679\ttotal: 664ms\tremaining: 2.35s\n",
            "44:\tlearn: 8.6762774\ttotal: 678ms\tremaining: 2.33s\n",
            "45:\tlearn: 8.6591627\ttotal: 699ms\tremaining: 2.34s\n",
            "46:\tlearn: 8.6347407\ttotal: 713ms\tremaining: 2.32s\n",
            "47:\tlearn: 8.6206370\ttotal: 726ms\tremaining: 2.3s\n",
            "48:\tlearn: 8.5845897\ttotal: 742ms\tremaining: 2.29s\n",
            "49:\tlearn: 8.5575237\ttotal: 757ms\tremaining: 2.27s\n",
            "50:\tlearn: 8.5300700\ttotal: 772ms\tremaining: 2.25s\n",
            "51:\tlearn: 8.5086916\ttotal: 788ms\tremaining: 2.24s\n",
            "52:\tlearn: 8.4866479\ttotal: 802ms\tremaining: 2.22s\n",
            "53:\tlearn: 8.4670554\ttotal: 816ms\tremaining: 2.21s\n",
            "54:\tlearn: 8.4533034\ttotal: 834ms\tremaining: 2.2s\n",
            "55:\tlearn: 8.4386773\ttotal: 848ms\tremaining: 2.18s\n",
            "56:\tlearn: 8.4254048\ttotal: 863ms\tremaining: 2.16s\n",
            "57:\tlearn: 8.4048201\ttotal: 877ms\tremaining: 2.15s\n",
            "58:\tlearn: 8.3833151\ttotal: 892ms\tremaining: 2.13s\n",
            "59:\tlearn: 8.3619196\ttotal: 906ms\tremaining: 2.12s\n",
            "60:\tlearn: 8.3532199\ttotal: 920ms\tremaining: 2.1s\n",
            "61:\tlearn: 8.3396396\ttotal: 934ms\tremaining: 2.08s\n",
            "62:\tlearn: 8.3144257\ttotal: 949ms\tremaining: 2.06s\n",
            "63:\tlearn: 8.2885440\ttotal: 964ms\tremaining: 2.05s\n",
            "64:\tlearn: 8.2742115\ttotal: 977ms\tremaining: 2.03s\n",
            "65:\tlearn: 8.2631204\ttotal: 991ms\tremaining: 2.01s\n",
            "66:\tlearn: 8.2464002\ttotal: 1.01s\tremaining: 2s\n",
            "67:\tlearn: 8.2259709\ttotal: 1.02s\tremaining: 1.98s\n",
            "68:\tlearn: 8.2157282\ttotal: 1.04s\tremaining: 1.97s\n",
            "69:\tlearn: 8.2003748\ttotal: 1.06s\tremaining: 1.96s\n",
            "70:\tlearn: 8.1826491\ttotal: 1.08s\tremaining: 1.96s\n",
            "71:\tlearn: 8.1614165\ttotal: 1.09s\tremaining: 1.94s\n",
            "72:\tlearn: 8.1392027\ttotal: 1.11s\tremaining: 1.93s\n",
            "73:\tlearn: 8.1280875\ttotal: 1.12s\tremaining: 1.91s\n",
            "74:\tlearn: 8.1119384\ttotal: 1.14s\tremaining: 1.9s\n",
            "75:\tlearn: 8.0942221\ttotal: 1.15s\tremaining: 1.88s\n",
            "76:\tlearn: 8.0837320\ttotal: 1.17s\tremaining: 1.86s\n",
            "77:\tlearn: 8.0669102\ttotal: 1.18s\tremaining: 1.85s\n",
            "78:\tlearn: 8.0526724\ttotal: 1.2s\tremaining: 1.83s\n",
            "79:\tlearn: 8.0322513\ttotal: 1.21s\tremaining: 1.81s\n",
            "80:\tlearn: 8.0159302\ttotal: 1.22s\tremaining: 1.8s\n",
            "81:\tlearn: 7.9965065\ttotal: 1.25s\tremaining: 1.79s\n",
            "82:\tlearn: 7.9840649\ttotal: 1.26s\tremaining: 1.78s\n",
            "83:\tlearn: 7.9738459\ttotal: 1.27s\tremaining: 1.76s\n",
            "84:\tlearn: 7.9610372\ttotal: 1.29s\tremaining: 1.75s\n",
            "85:\tlearn: 7.9454922\ttotal: 1.3s\tremaining: 1.73s\n",
            "86:\tlearn: 7.9275770\ttotal: 1.32s\tremaining: 1.71s\n",
            "87:\tlearn: 7.9157549\ttotal: 1.33s\tremaining: 1.7s\n",
            "88:\tlearn: 7.9073467\ttotal: 1.35s\tremaining: 1.68s\n",
            "89:\tlearn: 7.8958434\ttotal: 1.36s\tremaining: 1.66s\n",
            "90:\tlearn: 7.8893988\ttotal: 1.37s\tremaining: 1.65s\n",
            "91:\tlearn: 7.8746747\ttotal: 1.39s\tremaining: 1.63s\n",
            "92:\tlearn: 7.8669472\ttotal: 1.4s\tremaining: 1.61s\n",
            "93:\tlearn: 7.8515188\ttotal: 1.42s\tremaining: 1.6s\n",
            "94:\tlearn: 7.8399728\ttotal: 1.43s\tremaining: 1.58s\n",
            "95:\tlearn: 7.8303310\ttotal: 1.45s\tremaining: 1.57s\n",
            "96:\tlearn: 7.8224593\ttotal: 1.46s\tremaining: 1.55s\n",
            "97:\tlearn: 7.8122737\ttotal: 1.48s\tremaining: 1.54s\n",
            "98:\tlearn: 7.8042878\ttotal: 1.49s\tremaining: 1.52s\n",
            "99:\tlearn: 7.7923894\ttotal: 1.5s\tremaining: 1.5s\n",
            "100:\tlearn: 7.7803192\ttotal: 1.52s\tremaining: 1.49s\n",
            "101:\tlearn: 7.7718416\ttotal: 1.53s\tremaining: 1.47s\n",
            "102:\tlearn: 7.7607055\ttotal: 1.55s\tremaining: 1.46s\n",
            "103:\tlearn: 7.7482597\ttotal: 1.56s\tremaining: 1.44s\n",
            "104:\tlearn: 7.7405097\ttotal: 1.58s\tremaining: 1.43s\n",
            "105:\tlearn: 7.7253869\ttotal: 1.59s\tremaining: 1.41s\n",
            "106:\tlearn: 7.7123284\ttotal: 1.61s\tremaining: 1.4s\n",
            "107:\tlearn: 7.7026937\ttotal: 1.62s\tremaining: 1.38s\n",
            "108:\tlearn: 7.6907822\ttotal: 1.64s\tremaining: 1.37s\n",
            "109:\tlearn: 7.6766063\ttotal: 1.65s\tremaining: 1.35s\n",
            "110:\tlearn: 7.6679258\ttotal: 1.67s\tremaining: 1.34s\n",
            "111:\tlearn: 7.6589808\ttotal: 1.68s\tremaining: 1.32s\n",
            "112:\tlearn: 7.6506859\ttotal: 1.7s\tremaining: 1.31s\n",
            "113:\tlearn: 7.6400805\ttotal: 1.71s\tremaining: 1.29s\n",
            "114:\tlearn: 7.6290342\ttotal: 1.73s\tremaining: 1.27s\n",
            "115:\tlearn: 7.6193522\ttotal: 1.74s\tremaining: 1.26s\n",
            "116:\tlearn: 7.6102411\ttotal: 1.75s\tremaining: 1.24s\n",
            "117:\tlearn: 7.5989670\ttotal: 1.77s\tremaining: 1.23s\n",
            "118:\tlearn: 7.5824694\ttotal: 1.78s\tremaining: 1.21s\n",
            "119:\tlearn: 7.5720162\ttotal: 1.8s\tremaining: 1.2s\n",
            "120:\tlearn: 7.5627122\ttotal: 1.81s\tremaining: 1.18s\n",
            "121:\tlearn: 7.5521391\ttotal: 1.82s\tremaining: 1.17s\n",
            "122:\tlearn: 7.5381811\ttotal: 1.85s\tremaining: 1.16s\n",
            "123:\tlearn: 7.5298346\ttotal: 1.86s\tremaining: 1.14s\n",
            "124:\tlearn: 7.5216042\ttotal: 1.88s\tremaining: 1.13s\n",
            "125:\tlearn: 7.5113705\ttotal: 1.89s\tremaining: 1.11s\n",
            "126:\tlearn: 7.5046832\ttotal: 1.91s\tremaining: 1.1s\n",
            "127:\tlearn: 7.4967556\ttotal: 1.92s\tremaining: 1.08s\n",
            "128:\tlearn: 7.4900674\ttotal: 1.94s\tremaining: 1.06s\n",
            "129:\tlearn: 7.4814484\ttotal: 1.95s\tremaining: 1.05s\n",
            "130:\tlearn: 7.4674298\ttotal: 1.96s\tremaining: 1.03s\n",
            "131:\tlearn: 7.4635876\ttotal: 1.98s\tremaining: 1.02s\n",
            "132:\tlearn: 7.4561098\ttotal: 1.99s\tremaining: 1s\n",
            "133:\tlearn: 7.4433902\ttotal: 2.01s\tremaining: 989ms\n",
            "134:\tlearn: 7.4358956\ttotal: 2.02s\tremaining: 973ms\n",
            "135:\tlearn: 7.4269770\ttotal: 2.04s\tremaining: 958ms\n",
            "136:\tlearn: 7.4180625\ttotal: 2.05s\tremaining: 943ms\n",
            "137:\tlearn: 7.4099546\ttotal: 2.08s\tremaining: 935ms\n",
            "138:\tlearn: 7.4020221\ttotal: 2.1s\tremaining: 920ms\n",
            "139:\tlearn: 7.3979825\ttotal: 2.11s\tremaining: 904ms\n",
            "140:\tlearn: 7.3873041\ttotal: 2.12s\tremaining: 889ms\n",
            "141:\tlearn: 7.3748502\ttotal: 2.14s\tremaining: 874ms\n",
            "142:\tlearn: 7.3699802\ttotal: 2.15s\tremaining: 858ms\n",
            "143:\tlearn: 7.3617147\ttotal: 2.17s\tremaining: 843ms\n",
            "144:\tlearn: 7.3572048\ttotal: 2.18s\tremaining: 827ms\n",
            "145:\tlearn: 7.3475994\ttotal: 2.19s\tremaining: 812ms\n",
            "146:\tlearn: 7.3392349\ttotal: 2.21s\tremaining: 797ms\n",
            "147:\tlearn: 7.3325153\ttotal: 2.22s\tremaining: 781ms\n",
            "148:\tlearn: 7.3222351\ttotal: 2.24s\tremaining: 766ms\n",
            "149:\tlearn: 7.3137639\ttotal: 2.25s\tremaining: 750ms\n",
            "150:\tlearn: 7.3068642\ttotal: 2.27s\tremaining: 738ms\n",
            "151:\tlearn: 7.2968518\ttotal: 2.29s\tremaining: 724ms\n",
            "152:\tlearn: 7.2896891\ttotal: 2.31s\tremaining: 709ms\n",
            "153:\tlearn: 7.2779329\ttotal: 2.32s\tremaining: 693ms\n",
            "154:\tlearn: 7.2701975\ttotal: 2.33s\tremaining: 678ms\n",
            "155:\tlearn: 7.2610111\ttotal: 2.35s\tremaining: 663ms\n",
            "156:\tlearn: 7.2537974\ttotal: 2.36s\tremaining: 647ms\n",
            "157:\tlearn: 7.2473458\ttotal: 2.38s\tremaining: 632ms\n",
            "158:\tlearn: 7.2435058\ttotal: 2.39s\tremaining: 617ms\n",
            "159:\tlearn: 7.2317682\ttotal: 2.41s\tremaining: 602ms\n",
            "160:\tlearn: 7.2251757\ttotal: 2.42s\tremaining: 587ms\n",
            "161:\tlearn: 7.2209290\ttotal: 2.44s\tremaining: 571ms\n",
            "162:\tlearn: 7.2138753\ttotal: 2.45s\tremaining: 556ms\n",
            "163:\tlearn: 7.2057065\ttotal: 2.46s\tremaining: 541ms\n",
            "164:\tlearn: 7.1950889\ttotal: 2.48s\tremaining: 526ms\n",
            "165:\tlearn: 7.1907170\ttotal: 2.5s\tremaining: 511ms\n",
            "166:\tlearn: 7.1869718\ttotal: 2.51s\tremaining: 496ms\n",
            "167:\tlearn: 7.1761310\ttotal: 2.53s\tremaining: 481ms\n",
            "168:\tlearn: 7.1656692\ttotal: 2.54s\tremaining: 466ms\n",
            "169:\tlearn: 7.1576841\ttotal: 2.56s\tremaining: 451ms\n",
            "170:\tlearn: 7.1505288\ttotal: 2.57s\tremaining: 436ms\n",
            "171:\tlearn: 7.1449924\ttotal: 2.58s\tremaining: 421ms\n",
            "172:\tlearn: 7.1397179\ttotal: 2.6s\tremaining: 406ms\n",
            "173:\tlearn: 7.1309258\ttotal: 2.62s\tremaining: 391ms\n",
            "174:\tlearn: 7.1272506\ttotal: 2.63s\tremaining: 376ms\n",
            "175:\tlearn: 7.1161865\ttotal: 2.64s\tremaining: 360ms\n",
            "176:\tlearn: 7.1128454\ttotal: 2.66s\tremaining: 345ms\n",
            "177:\tlearn: 7.1071095\ttotal: 2.67s\tremaining: 330ms\n",
            "178:\tlearn: 7.1028976\ttotal: 2.68s\tremaining: 315ms\n",
            "179:\tlearn: 7.0972662\ttotal: 2.7s\tremaining: 300ms\n",
            "180:\tlearn: 7.0894969\ttotal: 2.72s\tremaining: 285ms\n",
            "181:\tlearn: 7.0837272\ttotal: 2.73s\tremaining: 270ms\n",
            "182:\tlearn: 7.0803165\ttotal: 2.74s\tremaining: 255ms\n",
            "183:\tlearn: 7.0769829\ttotal: 2.76s\tremaining: 240ms\n",
            "184:\tlearn: 7.0701598\ttotal: 2.77s\tremaining: 225ms\n",
            "185:\tlearn: 7.0625403\ttotal: 2.79s\tremaining: 210ms\n",
            "186:\tlearn: 7.0570235\ttotal: 2.8s\tremaining: 195ms\n",
            "187:\tlearn: 7.0503755\ttotal: 2.82s\tremaining: 180ms\n",
            "188:\tlearn: 7.0433990\ttotal: 2.83s\tremaining: 165ms\n",
            "189:\tlearn: 7.0378617\ttotal: 2.85s\tremaining: 150ms\n",
            "190:\tlearn: 7.0296692\ttotal: 2.86s\tremaining: 135ms\n",
            "191:\tlearn: 7.0244452\ttotal: 2.88s\tremaining: 120ms\n",
            "192:\tlearn: 7.0183455\ttotal: 2.89s\tremaining: 105ms\n",
            "193:\tlearn: 7.0127377\ttotal: 2.91s\tremaining: 90ms\n",
            "194:\tlearn: 7.0074882\ttotal: 2.92s\tremaining: 75ms\n",
            "195:\tlearn: 7.0014593\ttotal: 2.95s\tremaining: 60.1ms\n",
            "196:\tlearn: 6.9931060\ttotal: 2.96s\tremaining: 45.1ms\n",
            "197:\tlearn: 6.9862974\ttotal: 2.98s\tremaining: 30.1ms\n",
            "198:\tlearn: 6.9773960\ttotal: 2.99s\tremaining: 15ms\n",
            "199:\tlearn: 6.9697126\ttotal: 3.01s\tremaining: 0us\n"
          ]
        },
        {
          "data": {
            "text/plain": [
              "{'n_estimators': 200, 'max_depth': 7}"
            ]
          },
          "execution_count": 62,
          "metadata": {},
          "output_type": "execute_result"
        }
      ],
      "source": [
        "# Selection of hyperparameters for model catboost\n",
        "\n",
        "model_catb = catb.CatBoostRegressor(loss_function=\"RMSE\", random_state=42)\n",
        "\n",
        "params = {'n_estimators':[10, 25, 50, 100, 200, 500],\n",
        "          'max_depth':[3, 5, 7, 10, 15, None]}\n",
        "\n",
        "cv=KFold(n_splits=3, random_state=42, shuffle=True)\n",
        "\n",
        "rs = RandomizedSearchCV(model_catb, params, scoring='r2', cv=cv, n_jobs=-1)\n",
        "\n",
        "rs.fit(X_train, y_train)\n",
        "\n",
        "rs.best_params_"
      ]
    },
    {
      "cell_type": "code",
      "execution_count": null,
      "id": "XSOV9okR77_b",
      "metadata": {
        "id": "XSOV9okR77_b"
      },
      "outputs": [],
      "source": [
        "model_catb_final = catb.CatBoostRegressor(n_estimators=200, max_depth=7,\n",
        "                                      silent=True, loss_function=\"RMSE\", random_state=42)\n",
        "\n",
        "model_catb_final.fit(X_train, y_train)\n",
        "\n",
        "y_train_pred_catb = model_catb_final.predict(X_train)\n",
        "y_test_pred_catb = model_catb_final.predict(X_test)\n",
        "\n"
      ]
    },
    {
      "cell_type": "code",
      "execution_count": null,
      "id": "Dc-EOOlc78My",
      "metadata": {
        "colab": {
          "base_uri": "https://localhost:8080/"
        },
        "id": "Dc-EOOlc78My",
        "outputId": "9d2bf72f-5065-4537-fd35-4c4306408728"
      },
      "outputs": [
        {
          "name": "stdout",
          "output_type": "stream",
          "text": [
            "R2 for train: 0.7534823159501589.\n",
            "R2 for test: 0.6098698654554552\n"
          ]
        }
      ],
      "source": [
        "r2_test_catb = r2_score(y_test, y_test_pred_catb)\n",
        "r2_train_catb = r2_score(y_train, y_train_pred_catb)\n",
        "\n",
        "print(f\"R2 for train: {r2_train_catb}.\\nR2 for test: {r2_test_catb}\")"
      ]
    },
    {
      "cell_type": "markdown",
      "id": "WCFYUO_G8jO6",
      "metadata": {
        "id": "WCFYUO_G8jO6"
      },
      "source": [
        "**Light auto ML**"
      ]
    },
    {
      "cell_type": "code",
      "execution_count": null,
      "id": "izq6aZFO8kER",
      "metadata": {
        "colab": {
          "base_uri": "https://localhost:8080/",
          "height": 1000
        },
        "id": "izq6aZFO8kER",
        "outputId": "e6f5f2f5-2503-4e61-faf4-acc48f6fc790"
      },
      "outputs": [
        {
          "name": "stdout",
          "output_type": "stream",
          "text": [
            "Requirement already satisfied: lightautoml in c:\\users\\user\\anaconda3\\lib\\site-packages (0.3.1)\n",
            "Collecting lightautoml\n",
            "  Downloading LightAutoML-0.3.7.3-py3-none-any.whl (319 kB)\n",
            "Requirement already satisfied: torchvision in c:\\users\\user\\anaconda3\\lib\\site-packages (from lightautoml) (0.9.1)\n",
            "Requirement already satisfied: tqdm in c:\\users\\user\\anaconda3\\lib\\site-packages (from lightautoml) (4.59.0)\n",
            "Requirement already satisfied: joblib in c:\\users\\user\\anaconda3\\lib\\site-packages (from lightautoml) (1.0.1)\n",
            "Requirement already satisfied: pandas<=1.4.3 in c:\\users\\user\\appdata\\roaming\\python\\python38\\site-packages (from lightautoml) (1.4.2)\n",
            "Requirement already satisfied: networkx in c:\\users\\user\\anaconda3\\lib\\site-packages (from lightautoml) (2.5)\n",
            "Requirement already satisfied: pyyaml in c:\\users\\user\\appdata\\roaming\\python\\python38\\site-packages (from lightautoml) (6.0)\n",
            "Requirement already satisfied: torch<1.9 in c:\\users\\user\\anaconda3\\lib\\site-packages (from lightautoml) (1.8.1)\n",
            "Requirement already satisfied: json2html in c:\\users\\user\\anaconda3\\lib\\site-packages (from lightautoml) (1.3.0)\n",
            "Requirement already satisfied: cmaes in c:\\users\\user\\anaconda3\\lib\\site-packages (from lightautoml) (0.8.2)\n",
            "Requirement already satisfied: scikit-learn>=0.22 in c:\\users\\user\\anaconda3\\lib\\site-packages (from lightautoml) (0.24.1)\n",
            "Requirement already satisfied: autowoe>=1.2 in c:\\users\\user\\anaconda3\\lib\\site-packages (from lightautoml) (1.2.5)\n",
            "Requirement already satisfied: lightgbm<=3.2.1,>=2.3 in c:\\users\\user\\anaconda3\\lib\\site-packages (from lightautoml) (2.3.1)\n",
            "Requirement already satisfied: jinja2 in c:\\users\\user\\anaconda3\\lib\\site-packages (from lightautoml) (2.11.3)\n",
            "Requirement already satisfied: catboost>=0.26.1 in c:\\users\\user\\anaconda3\\lib\\site-packages (from lightautoml) (1.0.3)\n",
            "Requirement already satisfied: seaborn in c:\\users\\user\\anaconda3\\lib\\site-packages (from lightautoml) (0.11.1)\n",
            "Requirement already satisfied: optuna in c:\\users\\user\\anaconda3\\lib\\site-packages (from lightautoml) (2.10.0)\n",
            "Requirement already satisfied: poetry-core<2.0.0,>=1.0.0 in c:\\users\\user\\anaconda3\\lib\\site-packages (from lightautoml) (1.0.7)\n",
            "Requirement already satisfied: holidays in c:\\users\\user\\anaconda3\\lib\\site-packages (from lightautoml) (0.11.3.1)\n",
            "Requirement already satisfied: numpy in c:\\users\\user\\anaconda3\\lib\\site-packages (from autowoe>=1.2->lightautoml) (1.20.1)\n",
            "Requirement already satisfied: matplotlib in c:\\users\\user\\anaconda3\\lib\\site-packages (from autowoe>=1.2->lightautoml) (3.7.1)\n",
            "Requirement already satisfied: scipy in c:\\users\\user\\appdata\\roaming\\python\\python38\\site-packages (from autowoe>=1.2->lightautoml) (1.7.2)\n",
            "Requirement already satisfied: sphinx-rtd-theme in c:\\users\\user\\anaconda3\\lib\\site-packages (from autowoe>=1.2->lightautoml) (1.0.0)\n",
            "Requirement already satisfied: sphinx in c:\\users\\user\\anaconda3\\lib\\site-packages (from autowoe>=1.2->lightautoml) (4.0.1)\n",
            "Requirement already satisfied: pytest in c:\\users\\user\\anaconda3\\lib\\site-packages (from autowoe>=1.2->lightautoml) (6.2.3)\n",
            "Requirement already satisfied: pytz in c:\\users\\user\\appdata\\roaming\\python\\python38\\site-packages (from autowoe>=1.2->lightautoml) (2022.1)\n",
            "Requirement already satisfied: plotly in c:\\users\\user\\anaconda3\\lib\\site-packages (from catboost>=0.26.1->lightautoml) (5.3.1)\n"
          ]
        },
        {
          "name": "stderr",
          "output_type": "stream",
          "text": [
            "WARNING: You are using pip version 21.3.1; however, version 23.1.2 is available.\n",
            "You should consider upgrading via the 'C:\\Users\\User\\anaconda3\\python.exe -m pip install --upgrade pip' command.\n"
          ]
        },
        {
          "name": "stdout",
          "output_type": "stream",
          "text": [
            "Requirement already satisfied: six in c:\\users\\user\\anaconda3\\lib\\site-packages (from catboost>=0.26.1->lightautoml) (1.15.0)\n",
            "Requirement already satisfied: graphviz in c:\\users\\user\\anaconda3\\lib\\site-packages (from catboost>=0.26.1->lightautoml) (0.17)\n",
            "Requirement already satisfied: python-dateutil>=2.8.1 in c:\\users\\user\\anaconda3\\lib\\site-packages (from pandas<=1.4.3->lightautoml) (2.8.1)\n",
            "Requirement already satisfied: threadpoolctl>=2.0.0 in c:\\users\\user\\anaconda3\\lib\\site-packages (from scikit-learn>=0.22->lightautoml) (2.1.0)\n",
            "Requirement already satisfied: typing-extensions in c:\\users\\user\\anaconda3\\lib\\site-packages (from torch<1.9->lightautoml) (3.7.4.3)\n",
            "Requirement already satisfied: korean-lunar-calendar in c:\\users\\user\\anaconda3\\lib\\site-packages (from holidays->lightautoml) (0.2.1)\n",
            "Requirement already satisfied: hijri-converter in c:\\users\\user\\anaconda3\\lib\\site-packages (from holidays->lightautoml) (2.2.2)\n",
            "Requirement already satisfied: convertdate>=2.3.0 in c:\\users\\user\\anaconda3\\lib\\site-packages (from holidays->lightautoml) (2.3.2)\n",
            "Requirement already satisfied: MarkupSafe>=0.23 in c:\\users\\user\\anaconda3\\lib\\site-packages (from jinja2->lightautoml) (1.1.1)\n",
            "Requirement already satisfied: decorator>=4.3.0 in c:\\users\\user\\anaconda3\\lib\\site-packages (from networkx->lightautoml) (5.0.6)\n",
            "Requirement already satisfied: sqlalchemy>=1.1.0 in c:\\users\\user\\anaconda3\\lib\\site-packages (from optuna->lightautoml) (1.4.7)\n",
            "Requirement already satisfied: cliff in c:\\users\\user\\anaconda3\\lib\\site-packages (from optuna->lightautoml) (3.9.0)\n",
            "Requirement already satisfied: packaging>=20.0 in c:\\users\\user\\anaconda3\\lib\\site-packages (from optuna->lightautoml) (20.9)\n",
            "Requirement already satisfied: alembic in c:\\users\\user\\anaconda3\\lib\\site-packages (from optuna->lightautoml) (1.7.4)\n",
            "Requirement already satisfied: colorlog in c:\\users\\user\\anaconda3\\lib\\site-packages (from optuna->lightautoml) (6.5.0)\n",
            "Requirement already satisfied: pillow>=4.1.1 in c:\\users\\user\\anaconda3\\lib\\site-packages (from torchvision->lightautoml) (8.2.0)\n",
            "Requirement already satisfied: pymeeus<=1,>=0.3.13 in c:\\users\\user\\anaconda3\\lib\\site-packages (from convertdate>=2.3.0->holidays->lightautoml) (0.5.11)\n",
            "Requirement already satisfied: cycler>=0.10 in c:\\users\\user\\anaconda3\\lib\\site-packages (from matplotlib->autowoe>=1.2->lightautoml) (0.10.0)\n",
            "Requirement already satisfied: kiwisolver>=1.0.1 in c:\\users\\user\\anaconda3\\lib\\site-packages (from matplotlib->autowoe>=1.2->lightautoml) (1.3.1)\n",
            "Requirement already satisfied: pyparsing>=2.3.1 in c:\\users\\user\\anaconda3\\lib\\site-packages (from matplotlib->autowoe>=1.2->lightautoml) (2.4.7)\n",
            "Requirement already satisfied: importlib-resources>=3.2.0 in c:\\users\\user\\anaconda3\\lib\\site-packages (from matplotlib->autowoe>=1.2->lightautoml) (5.4.0)\n",
            "Requirement already satisfied: fonttools>=4.22.0 in c:\\users\\user\\anaconda3\\lib\\site-packages (from matplotlib->autowoe>=1.2->lightautoml) (4.39.4)\n",
            "Requirement already satisfied: contourpy>=1.0.1 in c:\\users\\user\\anaconda3\\lib\\site-packages (from matplotlib->autowoe>=1.2->lightautoml) (1.0.7)\n",
            "Requirement already satisfied: greenlet!=0.4.17 in c:\\users\\user\\anaconda3\\lib\\site-packages (from sqlalchemy>=1.1.0->optuna->lightautoml) (1.0.0)\n",
            "Requirement already satisfied: importlib-metadata in c:\\users\\user\\anaconda3\\lib\\site-packages (from alembic->optuna->lightautoml) (3.10.0)\n",
            "Requirement already satisfied: Mako in c:\\users\\user\\anaconda3\\lib\\site-packages (from alembic->optuna->lightautoml) (1.1.5)\n",
            "Requirement already satisfied: autopage>=0.4.0 in c:\\users\\user\\anaconda3\\lib\\site-packages (from cliff->optuna->lightautoml) (0.4.0)\n",
            "Requirement already satisfied: pbr!=2.1.0,>=2.0.0 in c:\\users\\user\\anaconda3\\lib\\site-packages (from cliff->optuna->lightautoml) (5.7.0)\n",
            "Requirement already satisfied: PrettyTable>=0.7.2 in c:\\users\\user\\anaconda3\\lib\\site-packages (from cliff->optuna->lightautoml) (2.4.0)\n",
            "Requirement already satisfied: cmd2>=1.0.0 in c:\\users\\user\\anaconda3\\lib\\site-packages (from cliff->optuna->lightautoml) (2.2.0)\n",
            "Requirement already satisfied: stevedore>=2.0.1 in c:\\users\\user\\anaconda3\\lib\\site-packages (from cliff->optuna->lightautoml) (3.5.0)\n",
            "Requirement already satisfied: colorama in c:\\users\\user\\anaconda3\\lib\\site-packages (from colorlog->optuna->lightautoml) (0.4.4)\n",
            "Requirement already satisfied: tenacity>=6.2.0 in c:\\users\\user\\anaconda3\\lib\\site-packages (from plotly->catboost>=0.26.1->lightautoml) (8.0.1)\n",
            "Requirement already satisfied: attrs>=19.2.0 in c:\\users\\user\\anaconda3\\lib\\site-packages (from pytest->autowoe>=1.2->lightautoml) (20.3.0)\n",
            "Requirement already satisfied: iniconfig in c:\\users\\user\\anaconda3\\lib\\site-packages (from pytest->autowoe>=1.2->lightautoml) (1.1.1)\n",
            "Requirement already satisfied: pluggy<1.0.0a1,>=0.12 in c:\\users\\user\\anaconda3\\lib\\site-packages (from pytest->autowoe>=1.2->lightautoml) (0.13.1)\n",
            "Requirement already satisfied: py>=1.8.2 in c:\\users\\user\\anaconda3\\lib\\site-packages (from pytest->autowoe>=1.2->lightautoml) (1.10.0)\n",
            "Requirement already satisfied: toml in c:\\users\\user\\anaconda3\\lib\\site-packages (from pytest->autowoe>=1.2->lightautoml) (0.10.2)\n",
            "Requirement already satisfied: atomicwrites>=1.0 in c:\\users\\user\\anaconda3\\lib\\site-packages (from pytest->autowoe>=1.2->lightautoml) (1.4.0)\n",
            "Requirement already satisfied: sphinxcontrib-devhelp in c:\\users\\user\\anaconda3\\lib\\site-packages (from sphinx->autowoe>=1.2->lightautoml) (1.0.2)\n",
            "Requirement already satisfied: sphinxcontrib-htmlhelp in c:\\users\\user\\anaconda3\\lib\\site-packages (from sphinx->autowoe>=1.2->lightautoml) (1.0.3)\n",
            "Requirement already satisfied: sphinxcontrib-qthelp in c:\\users\\user\\anaconda3\\lib\\site-packages (from sphinx->autowoe>=1.2->lightautoml) (1.0.3)\n",
            "Requirement already satisfied: Pygments>=2.0 in c:\\users\\user\\anaconda3\\lib\\site-packages (from sphinx->autowoe>=1.2->lightautoml) (2.8.1)\n",
            "Requirement already satisfied: sphinxcontrib-applehelp in c:\\users\\user\\anaconda3\\lib\\site-packages (from sphinx->autowoe>=1.2->lightautoml) (1.0.2)\n",
            "Requirement already satisfied: babel>=1.3 in c:\\users\\user\\anaconda3\\lib\\site-packages (from sphinx->autowoe>=1.2->lightautoml) (2.9.0)\n",
            "Requirement already satisfied: snowballstemmer>=1.1 in c:\\users\\user\\anaconda3\\lib\\site-packages (from sphinx->autowoe>=1.2->lightautoml) (2.1.0)\n",
            "Requirement already satisfied: alabaster<0.8,>=0.7 in c:\\users\\user\\anaconda3\\lib\\site-packages (from sphinx->autowoe>=1.2->lightautoml) (0.7.12)\n",
            "Requirement already satisfied: requests>=2.5.0 in c:\\users\\user\\appdata\\roaming\\python\\python38\\site-packages (from sphinx->autowoe>=1.2->lightautoml) (2.25.1)\n",
            "Requirement already satisfied: setuptools in c:\\users\\user\\anaconda3\\lib\\site-packages (from sphinx->autowoe>=1.2->lightautoml) (52.0.0.post20210125)\n",
            "Requirement already satisfied: docutils<0.18,>=0.14 in c:\\users\\user\\anaconda3\\lib\\site-packages (from sphinx->autowoe>=1.2->lightautoml) (0.17)\n",
            "Requirement already satisfied: sphinxcontrib-jsmath in c:\\users\\user\\anaconda3\\lib\\site-packages (from sphinx->autowoe>=1.2->lightautoml) (1.0.1)\n",
            "Requirement already satisfied: imagesize in c:\\users\\user\\anaconda3\\lib\\site-packages (from sphinx->autowoe>=1.2->lightautoml) (1.2.0)\n",
            "Requirement already satisfied: sphinxcontrib-serializinghtml in c:\\users\\user\\anaconda3\\lib\\site-packages (from sphinx->autowoe>=1.2->lightautoml) (1.1.4)\n",
            "Requirement already satisfied: pyreadline3 in c:\\users\\user\\anaconda3\\lib\\site-packages (from cmd2>=1.0.0->cliff->optuna->lightautoml) (3.3)\n",
            "Requirement already satisfied: pyperclip>=1.6 in c:\\users\\user\\anaconda3\\lib\\site-packages (from cmd2>=1.0.0->cliff->optuna->lightautoml) (1.8.2)\n",
            "Requirement already satisfied: wcwidth>=0.1.7 in c:\\users\\user\\anaconda3\\lib\\site-packages (from cmd2>=1.0.0->cliff->optuna->lightautoml) (0.2.5)\n",
            "Requirement already satisfied: zipp>=3.1.0 in c:\\users\\user\\anaconda3\\lib\\site-packages (from importlib-resources>=3.2.0->matplotlib->autowoe>=1.2->lightautoml) (3.4.1)\n",
            "Requirement already satisfied: certifi>=2017.4.17 in c:\\users\\user\\appdata\\roaming\\python\\python38\\site-packages (from requests>=2.5.0->sphinx->autowoe>=1.2->lightautoml) (2020.12.5)\n",
            "Requirement already satisfied: idna<3,>=2.5 in c:\\users\\user\\appdata\\roaming\\python\\python38\\site-packages (from requests>=2.5.0->sphinx->autowoe>=1.2->lightautoml) (2.10)\n",
            "Requirement already satisfied: urllib3<1.27,>=1.21.1 in c:\\users\\user\\appdata\\roaming\\python\\python38\\site-packages (from requests>=2.5.0->sphinx->autowoe>=1.2->lightautoml) (1.26.4)\n",
            "Requirement already satisfied: chardet<5,>=3.0.2 in c:\\users\\user\\appdata\\roaming\\python\\python38\\site-packages (from requests>=2.5.0->sphinx->autowoe>=1.2->lightautoml) (4.0.0)\n",
            "Installing collected packages: lightautoml\n",
            "  Attempting uninstall: lightautoml\n",
            "    Found existing installation: lightautoml 0.3.1\n",
            "    Uninstalling lightautoml-0.3.1:\n",
            "      Successfully uninstalled lightautoml-0.3.1\n",
            "Successfully installed lightautoml-0.3.7.3\n"
          ]
        }
      ],
      "source": [
        "!pip install -U lightautoml"
      ]
    },
    {
      "cell_type": "code",
      "execution_count": null,
      "id": "NV8Zp_-XeBom",
      "metadata": {
        "colab": {
          "base_uri": "https://localhost:8080/",
          "height": 401
        },
        "id": "NV8Zp_-XeBom",
        "outputId": "ea031416-4faf-4ac3-a818-4ae270d7c871"
      },
      "outputs": [
        {
          "name": "stdout",
          "output_type": "stream",
          "text": [
            "Looking in indexes: https://pypi.org/simple, https://us-python.pkg.dev/colab-wheels/public/simple/\n",
            "Collecting torch==1.11.0\n",
            "  Downloading torch-1.11.0-cp310-cp310-manylinux1_x86_64.whl (750.6 MB)\n",
            "\u001b[2K     \u001b[90m━━━━━━━━━━━━━━━━━━━━━━━━━━━━━━━━━━━━━━━\u001b[0m \u001b[32m750.6/750.6 MB\u001b[0m \u001b[31m1.2 MB/s\u001b[0m eta \u001b[36m0:00:00\u001b[0m\n",
            "\u001b[?25hRequirement already satisfied: typing-extensions in /usr/local/lib/python3.10/dist-packages (from torch==1.11.0) (4.5.0)\n",
            "Installing collected packages: torch\n",
            "  Attempting uninstall: torch\n",
            "    Found existing installation: torch 2.0.1+cu118\n",
            "    Uninstalling torch-2.0.1+cu118:\n",
            "      Successfully uninstalled torch-2.0.1+cu118\n",
            "\u001b[31mERROR: pip's dependency resolver does not currently take into account all the packages that are installed. This behaviour is the source of the following dependency conflicts.\n",
            "torchaudio 2.0.2+cu118 requires torch==2.0.1, but you have torch 1.11.0 which is incompatible.\n",
            "torchdata 0.6.1 requires torch==2.0.1, but you have torch 1.11.0 which is incompatible.\n",
            "torchtext 0.15.2 requires torch==2.0.1, but you have torch 1.11.0 which is incompatible.\n",
            "torchvision 0.15.2+cu118 requires torch==2.0.1, but you have torch 1.11.0 which is incompatible.\u001b[0m\u001b[31m\n",
            "\u001b[0mSuccessfully installed torch-1.11.0\n"
          ]
        },
        {
          "data": {
            "application/vnd.colab-display-data+json": {
              "pip_warning": {
                "packages": [
                  "torch"
                ]
              }
            }
          },
          "metadata": {},
          "output_type": "display_data"
        }
      ],
      "source": [
        "!pip install torch==1.11.0"
      ]
    },
    {
      "cell_type": "code",
      "execution_count": null,
      "id": "WH8XPSOluKbY",
      "metadata": {
        "id": "WH8XPSOluKbY"
      },
      "outputs": [],
      "source": [
        "import pandas as pd\n",
        "import torch"
      ]
    },
    {
      "cell_type": "code",
      "execution_count": null,
      "id": "zxgi8Sot8kRJ",
      "metadata": {
        "id": "zxgi8Sot8kRJ"
      },
      "outputs": [],
      "source": [
        "from lightautoml.automl.presets.tabular_presets import TabularAutoML\n",
        "from lightautoml.tasks import Task\n",
        "from lightautoml.tasks.common_metric import mean_quantile_error"
      ]
    },
    {
      "cell_type": "code",
      "execution_count": null,
      "id": "eRbb3b_u8kd5",
      "metadata": {
        "id": "eRbb3b_u8kd5"
      },
      "outputs": [],
      "source": [
        "X_y_train = X_train.copy()\n",
        "X_y_train[\"target\"] = y_train"
      ]
    },
    {
      "cell_type": "code",
      "execution_count": null,
      "id": "wAIw9yAV8ksC",
      "metadata": {
        "id": "wAIw9yAV8ksC"
      },
      "outputs": [],
      "source": [
        "TASK = Task('reg', loss = 'mse', metric = 'r2', greater_is_better=False)\n",
        "N_THREADS = 8 # threads cnt for lgbm and linear models\n",
        "N_FOLDS = 5 # folds cnt for AutoML\n",
        "RANDOM_STATE = 42\n",
        "TEST_SIZE = 0.3\n",
        "TARGET_NAME = \"target\"\n",
        "roles = {\"target\": TARGET_NAME}\n",
        "\n"
      ]
    },
    {
      "cell_type": "code",
      "execution_count": null,
      "id": "2MjQxi6y78a3",
      "metadata": {
        "id": "2MjQxi6y78a3"
      },
      "outputs": [],
      "source": [
        "automl_model = TabularAutoML(task=TASK,\n",
        "                            timeout=30000,\n",
        "                            cpu_limit = N_THREADS,\n",
        "                            gpu_ids='all',\n",
        "                            reader_params = {'n_jobs': N_THREADS, 'cv': N_FOLDS, 'random_state': RANDOM_STATE},\n",
        "                            general_params={'use_algos': [['lgb_tuned', 'cb_tuned', 'cb'],['lgb_tuned', 'cb']]},\n",
        "                            tuning_params={'max_tuning_iter': 20},\n",
        "                      )\n"
      ]
    },
    {
      "cell_type": "code",
      "execution_count": null,
      "id": "b8HtCMIL9byQ",
      "metadata": {
        "id": "b8HtCMIL9byQ",
        "outputId": "84d5ab5e-7561-4a14-8a9d-24fdc0176d76"
      },
      "outputs": [
        {
          "name": "stdout",
          "output_type": "stream",
          "text": [
            "[09:03:00] Stdout logging level is INFO.\n",
            "[09:03:00] Copying TaskTimer may affect the parent PipelineTimer, so copy will create new unlimited TaskTimer\n",
            "[09:03:00] Task: reg\n",
            "\n",
            "[09:03:00] Start automl preset with listed constraints:\n",
            "[09:03:00] - time: 30000.00 seconds\n",
            "[09:03:00] - CPU: 8 cores\n",
            "[09:03:00] - memory: 16 GB\n",
            "\n",
            "[09:03:00] \u001b[1mTrain data shape: (21752, 27)\u001b[0m\n",
            "\n",
            "[09:03:13] Layer \u001b[1m1\u001b[0m train process start. Time left 29987.41 secs\n",
            "[09:03:37] \u001b[1mSelector_LightGBM\u001b[0m fitting and predicting completed\n",
            "[09:03:41] Start hyperparameters optimization for \u001b[1mLvl_0_Pipe_0_Mod_0_Tuned_LightGBM\u001b[0m ... Time budget is 300.00 secs\n",
            "[09:08:58] Hyperparameters optimization for \u001b[1mLvl_0_Pipe_0_Mod_0_Tuned_LightGBM\u001b[0m completed\n",
            "[09:08:58] Start fitting \u001b[1mLvl_0_Pipe_0_Mod_0_Tuned_LightGBM\u001b[0m ...\n",
            "[09:10:22] Fitting \u001b[1mLvl_0_Pipe_0_Mod_0_Tuned_LightGBM\u001b[0m finished. score = \u001b[1m-0.6143668125566992\u001b[0m\n",
            "[09:10:22] \u001b[1mLvl_0_Pipe_0_Mod_0_Tuned_LightGBM\u001b[0m fitting and predicting completed\n",
            "[09:10:23] Start fitting \u001b[1mLvl_0_Pipe_0_Mod_1_CatBoost\u001b[0m ...\n",
            "[09:11:29] Fitting \u001b[1mLvl_0_Pipe_0_Mod_1_CatBoost\u001b[0m finished. score = \u001b[1m-0.6090319001356186\u001b[0m\n",
            "[09:11:29] \u001b[1mLvl_0_Pipe_0_Mod_1_CatBoost\u001b[0m fitting and predicting completed\n",
            "[09:11:29] Start hyperparameters optimization for \u001b[1mLvl_0_Pipe_0_Mod_2_Tuned_CatBoost\u001b[0m ... Time budget is 300.00 secs\n",
            "[09:16:03] Hyperparameters optimization for \u001b[1mLvl_0_Pipe_0_Mod_2_Tuned_CatBoost\u001b[0m completed\n",
            "[09:16:03] Start fitting \u001b[1mLvl_0_Pipe_0_Mod_2_Tuned_CatBoost\u001b[0m ...\n",
            "[09:17:10] Fitting \u001b[1mLvl_0_Pipe_0_Mod_2_Tuned_CatBoost\u001b[0m finished. score = \u001b[1m-0.5853425894129941\u001b[0m\n",
            "[09:17:10] \u001b[1mLvl_0_Pipe_0_Mod_2_Tuned_CatBoost\u001b[0m fitting and predicting completed\n",
            "[09:17:10] Time left 29149.80 secs\n",
            "\n",
            "[09:17:10] \u001b[1mLayer 1 training completed.\u001b[0m\n",
            "\n",
            "[09:17:10] Layer \u001b[1m2\u001b[0m train process start. Time left 29149.76 secs\n",
            "[09:17:14] Start hyperparameters optimization for \u001b[1mLvl_1_Pipe_0_Mod_0_Tuned_LightGBM\u001b[0m ... Time budget is 300.00 secs\n",
            "[09:22:46] Hyperparameters optimization for \u001b[1mLvl_1_Pipe_0_Mod_0_Tuned_LightGBM\u001b[0m completed\n",
            "[09:22:46] Start fitting \u001b[1mLvl_1_Pipe_0_Mod_0_Tuned_LightGBM\u001b[0m ...\n",
            "[09:24:21] Fitting \u001b[1mLvl_1_Pipe_0_Mod_0_Tuned_LightGBM\u001b[0m finished. score = \u001b[1m-0.6143668125566992\u001b[0m\n",
            "[09:24:21] \u001b[1mLvl_1_Pipe_0_Mod_0_Tuned_LightGBM\u001b[0m fitting and predicting completed\n",
            "[09:24:21] Start fitting \u001b[1mLvl_1_Pipe_0_Mod_1_CatBoost\u001b[0m ...\n",
            "[09:25:31] Fitting \u001b[1mLvl_1_Pipe_0_Mod_1_CatBoost\u001b[0m finished. score = \u001b[1m-0.6090319001356186\u001b[0m\n",
            "[09:25:31] \u001b[1mLvl_1_Pipe_0_Mod_1_CatBoost\u001b[0m fitting and predicting completed\n",
            "[09:25:31] Time left 28649.59 secs\n",
            "\n",
            "[09:25:31] \u001b[1mLayer 2 training completed.\u001b[0m\n",
            "\n",
            "[09:25:31] Blending: optimization starts with equal weights and score \u001b[1m-0.6212223453202916\u001b[0m\n",
            "[09:25:31] Blending: iteration \u001b[1m0\u001b[0m: score = \u001b[1m-0.6090319001356186\u001b[0m, weights = \u001b[1m[0. 1.]\u001b[0m\n",
            "[09:25:31] Blending: iteration \u001b[1m1\u001b[0m: score = \u001b[1m-0.6090319001356186\u001b[0m, weights = \u001b[1m[0. 1.]\u001b[0m\n",
            "[09:25:31] Blending: no score update. Terminated\n",
            "\n",
            "[09:25:31] \u001b[1mAutoml preset training completed in 1350.55 seconds\u001b[0m\n",
            "\n",
            "[09:25:31] Model description:\n",
            "Models on level 0:\n",
            "\t 5 averaged models Lvl_0_Pipe_0_Mod_0_Tuned_LightGBM\n",
            "\t 5 averaged models Lvl_0_Pipe_0_Mod_1_CatBoost\n",
            "\t 5 averaged models Lvl_0_Pipe_0_Mod_2_Tuned_CatBoost\n",
            "\n",
            "Final prediction for new objects (level 1) = \n",
            "\t 1.00000 * (5 averaged models Lvl_1_Pipe_0_Mod_1_CatBoost) \n",
            "\n"
          ]
        }
      ],
      "source": [
        "train_pred_automl = automl_model.fit_predict(X_y_train, roles = roles, verbose = 1)"
      ]
    },
    {
      "cell_type": "code",
      "execution_count": null,
      "id": "Sod1wtAr9cAy",
      "metadata": {
        "id": "Sod1wtAr9cAy",
        "scrolled": true,
        "outputId": "2cc625ea-a7c0-4874-d78d-4615f300cbae"
      },
      "outputs": [
        {
          "data": {
            "text/plain": [
              "array([[67.65975 ],\n",
              "       [89.647675],\n",
              "       [42.776344],\n",
              "       ...,\n",
              "       [30.620234],\n",
              "       [52.52799 ],\n",
              "       [44.470486]], dtype=float32)"
            ]
          },
          "execution_count": 17,
          "metadata": {},
          "output_type": "execute_result"
        }
      ],
      "source": [
        "test_pred_automl = automl_model.predict(X_test)\n",
        "test_pred_automl"
      ]
    },
    {
      "cell_type": "code",
      "execution_count": null,
      "id": "b65743f3",
      "metadata": {
        "id": "b65743f3",
        "outputId": "ef519a00-f51d-4349-8357-5c52a5db3cee"
      },
      "outputs": [
        {
          "name": "stdout",
          "output_type": "stream",
          "text": [
            "<class 'pandas.core.series.Series'>\n"
          ]
        },
        {
          "data": {
            "text/plain": [
              "9202     75.1\n",
              "2622     88.2\n",
              "11082    39.8\n",
              "26483    41.7\n",
              "12608    44.0\n",
              "         ... \n",
              "26087    38.5\n",
              "28305    63.9\n",
              "16938    20.0\n",
              "26164    47.0\n",
              "5719     44.3\n",
              "Name: tm, Length: 9323, dtype: float64"
            ]
          },
          "execution_count": 19,
          "metadata": {},
          "output_type": "execute_result"
        }
      ],
      "source": [
        "print(type(y_test))\n",
        "y_test"
      ]
    },
    {
      "cell_type": "code",
      "execution_count": null,
      "id": "e6e95977",
      "metadata": {
        "id": "e6e95977"
      },
      "outputs": [],
      "source": [
        "test_pred_automl_ = np.array([x.data[0] for x in test_pred_automl])"
      ]
    },
    {
      "cell_type": "code",
      "execution_count": null,
      "id": "783de505",
      "metadata": {
        "id": "783de505"
      },
      "outputs": [],
      "source": [
        "train_pred_automl_ = np.array([x.data[0] for x in train_pred_automl])"
      ]
    },
    {
      "cell_type": "code",
      "execution_count": null,
      "id": "87469450",
      "metadata": {
        "id": "87469450",
        "outputId": "e2319ba1-8547-4d10-cd17-15923de2d309"
      },
      "outputs": [
        {
          "name": "stdout",
          "output_type": "stream",
          "text": [
            "<class 'numpy.ndarray'>\n"
          ]
        },
        {
          "data": {
            "text/plain": [
              "array([75.1, 88.2, 39.8, ..., 20. , 47. , 44.3])"
            ]
          },
          "execution_count": 22,
          "metadata": {},
          "output_type": "execute_result"
        }
      ],
      "source": [
        "y_test_ = y_test.copy()\n",
        "y_test_ = np.array(y_test_)\n",
        "print(type(y_test_))\n",
        "y_test_"
      ]
    },
    {
      "cell_type": "code",
      "execution_count": null,
      "id": "a0fcdc7f",
      "metadata": {
        "id": "a0fcdc7f",
        "outputId": "9b0cfadf-0128-463c-c1a7-824b736fe96c"
      },
      "outputs": [
        {
          "name": "stdout",
          "output_type": "stream",
          "text": [
            "<class 'numpy.ndarray'>\n"
          ]
        },
        {
          "data": {
            "text/plain": [
              "array([44.6, 41.5, 41. , ..., 58.9, 53.5, 35.9])"
            ]
          },
          "execution_count": 23,
          "metadata": {},
          "output_type": "execute_result"
        }
      ],
      "source": [
        "y_train_ = y_train.copy()\n",
        "y_train_ = np.array(y_train_)\n",
        "print(type(y_train_))\n",
        "y_train_"
      ]
    },
    {
      "cell_type": "code",
      "execution_count": null,
      "id": "775555f2",
      "metadata": {
        "id": "775555f2",
        "outputId": "aee6c857-6ad6-4d09-bfc7-2b99352b52da"
      },
      "outputs": [
        {
          "name": "stdout",
          "output_type": "stream",
          "text": [
            "<class 'lightautoml.dataset.np_pd_dataset.NumpyDataset'>\n"
          ]
        },
        {
          "data": {
            "text/plain": [
              "array([[67.65975 ],\n",
              "       [89.647675],\n",
              "       [42.776344],\n",
              "       ...,\n",
              "       [30.620234],\n",
              "       [52.52799 ],\n",
              "       [44.470486]], dtype=float32)"
            ]
          },
          "execution_count": 20,
          "metadata": {},
          "output_type": "execute_result"
        }
      ],
      "source": [
        "print(type(test_pred_automl))\n",
        "test_pred_automl"
      ]
    },
    {
      "cell_type": "code",
      "execution_count": null,
      "id": "nTw8Cvbu968e",
      "metadata": {
        "id": "nTw8Cvbu968e",
        "outputId": "70fa1520-389b-4156-cde0-22b81f3b42af"
      },
      "outputs": [
        {
          "name": "stdout",
          "output_type": "stream",
          "text": [
            "R2 for train: 0.6090319001356186.\n",
            "R2 for test: 0.6020881685326214\n"
          ]
        }
      ],
      "source": [
        "r2_test_automl = r2_score(y_test_, test_pred_automl_)\n",
        "r2_train_automl = r2_score(y_train_, train_pred_automl_)\n",
        "\n",
        "print(f\"R2 for train: {r2_train_automl}.\\nR2 for test: {r2_test_automl}\")"
      ]
    },
    {
      "cell_type": "markdown",
      "id": "kuBF9h-QSmsE",
      "metadata": {
        "id": "kuBF9h-QSmsE"
      },
      "source": [
        "## Final model selection"
      ]
    },
    {
      "cell_type": "markdown",
      "id": "5846f697",
      "metadata": {
        "id": "5846f697"
      },
      "source": [
        "CatBoost and RandomForest were the best in r2 scores for both train and test "
      ]
    }
  ],
  "metadata": {
    "colab": {
      "gpuType": "T4",
      "provenance": [],
      "include_colab_link": true
    },
    "gpuClass": "standard",
    "kernelspec": {
      "display_name": "Python 3",
      "language": "python",
      "name": "python3"
    },
    "language_info": {
      "codemirror_mode": {
        "name": "ipython",
        "version": 3
      },
      "file_extension": ".py",
      "mimetype": "text/x-python",
      "name": "python",
      "nbconvert_exporter": "python",
      "pygments_lexer": "ipython3",
      "version": "3.8.8"
    }
  },
  "nbformat": 4,
  "nbformat_minor": 5
}