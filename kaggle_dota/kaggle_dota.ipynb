{
  "cells": [
    {
      "cell_type": "markdown",
      "metadata": {
        "id": "view-in-github",
        "colab_type": "text"
      },
      "source": [
        "<a href=\"https://colab.research.google.com/github/Irina-Bogdanova-bioinformatician/BI_ML_2023/blob/kaggle_competition/kaggle_dota/kaggle_dota.ipynb\" target=\"_parent\"><img src=\"https://colab.research.google.com/assets/colab-badge.svg\" alt=\"Open In Colab\"/></a>"
      ]
    },
    {
      "cell_type": "code",
      "source": [
        "!pip install catboost"
      ],
      "metadata": {
        "colab": {
          "base_uri": "https://localhost:8080/"
        },
        "id": "shajoTX0tZE9",
        "outputId": "6503992c-a6f8-4f27-86ad-abd99865b26f"
      },
      "id": "shajoTX0tZE9",
      "execution_count": null,
      "outputs": [
        {
          "output_type": "stream",
          "name": "stdout",
          "text": [
            "Looking in indexes: https://pypi.org/simple, https://us-python.pkg.dev/colab-wheels/public/simple/\n",
            "Collecting catboost\n",
            "  Downloading catboost-1.1.1-cp39-none-manylinux1_x86_64.whl (76.6 MB)\n",
            "\u001b[2K     \u001b[90m━━━━━━━━━━━━━━━━━━━━━━━━━━━━━━━━━━━━━━━━\u001b[0m \u001b[32m76.6/76.6 MB\u001b[0m \u001b[31m14.8 MB/s\u001b[0m eta \u001b[36m0:00:00\u001b[0m\n",
            "\u001b[?25hRequirement already satisfied: scipy in /usr/local/lib/python3.9/dist-packages (from catboost) (1.10.1)\n",
            "Requirement already satisfied: graphviz in /usr/local/lib/python3.9/dist-packages (from catboost) (0.20.1)\n",
            "Requirement already satisfied: numpy>=1.16.0 in /usr/local/lib/python3.9/dist-packages (from catboost) (1.22.4)\n",
            "Requirement already satisfied: six in /usr/local/lib/python3.9/dist-packages (from catboost) (1.16.0)\n",
            "Requirement already satisfied: pandas>=0.24.0 in /usr/local/lib/python3.9/dist-packages (from catboost) (1.4.4)\n",
            "Requirement already satisfied: plotly in /usr/local/lib/python3.9/dist-packages (from catboost) (5.13.1)\n",
            "Requirement already satisfied: matplotlib in /usr/local/lib/python3.9/dist-packages (from catboost) (3.7.1)\n",
            "Requirement already satisfied: pytz>=2020.1 in /usr/local/lib/python3.9/dist-packages (from pandas>=0.24.0->catboost) (2022.7.1)\n",
            "Requirement already satisfied: python-dateutil>=2.8.1 in /usr/local/lib/python3.9/dist-packages (from pandas>=0.24.0->catboost) (2.8.2)\n",
            "Requirement already satisfied: packaging>=20.0 in /usr/local/lib/python3.9/dist-packages (from matplotlib->catboost) (23.0)\n",
            "Requirement already satisfied: pillow>=6.2.0 in /usr/local/lib/python3.9/dist-packages (from matplotlib->catboost) (8.4.0)\n",
            "Requirement already satisfied: pyparsing>=2.3.1 in /usr/local/lib/python3.9/dist-packages (from matplotlib->catboost) (3.0.9)\n",
            "Requirement already satisfied: importlib-resources>=3.2.0 in /usr/local/lib/python3.9/dist-packages (from matplotlib->catboost) (5.12.0)\n",
            "Requirement already satisfied: cycler>=0.10 in /usr/local/lib/python3.9/dist-packages (from matplotlib->catboost) (0.11.0)\n",
            "Requirement already satisfied: kiwisolver>=1.0.1 in /usr/local/lib/python3.9/dist-packages (from matplotlib->catboost) (1.4.4)\n",
            "Requirement already satisfied: fonttools>=4.22.0 in /usr/local/lib/python3.9/dist-packages (from matplotlib->catboost) (4.39.3)\n",
            "Requirement already satisfied: contourpy>=1.0.1 in /usr/local/lib/python3.9/dist-packages (from matplotlib->catboost) (1.0.7)\n",
            "Requirement already satisfied: tenacity>=6.2.0 in /usr/local/lib/python3.9/dist-packages (from plotly->catboost) (8.2.2)\n",
            "Requirement already satisfied: zipp>=3.1.0 in /usr/local/lib/python3.9/dist-packages (from importlib-resources>=3.2.0->matplotlib->catboost) (3.15.0)\n",
            "Installing collected packages: catboost\n",
            "Successfully installed catboost-1.1.1\n"
          ]
        }
      ]
    },
    {
      "cell_type": "code",
      "execution_count": null,
      "metadata": {
        "id": "207c6797"
      },
      "outputs": [],
      "source": [
        "import numpy as np\n",
        "import pandas as pd\n",
        "import matplotlib.pyplot as plt\n",
        "import seaborn as sns\n",
        "from catboost import CatBoostClassifier\n",
        "from sklearn.ensemble import RandomForestClassifier\n",
        "from sklearn.linear_model import LinearRegression\n",
        "from sklearn.model_selection import train_test_split\n",
        "from sklearn.model_selection import cross_val_score\n",
        "from sklearn.metrics import r2_score, roc_auc_score\n",
        "from sklearn.model_selection import GridSearchCV, KFold, RandomizedSearchCV\n",
        "from sklearn.preprocessing import StandardScaler\n",
        "from sklearn.metrics import f1_score, classification_report, precision_score, recall_score\n",
        "\n",
        "%matplotlib inline\n",
        "%config InlineBackend.figure_format='svg'"
      ],
      "id": "207c6797"
    },
    {
      "cell_type": "markdown",
      "metadata": {
        "id": "a01c6671"
      },
      "source": [
        "# Загрузка и EDA"
      ],
      "id": "a01c6671"
    },
    {
      "cell_type": "code",
      "execution_count": null,
      "metadata": {
        "colab": {
          "base_uri": "https://localhost:8080/"
        },
        "id": "Vno_6b-_eUqw",
        "outputId": "422079ea-8e1d-42f7-c138-8e4ed3c90cd3"
      },
      "outputs": [
        {
          "output_type": "stream",
          "name": "stdout",
          "text": [
            "Archive:  test_data.csv.zip\n",
            "  inflating: test_data.csv           \n"
          ]
        }
      ],
      "source": [
        "%%bash\n",
        "\n",
        "unzip test_data.csv.zip\n",
        "unzip train_data.csv.zip\n",
        "unzip train_targets.csv.zip"
      ],
      "id": "Vno_6b-_eUqw"
    },
    {
      "cell_type": "code",
      "source": [
        "!unzip test_raw_data.jsonl.zip\n",
        "!unzip train_raw_data.jsonl.zip"
      ],
      "metadata": {
        "colab": {
          "base_uri": "https://localhost:8080/"
        },
        "id": "CeOX7mrXl03d",
        "outputId": "abf63dde-febd-4447-b534-bd235bd12707"
      },
      "id": "CeOX7mrXl03d",
      "execution_count": null,
      "outputs": [
        {
          "output_type": "stream",
          "name": "stdout",
          "text": [
            "Archive:  test_raw_data.jsonl.zip\n",
            "  inflating: test_raw_data.jsonl     \n",
            "Archive:  train_raw_data.jsonl.zip\n",
            "  inflating: train_raw_data.jsonl    \n"
          ]
        }
      ]
    },
    {
      "cell_type": "code",
      "execution_count": null,
      "metadata": {
        "id": "X0qcwjq0hhsm"
      },
      "outputs": [],
      "source": [
        "import json\n",
        "\n",
        "with open('/content/test_raw_data.jsonl') as test_raw, open('/content/train_raw_data.jsonl') as train_raw:\n",
        "    json_train = train_raw.read()\n",
        "    json_test = train_raw.read()\n",
        "  \n",
        "# json_train = json.loads(json_train)      Error!\n",
        "# json_test = json.loads(json_test)        Error!"
      ],
      "id": "X0qcwjq0hhsm"
    },
    {
      "cell_type": "code",
      "execution_count": null,
      "metadata": {
        "colab": {
          "base_uri": "https://localhost:8080/",
          "height": 456
        },
        "id": "ab7b3f9d",
        "outputId": "e0589410-2dcc-4b03-acda-c398f3c939a7"
      },
      "outputs": [
        {
          "output_type": "execute_result",
          "data": {
            "text/plain": [
              "                      match_id_hash  game_time  game_mode  lobby_type  \\\n",
              "0  b9c57c450ce74a2af79c9ce96fac144d        658          4           0   \n",
              "1  6db558535151ea18ca70a6892197db41         21         23           0   \n",
              "2  19c39fe2af2b547e48708ca005c6ae74        160         22           7   \n",
              "3  c96d629dc0c39f0c616d1949938a6ba6       1016         22           0   \n",
              "4  156c88bff4e9c4668b0f53df3d870f1b        582         22           7   \n",
              "5  df50f738c454d430a33b2bf90cb9ef1a        636         22           7   \n",
              "6  7469e9440ea3d19b211a484647c7126e       1054         22           0   \n",
              "7  0aa1c6d7630433a93fe42da5ac810368       1797         22           7   \n",
              "8  892b5d40992e4b334e159f99b2bb55e6        605         22           7   \n",
              "9  44eb0c077ca68678bb9bfead29e9c455       1514         22           7   \n",
              "\n",
              "   objectives_len  chat_len  r1_hero_id  r1_kills  r1_deaths  r1_assists  ...  \\\n",
              "0               3        10          15         7          2           0  ...   \n",
              "1               0         0         101         0          0           0  ...   \n",
              "2               0         0          57         0          0           0  ...   \n",
              "3               1         0         119         0          3           3  ...   \n",
              "4               2         2          12         3          1           2  ...   \n",
              "5               1         5          74         1          1           0  ...   \n",
              "6               8         5          71         1          3          10  ...   \n",
              "7               9         2          35         1          5           2  ...   \n",
              "8               0         5          30         0          1           3  ...   \n",
              "9               6         3          26         2          6           6  ...   \n",
              "\n",
              "    d5_stuns  d5_creeps_stacked  d5_camps_stacked  d5_rune_pickups  \\\n",
              "0   0.000000                  0                 0                0   \n",
              "1   0.000000                  0                 0                0   \n",
              "2   0.000000                  0                 0                0   \n",
              "3   8.264696                  0                 0                3   \n",
              "4  15.762911                  3                 1                0   \n",
              "5   8.064697                  0                 0                1   \n",
              "6   2.899237                  0                 0               11   \n",
              "7  34.424866                  0                 0               19   \n",
              "8   0.000012                  0                 0                3   \n",
              "9   0.000000                  0                 0                7   \n",
              "\n",
              "   d5_firstblood_claimed  d5_teamfight_participation  d5_towers_killed  \\\n",
              "0                      0                    0.000000                 0   \n",
              "1                      0                    0.000000                 0   \n",
              "2                      0                    0.000000                 0   \n",
              "3                      0                    0.250000                 0   \n",
              "4                      1                    0.500000                 0   \n",
              "5                      0                    0.428571                 0   \n",
              "6                      0                    0.636364                 0   \n",
              "7                      0                    0.371429                 0   \n",
              "8                      0                    0.250000                 0   \n",
              "9                      1                    0.518518                 2   \n",
              "\n",
              "   d5_roshans_killed  d5_obs_placed  d5_sen_placed  \n",
              "0                  0              0              0  \n",
              "1                  0              0              0  \n",
              "2                  0              0              0  \n",
              "3                  0              3              0  \n",
              "4                  0              3              0  \n",
              "5                  0              1              0  \n",
              "6                  0              0              0  \n",
              "7                  0              0              0  \n",
              "8                  0              1              0  \n",
              "9                  0              0              0  \n",
              "\n",
              "[10 rows x 246 columns]"
            ],
            "text/html": [
              "\n",
              "  <div id=\"df-a6872020-12e2-4b19-b29d-ca476719028a\">\n",
              "    <div class=\"colab-df-container\">\n",
              "      <div>\n",
              "<style scoped>\n",
              "    .dataframe tbody tr th:only-of-type {\n",
              "        vertical-align: middle;\n",
              "    }\n",
              "\n",
              "    .dataframe tbody tr th {\n",
              "        vertical-align: top;\n",
              "    }\n",
              "\n",
              "    .dataframe thead th {\n",
              "        text-align: right;\n",
              "    }\n",
              "</style>\n",
              "<table border=\"1\" class=\"dataframe\">\n",
              "  <thead>\n",
              "    <tr style=\"text-align: right;\">\n",
              "      <th></th>\n",
              "      <th>match_id_hash</th>\n",
              "      <th>game_time</th>\n",
              "      <th>game_mode</th>\n",
              "      <th>lobby_type</th>\n",
              "      <th>objectives_len</th>\n",
              "      <th>chat_len</th>\n",
              "      <th>r1_hero_id</th>\n",
              "      <th>r1_kills</th>\n",
              "      <th>r1_deaths</th>\n",
              "      <th>r1_assists</th>\n",
              "      <th>...</th>\n",
              "      <th>d5_stuns</th>\n",
              "      <th>d5_creeps_stacked</th>\n",
              "      <th>d5_camps_stacked</th>\n",
              "      <th>d5_rune_pickups</th>\n",
              "      <th>d5_firstblood_claimed</th>\n",
              "      <th>d5_teamfight_participation</th>\n",
              "      <th>d5_towers_killed</th>\n",
              "      <th>d5_roshans_killed</th>\n",
              "      <th>d5_obs_placed</th>\n",
              "      <th>d5_sen_placed</th>\n",
              "    </tr>\n",
              "  </thead>\n",
              "  <tbody>\n",
              "    <tr>\n",
              "      <th>0</th>\n",
              "      <td>b9c57c450ce74a2af79c9ce96fac144d</td>\n",
              "      <td>658</td>\n",
              "      <td>4</td>\n",
              "      <td>0</td>\n",
              "      <td>3</td>\n",
              "      <td>10</td>\n",
              "      <td>15</td>\n",
              "      <td>7</td>\n",
              "      <td>2</td>\n",
              "      <td>0</td>\n",
              "      <td>...</td>\n",
              "      <td>0.000000</td>\n",
              "      <td>0</td>\n",
              "      <td>0</td>\n",
              "      <td>0</td>\n",
              "      <td>0</td>\n",
              "      <td>0.000000</td>\n",
              "      <td>0</td>\n",
              "      <td>0</td>\n",
              "      <td>0</td>\n",
              "      <td>0</td>\n",
              "    </tr>\n",
              "    <tr>\n",
              "      <th>1</th>\n",
              "      <td>6db558535151ea18ca70a6892197db41</td>\n",
              "      <td>21</td>\n",
              "      <td>23</td>\n",
              "      <td>0</td>\n",
              "      <td>0</td>\n",
              "      <td>0</td>\n",
              "      <td>101</td>\n",
              "      <td>0</td>\n",
              "      <td>0</td>\n",
              "      <td>0</td>\n",
              "      <td>...</td>\n",
              "      <td>0.000000</td>\n",
              "      <td>0</td>\n",
              "      <td>0</td>\n",
              "      <td>0</td>\n",
              "      <td>0</td>\n",
              "      <td>0.000000</td>\n",
              "      <td>0</td>\n",
              "      <td>0</td>\n",
              "      <td>0</td>\n",
              "      <td>0</td>\n",
              "    </tr>\n",
              "    <tr>\n",
              "      <th>2</th>\n",
              "      <td>19c39fe2af2b547e48708ca005c6ae74</td>\n",
              "      <td>160</td>\n",
              "      <td>22</td>\n",
              "      <td>7</td>\n",
              "      <td>0</td>\n",
              "      <td>0</td>\n",
              "      <td>57</td>\n",
              "      <td>0</td>\n",
              "      <td>0</td>\n",
              "      <td>0</td>\n",
              "      <td>...</td>\n",
              "      <td>0.000000</td>\n",
              "      <td>0</td>\n",
              "      <td>0</td>\n",
              "      <td>0</td>\n",
              "      <td>0</td>\n",
              "      <td>0.000000</td>\n",
              "      <td>0</td>\n",
              "      <td>0</td>\n",
              "      <td>0</td>\n",
              "      <td>0</td>\n",
              "    </tr>\n",
              "    <tr>\n",
              "      <th>3</th>\n",
              "      <td>c96d629dc0c39f0c616d1949938a6ba6</td>\n",
              "      <td>1016</td>\n",
              "      <td>22</td>\n",
              "      <td>0</td>\n",
              "      <td>1</td>\n",
              "      <td>0</td>\n",
              "      <td>119</td>\n",
              "      <td>0</td>\n",
              "      <td>3</td>\n",
              "      <td>3</td>\n",
              "      <td>...</td>\n",
              "      <td>8.264696</td>\n",
              "      <td>0</td>\n",
              "      <td>0</td>\n",
              "      <td>3</td>\n",
              "      <td>0</td>\n",
              "      <td>0.250000</td>\n",
              "      <td>0</td>\n",
              "      <td>0</td>\n",
              "      <td>3</td>\n",
              "      <td>0</td>\n",
              "    </tr>\n",
              "    <tr>\n",
              "      <th>4</th>\n",
              "      <td>156c88bff4e9c4668b0f53df3d870f1b</td>\n",
              "      <td>582</td>\n",
              "      <td>22</td>\n",
              "      <td>7</td>\n",
              "      <td>2</td>\n",
              "      <td>2</td>\n",
              "      <td>12</td>\n",
              "      <td>3</td>\n",
              "      <td>1</td>\n",
              "      <td>2</td>\n",
              "      <td>...</td>\n",
              "      <td>15.762911</td>\n",
              "      <td>3</td>\n",
              "      <td>1</td>\n",
              "      <td>0</td>\n",
              "      <td>1</td>\n",
              "      <td>0.500000</td>\n",
              "      <td>0</td>\n",
              "      <td>0</td>\n",
              "      <td>3</td>\n",
              "      <td>0</td>\n",
              "    </tr>\n",
              "    <tr>\n",
              "      <th>5</th>\n",
              "      <td>df50f738c454d430a33b2bf90cb9ef1a</td>\n",
              "      <td>636</td>\n",
              "      <td>22</td>\n",
              "      <td>7</td>\n",
              "      <td>1</td>\n",
              "      <td>5</td>\n",
              "      <td>74</td>\n",
              "      <td>1</td>\n",
              "      <td>1</td>\n",
              "      <td>0</td>\n",
              "      <td>...</td>\n",
              "      <td>8.064697</td>\n",
              "      <td>0</td>\n",
              "      <td>0</td>\n",
              "      <td>1</td>\n",
              "      <td>0</td>\n",
              "      <td>0.428571</td>\n",
              "      <td>0</td>\n",
              "      <td>0</td>\n",
              "      <td>1</td>\n",
              "      <td>0</td>\n",
              "    </tr>\n",
              "    <tr>\n",
              "      <th>6</th>\n",
              "      <td>7469e9440ea3d19b211a484647c7126e</td>\n",
              "      <td>1054</td>\n",
              "      <td>22</td>\n",
              "      <td>0</td>\n",
              "      <td>8</td>\n",
              "      <td>5</td>\n",
              "      <td>71</td>\n",
              "      <td>1</td>\n",
              "      <td>3</td>\n",
              "      <td>10</td>\n",
              "      <td>...</td>\n",
              "      <td>2.899237</td>\n",
              "      <td>0</td>\n",
              "      <td>0</td>\n",
              "      <td>11</td>\n",
              "      <td>0</td>\n",
              "      <td>0.636364</td>\n",
              "      <td>0</td>\n",
              "      <td>0</td>\n",
              "      <td>0</td>\n",
              "      <td>0</td>\n",
              "    </tr>\n",
              "    <tr>\n",
              "      <th>7</th>\n",
              "      <td>0aa1c6d7630433a93fe42da5ac810368</td>\n",
              "      <td>1797</td>\n",
              "      <td>22</td>\n",
              "      <td>7</td>\n",
              "      <td>9</td>\n",
              "      <td>2</td>\n",
              "      <td>35</td>\n",
              "      <td>1</td>\n",
              "      <td>5</td>\n",
              "      <td>2</td>\n",
              "      <td>...</td>\n",
              "      <td>34.424866</td>\n",
              "      <td>0</td>\n",
              "      <td>0</td>\n",
              "      <td>19</td>\n",
              "      <td>0</td>\n",
              "      <td>0.371429</td>\n",
              "      <td>0</td>\n",
              "      <td>0</td>\n",
              "      <td>0</td>\n",
              "      <td>0</td>\n",
              "    </tr>\n",
              "    <tr>\n",
              "      <th>8</th>\n",
              "      <td>892b5d40992e4b334e159f99b2bb55e6</td>\n",
              "      <td>605</td>\n",
              "      <td>22</td>\n",
              "      <td>7</td>\n",
              "      <td>0</td>\n",
              "      <td>5</td>\n",
              "      <td>30</td>\n",
              "      <td>0</td>\n",
              "      <td>1</td>\n",
              "      <td>3</td>\n",
              "      <td>...</td>\n",
              "      <td>0.000012</td>\n",
              "      <td>0</td>\n",
              "      <td>0</td>\n",
              "      <td>3</td>\n",
              "      <td>0</td>\n",
              "      <td>0.250000</td>\n",
              "      <td>0</td>\n",
              "      <td>0</td>\n",
              "      <td>1</td>\n",
              "      <td>0</td>\n",
              "    </tr>\n",
              "    <tr>\n",
              "      <th>9</th>\n",
              "      <td>44eb0c077ca68678bb9bfead29e9c455</td>\n",
              "      <td>1514</td>\n",
              "      <td>22</td>\n",
              "      <td>7</td>\n",
              "      <td>6</td>\n",
              "      <td>3</td>\n",
              "      <td>26</td>\n",
              "      <td>2</td>\n",
              "      <td>6</td>\n",
              "      <td>6</td>\n",
              "      <td>...</td>\n",
              "      <td>0.000000</td>\n",
              "      <td>0</td>\n",
              "      <td>0</td>\n",
              "      <td>7</td>\n",
              "      <td>1</td>\n",
              "      <td>0.518518</td>\n",
              "      <td>2</td>\n",
              "      <td>0</td>\n",
              "      <td>0</td>\n",
              "      <td>0</td>\n",
              "    </tr>\n",
              "  </tbody>\n",
              "</table>\n",
              "<p>10 rows × 246 columns</p>\n",
              "</div>\n",
              "      <button class=\"colab-df-convert\" onclick=\"convertToInteractive('df-a6872020-12e2-4b19-b29d-ca476719028a')\"\n",
              "              title=\"Convert this dataframe to an interactive table.\"\n",
              "              style=\"display:none;\">\n",
              "        \n",
              "  <svg xmlns=\"http://www.w3.org/2000/svg\" height=\"24px\"viewBox=\"0 0 24 24\"\n",
              "       width=\"24px\">\n",
              "    <path d=\"M0 0h24v24H0V0z\" fill=\"none\"/>\n",
              "    <path d=\"M18.56 5.44l.94 2.06.94-2.06 2.06-.94-2.06-.94-.94-2.06-.94 2.06-2.06.94zm-11 1L8.5 8.5l.94-2.06 2.06-.94-2.06-.94L8.5 2.5l-.94 2.06-2.06.94zm10 10l.94 2.06.94-2.06 2.06-.94-2.06-.94-.94-2.06-.94 2.06-2.06.94z\"/><path d=\"M17.41 7.96l-1.37-1.37c-.4-.4-.92-.59-1.43-.59-.52 0-1.04.2-1.43.59L10.3 9.45l-7.72 7.72c-.78.78-.78 2.05 0 2.83L4 21.41c.39.39.9.59 1.41.59.51 0 1.02-.2 1.41-.59l7.78-7.78 2.81-2.81c.8-.78.8-2.07 0-2.86zM5.41 20L4 18.59l7.72-7.72 1.47 1.35L5.41 20z\"/>\n",
              "  </svg>\n",
              "      </button>\n",
              "      \n",
              "  <style>\n",
              "    .colab-df-container {\n",
              "      display:flex;\n",
              "      flex-wrap:wrap;\n",
              "      gap: 12px;\n",
              "    }\n",
              "\n",
              "    .colab-df-convert {\n",
              "      background-color: #E8F0FE;\n",
              "      border: none;\n",
              "      border-radius: 50%;\n",
              "      cursor: pointer;\n",
              "      display: none;\n",
              "      fill: #1967D2;\n",
              "      height: 32px;\n",
              "      padding: 0 0 0 0;\n",
              "      width: 32px;\n",
              "    }\n",
              "\n",
              "    .colab-df-convert:hover {\n",
              "      background-color: #E2EBFA;\n",
              "      box-shadow: 0px 1px 2px rgba(60, 64, 67, 0.3), 0px 1px 3px 1px rgba(60, 64, 67, 0.15);\n",
              "      fill: #174EA6;\n",
              "    }\n",
              "\n",
              "    [theme=dark] .colab-df-convert {\n",
              "      background-color: #3B4455;\n",
              "      fill: #D2E3FC;\n",
              "    }\n",
              "\n",
              "    [theme=dark] .colab-df-convert:hover {\n",
              "      background-color: #434B5C;\n",
              "      box-shadow: 0px 1px 3px 1px rgba(0, 0, 0, 0.15);\n",
              "      filter: drop-shadow(0px 1px 2px rgba(0, 0, 0, 0.3));\n",
              "      fill: #FFFFFF;\n",
              "    }\n",
              "  </style>\n",
              "\n",
              "      <script>\n",
              "        const buttonEl =\n",
              "          document.querySelector('#df-a6872020-12e2-4b19-b29d-ca476719028a button.colab-df-convert');\n",
              "        buttonEl.style.display =\n",
              "          google.colab.kernel.accessAllowed ? 'block' : 'none';\n",
              "\n",
              "        async function convertToInteractive(key) {\n",
              "          const element = document.querySelector('#df-a6872020-12e2-4b19-b29d-ca476719028a');\n",
              "          const dataTable =\n",
              "            await google.colab.kernel.invokeFunction('convertToInteractive',\n",
              "                                                     [key], {});\n",
              "          if (!dataTable) return;\n",
              "\n",
              "          const docLinkHtml = 'Like what you see? Visit the ' +\n",
              "            '<a target=\"_blank\" href=https://colab.research.google.com/notebooks/data_table.ipynb>data table notebook</a>'\n",
              "            + ' to learn more about interactive tables.';\n",
              "          element.innerHTML = '';\n",
              "          dataTable['output_type'] = 'display_data';\n",
              "          await google.colab.output.renderOutput(dataTable, element);\n",
              "          const docLink = document.createElement('div');\n",
              "          docLink.innerHTML = docLinkHtml;\n",
              "          element.appendChild(docLink);\n",
              "        }\n",
              "      </script>\n",
              "    </div>\n",
              "  </div>\n",
              "  "
            ]
          },
          "metadata": {},
          "execution_count": 9
        }
      ],
      "source": [
        "train_df = pd.read_csv(\"train_data.csv\")\n",
        "train_target = pd.read_csv(\"train_targets.csv\")\n",
        "test_df = pd.read_csv(\"test_data.csv\")\n",
        "train_df.head(10)"
      ],
      "id": "ab7b3f9d"
    },
    {
      "cell_type": "code",
      "execution_count": null,
      "metadata": {
        "colab": {
          "base_uri": "https://localhost:8080/",
          "height": 394
        },
        "id": "32407000",
        "outputId": "394da8b1-8b94-4655-93ee-ba6fdc5240fd"
      },
      "outputs": [
        {
          "data": {
            "text/html": [
              "\n",
              "  <div id=\"df-926e2eb5-fd3b-4e72-9820-04cc26ed8230\">\n",
              "    <div class=\"colab-df-container\">\n",
              "      <div>\n",
              "<style scoped>\n",
              "    .dataframe tbody tr th:only-of-type {\n",
              "        vertical-align: middle;\n",
              "    }\n",
              "\n",
              "    .dataframe tbody tr th {\n",
              "        vertical-align: top;\n",
              "    }\n",
              "\n",
              "    .dataframe thead th {\n",
              "        text-align: right;\n",
              "    }\n",
              "</style>\n",
              "<table border=\"1\" class=\"dataframe\">\n",
              "  <thead>\n",
              "    <tr style=\"text-align: right;\">\n",
              "      <th></th>\n",
              "      <th>game_time</th>\n",
              "      <th>game_mode</th>\n",
              "      <th>lobby_type</th>\n",
              "      <th>objectives_len</th>\n",
              "      <th>chat_len</th>\n",
              "      <th>r1_hero_id</th>\n",
              "      <th>r1_kills</th>\n",
              "      <th>r1_deaths</th>\n",
              "      <th>r1_assists</th>\n",
              "      <th>r1_denies</th>\n",
              "      <th>...</th>\n",
              "      <th>d5_stuns</th>\n",
              "      <th>d5_creeps_stacked</th>\n",
              "      <th>d5_camps_stacked</th>\n",
              "      <th>d5_rune_pickups</th>\n",
              "      <th>d5_firstblood_claimed</th>\n",
              "      <th>d5_teamfight_participation</th>\n",
              "      <th>d5_towers_killed</th>\n",
              "      <th>d5_roshans_killed</th>\n",
              "      <th>d5_obs_placed</th>\n",
              "      <th>d5_sen_placed</th>\n",
              "    </tr>\n",
              "  </thead>\n",
              "  <tbody>\n",
              "    <tr>\n",
              "      <th>count</th>\n",
              "      <td>31698.000000</td>\n",
              "      <td>31698.000000</td>\n",
              "      <td>31698.000000</td>\n",
              "      <td>31698.000000</td>\n",
              "      <td>31698.000000</td>\n",
              "      <td>31698.000000</td>\n",
              "      <td>31698.000000</td>\n",
              "      <td>31698.000000</td>\n",
              "      <td>31698.000000</td>\n",
              "      <td>31698.000000</td>\n",
              "      <td>...</td>\n",
              "      <td>31698.000000</td>\n",
              "      <td>31698.000000</td>\n",
              "      <td>31698.000000</td>\n",
              "      <td>31698.000000</td>\n",
              "      <td>31698.000000</td>\n",
              "      <td>31698.000000</td>\n",
              "      <td>31698.000000</td>\n",
              "      <td>31698.000000</td>\n",
              "      <td>31698.000000</td>\n",
              "      <td>31698.000000</td>\n",
              "    </tr>\n",
              "    <tr>\n",
              "      <th>mean</th>\n",
              "      <td>1146.519496</td>\n",
              "      <td>19.583538</td>\n",
              "      <td>4.771563</td>\n",
              "      <td>6.535239</td>\n",
              "      <td>7.358982</td>\n",
              "      <td>51.081614</td>\n",
              "      <td>3.151713</td>\n",
              "      <td>3.273361</td>\n",
              "      <td>4.661998</td>\n",
              "      <td>6.255600</td>\n",
              "      <td>...</td>\n",
              "      <td>11.773022</td>\n",
              "      <td>1.021957</td>\n",
              "      <td>0.338381</td>\n",
              "      <td>4.697363</td>\n",
              "      <td>0.088965</td>\n",
              "      <td>0.416247</td>\n",
              "      <td>0.299640</td>\n",
              "      <td>0.024449</td>\n",
              "      <td>1.255568</td>\n",
              "      <td>0.780933</td>\n",
              "    </tr>\n",
              "    <tr>\n",
              "      <th>std</th>\n",
              "      <td>766.936655</td>\n",
              "      <td>6.306635</td>\n",
              "      <td>3.260899</td>\n",
              "      <td>6.486933</td>\n",
              "      <td>13.295763</td>\n",
              "      <td>34.573173</td>\n",
              "      <td>3.727116</td>\n",
              "      <td>3.281208</td>\n",
              "      <td>5.207887</td>\n",
              "      <td>8.144267</td>\n",
              "      <td>...</td>\n",
              "      <td>20.400131</td>\n",
              "      <td>3.427767</td>\n",
              "      <td>0.946140</td>\n",
              "      <td>4.662255</td>\n",
              "      <td>0.284697</td>\n",
              "      <td>0.267604</td>\n",
              "      <td>0.730835</td>\n",
              "      <td>0.172030</td>\n",
              "      <td>2.582681</td>\n",
              "      <td>2.436478</td>\n",
              "    </tr>\n",
              "    <tr>\n",
              "      <th>min</th>\n",
              "      <td>0.000000</td>\n",
              "      <td>2.000000</td>\n",
              "      <td>0.000000</td>\n",
              "      <td>0.000000</td>\n",
              "      <td>0.000000</td>\n",
              "      <td>1.000000</td>\n",
              "      <td>0.000000</td>\n",
              "      <td>0.000000</td>\n",
              "      <td>0.000000</td>\n",
              "      <td>0.000000</td>\n",
              "      <td>...</td>\n",
              "      <td>-3.294393</td>\n",
              "      <td>0.000000</td>\n",
              "      <td>0.000000</td>\n",
              "      <td>0.000000</td>\n",
              "      <td>0.000000</td>\n",
              "      <td>0.000000</td>\n",
              "      <td>0.000000</td>\n",
              "      <td>0.000000</td>\n",
              "      <td>0.000000</td>\n",
              "      <td>0.000000</td>\n",
              "    </tr>\n",
              "    <tr>\n",
              "      <th>25%</th>\n",
              "      <td>521.000000</td>\n",
              "      <td>22.000000</td>\n",
              "      <td>0.000000</td>\n",
              "      <td>1.000000</td>\n",
              "      <td>0.000000</td>\n",
              "      <td>20.000000</td>\n",
              "      <td>0.000000</td>\n",
              "      <td>1.000000</td>\n",
              "      <td>1.000000</td>\n",
              "      <td>1.000000</td>\n",
              "      <td>...</td>\n",
              "      <td>0.000000</td>\n",
              "      <td>0.000000</td>\n",
              "      <td>0.000000</td>\n",
              "      <td>1.000000</td>\n",
              "      <td>0.000000</td>\n",
              "      <td>0.235294</td>\n",
              "      <td>0.000000</td>\n",
              "      <td>0.000000</td>\n",
              "      <td>0.000000</td>\n",
              "      <td>0.000000</td>\n",
              "    </tr>\n",
              "    <tr>\n",
              "      <th>50%</th>\n",
              "      <td>1044.000000</td>\n",
              "      <td>22.000000</td>\n",
              "      <td>7.000000</td>\n",
              "      <td>4.000000</td>\n",
              "      <td>3.000000</td>\n",
              "      <td>44.000000</td>\n",
              "      <td>2.000000</td>\n",
              "      <td>2.000000</td>\n",
              "      <td>3.000000</td>\n",
              "      <td>3.000000</td>\n",
              "      <td>...</td>\n",
              "      <td>1.532971</td>\n",
              "      <td>0.000000</td>\n",
              "      <td>0.000000</td>\n",
              "      <td>3.000000</td>\n",
              "      <td>0.000000</td>\n",
              "      <td>0.444444</td>\n",
              "      <td>0.000000</td>\n",
              "      <td>0.000000</td>\n",
              "      <td>0.000000</td>\n",
              "      <td>0.000000</td>\n",
              "    </tr>\n",
              "    <tr>\n",
              "      <th>75%</th>\n",
              "      <td>1659.000000</td>\n",
              "      <td>22.000000</td>\n",
              "      <td>7.000000</td>\n",
              "      <td>10.000000</td>\n",
              "      <td>9.000000</td>\n",
              "      <td>81.000000</td>\n",
              "      <td>5.000000</td>\n",
              "      <td>5.000000</td>\n",
              "      <td>7.000000</td>\n",
              "      <td>9.000000</td>\n",
              "      <td>...</td>\n",
              "      <td>16.129388</td>\n",
              "      <td>0.000000</td>\n",
              "      <td>0.000000</td>\n",
              "      <td>7.000000</td>\n",
              "      <td>0.000000</td>\n",
              "      <td>0.600000</td>\n",
              "      <td>0.000000</td>\n",
              "      <td>0.000000</td>\n",
              "      <td>1.000000</td>\n",
              "      <td>0.000000</td>\n",
              "    </tr>\n",
              "    <tr>\n",
              "      <th>max</th>\n",
              "      <td>4933.000000</td>\n",
              "      <td>23.000000</td>\n",
              "      <td>7.000000</td>\n",
              "      <td>43.000000</td>\n",
              "      <td>291.000000</td>\n",
              "      <td>120.000000</td>\n",
              "      <td>32.000000</td>\n",
              "      <td>27.000000</td>\n",
              "      <td>40.000000</td>\n",
              "      <td>83.000000</td>\n",
              "      <td>...</td>\n",
              "      <td>222.612630</td>\n",
              "      <td>107.000000</td>\n",
              "      <td>29.000000</td>\n",
              "      <td>57.000000</td>\n",
              "      <td>1.000000</td>\n",
              "      <td>2.000000</td>\n",
              "      <td>9.000000</td>\n",
              "      <td>5.000000</td>\n",
              "      <td>26.000000</td>\n",
              "      <td>47.000000</td>\n",
              "    </tr>\n",
              "  </tbody>\n",
              "</table>\n",
              "<p>8 rows × 245 columns</p>\n",
              "</div>\n",
              "      <button class=\"colab-df-convert\" onclick=\"convertToInteractive('df-926e2eb5-fd3b-4e72-9820-04cc26ed8230')\"\n",
              "              title=\"Convert this dataframe to an interactive table.\"\n",
              "              style=\"display:none;\">\n",
              "        \n",
              "  <svg xmlns=\"http://www.w3.org/2000/svg\" height=\"24px\"viewBox=\"0 0 24 24\"\n",
              "       width=\"24px\">\n",
              "    <path d=\"M0 0h24v24H0V0z\" fill=\"none\"/>\n",
              "    <path d=\"M18.56 5.44l.94 2.06.94-2.06 2.06-.94-2.06-.94-.94-2.06-.94 2.06-2.06.94zm-11 1L8.5 8.5l.94-2.06 2.06-.94-2.06-.94L8.5 2.5l-.94 2.06-2.06.94zm10 10l.94 2.06.94-2.06 2.06-.94-2.06-.94-.94-2.06-.94 2.06-2.06.94z\"/><path d=\"M17.41 7.96l-1.37-1.37c-.4-.4-.92-.59-1.43-.59-.52 0-1.04.2-1.43.59L10.3 9.45l-7.72 7.72c-.78.78-.78 2.05 0 2.83L4 21.41c.39.39.9.59 1.41.59.51 0 1.02-.2 1.41-.59l7.78-7.78 2.81-2.81c.8-.78.8-2.07 0-2.86zM5.41 20L4 18.59l7.72-7.72 1.47 1.35L5.41 20z\"/>\n",
              "  </svg>\n",
              "      </button>\n",
              "      \n",
              "  <style>\n",
              "    .colab-df-container {\n",
              "      display:flex;\n",
              "      flex-wrap:wrap;\n",
              "      gap: 12px;\n",
              "    }\n",
              "\n",
              "    .colab-df-convert {\n",
              "      background-color: #E8F0FE;\n",
              "      border: none;\n",
              "      border-radius: 50%;\n",
              "      cursor: pointer;\n",
              "      display: none;\n",
              "      fill: #1967D2;\n",
              "      height: 32px;\n",
              "      padding: 0 0 0 0;\n",
              "      width: 32px;\n",
              "    }\n",
              "\n",
              "    .colab-df-convert:hover {\n",
              "      background-color: #E2EBFA;\n",
              "      box-shadow: 0px 1px 2px rgba(60, 64, 67, 0.3), 0px 1px 3px 1px rgba(60, 64, 67, 0.15);\n",
              "      fill: #174EA6;\n",
              "    }\n",
              "\n",
              "    [theme=dark] .colab-df-convert {\n",
              "      background-color: #3B4455;\n",
              "      fill: #D2E3FC;\n",
              "    }\n",
              "\n",
              "    [theme=dark] .colab-df-convert:hover {\n",
              "      background-color: #434B5C;\n",
              "      box-shadow: 0px 1px 3px 1px rgba(0, 0, 0, 0.15);\n",
              "      filter: drop-shadow(0px 1px 2px rgba(0, 0, 0, 0.3));\n",
              "      fill: #FFFFFF;\n",
              "    }\n",
              "  </style>\n",
              "\n",
              "      <script>\n",
              "        const buttonEl =\n",
              "          document.querySelector('#df-926e2eb5-fd3b-4e72-9820-04cc26ed8230 button.colab-df-convert');\n",
              "        buttonEl.style.display =\n",
              "          google.colab.kernel.accessAllowed ? 'block' : 'none';\n",
              "\n",
              "        async function convertToInteractive(key) {\n",
              "          const element = document.querySelector('#df-926e2eb5-fd3b-4e72-9820-04cc26ed8230');\n",
              "          const dataTable =\n",
              "            await google.colab.kernel.invokeFunction('convertToInteractive',\n",
              "                                                     [key], {});\n",
              "          if (!dataTable) return;\n",
              "\n",
              "          const docLinkHtml = 'Like what you see? Visit the ' +\n",
              "            '<a target=\"_blank\" href=https://colab.research.google.com/notebooks/data_table.ipynb>data table notebook</a>'\n",
              "            + ' to learn more about interactive tables.';\n",
              "          element.innerHTML = '';\n",
              "          dataTable['output_type'] = 'display_data';\n",
              "          await google.colab.output.renderOutput(dataTable, element);\n",
              "          const docLink = document.createElement('div');\n",
              "          docLink.innerHTML = docLinkHtml;\n",
              "          element.appendChild(docLink);\n",
              "        }\n",
              "      </script>\n",
              "    </div>\n",
              "  </div>\n",
              "  "
            ],
            "text/plain": [
              "          game_time     game_mode    lobby_type  objectives_len      chat_len  \\\n",
              "count  31698.000000  31698.000000  31698.000000    31698.000000  31698.000000   \n",
              "mean    1146.519496     19.583538      4.771563        6.535239      7.358982   \n",
              "std      766.936655      6.306635      3.260899        6.486933     13.295763   \n",
              "min        0.000000      2.000000      0.000000        0.000000      0.000000   \n",
              "25%      521.000000     22.000000      0.000000        1.000000      0.000000   \n",
              "50%     1044.000000     22.000000      7.000000        4.000000      3.000000   \n",
              "75%     1659.000000     22.000000      7.000000       10.000000      9.000000   \n",
              "max     4933.000000     23.000000      7.000000       43.000000    291.000000   \n",
              "\n",
              "         r1_hero_id      r1_kills     r1_deaths    r1_assists     r1_denies  \\\n",
              "count  31698.000000  31698.000000  31698.000000  31698.000000  31698.000000   \n",
              "mean      51.081614      3.151713      3.273361      4.661998      6.255600   \n",
              "std       34.573173      3.727116      3.281208      5.207887      8.144267   \n",
              "min        1.000000      0.000000      0.000000      0.000000      0.000000   \n",
              "25%       20.000000      0.000000      1.000000      1.000000      1.000000   \n",
              "50%       44.000000      2.000000      2.000000      3.000000      3.000000   \n",
              "75%       81.000000      5.000000      5.000000      7.000000      9.000000   \n",
              "max      120.000000     32.000000     27.000000     40.000000     83.000000   \n",
              "\n",
              "       ...      d5_stuns  d5_creeps_stacked  d5_camps_stacked  \\\n",
              "count  ...  31698.000000       31698.000000      31698.000000   \n",
              "mean   ...     11.773022           1.021957          0.338381   \n",
              "std    ...     20.400131           3.427767          0.946140   \n",
              "min    ...     -3.294393           0.000000          0.000000   \n",
              "25%    ...      0.000000           0.000000          0.000000   \n",
              "50%    ...      1.532971           0.000000          0.000000   \n",
              "75%    ...     16.129388           0.000000          0.000000   \n",
              "max    ...    222.612630         107.000000         29.000000   \n",
              "\n",
              "       d5_rune_pickups  d5_firstblood_claimed  d5_teamfight_participation  \\\n",
              "count     31698.000000           31698.000000                31698.000000   \n",
              "mean          4.697363               0.088965                    0.416247   \n",
              "std           4.662255               0.284697                    0.267604   \n",
              "min           0.000000               0.000000                    0.000000   \n",
              "25%           1.000000               0.000000                    0.235294   \n",
              "50%           3.000000               0.000000                    0.444444   \n",
              "75%           7.000000               0.000000                    0.600000   \n",
              "max          57.000000               1.000000                    2.000000   \n",
              "\n",
              "       d5_towers_killed  d5_roshans_killed  d5_obs_placed  d5_sen_placed  \n",
              "count      31698.000000       31698.000000   31698.000000   31698.000000  \n",
              "mean           0.299640           0.024449       1.255568       0.780933  \n",
              "std            0.730835           0.172030       2.582681       2.436478  \n",
              "min            0.000000           0.000000       0.000000       0.000000  \n",
              "25%            0.000000           0.000000       0.000000       0.000000  \n",
              "50%            0.000000           0.000000       0.000000       0.000000  \n",
              "75%            0.000000           0.000000       1.000000       0.000000  \n",
              "max            9.000000           5.000000      26.000000      47.000000  \n",
              "\n",
              "[8 rows x 245 columns]"
            ]
          },
          "execution_count": 5,
          "metadata": {},
          "output_type": "execute_result"
        }
      ],
      "source": [
        "train_df.describe()"
      ],
      "id": "32407000"
    },
    {
      "cell_type": "code",
      "execution_count": null,
      "metadata": {
        "colab": {
          "base_uri": "https://localhost:8080/"
        },
        "id": "045bd40b",
        "outputId": "89390058-7118-4d0f-e164-b2d646539c91"
      },
      "outputs": [
        {
          "name": "stdout",
          "output_type": "stream",
          "text": [
            "<class 'pandas.core.frame.DataFrame'>\n",
            "RangeIndex: 31698 entries, 0 to 31697\n",
            "Columns: 246 entries, match_id_hash to d5_sen_placed\n",
            "dtypes: float64(30), int64(215), object(1)\n",
            "memory usage: 59.5+ MB\n"
          ]
        }
      ],
      "source": [
        "train_df.info()"
      ],
      "id": "045bd40b"
    },
    {
      "cell_type": "code",
      "source": [
        "train_df.columns.tolist()"
      ],
      "metadata": {
        "colab": {
          "base_uri": "https://localhost:8080/"
        },
        "id": "osbpDm1ROCKx",
        "outputId": "ef3dde65-128e-41e0-de5b-9fa35d6f4ef0"
      },
      "id": "osbpDm1ROCKx",
      "execution_count": null,
      "outputs": [
        {
          "output_type": "execute_result",
          "data": {
            "text/plain": [
              "['match_id_hash',\n",
              " 'game_time',\n",
              " 'game_mode',\n",
              " 'lobby_type',\n",
              " 'objectives_len',\n",
              " 'chat_len',\n",
              " 'r1_hero_id',\n",
              " 'r1_kills',\n",
              " 'r1_deaths',\n",
              " 'r1_assists',\n",
              " 'r1_denies',\n",
              " 'r1_gold',\n",
              " 'r1_lh',\n",
              " 'r1_xp',\n",
              " 'r1_health',\n",
              " 'r1_max_health',\n",
              " 'r1_max_mana',\n",
              " 'r1_level',\n",
              " 'r1_x',\n",
              " 'r1_y',\n",
              " 'r1_stuns',\n",
              " 'r1_creeps_stacked',\n",
              " 'r1_camps_stacked',\n",
              " 'r1_rune_pickups',\n",
              " 'r1_firstblood_claimed',\n",
              " 'r1_teamfight_participation',\n",
              " 'r1_towers_killed',\n",
              " 'r1_roshans_killed',\n",
              " 'r1_obs_placed',\n",
              " 'r1_sen_placed',\n",
              " 'r2_hero_id',\n",
              " 'r2_kills',\n",
              " 'r2_deaths',\n",
              " 'r2_assists',\n",
              " 'r2_denies',\n",
              " 'r2_gold',\n",
              " 'r2_lh',\n",
              " 'r2_xp',\n",
              " 'r2_health',\n",
              " 'r2_max_health',\n",
              " 'r2_max_mana',\n",
              " 'r2_level',\n",
              " 'r2_x',\n",
              " 'r2_y',\n",
              " 'r2_stuns',\n",
              " 'r2_creeps_stacked',\n",
              " 'r2_camps_stacked',\n",
              " 'r2_rune_pickups',\n",
              " 'r2_firstblood_claimed',\n",
              " 'r2_teamfight_participation',\n",
              " 'r2_towers_killed',\n",
              " 'r2_roshans_killed',\n",
              " 'r2_obs_placed',\n",
              " 'r2_sen_placed',\n",
              " 'r3_hero_id',\n",
              " 'r3_kills',\n",
              " 'r3_deaths',\n",
              " 'r3_assists',\n",
              " 'r3_denies',\n",
              " 'r3_gold',\n",
              " 'r3_lh',\n",
              " 'r3_xp',\n",
              " 'r3_health',\n",
              " 'r3_max_health',\n",
              " 'r3_max_mana',\n",
              " 'r3_level',\n",
              " 'r3_x',\n",
              " 'r3_y',\n",
              " 'r3_stuns',\n",
              " 'r3_creeps_stacked',\n",
              " 'r3_camps_stacked',\n",
              " 'r3_rune_pickups',\n",
              " 'r3_firstblood_claimed',\n",
              " 'r3_teamfight_participation',\n",
              " 'r3_towers_killed',\n",
              " 'r3_roshans_killed',\n",
              " 'r3_obs_placed',\n",
              " 'r3_sen_placed',\n",
              " 'r4_hero_id',\n",
              " 'r4_kills',\n",
              " 'r4_deaths',\n",
              " 'r4_assists',\n",
              " 'r4_denies',\n",
              " 'r4_gold',\n",
              " 'r4_lh',\n",
              " 'r4_xp',\n",
              " 'r4_health',\n",
              " 'r4_max_health',\n",
              " 'r4_max_mana',\n",
              " 'r4_level',\n",
              " 'r4_x',\n",
              " 'r4_y',\n",
              " 'r4_stuns',\n",
              " 'r4_creeps_stacked',\n",
              " 'r4_camps_stacked',\n",
              " 'r4_rune_pickups',\n",
              " 'r4_firstblood_claimed',\n",
              " 'r4_teamfight_participation',\n",
              " 'r4_towers_killed',\n",
              " 'r4_roshans_killed',\n",
              " 'r4_obs_placed',\n",
              " 'r4_sen_placed',\n",
              " 'r5_hero_id',\n",
              " 'r5_kills',\n",
              " 'r5_deaths',\n",
              " 'r5_assists',\n",
              " 'r5_denies',\n",
              " 'r5_gold',\n",
              " 'r5_lh',\n",
              " 'r5_xp',\n",
              " 'r5_health',\n",
              " 'r5_max_health',\n",
              " 'r5_max_mana',\n",
              " 'r5_level',\n",
              " 'r5_x',\n",
              " 'r5_y',\n",
              " 'r5_stuns',\n",
              " 'r5_creeps_stacked',\n",
              " 'r5_camps_stacked',\n",
              " 'r5_rune_pickups',\n",
              " 'r5_firstblood_claimed',\n",
              " 'r5_teamfight_participation',\n",
              " 'r5_towers_killed',\n",
              " 'r5_roshans_killed',\n",
              " 'r5_obs_placed',\n",
              " 'r5_sen_placed',\n",
              " 'd1_hero_id',\n",
              " 'd1_kills',\n",
              " 'd1_deaths',\n",
              " 'd1_assists',\n",
              " 'd1_denies',\n",
              " 'd1_gold',\n",
              " 'd1_lh',\n",
              " 'd1_xp',\n",
              " 'd1_health',\n",
              " 'd1_max_health',\n",
              " 'd1_max_mana',\n",
              " 'd1_level',\n",
              " 'd1_x',\n",
              " 'd1_y',\n",
              " 'd1_stuns',\n",
              " 'd1_creeps_stacked',\n",
              " 'd1_camps_stacked',\n",
              " 'd1_rune_pickups',\n",
              " 'd1_firstblood_claimed',\n",
              " 'd1_teamfight_participation',\n",
              " 'd1_towers_killed',\n",
              " 'd1_roshans_killed',\n",
              " 'd1_obs_placed',\n",
              " 'd1_sen_placed',\n",
              " 'd2_hero_id',\n",
              " 'd2_kills',\n",
              " 'd2_deaths',\n",
              " 'd2_assists',\n",
              " 'd2_denies',\n",
              " 'd2_gold',\n",
              " 'd2_lh',\n",
              " 'd2_xp',\n",
              " 'd2_health',\n",
              " 'd2_max_health',\n",
              " 'd2_max_mana',\n",
              " 'd2_level',\n",
              " 'd2_x',\n",
              " 'd2_y',\n",
              " 'd2_stuns',\n",
              " 'd2_creeps_stacked',\n",
              " 'd2_camps_stacked',\n",
              " 'd2_rune_pickups',\n",
              " 'd2_firstblood_claimed',\n",
              " 'd2_teamfight_participation',\n",
              " 'd2_towers_killed',\n",
              " 'd2_roshans_killed',\n",
              " 'd2_obs_placed',\n",
              " 'd2_sen_placed',\n",
              " 'd3_hero_id',\n",
              " 'd3_kills',\n",
              " 'd3_deaths',\n",
              " 'd3_assists',\n",
              " 'd3_denies',\n",
              " 'd3_gold',\n",
              " 'd3_lh',\n",
              " 'd3_xp',\n",
              " 'd3_health',\n",
              " 'd3_max_health',\n",
              " 'd3_max_mana',\n",
              " 'd3_level',\n",
              " 'd3_x',\n",
              " 'd3_y',\n",
              " 'd3_stuns',\n",
              " 'd3_creeps_stacked',\n",
              " 'd3_camps_stacked',\n",
              " 'd3_rune_pickups',\n",
              " 'd3_firstblood_claimed',\n",
              " 'd3_teamfight_participation',\n",
              " 'd3_towers_killed',\n",
              " 'd3_roshans_killed',\n",
              " 'd3_obs_placed',\n",
              " 'd3_sen_placed',\n",
              " 'd4_hero_id',\n",
              " 'd4_kills',\n",
              " 'd4_deaths',\n",
              " 'd4_assists',\n",
              " 'd4_denies',\n",
              " 'd4_gold',\n",
              " 'd4_lh',\n",
              " 'd4_xp',\n",
              " 'd4_health',\n",
              " 'd4_max_health',\n",
              " 'd4_max_mana',\n",
              " 'd4_level',\n",
              " 'd4_x',\n",
              " 'd4_y',\n",
              " 'd4_stuns',\n",
              " 'd4_creeps_stacked',\n",
              " 'd4_camps_stacked',\n",
              " 'd4_rune_pickups',\n",
              " 'd4_firstblood_claimed',\n",
              " 'd4_teamfight_participation',\n",
              " 'd4_towers_killed',\n",
              " 'd4_roshans_killed',\n",
              " 'd4_obs_placed',\n",
              " 'd4_sen_placed',\n",
              " 'd5_hero_id',\n",
              " 'd5_kills',\n",
              " 'd5_deaths',\n",
              " 'd5_assists',\n",
              " 'd5_denies',\n",
              " 'd5_gold',\n",
              " 'd5_lh',\n",
              " 'd5_xp',\n",
              " 'd5_health',\n",
              " 'd5_max_health',\n",
              " 'd5_max_mana',\n",
              " 'd5_level',\n",
              " 'd5_x',\n",
              " 'd5_y',\n",
              " 'd5_stuns',\n",
              " 'd5_creeps_stacked',\n",
              " 'd5_camps_stacked',\n",
              " 'd5_rune_pickups',\n",
              " 'd5_firstblood_claimed',\n",
              " 'd5_teamfight_participation',\n",
              " 'd5_towers_killed',\n",
              " 'd5_roshans_killed',\n",
              " 'd5_obs_placed',\n",
              " 'd5_sen_placed']"
            ]
          },
          "metadata": {},
          "execution_count": 10
        }
      ]
    },
    {
      "cell_type": "code",
      "execution_count": null,
      "metadata": {
        "colab": {
          "base_uri": "https://localhost:8080/"
        },
        "id": "9e0f4fb6",
        "outputId": "21395583-696c-4e44-fff4-c5cc991964ca"
      },
      "outputs": [
        {
          "output_type": "stream",
          "name": "stdout",
          "text": [
            "['match_id_hash']\n"
          ]
        }
      ],
      "source": [
        "object_features = train_df.select_dtypes(include='object').columns.tolist()\n",
        "print(object_features)"
      ],
      "id": "9e0f4fb6"
    },
    {
      "cell_type": "code",
      "execution_count": null,
      "metadata": {
        "colab": {
          "base_uri": "https://localhost:8080/"
        },
        "id": "aEn0GciPqaNF",
        "outputId": "25bebe3c-834d-4b4b-bb5e-abea57c56477"
      },
      "outputs": [
        {
          "output_type": "execute_result",
          "data": {
            "text/plain": [
              "(31698, 246)"
            ]
          },
          "metadata": {},
          "execution_count": 12
        }
      ],
      "source": [
        "train_df.shape"
      ],
      "id": "aEn0GciPqaNF"
    },
    {
      "cell_type": "code",
      "execution_count": null,
      "metadata": {
        "colab": {
          "base_uri": "https://localhost:8080/"
        },
        "id": "xP9XAlhSrjCR",
        "outputId": "4b8a77a8-2156-4487-a821-fe82750d4d36"
      },
      "outputs": [
        {
          "data": {
            "text/plain": [
              "(31698, 6)"
            ]
          },
          "execution_count": 8,
          "metadata": {},
          "output_type": "execute_result"
        }
      ],
      "source": [
        "train_target.shape"
      ],
      "id": "xP9XAlhSrjCR"
    },
    {
      "cell_type": "code",
      "execution_count": null,
      "metadata": {
        "colab": {
          "base_uri": "https://localhost:8080/"
        },
        "id": "qn20sUcVruxT",
        "outputId": "1078633a-877e-4868-a2b3-f4975486e5d5"
      },
      "outputs": [
        {
          "output_type": "execute_result",
          "data": {
            "text/plain": [
              "<bound method NDFrame.head of                           match_id_hash  game_time  radiant_win  duration  \\\n",
              "0      b9c57c450ce74a2af79c9ce96fac144d        658         True      1154   \n",
              "1      6db558535151ea18ca70a6892197db41         21         True      1503   \n",
              "2      19c39fe2af2b547e48708ca005c6ae74        160        False      2063   \n",
              "3      c96d629dc0c39f0c616d1949938a6ba6       1016         True      2147   \n",
              "4      156c88bff4e9c4668b0f53df3d870f1b        582        False      1927   \n",
              "...                                 ...        ...          ...       ...   \n",
              "31693  b794aa55646841a03c7783226e6f6bc8       2666        False      2701   \n",
              "31694  308faee28efee2e66b39f9f2ba6ea9cf       2525         True      3358   \n",
              "31695  6066cc7417b43c749d551e123d00f0c8       1002         True      2217   \n",
              "31696  bc7a87ed5f9c2bca55f9f7a93da0b0c5        377         True      3107   \n",
              "31697  e2ca68ac1a6847f4a37f6c9c8ee8695b        643        False      1804   \n",
              "\n",
              "       time_remaining next_roshan_team  \n",
              "0                 496              NaN  \n",
              "1                1482          Radiant  \n",
              "2                1903              NaN  \n",
              "3                1131          Radiant  \n",
              "4                1345             Dire  \n",
              "...               ...              ...  \n",
              "31693              35              NaN  \n",
              "31694             833          Radiant  \n",
              "31695            1215             Dire  \n",
              "31696            2730          Radiant  \n",
              "31697            1161              NaN  \n",
              "\n",
              "[31698 rows x 6 columns]>"
            ]
          },
          "metadata": {},
          "execution_count": 13
        }
      ],
      "source": [
        "train_target.head"
      ],
      "id": "qn20sUcVruxT"
    },
    {
      "cell_type": "code",
      "execution_count": null,
      "metadata": {
        "colab": {
          "base_uri": "https://localhost:8080/"
        },
        "id": "4w-aJFNGv_f5",
        "outputId": "ecd5b2ce-8aa9-435f-b874-36ef2d12c4ff"
      },
      "outputs": [
        {
          "output_type": "execute_result",
          "data": {
            "text/plain": [
              "<bound method NDFrame.head of        radiant_win\n",
              "0             True\n",
              "1             True\n",
              "2            False\n",
              "3             True\n",
              "4            False\n",
              "...            ...\n",
              "31693        False\n",
              "31694         True\n",
              "31695         True\n",
              "31696         True\n",
              "31697        False\n",
              "\n",
              "[31698 rows x 1 columns]>"
            ]
          },
          "metadata": {},
          "execution_count": 14
        }
      ],
      "source": [
        "train_target_only = train_target[[\"radiant_win\"]]\n",
        "train_target_only.head"
      ],
      "id": "4w-aJFNGv_f5"
    },
    {
      "cell_type": "code",
      "execution_count": null,
      "metadata": {
        "colab": {
          "base_uri": "https://localhost:8080/",
          "height": 471
        },
        "id": "5b35ec21",
        "outputId": "12e8a04c-c256-4561-dd6a-277570380737"
      },
      "outputs": [
        {
          "data": {
            "image/svg+xml": "<?xml version=\"1.0\" encoding=\"utf-8\" standalone=\"no\"?>\n<!DOCTYPE svg PUBLIC \"-//W3C//DTD SVG 1.1//EN\"\n  \"http://www.w3.org/Graphics/SVG/1.1/DTD/svg11.dtd\">\n<svg xmlns:xlink=\"http://www.w3.org/1999/xlink\" width=\"513.290625pt\" height=\"337.3525pt\" viewBox=\"0 0 513.290625 337.3525\" xmlns=\"http://www.w3.org/2000/svg\" version=\"1.1\">\n <metadata>\n  <rdf:RDF xmlns:dc=\"http://purl.org/dc/elements/1.1/\" xmlns:cc=\"http://creativecommons.org/ns#\" xmlns:rdf=\"http://www.w3.org/1999/02/22-rdf-syntax-ns#\">\n   <cc:Work>\n    <dc:type rdf:resource=\"http://purl.org/dc/dcmitype/StillImage\"/>\n    <dc:date>2023-04-10T21:17:07.173704</dc:date>\n    <dc:format>image/svg+xml</dc:format>\n    <dc:creator>\n     <cc:Agent>\n      <dc:title>Matplotlib v3.7.1, https://matplotlib.org/</dc:title>\n     </cc:Agent>\n    </dc:creator>\n   </cc:Work>\n  </rdf:RDF>\n </metadata>\n <defs>\n  <style type=\"text/css\">*{stroke-linejoin: round; stroke-linecap: butt}</style>\n </defs>\n <g id=\"figure_1\">\n  <g id=\"patch_1\">\n   <path d=\"M 0 337.3525 \nL 513.290625 337.3525 \nL 513.290625 0 \nL 0 0 \nz\n\" style=\"fill: #ffffff\"/>\n  </g>\n  <g id=\"axes_1\">\n   <g id=\"patch_2\">\n    <path d=\"M 59.690625 299.518125 \nL 506.090625 299.518125 \nL 506.090625 22.318125 \nL 59.690625 22.318125 \nz\n\" style=\"fill: #ffffff\"/>\n   </g>\n   <g id=\"patch_3\">\n    <path d=\"M 82.010625 299.518125 \nL 260.570625 299.518125 \nL 260.570625 61.522204 \nL 82.010625 61.522204 \nz\n\" clip-path=\"url(#p67f7dd62d9)\" style=\"fill: #3274a1\"/>\n   </g>\n   <g id=\"patch_4\">\n    <path d=\"M 305.210625 299.518125 \nL 483.770625 299.518125 \nL 483.770625 35.518125 \nL 305.210625 35.518125 \nz\n\" clip-path=\"url(#p67f7dd62d9)\" style=\"fill: #e1812c\"/>\n   </g>\n   <g id=\"matplotlib.axis_1\">\n    <g id=\"xtick_1\">\n     <g id=\"line2d_1\">\n      <defs>\n       <path id=\"m78dbabd7e4\" d=\"M 0 0 \nL 0 3.5 \n\" style=\"stroke: #000000; stroke-width: 0.8\"/>\n      </defs>\n      <g>\n       <use xlink:href=\"#m78dbabd7e4\" x=\"171.290625\" y=\"299.518125\" style=\"stroke: #000000; stroke-width: 0.8\"/>\n      </g>\n     </g>\n     <g id=\"text_1\">\n      <!-- False -->\n      <g transform=\"translate(158.736719 314.116563) scale(0.1 -0.1)\">\n       <defs>\n        <path id=\"DejaVuSans-46\" d=\"M 628 4666 \nL 3309 4666 \nL 3309 4134 \nL 1259 4134 \nL 1259 2759 \nL 3109 2759 \nL 3109 2228 \nL 1259 2228 \nL 1259 0 \nL 628 0 \nL 628 4666 \nz\n\" transform=\"scale(0.015625)\"/>\n        <path id=\"DejaVuSans-61\" d=\"M 2194 1759 \nQ 1497 1759 1228 1600 \nQ 959 1441 959 1056 \nQ 959 750 1161 570 \nQ 1363 391 1709 391 \nQ 2188 391 2477 730 \nQ 2766 1069 2766 1631 \nL 2766 1759 \nL 2194 1759 \nz\nM 3341 1997 \nL 3341 0 \nL 2766 0 \nL 2766 531 \nQ 2569 213 2275 61 \nQ 1981 -91 1556 -91 \nQ 1019 -91 701 211 \nQ 384 513 384 1019 \nQ 384 1609 779 1909 \nQ 1175 2209 1959 2209 \nL 2766 2209 \nL 2766 2266 \nQ 2766 2663 2505 2880 \nQ 2244 3097 1772 3097 \nQ 1472 3097 1187 3025 \nQ 903 2953 641 2809 \nL 641 3341 \nQ 956 3463 1253 3523 \nQ 1550 3584 1831 3584 \nQ 2591 3584 2966 3190 \nQ 3341 2797 3341 1997 \nz\n\" transform=\"scale(0.015625)\"/>\n        <path id=\"DejaVuSans-6c\" d=\"M 603 4863 \nL 1178 4863 \nL 1178 0 \nL 603 0 \nL 603 4863 \nz\n\" transform=\"scale(0.015625)\"/>\n        <path id=\"DejaVuSans-73\" d=\"M 2834 3397 \nL 2834 2853 \nQ 2591 2978 2328 3040 \nQ 2066 3103 1784 3103 \nQ 1356 3103 1142 2972 \nQ 928 2841 928 2578 \nQ 928 2378 1081 2264 \nQ 1234 2150 1697 2047 \nL 1894 2003 \nQ 2506 1872 2764 1633 \nQ 3022 1394 3022 966 \nQ 3022 478 2636 193 \nQ 2250 -91 1575 -91 \nQ 1294 -91 989 -36 \nQ 684 19 347 128 \nL 347 722 \nQ 666 556 975 473 \nQ 1284 391 1588 391 \nQ 1994 391 2212 530 \nQ 2431 669 2431 922 \nQ 2431 1156 2273 1281 \nQ 2116 1406 1581 1522 \nL 1381 1569 \nQ 847 1681 609 1914 \nQ 372 2147 372 2553 \nQ 372 3047 722 3315 \nQ 1072 3584 1716 3584 \nQ 2034 3584 2315 3537 \nQ 2597 3491 2834 3397 \nz\n\" transform=\"scale(0.015625)\"/>\n        <path id=\"DejaVuSans-65\" d=\"M 3597 1894 \nL 3597 1613 \nL 953 1613 \nQ 991 1019 1311 708 \nQ 1631 397 2203 397 \nQ 2534 397 2845 478 \nQ 3156 559 3463 722 \nL 3463 178 \nQ 3153 47 2828 -22 \nQ 2503 -91 2169 -91 \nQ 1331 -91 842 396 \nQ 353 884 353 1716 \nQ 353 2575 817 3079 \nQ 1281 3584 2069 3584 \nQ 2775 3584 3186 3129 \nQ 3597 2675 3597 1894 \nz\nM 3022 2063 \nQ 3016 2534 2758 2815 \nQ 2500 3097 2075 3097 \nQ 1594 3097 1305 2825 \nQ 1016 2553 972 2059 \nL 3022 2063 \nz\n\" transform=\"scale(0.015625)\"/>\n       </defs>\n       <use xlink:href=\"#DejaVuSans-46\"/>\n       <use xlink:href=\"#DejaVuSans-61\" x=\"48.394531\"/>\n       <use xlink:href=\"#DejaVuSans-6c\" x=\"109.673828\"/>\n       <use xlink:href=\"#DejaVuSans-73\" x=\"137.457031\"/>\n       <use xlink:href=\"#DejaVuSans-65\" x=\"189.556641\"/>\n      </g>\n     </g>\n    </g>\n    <g id=\"xtick_2\">\n     <g id=\"line2d_2\">\n      <g>\n       <use xlink:href=\"#m78dbabd7e4\" x=\"394.490625\" y=\"299.518125\" style=\"stroke: #000000; stroke-width: 0.8\"/>\n      </g>\n     </g>\n     <g id=\"text_2\">\n      <!-- True -->\n      <g transform=\"translate(383.873438 314.116563) scale(0.1 -0.1)\">\n       <defs>\n        <path id=\"DejaVuSans-54\" d=\"M -19 4666 \nL 3928 4666 \nL 3928 4134 \nL 2272 4134 \nL 2272 0 \nL 1638 0 \nL 1638 4134 \nL -19 4134 \nL -19 4666 \nz\n\" transform=\"scale(0.015625)\"/>\n        <path id=\"DejaVuSans-72\" d=\"M 2631 2963 \nQ 2534 3019 2420 3045 \nQ 2306 3072 2169 3072 \nQ 1681 3072 1420 2755 \nQ 1159 2438 1159 1844 \nL 1159 0 \nL 581 0 \nL 581 3500 \nL 1159 3500 \nL 1159 2956 \nQ 1341 3275 1631 3429 \nQ 1922 3584 2338 3584 \nQ 2397 3584 2469 3576 \nQ 2541 3569 2628 3553 \nL 2631 2963 \nz\n\" transform=\"scale(0.015625)\"/>\n        <path id=\"DejaVuSans-75\" d=\"M 544 1381 \nL 544 3500 \nL 1119 3500 \nL 1119 1403 \nQ 1119 906 1312 657 \nQ 1506 409 1894 409 \nQ 2359 409 2629 706 \nQ 2900 1003 2900 1516 \nL 2900 3500 \nL 3475 3500 \nL 3475 0 \nL 2900 0 \nL 2900 538 \nQ 2691 219 2414 64 \nQ 2138 -91 1772 -91 \nQ 1169 -91 856 284 \nQ 544 659 544 1381 \nz\nM 1991 3584 \nL 1991 3584 \nz\n\" transform=\"scale(0.015625)\"/>\n       </defs>\n       <use xlink:href=\"#DejaVuSans-54\"/>\n       <use xlink:href=\"#DejaVuSans-72\" x=\"46.333984\"/>\n       <use xlink:href=\"#DejaVuSans-75\" x=\"87.447266\"/>\n       <use xlink:href=\"#DejaVuSans-65\" x=\"150.826172\"/>\n      </g>\n     </g>\n    </g>\n    <g id=\"text_3\">\n     <!-- radiant_win -->\n     <g transform=\"translate(253.867969 327.794688) scale(0.1 -0.1)\">\n      <defs>\n       <path id=\"DejaVuSans-64\" d=\"M 2906 2969 \nL 2906 4863 \nL 3481 4863 \nL 3481 0 \nL 2906 0 \nL 2906 525 \nQ 2725 213 2448 61 \nQ 2172 -91 1784 -91 \nQ 1150 -91 751 415 \nQ 353 922 353 1747 \nQ 353 2572 751 3078 \nQ 1150 3584 1784 3584 \nQ 2172 3584 2448 3432 \nQ 2725 3281 2906 2969 \nz\nM 947 1747 \nQ 947 1113 1208 752 \nQ 1469 391 1925 391 \nQ 2381 391 2643 752 \nQ 2906 1113 2906 1747 \nQ 2906 2381 2643 2742 \nQ 2381 3103 1925 3103 \nQ 1469 3103 1208 2742 \nQ 947 2381 947 1747 \nz\n\" transform=\"scale(0.015625)\"/>\n       <path id=\"DejaVuSans-69\" d=\"M 603 3500 \nL 1178 3500 \nL 1178 0 \nL 603 0 \nL 603 3500 \nz\nM 603 4863 \nL 1178 4863 \nL 1178 4134 \nL 603 4134 \nL 603 4863 \nz\n\" transform=\"scale(0.015625)\"/>\n       <path id=\"DejaVuSans-6e\" d=\"M 3513 2113 \nL 3513 0 \nL 2938 0 \nL 2938 2094 \nQ 2938 2591 2744 2837 \nQ 2550 3084 2163 3084 \nQ 1697 3084 1428 2787 \nQ 1159 2491 1159 1978 \nL 1159 0 \nL 581 0 \nL 581 3500 \nL 1159 3500 \nL 1159 2956 \nQ 1366 3272 1645 3428 \nQ 1925 3584 2291 3584 \nQ 2894 3584 3203 3211 \nQ 3513 2838 3513 2113 \nz\n\" transform=\"scale(0.015625)\"/>\n       <path id=\"DejaVuSans-74\" d=\"M 1172 4494 \nL 1172 3500 \nL 2356 3500 \nL 2356 3053 \nL 1172 3053 \nL 1172 1153 \nQ 1172 725 1289 603 \nQ 1406 481 1766 481 \nL 2356 481 \nL 2356 0 \nL 1766 0 \nQ 1100 0 847 248 \nQ 594 497 594 1153 \nL 594 3053 \nL 172 3053 \nL 172 3500 \nL 594 3500 \nL 594 4494 \nL 1172 4494 \nz\n\" transform=\"scale(0.015625)\"/>\n       <path id=\"DejaVuSans-5f\" d=\"M 3263 -1063 \nL 3263 -1509 \nL -63 -1509 \nL -63 -1063 \nL 3263 -1063 \nz\n\" transform=\"scale(0.015625)\"/>\n       <path id=\"DejaVuSans-77\" d=\"M 269 3500 \nL 844 3500 \nL 1563 769 \nL 2278 3500 \nL 2956 3500 \nL 3675 769 \nL 4391 3500 \nL 4966 3500 \nL 4050 0 \nL 3372 0 \nL 2619 2869 \nL 1863 0 \nL 1184 0 \nL 269 3500 \nz\n\" transform=\"scale(0.015625)\"/>\n      </defs>\n      <use xlink:href=\"#DejaVuSans-72\"/>\n      <use xlink:href=\"#DejaVuSans-61\" x=\"41.113281\"/>\n      <use xlink:href=\"#DejaVuSans-64\" x=\"102.392578\"/>\n      <use xlink:href=\"#DejaVuSans-69\" x=\"165.869141\"/>\n      <use xlink:href=\"#DejaVuSans-61\" x=\"193.652344\"/>\n      <use xlink:href=\"#DejaVuSans-6e\" x=\"254.931641\"/>\n      <use xlink:href=\"#DejaVuSans-74\" x=\"318.310547\"/>\n      <use xlink:href=\"#DejaVuSans-5f\" x=\"357.519531\"/>\n      <use xlink:href=\"#DejaVuSans-77\" x=\"407.519531\"/>\n      <use xlink:href=\"#DejaVuSans-69\" x=\"489.306641\"/>\n      <use xlink:href=\"#DejaVuSans-6e\" x=\"517.089844\"/>\n     </g>\n    </g>\n   </g>\n   <g id=\"matplotlib.axis_2\">\n    <g id=\"ytick_1\">\n     <g id=\"line2d_3\">\n      <defs>\n       <path id=\"ma9c6725b61\" d=\"M 0 0 \nL -3.5 0 \n\" style=\"stroke: #000000; stroke-width: 0.8\"/>\n      </defs>\n      <g>\n       <use xlink:href=\"#ma9c6725b61\" x=\"59.690625\" y=\"299.518125\" style=\"stroke: #000000; stroke-width: 0.8\"/>\n      </g>\n     </g>\n     <g id=\"text_4\">\n      <!-- 0 -->\n      <g transform=\"translate(46.328125 303.317344) scale(0.1 -0.1)\">\n       <defs>\n        <path id=\"DejaVuSans-30\" d=\"M 2034 4250 \nQ 1547 4250 1301 3770 \nQ 1056 3291 1056 2328 \nQ 1056 1369 1301 889 \nQ 1547 409 2034 409 \nQ 2525 409 2770 889 \nQ 3016 1369 3016 2328 \nQ 3016 3291 2770 3770 \nQ 2525 4250 2034 4250 \nz\nM 2034 4750 \nQ 2819 4750 3233 4129 \nQ 3647 3509 3647 2328 \nQ 3647 1150 3233 529 \nQ 2819 -91 2034 -91 \nQ 1250 -91 836 529 \nQ 422 1150 422 2328 \nQ 422 3509 836 4129 \nQ 1250 4750 2034 4750 \nz\n\" transform=\"scale(0.015625)\"/>\n       </defs>\n       <use xlink:href=\"#DejaVuSans-30\"/>\n      </g>\n     </g>\n    </g>\n    <g id=\"ytick_2\">\n     <g id=\"line2d_4\">\n      <g>\n       <use xlink:href=\"#ma9c6725b61\" x=\"59.690625\" y=\"267.84446\" style=\"stroke: #000000; stroke-width: 0.8\"/>\n      </g>\n     </g>\n     <g id=\"text_5\">\n      <!-- 2000 -->\n      <g transform=\"translate(27.240625 271.643678) scale(0.1 -0.1)\">\n       <defs>\n        <path id=\"DejaVuSans-32\" d=\"M 1228 531 \nL 3431 531 \nL 3431 0 \nL 469 0 \nL 469 531 \nQ 828 903 1448 1529 \nQ 2069 2156 2228 2338 \nQ 2531 2678 2651 2914 \nQ 2772 3150 2772 3378 \nQ 2772 3750 2511 3984 \nQ 2250 4219 1831 4219 \nQ 1534 4219 1204 4116 \nQ 875 4013 500 3803 \nL 500 4441 \nQ 881 4594 1212 4672 \nQ 1544 4750 1819 4750 \nQ 2544 4750 2975 4387 \nQ 3406 4025 3406 3419 \nQ 3406 3131 3298 2873 \nQ 3191 2616 2906 2266 \nQ 2828 2175 2409 1742 \nQ 1991 1309 1228 531 \nz\n\" transform=\"scale(0.015625)\"/>\n       </defs>\n       <use xlink:href=\"#DejaVuSans-32\"/>\n       <use xlink:href=\"#DejaVuSans-30\" x=\"63.623047\"/>\n       <use xlink:href=\"#DejaVuSans-30\" x=\"127.246094\"/>\n       <use xlink:href=\"#DejaVuSans-30\" x=\"190.869141\"/>\n      </g>\n     </g>\n    </g>\n    <g id=\"ytick_3\">\n     <g id=\"line2d_5\">\n      <g>\n       <use xlink:href=\"#ma9c6725b61\" x=\"59.690625\" y=\"236.170794\" style=\"stroke: #000000; stroke-width: 0.8\"/>\n      </g>\n     </g>\n     <g id=\"text_6\">\n      <!-- 4000 -->\n      <g transform=\"translate(27.240625 239.970013) scale(0.1 -0.1)\">\n       <defs>\n        <path id=\"DejaVuSans-34\" d=\"M 2419 4116 \nL 825 1625 \nL 2419 1625 \nL 2419 4116 \nz\nM 2253 4666 \nL 3047 4666 \nL 3047 1625 \nL 3713 1625 \nL 3713 1100 \nL 3047 1100 \nL 3047 0 \nL 2419 0 \nL 2419 1100 \nL 313 1100 \nL 313 1709 \nL 2253 4666 \nz\n\" transform=\"scale(0.015625)\"/>\n       </defs>\n       <use xlink:href=\"#DejaVuSans-34\"/>\n       <use xlink:href=\"#DejaVuSans-30\" x=\"63.623047\"/>\n       <use xlink:href=\"#DejaVuSans-30\" x=\"127.246094\"/>\n       <use xlink:href=\"#DejaVuSans-30\" x=\"190.869141\"/>\n      </g>\n     </g>\n    </g>\n    <g id=\"ytick_4\">\n     <g id=\"line2d_6\">\n      <g>\n       <use xlink:href=\"#ma9c6725b61\" x=\"59.690625\" y=\"204.497129\" style=\"stroke: #000000; stroke-width: 0.8\"/>\n      </g>\n     </g>\n     <g id=\"text_7\">\n      <!-- 6000 -->\n      <g transform=\"translate(27.240625 208.296348) scale(0.1 -0.1)\">\n       <defs>\n        <path id=\"DejaVuSans-36\" d=\"M 2113 2584 \nQ 1688 2584 1439 2293 \nQ 1191 2003 1191 1497 \nQ 1191 994 1439 701 \nQ 1688 409 2113 409 \nQ 2538 409 2786 701 \nQ 3034 994 3034 1497 \nQ 3034 2003 2786 2293 \nQ 2538 2584 2113 2584 \nz\nM 3366 4563 \nL 3366 3988 \nQ 3128 4100 2886 4159 \nQ 2644 4219 2406 4219 \nQ 1781 4219 1451 3797 \nQ 1122 3375 1075 2522 \nQ 1259 2794 1537 2939 \nQ 1816 3084 2150 3084 \nQ 2853 3084 3261 2657 \nQ 3669 2231 3669 1497 \nQ 3669 778 3244 343 \nQ 2819 -91 2113 -91 \nQ 1303 -91 875 529 \nQ 447 1150 447 2328 \nQ 447 3434 972 4092 \nQ 1497 4750 2381 4750 \nQ 2619 4750 2861 4703 \nQ 3103 4656 3366 4563 \nz\n\" transform=\"scale(0.015625)\"/>\n       </defs>\n       <use xlink:href=\"#DejaVuSans-36\"/>\n       <use xlink:href=\"#DejaVuSans-30\" x=\"63.623047\"/>\n       <use xlink:href=\"#DejaVuSans-30\" x=\"127.246094\"/>\n       <use xlink:href=\"#DejaVuSans-30\" x=\"190.869141\"/>\n      </g>\n     </g>\n    </g>\n    <g id=\"ytick_5\">\n     <g id=\"line2d_7\">\n      <g>\n       <use xlink:href=\"#ma9c6725b61\" x=\"59.690625\" y=\"172.823464\" style=\"stroke: #000000; stroke-width: 0.8\"/>\n      </g>\n     </g>\n     <g id=\"text_8\">\n      <!-- 8000 -->\n      <g transform=\"translate(27.240625 176.622683) scale(0.1 -0.1)\">\n       <defs>\n        <path id=\"DejaVuSans-38\" d=\"M 2034 2216 \nQ 1584 2216 1326 1975 \nQ 1069 1734 1069 1313 \nQ 1069 891 1326 650 \nQ 1584 409 2034 409 \nQ 2484 409 2743 651 \nQ 3003 894 3003 1313 \nQ 3003 1734 2745 1975 \nQ 2488 2216 2034 2216 \nz\nM 1403 2484 \nQ 997 2584 770 2862 \nQ 544 3141 544 3541 \nQ 544 4100 942 4425 \nQ 1341 4750 2034 4750 \nQ 2731 4750 3128 4425 \nQ 3525 4100 3525 3541 \nQ 3525 3141 3298 2862 \nQ 3072 2584 2669 2484 \nQ 3125 2378 3379 2068 \nQ 3634 1759 3634 1313 \nQ 3634 634 3220 271 \nQ 2806 -91 2034 -91 \nQ 1263 -91 848 271 \nQ 434 634 434 1313 \nQ 434 1759 690 2068 \nQ 947 2378 1403 2484 \nz\nM 1172 3481 \nQ 1172 3119 1398 2916 \nQ 1625 2713 2034 2713 \nQ 2441 2713 2670 2916 \nQ 2900 3119 2900 3481 \nQ 2900 3844 2670 4047 \nQ 2441 4250 2034 4250 \nQ 1625 4250 1398 4047 \nQ 1172 3844 1172 3481 \nz\n\" transform=\"scale(0.015625)\"/>\n       </defs>\n       <use xlink:href=\"#DejaVuSans-38\"/>\n       <use xlink:href=\"#DejaVuSans-30\" x=\"63.623047\"/>\n       <use xlink:href=\"#DejaVuSans-30\" x=\"127.246094\"/>\n       <use xlink:href=\"#DejaVuSans-30\" x=\"190.869141\"/>\n      </g>\n     </g>\n    </g>\n    <g id=\"ytick_6\">\n     <g id=\"line2d_8\">\n      <g>\n       <use xlink:href=\"#ma9c6725b61\" x=\"59.690625\" y=\"141.149799\" style=\"stroke: #000000; stroke-width: 0.8\"/>\n      </g>\n     </g>\n     <g id=\"text_9\">\n      <!-- 10000 -->\n      <g transform=\"translate(20.878125 144.949017) scale(0.1 -0.1)\">\n       <defs>\n        <path id=\"DejaVuSans-31\" d=\"M 794 531 \nL 1825 531 \nL 1825 4091 \nL 703 3866 \nL 703 4441 \nL 1819 4666 \nL 2450 4666 \nL 2450 531 \nL 3481 531 \nL 3481 0 \nL 794 0 \nL 794 531 \nz\n\" transform=\"scale(0.015625)\"/>\n       </defs>\n       <use xlink:href=\"#DejaVuSans-31\"/>\n       <use xlink:href=\"#DejaVuSans-30\" x=\"63.623047\"/>\n       <use xlink:href=\"#DejaVuSans-30\" x=\"127.246094\"/>\n       <use xlink:href=\"#DejaVuSans-30\" x=\"190.869141\"/>\n       <use xlink:href=\"#DejaVuSans-30\" x=\"254.492188\"/>\n      </g>\n     </g>\n    </g>\n    <g id=\"ytick_7\">\n     <g id=\"line2d_9\">\n      <g>\n       <use xlink:href=\"#ma9c6725b61\" x=\"59.690625\" y=\"109.476133\" style=\"stroke: #000000; stroke-width: 0.8\"/>\n      </g>\n     </g>\n     <g id=\"text_10\">\n      <!-- 12000 -->\n      <g transform=\"translate(20.878125 113.275352) scale(0.1 -0.1)\">\n       <use xlink:href=\"#DejaVuSans-31\"/>\n       <use xlink:href=\"#DejaVuSans-32\" x=\"63.623047\"/>\n       <use xlink:href=\"#DejaVuSans-30\" x=\"127.246094\"/>\n       <use xlink:href=\"#DejaVuSans-30\" x=\"190.869141\"/>\n       <use xlink:href=\"#DejaVuSans-30\" x=\"254.492188\"/>\n      </g>\n     </g>\n    </g>\n    <g id=\"ytick_8\">\n     <g id=\"line2d_10\">\n      <g>\n       <use xlink:href=\"#ma9c6725b61\" x=\"59.690625\" y=\"77.802468\" style=\"stroke: #000000; stroke-width: 0.8\"/>\n      </g>\n     </g>\n     <g id=\"text_11\">\n      <!-- 14000 -->\n      <g transform=\"translate(20.878125 81.601687) scale(0.1 -0.1)\">\n       <use xlink:href=\"#DejaVuSans-31\"/>\n       <use xlink:href=\"#DejaVuSans-34\" x=\"63.623047\"/>\n       <use xlink:href=\"#DejaVuSans-30\" x=\"127.246094\"/>\n       <use xlink:href=\"#DejaVuSans-30\" x=\"190.869141\"/>\n       <use xlink:href=\"#DejaVuSans-30\" x=\"254.492188\"/>\n      </g>\n     </g>\n    </g>\n    <g id=\"ytick_9\">\n     <g id=\"line2d_11\">\n      <g>\n       <use xlink:href=\"#ma9c6725b61\" x=\"59.690625\" y=\"46.128803\" style=\"stroke: #000000; stroke-width: 0.8\"/>\n      </g>\n     </g>\n     <g id=\"text_12\">\n      <!-- 16000 -->\n      <g transform=\"translate(20.878125 49.928022) scale(0.1 -0.1)\">\n       <use xlink:href=\"#DejaVuSans-31\"/>\n       <use xlink:href=\"#DejaVuSans-36\" x=\"63.623047\"/>\n       <use xlink:href=\"#DejaVuSans-30\" x=\"127.246094\"/>\n       <use xlink:href=\"#DejaVuSans-30\" x=\"190.869141\"/>\n       <use xlink:href=\"#DejaVuSans-30\" x=\"254.492188\"/>\n      </g>\n     </g>\n    </g>\n    <g id=\"text_13\">\n     <!-- count -->\n     <g transform=\"translate(14.798438 175.024375) rotate(-90) scale(0.1 -0.1)\">\n      <defs>\n       <path id=\"DejaVuSans-63\" d=\"M 3122 3366 \nL 3122 2828 \nQ 2878 2963 2633 3030 \nQ 2388 3097 2138 3097 \nQ 1578 3097 1268 2742 \nQ 959 2388 959 1747 \nQ 959 1106 1268 751 \nQ 1578 397 2138 397 \nQ 2388 397 2633 464 \nQ 2878 531 3122 666 \nL 3122 134 \nQ 2881 22 2623 -34 \nQ 2366 -91 2075 -91 \nQ 1284 -91 818 406 \nQ 353 903 353 1747 \nQ 353 2603 823 3093 \nQ 1294 3584 2113 3584 \nQ 2378 3584 2631 3529 \nQ 2884 3475 3122 3366 \nz\n\" transform=\"scale(0.015625)\"/>\n       <path id=\"DejaVuSans-6f\" d=\"M 1959 3097 \nQ 1497 3097 1228 2736 \nQ 959 2375 959 1747 \nQ 959 1119 1226 758 \nQ 1494 397 1959 397 \nQ 2419 397 2687 759 \nQ 2956 1122 2956 1747 \nQ 2956 2369 2687 2733 \nQ 2419 3097 1959 3097 \nz\nM 1959 3584 \nQ 2709 3584 3137 3096 \nQ 3566 2609 3566 1747 \nQ 3566 888 3137 398 \nQ 2709 -91 1959 -91 \nQ 1206 -91 779 398 \nQ 353 888 353 1747 \nQ 353 2609 779 3096 \nQ 1206 3584 1959 3584 \nz\n\" transform=\"scale(0.015625)\"/>\n      </defs>\n      <use xlink:href=\"#DejaVuSans-63\"/>\n      <use xlink:href=\"#DejaVuSans-6f\" x=\"54.980469\"/>\n      <use xlink:href=\"#DejaVuSans-75\" x=\"116.162109\"/>\n      <use xlink:href=\"#DejaVuSans-6e\" x=\"179.541016\"/>\n      <use xlink:href=\"#DejaVuSans-74\" x=\"242.919922\"/>\n     </g>\n    </g>\n   </g>\n   <g id=\"patch_5\">\n    <path d=\"M 59.690625 299.518125 \nL 59.690625 22.318125 \n\" style=\"fill: none; stroke: #000000; stroke-width: 0.8; stroke-linejoin: miter; stroke-linecap: square\"/>\n   </g>\n   <g id=\"patch_6\">\n    <path d=\"M 506.090625 299.518125 \nL 506.090625 22.318125 \n\" style=\"fill: none; stroke: #000000; stroke-width: 0.8; stroke-linejoin: miter; stroke-linecap: square\"/>\n   </g>\n   <g id=\"patch_7\">\n    <path d=\"M 59.690625 299.518125 \nL 506.090625 299.518125 \n\" style=\"fill: none; stroke: #000000; stroke-width: 0.8; stroke-linejoin: miter; stroke-linecap: square\"/>\n   </g>\n   <g id=\"patch_8\">\n    <path d=\"M 59.690625 22.318125 \nL 506.090625 22.318125 \n\" style=\"fill: none; stroke: #000000; stroke-width: 0.8; stroke-linejoin: miter; stroke-linecap: square\"/>\n   </g>\n   <g id=\"text_14\">\n    <!-- Target variable distribution -->\n    <g transform=\"translate(202.112813 16.318125) scale(0.12 -0.12)\">\n     <defs>\n      <path id=\"DejaVuSans-67\" d=\"M 2906 1791 \nQ 2906 2416 2648 2759 \nQ 2391 3103 1925 3103 \nQ 1463 3103 1205 2759 \nQ 947 2416 947 1791 \nQ 947 1169 1205 825 \nQ 1463 481 1925 481 \nQ 2391 481 2648 825 \nQ 2906 1169 2906 1791 \nz\nM 3481 434 \nQ 3481 -459 3084 -895 \nQ 2688 -1331 1869 -1331 \nQ 1566 -1331 1297 -1286 \nQ 1028 -1241 775 -1147 \nL 775 -588 \nQ 1028 -725 1275 -790 \nQ 1522 -856 1778 -856 \nQ 2344 -856 2625 -561 \nQ 2906 -266 2906 331 \nL 2906 616 \nQ 2728 306 2450 153 \nQ 2172 0 1784 0 \nQ 1141 0 747 490 \nQ 353 981 353 1791 \nQ 353 2603 747 3093 \nQ 1141 3584 1784 3584 \nQ 2172 3584 2450 3431 \nQ 2728 3278 2906 2969 \nL 2906 3500 \nL 3481 3500 \nL 3481 434 \nz\n\" transform=\"scale(0.015625)\"/>\n      <path id=\"DejaVuSans-20\" transform=\"scale(0.015625)\"/>\n      <path id=\"DejaVuSans-76\" d=\"M 191 3500 \nL 800 3500 \nL 1894 563 \nL 2988 3500 \nL 3597 3500 \nL 2284 0 \nL 1503 0 \nL 191 3500 \nz\n\" transform=\"scale(0.015625)\"/>\n      <path id=\"DejaVuSans-62\" d=\"M 3116 1747 \nQ 3116 2381 2855 2742 \nQ 2594 3103 2138 3103 \nQ 1681 3103 1420 2742 \nQ 1159 2381 1159 1747 \nQ 1159 1113 1420 752 \nQ 1681 391 2138 391 \nQ 2594 391 2855 752 \nQ 3116 1113 3116 1747 \nz\nM 1159 2969 \nQ 1341 3281 1617 3432 \nQ 1894 3584 2278 3584 \nQ 2916 3584 3314 3078 \nQ 3713 2572 3713 1747 \nQ 3713 922 3314 415 \nQ 2916 -91 2278 -91 \nQ 1894 -91 1617 61 \nQ 1341 213 1159 525 \nL 1159 0 \nL 581 0 \nL 581 4863 \nL 1159 4863 \nL 1159 2969 \nz\n\" transform=\"scale(0.015625)\"/>\n     </defs>\n     <use xlink:href=\"#DejaVuSans-54\"/>\n     <use xlink:href=\"#DejaVuSans-61\" x=\"44.583984\"/>\n     <use xlink:href=\"#DejaVuSans-72\" x=\"105.863281\"/>\n     <use xlink:href=\"#DejaVuSans-67\" x=\"145.226562\"/>\n     <use xlink:href=\"#DejaVuSans-65\" x=\"208.703125\"/>\n     <use xlink:href=\"#DejaVuSans-74\" x=\"270.226562\"/>\n     <use xlink:href=\"#DejaVuSans-20\" x=\"309.435547\"/>\n     <use xlink:href=\"#DejaVuSans-76\" x=\"341.222656\"/>\n     <use xlink:href=\"#DejaVuSans-61\" x=\"400.402344\"/>\n     <use xlink:href=\"#DejaVuSans-72\" x=\"461.681641\"/>\n     <use xlink:href=\"#DejaVuSans-69\" x=\"502.794922\"/>\n     <use xlink:href=\"#DejaVuSans-61\" x=\"530.578125\"/>\n     <use xlink:href=\"#DejaVuSans-62\" x=\"591.857422\"/>\n     <use xlink:href=\"#DejaVuSans-6c\" x=\"655.333984\"/>\n     <use xlink:href=\"#DejaVuSans-65\" x=\"683.117188\"/>\n     <use xlink:href=\"#DejaVuSans-20\" x=\"744.640625\"/>\n     <use xlink:href=\"#DejaVuSans-64\" x=\"776.427734\"/>\n     <use xlink:href=\"#DejaVuSans-69\" x=\"839.904297\"/>\n     <use xlink:href=\"#DejaVuSans-73\" x=\"867.6875\"/>\n     <use xlink:href=\"#DejaVuSans-74\" x=\"919.787109\"/>\n     <use xlink:href=\"#DejaVuSans-72\" x=\"958.996094\"/>\n     <use xlink:href=\"#DejaVuSans-69\" x=\"1000.109375\"/>\n     <use xlink:href=\"#DejaVuSans-62\" x=\"1027.892578\"/>\n     <use xlink:href=\"#DejaVuSans-75\" x=\"1091.369141\"/>\n     <use xlink:href=\"#DejaVuSans-74\" x=\"1154.748047\"/>\n     <use xlink:href=\"#DejaVuSans-69\" x=\"1193.957031\"/>\n     <use xlink:href=\"#DejaVuSans-6f\" x=\"1221.740234\"/>\n     <use xlink:href=\"#DejaVuSans-6e\" x=\"1282.921875\"/>\n    </g>\n   </g>\n  </g>\n </g>\n <defs>\n  <clipPath id=\"p67f7dd62d9\">\n   <rect x=\"59.690625\" y=\"22.318125\" width=\"446.4\" height=\"277.2\"/>\n  </clipPath>\n </defs>\n</svg>\n",
            "text/plain": [
              "<Figure size 800x500 with 1 Axes>"
            ]
          },
          "metadata": {},
          "output_type": "display_data"
        }
      ],
      "source": [
        "# Посмотрим распределение целевой переменной\n",
        "\n",
        "plt.figure(figsize=(8, 5))\n",
        "sns.countplot(x=\"radiant_win\", data=train_target)\n",
        "plt.title('Target variable distribution')\n",
        "plt.show()"
      ],
      "id": "5b35ec21"
    },
    {
      "cell_type": "markdown",
      "metadata": {
        "id": "bc0e53f8"
      },
      "source": [
        "## Обработка выбросов"
      ],
      "id": "bc0e53f8"
    },
    {
      "cell_type": "code",
      "execution_count": null,
      "metadata": {
        "id": "bba47f76"
      },
      "outputs": [],
      "source": [
        "def outliers_number(df_in, param_name):\n",
        "    q1 = df_in[param_name].quantile(0.25)\n",
        "    q3 = df_in[param_name].quantile(0.75)\n",
        "    iqr = q3 - q1\n",
        "    boxplot_range = [q1 - 1.5 * iqr, q3 + 1.5 * iqr]\n",
        "    outliers = df_in[param_name].loc[(df_in[param_name] < boxplot_range[0]) | (df_in[param_name] > boxplot_range[1])]\n",
        "    n = len(outliers)\n",
        "    return n   \n",
        "\n",
        "\n",
        "def remove_outlier(df_in, params_names):\n",
        "    for param_name in params_names:\n",
        "        q1 = df_in[param_name].quantile(0.25)\n",
        "        q3 = df_in[param_name].quantile(0.75)\n",
        "        iqr = q3 - q1\n",
        "        boxplot_range = [q1 - 1.5 * iqr, q3 + 1.5 * iqr]\n",
        "        changed_data = df_in.loc[(df_in[param_name] >= boxplot_range[0]) & (df_in[param_name] <= boxplot_range[1])]\n",
        "    return changed_data\n",
        "\n",
        "\n",
        "def outliers_to_median(df_in, params_names):\n",
        "    for param_name in params_names:\n",
        "        q1 = df_in[param_name].quantile(0.25)\n",
        "        q3 = df_in[param_name].quantile(0.75)\n",
        "        iqr = q3 - q1\n",
        "        boxplot_range = [q1 - 1.5 * iqr, q3 + 1.5 * iqr]\n",
        "        new_condition = (df_in[param_name] < boxplot_range[0]) | (df_in[param_name] > boxplot_range[1])\n",
        "        feature_median = df_in[param_name].median()\n",
        "        df_in.loc[new_condition, param_name] = feature_median\n",
        "    return df_in\n",
        "  \n",
        "    \n",
        "def outliers_to_mean(df_in, params_names):\n",
        "    for param_name in params_names:\n",
        "        q1 = df_in[param_name].quantile(0.25)\n",
        "        q3 = df_in[param_name].quantile(0.75)\n",
        "        iqr = q3 - q1\n",
        "        boxplot_range = [q1 - 1.5 * iqr, q3 + 1.5 * iqr]\n",
        "        new_condition = (df_in[param_name] < boxplot_range[0]) | (df_in[param_name] > boxplot_range[1])\n",
        "        condition_mean = (df_in[param_name] >= boxplot_range[0]) | (df_in[param_name] <= boxplot_range[1])\n",
        "        feature_mean = df_in[param_name].mean()\n",
        "        df_in.loc[new_condition, param_name] = feature_mean\n",
        "    return df_in\n",
        "\n",
        "\n",
        "def outliers_clip(df_in, params_names):\n",
        "    for param_name in params_names:\n",
        "        q1 = df_in[param_name].quantile(0.25)\n",
        "        q3 = df_in[param_name].quantile(0.75)\n",
        "        iqr = q3 - q1\n",
        "        boxplot_range = [q1 - 1.5 * iqr, q3 + 1.5 * iqr]\n",
        "        condition_1 = (df_in[param_name] < boxplot_range[0]) \n",
        "        condition_2 = (df_in[param_name] > boxplot_range[1])\n",
        "        df_in.loc[condition_1, param_name] = boxplot_range[0]\n",
        "        df_in.loc[condition_1, param_name] = boxplot_range[1]\n",
        "    return df_in\n"
      ],
      "id": "bba47f76"
    },
    {
      "cell_type": "code",
      "execution_count": null,
      "metadata": {
        "colab": {
          "base_uri": "https://localhost:8080/"
        },
        "id": "d4333f54",
        "outputId": "2dee531b-5523-4f49-bfbc-e2a9cd6a47be"
      },
      "outputs": [
        {
          "output_type": "stream",
          "name": "stdout",
          "text": [
            "Количество выбросов для признака game_time: 191\n",
            "Количество выбросов для признака game_mode: 6374\n",
            "Количество выбросов для признака lobby_type: 0\n",
            "Количество выбросов для признака objectives_len: 674\n",
            "Количество выбросов для признака chat_len: 2575\n",
            "Количество выбросов для признака r1_hero_id: 0\n",
            "Количество выбросов для признака r1_kills: 943\n",
            "Количество выбросов для признака r1_deaths: 750\n",
            "Количество выбросов для признака r1_assists: 1231\n",
            "Количество выбросов для признака r1_denies: 1929\n",
            "Количество выбросов для признака r1_gold: 999\n",
            "Количество выбросов для признака r1_lh: 1779\n",
            "Количество выбросов для признака r1_xp: 206\n",
            "Количество выбросов для признака r1_health: 863\n",
            "Количество выбросов для признака r1_max_health: 784\n",
            "Количество выбросов для признака r1_max_mana: 1305\n",
            "Количество выбросов для признака r1_level: 0\n",
            "Количество выбросов для признака r1_x: 0\n",
            "Количество выбросов для признака r1_y: 0\n",
            "Количество выбросов для признака r1_stuns: 2775\n",
            "Количество выбросов для признака r1_creeps_stacked: 5043\n",
            "Количество выбросов для признака r1_camps_stacked: 5043\n",
            "Количество выбросов для признака r1_rune_pickups: 1360\n",
            "Количество выбросов для признака r1_firstblood_claimed: 2900\n",
            "Количество выбросов для признака r1_teamfight_participation: 3\n",
            "Количество выбросов для признака r1_towers_killed: 6924\n",
            "Количество выбросов для признака r1_roshans_killed: 844\n",
            "Количество выбросов для признака r1_obs_placed: 4438\n",
            "Количество выбросов для признака r1_sen_placed: 7315\n",
            "Количество выбросов для признака r2_hero_id: 0\n",
            "Количество выбросов для признака r2_kills: 893\n",
            "Количество выбросов для признака r2_deaths: 805\n",
            "Количество выбросов для признака r2_assists: 1248\n",
            "Количество выбросов для признака r2_denies: 1921\n",
            "Количество выбросов для признака r2_gold: 906\n",
            "Количество выбросов для признака r2_lh: 1673\n",
            "Количество выбросов для признака r2_xp: 363\n",
            "Количество выбросов для признака r2_health: 827\n",
            "Количество выбросов для признака r2_max_health: 760\n",
            "Количество выбросов для признака r2_max_mana: 1248\n",
            "Количество выбросов для признака r2_level: 0\n",
            "Количество выбросов для признака r2_x: 0\n",
            "Количество выбросов для признака r2_y: 0\n",
            "Количество выбросов для признака r2_stuns: 2716\n",
            "Количество выбросов для признака r2_creeps_stacked: 5009\n",
            "Количество выбросов для признака r2_camps_stacked: 5009\n",
            "Количество выбросов для признака r2_rune_pickups: 1293\n",
            "Количество выбросов для признака r2_firstblood_claimed: 2926\n",
            "Количество выбросов для признака r2_teamfight_participation: 4\n",
            "Количество выбросов для признака r2_towers_killed: 6915\n",
            "Количество выбросов для признака r2_roshans_killed: 827\n",
            "Количество выбросов для признака r2_obs_placed: 4848\n",
            "Количество выбросов для признака r2_sen_placed: 7485\n",
            "Количество выбросов для признака r3_hero_id: 0\n",
            "Количество выбросов для признака r3_kills: 923\n",
            "Количество выбросов для признака r3_deaths: 799\n",
            "Количество выбросов для признака r3_assists: 1233\n",
            "Количество выбросов для признака r3_denies: 1985\n",
            "Количество выбросов для признака r3_gold: 975\n",
            "Количество выбросов для признака r3_lh: 1746\n",
            "Количество выбросов для признака r3_xp: 246\n",
            "Количество выбросов для признака r3_health: 843\n",
            "Количество выбросов для признака r3_max_health: 682\n",
            "Количество выбросов для признака r3_max_mana: 1296\n",
            "Количество выбросов для признака r3_level: 0\n",
            "Количество выбросов для признака r3_x: 0\n",
            "Количество выбросов для признака r3_y: 0\n",
            "Количество выбросов для признака r3_stuns: 2720\n",
            "Количество выбросов для признака r3_creeps_stacked: 5064\n",
            "Количество выбросов для признака r3_camps_stacked: 5064\n",
            "Количество выбросов для признака r3_rune_pickups: 1235\n",
            "Количество выбросов для признака r3_firstblood_claimed: 3033\n",
            "Количество выбросов для признака r3_teamfight_participation: 4\n",
            "Количество выбросов для признака r3_towers_killed: 7028\n",
            "Количество выбросов для признака r3_roshans_killed: 875\n",
            "Количество выбросов для признака r3_obs_placed: 4651\n",
            "Количество выбросов для признака r3_sen_placed: 7343\n",
            "Количество выбросов для признака r4_hero_id: 0\n",
            "Количество выбросов для признака r4_kills: 946\n",
            "Количество выбросов для признака r4_deaths: 794\n",
            "Количество выбросов для признака r4_assists: 1221\n",
            "Количество выбросов для признака r4_denies: 1970\n",
            "Количество выбросов для признака r4_gold: 939\n",
            "Количество выбросов для признака r4_lh: 1734\n",
            "Количество выбросов для признака r4_xp: 300\n",
            "Количество выбросов для признака r4_health: 806\n",
            "Количество выбросов для признака r4_max_health: 759\n",
            "Количество выбросов для признака r4_max_mana: 1225\n",
            "Количество выбросов для признака r4_level: 0\n",
            "Количество выбросов для признака r4_x: 0\n",
            "Количество выбросов для признака r4_y: 0\n",
            "Количество выбросов для признака r4_stuns: 2733\n",
            "Количество выбросов для признака r4_creeps_stacked: 4984\n",
            "Количество выбросов для признака r4_camps_stacked: 4984\n",
            "Количество выбросов для признака r4_rune_pickups: 1218\n",
            "Количество выбросов для признака r4_firstblood_claimed: 3024\n",
            "Количество выбросов для признака r4_teamfight_participation: 3\n",
            "Количество выбросов для признака r4_towers_killed: 6954\n",
            "Количество выбросов для признака r4_roshans_killed: 799\n",
            "Количество выбросов для признака r4_obs_placed: 4639\n",
            "Количество выбросов для признака r4_sen_placed: 7307\n",
            "Количество выбросов для признака r5_hero_id: 0\n",
            "Количество выбросов для признака r5_kills: 876\n",
            "Количество выбросов для признака r5_deaths: 730\n",
            "Количество выбросов для признака r5_assists: 1184\n",
            "Количество выбросов для признака r5_denies: 2621\n",
            "Количество выбросов для признака r5_gold: 933\n",
            "Количество выбросов для признака r5_lh: 1678\n",
            "Количество выбросов для признака r5_xp: 363\n",
            "Количество выбросов для признака r5_health: 857\n",
            "Количество выбросов для признака r5_max_health: 766\n",
            "Количество выбросов для признака r5_max_mana: 1293\n",
            "Количество выбросов для признака r5_level: 0\n",
            "Количество выбросов для признака r5_x: 0\n",
            "Количество выбросов для признака r5_y: 0\n",
            "Количество выбросов для признака r5_stuns: 2867\n",
            "Количество выбросов для признака r5_creeps_stacked: 4987\n",
            "Количество выбросов для признака r5_camps_stacked: 4987\n",
            "Количество выбросов для признака r5_rune_pickups: 1278\n",
            "Количество выбросов для признака r5_firstblood_claimed: 2926\n",
            "Количество выбросов для признака r5_teamfight_participation: 4\n",
            "Количество выбросов для признака r5_towers_killed: 6812\n",
            "Количество выбросов для признака r5_roshans_killed: 856\n",
            "Количество выбросов для признака r5_obs_placed: 4696\n",
            "Количество выбросов для признака r5_sen_placed: 7471\n",
            "Количество выбросов для признака d1_hero_id: 0\n",
            "Количество выбросов для признака d1_kills: 996\n",
            "Количество выбросов для признака d1_deaths: 715\n",
            "Количество выбросов для признака d1_assists: 1283\n",
            "Количество выбросов для признака d1_denies: 2011\n",
            "Количество выбросов для признака d1_gold: 1004\n",
            "Количество выбросов для признака d1_lh: 1838\n",
            "Количество выбросов для признака d1_xp: 85\n",
            "Количество выбросов для признака d1_health: 847\n",
            "Количество выбросов для признака d1_max_health: 764\n",
            "Количество выбросов для признака d1_max_mana: 1397\n",
            "Количество выбросов для признака d1_level: 0\n",
            "Количество выбросов для признака d1_x: 0\n",
            "Количество выбросов для признака d1_y: 0\n",
            "Количество выбросов для признака d1_stuns: 2842\n",
            "Количество выбросов для признака d1_creeps_stacked: 5798\n",
            "Количество выбросов для признака d1_camps_stacked: 5798\n",
            "Количество выбросов для признака d1_rune_pickups: 782\n",
            "Количество выбросов для признака d1_firstblood_claimed: 2899\n",
            "Количество выбросов для признака d1_teamfight_participation: 7\n",
            "Количество выбросов для признака d1_towers_killed: 6527\n",
            "Количество выбросов для признака d1_roshans_killed: 805\n",
            "Количество выбросов для признака d1_obs_placed: 4461\n",
            "Количество выбросов для признака d1_sen_placed: 7008\n",
            "Количество выбросов для признака d2_hero_id: 0\n",
            "Количество выбросов для признака d2_kills: 1029\n",
            "Количество выбросов для признака d2_deaths: 671\n",
            "Количество выбросов для признака d2_assists: 1334\n",
            "Количество выбросов для признака d2_denies: 2018\n",
            "Количество выбросов для признака d2_gold: 1077\n",
            "Количество выбросов для признака d2_lh: 1825\n",
            "Количество выбросов для признака d2_xp: 260\n",
            "Количество выбросов для признака d2_health: 776\n",
            "Количество выбросов для признака d2_max_health: 754\n",
            "Количество выбросов для признака d2_max_mana: 1270\n",
            "Количество выбросов для признака d2_level: 0\n",
            "Количество выбросов для признака d2_x: 0\n",
            "Количество выбросов для признака d2_y: 0\n",
            "Количество выбросов для признака d2_stuns: 2766\n",
            "Количество выбросов для признака d2_creeps_stacked: 5767\n",
            "Количество выбросов для признака d2_camps_stacked: 5767\n",
            "Количество выбросов для признака d2_rune_pickups: 797\n",
            "Количество выбросов для признака d2_firstblood_claimed: 2829\n",
            "Количество выбросов для признака d2_teamfight_participation: 6\n",
            "Количество выбросов для признака d2_towers_killed: 6464\n",
            "Количество выбросов для признака d2_roshans_killed: 794\n",
            "Количество выбросов для признака d2_obs_placed: 4565\n",
            "Количество выбросов для признака d2_sen_placed: 7133\n",
            "Количество выбросов для признака d3_hero_id: 0\n",
            "Количество выбросов для признака d3_kills: 966\n",
            "Количество выбросов для признака d3_deaths: 662\n",
            "Количество выбросов для признака d3_assists: 1295\n",
            "Количество выбросов для признака d3_denies: 2001\n",
            "Количество выбросов для признака d3_gold: 1102\n",
            "Количество выбросов для признака d3_lh: 1924\n",
            "Количество выбросов для признака d3_xp: 295\n",
            "Количество выбросов для признака d3_health: 875\n",
            "Количество выбросов для признака d3_max_health: 768\n",
            "Количество выбросов для признака d3_max_mana: 1305\n",
            "Количество выбросов для признака d3_level: 0\n",
            "Количество выбросов для признака d3_x: 0\n",
            "Количество выбросов для признака d3_y: 0\n",
            "Количество выбросов для признака d3_stuns: 2700\n",
            "Количество выбросов для признака d3_creeps_stacked: 5901\n",
            "Количество выбросов для признака d3_camps_stacked: 5901\n",
            "Количество выбросов для признака d3_rune_pickups: 752\n",
            "Количество выбросов для признака d3_firstblood_claimed: 2927\n",
            "Количество выбросов для признака d3_teamfight_participation: 8\n",
            "Количество выбросов для признака d3_towers_killed: 6334\n",
            "Количество выбросов для признака d3_roshans_killed: 777\n",
            "Количество выбросов для признака d3_obs_placed: 4669\n",
            "Количество выбросов для признака d3_sen_placed: 7182\n",
            "Количество выбросов для признака d4_hero_id: 0\n",
            "Количество выбросов для признака d4_kills: 977\n",
            "Количество выбросов для признака d4_deaths: 654\n",
            "Количество выбросов для признака d4_assists: 1287\n",
            "Количество выбросов для признака d4_denies: 1966\n",
            "Количество выбросов для признака d4_gold: 1021\n",
            "Количество выбросов для признака d4_lh: 1849\n",
            "Количество выбросов для признака d4_xp: 302\n",
            "Количество выбросов для признака d4_health: 887\n",
            "Количество выбросов для признака d4_max_health: 795\n",
            "Количество выбросов для признака d4_max_mana: 1352\n",
            "Количество выбросов для признака d4_level: 0\n",
            "Количество выбросов для признака d4_x: 0\n",
            "Количество выбросов для признака d4_y: 0\n",
            "Количество выбросов для признака d4_stuns: 2737\n",
            "Количество выбросов для признака d4_creeps_stacked: 5785\n",
            "Количество выбросов для признака d4_camps_stacked: 5785\n",
            "Количество выбросов для признака d4_rune_pickups: 751\n",
            "Количество выбросов для признака d4_firstblood_claimed: 2862\n",
            "Количество выбросов для признака d4_teamfight_participation: 3\n",
            "Количество выбросов для признака d4_towers_killed: 6329\n",
            "Количество выбросов для признака d4_roshans_killed: 749\n",
            "Количество выбросов для признака d4_obs_placed: 4608\n",
            "Количество выбросов для признака d4_sen_placed: 7053\n",
            "Количество выбросов для признака d5_hero_id: 0\n",
            "Количество выбросов для признака d5_kills: 942\n",
            "Количество выбросов для признака d5_deaths: 725\n",
            "Количество выбросов для признака d5_assists: 1280\n",
            "Количество выбросов для признака d5_denies: 2536\n",
            "Количество выбросов для признака d5_gold: 1080\n",
            "Количество выбросов для признака d5_lh: 1863\n",
            "Количество выбросов для признака d5_xp: 591\n",
            "Количество выбросов для признака d5_health: 846\n",
            "Количество выбросов для признака d5_max_health: 752\n",
            "Количество выбросов для признака d5_max_mana: 1346\n",
            "Количество выбросов для признака d5_level: 0\n",
            "Количество выбросов для признака d5_x: 0\n",
            "Количество выбросов для признака d5_y: 0\n",
            "Количество выбросов для признака d5_stuns: 2698\n",
            "Количество выбросов для признака d5_creeps_stacked: 5952\n",
            "Количество выбросов для признака d5_camps_stacked: 5952\n",
            "Количество выбросов для признака d5_rune_pickups: 840\n",
            "Количество выбросов для признака d5_firstblood_claimed: 2820\n",
            "Количество выбросов для признака d5_teamfight_participation: 8\n",
            "Количество выбросов для признака d5_towers_killed: 6205\n",
            "Количество выбросов для признака d5_roshans_killed: 701\n",
            "Количество выбросов для признака d5_obs_placed: 4636\n",
            "Количество выбросов для признака d5_sen_placed: 7122\n"
          ]
        }
      ],
      "source": [
        "quantative_features = train_df.select_dtypes(include=['float64', 'int64']).columns.tolist()\n",
        "for el in quantative_features:\n",
        "    print(f\"Количество выбросов для признака {el}: {outliers_number(train_df, el)}\")"
      ],
      "id": "d4333f54"
    },
    {
      "cell_type": "markdown",
      "metadata": {
        "id": "TZoXUkBnux7P"
      },
      "source": [
        "Создали функцию outliers_number, расчитывающую количество выбросов, которая принимает выборку, а возвращает число выбросов, а также функцию outliers_to_median, заменяющюю выбросы на медианы. Функция outliers_to_median принимает датасет и название признака, по которому определяются выбросы. Концы усов boxplot рассчитываем как разность первого квартиля и полутора межквартильных расстояний и сумму третьего квартиля и полутора межквартильных расстояний соответственно.\n",
        "Также создали функции remove_outlier, удаляющую выбросы, функцию outliers_clip, которая действует как np.clip, \n",
        "и функцию outliers_to_mean, заменяющую выбросы на средние значения.\n",
        "    \n",
        "Оставим выбросы без изменений."
      ],
      "id": "TZoXUkBnux7P"
    },
    {
      "cell_type": "markdown",
      "metadata": {
        "id": "9c44c739"
      },
      "source": [
        "## Обработка пропусков"
      ],
      "id": "9c44c739"
    },
    {
      "cell_type": "code",
      "execution_count": null,
      "metadata": {
        "colab": {
          "base_uri": "https://localhost:8080/"
        },
        "id": "W5RY3-1rvPDE",
        "outputId": "bcbed8bd-290a-4dca-8eea-bd3805371894"
      },
      "outputs": [
        {
          "name": "stdout",
          "output_type": "stream",
          "text": [
            "{}\n"
          ]
        }
      ],
      "source": [
        "# Посмотрим, по каким признакам есть пропуски и сколько их\n",
        "\n",
        "def get_nan_info(df):\n",
        "    nan_dict = {}\n",
        "    for i in df.columns:\n",
        "        nan_values = df[i].isna().sum()\n",
        "        if nan_values != 0:\n",
        "            nan_dict[i] = nan_values\n",
        "    print(nan_dict)\n",
        "            \n",
        "\n",
        "get_nan_info(train_df)"
      ],
      "id": "W5RY3-1rvPDE"
    },
    {
      "cell_type": "markdown",
      "metadata": {
        "id": "_6jW0VHBviz_"
      },
      "source": [
        "## Анализ признакового пространства"
      ],
      "id": "_6jW0VHBviz_"
    },
    {
      "cell_type": "code",
      "source": [
        "train_df.shape"
      ],
      "metadata": {
        "colab": {
          "base_uri": "https://localhost:8080/"
        },
        "id": "LmqwKVbsxK-7",
        "outputId": "76da7dd6-8d7c-45b7-dab5-458b8adb2485"
      },
      "id": "LmqwKVbsxK-7",
      "execution_count": null,
      "outputs": [
        {
          "output_type": "execute_result",
          "data": {
            "text/plain": [
              "(31698, 246)"
            ]
          },
          "metadata": {},
          "execution_count": 22
        }
      ]
    },
    {
      "cell_type": "code",
      "execution_count": null,
      "metadata": {
        "colab": {
          "base_uri": "https://localhost:8080/",
          "height": 674
        },
        "id": "GEpigayovtOO",
        "outputId": "215ff7bf-df23-40d5-9528-0081d3064dea"
      },
      "outputs": [
        {
          "data": {
            "image/svg+xml": "<?xml version=\"1.0\" encoding=\"utf-8\" standalone=\"no\"?>\n<!DOCTYPE svg PUBLIC \"-//W3C//DTD SVG 1.1//EN\"\n  \"http://www.w3.org/Graphics/SVG/1.1/DTD/svg11.dtd\">\n<svg xmlns:xlink=\"http://www.w3.org/1999/xlink\" width=\"714.151562pt\" height=\"489.71625pt\" viewBox=\"0 0 714.151562 489.71625\" xmlns=\"http://www.w3.org/2000/svg\" version=\"1.1\">\n <metadata>\n  <rdf:RDF xmlns:dc=\"http://purl.org/dc/elements/1.1/\" xmlns:cc=\"http://creativecommons.org/ns#\" xmlns:rdf=\"http://www.w3.org/1999/02/22-rdf-syntax-ns#\">\n   <cc:Work>\n    <dc:type rdf:resource=\"http://purl.org/dc/dcmitype/StillImage\"/>\n    <dc:date>2023-04-10T20:13:08.437617</dc:date>\n    <dc:format>image/svg+xml</dc:format>\n    <dc:creator>\n     <cc:Agent>\n      <dc:title>Matplotlib v3.7.1, https://matplotlib.org/</dc:title>\n     </cc:Agent>\n    </dc:creator>\n   </cc:Work>\n  </rdf:RDF>\n </metadata>\n <defs>\n  <style type=\"text/css\">*{stroke-linejoin: round; stroke-linecap: butt}</style>\n </defs>\n <g id=\"figure_1\">\n  <g id=\"patch_1\">\n   <path d=\"M 0 489.71625 \nL 714.151562 489.71625 \nL 714.151562 0 \nL 0 0 \nz\n\" style=\"fill: #ffffff\"/>\n  </g>\n  <g id=\"axes_1\">\n   <g id=\"patch_2\">\n    <path d=\"M 148.951562 465.838125 \nL 706.951563 465.838125 \nL 706.951563 22.318125 \nL 148.951562 22.318125 \nz\n\" style=\"fill: #ffffff\"/>\n   </g>\n   <g id=\"patch_3\">\n    <path d=\"M 386.562415 22.499154 \nL 681.587926 22.499154 \nL 681.587926 23.947382 \nL 386.562415 23.947382 \nz\n\" clip-path=\"url(#p37afe5aad8)\" style=\"fill: #ea96a3\"/>\n   </g>\n   <g id=\"patch_4\">\n    <path d=\"M 386.562415 24.309439 \nL 681.55595 24.309439 \nL 681.55595 25.757668 \nL 386.562415 25.757668 \nz\n\" clip-path=\"url(#p37afe5aad8)\" style=\"fill: #ea96a1\"/>\n   </g>\n   <g id=\"patch_5\">\n    <path d=\"M 386.562415 26.119725 \nL 681.458482 26.119725 \nL 681.458482 27.567954 \nL 386.562415 27.567954 \nz\n\" clip-path=\"url(#p37afe5aad8)\" style=\"fill: #ea969f\"/>\n   </g>\n   <g id=\"patch_6\">\n    <path d=\"M 386.562415 27.930011 \nL 681.368438 27.930011 \nL 681.368438 29.378239 \nL 386.562415 29.378239 \nz\n\" clip-path=\"url(#p37afe5aad8)\" style=\"fill: #ea979d\"/>\n   </g>\n   <g id=\"patch_7\">\n    <path d=\"M 386.562415 29.740296 \nL 681.199802 29.740296 \nL 681.199802 31.188525 \nL 386.562415 31.188525 \nz\n\" clip-path=\"url(#p37afe5aad8)\" style=\"fill: #ea979b\"/>\n   </g>\n   <g id=\"patch_8\">\n    <path d=\"M 386.562415 31.550582 \nL 676.705574 31.550582 \nL 676.705574 32.998811 \nL 386.562415 32.998811 \nz\n\" clip-path=\"url(#p37afe5aad8)\" style=\"fill: #ea9799\"/>\n   </g>\n   <g id=\"patch_9\">\n    <path d=\"M 386.562415 33.360868 \nL 676.315015 33.360868 \nL 676.315015 34.809096 \nL 386.562415 34.809096 \nz\n\" clip-path=\"url(#p37afe5aad8)\" style=\"fill: #ea9797\"/>\n   </g>\n   <g id=\"patch_10\">\n    <path d=\"M 386.562415 35.171154 \nL 676.137446 35.171154 \nL 676.137446 36.619382 \nL 386.562415 36.619382 \nz\n\" clip-path=\"url(#p37afe5aad8)\" style=\"fill: #ea9794\"/>\n   </g>\n   <g id=\"patch_11\">\n    <path d=\"M 386.562415 36.981439 \nL 674.099892 36.981439 \nL 674.099892 38.429668 \nL 386.562415 38.429668 \nz\n\" clip-path=\"url(#p37afe5aad8)\" style=\"fill: #e99791\"/>\n   </g>\n   <g id=\"patch_12\">\n    <path d=\"M 386.562415 38.791725 \nL 672.821071 38.791725 \nL 672.821071 40.239954 \nL 386.562415 40.239954 \nz\n\" clip-path=\"url(#p37afe5aad8)\" style=\"fill: #e9978e\"/>\n   </g>\n   <g id=\"patch_13\">\n    <path d=\"M 386.562415 40.602011 \nL 651.585659 40.602011 \nL 651.585659 42.050239 \nL 386.562415 42.050239 \nz\n\" clip-path=\"url(#p37afe5aad8)\" style=\"fill: #e8968b\"/>\n   </g>\n   <g id=\"patch_14\">\n    <path d=\"M 386.562415 42.412296 \nL 650.72388 42.412296 \nL 650.72388 43.860525 \nL 386.562415 43.860525 \nz\n\" clip-path=\"url(#p37afe5aad8)\" style=\"fill: #e89688\"/>\n   </g>\n   <g id=\"patch_15\">\n    <path d=\"M 386.562415 44.222582 \nL 649.112704 44.222582 \nL 649.112704 45.670811 \nL 386.562415 45.670811 \nz\n\" clip-path=\"url(#p37afe5aad8)\" style=\"fill: #e79684\"/>\n   </g>\n   <g id=\"patch_16\">\n    <path d=\"M 386.562415 46.032868 \nL 648.737008 46.032868 \nL 648.737008 47.481096 \nL 386.562415 47.481096 \nz\n\" clip-path=\"url(#p37afe5aad8)\" style=\"fill: #e79680\"/>\n   </g>\n   <g id=\"patch_17\">\n    <path d=\"M 386.562415 47.843154 \nL 644.019681 47.843154 \nL 644.019681 49.291382 \nL 386.562415 49.291382 \nz\n\" clip-path=\"url(#p37afe5aad8)\" style=\"fill: #e6957c\"/>\n   </g>\n   <g id=\"patch_18\">\n    <path d=\"M 386.562415 49.653439 \nL 640.052436 49.653439 \nL 640.052436 51.101668 \nL 386.562415 51.101668 \nz\n\" clip-path=\"url(#p37afe5aad8)\" style=\"fill: #e69577\"/>\n   </g>\n   <g id=\"patch_19\">\n    <path d=\"M 386.562415 51.463725 \nL 639.681942 51.463725 \nL 639.681942 52.911954 \nL 386.562415 52.911954 \nz\n\" clip-path=\"url(#p37afe5aad8)\" style=\"fill: #e59472\"/>\n   </g>\n   <g id=\"patch_20\">\n    <path d=\"M 386.562415 53.274011 \nL 634.645276 53.274011 \nL 634.645276 54.722239 \nL 386.562415 54.722239 \nz\n\" clip-path=\"url(#p37afe5aad8)\" style=\"fill: #e4946d\"/>\n   </g>\n   <g id=\"patch_21\">\n    <path d=\"M 386.562415 55.084296 \nL 631.992002 55.084296 \nL 631.992002 56.532525 \nL 386.562415 56.532525 \nz\n\" clip-path=\"url(#p37afe5aad8)\" style=\"fill: #e39367\"/>\n   </g>\n   <g id=\"patch_22\">\n    <path d=\"M 386.562415 56.894582 \nL 626.152324 56.894582 \nL 626.152324 58.342811 \nL 386.562415 58.342811 \nz\n\" clip-path=\"url(#p37afe5aad8)\" style=\"fill: #e2935f\"/>\n   </g>\n   <g id=\"patch_23\">\n    <path d=\"M 386.562415 58.704868 \nL 539.562171 58.704868 \nL 539.562171 60.153096 \nL 386.562415 60.153096 \nz\n\" clip-path=\"url(#p37afe5aad8)\" style=\"fill: #e19257\"/>\n   </g>\n   <g id=\"patch_24\">\n    <path d=\"M 386.562415 60.515154 \nL 539.357915 60.515154 \nL 539.357915 61.963382 \nL 386.562415 61.963382 \nz\n\" clip-path=\"url(#p37afe5aad8)\" style=\"fill: #e0914f\"/>\n   </g>\n   <g id=\"patch_25\">\n    <path d=\"M 386.562415 62.325439 \nL 538.046803 62.325439 \nL 538.046803 63.773668 \nL 386.562415 63.773668 \nz\n\" clip-path=\"url(#p37afe5aad8)\" style=\"fill: #dd924f\"/>\n   </g>\n   <g id=\"patch_26\">\n    <path d=\"M 386.562415 64.135725 \nL 532.895983 64.135725 \nL 532.895983 65.583954 \nL 386.562415 65.583954 \nz\n\" clip-path=\"url(#p37afe5aad8)\" style=\"fill: #da934e\"/>\n   </g>\n   <g id=\"patch_27\">\n    <path d=\"M 386.562415 65.946011 \nL 528.202852 65.946011 \nL 528.202852 67.394239 \nL 386.562415 67.394239 \nz\n\" clip-path=\"url(#p37afe5aad8)\" style=\"fill: #d8944e\"/>\n   </g>\n   <g id=\"patch_28\">\n    <path d=\"M 386.562415 67.756296 \nL 522.38195 67.756296 \nL 522.38195 69.204525 \nL 386.562415 69.204525 \nz\n\" clip-path=\"url(#p37afe5aad8)\" style=\"fill: #d6944e\"/>\n   </g>\n   <g id=\"patch_29\">\n    <path d=\"M 386.562415 69.566582 \nL 517.737166 69.566582 \nL 517.737166 71.014811 \nL 386.562415 71.014811 \nz\n\" clip-path=\"url(#p37afe5aad8)\" style=\"fill: #d4954d\"/>\n   </g>\n   <g id=\"patch_30\">\n    <path d=\"M 386.562415 71.376868 \nL 517.588696 71.376868 \nL 517.588696 72.825096 \nL 386.562415 72.825096 \nz\n\" clip-path=\"url(#p37afe5aad8)\" style=\"fill: #d1964d\"/>\n   </g>\n   <g id=\"patch_31\">\n    <path d=\"M 386.562415 73.187154 \nL 516.85397 73.187154 \nL 516.85397 74.635382 \nL 386.562415 74.635382 \nz\n\" clip-path=\"url(#p37afe5aad8)\" style=\"fill: #cf964d\"/>\n   </g>\n   <g id=\"patch_32\">\n    <path d=\"M 386.562415 74.997439 \nL 509.574834 74.997439 \nL 509.574834 76.445668 \nL 386.562415 76.445668 \nz\n\" clip-path=\"url(#p37afe5aad8)\" style=\"fill: #cd974c\"/>\n   </g>\n   <g id=\"patch_33\">\n    <path d=\"M 386.562415 76.807725 \nL 506.901151 76.807725 \nL 506.901151 78.255954 \nL 386.562415 78.255954 \nz\n\" clip-path=\"url(#p37afe5aad8)\" style=\"fill: #cb974c\"/>\n   </g>\n   <g id=\"patch_34\">\n    <path d=\"M 386.562415 78.618011 \nL 505.495626 78.618011 \nL 505.495626 80.066239 \nL 386.562415 80.066239 \nz\n\" clip-path=\"url(#p37afe5aad8)\" style=\"fill: #ca984c\"/>\n   </g>\n   <g id=\"patch_35\">\n    <path d=\"M 386.562415 80.428296 \nL 504.690303 80.428296 \nL 504.690303 81.876525 \nL 386.562415 81.876525 \nz\n\" clip-path=\"url(#p37afe5aad8)\" style=\"fill: #c8984b\"/>\n   </g>\n   <g id=\"patch_36\">\n    <path d=\"M 386.562415 82.238582 \nL 499.989072 82.238582 \nL 499.989072 83.686811 \nL 386.562415 83.686811 \nz\n\" clip-path=\"url(#p37afe5aad8)\" style=\"fill: #c6994b\"/>\n   </g>\n   <g id=\"patch_37\">\n    <path d=\"M 386.562415 84.048868 \nL 498.676683 84.048868 \nL 498.676683 85.497096 \nL 386.562415 85.497096 \nz\n\" clip-path=\"url(#p37afe5aad8)\" style=\"fill: #c4994b\"/>\n   </g>\n   <g id=\"patch_38\">\n    <path d=\"M 386.562415 85.859154 \nL 497.851447 85.859154 \nL 497.851447 87.307382 \nL 386.562415 87.307382 \nz\n\" clip-path=\"url(#p37afe5aad8)\" style=\"fill: #c29a4b\"/>\n   </g>\n   <g id=\"patch_39\">\n    <path d=\"M 386.562415 87.669439 \nL 487.375257 87.669439 \nL 487.375257 89.117668 \nL 386.562415 89.117668 \nz\n\" clip-path=\"url(#p37afe5aad8)\" style=\"fill: #c19a4a\"/>\n   </g>\n   <g id=\"patch_40\">\n    <path d=\"M 386.562415 89.479725 \nL 487.01705 89.479725 \nL 487.01705 90.927954 \nL 386.562415 90.927954 \nz\n\" clip-path=\"url(#p37afe5aad8)\" style=\"fill: #bf9a4a\"/>\n   </g>\n   <g id=\"patch_41\">\n    <path d=\"M 386.562415 91.290011 \nL 486.001191 91.290011 \nL 486.001191 92.738239 \nL 386.562415 92.738239 \nz\n\" clip-path=\"url(#p37afe5aad8)\" style=\"fill: #bd9b4a\"/>\n   </g>\n   <g id=\"patch_42\">\n    <path d=\"M 386.562415 93.100296 \nL 485.339368 93.100296 \nL 485.339368 94.548525 \nL 386.562415 94.548525 \nz\n\" clip-path=\"url(#p37afe5aad8)\" style=\"fill: #bc9b4a\"/>\n   </g>\n   <g id=\"patch_43\">\n    <path d=\"M 386.562415 94.910582 \nL 483.984337 94.910582 \nL 483.984337 96.358811 \nL 386.562415 96.358811 \nz\n\" clip-path=\"url(#p37afe5aad8)\" style=\"fill: #ba9b49\"/>\n   </g>\n   <g id=\"patch_44\">\n    <path d=\"M 386.562415 96.720868 \nL 483.104799 96.720868 \nL 483.104799 98.169096 \nL 386.562415 98.169096 \nz\n\" clip-path=\"url(#p37afe5aad8)\" style=\"fill: #b89c49\"/>\n   </g>\n   <g id=\"patch_45\">\n    <path d=\"M 386.562415 98.531154 \nL 482.743185 98.531154 \nL 482.743185 99.979382 \nL 386.562415 99.979382 \nz\n\" clip-path=\"url(#p37afe5aad8)\" style=\"fill: #b79c49\"/>\n   </g>\n   <g id=\"patch_46\">\n    <path d=\"M 386.562415 100.341439 \nL 480.593107 100.341439 \nL 480.593107 101.789668 \nL 386.562415 101.789668 \nz\n\" clip-path=\"url(#p37afe5aad8)\" style=\"fill: #b59c49\"/>\n   </g>\n   <g id=\"patch_47\">\n    <path d=\"M 386.562415 102.151725 \nL 476.965211 102.151725 \nL 476.965211 103.599954 \nL 386.562415 103.599954 \nz\n\" clip-path=\"url(#p37afe5aad8)\" style=\"fill: #b39d48\"/>\n   </g>\n   <g id=\"patch_48\">\n    <path d=\"M 386.562415 103.962011 \nL 474.89734 103.962011 \nL 474.89734 105.410239 \nL 386.562415 105.410239 \nz\n\" clip-path=\"url(#p37afe5aad8)\" style=\"fill: #b29d48\"/>\n   </g>\n   <g id=\"patch_49\">\n    <path d=\"M 386.562415 105.772296 \nL 473.936397 105.772296 \nL 473.936397 107.220525 \nL 386.562415 107.220525 \nz\n\" clip-path=\"url(#p37afe5aad8)\" style=\"fill: #b09d48\"/>\n   </g>\n   <g id=\"patch_50\">\n    <path d=\"M 386.562415 107.582582 \nL 472.9979 107.582582 \nL 472.9979 109.030811 \nL 386.562415 109.030811 \nz\n\" clip-path=\"url(#p37afe5aad8)\" style=\"fill: #af9d48\"/>\n   </g>\n   <g id=\"patch_51\">\n    <path d=\"M 386.562415 109.392868 \nL 470.23014 109.392868 \nL 470.23014 110.841096 \nL 386.562415 110.841096 \nz\n\" clip-path=\"url(#p37afe5aad8)\" style=\"fill: #ad9e47\"/>\n   </g>\n   <g id=\"patch_52\">\n    <path d=\"M 386.562415 111.203154 \nL 468.386642 111.203154 \nL 468.386642 112.651382 \nL 386.562415 112.651382 \nz\n\" clip-path=\"url(#p37afe5aad8)\" style=\"fill: #ab9e47\"/>\n   </g>\n   <g id=\"patch_53\">\n    <path d=\"M 386.562415 113.013439 \nL 459.514945 113.013439 \nL 459.514945 114.461668 \nL 386.562415 114.461668 \nz\n\" clip-path=\"url(#p37afe5aad8)\" style=\"fill: #aa9e47\"/>\n   </g>\n   <g id=\"patch_54\">\n    <path d=\"M 386.562415 114.823725 \nL 458.729911 114.823725 \nL 458.729911 116.271954 \nL 386.562415 116.271954 \nz\n\" clip-path=\"url(#p37afe5aad8)\" style=\"fill: #a89e47\"/>\n   </g>\n   <g id=\"patch_55\">\n    <path d=\"M 386.562415 116.634011 \nL 457.510239 116.634011 \nL 457.510239 118.082239 \nL 386.562415 118.082239 \nz\n\" clip-path=\"url(#p37afe5aad8)\" style=\"fill: #a69f46\"/>\n   </g>\n   <g id=\"patch_56\">\n    <path d=\"M 386.562415 118.444296 \nL 455.069398 118.444296 \nL 455.069398 119.892525 \nL 386.562415 119.892525 \nz\n\" clip-path=\"url(#p37afe5aad8)\" style=\"fill: #a59f46\"/>\n   </g>\n   <g id=\"patch_57\">\n    <path d=\"M 386.562415 120.254582 \nL 453.565944 120.254582 \nL 453.565944 121.702811 \nL 386.562415 121.702811 \nz\n\" clip-path=\"url(#p37afe5aad8)\" style=\"fill: #a39f46\"/>\n   </g>\n   <g id=\"patch_58\">\n    <path d=\"M 386.562415 122.064868 \nL 453.033109 122.064868 \nL 453.033109 123.513096 \nL 386.562415 123.513096 \nz\n\" clip-path=\"url(#p37afe5aad8)\" style=\"fill: #a19f46\"/>\n   </g>\n   <g id=\"patch_59\">\n    <path d=\"M 386.562415 123.875154 \nL 452.841285 123.875154 \nL 452.841285 125.323382 \nL 386.562415 125.323382 \nz\n\" clip-path=\"url(#p37afe5aad8)\" style=\"fill: #a09f45\"/>\n   </g>\n   <g id=\"patch_60\">\n    <path d=\"M 386.562415 125.685439 \nL 452.709861 125.685439 \nL 452.709861 127.133668 \nL 386.562415 127.133668 \nz\n\" clip-path=\"url(#p37afe5aad8)\" style=\"fill: #9ea045\"/>\n   </g>\n   <g id=\"patch_61\">\n    <path d=\"M 386.562415 127.495725 \nL 449.267657 127.495725 \nL 449.267657 128.943954 \nL 386.562415 128.943954 \nz\n\" clip-path=\"url(#p37afe5aad8)\" style=\"fill: #9da045\"/>\n   </g>\n   <g id=\"patch_62\">\n    <path d=\"M 386.562415 129.306011 \nL 448.648147 129.306011 \nL 448.648147 130.754239 \nL 386.562415 130.754239 \nz\n\" clip-path=\"url(#p37afe5aad8)\" style=\"fill: #9ba146\"/>\n   </g>\n   <g id=\"patch_63\">\n    <path d=\"M 386.562415 131.116296 \nL 442.270238 131.116296 \nL 442.270238 132.564525 \nL 386.562415 132.564525 \nz\n\" clip-path=\"url(#p37afe5aad8)\" style=\"fill: #9aa146\"/>\n   </g>\n   <g id=\"patch_64\">\n    <path d=\"M 386.562415 132.926582 \nL 437.511864 132.926582 \nL 437.511864 134.374811 \nL 386.562415 134.374811 \nz\n\" clip-path=\"url(#p37afe5aad8)\" style=\"fill: #98a246\"/>\n   </g>\n   <g id=\"patch_65\">\n    <path d=\"M 386.562415 134.736868 \nL 436.94611 134.736868 \nL 436.94611 136.185096 \nL 386.562415 136.185096 \nz\n\" clip-path=\"url(#p37afe5aad8)\" style=\"fill: #97a246\"/>\n   </g>\n   <g id=\"patch_66\">\n    <path d=\"M 386.562415 136.547154 \nL 434.804844 136.547154 \nL 434.804844 137.995382 \nL 386.562415 137.995382 \nz\n\" clip-path=\"url(#p37afe5aad8)\" style=\"fill: #95a346\"/>\n   </g>\n   <g id=\"patch_67\">\n    <path d=\"M 386.562415 138.357439 \nL 433.934971 138.357439 \nL 433.934971 139.805668 \nL 386.562415 139.805668 \nz\n\" clip-path=\"url(#p37afe5aad8)\" style=\"fill: #93a346\"/>\n   </g>\n   <g id=\"patch_68\">\n    <path d=\"M 386.562415 140.167725 \nL 433.336373 140.167725 \nL 433.336373 141.615954 \nL 386.562415 141.615954 \nz\n\" clip-path=\"url(#p37afe5aad8)\" style=\"fill: #92a446\"/>\n   </g>\n   <g id=\"patch_69\">\n    <path d=\"M 386.562415 141.978011 \nL 431.708297 141.978011 \nL 431.708297 143.426239 \nL 386.562415 143.426239 \nz\n\" clip-path=\"url(#p37afe5aad8)\" style=\"fill: #90a546\"/>\n   </g>\n   <g id=\"patch_70\">\n    <path d=\"M 386.562415 143.788296 \nL 430.853941 143.788296 \nL 430.853941 145.236525 \nL 386.562415 145.236525 \nz\n\" clip-path=\"url(#p37afe5aad8)\" style=\"fill: #8ea546\"/>\n   </g>\n   <g id=\"patch_71\">\n    <path d=\"M 386.562415 145.598582 \nL 430.313233 145.598582 \nL 430.313233 147.046811 \nL 386.562415 147.046811 \nz\n\" clip-path=\"url(#p37afe5aad8)\" style=\"fill: #8ca646\"/>\n   </g>\n   <g id=\"patch_72\">\n    <path d=\"M 386.562415 147.408868 \nL 428.73844 147.408868 \nL 428.73844 148.857096 \nL 386.562415 148.857096 \nz\n\" clip-path=\"url(#p37afe5aad8)\" style=\"fill: #8aa646\"/>\n   </g>\n   <g id=\"patch_73\">\n    <path d=\"M 386.562415 149.219154 \nL 426.632775 149.219154 \nL 426.632775 150.667382 \nL 386.562415 150.667382 \nz\n\" clip-path=\"url(#p37afe5aad8)\" style=\"fill: #88a746\"/>\n   </g>\n   <g id=\"patch_74\">\n    <path d=\"M 386.562415 151.029439 \nL 426.000628 151.029439 \nL 426.000628 152.477668 \nL 386.562415 152.477668 \nz\n\" clip-path=\"url(#p37afe5aad8)\" style=\"fill: #85a746\"/>\n   </g>\n   <g id=\"patch_75\">\n    <path d=\"M 386.562415 152.839725 \nL 425.833265 152.839725 \nL 425.833265 154.287954 \nL 386.562415 154.287954 \nz\n\" clip-path=\"url(#p37afe5aad8)\" style=\"fill: #83a846\"/>\n   </g>\n   <g id=\"patch_76\">\n    <path d=\"M 386.562415 154.650011 \nL 424.088358 154.650011 \nL 424.088358 156.098239 \nL 386.562415 156.098239 \nz\n\" clip-path=\"url(#p37afe5aad8)\" style=\"fill: #81a846\"/>\n   </g>\n   <g id=\"patch_77\">\n    <path d=\"M 386.562415 156.460296 \nL 423.684595 156.460296 \nL 423.684595 157.908525 \nL 386.562415 157.908525 \nz\n\" clip-path=\"url(#p37afe5aad8)\" style=\"fill: #7ea947\"/>\n   </g>\n   <g id=\"patch_78\">\n    <path d=\"M 386.562415 158.270582 \nL 423.556002 158.270582 \nL 423.556002 159.718811 \nL 386.562415 159.718811 \nz\n\" clip-path=\"url(#p37afe5aad8)\" style=\"fill: #7baa47\"/>\n   </g>\n   <g id=\"patch_79\">\n    <path d=\"M 386.562415 160.080868 \nL 420.731614 160.080868 \nL 420.731614 161.529096 \nL 386.562415 161.529096 \nz\n\" clip-path=\"url(#p37afe5aad8)\" style=\"fill: #78aa47\"/>\n   </g>\n   <g id=\"patch_80\">\n    <path d=\"M 386.562415 161.891154 \nL 419.687808 161.891154 \nL 419.687808 163.339382 \nL 386.562415 163.339382 \nz\n\" clip-path=\"url(#p37afe5aad8)\" style=\"fill: #75ab47\"/>\n   </g>\n   <g id=\"patch_81\">\n    <path d=\"M 386.562415 163.701439 \nL 418.540367 163.701439 \nL 418.540367 165.149668 \nL 386.562415 165.149668 \nz\n\" clip-path=\"url(#p37afe5aad8)\" style=\"fill: #71ac47\"/>\n   </g>\n   <g id=\"patch_82\">\n    <path d=\"M 386.562415 165.511725 \nL 417.470875 165.511725 \nL 417.470875 166.959954 \nL 386.562415 166.959954 \nz\n\" clip-path=\"url(#p37afe5aad8)\" style=\"fill: #6dac47\"/>\n   </g>\n   <g id=\"patch_83\">\n    <path d=\"M 386.562415 167.322011 \nL 412.619529 167.322011 \nL 412.619529 168.770239 \nL 386.562415 168.770239 \nz\n\" clip-path=\"url(#p37afe5aad8)\" style=\"fill: #69ad47\"/>\n   </g>\n   <g id=\"patch_84\">\n    <path d=\"M 386.562415 169.132296 \nL 410.474115 169.132296 \nL 410.474115 170.580525 \nL 386.562415 170.580525 \nz\n\" clip-path=\"url(#p37afe5aad8)\" style=\"fill: #64ae47\"/>\n   </g>\n   <g id=\"patch_85\">\n    <path d=\"M 386.562415 170.942582 \nL 410.233431 170.942582 \nL 410.233431 172.390811 \nL 386.562415 172.390811 \nz\n\" clip-path=\"url(#p37afe5aad8)\" style=\"fill: #5eaf47\"/>\n   </g>\n   <g id=\"patch_86\">\n    <path d=\"M 386.562415 172.752868 \nL 409.911817 172.752868 \nL 409.911817 174.201096 \nL 386.562415 174.201096 \nz\n\" clip-path=\"url(#p37afe5aad8)\" style=\"fill: #57af47\"/>\n   </g>\n   <g id=\"patch_87\">\n    <path d=\"M 386.562415 174.563154 \nL 409.424501 174.563154 \nL 409.424501 176.011382 \nL 386.562415 176.011382 \nz\n\" clip-path=\"url(#p37afe5aad8)\" style=\"fill: #4fb047\"/>\n   </g>\n   <g id=\"patch_88\">\n    <path d=\"M 386.562415 176.373439 \nL 408.335622 176.373439 \nL 408.335622 177.821668 \nL 386.562415 177.821668 \nz\n\" clip-path=\"url(#p37afe5aad8)\" style=\"fill: #48b14b\"/>\n   </g>\n   <g id=\"patch_89\">\n    <path d=\"M 386.562415 178.183725 \nL 408.027957 178.183725 \nL 408.027957 179.631954 \nL 386.562415 179.631954 \nz\n\" clip-path=\"url(#p37afe5aad8)\" style=\"fill: #48b054\"/>\n   </g>\n   <g id=\"patch_90\">\n    <path d=\"M 386.562415 179.994011 \nL 406.400343 179.994011 \nL 406.400343 181.442239 \nL 386.562415 181.442239 \nz\n\" clip-path=\"url(#p37afe5aad8)\" style=\"fill: #48b05b\"/>\n   </g>\n   <g id=\"patch_91\">\n    <path d=\"M 386.562415 181.804296 \nL 406.219506 181.804296 \nL 406.219506 183.252525 \nL 386.562415 183.252525 \nz\n\" clip-path=\"url(#p37afe5aad8)\" style=\"fill: #48b061\"/>\n   </g>\n   <g id=\"patch_92\">\n    <path d=\"M 386.562415 183.614582 \nL 405.70578 183.614582 \nL 405.70578 185.062811 \nL 386.562415 185.062811 \nz\n\" clip-path=\"url(#p37afe5aad8)\" style=\"fill: #48b067\"/>\n   </g>\n   <g id=\"patch_93\">\n    <path d=\"M 386.562415 185.424868 \nL 405.425838 185.424868 \nL 405.425838 186.873096 \nL 386.562415 186.873096 \nz\n\" clip-path=\"url(#p37afe5aad8)\" style=\"fill: #48af6b\"/>\n   </g>\n   <g id=\"patch_94\">\n    <path d=\"M 386.562415 187.235154 \nL 404.433302 187.235154 \nL 404.433302 188.683382 \nL 386.562415 188.683382 \nz\n\" clip-path=\"url(#p37afe5aad8)\" style=\"fill: #48af6f\"/>\n   </g>\n   <g id=\"patch_95\">\n    <path d=\"M 386.562415 189.045439 \nL 403.686512 189.045439 \nL 403.686512 190.493668 \nL 386.562415 190.493668 \nz\n\" clip-path=\"url(#p37afe5aad8)\" style=\"fill: #49af73\"/>\n   </g>\n   <g id=\"patch_96\">\n    <path d=\"M 386.562415 190.855725 \nL 403.65667 190.855725 \nL 403.65667 192.303954 \nL 386.562415 192.303954 \nz\n\" clip-path=\"url(#p37afe5aad8)\" style=\"fill: #49af76\"/>\n   </g>\n   <g id=\"patch_97\">\n    <path d=\"M 386.562415 192.666011 \nL 403.538578 192.666011 \nL 403.538578 194.114239 \nL 386.562415 194.114239 \nz\n\" clip-path=\"url(#p37afe5aad8)\" style=\"fill: #49af79\"/>\n   </g>\n   <g id=\"patch_98\">\n    <path d=\"M 386.562415 194.476296 \nL 403.208317 194.476296 \nL 403.208317 195.924525 \nL 386.562415 195.924525 \nz\n\" clip-path=\"url(#p37afe5aad8)\" style=\"fill: #49af7b\"/>\n   </g>\n   <g id=\"patch_99\">\n    <path d=\"M 386.562415 196.286582 \nL 402.737545 196.286582 \nL 402.737545 197.734811 \nL 386.562415 197.734811 \nz\n\" clip-path=\"url(#p37afe5aad8)\" style=\"fill: #49ae7e\"/>\n   </g>\n   <g id=\"patch_100\">\n    <path d=\"M 386.562415 198.096868 \nL 402.63562 198.096868 \nL 402.63562 199.545096 \nL 386.562415 199.545096 \nz\n\" clip-path=\"url(#p37afe5aad8)\" style=\"fill: #49ae80\"/>\n   </g>\n   <g id=\"patch_101\">\n    <path d=\"M 386.562415 199.907154 \nL 402.309715 199.907154 \nL 402.309715 201.355382 \nL 386.562415 201.355382 \nz\n\" clip-path=\"url(#p37afe5aad8)\" style=\"fill: #49ae83\"/>\n   </g>\n   <g id=\"patch_102\">\n    <path d=\"M 386.562415 201.717439 \nL 401.452677 201.717439 \nL 401.452677 203.165668 \nL 386.562415 203.165668 \nz\n\" clip-path=\"url(#p37afe5aad8)\" style=\"fill: #49ae85\"/>\n   </g>\n   <g id=\"patch_103\">\n    <path d=\"M 386.562415 203.527725 \nL 398.761133 203.527725 \nL 398.761133 204.975954 \nL 386.562415 204.975954 \nz\n\" clip-path=\"url(#p37afe5aad8)\" style=\"fill: #49ae87\"/>\n   </g>\n   <g id=\"patch_104\">\n    <path d=\"M 386.562415 205.338011 \nL 398.744105 205.338011 \nL 398.744105 206.786239 \nL 386.562415 206.786239 \nz\n\" clip-path=\"url(#p37afe5aad8)\" style=\"fill: #49ae88\"/>\n   </g>\n   <g id=\"patch_105\">\n    <path d=\"M 386.562415 207.148296 \nL 396.040719 207.148296 \nL 396.040719 208.596525 \nL 386.562415 208.596525 \nz\n\" clip-path=\"url(#p37afe5aad8)\" style=\"fill: #4aae8a\"/>\n   </g>\n   <g id=\"patch_106\">\n    <path d=\"M 386.562415 208.958582 \nL 395.771951 208.958582 \nL 395.771951 210.406811 \nL 386.562415 210.406811 \nz\n\" clip-path=\"url(#p37afe5aad8)\" style=\"fill: #4aad8c\"/>\n   </g>\n   <g id=\"patch_107\">\n    <path d=\"M 386.562415 210.768868 \nL 395.436756 210.768868 \nL 395.436756 212.217096 \nL 386.562415 212.217096 \nz\n\" clip-path=\"url(#p37afe5aad8)\" style=\"fill: #4aad8e\"/>\n   </g>\n   <g id=\"patch_108\">\n    <path d=\"M 386.562415 212.579154 \nL 394.778966 212.579154 \nL 394.778966 214.027382 \nL 386.562415 214.027382 \nz\n\" clip-path=\"url(#p37afe5aad8)\" style=\"fill: #4aad8f\"/>\n   </g>\n   <g id=\"patch_109\">\n    <path d=\"M 386.562415 214.389439 \nL 394.74192 214.389439 \nL 394.74192 215.837668 \nL 386.562415 215.837668 \nz\n\" clip-path=\"url(#p37afe5aad8)\" style=\"fill: #4aad91\"/>\n   </g>\n   <g id=\"patch_110\">\n    <path d=\"M 386.562415 216.199725 \nL 394.468186 216.199725 \nL 394.468186 217.647954 \nL 386.562415 217.647954 \nz\n\" clip-path=\"url(#p37afe5aad8)\" style=\"fill: #4aad92\"/>\n   </g>\n   <g id=\"patch_111\">\n    <path d=\"M 386.562415 218.010011 \nL 393.724258 218.010011 \nL 393.724258 219.458239 \nL 386.562415 219.458239 \nz\n\" clip-path=\"url(#p37afe5aad8)\" style=\"fill: #4aad93\"/>\n   </g>\n   <g id=\"patch_112\">\n    <path d=\"M 386.562415 219.820296 \nL 390.951745 219.820296 \nL 390.951745 221.268525 \nL 386.562415 221.268525 \nz\n\" clip-path=\"url(#p37afe5aad8)\" style=\"fill: #4aad95\"/>\n   </g>\n   <g id=\"patch_113\">\n    <path d=\"M 386.562415 221.630582 \nL 390.874618 221.630582 \nL 390.874618 223.078811 \nL 386.562415 223.078811 \nz\n\" clip-path=\"url(#p37afe5aad8)\" style=\"fill: #4aad96\"/>\n   </g>\n   <g id=\"patch_114\">\n    <path d=\"M 386.562415 223.440868 \nL 390.660333 223.440868 \nL 390.660333 224.889096 \nL 386.562415 224.889096 \nz\n\" clip-path=\"url(#p37afe5aad8)\" style=\"fill: #4aac97\"/>\n   </g>\n   <g id=\"patch_115\">\n    <path d=\"M 386.562415 225.251154 \nL 390.600595 225.251154 \nL 390.600595 226.699382 \nL 386.562415 226.699382 \nz\n\" clip-path=\"url(#p37afe5aad8)\" style=\"fill: #4aac99\"/>\n   </g>\n   <g id=\"patch_116\">\n    <path d=\"M 386.562415 227.061439 \nL 390.266829 227.061439 \nL 390.266829 228.509668 \nL 386.562415 228.509668 \nz\n\" clip-path=\"url(#p37afe5aad8)\" style=\"fill: #4aac9a\"/>\n   </g>\n   <g id=\"patch_117\">\n    <path d=\"M 386.562415 228.871725 \nL 389.894072 228.871725 \nL 389.894072 230.319954 \nL 386.562415 230.319954 \nz\n\" clip-path=\"url(#p37afe5aad8)\" style=\"fill: #4aac9b\"/>\n   </g>\n   <g id=\"patch_118\">\n    <path d=\"M 386.562415 230.682011 \nL 388.861063 230.682011 \nL 388.861063 232.130239 \nL 386.562415 232.130239 \nz\n\" clip-path=\"url(#p37afe5aad8)\" style=\"fill: #4aac9c\"/>\n   </g>\n   <g id=\"patch_119\">\n    <path d=\"M 386.562415 232.492296 \nL 388.355258 232.492296 \nL 388.355258 233.940525 \nL 386.562415 233.940525 \nz\n\" clip-path=\"url(#p37afe5aad8)\" style=\"fill: #4bac9d\"/>\n   </g>\n   <g id=\"patch_120\">\n    <path d=\"M 386.562415 234.302582 \nL 388.287637 234.302582 \nL 388.287637 235.750811 \nL 386.562415 235.750811 \nz\n\" clip-path=\"url(#p37afe5aad8)\" style=\"fill: #4bac9e\"/>\n   </g>\n   <g id=\"patch_121\">\n    <path d=\"M 386.562415 236.112868 \nL 386.987914 236.112868 \nL 386.987914 237.561096 \nL 386.562415 237.561096 \nz\n\" clip-path=\"url(#p37afe5aad8)\" style=\"fill: #4bac9f\"/>\n   </g>\n   <g id=\"patch_122\">\n    <path d=\"M 386.562415 237.923154 \nL 386.638136 237.923154 \nL 386.638136 239.371382 \nL 386.562415 239.371382 \nz\n\" clip-path=\"url(#p37afe5aad8)\" style=\"fill: #4baca1\"/>\n   </g>\n   <g id=\"patch_123\">\n    <path d=\"M 386.562415 239.733439 \nL 385.935507 239.733439 \nL 385.935507 241.181668 \nL 386.562415 241.181668 \nz\n\" clip-path=\"url(#p37afe5aad8)\" style=\"fill: #4baba2\"/>\n   </g>\n   <g id=\"patch_124\">\n    <path d=\"M 386.562415 241.543725 \nL 382.728886 241.543725 \nL 382.728886 242.991954 \nL 386.562415 242.991954 \nz\n\" clip-path=\"url(#p37afe5aad8)\" style=\"fill: #4baba3\"/>\n   </g>\n   <g id=\"patch_125\">\n    <path d=\"M 386.562415 243.354011 \nL 382.508982 243.354011 \nL 382.508982 244.802239 \nL 386.562415 244.802239 \nz\n\" clip-path=\"url(#p37afe5aad8)\" style=\"fill: #4baba4\"/>\n   </g>\n   <g id=\"patch_126\">\n    <path d=\"M 386.562415 245.164296 \nL 381.6535 245.164296 \nL 381.6535 246.612525 \nL 386.562415 246.612525 \nz\n\" clip-path=\"url(#p37afe5aad8)\" style=\"fill: #4baba5\"/>\n   </g>\n   <g id=\"patch_127\">\n    <path d=\"M 386.562415 246.974582 \nL 380.498988 246.974582 \nL 380.498988 248.422811 \nL 386.562415 248.422811 \nz\n\" clip-path=\"url(#p37afe5aad8)\" style=\"fill: #4baba6\"/>\n   </g>\n   <g id=\"patch_128\">\n    <path d=\"M 386.562415 248.784868 \nL 380.019303 248.784868 \nL 380.019303 250.233096 \nL 386.562415 250.233096 \nz\n\" clip-path=\"url(#p37afe5aad8)\" style=\"fill: #4baba7\"/>\n   </g>\n   <g id=\"patch_129\">\n    <path d=\"M 386.562415 250.595154 \nL 379.822564 250.595154 \nL 379.822564 252.043382 \nL 386.562415 252.043382 \nz\n\" clip-path=\"url(#p37afe5aad8)\" style=\"fill: #4baba8\"/>\n   </g>\n   <g id=\"patch_130\">\n    <path d=\"M 386.562415 252.405439 \nL 378.852774 252.405439 \nL 378.852774 253.853668 \nL 386.562415 253.853668 \nz\n\" clip-path=\"url(#p37afe5aad8)\" style=\"fill: #4baba9\"/>\n   </g>\n   <g id=\"patch_131\">\n    <path d=\"M 386.562415 254.215725 \nL 378.827856 254.215725 \nL 378.827856 255.663954 \nL 386.562415 255.663954 \nz\n\" clip-path=\"url(#p37afe5aad8)\" style=\"fill: #4babaa\"/>\n   </g>\n   <g id=\"patch_132\">\n    <path d=\"M 386.562415 256.026011 \nL 378.170197 256.026011 \nL 378.170197 257.474239 \nL 386.562415 257.474239 \nz\n\" clip-path=\"url(#p37afe5aad8)\" style=\"fill: #4babab\"/>\n   </g>\n   <g id=\"patch_133\">\n    <path d=\"M 386.562415 257.836296 \nL 376.251505 257.836296 \nL 376.251505 259.284525 \nL 386.562415 259.284525 \nz\n\" clip-path=\"url(#p37afe5aad8)\" style=\"fill: #4cabac\"/>\n   </g>\n   <g id=\"patch_134\">\n    <path d=\"M 386.562415 259.646582 \nL 374.022982 259.646582 \nL 374.022982 261.094811 \nL 386.562415 261.094811 \nz\n\" clip-path=\"url(#p37afe5aad8)\" style=\"fill: #4cabad\"/>\n   </g>\n   <g id=\"patch_135\">\n    <path d=\"M 386.562415 261.456868 \nL 373.827026 261.456868 \nL 373.827026 262.905096 \nL 386.562415 262.905096 \nz\n\" clip-path=\"url(#p37afe5aad8)\" style=\"fill: #4cabae\"/>\n   </g>\n   <g id=\"patch_136\">\n    <path d=\"M 386.562415 263.267154 \nL 373.5722 263.267154 \nL 373.5722 264.715382 \nL 386.562415 264.715382 \nz\n\" clip-path=\"url(#p37afe5aad8)\" style=\"fill: #4cabb0\"/>\n   </g>\n   <g id=\"patch_137\">\n    <path d=\"M 386.562415 265.077439 \nL 372.804828 265.077439 \nL 372.804828 266.525668 \nL 386.562415 266.525668 \nz\n\" clip-path=\"url(#p37afe5aad8)\" style=\"fill: #4dabb1\"/>\n   </g>\n   <g id=\"patch_138\">\n    <path d=\"M 386.562415 266.887725 \nL 371.211911 266.887725 \nL 371.211911 268.335954 \nL 386.562415 268.335954 \nz\n\" clip-path=\"url(#p37afe5aad8)\" style=\"fill: #4dabb2\"/>\n   </g>\n   <g id=\"patch_139\">\n    <path d=\"M 386.562415 268.698011 \nL 371.165449 268.698011 \nL 371.165449 270.146239 \nL 386.562415 270.146239 \nz\n\" clip-path=\"url(#p37afe5aad8)\" style=\"fill: #4dabb3\"/>\n   </g>\n   <g id=\"patch_140\">\n    <path d=\"M 386.562415 270.508296 \nL 370.957135 270.508296 \nL 370.957135 271.956525 \nL 386.562415 271.956525 \nz\n\" clip-path=\"url(#p37afe5aad8)\" style=\"fill: #4dabb5\"/>\n   </g>\n   <g id=\"patch_141\">\n    <path d=\"M 386.562415 272.318582 \nL 370.422696 272.318582 \nL 370.422696 273.766811 \nL 386.562415 273.766811 \nz\n\" clip-path=\"url(#p37afe5aad8)\" style=\"fill: #4eabb6\"/>\n   </g>\n   <g id=\"patch_142\">\n    <path d=\"M 386.562415 274.128868 \nL 369.601111 274.128868 \nL 369.601111 275.577096 \nL 386.562415 275.577096 \nz\n\" clip-path=\"url(#p37afe5aad8)\" style=\"fill: #4eabb7\"/>\n   </g>\n   <g id=\"patch_143\">\n    <path d=\"M 386.562415 275.939154 \nL 367.811873 275.939154 \nL 367.811873 277.387382 \nL 386.562415 277.387382 \nz\n\" clip-path=\"url(#p37afe5aad8)\" style=\"fill: #4eabb8\"/>\n   </g>\n   <g id=\"patch_144\">\n    <path d=\"M 386.562415 277.749439 \nL 366.576171 277.749439 \nL 366.576171 279.197668 \nL 386.562415 279.197668 \nz\n\" clip-path=\"url(#p37afe5aad8)\" style=\"fill: #4fabba\"/>\n   </g>\n   <g id=\"patch_145\">\n    <path d=\"M 386.562415 279.559725 \nL 366.570441 279.559725 \nL 366.570441 281.007954 \nL 386.562415 281.007954 \nz\n\" clip-path=\"url(#p37afe5aad8)\" style=\"fill: #4fabbb\"/>\n   </g>\n   <g id=\"patch_146\">\n    <path d=\"M 386.562415 281.370011 \nL 365.600827 281.370011 \nL 365.600827 282.818239 \nL 386.562415 282.818239 \nz\n\" clip-path=\"url(#p37afe5aad8)\" style=\"fill: #4fabbd\"/>\n   </g>\n   <g id=\"patch_147\">\n    <path d=\"M 386.562415 283.180296 \nL 364.470824 283.180296 \nL 364.470824 284.628525 \nL 386.562415 284.628525 \nz\n\" clip-path=\"url(#p37afe5aad8)\" style=\"fill: #50acbe\"/>\n   </g>\n   <g id=\"patch_148\">\n    <path d=\"M 386.562415 284.990582 \nL 364.330065 284.990582 \nL 364.330065 286.438811 \nL 386.562415 286.438811 \nz\n\" clip-path=\"url(#p37afe5aad8)\" style=\"fill: #50acbf\"/>\n   </g>\n   <g id=\"patch_149\">\n    <path d=\"M 386.562415 286.800868 \nL 362.163284 286.800868 \nL 362.163284 288.249096 \nL 386.562415 288.249096 \nz\n\" clip-path=\"url(#p37afe5aad8)\" style=\"fill: #50acc1\"/>\n   </g>\n   <g id=\"patch_150\">\n    <path d=\"M 386.562415 288.611154 \nL 360.909017 288.611154 \nL 360.909017 290.059382 \nL 386.562415 290.059382 \nz\n\" clip-path=\"url(#p37afe5aad8)\" style=\"fill: #50acc3\"/>\n   </g>\n   <g id=\"patch_151\">\n    <path d=\"M 386.562415 290.421439 \nL 360.889616 290.421439 \nL 360.889616 291.869668 \nL 386.562415 291.869668 \nz\n\" clip-path=\"url(#p37afe5aad8)\" style=\"fill: #51acc4\"/>\n   </g>\n   <g id=\"patch_152\">\n    <path d=\"M 386.562415 292.231725 \nL 360.571643 292.231725 \nL 360.571643 293.679954 \nL 386.562415 293.679954 \nz\n\" clip-path=\"url(#p37afe5aad8)\" style=\"fill: #51acc6\"/>\n   </g>\n   <g id=\"patch_153\">\n    <path d=\"M 386.562415 294.042011 \nL 359.928291 294.042011 \nL 359.928291 295.490239 \nL 386.562415 295.490239 \nz\n\" clip-path=\"url(#p37afe5aad8)\" style=\"fill: #52acc7\"/>\n   </g>\n   <g id=\"patch_154\">\n    <path d=\"M 386.562415 295.852296 \nL 359.534866 295.852296 \nL 359.534866 297.300525 \nL 386.562415 297.300525 \nz\n\" clip-path=\"url(#p37afe5aad8)\" style=\"fill: #52acc9\"/>\n   </g>\n   <g id=\"patch_155\">\n    <path d=\"M 386.562415 297.662582 \nL 359.11284 297.662582 \nL 359.11284 299.110811 \nL 386.562415 299.110811 \nz\n\" clip-path=\"url(#p37afe5aad8)\" style=\"fill: #52accb\"/>\n   </g>\n   <g id=\"patch_156\">\n    <path d=\"M 386.562415 299.472868 \nL 359.035206 299.472868 \nL 359.035206 300.921096 \nL 386.562415 300.921096 \nz\n\" clip-path=\"url(#p37afe5aad8)\" style=\"fill: #53accd\"/>\n   </g>\n   <g id=\"patch_157\">\n    <path d=\"M 386.562415 301.283154 \nL 358.891546 301.283154 \nL 358.891546 302.731382 \nL 386.562415 302.731382 \nz\n\" clip-path=\"url(#p37afe5aad8)\" style=\"fill: #53accf\"/>\n   </g>\n   <g id=\"patch_158\">\n    <path d=\"M 386.562415 303.093439 \nL 358.453414 303.093439 \nL 358.453414 304.541668 \nL 386.562415 304.541668 \nz\n\" clip-path=\"url(#p37afe5aad8)\" style=\"fill: #54acd1\"/>\n   </g>\n   <g id=\"patch_159\">\n    <path d=\"M 386.562415 304.903725 \nL 358.442143 304.903725 \nL 358.442143 306.351954 \nL 386.562415 306.351954 \nz\n\" clip-path=\"url(#p37afe5aad8)\" style=\"fill: #54acd3\"/>\n   </g>\n   <g id=\"patch_160\">\n    <path d=\"M 386.562415 306.714011 \nL 358.357952 306.714011 \nL 358.357952 308.162239 \nL 386.562415 308.162239 \nz\n\" clip-path=\"url(#p37afe5aad8)\" style=\"fill: #55acd6\"/>\n   </g>\n   <g id=\"patch_161\">\n    <path d=\"M 386.562415 308.524296 \nL 357.366192 308.524296 \nL 357.366192 309.972525 \nL 386.562415 309.972525 \nz\n\" clip-path=\"url(#p37afe5aad8)\" style=\"fill: #55acd8\"/>\n   </g>\n   <g id=\"patch_162\">\n    <path d=\"M 386.562415 310.334582 \nL 355.931962 310.334582 \nL 355.931962 311.782811 \nL 386.562415 311.782811 \nz\n\" clip-path=\"url(#p37afe5aad8)\" style=\"fill: #56addb\"/>\n   </g>\n   <g id=\"patch_163\">\n    <path d=\"M 386.562415 312.144868 \nL 354.823622 312.144868 \nL 354.823622 313.593096 \nL 386.562415 313.593096 \nz\n\" clip-path=\"url(#p37afe5aad8)\" style=\"fill: #56addd\"/>\n   </g>\n   <g id=\"patch_164\">\n    <path d=\"M 386.562415 313.955154 \nL 353.574873 313.955154 \nL 353.574873 315.403382 \nL 386.562415 315.403382 \nz\n\" clip-path=\"url(#p37afe5aad8)\" style=\"fill: #5aade0\"/>\n   </g>\n   <g id=\"patch_165\">\n    <path d=\"M 386.562415 315.765439 \nL 351.555911 315.765439 \nL 351.555911 317.213668 \nL 386.562415 317.213668 \nz\n\" clip-path=\"url(#p37afe5aad8)\" style=\"fill: #63ade1\"/>\n   </g>\n   <g id=\"patch_166\">\n    <path d=\"M 386.562415 317.575725 \nL 351.430089 317.575725 \nL 351.430089 319.023954 \nL 386.562415 319.023954 \nz\n\" clip-path=\"url(#p37afe5aad8)\" style=\"fill: #6aaee2\"/>\n   </g>\n   <g id=\"patch_167\">\n    <path d=\"M 386.562415 319.386011 \nL 350.86578 319.386011 \nL 350.86578 320.834239 \nL 386.562415 320.834239 \nz\n\" clip-path=\"url(#p37afe5aad8)\" style=\"fill: #71aee3\"/>\n   </g>\n   <g id=\"patch_168\">\n    <path d=\"M 386.562415 321.196296 \nL 350.817243 321.196296 \nL 350.817243 322.644525 \nL 386.562415 322.644525 \nz\n\" clip-path=\"url(#p37afe5aad8)\" style=\"fill: #77aee4\"/>\n   </g>\n   <g id=\"patch_169\">\n    <path d=\"M 386.562415 323.006582 \nL 350.094997 323.006582 \nL 350.094997 324.454811 \nL 386.562415 324.454811 \nz\n\" clip-path=\"url(#p37afe5aad8)\" style=\"fill: #7caee5\"/>\n   </g>\n   <g id=\"patch_170\">\n    <path d=\"M 386.562415 324.816868 \nL 346.708857 324.816868 \nL 346.708857 326.265096 \nL 386.562415 326.265096 \nz\n\" clip-path=\"url(#p37afe5aad8)\" style=\"fill: #81aee5\"/>\n   </g>\n   <g id=\"patch_171\">\n    <path d=\"M 386.562415 326.627154 \nL 346.707914 326.627154 \nL 346.707914 328.075382 \nL 386.562415 328.075382 \nz\n\" clip-path=\"url(#p37afe5aad8)\" style=\"fill: #86aee6\"/>\n   </g>\n   <g id=\"patch_172\">\n    <path d=\"M 386.562415 328.437439 \nL 345.137522 328.437439 \nL 345.137522 329.885668 \nL 386.562415 329.885668 \nz\n\" clip-path=\"url(#p37afe5aad8)\" style=\"fill: #8aaee7\"/>\n   </g>\n   <g id=\"patch_173\">\n    <path d=\"M 386.562415 330.247725 \nL 341.443443 330.247725 \nL 341.443443 331.695954 \nL 386.562415 331.695954 \nz\n\" clip-path=\"url(#p37afe5aad8)\" style=\"fill: #8eaee7\"/>\n   </g>\n   <g id=\"patch_174\">\n    <path d=\"M 386.562415 332.058011 \nL 338.804372 332.058011 \nL 338.804372 333.506239 \nL 386.562415 333.506239 \nz\n\" clip-path=\"url(#p37afe5aad8)\" style=\"fill: #92aee8\"/>\n   </g>\n   <g id=\"patch_175\">\n    <path d=\"M 386.562415 333.868296 \nL 335.075894 333.868296 \nL 335.075894 335.316525 \nL 386.562415 335.316525 \nz\n\" clip-path=\"url(#p37afe5aad8)\" style=\"fill: #96ade8\"/>\n   </g>\n   <g id=\"patch_176\">\n    <path d=\"M 386.562415 335.678582 \nL 332.887351 335.678582 \nL 332.887351 337.126811 \nL 386.562415 337.126811 \nz\n\" clip-path=\"url(#p37afe5aad8)\" style=\"fill: #99ade9\"/>\n   </g>\n   <g id=\"patch_177\">\n    <path d=\"M 386.562415 337.488868 \nL 323.582093 337.488868 \nL 323.582093 338.937096 \nL 386.562415 338.937096 \nz\n\" clip-path=\"url(#p37afe5aad8)\" style=\"fill: #9dade9\"/>\n   </g>\n   <g id=\"patch_178\">\n    <path d=\"M 386.562415 339.299154 \nL 311.442832 339.299154 \nL 311.442832 340.747382 \nL 386.562415 340.747382 \nz\n\" clip-path=\"url(#p37afe5aad8)\" style=\"fill: #a0adea\"/>\n   </g>\n   <g id=\"patch_179\">\n    <path d=\"M 386.562415 341.109439 \nL 309.287751 341.109439 \nL 309.287751 342.557668 \nL 386.562415 342.557668 \nz\n\" clip-path=\"url(#p37afe5aad8)\" style=\"fill: #a3adea\"/>\n   </g>\n   <g id=\"patch_180\">\n    <path d=\"M 386.562415 342.919725 \nL 307.211724 342.919725 \nL 307.211724 344.367954 \nL 386.562415 344.367954 \nz\n\" clip-path=\"url(#p37afe5aad8)\" style=\"fill: #a6aceb\"/>\n   </g>\n   <g id=\"patch_181\">\n    <path d=\"M 386.562415 344.730011 \nL 305.288459 344.730011 \nL 305.288459 346.178239 \nL 386.562415 346.178239 \nz\n\" clip-path=\"url(#p37afe5aad8)\" style=\"fill: #a9aceb\"/>\n   </g>\n   <g id=\"patch_182\">\n    <path d=\"M 386.562415 346.540296 \nL 302.462175 346.540296 \nL 302.462175 347.988525 \nL 386.562415 347.988525 \nz\n\" clip-path=\"url(#p37afe5aad8)\" style=\"fill: #acaceb\"/>\n   </g>\n   <g id=\"patch_183\">\n    <path d=\"M 386.562415 348.350582 \nL 301.295833 348.350582 \nL 301.295833 349.798811 \nL 386.562415 349.798811 \nz\n\" clip-path=\"url(#p37afe5aad8)\" style=\"fill: #aeabeb\"/>\n   </g>\n   <g id=\"patch_184\">\n    <path d=\"M 386.562415 350.160868 \nL 301.193785 350.160868 \nL 301.193785 351.609096 \nL 386.562415 351.609096 \nz\n\" clip-path=\"url(#p37afe5aad8)\" style=\"fill: #b0aaeb\"/>\n   </g>\n   <g id=\"patch_185\">\n    <path d=\"M 386.562415 351.971154 \nL 300.450501 351.971154 \nL 300.450501 353.419382 \nL 386.562415 353.419382 \nz\n\" clip-path=\"url(#p37afe5aad8)\" style=\"fill: #b2a9eb\"/>\n   </g>\n   <g id=\"patch_186\">\n    <path d=\"M 386.562415 353.781439 \nL 298.631353 353.781439 \nL 298.631353 355.229668 \nL 386.562415 355.229668 \nz\n\" clip-path=\"url(#p37afe5aad8)\" style=\"fill: #b4a8eb\"/>\n   </g>\n   <g id=\"patch_187\">\n    <path d=\"M 386.562415 355.591725 \nL 296.486792 355.591725 \nL 296.486792 357.039954 \nL 386.562415 357.039954 \nz\n\" clip-path=\"url(#p37afe5aad8)\" style=\"fill: #b7a7eb\"/>\n   </g>\n   <g id=\"patch_188\">\n    <path d=\"M 386.562415 357.402011 \nL 295.840852 357.402011 \nL 295.840852 358.850239 \nL 386.562415 358.850239 \nz\n\" clip-path=\"url(#p37afe5aad8)\" style=\"fill: #b9a7eb\"/>\n   </g>\n   <g id=\"patch_189\">\n    <path d=\"M 386.562415 359.212296 \nL 294.417193 359.212296 \nL 294.417193 360.660525 \nL 386.562415 360.660525 \nz\n\" clip-path=\"url(#p37afe5aad8)\" style=\"fill: #bba6ea\"/>\n   </g>\n   <g id=\"patch_190\">\n    <path d=\"M 386.562415 361.022582 \nL 294.070497 361.022582 \nL 294.070497 362.470811 \nL 386.562415 362.470811 \nz\n\" clip-path=\"url(#p37afe5aad8)\" style=\"fill: #bda5ea\"/>\n   </g>\n   <g id=\"patch_191\">\n    <path d=\"M 386.562415 362.832868 \nL 291.735978 362.832868 \nL 291.735978 364.281096 \nL 386.562415 364.281096 \nz\n\" clip-path=\"url(#p37afe5aad8)\" style=\"fill: #bfa4ea\"/>\n   </g>\n   <g id=\"patch_192\">\n    <path d=\"M 386.562415 364.643154 \nL 289.604857 364.643154 \nL 289.604857 366.091382 \nL 386.562415 366.091382 \nz\n\" clip-path=\"url(#p37afe5aad8)\" style=\"fill: #c1a3ea\"/>\n   </g>\n   <g id=\"patch_193\">\n    <path d=\"M 386.562415 366.453439 \nL 287.632254 366.453439 \nL 287.632254 367.901668 \nL 386.562415 367.901668 \nz\n\" clip-path=\"url(#p37afe5aad8)\" style=\"fill: #c2a2ea\"/>\n   </g>\n   <g id=\"patch_194\">\n    <path d=\"M 386.562415 368.263725 \nL 287.225385 368.263725 \nL 287.225385 369.711954 \nL 386.562415 369.711954 \nz\n\" clip-path=\"url(#p37afe5aad8)\" style=\"fill: #c4a1ea\"/>\n   </g>\n   <g id=\"patch_195\">\n    <path d=\"M 386.562415 370.074011 \nL 284.074609 370.074011 \nL 284.074609 371.522239 \nL 386.562415 371.522239 \nz\n\" clip-path=\"url(#p37afe5aad8)\" style=\"fill: #c6a0ea\"/>\n   </g>\n   <g id=\"patch_196\">\n    <path d=\"M 386.562415 371.884296 \nL 282.461197 371.884296 \nL 282.461197 373.332525 \nL 386.562415 373.332525 \nz\n\" clip-path=\"url(#p37afe5aad8)\" style=\"fill: #c89fe9\"/>\n   </g>\n   <g id=\"patch_197\">\n    <path d=\"M 386.562415 373.694582 \nL 277.954357 373.694582 \nL 277.954357 375.142811 \nL 386.562415 375.142811 \nz\n\" clip-path=\"url(#p37afe5aad8)\" style=\"fill: #ca9de9\"/>\n   </g>\n   <g id=\"patch_198\">\n    <path d=\"M 386.562415 375.504868 \nL 275.437821 375.504868 \nL 275.437821 376.953096 \nL 386.562415 376.953096 \nz\n\" clip-path=\"url(#p37afe5aad8)\" style=\"fill: #cc9ce9\"/>\n   </g>\n   <g id=\"patch_199\">\n    <path d=\"M 386.562415 377.315154 \nL 273.854778 377.315154 \nL 273.854778 378.763382 \nL 386.562415 378.763382 \nz\n\" clip-path=\"url(#p37afe5aad8)\" style=\"fill: #ce9be9\"/>\n   </g>\n   <g id=\"patch_200\">\n    <path d=\"M 386.562415 379.125439 \nL 273.750156 379.125439 \nL 273.750156 380.573668 \nL 386.562415 380.573668 \nz\n\" clip-path=\"url(#p37afe5aad8)\" style=\"fill: #d09ae9\"/>\n   </g>\n   <g id=\"patch_201\">\n    <path d=\"M 386.562415 380.935725 \nL 272.492944 380.935725 \nL 272.492944 382.383954 \nL 386.562415 382.383954 \nz\n\" clip-path=\"url(#p37afe5aad8)\" style=\"fill: #d299e9\"/>\n   </g>\n   <g id=\"patch_202\">\n    <path d=\"M 386.562415 382.746011 \nL 270.131806 382.746011 \nL 270.131806 384.194239 \nL 386.562415 384.194239 \nz\n\" clip-path=\"url(#p37afe5aad8)\" style=\"fill: #d497e8\"/>\n   </g>\n   <g id=\"patch_203\">\n    <path d=\"M 386.562415 384.556296 \nL 269.820709 384.556296 \nL 269.820709 386.004525 \nL 386.562415 386.004525 \nz\n\" clip-path=\"url(#p37afe5aad8)\" style=\"fill: #d696e8\"/>\n   </g>\n   <g id=\"patch_204\">\n    <path d=\"M 386.562415 386.366582 \nL 268.290334 386.366582 \nL 268.290334 387.814811 \nL 386.562415 387.814811 \nz\n\" clip-path=\"url(#p37afe5aad8)\" style=\"fill: #d894e8\"/>\n   </g>\n   <g id=\"patch_205\">\n    <path d=\"M 386.562415 388.176868 \nL 267.480852 388.176868 \nL 267.480852 389.625096 \nL 386.562415 389.625096 \nz\n\" clip-path=\"url(#p37afe5aad8)\" style=\"fill: #da93e8\"/>\n   </g>\n   <g id=\"patch_206\">\n    <path d=\"M 386.562415 389.987154 \nL 267.469328 389.987154 \nL 267.469328 391.435382 \nL 386.562415 391.435382 \nz\n\" clip-path=\"url(#p37afe5aad8)\" style=\"fill: #dc91e7\"/>\n   </g>\n   <g id=\"patch_207\">\n    <path d=\"M 386.562415 391.797439 \nL 266.138243 391.797439 \nL 266.138243 393.245668 \nL 386.562415 393.245668 \nz\n\" clip-path=\"url(#p37afe5aad8)\" style=\"fill: #de8fe7\"/>\n   </g>\n   <g id=\"patch_208\">\n    <path d=\"M 386.562415 393.607725 \nL 264.708155 393.607725 \nL 264.708155 395.055954 \nL 386.562415 395.055954 \nz\n\" clip-path=\"url(#p37afe5aad8)\" style=\"fill: #e08ee7\"/>\n   </g>\n   <g id=\"patch_209\">\n    <path d=\"M 386.562415 395.418011 \nL 264.077599 395.418011 \nL 264.077599 396.866239 \nL 386.562415 396.866239 \nz\n\" clip-path=\"url(#p37afe5aad8)\" style=\"fill: #e38ce7\"/>\n   </g>\n   <g id=\"patch_210\">\n    <path d=\"M 386.562415 397.228296 \nL 262.718483 397.228296 \nL 262.718483 398.676525 \nL 386.562415 398.676525 \nz\n\" clip-path=\"url(#p37afe5aad8)\" style=\"fill: #e589e6\"/>\n   </g>\n   <g id=\"patch_211\">\n    <path d=\"M 386.562415 399.038582 \nL 262.192922 399.038582 \nL 262.192922 400.486811 \nL 386.562415 400.486811 \nz\n\" clip-path=\"url(#p37afe5aad8)\" style=\"fill: #e689e5\"/>\n   </g>\n   <g id=\"patch_212\">\n    <path d=\"M 386.562415 400.848868 \nL 262.027218 400.848868 \nL 262.027218 402.297096 \nL 386.562415 402.297096 \nz\n\" clip-path=\"url(#p37afe5aad8)\" style=\"fill: #e689e3\"/>\n   </g>\n   <g id=\"patch_213\">\n    <path d=\"M 386.562415 402.659154 \nL 261.433066 402.659154 \nL 261.433066 404.107382 \nL 386.562415 404.107382 \nz\n\" clip-path=\"url(#p37afe5aad8)\" style=\"fill: #e78ae0\"/>\n   </g>\n   <g id=\"patch_214\">\n    <path d=\"M 386.562415 404.469439 \nL 260.60431 404.469439 \nL 260.60431 405.917668 \nL 386.562415 405.917668 \nz\n\" clip-path=\"url(#p37afe5aad8)\" style=\"fill: #e78ade\"/>\n   </g>\n   <g id=\"patch_215\">\n    <path d=\"M 386.562415 406.279725 \nL 260.380237 406.279725 \nL 260.380237 407.727954 \nL 386.562415 407.727954 \nz\n\" clip-path=\"url(#p37afe5aad8)\" style=\"fill: #e78bdc\"/>\n   </g>\n   <g id=\"patch_216\">\n    <path d=\"M 386.562415 408.090011 \nL 258.960648 408.090011 \nL 258.960648 409.538239 \nL 386.562415 409.538239 \nz\n\" clip-path=\"url(#p37afe5aad8)\" style=\"fill: #e78bda\"/>\n   </g>\n   <g id=\"patch_217\">\n    <path d=\"M 386.562415 409.900296 \nL 253.484726 409.900296 \nL 253.484726 411.348525 \nL 386.562415 411.348525 \nz\n\" clip-path=\"url(#p37afe5aad8)\" style=\"fill: #e78cd8\"/>\n   </g>\n   <g id=\"patch_218\">\n    <path d=\"M 386.562415 411.710582 \nL 253.361405 411.710582 \nL 253.361405 413.158811 \nL 386.562415 413.158811 \nz\n\" clip-path=\"url(#p37afe5aad8)\" style=\"fill: #e78cd6\"/>\n   </g>\n   <g id=\"patch_219\">\n    <path d=\"M 386.562415 413.520868 \nL 253.104126 413.520868 \nL 253.104126 414.969096 \nL 386.562415 414.969096 \nz\n\" clip-path=\"url(#p37afe5aad8)\" style=\"fill: #e78dd4\"/>\n   </g>\n   <g id=\"patch_220\">\n    <path d=\"M 386.562415 415.331154 \nL 250.86918 415.331154 \nL 250.86918 416.779382 \nL 386.562415 416.779382 \nz\n\" clip-path=\"url(#p37afe5aad8)\" style=\"fill: #e78dd2\"/>\n   </g>\n   <g id=\"patch_221\">\n    <path d=\"M 386.562415 417.141439 \nL 249.337834 417.141439 \nL 249.337834 418.589668 \nL 386.562415 418.589668 \nz\n\" clip-path=\"url(#p37afe5aad8)\" style=\"fill: #e88ed1\"/>\n   </g>\n   <g id=\"patch_222\">\n    <path d=\"M 386.562415 418.951725 \nL 248.500459 418.951725 \nL 248.500459 420.399954 \nL 386.562415 420.399954 \nz\n\" clip-path=\"url(#p37afe5aad8)\" style=\"fill: #e88ecf\"/>\n   </g>\n   <g id=\"patch_223\">\n    <path d=\"M 386.562415 420.762011 \nL 240.521419 420.762011 \nL 240.521419 422.210239 \nL 386.562415 422.210239 \nz\n\" clip-path=\"url(#p37afe5aad8)\" style=\"fill: #e88fcd\"/>\n   </g>\n   <g id=\"patch_224\">\n    <path d=\"M 386.562415 422.572296 \nL 238.610907 422.572296 \nL 238.610907 424.020525 \nL 386.562415 424.020525 \nz\n\" clip-path=\"url(#p37afe5aad8)\" style=\"fill: #e88fcc\"/>\n   </g>\n   <g id=\"patch_225\">\n    <path d=\"M 386.562415 424.382582 \nL 236.249803 424.382582 \nL 236.249803 425.830811 \nL 386.562415 425.830811 \nz\n\" clip-path=\"url(#p37afe5aad8)\" style=\"fill: #e88fca\"/>\n   </g>\n   <g id=\"patch_226\">\n    <path d=\"M 386.562415 426.192868 \nL 232.037045 426.192868 \nL 232.037045 427.641096 \nL 386.562415 427.641096 \nz\n\" clip-path=\"url(#p37afe5aad8)\" style=\"fill: #e890c8\"/>\n   </g>\n   <g id=\"patch_227\">\n    <path d=\"M 386.562415 428.003154 \nL 231.375167 428.003154 \nL 231.375167 429.451382 \nL 386.562415 429.451382 \nz\n\" clip-path=\"url(#p37afe5aad8)\" style=\"fill: #e890c7\"/>\n   </g>\n   <g id=\"patch_228\">\n    <path d=\"M 386.562415 429.813439 \nL 215.237945 429.813439 \nL 215.237945 431.261668 \nL 386.562415 431.261668 \nz\n\" clip-path=\"url(#p37afe5aad8)\" style=\"fill: #e890c5\"/>\n   </g>\n   <g id=\"patch_229\">\n    <path d=\"M 386.562415 431.623725 \nL 213.918794 431.623725 \nL 213.918794 433.071954 \nL 386.562415 433.071954 \nz\n\" clip-path=\"url(#p37afe5aad8)\" style=\"fill: #e891c3\"/>\n   </g>\n   <g id=\"patch_230\">\n    <path d=\"M 386.562415 433.434011 \nL 211.287314 433.434011 \nL 211.287314 434.882239 \nL 386.562415 434.882239 \nz\n\" clip-path=\"url(#p37afe5aad8)\" style=\"fill: #e891c2\"/>\n   </g>\n   <g id=\"patch_231\">\n    <path d=\"M 386.562415 435.244296 \nL 211.06661 435.244296 \nL 211.06661 436.692525 \nL 386.562415 436.692525 \nz\n\" clip-path=\"url(#p37afe5aad8)\" style=\"fill: #e891c0\"/>\n   </g>\n   <g id=\"patch_232\">\n    <path d=\"M 386.562415 437.054582 \nL 208.712436 437.054582 \nL 208.712436 438.502811 \nL 386.562415 438.502811 \nz\n\" clip-path=\"url(#p37afe5aad8)\" style=\"fill: #e891bf\"/>\n   </g>\n   <g id=\"patch_233\">\n    <path d=\"M 386.562415 438.864868 \nL 208.700185 438.864868 \nL 208.700185 440.313096 \nL 386.562415 440.313096 \nz\n\" clip-path=\"url(#p37afe5aad8)\" style=\"fill: #e992bd\"/>\n   </g>\n   <g id=\"patch_234\">\n    <path d=\"M 386.562415 440.675154 \nL 206.845267 440.675154 \nL 206.845267 442.123382 \nL 386.562415 442.123382 \nz\n\" clip-path=\"url(#p37afe5aad8)\" style=\"fill: #e992bc\"/>\n   </g>\n   <g id=\"patch_235\">\n    <path d=\"M 386.562415 442.485439 \nL 202.721126 442.485439 \nL 202.721126 443.933668 \nL 386.562415 443.933668 \nz\n\" clip-path=\"url(#p37afe5aad8)\" style=\"fill: #e992ba\"/>\n   </g>\n   <g id=\"patch_236\">\n    <path d=\"M 386.562415 444.295725 \nL 201.119191 444.295725 \nL 201.119191 445.743954 \nL 386.562415 445.743954 \nz\n\" clip-path=\"url(#p37afe5aad8)\" style=\"fill: #e993b8\"/>\n   </g>\n   <g id=\"patch_237\">\n    <path d=\"M 386.562415 446.106011 \nL 200.123669 446.106011 \nL 200.123669 447.554239 \nL 386.562415 447.554239 \nz\n\" clip-path=\"url(#p37afe5aad8)\" style=\"fill: #e993b7\"/>\n   </g>\n   <g id=\"patch_238\">\n    <path d=\"M 386.562415 447.916296 \nL 199.682817 447.916296 \nL 199.682817 449.364525 \nL 386.562415 449.364525 \nz\n\" clip-path=\"url(#p37afe5aad8)\" style=\"fill: #e993b5\"/>\n   </g>\n   <g id=\"patch_239\">\n    <path d=\"M 386.562415 449.726582 \nL 199.430978 449.726582 \nL 199.430978 451.174811 \nL 386.562415 451.174811 \nz\n\" clip-path=\"url(#p37afe5aad8)\" style=\"fill: #e993b4\"/>\n   </g>\n   <g id=\"patch_240\">\n    <path d=\"M 386.562415 451.536868 \nL 199.161607 451.536868 \nL 199.161607 452.985096 \nL 386.562415 452.985096 \nz\n\" clip-path=\"url(#p37afe5aad8)\" style=\"fill: #e994b2\"/>\n   </g>\n   <g id=\"patch_241\">\n    <path d=\"M 386.562415 453.347154 \nL 196.410015 453.347154 \nL 196.410015 454.795382 \nL 386.562415 454.795382 \nz\n\" clip-path=\"url(#p37afe5aad8)\" style=\"fill: #e994b1\"/>\n   </g>\n   <g id=\"patch_242\">\n    <path d=\"M 386.562415 455.157439 \nL 194.829686 455.157439 \nL 194.829686 456.605668 \nL 386.562415 456.605668 \nz\n\" clip-path=\"url(#p37afe5aad8)\" style=\"fill: #e994af\"/>\n   </g>\n   <g id=\"patch_243\">\n    <path d=\"M 386.562415 456.967725 \nL 186.274392 456.967725 \nL 186.274392 458.415954 \nL 386.562415 458.415954 \nz\n\" clip-path=\"url(#p37afe5aad8)\" style=\"fill: #e994ad\"/>\n   </g>\n   <g id=\"patch_244\">\n    <path d=\"M 386.562415 458.778011 \nL 180.716621 458.778011 \nL 180.716621 460.226239 \nL 386.562415 460.226239 \nz\n\" clip-path=\"url(#p37afe5aad8)\" style=\"fill: #e995ac\"/>\n   </g>\n   <g id=\"patch_245\">\n    <path d=\"M 386.562415 460.588296 \nL 179.477685 460.588296 \nL 179.477685 462.036525 \nL 386.562415 462.036525 \nz\n\" clip-path=\"url(#p37afe5aad8)\" style=\"fill: #e995aa\"/>\n   </g>\n   <g id=\"patch_246\">\n    <path d=\"M 386.562415 462.398582 \nL 176.068036 462.398582 \nL 176.068036 463.846811 \nL 386.562415 463.846811 \nz\n\" clip-path=\"url(#p37afe5aad8)\" style=\"fill: #e995a7\"/>\n   </g>\n   <g id=\"patch_247\">\n    <path d=\"M 386.562415 464.208868 \nL 174.315199 464.208868 \nL 174.315199 465.657096 \nL 386.562415 465.657096 \nz\n\" clip-path=\"url(#p37afe5aad8)\" style=\"fill: #ea96a5\"/>\n   </g>\n   <g id=\"matplotlib.axis_1\">\n    <g id=\"xtick_1\">\n     <g id=\"line2d_1\">\n      <defs>\n       <path id=\"me3a308ead6\" d=\"M 0 0 \nL 0 3.5 \n\" style=\"stroke: #000000; stroke-width: 0.8\"/>\n      </defs>\n      <g>\n       <use xlink:href=\"#me3a308ead6\" x=\"168.065199\" y=\"465.838125\" style=\"stroke: #000000; stroke-width: 0.8\"/>\n      </g>\n     </g>\n     <g id=\"text_1\">\n      <!-- −0.15 -->\n      <g transform=\"translate(152.742543 480.436562) scale(0.1 -0.1)\">\n       <defs>\n        <path id=\"DejaVuSans-2212\" d=\"M 678 2272 \nL 4684 2272 \nL 4684 1741 \nL 678 1741 \nL 678 2272 \nz\n\" transform=\"scale(0.015625)\"/>\n        <path id=\"DejaVuSans-30\" d=\"M 2034 4250 \nQ 1547 4250 1301 3770 \nQ 1056 3291 1056 2328 \nQ 1056 1369 1301 889 \nQ 1547 409 2034 409 \nQ 2525 409 2770 889 \nQ 3016 1369 3016 2328 \nQ 3016 3291 2770 3770 \nQ 2525 4250 2034 4250 \nz\nM 2034 4750 \nQ 2819 4750 3233 4129 \nQ 3647 3509 3647 2328 \nQ 3647 1150 3233 529 \nQ 2819 -91 2034 -91 \nQ 1250 -91 836 529 \nQ 422 1150 422 2328 \nQ 422 3509 836 4129 \nQ 1250 4750 2034 4750 \nz\n\" transform=\"scale(0.015625)\"/>\n        <path id=\"DejaVuSans-2e\" d=\"M 684 794 \nL 1344 794 \nL 1344 0 \nL 684 0 \nL 684 794 \nz\n\" transform=\"scale(0.015625)\"/>\n        <path id=\"DejaVuSans-31\" d=\"M 794 531 \nL 1825 531 \nL 1825 4091 \nL 703 3866 \nL 703 4441 \nL 1819 4666 \nL 2450 4666 \nL 2450 531 \nL 3481 531 \nL 3481 0 \nL 794 0 \nL 794 531 \nz\n\" transform=\"scale(0.015625)\"/>\n        <path id=\"DejaVuSans-35\" d=\"M 691 4666 \nL 3169 4666 \nL 3169 4134 \nL 1269 4134 \nL 1269 2991 \nQ 1406 3038 1543 3061 \nQ 1681 3084 1819 3084 \nQ 2600 3084 3056 2656 \nQ 3513 2228 3513 1497 \nQ 3513 744 3044 326 \nQ 2575 -91 1722 -91 \nQ 1428 -91 1123 -41 \nQ 819 9 494 109 \nL 494 744 \nQ 775 591 1075 516 \nQ 1375 441 1709 441 \nQ 2250 441 2565 725 \nQ 2881 1009 2881 1497 \nQ 2881 1984 2565 2268 \nQ 2250 2553 1709 2553 \nQ 1456 2553 1204 2497 \nQ 953 2441 691 2322 \nL 691 4666 \nz\n\" transform=\"scale(0.015625)\"/>\n       </defs>\n       <use xlink:href=\"#DejaVuSans-2212\"/>\n       <use xlink:href=\"#DejaVuSans-30\" x=\"83.789062\"/>\n       <use xlink:href=\"#DejaVuSans-2e\" x=\"147.412109\"/>\n       <use xlink:href=\"#DejaVuSans-31\" x=\"179.199219\"/>\n       <use xlink:href=\"#DejaVuSans-35\" x=\"242.822266\"/>\n      </g>\n     </g>\n    </g>\n    <g id=\"xtick_2\">\n     <g id=\"line2d_2\">\n      <g>\n       <use xlink:href=\"#me3a308ead6\" x=\"240.897605\" y=\"465.838125\" style=\"stroke: #000000; stroke-width: 0.8\"/>\n      </g>\n     </g>\n     <g id=\"text_2\">\n      <!-- −0.10 -->\n      <g transform=\"translate(225.574948 480.436562) scale(0.1 -0.1)\">\n       <use xlink:href=\"#DejaVuSans-2212\"/>\n       <use xlink:href=\"#DejaVuSans-30\" x=\"83.789062\"/>\n       <use xlink:href=\"#DejaVuSans-2e\" x=\"147.412109\"/>\n       <use xlink:href=\"#DejaVuSans-31\" x=\"179.199219\"/>\n       <use xlink:href=\"#DejaVuSans-30\" x=\"242.822266\"/>\n      </g>\n     </g>\n    </g>\n    <g id=\"xtick_3\">\n     <g id=\"line2d_3\">\n      <g>\n       <use xlink:href=\"#me3a308ead6\" x=\"313.73001\" y=\"465.838125\" style=\"stroke: #000000; stroke-width: 0.8\"/>\n      </g>\n     </g>\n     <g id=\"text_3\">\n      <!-- −0.05 -->\n      <g transform=\"translate(298.407354 480.436562) scale(0.1 -0.1)\">\n       <use xlink:href=\"#DejaVuSans-2212\"/>\n       <use xlink:href=\"#DejaVuSans-30\" x=\"83.789062\"/>\n       <use xlink:href=\"#DejaVuSans-2e\" x=\"147.412109\"/>\n       <use xlink:href=\"#DejaVuSans-30\" x=\"179.199219\"/>\n       <use xlink:href=\"#DejaVuSans-35\" x=\"242.822266\"/>\n      </g>\n     </g>\n    </g>\n    <g id=\"xtick_4\">\n     <g id=\"line2d_4\">\n      <g>\n       <use xlink:href=\"#me3a308ead6\" x=\"386.562415\" y=\"465.838125\" style=\"stroke: #000000; stroke-width: 0.8\"/>\n      </g>\n     </g>\n     <g id=\"text_4\">\n      <!-- 0.00 -->\n      <g transform=\"translate(375.429602 480.436562) scale(0.1 -0.1)\">\n       <use xlink:href=\"#DejaVuSans-30\"/>\n       <use xlink:href=\"#DejaVuSans-2e\" x=\"63.623047\"/>\n       <use xlink:href=\"#DejaVuSans-30\" x=\"95.410156\"/>\n       <use xlink:href=\"#DejaVuSans-30\" x=\"159.033203\"/>\n      </g>\n     </g>\n    </g>\n    <g id=\"xtick_5\">\n     <g id=\"line2d_5\">\n      <g>\n       <use xlink:href=\"#me3a308ead6\" x=\"459.39482\" y=\"465.838125\" style=\"stroke: #000000; stroke-width: 0.8\"/>\n      </g>\n     </g>\n     <g id=\"text_5\">\n      <!-- 0.05 -->\n      <g transform=\"translate(448.262008 480.436562) scale(0.1 -0.1)\">\n       <use xlink:href=\"#DejaVuSans-30\"/>\n       <use xlink:href=\"#DejaVuSans-2e\" x=\"63.623047\"/>\n       <use xlink:href=\"#DejaVuSans-30\" x=\"95.410156\"/>\n       <use xlink:href=\"#DejaVuSans-35\" x=\"159.033203\"/>\n      </g>\n     </g>\n    </g>\n    <g id=\"xtick_6\">\n     <g id=\"line2d_6\">\n      <g>\n       <use xlink:href=\"#me3a308ead6\" x=\"532.227225\" y=\"465.838125\" style=\"stroke: #000000; stroke-width: 0.8\"/>\n      </g>\n     </g>\n     <g id=\"text_6\">\n      <!-- 0.10 -->\n      <g transform=\"translate(521.094413 480.436562) scale(0.1 -0.1)\">\n       <use xlink:href=\"#DejaVuSans-30\"/>\n       <use xlink:href=\"#DejaVuSans-2e\" x=\"63.623047\"/>\n       <use xlink:href=\"#DejaVuSans-31\" x=\"95.410156\"/>\n       <use xlink:href=\"#DejaVuSans-30\" x=\"159.033203\"/>\n      </g>\n     </g>\n    </g>\n    <g id=\"xtick_7\">\n     <g id=\"line2d_7\">\n      <g>\n       <use xlink:href=\"#me3a308ead6\" x=\"605.059631\" y=\"465.838125\" style=\"stroke: #000000; stroke-width: 0.8\"/>\n      </g>\n     </g>\n     <g id=\"text_7\">\n      <!-- 0.15 -->\n      <g transform=\"translate(593.926818 480.436562) scale(0.1 -0.1)\">\n       <use xlink:href=\"#DejaVuSans-30\"/>\n       <use xlink:href=\"#DejaVuSans-2e\" x=\"63.623047\"/>\n       <use xlink:href=\"#DejaVuSans-31\" x=\"95.410156\"/>\n       <use xlink:href=\"#DejaVuSans-35\" x=\"159.033203\"/>\n      </g>\n     </g>\n    </g>\n    <g id=\"xtick_8\">\n     <g id=\"line2d_8\">\n      <g>\n       <use xlink:href=\"#me3a308ead6\" x=\"677.892036\" y=\"465.838125\" style=\"stroke: #000000; stroke-width: 0.8\"/>\n      </g>\n     </g>\n     <g id=\"text_8\">\n      <!-- 0.20 -->\n      <g transform=\"translate(666.759223 480.436562) scale(0.1 -0.1)\">\n       <defs>\n        <path id=\"DejaVuSans-32\" d=\"M 1228 531 \nL 3431 531 \nL 3431 0 \nL 469 0 \nL 469 531 \nQ 828 903 1448 1529 \nQ 2069 2156 2228 2338 \nQ 2531 2678 2651 2914 \nQ 2772 3150 2772 3378 \nQ 2772 3750 2511 3984 \nQ 2250 4219 1831 4219 \nQ 1534 4219 1204 4116 \nQ 875 4013 500 3803 \nL 500 4441 \nQ 881 4594 1212 4672 \nQ 1544 4750 1819 4750 \nQ 2544 4750 2975 4387 \nQ 3406 4025 3406 3419 \nQ 3406 3131 3298 2873 \nQ 3191 2616 2906 2266 \nQ 2828 2175 2409 1742 \nQ 1991 1309 1228 531 \nz\n\" transform=\"scale(0.015625)\"/>\n       </defs>\n       <use xlink:href=\"#DejaVuSans-30\"/>\n       <use xlink:href=\"#DejaVuSans-2e\" x=\"63.623047\"/>\n       <use xlink:href=\"#DejaVuSans-32\" x=\"95.410156\"/>\n       <use xlink:href=\"#DejaVuSans-30\" x=\"159.033203\"/>\n      </g>\n     </g>\n    </g>\n   </g>\n   <g id=\"matplotlib.axis_2\">\n    <g id=\"ytick_1\">\n     <g id=\"line2d_9\">\n      <defs>\n       <path id=\"ma135784799\" d=\"M 0 0 \nL -3.5 0 \n\" style=\"stroke: #000000; stroke-width: 0.8\"/>\n      </defs>\n      <g>\n       <use xlink:href=\"#ma135784799\" x=\"148.951562\" y=\"23.223268\" style=\"stroke: #000000; stroke-width: 0.8\"/>\n      </g>\n     </g>\n     <g id=\"text_9\">\n      <!-- r1_y -->\n      <g transform=\"translate(120.559375 26.883424) scale(0.1 -0.1)\">\n       <defs>\n        <path id=\"DejaVuSans-72\" d=\"M 2631 2963 \nQ 2534 3019 2420 3045 \nQ 2306 3072 2169 3072 \nQ 1681 3072 1420 2755 \nQ 1159 2438 1159 1844 \nL 1159 0 \nL 581 0 \nL 581 3500 \nL 1159 3500 \nL 1159 2956 \nQ 1341 3275 1631 3429 \nQ 1922 3584 2338 3584 \nQ 2397 3584 2469 3576 \nQ 2541 3569 2628 3553 \nL 2631 2963 \nz\n\" transform=\"scale(0.015625)\"/>\n        <path id=\"DejaVuSans-5f\" d=\"M 3263 -1063 \nL 3263 -1509 \nL -63 -1509 \nL -63 -1063 \nL 3263 -1063 \nz\n\" transform=\"scale(0.015625)\"/>\n        <path id=\"DejaVuSans-79\" d=\"M 2059 -325 \nQ 1816 -950 1584 -1140 \nQ 1353 -1331 966 -1331 \nL 506 -1331 \nL 506 -850 \nL 844 -850 \nQ 1081 -850 1212 -737 \nQ 1344 -625 1503 -206 \nL 1606 56 \nL 191 3500 \nL 800 3500 \nL 1894 763 \nL 2988 3500 \nL 3597 3500 \nL 2059 -325 \nz\n\" transform=\"scale(0.015625)\"/>\n       </defs>\n       <use xlink:href=\"#DejaVuSans-72\"/>\n       <use xlink:href=\"#DejaVuSans-31\" x=\"41.113281\"/>\n       <use xlink:href=\"#DejaVuSans-5f\" x=\"104.736328\"/>\n       <use xlink:href=\"#DejaVuSans-79\" x=\"154.736328\"/>\n      </g>\n     </g>\n    </g>\n    <g id=\"ytick_2\">\n     <g id=\"line2d_10\">\n      <g>\n       <use xlink:href=\"#ma135784799\" x=\"148.951562\" y=\"25.033554\" style=\"stroke: #000000; stroke-width: 0.8\"/>\n      </g>\n     </g>\n     <g id=\"text_10\">\n      <!-- d2_y -->\n      <g transform=\"translate(118.321875 28.832772) scale(0.1 -0.1)\">\n       <defs>\n        <path id=\"DejaVuSans-64\" d=\"M 2906 2969 \nL 2906 4863 \nL 3481 4863 \nL 3481 0 \nL 2906 0 \nL 2906 525 \nQ 2725 213 2448 61 \nQ 2172 -91 1784 -91 \nQ 1150 -91 751 415 \nQ 353 922 353 1747 \nQ 353 2572 751 3078 \nQ 1150 3584 1784 3584 \nQ 2172 3584 2448 3432 \nQ 2725 3281 2906 2969 \nz\nM 947 1747 \nQ 947 1113 1208 752 \nQ 1469 391 1925 391 \nQ 2381 391 2643 752 \nQ 2906 1113 2906 1747 \nQ 2906 2381 2643 2742 \nQ 2381 3103 1925 3103 \nQ 1469 3103 1208 2742 \nQ 947 2381 947 1747 \nz\n\" transform=\"scale(0.015625)\"/>\n       </defs>\n       <use xlink:href=\"#DejaVuSans-64\"/>\n       <use xlink:href=\"#DejaVuSans-32\" x=\"63.476562\"/>\n       <use xlink:href=\"#DejaVuSans-5f\" x=\"127.099609\"/>\n       <use xlink:href=\"#DejaVuSans-79\" x=\"177.099609\"/>\n      </g>\n     </g>\n    </g>\n    <g id=\"ytick_3\">\n     <g id=\"line2d_11\">\n      <g>\n       <use xlink:href=\"#ma135784799\" x=\"148.951562\" y=\"26.843839\" style=\"stroke: #000000; stroke-width: 0.8\"/>\n      </g>\n     </g>\n     <g id=\"text_11\">\n      <!-- r2_y -->\n      <g transform=\"translate(120.559375 30.554777) scale(0.1 -0.1)\">\n       <use xlink:href=\"#DejaVuSans-72\"/>\n       <use xlink:href=\"#DejaVuSans-32\" x=\"41.113281\"/>\n       <use xlink:href=\"#DejaVuSans-5f\" x=\"104.736328\"/>\n       <use xlink:href=\"#DejaVuSans-79\" x=\"154.736328\"/>\n      </g>\n     </g>\n    </g>\n    <g id=\"ytick_4\">\n     <g id=\"line2d_12\">\n      <g>\n       <use xlink:href=\"#ma135784799\" x=\"148.951562\" y=\"28.654125\" style=\"stroke: #000000; stroke-width: 0.8\"/>\n      </g>\n     </g>\n     <g id=\"text_12\">\n      <!-- d3_y -->\n      <g transform=\"translate(118.321875 32.453344) scale(0.1 -0.1)\">\n       <defs>\n        <path id=\"DejaVuSans-33\" d=\"M 2597 2516 \nQ 3050 2419 3304 2112 \nQ 3559 1806 3559 1356 \nQ 3559 666 3084 287 \nQ 2609 -91 1734 -91 \nQ 1441 -91 1130 -33 \nQ 819 25 488 141 \nL 488 750 \nQ 750 597 1062 519 \nQ 1375 441 1716 441 \nQ 2309 441 2620 675 \nQ 2931 909 2931 1356 \nQ 2931 1769 2642 2001 \nQ 2353 2234 1838 2234 \nL 1294 2234 \nL 1294 2753 \nL 1863 2753 \nQ 2328 2753 2575 2939 \nQ 2822 3125 2822 3475 \nQ 2822 3834 2567 4026 \nQ 2313 4219 1838 4219 \nQ 1578 4219 1281 4162 \nQ 984 4106 628 3988 \nL 628 4550 \nQ 988 4650 1302 4700 \nQ 1616 4750 1894 4750 \nQ 2613 4750 3031 4423 \nQ 3450 4097 3450 3541 \nQ 3450 3153 3228 2886 \nQ 3006 2619 2597 2516 \nz\n\" transform=\"scale(0.015625)\"/>\n       </defs>\n       <use xlink:href=\"#DejaVuSans-64\"/>\n       <use xlink:href=\"#DejaVuSans-33\" x=\"63.476562\"/>\n       <use xlink:href=\"#DejaVuSans-5f\" x=\"127.099609\"/>\n       <use xlink:href=\"#DejaVuSans-79\" x=\"177.099609\"/>\n      </g>\n     </g>\n    </g>\n    <g id=\"ytick_5\">\n     <g id=\"line2d_13\">\n      <g>\n       <use xlink:href=\"#ma135784799\" x=\"148.951562\" y=\"30.464411\" style=\"stroke: #000000; stroke-width: 0.8\"/>\n      </g>\n     </g>\n     <g id=\"text_13\">\n      <!-- r3_y -->\n      <g transform=\"translate(120.559375 34.175348) scale(0.1 -0.1)\">\n       <use xlink:href=\"#DejaVuSans-72\"/>\n       <use xlink:href=\"#DejaVuSans-33\" x=\"41.113281\"/>\n       <use xlink:href=\"#DejaVuSans-5f\" x=\"104.736328\"/>\n       <use xlink:href=\"#DejaVuSans-79\" x=\"154.736328\"/>\n      </g>\n     </g>\n    </g>\n    <g id=\"ytick_6\">\n     <g id=\"line2d_14\">\n      <g>\n       <use xlink:href=\"#ma135784799\" x=\"148.951562\" y=\"32.274696\" style=\"stroke: #000000; stroke-width: 0.8\"/>\n      </g>\n     </g>\n     <g id=\"text_14\">\n      <!-- r4_y -->\n      <g transform=\"translate(120.559375 35.934853) scale(0.1 -0.1)\">\n       <defs>\n        <path id=\"DejaVuSans-34\" d=\"M 2419 4116 \nL 825 1625 \nL 2419 1625 \nL 2419 4116 \nz\nM 2253 4666 \nL 3047 4666 \nL 3047 1625 \nL 3713 1625 \nL 3713 1100 \nL 3047 1100 \nL 3047 0 \nL 2419 0 \nL 2419 1100 \nL 313 1100 \nL 313 1709 \nL 2253 4666 \nz\n\" transform=\"scale(0.015625)\"/>\n       </defs>\n       <use xlink:href=\"#DejaVuSans-72\"/>\n       <use xlink:href=\"#DejaVuSans-34\" x=\"41.113281\"/>\n       <use xlink:href=\"#DejaVuSans-5f\" x=\"104.736328\"/>\n       <use xlink:href=\"#DejaVuSans-79\" x=\"154.736328\"/>\n      </g>\n     </g>\n    </g>\n    <g id=\"ytick_7\">\n     <g id=\"line2d_15\">\n      <g>\n       <use xlink:href=\"#ma135784799\" x=\"148.951562\" y=\"34.084982\" style=\"stroke: #000000; stroke-width: 0.8\"/>\n      </g>\n     </g>\n     <g id=\"text_15\">\n      <!-- d4_y -->\n      <g transform=\"translate(118.321875 37.884201) scale(0.1 -0.1)\">\n       <use xlink:href=\"#DejaVuSans-64\"/>\n       <use xlink:href=\"#DejaVuSans-34\" x=\"63.476562\"/>\n       <use xlink:href=\"#DejaVuSans-5f\" x=\"127.099609\"/>\n       <use xlink:href=\"#DejaVuSans-79\" x=\"177.099609\"/>\n      </g>\n     </g>\n    </g>\n    <g id=\"ytick_8\">\n     <g id=\"line2d_16\">\n      <g>\n       <use xlink:href=\"#ma135784799\" x=\"148.951562\" y=\"35.895268\" style=\"stroke: #000000; stroke-width: 0.8\"/>\n      </g>\n     </g>\n     <g id=\"text_16\">\n      <!-- r5_y -->\n      <g transform=\"translate(120.559375 39.555424) scale(0.1 -0.1)\">\n       <use xlink:href=\"#DejaVuSans-72\"/>\n       <use xlink:href=\"#DejaVuSans-35\" x=\"41.113281\"/>\n       <use xlink:href=\"#DejaVuSans-5f\" x=\"104.736328\"/>\n       <use xlink:href=\"#DejaVuSans-79\" x=\"154.736328\"/>\n      </g>\n     </g>\n    </g>\n    <g id=\"ytick_9\">\n     <g id=\"line2d_17\">\n      <g>\n       <use xlink:href=\"#ma135784799\" x=\"148.951562\" y=\"37.705554\" style=\"stroke: #000000; stroke-width: 0.8\"/>\n      </g>\n     </g>\n     <g id=\"text_17\">\n      <!-- d5_y -->\n      <g transform=\"translate(118.321875 41.504772) scale(0.1 -0.1)\">\n       <use xlink:href=\"#DejaVuSans-64\"/>\n       <use xlink:href=\"#DejaVuSans-35\" x=\"63.476562\"/>\n       <use xlink:href=\"#DejaVuSans-5f\" x=\"127.099609\"/>\n       <use xlink:href=\"#DejaVuSans-79\" x=\"177.099609\"/>\n      </g>\n     </g>\n    </g>\n    <g id=\"ytick_10\">\n     <g id=\"line2d_18\">\n      <g>\n       <use xlink:href=\"#ma135784799\" x=\"148.951562\" y=\"39.515839\" style=\"stroke: #000000; stroke-width: 0.8\"/>\n      </g>\n     </g>\n     <g id=\"text_18\">\n      <!-- d1_y -->\n      <g transform=\"translate(118.321875 43.315058) scale(0.1 -0.1)\">\n       <use xlink:href=\"#DejaVuSans-64\"/>\n       <use xlink:href=\"#DejaVuSans-31\" x=\"63.476562\"/>\n       <use xlink:href=\"#DejaVuSans-5f\" x=\"127.099609\"/>\n       <use xlink:href=\"#DejaVuSans-79\" x=\"177.099609\"/>\n      </g>\n     </g>\n    </g>\n    <g id=\"ytick_11\">\n     <g id=\"line2d_19\">\n      <g>\n       <use xlink:href=\"#ma135784799\" x=\"148.951562\" y=\"41.326125\" style=\"stroke: #000000; stroke-width: 0.8\"/>\n      </g>\n     </g>\n     <g id=\"text_19\">\n      <!-- r5_x -->\n      <g transform=\"translate(120.559375 44.986281) scale(0.1 -0.1)\">\n       <defs>\n        <path id=\"DejaVuSans-78\" d=\"M 3513 3500 \nL 2247 1797 \nL 3578 0 \nL 2900 0 \nL 1881 1375 \nL 863 0 \nL 184 0 \nL 1544 1831 \nL 300 3500 \nL 978 3500 \nL 1906 2253 \nL 2834 3500 \nL 3513 3500 \nz\n\" transform=\"scale(0.015625)\"/>\n       </defs>\n       <use xlink:href=\"#DejaVuSans-72\"/>\n       <use xlink:href=\"#DejaVuSans-35\" x=\"41.113281\"/>\n       <use xlink:href=\"#DejaVuSans-5f\" x=\"104.736328\"/>\n       <use xlink:href=\"#DejaVuSans-78\" x=\"154.736328\"/>\n      </g>\n     </g>\n    </g>\n    <g id=\"ytick_12\">\n     <g id=\"line2d_20\">\n      <g>\n       <use xlink:href=\"#ma135784799\" x=\"148.951562\" y=\"43.136411\" style=\"stroke: #000000; stroke-width: 0.8\"/>\n      </g>\n     </g>\n     <g id=\"text_20\">\n      <!-- d4_x -->\n      <g transform=\"translate(118.321875 46.935629) scale(0.1 -0.1)\">\n       <use xlink:href=\"#DejaVuSans-64\"/>\n       <use xlink:href=\"#DejaVuSans-34\" x=\"63.476562\"/>\n       <use xlink:href=\"#DejaVuSans-5f\" x=\"127.099609\"/>\n       <use xlink:href=\"#DejaVuSans-78\" x=\"177.099609\"/>\n      </g>\n     </g>\n    </g>\n    <g id=\"ytick_13\">\n     <g id=\"line2d_21\">\n      <g>\n       <use xlink:href=\"#ma135784799\" x=\"148.951562\" y=\"44.946696\" style=\"stroke: #000000; stroke-width: 0.8\"/>\n      </g>\n     </g>\n     <g id=\"text_21\">\n      <!-- d1_x -->\n      <g transform=\"translate(118.321875 48.745915) scale(0.1 -0.1)\">\n       <use xlink:href=\"#DejaVuSans-64\"/>\n       <use xlink:href=\"#DejaVuSans-31\" x=\"63.476562\"/>\n       <use xlink:href=\"#DejaVuSans-5f\" x=\"127.099609\"/>\n       <use xlink:href=\"#DejaVuSans-78\" x=\"177.099609\"/>\n      </g>\n     </g>\n    </g>\n    <g id=\"ytick_14\">\n     <g id=\"line2d_22\">\n      <g>\n       <use xlink:href=\"#ma135784799\" x=\"148.951562\" y=\"46.756982\" style=\"stroke: #000000; stroke-width: 0.8\"/>\n      </g>\n     </g>\n     <g id=\"text_22\">\n      <!-- r3_x -->\n      <g transform=\"translate(120.559375 50.46792) scale(0.1 -0.1)\">\n       <use xlink:href=\"#DejaVuSans-72\"/>\n       <use xlink:href=\"#DejaVuSans-33\" x=\"41.113281\"/>\n       <use xlink:href=\"#DejaVuSans-5f\" x=\"104.736328\"/>\n       <use xlink:href=\"#DejaVuSans-78\" x=\"154.736328\"/>\n      </g>\n     </g>\n    </g>\n    <g id=\"ytick_15\">\n     <g id=\"line2d_23\">\n      <g>\n       <use xlink:href=\"#ma135784799\" x=\"148.951562\" y=\"48.567268\" style=\"stroke: #000000; stroke-width: 0.8\"/>\n      </g>\n     </g>\n     <g id=\"text_23\">\n      <!-- r4_x -->\n      <g transform=\"translate(120.559375 52.227424) scale(0.1 -0.1)\">\n       <use xlink:href=\"#DejaVuSans-72\"/>\n       <use xlink:href=\"#DejaVuSans-34\" x=\"41.113281\"/>\n       <use xlink:href=\"#DejaVuSans-5f\" x=\"104.736328\"/>\n       <use xlink:href=\"#DejaVuSans-78\" x=\"154.736328\"/>\n      </g>\n     </g>\n    </g>\n    <g id=\"ytick_16\">\n     <g id=\"line2d_24\">\n      <g>\n       <use xlink:href=\"#ma135784799\" x=\"148.951562\" y=\"50.377554\" style=\"stroke: #000000; stroke-width: 0.8\"/>\n      </g>\n     </g>\n     <g id=\"text_24\">\n      <!-- r1_x -->\n      <g transform=\"translate(120.559375 54.03771) scale(0.1 -0.1)\">\n       <use xlink:href=\"#DejaVuSans-72\"/>\n       <use xlink:href=\"#DejaVuSans-31\" x=\"41.113281\"/>\n       <use xlink:href=\"#DejaVuSans-5f\" x=\"104.736328\"/>\n       <use xlink:href=\"#DejaVuSans-78\" x=\"154.736328\"/>\n      </g>\n     </g>\n    </g>\n    <g id=\"ytick_17\">\n     <g id=\"line2d_25\">\n      <g>\n       <use xlink:href=\"#ma135784799\" x=\"148.951562\" y=\"52.187839\" style=\"stroke: #000000; stroke-width: 0.8\"/>\n      </g>\n     </g>\n     <g id=\"text_25\">\n      <!-- r2_x -->\n      <g transform=\"translate(120.559375 55.898777) scale(0.1 -0.1)\">\n       <use xlink:href=\"#DejaVuSans-72\"/>\n       <use xlink:href=\"#DejaVuSans-32\" x=\"41.113281\"/>\n       <use xlink:href=\"#DejaVuSans-5f\" x=\"104.736328\"/>\n       <use xlink:href=\"#DejaVuSans-78\" x=\"154.736328\"/>\n      </g>\n     </g>\n    </g>\n    <g id=\"ytick_18\">\n     <g id=\"line2d_26\">\n      <g>\n       <use xlink:href=\"#ma135784799\" x=\"148.951562\" y=\"53.998125\" style=\"stroke: #000000; stroke-width: 0.8\"/>\n      </g>\n     </g>\n     <g id=\"text_26\">\n      <!-- d2_x -->\n      <g transform=\"translate(118.321875 57.797344) scale(0.1 -0.1)\">\n       <use xlink:href=\"#DejaVuSans-64\"/>\n       <use xlink:href=\"#DejaVuSans-32\" x=\"63.476562\"/>\n       <use xlink:href=\"#DejaVuSans-5f\" x=\"127.099609\"/>\n       <use xlink:href=\"#DejaVuSans-78\" x=\"177.099609\"/>\n      </g>\n     </g>\n    </g>\n    <g id=\"ytick_19\">\n     <g id=\"line2d_27\">\n      <g>\n       <use xlink:href=\"#ma135784799\" x=\"148.951562\" y=\"55.808411\" style=\"stroke: #000000; stroke-width: 0.8\"/>\n      </g>\n     </g>\n     <g id=\"text_27\">\n      <!-- d5_x -->\n      <g transform=\"translate(118.321875 59.607629) scale(0.1 -0.1)\">\n       <use xlink:href=\"#DejaVuSans-64\"/>\n       <use xlink:href=\"#DejaVuSans-35\" x=\"63.476562\"/>\n       <use xlink:href=\"#DejaVuSans-5f\" x=\"127.099609\"/>\n       <use xlink:href=\"#DejaVuSans-78\" x=\"177.099609\"/>\n      </g>\n     </g>\n    </g>\n    <g id=\"ytick_20\">\n     <g id=\"line2d_28\">\n      <g>\n       <use xlink:href=\"#ma135784799\" x=\"148.951562\" y=\"57.618696\" style=\"stroke: #000000; stroke-width: 0.8\"/>\n      </g>\n     </g>\n     <g id=\"text_28\">\n      <!-- d3_x -->\n      <g transform=\"translate(118.321875 61.417915) scale(0.1 -0.1)\">\n       <use xlink:href=\"#DejaVuSans-64\"/>\n       <use xlink:href=\"#DejaVuSans-33\" x=\"63.476562\"/>\n       <use xlink:href=\"#DejaVuSans-5f\" x=\"127.099609\"/>\n       <use xlink:href=\"#DejaVuSans-78\" x=\"177.099609\"/>\n      </g>\n     </g>\n    </g>\n    <g id=\"ytick_21\">\n     <g id=\"line2d_29\">\n      <g>\n       <use xlink:href=\"#ma135784799\" x=\"148.951562\" y=\"59.428982\" style=\"stroke: #000000; stroke-width: 0.8\"/>\n      </g>\n     </g>\n     <g id=\"text_29\">\n      <!-- r4_towers_killed -->\n      <g transform=\"translate(61.160937 63.228201) scale(0.1 -0.1)\">\n       <defs>\n        <path id=\"DejaVuSans-74\" d=\"M 1172 4494 \nL 1172 3500 \nL 2356 3500 \nL 2356 3053 \nL 1172 3053 \nL 1172 1153 \nQ 1172 725 1289 603 \nQ 1406 481 1766 481 \nL 2356 481 \nL 2356 0 \nL 1766 0 \nQ 1100 0 847 248 \nQ 594 497 594 1153 \nL 594 3053 \nL 172 3053 \nL 172 3500 \nL 594 3500 \nL 594 4494 \nL 1172 4494 \nz\n\" transform=\"scale(0.015625)\"/>\n        <path id=\"DejaVuSans-6f\" d=\"M 1959 3097 \nQ 1497 3097 1228 2736 \nQ 959 2375 959 1747 \nQ 959 1119 1226 758 \nQ 1494 397 1959 397 \nQ 2419 397 2687 759 \nQ 2956 1122 2956 1747 \nQ 2956 2369 2687 2733 \nQ 2419 3097 1959 3097 \nz\nM 1959 3584 \nQ 2709 3584 3137 3096 \nQ 3566 2609 3566 1747 \nQ 3566 888 3137 398 \nQ 2709 -91 1959 -91 \nQ 1206 -91 779 398 \nQ 353 888 353 1747 \nQ 353 2609 779 3096 \nQ 1206 3584 1959 3584 \nz\n\" transform=\"scale(0.015625)\"/>\n        <path id=\"DejaVuSans-77\" d=\"M 269 3500 \nL 844 3500 \nL 1563 769 \nL 2278 3500 \nL 2956 3500 \nL 3675 769 \nL 4391 3500 \nL 4966 3500 \nL 4050 0 \nL 3372 0 \nL 2619 2869 \nL 1863 0 \nL 1184 0 \nL 269 3500 \nz\n\" transform=\"scale(0.015625)\"/>\n        <path id=\"DejaVuSans-65\" d=\"M 3597 1894 \nL 3597 1613 \nL 953 1613 \nQ 991 1019 1311 708 \nQ 1631 397 2203 397 \nQ 2534 397 2845 478 \nQ 3156 559 3463 722 \nL 3463 178 \nQ 3153 47 2828 -22 \nQ 2503 -91 2169 -91 \nQ 1331 -91 842 396 \nQ 353 884 353 1716 \nQ 353 2575 817 3079 \nQ 1281 3584 2069 3584 \nQ 2775 3584 3186 3129 \nQ 3597 2675 3597 1894 \nz\nM 3022 2063 \nQ 3016 2534 2758 2815 \nQ 2500 3097 2075 3097 \nQ 1594 3097 1305 2825 \nQ 1016 2553 972 2059 \nL 3022 2063 \nz\n\" transform=\"scale(0.015625)\"/>\n        <path id=\"DejaVuSans-73\" d=\"M 2834 3397 \nL 2834 2853 \nQ 2591 2978 2328 3040 \nQ 2066 3103 1784 3103 \nQ 1356 3103 1142 2972 \nQ 928 2841 928 2578 \nQ 928 2378 1081 2264 \nQ 1234 2150 1697 2047 \nL 1894 2003 \nQ 2506 1872 2764 1633 \nQ 3022 1394 3022 966 \nQ 3022 478 2636 193 \nQ 2250 -91 1575 -91 \nQ 1294 -91 989 -36 \nQ 684 19 347 128 \nL 347 722 \nQ 666 556 975 473 \nQ 1284 391 1588 391 \nQ 1994 391 2212 530 \nQ 2431 669 2431 922 \nQ 2431 1156 2273 1281 \nQ 2116 1406 1581 1522 \nL 1381 1569 \nQ 847 1681 609 1914 \nQ 372 2147 372 2553 \nQ 372 3047 722 3315 \nQ 1072 3584 1716 3584 \nQ 2034 3584 2315 3537 \nQ 2597 3491 2834 3397 \nz\n\" transform=\"scale(0.015625)\"/>\n        <path id=\"DejaVuSans-6b\" d=\"M 581 4863 \nL 1159 4863 \nL 1159 1991 \nL 2875 3500 \nL 3609 3500 \nL 1753 1863 \nL 3688 0 \nL 2938 0 \nL 1159 1709 \nL 1159 0 \nL 581 0 \nL 581 4863 \nz\n\" transform=\"scale(0.015625)\"/>\n        <path id=\"DejaVuSans-69\" d=\"M 603 3500 \nL 1178 3500 \nL 1178 0 \nL 603 0 \nL 603 3500 \nz\nM 603 4863 \nL 1178 4863 \nL 1178 4134 \nL 603 4134 \nL 603 4863 \nz\n\" transform=\"scale(0.015625)\"/>\n        <path id=\"DejaVuSans-6c\" d=\"M 603 4863 \nL 1178 4863 \nL 1178 0 \nL 603 0 \nL 603 4863 \nz\n\" transform=\"scale(0.015625)\"/>\n       </defs>\n       <use xlink:href=\"#DejaVuSans-72\"/>\n       <use xlink:href=\"#DejaVuSans-34\" x=\"41.113281\"/>\n       <use xlink:href=\"#DejaVuSans-5f\" x=\"104.736328\"/>\n       <use xlink:href=\"#DejaVuSans-74\" x=\"154.736328\"/>\n       <use xlink:href=\"#DejaVuSans-6f\" x=\"193.945312\"/>\n       <use xlink:href=\"#DejaVuSans-77\" x=\"255.126953\"/>\n       <use xlink:href=\"#DejaVuSans-65\" x=\"336.914062\"/>\n       <use xlink:href=\"#DejaVuSans-72\" x=\"398.4375\"/>\n       <use xlink:href=\"#DejaVuSans-73\" x=\"439.550781\"/>\n       <use xlink:href=\"#DejaVuSans-5f\" x=\"491.650391\"/>\n       <use xlink:href=\"#DejaVuSans-6b\" x=\"541.650391\"/>\n       <use xlink:href=\"#DejaVuSans-69\" x=\"599.560547\"/>\n       <use xlink:href=\"#DejaVuSans-6c\" x=\"627.34375\"/>\n       <use xlink:href=\"#DejaVuSans-6c\" x=\"655.126953\"/>\n       <use xlink:href=\"#DejaVuSans-65\" x=\"682.910156\"/>\n       <use xlink:href=\"#DejaVuSans-64\" x=\"744.433594\"/>\n      </g>\n     </g>\n    </g>\n    <g id=\"ytick_22\">\n     <g id=\"line2d_30\">\n      <g>\n       <use xlink:href=\"#ma135784799\" x=\"148.951562\" y=\"61.239268\" style=\"stroke: #000000; stroke-width: 0.8\"/>\n      </g>\n     </g>\n     <g id=\"text_30\">\n      <!-- r3_towers_killed -->\n      <g transform=\"translate(61.160937 65.038487) scale(0.1 -0.1)\">\n       <use xlink:href=\"#DejaVuSans-72\"/>\n       <use xlink:href=\"#DejaVuSans-33\" x=\"41.113281\"/>\n       <use xlink:href=\"#DejaVuSans-5f\" x=\"104.736328\"/>\n       <use xlink:href=\"#DejaVuSans-74\" x=\"154.736328\"/>\n       <use xlink:href=\"#DejaVuSans-6f\" x=\"193.945312\"/>\n       <use xlink:href=\"#DejaVuSans-77\" x=\"255.126953\"/>\n       <use xlink:href=\"#DejaVuSans-65\" x=\"336.914062\"/>\n       <use xlink:href=\"#DejaVuSans-72\" x=\"398.4375\"/>\n       <use xlink:href=\"#DejaVuSans-73\" x=\"439.550781\"/>\n       <use xlink:href=\"#DejaVuSans-5f\" x=\"491.650391\"/>\n       <use xlink:href=\"#DejaVuSans-6b\" x=\"541.650391\"/>\n       <use xlink:href=\"#DejaVuSans-69\" x=\"599.560547\"/>\n       <use xlink:href=\"#DejaVuSans-6c\" x=\"627.34375\"/>\n       <use xlink:href=\"#DejaVuSans-6c\" x=\"655.126953\"/>\n       <use xlink:href=\"#DejaVuSans-65\" x=\"682.910156\"/>\n       <use xlink:href=\"#DejaVuSans-64\" x=\"744.433594\"/>\n      </g>\n     </g>\n    </g>\n    <g id=\"ytick_23\">\n     <g id=\"line2d_31\">\n      <g>\n       <use xlink:href=\"#ma135784799\" x=\"148.951562\" y=\"63.049554\" style=\"stroke: #000000; stroke-width: 0.8\"/>\n      </g>\n     </g>\n     <g id=\"text_31\">\n      <!-- r5_towers_killed -->\n      <g transform=\"translate(61.160937 66.848772) scale(0.1 -0.1)\">\n       <use xlink:href=\"#DejaVuSans-72\"/>\n       <use xlink:href=\"#DejaVuSans-35\" x=\"41.113281\"/>\n       <use xlink:href=\"#DejaVuSans-5f\" x=\"104.736328\"/>\n       <use xlink:href=\"#DejaVuSans-74\" x=\"154.736328\"/>\n       <use xlink:href=\"#DejaVuSans-6f\" x=\"193.945312\"/>\n       <use xlink:href=\"#DejaVuSans-77\" x=\"255.126953\"/>\n       <use xlink:href=\"#DejaVuSans-65\" x=\"336.914062\"/>\n       <use xlink:href=\"#DejaVuSans-72\" x=\"398.4375\"/>\n       <use xlink:href=\"#DejaVuSans-73\" x=\"439.550781\"/>\n       <use xlink:href=\"#DejaVuSans-5f\" x=\"491.650391\"/>\n       <use xlink:href=\"#DejaVuSans-6b\" x=\"541.650391\"/>\n       <use xlink:href=\"#DejaVuSans-69\" x=\"599.560547\"/>\n       <use xlink:href=\"#DejaVuSans-6c\" x=\"627.34375\"/>\n       <use xlink:href=\"#DejaVuSans-6c\" x=\"655.126953\"/>\n       <use xlink:href=\"#DejaVuSans-65\" x=\"682.910156\"/>\n       <use xlink:href=\"#DejaVuSans-64\" x=\"744.433594\"/>\n      </g>\n     </g>\n    </g>\n    <g id=\"ytick_24\">\n     <g id=\"line2d_32\">\n      <g>\n       <use xlink:href=\"#ma135784799\" x=\"148.951562\" y=\"64.859839\" style=\"stroke: #000000; stroke-width: 0.8\"/>\n      </g>\n     </g>\n     <g id=\"text_32\">\n      <!-- r1_towers_killed -->\n      <g transform=\"translate(61.160937 68.659058) scale(0.1 -0.1)\">\n       <use xlink:href=\"#DejaVuSans-72\"/>\n       <use xlink:href=\"#DejaVuSans-31\" x=\"41.113281\"/>\n       <use xlink:href=\"#DejaVuSans-5f\" x=\"104.736328\"/>\n       <use xlink:href=\"#DejaVuSans-74\" x=\"154.736328\"/>\n       <use xlink:href=\"#DejaVuSans-6f\" x=\"193.945312\"/>\n       <use xlink:href=\"#DejaVuSans-77\" x=\"255.126953\"/>\n       <use xlink:href=\"#DejaVuSans-65\" x=\"336.914062\"/>\n       <use xlink:href=\"#DejaVuSans-72\" x=\"398.4375\"/>\n       <use xlink:href=\"#DejaVuSans-73\" x=\"439.550781\"/>\n       <use xlink:href=\"#DejaVuSans-5f\" x=\"491.650391\"/>\n       <use xlink:href=\"#DejaVuSans-6b\" x=\"541.650391\"/>\n       <use xlink:href=\"#DejaVuSans-69\" x=\"599.560547\"/>\n       <use xlink:href=\"#DejaVuSans-6c\" x=\"627.34375\"/>\n       <use xlink:href=\"#DejaVuSans-6c\" x=\"655.126953\"/>\n       <use xlink:href=\"#DejaVuSans-65\" x=\"682.910156\"/>\n       <use xlink:href=\"#DejaVuSans-64\" x=\"744.433594\"/>\n      </g>\n     </g>\n    </g>\n    <g id=\"ytick_25\">\n     <g id=\"line2d_33\">\n      <g>\n       <use xlink:href=\"#ma135784799\" x=\"148.951562\" y=\"66.670125\" style=\"stroke: #000000; stroke-width: 0.8\"/>\n      </g>\n     </g>\n     <g id=\"text_33\">\n      <!-- r2_towers_killed -->\n      <g transform=\"translate(61.160937 70.469344) scale(0.1 -0.1)\">\n       <use xlink:href=\"#DejaVuSans-72\"/>\n       <use xlink:href=\"#DejaVuSans-32\" x=\"41.113281\"/>\n       <use xlink:href=\"#DejaVuSans-5f\" x=\"104.736328\"/>\n       <use xlink:href=\"#DejaVuSans-74\" x=\"154.736328\"/>\n       <use xlink:href=\"#DejaVuSans-6f\" x=\"193.945312\"/>\n       <use xlink:href=\"#DejaVuSans-77\" x=\"255.126953\"/>\n       <use xlink:href=\"#DejaVuSans-65\" x=\"336.914062\"/>\n       <use xlink:href=\"#DejaVuSans-72\" x=\"398.4375\"/>\n       <use xlink:href=\"#DejaVuSans-73\" x=\"439.550781\"/>\n       <use xlink:href=\"#DejaVuSans-5f\" x=\"491.650391\"/>\n       <use xlink:href=\"#DejaVuSans-6b\" x=\"541.650391\"/>\n       <use xlink:href=\"#DejaVuSans-69\" x=\"599.560547\"/>\n       <use xlink:href=\"#DejaVuSans-6c\" x=\"627.34375\"/>\n       <use xlink:href=\"#DejaVuSans-6c\" x=\"655.126953\"/>\n       <use xlink:href=\"#DejaVuSans-65\" x=\"682.910156\"/>\n       <use xlink:href=\"#DejaVuSans-64\" x=\"744.433594\"/>\n      </g>\n     </g>\n    </g>\n    <g id=\"ytick_26\">\n     <g id=\"line2d_34\">\n      <g>\n       <use xlink:href=\"#ma135784799\" x=\"148.951562\" y=\"68.480411\" style=\"stroke: #000000; stroke-width: 0.8\"/>\n      </g>\n     </g>\n     <g id=\"text_34\">\n      <!-- d4_deaths -->\n      <g transform=\"translate(90.14375 72.279629) scale(0.1 -0.1)\">\n       <defs>\n        <path id=\"DejaVuSans-61\" d=\"M 2194 1759 \nQ 1497 1759 1228 1600 \nQ 959 1441 959 1056 \nQ 959 750 1161 570 \nQ 1363 391 1709 391 \nQ 2188 391 2477 730 \nQ 2766 1069 2766 1631 \nL 2766 1759 \nL 2194 1759 \nz\nM 3341 1997 \nL 3341 0 \nL 2766 0 \nL 2766 531 \nQ 2569 213 2275 61 \nQ 1981 -91 1556 -91 \nQ 1019 -91 701 211 \nQ 384 513 384 1019 \nQ 384 1609 779 1909 \nQ 1175 2209 1959 2209 \nL 2766 2209 \nL 2766 2266 \nQ 2766 2663 2505 2880 \nQ 2244 3097 1772 3097 \nQ 1472 3097 1187 3025 \nQ 903 2953 641 2809 \nL 641 3341 \nQ 956 3463 1253 3523 \nQ 1550 3584 1831 3584 \nQ 2591 3584 2966 3190 \nQ 3341 2797 3341 1997 \nz\n\" transform=\"scale(0.015625)\"/>\n        <path id=\"DejaVuSans-68\" d=\"M 3513 2113 \nL 3513 0 \nL 2938 0 \nL 2938 2094 \nQ 2938 2591 2744 2837 \nQ 2550 3084 2163 3084 \nQ 1697 3084 1428 2787 \nQ 1159 2491 1159 1978 \nL 1159 0 \nL 581 0 \nL 581 4863 \nL 1159 4863 \nL 1159 2956 \nQ 1366 3272 1645 3428 \nQ 1925 3584 2291 3584 \nQ 2894 3584 3203 3211 \nQ 3513 2838 3513 2113 \nz\n\" transform=\"scale(0.015625)\"/>\n       </defs>\n       <use xlink:href=\"#DejaVuSans-64\"/>\n       <use xlink:href=\"#DejaVuSans-34\" x=\"63.476562\"/>\n       <use xlink:href=\"#DejaVuSans-5f\" x=\"127.099609\"/>\n       <use xlink:href=\"#DejaVuSans-64\" x=\"177.099609\"/>\n       <use xlink:href=\"#DejaVuSans-65\" x=\"240.576172\"/>\n       <use xlink:href=\"#DejaVuSans-61\" x=\"302.099609\"/>\n       <use xlink:href=\"#DejaVuSans-74\" x=\"363.378906\"/>\n       <use xlink:href=\"#DejaVuSans-68\" x=\"402.587891\"/>\n       <use xlink:href=\"#DejaVuSans-73\" x=\"465.966797\"/>\n      </g>\n     </g>\n    </g>\n    <g id=\"ytick_27\">\n     <g id=\"line2d_35\">\n      <g>\n       <use xlink:href=\"#ma135784799\" x=\"148.951562\" y=\"70.290696\" style=\"stroke: #000000; stroke-width: 0.8\"/>\n      </g>\n     </g>\n     <g id=\"text_35\">\n      <!-- d5_deaths -->\n      <g transform=\"translate(90.14375 74.089915) scale(0.1 -0.1)\">\n       <use xlink:href=\"#DejaVuSans-64\"/>\n       <use xlink:href=\"#DejaVuSans-35\" x=\"63.476562\"/>\n       <use xlink:href=\"#DejaVuSans-5f\" x=\"127.099609\"/>\n       <use xlink:href=\"#DejaVuSans-64\" x=\"177.099609\"/>\n       <use xlink:href=\"#DejaVuSans-65\" x=\"240.576172\"/>\n       <use xlink:href=\"#DejaVuSans-61\" x=\"302.099609\"/>\n       <use xlink:href=\"#DejaVuSans-74\" x=\"363.378906\"/>\n       <use xlink:href=\"#DejaVuSans-68\" x=\"402.587891\"/>\n       <use xlink:href=\"#DejaVuSans-73\" x=\"465.966797\"/>\n      </g>\n     </g>\n    </g>\n    <g id=\"ytick_28\">\n     <g id=\"line2d_36\">\n      <g>\n       <use xlink:href=\"#ma135784799\" x=\"148.951562\" y=\"72.100982\" style=\"stroke: #000000; stroke-width: 0.8\"/>\n      </g>\n     </g>\n     <g id=\"text_36\">\n      <!-- d3_deaths -->\n      <g transform=\"translate(90.14375 75.900201) scale(0.1 -0.1)\">\n       <use xlink:href=\"#DejaVuSans-64\"/>\n       <use xlink:href=\"#DejaVuSans-33\" x=\"63.476562\"/>\n       <use xlink:href=\"#DejaVuSans-5f\" x=\"127.099609\"/>\n       <use xlink:href=\"#DejaVuSans-64\" x=\"177.099609\"/>\n       <use xlink:href=\"#DejaVuSans-65\" x=\"240.576172\"/>\n       <use xlink:href=\"#DejaVuSans-61\" x=\"302.099609\"/>\n       <use xlink:href=\"#DejaVuSans-74\" x=\"363.378906\"/>\n       <use xlink:href=\"#DejaVuSans-68\" x=\"402.587891\"/>\n       <use xlink:href=\"#DejaVuSans-73\" x=\"465.966797\"/>\n      </g>\n     </g>\n    </g>\n    <g id=\"ytick_29\">\n     <g id=\"line2d_37\">\n      <g>\n       <use xlink:href=\"#ma135784799\" x=\"148.951562\" y=\"73.911268\" style=\"stroke: #000000; stroke-width: 0.8\"/>\n      </g>\n     </g>\n     <g id=\"text_37\">\n      <!-- d2_deaths -->\n      <g transform=\"translate(90.14375 77.710487) scale(0.1 -0.1)\">\n       <use xlink:href=\"#DejaVuSans-64\"/>\n       <use xlink:href=\"#DejaVuSans-32\" x=\"63.476562\"/>\n       <use xlink:href=\"#DejaVuSans-5f\" x=\"127.099609\"/>\n       <use xlink:href=\"#DejaVuSans-64\" x=\"177.099609\"/>\n       <use xlink:href=\"#DejaVuSans-65\" x=\"240.576172\"/>\n       <use xlink:href=\"#DejaVuSans-61\" x=\"302.099609\"/>\n       <use xlink:href=\"#DejaVuSans-74\" x=\"363.378906\"/>\n       <use xlink:href=\"#DejaVuSans-68\" x=\"402.587891\"/>\n       <use xlink:href=\"#DejaVuSans-73\" x=\"465.966797\"/>\n      </g>\n     </g>\n    </g>\n    <g id=\"ytick_30\">\n     <g id=\"line2d_38\">\n      <g>\n       <use xlink:href=\"#ma135784799\" x=\"148.951562\" y=\"75.721554\" style=\"stroke: #000000; stroke-width: 0.8\"/>\n      </g>\n     </g>\n     <g id=\"text_38\">\n      <!-- d1_deaths -->\n      <g transform=\"translate(90.14375 79.520772) scale(0.1 -0.1)\">\n       <use xlink:href=\"#DejaVuSans-64\"/>\n       <use xlink:href=\"#DejaVuSans-31\" x=\"63.476562\"/>\n       <use xlink:href=\"#DejaVuSans-5f\" x=\"127.099609\"/>\n       <use xlink:href=\"#DejaVuSans-64\" x=\"177.099609\"/>\n       <use xlink:href=\"#DejaVuSans-65\" x=\"240.576172\"/>\n       <use xlink:href=\"#DejaVuSans-61\" x=\"302.099609\"/>\n       <use xlink:href=\"#DejaVuSans-74\" x=\"363.378906\"/>\n       <use xlink:href=\"#DejaVuSans-68\" x=\"402.587891\"/>\n       <use xlink:href=\"#DejaVuSans-73\" x=\"465.966797\"/>\n      </g>\n     </g>\n    </g>\n    <g id=\"ytick_31\">\n     <g id=\"line2d_39\">\n      <g>\n       <use xlink:href=\"#ma135784799\" x=\"148.951562\" y=\"77.531839\" style=\"stroke: #000000; stroke-width: 0.8\"/>\n      </g>\n     </g>\n     <g id=\"text_39\">\n      <!-- r4_kills -->\n      <g transform=\"translate(107.14375 81.331058) scale(0.1 -0.1)\">\n       <use xlink:href=\"#DejaVuSans-72\"/>\n       <use xlink:href=\"#DejaVuSans-34\" x=\"41.113281\"/>\n       <use xlink:href=\"#DejaVuSans-5f\" x=\"104.736328\"/>\n       <use xlink:href=\"#DejaVuSans-6b\" x=\"154.736328\"/>\n       <use xlink:href=\"#DejaVuSans-69\" x=\"212.646484\"/>\n       <use xlink:href=\"#DejaVuSans-6c\" x=\"240.429688\"/>\n       <use xlink:href=\"#DejaVuSans-6c\" x=\"268.212891\"/>\n       <use xlink:href=\"#DejaVuSans-73\" x=\"295.996094\"/>\n      </g>\n     </g>\n    </g>\n    <g id=\"ytick_32\">\n     <g id=\"line2d_40\">\n      <g>\n       <use xlink:href=\"#ma135784799\" x=\"148.951562\" y=\"79.342125\" style=\"stroke: #000000; stroke-width: 0.8\"/>\n      </g>\n     </g>\n     <g id=\"text_40\">\n      <!-- r3_kills -->\n      <g transform=\"translate(107.14375 83.141344) scale(0.1 -0.1)\">\n       <use xlink:href=\"#DejaVuSans-72\"/>\n       <use xlink:href=\"#DejaVuSans-33\" x=\"41.113281\"/>\n       <use xlink:href=\"#DejaVuSans-5f\" x=\"104.736328\"/>\n       <use xlink:href=\"#DejaVuSans-6b\" x=\"154.736328\"/>\n       <use xlink:href=\"#DejaVuSans-69\" x=\"212.646484\"/>\n       <use xlink:href=\"#DejaVuSans-6c\" x=\"240.429688\"/>\n       <use xlink:href=\"#DejaVuSans-6c\" x=\"268.212891\"/>\n       <use xlink:href=\"#DejaVuSans-73\" x=\"295.996094\"/>\n      </g>\n     </g>\n    </g>\n    <g id=\"ytick_33\">\n     <g id=\"line2d_41\">\n      <g>\n       <use xlink:href=\"#ma135784799\" x=\"148.951562\" y=\"81.152411\" style=\"stroke: #000000; stroke-width: 0.8\"/>\n      </g>\n     </g>\n     <g id=\"text_41\">\n      <!-- r2_kills -->\n      <g transform=\"translate(107.14375 84.951629) scale(0.1 -0.1)\">\n       <use xlink:href=\"#DejaVuSans-72\"/>\n       <use xlink:href=\"#DejaVuSans-32\" x=\"41.113281\"/>\n       <use xlink:href=\"#DejaVuSans-5f\" x=\"104.736328\"/>\n       <use xlink:href=\"#DejaVuSans-6b\" x=\"154.736328\"/>\n       <use xlink:href=\"#DejaVuSans-69\" x=\"212.646484\"/>\n       <use xlink:href=\"#DejaVuSans-6c\" x=\"240.429688\"/>\n       <use xlink:href=\"#DejaVuSans-6c\" x=\"268.212891\"/>\n       <use xlink:href=\"#DejaVuSans-73\" x=\"295.996094\"/>\n      </g>\n     </g>\n    </g>\n    <g id=\"ytick_34\">\n     <g id=\"line2d_42\">\n      <g>\n       <use xlink:href=\"#ma135784799\" x=\"148.951562\" y=\"82.962696\" style=\"stroke: #000000; stroke-width: 0.8\"/>\n      </g>\n     </g>\n     <g id=\"text_42\">\n      <!-- r1_assists -->\n      <g transform=\"translate(92.814062 86.761915) scale(0.1 -0.1)\">\n       <use xlink:href=\"#DejaVuSans-72\"/>\n       <use xlink:href=\"#DejaVuSans-31\" x=\"41.113281\"/>\n       <use xlink:href=\"#DejaVuSans-5f\" x=\"104.736328\"/>\n       <use xlink:href=\"#DejaVuSans-61\" x=\"154.736328\"/>\n       <use xlink:href=\"#DejaVuSans-73\" x=\"216.015625\"/>\n       <use xlink:href=\"#DejaVuSans-73\" x=\"268.115234\"/>\n       <use xlink:href=\"#DejaVuSans-69\" x=\"320.214844\"/>\n       <use xlink:href=\"#DejaVuSans-73\" x=\"347.998047\"/>\n       <use xlink:href=\"#DejaVuSans-74\" x=\"400.097656\"/>\n       <use xlink:href=\"#DejaVuSans-73\" x=\"439.306641\"/>\n      </g>\n     </g>\n    </g>\n    <g id=\"ytick_35\">\n     <g id=\"line2d_43\">\n      <g>\n       <use xlink:href=\"#ma135784799\" x=\"148.951562\" y=\"84.772982\" style=\"stroke: #000000; stroke-width: 0.8\"/>\n      </g>\n     </g>\n     <g id=\"text_43\">\n      <!-- r5_kills -->\n      <g transform=\"translate(107.14375 88.572201) scale(0.1 -0.1)\">\n       <use xlink:href=\"#DejaVuSans-72\"/>\n       <use xlink:href=\"#DejaVuSans-35\" x=\"41.113281\"/>\n       <use xlink:href=\"#DejaVuSans-5f\" x=\"104.736328\"/>\n       <use xlink:href=\"#DejaVuSans-6b\" x=\"154.736328\"/>\n       <use xlink:href=\"#DejaVuSans-69\" x=\"212.646484\"/>\n       <use xlink:href=\"#DejaVuSans-6c\" x=\"240.429688\"/>\n       <use xlink:href=\"#DejaVuSans-6c\" x=\"268.212891\"/>\n       <use xlink:href=\"#DejaVuSans-73\" x=\"295.996094\"/>\n      </g>\n     </g>\n    </g>\n    <g id=\"ytick_36\">\n     <g id=\"line2d_44\">\n      <g>\n       <use xlink:href=\"#ma135784799\" x=\"148.951562\" y=\"86.583268\" style=\"stroke: #000000; stroke-width: 0.8\"/>\n      </g>\n     </g>\n     <g id=\"text_44\">\n      <!-- r1_kills -->\n      <g transform=\"translate(107.14375 90.382487) scale(0.1 -0.1)\">\n       <use xlink:href=\"#DejaVuSans-72\"/>\n       <use xlink:href=\"#DejaVuSans-31\" x=\"41.113281\"/>\n       <use xlink:href=\"#DejaVuSans-5f\" x=\"104.736328\"/>\n       <use xlink:href=\"#DejaVuSans-6b\" x=\"154.736328\"/>\n       <use xlink:href=\"#DejaVuSans-69\" x=\"212.646484\"/>\n       <use xlink:href=\"#DejaVuSans-6c\" x=\"240.429688\"/>\n       <use xlink:href=\"#DejaVuSans-6c\" x=\"268.212891\"/>\n       <use xlink:href=\"#DejaVuSans-73\" x=\"295.996094\"/>\n      </g>\n     </g>\n    </g>\n    <g id=\"ytick_37\">\n     <g id=\"line2d_45\">\n      <g>\n       <use xlink:href=\"#ma135784799\" x=\"148.951562\" y=\"88.393554\" style=\"stroke: #000000; stroke-width: 0.8\"/>\n      </g>\n     </g>\n     <g id=\"text_45\">\n      <!-- r2_assists -->\n      <g transform=\"translate(92.814062 92.192772) scale(0.1 -0.1)\">\n       <use xlink:href=\"#DejaVuSans-72\"/>\n       <use xlink:href=\"#DejaVuSans-32\" x=\"41.113281\"/>\n       <use xlink:href=\"#DejaVuSans-5f\" x=\"104.736328\"/>\n       <use xlink:href=\"#DejaVuSans-61\" x=\"154.736328\"/>\n       <use xlink:href=\"#DejaVuSans-73\" x=\"216.015625\"/>\n       <use xlink:href=\"#DejaVuSans-73\" x=\"268.115234\"/>\n       <use xlink:href=\"#DejaVuSans-69\" x=\"320.214844\"/>\n       <use xlink:href=\"#DejaVuSans-73\" x=\"347.998047\"/>\n       <use xlink:href=\"#DejaVuSans-74\" x=\"400.097656\"/>\n       <use xlink:href=\"#DejaVuSans-73\" x=\"439.306641\"/>\n      </g>\n     </g>\n    </g>\n    <g id=\"ytick_38\">\n     <g id=\"line2d_46\">\n      <g>\n       <use xlink:href=\"#ma135784799\" x=\"148.951562\" y=\"90.203839\" style=\"stroke: #000000; stroke-width: 0.8\"/>\n      </g>\n     </g>\n     <g id=\"text_46\">\n      <!-- r3_rune_pickups -->\n      <g transform=\"translate(60.540625 94.003058) scale(0.1 -0.1)\">\n       <defs>\n        <path id=\"DejaVuSans-75\" d=\"M 544 1381 \nL 544 3500 \nL 1119 3500 \nL 1119 1403 \nQ 1119 906 1312 657 \nQ 1506 409 1894 409 \nQ 2359 409 2629 706 \nQ 2900 1003 2900 1516 \nL 2900 3500 \nL 3475 3500 \nL 3475 0 \nL 2900 0 \nL 2900 538 \nQ 2691 219 2414 64 \nQ 2138 -91 1772 -91 \nQ 1169 -91 856 284 \nQ 544 659 544 1381 \nz\nM 1991 3584 \nL 1991 3584 \nz\n\" transform=\"scale(0.015625)\"/>\n        <path id=\"DejaVuSans-6e\" d=\"M 3513 2113 \nL 3513 0 \nL 2938 0 \nL 2938 2094 \nQ 2938 2591 2744 2837 \nQ 2550 3084 2163 3084 \nQ 1697 3084 1428 2787 \nQ 1159 2491 1159 1978 \nL 1159 0 \nL 581 0 \nL 581 3500 \nL 1159 3500 \nL 1159 2956 \nQ 1366 3272 1645 3428 \nQ 1925 3584 2291 3584 \nQ 2894 3584 3203 3211 \nQ 3513 2838 3513 2113 \nz\n\" transform=\"scale(0.015625)\"/>\n        <path id=\"DejaVuSans-70\" d=\"M 1159 525 \nL 1159 -1331 \nL 581 -1331 \nL 581 3500 \nL 1159 3500 \nL 1159 2969 \nQ 1341 3281 1617 3432 \nQ 1894 3584 2278 3584 \nQ 2916 3584 3314 3078 \nQ 3713 2572 3713 1747 \nQ 3713 922 3314 415 \nQ 2916 -91 2278 -91 \nQ 1894 -91 1617 61 \nQ 1341 213 1159 525 \nz\nM 3116 1747 \nQ 3116 2381 2855 2742 \nQ 2594 3103 2138 3103 \nQ 1681 3103 1420 2742 \nQ 1159 2381 1159 1747 \nQ 1159 1113 1420 752 \nQ 1681 391 2138 391 \nQ 2594 391 2855 752 \nQ 3116 1113 3116 1747 \nz\n\" transform=\"scale(0.015625)\"/>\n        <path id=\"DejaVuSans-63\" d=\"M 3122 3366 \nL 3122 2828 \nQ 2878 2963 2633 3030 \nQ 2388 3097 2138 3097 \nQ 1578 3097 1268 2742 \nQ 959 2388 959 1747 \nQ 959 1106 1268 751 \nQ 1578 397 2138 397 \nQ 2388 397 2633 464 \nQ 2878 531 3122 666 \nL 3122 134 \nQ 2881 22 2623 -34 \nQ 2366 -91 2075 -91 \nQ 1284 -91 818 406 \nQ 353 903 353 1747 \nQ 353 2603 823 3093 \nQ 1294 3584 2113 3584 \nQ 2378 3584 2631 3529 \nQ 2884 3475 3122 3366 \nz\n\" transform=\"scale(0.015625)\"/>\n       </defs>\n       <use xlink:href=\"#DejaVuSans-72\"/>\n       <use xlink:href=\"#DejaVuSans-33\" x=\"41.113281\"/>\n       <use xlink:href=\"#DejaVuSans-5f\" x=\"104.736328\"/>\n       <use xlink:href=\"#DejaVuSans-72\" x=\"154.736328\"/>\n       <use xlink:href=\"#DejaVuSans-75\" x=\"195.849609\"/>\n       <use xlink:href=\"#DejaVuSans-6e\" x=\"259.228516\"/>\n       <use xlink:href=\"#DejaVuSans-65\" x=\"322.607422\"/>\n       <use xlink:href=\"#DejaVuSans-5f\" x=\"384.130859\"/>\n       <use xlink:href=\"#DejaVuSans-70\" x=\"434.130859\"/>\n       <use xlink:href=\"#DejaVuSans-69\" x=\"497.607422\"/>\n       <use xlink:href=\"#DejaVuSans-63\" x=\"525.390625\"/>\n       <use xlink:href=\"#DejaVuSans-6b\" x=\"580.371094\"/>\n       <use xlink:href=\"#DejaVuSans-75\" x=\"635.15625\"/>\n       <use xlink:href=\"#DejaVuSans-70\" x=\"698.535156\"/>\n       <use xlink:href=\"#DejaVuSans-73\" x=\"762.011719\"/>\n      </g>\n     </g>\n    </g>\n    <g id=\"ytick_39\">\n     <g id=\"line2d_47\">\n      <g>\n       <use xlink:href=\"#ma135784799\" x=\"148.951562\" y=\"92.014125\" style=\"stroke: #000000; stroke-width: 0.8\"/>\n      </g>\n     </g>\n     <g id=\"text_47\">\n      <!-- r3_assists -->\n      <g transform=\"translate(92.814062 95.813344) scale(0.1 -0.1)\">\n       <use xlink:href=\"#DejaVuSans-72\"/>\n       <use xlink:href=\"#DejaVuSans-33\" x=\"41.113281\"/>\n       <use xlink:href=\"#DejaVuSans-5f\" x=\"104.736328\"/>\n       <use xlink:href=\"#DejaVuSans-61\" x=\"154.736328\"/>\n       <use xlink:href=\"#DejaVuSans-73\" x=\"216.015625\"/>\n       <use xlink:href=\"#DejaVuSans-73\" x=\"268.115234\"/>\n       <use xlink:href=\"#DejaVuSans-69\" x=\"320.214844\"/>\n       <use xlink:href=\"#DejaVuSans-73\" x=\"347.998047\"/>\n       <use xlink:href=\"#DejaVuSans-74\" x=\"400.097656\"/>\n       <use xlink:href=\"#DejaVuSans-73\" x=\"439.306641\"/>\n      </g>\n     </g>\n    </g>\n    <g id=\"ytick_40\">\n     <g id=\"line2d_48\">\n      <g>\n       <use xlink:href=\"#ma135784799\" x=\"148.951562\" y=\"93.824411\" style=\"stroke: #000000; stroke-width: 0.8\"/>\n      </g>\n     </g>\n     <g id=\"text_48\">\n      <!-- r1_rune_pickups -->\n      <g transform=\"translate(60.540625 97.623629) scale(0.1 -0.1)\">\n       <use xlink:href=\"#DejaVuSans-72\"/>\n       <use xlink:href=\"#DejaVuSans-31\" x=\"41.113281\"/>\n       <use xlink:href=\"#DejaVuSans-5f\" x=\"104.736328\"/>\n       <use xlink:href=\"#DejaVuSans-72\" x=\"154.736328\"/>\n       <use xlink:href=\"#DejaVuSans-75\" x=\"195.849609\"/>\n       <use xlink:href=\"#DejaVuSans-6e\" x=\"259.228516\"/>\n       <use xlink:href=\"#DejaVuSans-65\" x=\"322.607422\"/>\n       <use xlink:href=\"#DejaVuSans-5f\" x=\"384.130859\"/>\n       <use xlink:href=\"#DejaVuSans-70\" x=\"434.130859\"/>\n       <use xlink:href=\"#DejaVuSans-69\" x=\"497.607422\"/>\n       <use xlink:href=\"#DejaVuSans-63\" x=\"525.390625\"/>\n       <use xlink:href=\"#DejaVuSans-6b\" x=\"580.371094\"/>\n       <use xlink:href=\"#DejaVuSans-75\" x=\"635.15625\"/>\n       <use xlink:href=\"#DejaVuSans-70\" x=\"698.535156\"/>\n       <use xlink:href=\"#DejaVuSans-73\" x=\"762.011719\"/>\n      </g>\n     </g>\n    </g>\n    <g id=\"ytick_41\">\n     <g id=\"line2d_49\">\n      <g>\n       <use xlink:href=\"#ma135784799\" x=\"148.951562\" y=\"95.634696\" style=\"stroke: #000000; stroke-width: 0.8\"/>\n      </g>\n     </g>\n     <g id=\"text_49\">\n      <!-- r4_assists -->\n      <g transform=\"translate(92.814062 99.433915) scale(0.1 -0.1)\">\n       <use xlink:href=\"#DejaVuSans-72\"/>\n       <use xlink:href=\"#DejaVuSans-34\" x=\"41.113281\"/>\n       <use xlink:href=\"#DejaVuSans-5f\" x=\"104.736328\"/>\n       <use xlink:href=\"#DejaVuSans-61\" x=\"154.736328\"/>\n       <use xlink:href=\"#DejaVuSans-73\" x=\"216.015625\"/>\n       <use xlink:href=\"#DejaVuSans-73\" x=\"268.115234\"/>\n       <use xlink:href=\"#DejaVuSans-69\" x=\"320.214844\"/>\n       <use xlink:href=\"#DejaVuSans-73\" x=\"347.998047\"/>\n       <use xlink:href=\"#DejaVuSans-74\" x=\"400.097656\"/>\n       <use xlink:href=\"#DejaVuSans-73\" x=\"439.306641\"/>\n      </g>\n     </g>\n    </g>\n    <g id=\"ytick_42\">\n     <g id=\"line2d_50\">\n      <g>\n       <use xlink:href=\"#ma135784799\" x=\"148.951562\" y=\"97.444982\" style=\"stroke: #000000; stroke-width: 0.8\"/>\n      </g>\n     </g>\n     <g id=\"text_50\">\n      <!-- r2_rune_pickups -->\n      <g transform=\"translate(60.540625 101.244201) scale(0.1 -0.1)\">\n       <use xlink:href=\"#DejaVuSans-72\"/>\n       <use xlink:href=\"#DejaVuSans-32\" x=\"41.113281\"/>\n       <use xlink:href=\"#DejaVuSans-5f\" x=\"104.736328\"/>\n       <use xlink:href=\"#DejaVuSans-72\" x=\"154.736328\"/>\n       <use xlink:href=\"#DejaVuSans-75\" x=\"195.849609\"/>\n       <use xlink:href=\"#DejaVuSans-6e\" x=\"259.228516\"/>\n       <use xlink:href=\"#DejaVuSans-65\" x=\"322.607422\"/>\n       <use xlink:href=\"#DejaVuSans-5f\" x=\"384.130859\"/>\n       <use xlink:href=\"#DejaVuSans-70\" x=\"434.130859\"/>\n       <use xlink:href=\"#DejaVuSans-69\" x=\"497.607422\"/>\n       <use xlink:href=\"#DejaVuSans-63\" x=\"525.390625\"/>\n       <use xlink:href=\"#DejaVuSans-6b\" x=\"580.371094\"/>\n       <use xlink:href=\"#DejaVuSans-75\" x=\"635.15625\"/>\n       <use xlink:href=\"#DejaVuSans-70\" x=\"698.535156\"/>\n       <use xlink:href=\"#DejaVuSans-73\" x=\"762.011719\"/>\n      </g>\n     </g>\n    </g>\n    <g id=\"ytick_43\">\n     <g id=\"line2d_51\">\n      <g>\n       <use xlink:href=\"#ma135784799\" x=\"148.951562\" y=\"99.255268\" style=\"stroke: #000000; stroke-width: 0.8\"/>\n      </g>\n     </g>\n     <g id=\"text_51\">\n      <!-- r5_assists -->\n      <g transform=\"translate(92.814062 103.054487) scale(0.1 -0.1)\">\n       <use xlink:href=\"#DejaVuSans-72\"/>\n       <use xlink:href=\"#DejaVuSans-35\" x=\"41.113281\"/>\n       <use xlink:href=\"#DejaVuSans-5f\" x=\"104.736328\"/>\n       <use xlink:href=\"#DejaVuSans-61\" x=\"154.736328\"/>\n       <use xlink:href=\"#DejaVuSans-73\" x=\"216.015625\"/>\n       <use xlink:href=\"#DejaVuSans-73\" x=\"268.115234\"/>\n       <use xlink:href=\"#DejaVuSans-69\" x=\"320.214844\"/>\n       <use xlink:href=\"#DejaVuSans-73\" x=\"347.998047\"/>\n       <use xlink:href=\"#DejaVuSans-74\" x=\"400.097656\"/>\n       <use xlink:href=\"#DejaVuSans-73\" x=\"439.306641\"/>\n      </g>\n     </g>\n    </g>\n    <g id=\"ytick_44\">\n     <g id=\"line2d_52\">\n      <g>\n       <use xlink:href=\"#ma135784799\" x=\"148.951562\" y=\"101.065554\" style=\"stroke: #000000; stroke-width: 0.8\"/>\n      </g>\n     </g>\n     <g id=\"text_52\">\n      <!-- r4_rune_pickups -->\n      <g transform=\"translate(60.540625 104.864772) scale(0.1 -0.1)\">\n       <use xlink:href=\"#DejaVuSans-72\"/>\n       <use xlink:href=\"#DejaVuSans-34\" x=\"41.113281\"/>\n       <use xlink:href=\"#DejaVuSans-5f\" x=\"104.736328\"/>\n       <use xlink:href=\"#DejaVuSans-72\" x=\"154.736328\"/>\n       <use xlink:href=\"#DejaVuSans-75\" x=\"195.849609\"/>\n       <use xlink:href=\"#DejaVuSans-6e\" x=\"259.228516\"/>\n       <use xlink:href=\"#DejaVuSans-65\" x=\"322.607422\"/>\n       <use xlink:href=\"#DejaVuSans-5f\" x=\"384.130859\"/>\n       <use xlink:href=\"#DejaVuSans-70\" x=\"434.130859\"/>\n       <use xlink:href=\"#DejaVuSans-69\" x=\"497.607422\"/>\n       <use xlink:href=\"#DejaVuSans-63\" x=\"525.390625\"/>\n       <use xlink:href=\"#DejaVuSans-6b\" x=\"580.371094\"/>\n       <use xlink:href=\"#DejaVuSans-75\" x=\"635.15625\"/>\n       <use xlink:href=\"#DejaVuSans-70\" x=\"698.535156\"/>\n       <use xlink:href=\"#DejaVuSans-73\" x=\"762.011719\"/>\n      </g>\n     </g>\n    </g>\n    <g id=\"ytick_45\">\n     <g id=\"line2d_53\">\n      <g>\n       <use xlink:href=\"#ma135784799\" x=\"148.951562\" y=\"102.875839\" style=\"stroke: #000000; stroke-width: 0.8\"/>\n      </g>\n     </g>\n     <g id=\"text_53\">\n      <!-- r5_rune_pickups -->\n      <g transform=\"translate(60.540625 106.675058) scale(0.1 -0.1)\">\n       <use xlink:href=\"#DejaVuSans-72\"/>\n       <use xlink:href=\"#DejaVuSans-35\" x=\"41.113281\"/>\n       <use xlink:href=\"#DejaVuSans-5f\" x=\"104.736328\"/>\n       <use xlink:href=\"#DejaVuSans-72\" x=\"154.736328\"/>\n       <use xlink:href=\"#DejaVuSans-75\" x=\"195.849609\"/>\n       <use xlink:href=\"#DejaVuSans-6e\" x=\"259.228516\"/>\n       <use xlink:href=\"#DejaVuSans-65\" x=\"322.607422\"/>\n       <use xlink:href=\"#DejaVuSans-5f\" x=\"384.130859\"/>\n       <use xlink:href=\"#DejaVuSans-70\" x=\"434.130859\"/>\n       <use xlink:href=\"#DejaVuSans-69\" x=\"497.607422\"/>\n       <use xlink:href=\"#DejaVuSans-63\" x=\"525.390625\"/>\n       <use xlink:href=\"#DejaVuSans-6b\" x=\"580.371094\"/>\n       <use xlink:href=\"#DejaVuSans-75\" x=\"635.15625\"/>\n       <use xlink:href=\"#DejaVuSans-70\" x=\"698.535156\"/>\n       <use xlink:href=\"#DejaVuSans-73\" x=\"762.011719\"/>\n      </g>\n     </g>\n    </g>\n    <g id=\"ytick_46\">\n     <g id=\"line2d_54\">\n      <g>\n       <use xlink:href=\"#ma135784799\" x=\"148.951562\" y=\"104.686125\" style=\"stroke: #000000; stroke-width: 0.8\"/>\n      </g>\n     </g>\n     <g id=\"text_54\">\n      <!-- r2_health -->\n      <g transform=\"translate(94.823437 108.485344) scale(0.1 -0.1)\">\n       <use xlink:href=\"#DejaVuSans-72\"/>\n       <use xlink:href=\"#DejaVuSans-32\" x=\"41.113281\"/>\n       <use xlink:href=\"#DejaVuSans-5f\" x=\"104.736328\"/>\n       <use xlink:href=\"#DejaVuSans-68\" x=\"154.736328\"/>\n       <use xlink:href=\"#DejaVuSans-65\" x=\"218.115234\"/>\n       <use xlink:href=\"#DejaVuSans-61\" x=\"279.638672\"/>\n       <use xlink:href=\"#DejaVuSans-6c\" x=\"340.917969\"/>\n       <use xlink:href=\"#DejaVuSans-74\" x=\"368.701172\"/>\n       <use xlink:href=\"#DejaVuSans-68\" x=\"407.910156\"/>\n      </g>\n     </g>\n    </g>\n    <g id=\"ytick_47\">\n     <g id=\"line2d_55\">\n      <g>\n       <use xlink:href=\"#ma135784799\" x=\"148.951562\" y=\"106.496411\" style=\"stroke: #000000; stroke-width: 0.8\"/>\n      </g>\n     </g>\n     <g id=\"text_55\">\n      <!-- r4_health -->\n      <g transform=\"translate(94.823437 110.295629) scale(0.1 -0.1)\">\n       <use xlink:href=\"#DejaVuSans-72\"/>\n       <use xlink:href=\"#DejaVuSans-34\" x=\"41.113281\"/>\n       <use xlink:href=\"#DejaVuSans-5f\" x=\"104.736328\"/>\n       <use xlink:href=\"#DejaVuSans-68\" x=\"154.736328\"/>\n       <use xlink:href=\"#DejaVuSans-65\" x=\"218.115234\"/>\n       <use xlink:href=\"#DejaVuSans-61\" x=\"279.638672\"/>\n       <use xlink:href=\"#DejaVuSans-6c\" x=\"340.917969\"/>\n       <use xlink:href=\"#DejaVuSans-74\" x=\"368.701172\"/>\n       <use xlink:href=\"#DejaVuSans-68\" x=\"407.910156\"/>\n      </g>\n     </g>\n    </g>\n    <g id=\"ytick_48\">\n     <g id=\"line2d_56\">\n      <g>\n       <use xlink:href=\"#ma135784799\" x=\"148.951562\" y=\"108.306696\" style=\"stroke: #000000; stroke-width: 0.8\"/>\n      </g>\n     </g>\n     <g id=\"text_56\">\n      <!-- r5_health -->\n      <g transform=\"translate(94.823437 112.105915) scale(0.1 -0.1)\">\n       <use xlink:href=\"#DejaVuSans-72\"/>\n       <use xlink:href=\"#DejaVuSans-35\" x=\"41.113281\"/>\n       <use xlink:href=\"#DejaVuSans-5f\" x=\"104.736328\"/>\n       <use xlink:href=\"#DejaVuSans-68\" x=\"154.736328\"/>\n       <use xlink:href=\"#DejaVuSans-65\" x=\"218.115234\"/>\n       <use xlink:href=\"#DejaVuSans-61\" x=\"279.638672\"/>\n       <use xlink:href=\"#DejaVuSans-6c\" x=\"340.917969\"/>\n       <use xlink:href=\"#DejaVuSans-74\" x=\"368.701172\"/>\n       <use xlink:href=\"#DejaVuSans-68\" x=\"407.910156\"/>\n      </g>\n     </g>\n    </g>\n    <g id=\"ytick_49\">\n     <g id=\"line2d_57\">\n      <g>\n       <use xlink:href=\"#ma135784799\" x=\"148.951562\" y=\"110.116982\" style=\"stroke: #000000; stroke-width: 0.8\"/>\n      </g>\n     </g>\n     <g id=\"text_57\">\n      <!-- r1_health -->\n      <g transform=\"translate(94.823437 113.916201) scale(0.1 -0.1)\">\n       <use xlink:href=\"#DejaVuSans-72\"/>\n       <use xlink:href=\"#DejaVuSans-31\" x=\"41.113281\"/>\n       <use xlink:href=\"#DejaVuSans-5f\" x=\"104.736328\"/>\n       <use xlink:href=\"#DejaVuSans-68\" x=\"154.736328\"/>\n       <use xlink:href=\"#DejaVuSans-65\" x=\"218.115234\"/>\n       <use xlink:href=\"#DejaVuSans-61\" x=\"279.638672\"/>\n       <use xlink:href=\"#DejaVuSans-6c\" x=\"340.917969\"/>\n       <use xlink:href=\"#DejaVuSans-74\" x=\"368.701172\"/>\n       <use xlink:href=\"#DejaVuSans-68\" x=\"407.910156\"/>\n      </g>\n     </g>\n    </g>\n    <g id=\"ytick_50\">\n     <g id=\"line2d_58\">\n      <g>\n       <use xlink:href=\"#ma135784799\" x=\"148.951562\" y=\"111.927268\" style=\"stroke: #000000; stroke-width: 0.8\"/>\n      </g>\n     </g>\n     <g id=\"text_58\">\n      <!-- r3_health -->\n      <g transform=\"translate(94.823437 115.726487) scale(0.1 -0.1)\">\n       <use xlink:href=\"#DejaVuSans-72\"/>\n       <use xlink:href=\"#DejaVuSans-33\" x=\"41.113281\"/>\n       <use xlink:href=\"#DejaVuSans-5f\" x=\"104.736328\"/>\n       <use xlink:href=\"#DejaVuSans-68\" x=\"154.736328\"/>\n       <use xlink:href=\"#DejaVuSans-65\" x=\"218.115234\"/>\n       <use xlink:href=\"#DejaVuSans-61\" x=\"279.638672\"/>\n       <use xlink:href=\"#DejaVuSans-6c\" x=\"340.917969\"/>\n       <use xlink:href=\"#DejaVuSans-74\" x=\"368.701172\"/>\n       <use xlink:href=\"#DejaVuSans-68\" x=\"407.910156\"/>\n      </g>\n     </g>\n    </g>\n    <g id=\"ytick_51\">\n     <g id=\"line2d_59\">\n      <g>\n       <use xlink:href=\"#ma135784799\" x=\"148.951562\" y=\"113.737554\" style=\"stroke: #000000; stroke-width: 0.8\"/>\n      </g>\n     </g>\n     <g id=\"text_59\">\n      <!-- r2_denies -->\n      <g transform=\"translate(93.498437 117.536772) scale(0.1 -0.1)\">\n       <use xlink:href=\"#DejaVuSans-72\"/>\n       <use xlink:href=\"#DejaVuSans-32\" x=\"41.113281\"/>\n       <use xlink:href=\"#DejaVuSans-5f\" x=\"104.736328\"/>\n       <use xlink:href=\"#DejaVuSans-64\" x=\"154.736328\"/>\n       <use xlink:href=\"#DejaVuSans-65\" x=\"218.212891\"/>\n       <use xlink:href=\"#DejaVuSans-6e\" x=\"279.736328\"/>\n       <use xlink:href=\"#DejaVuSans-69\" x=\"343.115234\"/>\n       <use xlink:href=\"#DejaVuSans-65\" x=\"370.898438\"/>\n       <use xlink:href=\"#DejaVuSans-73\" x=\"432.421875\"/>\n      </g>\n     </g>\n    </g>\n    <g id=\"ytick_52\">\n     <g id=\"line2d_60\">\n      <g>\n       <use xlink:href=\"#ma135784799\" x=\"148.951562\" y=\"115.547839\" style=\"stroke: #000000; stroke-width: 0.8\"/>\n      </g>\n     </g>\n     <g id=\"text_60\">\n      <!-- r5_denies -->\n      <g transform=\"translate(93.498437 119.347058) scale(0.1 -0.1)\">\n       <use xlink:href=\"#DejaVuSans-72\"/>\n       <use xlink:href=\"#DejaVuSans-35\" x=\"41.113281\"/>\n       <use xlink:href=\"#DejaVuSans-5f\" x=\"104.736328\"/>\n       <use xlink:href=\"#DejaVuSans-64\" x=\"154.736328\"/>\n       <use xlink:href=\"#DejaVuSans-65\" x=\"218.212891\"/>\n       <use xlink:href=\"#DejaVuSans-6e\" x=\"279.736328\"/>\n       <use xlink:href=\"#DejaVuSans-69\" x=\"343.115234\"/>\n       <use xlink:href=\"#DejaVuSans-65\" x=\"370.898438\"/>\n       <use xlink:href=\"#DejaVuSans-73\" x=\"432.421875\"/>\n      </g>\n     </g>\n    </g>\n    <g id=\"ytick_53\">\n     <g id=\"line2d_61\">\n      <g>\n       <use xlink:href=\"#ma135784799\" x=\"148.951562\" y=\"117.358125\" style=\"stroke: #000000; stroke-width: 0.8\"/>\n      </g>\n     </g>\n     <g id=\"text_61\">\n      <!-- r2_roshans_killed -->\n      <g transform=\"translate(55.625 121.157344) scale(0.1 -0.1)\">\n       <use xlink:href=\"#DejaVuSans-72\"/>\n       <use xlink:href=\"#DejaVuSans-32\" x=\"41.113281\"/>\n       <use xlink:href=\"#DejaVuSans-5f\" x=\"104.736328\"/>\n       <use xlink:href=\"#DejaVuSans-72\" x=\"154.736328\"/>\n       <use xlink:href=\"#DejaVuSans-6f\" x=\"193.599609\"/>\n       <use xlink:href=\"#DejaVuSans-73\" x=\"254.78125\"/>\n       <use xlink:href=\"#DejaVuSans-68\" x=\"306.880859\"/>\n       <use xlink:href=\"#DejaVuSans-61\" x=\"370.259766\"/>\n       <use xlink:href=\"#DejaVuSans-6e\" x=\"431.539062\"/>\n       <use xlink:href=\"#DejaVuSans-73\" x=\"494.917969\"/>\n       <use xlink:href=\"#DejaVuSans-5f\" x=\"547.017578\"/>\n       <use xlink:href=\"#DejaVuSans-6b\" x=\"597.017578\"/>\n       <use xlink:href=\"#DejaVuSans-69\" x=\"654.927734\"/>\n       <use xlink:href=\"#DejaVuSans-6c\" x=\"682.710938\"/>\n       <use xlink:href=\"#DejaVuSans-6c\" x=\"710.494141\"/>\n       <use xlink:href=\"#DejaVuSans-65\" x=\"738.277344\"/>\n       <use xlink:href=\"#DejaVuSans-64\" x=\"799.800781\"/>\n      </g>\n     </g>\n    </g>\n    <g id=\"ytick_54\">\n     <g id=\"line2d_62\">\n      <g>\n       <use xlink:href=\"#ma135784799\" x=\"148.951562\" y=\"119.168411\" style=\"stroke: #000000; stroke-width: 0.8\"/>\n      </g>\n     </g>\n     <g id=\"text_62\">\n      <!-- r4_firstblood_claimed -->\n      <g transform=\"translate(34.801562 122.967629) scale(0.1 -0.1)\">\n       <defs>\n        <path id=\"DejaVuSans-66\" d=\"M 2375 4863 \nL 2375 4384 \nL 1825 4384 \nQ 1516 4384 1395 4259 \nQ 1275 4134 1275 3809 \nL 1275 3500 \nL 2222 3500 \nL 2222 3053 \nL 1275 3053 \nL 1275 0 \nL 697 0 \nL 697 3053 \nL 147 3053 \nL 147 3500 \nL 697 3500 \nL 697 3744 \nQ 697 4328 969 4595 \nQ 1241 4863 1831 4863 \nL 2375 4863 \nz\n\" transform=\"scale(0.015625)\"/>\n        <path id=\"DejaVuSans-62\" d=\"M 3116 1747 \nQ 3116 2381 2855 2742 \nQ 2594 3103 2138 3103 \nQ 1681 3103 1420 2742 \nQ 1159 2381 1159 1747 \nQ 1159 1113 1420 752 \nQ 1681 391 2138 391 \nQ 2594 391 2855 752 \nQ 3116 1113 3116 1747 \nz\nM 1159 2969 \nQ 1341 3281 1617 3432 \nQ 1894 3584 2278 3584 \nQ 2916 3584 3314 3078 \nQ 3713 2572 3713 1747 \nQ 3713 922 3314 415 \nQ 2916 -91 2278 -91 \nQ 1894 -91 1617 61 \nQ 1341 213 1159 525 \nL 1159 0 \nL 581 0 \nL 581 4863 \nL 1159 4863 \nL 1159 2969 \nz\n\" transform=\"scale(0.015625)\"/>\n        <path id=\"DejaVuSans-6d\" d=\"M 3328 2828 \nQ 3544 3216 3844 3400 \nQ 4144 3584 4550 3584 \nQ 5097 3584 5394 3201 \nQ 5691 2819 5691 2113 \nL 5691 0 \nL 5113 0 \nL 5113 2094 \nQ 5113 2597 4934 2840 \nQ 4756 3084 4391 3084 \nQ 3944 3084 3684 2787 \nQ 3425 2491 3425 1978 \nL 3425 0 \nL 2847 0 \nL 2847 2094 \nQ 2847 2600 2669 2842 \nQ 2491 3084 2119 3084 \nQ 1678 3084 1418 2786 \nQ 1159 2488 1159 1978 \nL 1159 0 \nL 581 0 \nL 581 3500 \nL 1159 3500 \nL 1159 2956 \nQ 1356 3278 1631 3431 \nQ 1906 3584 2284 3584 \nQ 2666 3584 2933 3390 \nQ 3200 3197 3328 2828 \nz\n\" transform=\"scale(0.015625)\"/>\n       </defs>\n       <use xlink:href=\"#DejaVuSans-72\"/>\n       <use xlink:href=\"#DejaVuSans-34\" x=\"41.113281\"/>\n       <use xlink:href=\"#DejaVuSans-5f\" x=\"104.736328\"/>\n       <use xlink:href=\"#DejaVuSans-66\" x=\"154.736328\"/>\n       <use xlink:href=\"#DejaVuSans-69\" x=\"189.941406\"/>\n       <use xlink:href=\"#DejaVuSans-72\" x=\"217.724609\"/>\n       <use xlink:href=\"#DejaVuSans-73\" x=\"258.837891\"/>\n       <use xlink:href=\"#DejaVuSans-74\" x=\"310.9375\"/>\n       <use xlink:href=\"#DejaVuSans-62\" x=\"350.146484\"/>\n       <use xlink:href=\"#DejaVuSans-6c\" x=\"413.623047\"/>\n       <use xlink:href=\"#DejaVuSans-6f\" x=\"441.40625\"/>\n       <use xlink:href=\"#DejaVuSans-6f\" x=\"502.587891\"/>\n       <use xlink:href=\"#DejaVuSans-64\" x=\"563.769531\"/>\n       <use xlink:href=\"#DejaVuSans-5f\" x=\"627.246094\"/>\n       <use xlink:href=\"#DejaVuSans-63\" x=\"677.246094\"/>\n       <use xlink:href=\"#DejaVuSans-6c\" x=\"732.226562\"/>\n       <use xlink:href=\"#DejaVuSans-61\" x=\"760.009766\"/>\n       <use xlink:href=\"#DejaVuSans-69\" x=\"821.289062\"/>\n       <use xlink:href=\"#DejaVuSans-6d\" x=\"849.072266\"/>\n       <use xlink:href=\"#DejaVuSans-65\" x=\"946.484375\"/>\n       <use xlink:href=\"#DejaVuSans-64\" x=\"1008.007812\"/>\n      </g>\n     </g>\n    </g>\n    <g id=\"ytick_55\">\n     <g id=\"line2d_63\">\n      <g>\n       <use xlink:href=\"#ma135784799\" x=\"148.951562\" y=\"120.978696\" style=\"stroke: #000000; stroke-width: 0.8\"/>\n      </g>\n     </g>\n     <g id=\"text_63\">\n      <!-- r3_denies -->\n      <g transform=\"translate(93.498437 124.777915) scale(0.1 -0.1)\">\n       <use xlink:href=\"#DejaVuSans-72\"/>\n       <use xlink:href=\"#DejaVuSans-33\" x=\"41.113281\"/>\n       <use xlink:href=\"#DejaVuSans-5f\" x=\"104.736328\"/>\n       <use xlink:href=\"#DejaVuSans-64\" x=\"154.736328\"/>\n       <use xlink:href=\"#DejaVuSans-65\" x=\"218.212891\"/>\n       <use xlink:href=\"#DejaVuSans-6e\" x=\"279.736328\"/>\n       <use xlink:href=\"#DejaVuSans-69\" x=\"343.115234\"/>\n       <use xlink:href=\"#DejaVuSans-65\" x=\"370.898438\"/>\n       <use xlink:href=\"#DejaVuSans-73\" x=\"432.421875\"/>\n      </g>\n     </g>\n    </g>\n    <g id=\"ytick_56\">\n     <g id=\"line2d_64\">\n      <g>\n       <use xlink:href=\"#ma135784799\" x=\"148.951562\" y=\"122.788982\" style=\"stroke: #000000; stroke-width: 0.8\"/>\n      </g>\n     </g>\n     <g id=\"text_64\">\n      <!-- r4_roshans_killed -->\n      <g transform=\"translate(55.625 126.588201) scale(0.1 -0.1)\">\n       <use xlink:href=\"#DejaVuSans-72\"/>\n       <use xlink:href=\"#DejaVuSans-34\" x=\"41.113281\"/>\n       <use xlink:href=\"#DejaVuSans-5f\" x=\"104.736328\"/>\n       <use xlink:href=\"#DejaVuSans-72\" x=\"154.736328\"/>\n       <use xlink:href=\"#DejaVuSans-6f\" x=\"193.599609\"/>\n       <use xlink:href=\"#DejaVuSans-73\" x=\"254.78125\"/>\n       <use xlink:href=\"#DejaVuSans-68\" x=\"306.880859\"/>\n       <use xlink:href=\"#DejaVuSans-61\" x=\"370.259766\"/>\n       <use xlink:href=\"#DejaVuSans-6e\" x=\"431.539062\"/>\n       <use xlink:href=\"#DejaVuSans-73\" x=\"494.917969\"/>\n       <use xlink:href=\"#DejaVuSans-5f\" x=\"547.017578\"/>\n       <use xlink:href=\"#DejaVuSans-6b\" x=\"597.017578\"/>\n       <use xlink:href=\"#DejaVuSans-69\" x=\"654.927734\"/>\n       <use xlink:href=\"#DejaVuSans-6c\" x=\"682.710938\"/>\n       <use xlink:href=\"#DejaVuSans-6c\" x=\"710.494141\"/>\n       <use xlink:href=\"#DejaVuSans-65\" x=\"738.277344\"/>\n       <use xlink:href=\"#DejaVuSans-64\" x=\"799.800781\"/>\n      </g>\n     </g>\n    </g>\n    <g id=\"ytick_57\">\n     <g id=\"line2d_65\">\n      <g>\n       <use xlink:href=\"#ma135784799\" x=\"148.951562\" y=\"124.599268\" style=\"stroke: #000000; stroke-width: 0.8\"/>\n      </g>\n     </g>\n     <g id=\"text_65\">\n      <!-- r5_roshans_killed -->\n      <g transform=\"translate(55.625 128.398487) scale(0.1 -0.1)\">\n       <use xlink:href=\"#DejaVuSans-72\"/>\n       <use xlink:href=\"#DejaVuSans-35\" x=\"41.113281\"/>\n       <use xlink:href=\"#DejaVuSans-5f\" x=\"104.736328\"/>\n       <use xlink:href=\"#DejaVuSans-72\" x=\"154.736328\"/>\n       <use xlink:href=\"#DejaVuSans-6f\" x=\"193.599609\"/>\n       <use xlink:href=\"#DejaVuSans-73\" x=\"254.78125\"/>\n       <use xlink:href=\"#DejaVuSans-68\" x=\"306.880859\"/>\n       <use xlink:href=\"#DejaVuSans-61\" x=\"370.259766\"/>\n       <use xlink:href=\"#DejaVuSans-6e\" x=\"431.539062\"/>\n       <use xlink:href=\"#DejaVuSans-73\" x=\"494.917969\"/>\n       <use xlink:href=\"#DejaVuSans-5f\" x=\"547.017578\"/>\n       <use xlink:href=\"#DejaVuSans-6b\" x=\"597.017578\"/>\n       <use xlink:href=\"#DejaVuSans-69\" x=\"654.927734\"/>\n       <use xlink:href=\"#DejaVuSans-6c\" x=\"682.710938\"/>\n       <use xlink:href=\"#DejaVuSans-6c\" x=\"710.494141\"/>\n       <use xlink:href=\"#DejaVuSans-65\" x=\"738.277344\"/>\n       <use xlink:href=\"#DejaVuSans-64\" x=\"799.800781\"/>\n      </g>\n     </g>\n    </g>\n    <g id=\"ytick_58\">\n     <g id=\"line2d_66\">\n      <g>\n       <use xlink:href=\"#ma135784799\" x=\"148.951562\" y=\"126.409554\" style=\"stroke: #000000; stroke-width: 0.8\"/>\n      </g>\n     </g>\n     <g id=\"text_66\">\n      <!-- r3_roshans_killed -->\n      <g transform=\"translate(55.625 130.208772) scale(0.1 -0.1)\">\n       <use xlink:href=\"#DejaVuSans-72\"/>\n       <use xlink:href=\"#DejaVuSans-33\" x=\"41.113281\"/>\n       <use xlink:href=\"#DejaVuSans-5f\" x=\"104.736328\"/>\n       <use xlink:href=\"#DejaVuSans-72\" x=\"154.736328\"/>\n       <use xlink:href=\"#DejaVuSans-6f\" x=\"193.599609\"/>\n       <use xlink:href=\"#DejaVuSans-73\" x=\"254.78125\"/>\n       <use xlink:href=\"#DejaVuSans-68\" x=\"306.880859\"/>\n       <use xlink:href=\"#DejaVuSans-61\" x=\"370.259766\"/>\n       <use xlink:href=\"#DejaVuSans-6e\" x=\"431.539062\"/>\n       <use xlink:href=\"#DejaVuSans-73\" x=\"494.917969\"/>\n       <use xlink:href=\"#DejaVuSans-5f\" x=\"547.017578\"/>\n       <use xlink:href=\"#DejaVuSans-6b\" x=\"597.017578\"/>\n       <use xlink:href=\"#DejaVuSans-69\" x=\"654.927734\"/>\n       <use xlink:href=\"#DejaVuSans-6c\" x=\"682.710938\"/>\n       <use xlink:href=\"#DejaVuSans-6c\" x=\"710.494141\"/>\n       <use xlink:href=\"#DejaVuSans-65\" x=\"738.277344\"/>\n       <use xlink:href=\"#DejaVuSans-64\" x=\"799.800781\"/>\n      </g>\n     </g>\n    </g>\n    <g id=\"ytick_59\">\n     <g id=\"line2d_67\">\n      <g>\n       <use xlink:href=\"#ma135784799\" x=\"148.951562\" y=\"128.219839\" style=\"stroke: #000000; stroke-width: 0.8\"/>\n      </g>\n     </g>\n     <g id=\"text_67\">\n      <!-- r4_denies -->\n      <g transform=\"translate(93.498437 132.019058) scale(0.1 -0.1)\">\n       <use xlink:href=\"#DejaVuSans-72\"/>\n       <use xlink:href=\"#DejaVuSans-34\" x=\"41.113281\"/>\n       <use xlink:href=\"#DejaVuSans-5f\" x=\"104.736328\"/>\n       <use xlink:href=\"#DejaVuSans-64\" x=\"154.736328\"/>\n       <use xlink:href=\"#DejaVuSans-65\" x=\"218.212891\"/>\n       <use xlink:href=\"#DejaVuSans-6e\" x=\"279.736328\"/>\n       <use xlink:href=\"#DejaVuSans-69\" x=\"343.115234\"/>\n       <use xlink:href=\"#DejaVuSans-65\" x=\"370.898438\"/>\n       <use xlink:href=\"#DejaVuSans-73\" x=\"432.421875\"/>\n      </g>\n     </g>\n    </g>\n    <g id=\"ytick_60\">\n     <g id=\"line2d_68\">\n      <g>\n       <use xlink:href=\"#ma135784799\" x=\"148.951562\" y=\"130.030125\" style=\"stroke: #000000; stroke-width: 0.8\"/>\n      </g>\n     </g>\n     <g id=\"text_68\">\n      <!-- r1_denies -->\n      <g transform=\"translate(93.498437 133.829344) scale(0.1 -0.1)\">\n       <use xlink:href=\"#DejaVuSans-72\"/>\n       <use xlink:href=\"#DejaVuSans-31\" x=\"41.113281\"/>\n       <use xlink:href=\"#DejaVuSans-5f\" x=\"104.736328\"/>\n       <use xlink:href=\"#DejaVuSans-64\" x=\"154.736328\"/>\n       <use xlink:href=\"#DejaVuSans-65\" x=\"218.212891\"/>\n       <use xlink:href=\"#DejaVuSans-6e\" x=\"279.736328\"/>\n       <use xlink:href=\"#DejaVuSans-69\" x=\"343.115234\"/>\n       <use xlink:href=\"#DejaVuSans-65\" x=\"370.898438\"/>\n       <use xlink:href=\"#DejaVuSans-73\" x=\"432.421875\"/>\n      </g>\n     </g>\n    </g>\n    <g id=\"ytick_61\">\n     <g id=\"line2d_69\">\n      <g>\n       <use xlink:href=\"#ma135784799\" x=\"148.951562\" y=\"131.840411\" style=\"stroke: #000000; stroke-width: 0.8\"/>\n      </g>\n     </g>\n     <g id=\"text_69\">\n      <!-- r2_firstblood_claimed -->\n      <g transform=\"translate(34.801562 135.639629) scale(0.1 -0.1)\">\n       <use xlink:href=\"#DejaVuSans-72\"/>\n       <use xlink:href=\"#DejaVuSans-32\" x=\"41.113281\"/>\n       <use xlink:href=\"#DejaVuSans-5f\" x=\"104.736328\"/>\n       <use xlink:href=\"#DejaVuSans-66\" x=\"154.736328\"/>\n       <use xlink:href=\"#DejaVuSans-69\" x=\"189.941406\"/>\n       <use xlink:href=\"#DejaVuSans-72\" x=\"217.724609\"/>\n       <use xlink:href=\"#DejaVuSans-73\" x=\"258.837891\"/>\n       <use xlink:href=\"#DejaVuSans-74\" x=\"310.9375\"/>\n       <use xlink:href=\"#DejaVuSans-62\" x=\"350.146484\"/>\n       <use xlink:href=\"#DejaVuSans-6c\" x=\"413.623047\"/>\n       <use xlink:href=\"#DejaVuSans-6f\" x=\"441.40625\"/>\n       <use xlink:href=\"#DejaVuSans-6f\" x=\"502.587891\"/>\n       <use xlink:href=\"#DejaVuSans-64\" x=\"563.769531\"/>\n       <use xlink:href=\"#DejaVuSans-5f\" x=\"627.246094\"/>\n       <use xlink:href=\"#DejaVuSans-63\" x=\"677.246094\"/>\n       <use xlink:href=\"#DejaVuSans-6c\" x=\"732.226562\"/>\n       <use xlink:href=\"#DejaVuSans-61\" x=\"760.009766\"/>\n       <use xlink:href=\"#DejaVuSans-69\" x=\"821.289062\"/>\n       <use xlink:href=\"#DejaVuSans-6d\" x=\"849.072266\"/>\n       <use xlink:href=\"#DejaVuSans-65\" x=\"946.484375\"/>\n       <use xlink:href=\"#DejaVuSans-64\" x=\"1008.007812\"/>\n      </g>\n     </g>\n    </g>\n    <g id=\"ytick_62\">\n     <g id=\"line2d_70\">\n      <g>\n       <use xlink:href=\"#ma135784799\" x=\"148.951562\" y=\"133.650696\" style=\"stroke: #000000; stroke-width: 0.8\"/>\n      </g>\n     </g>\n     <g id=\"text_70\">\n      <!-- r4_gold -->\n      <g transform=\"translate(104.884375 137.449915) scale(0.1 -0.1)\">\n       <defs>\n        <path id=\"DejaVuSans-67\" d=\"M 2906 1791 \nQ 2906 2416 2648 2759 \nQ 2391 3103 1925 3103 \nQ 1463 3103 1205 2759 \nQ 947 2416 947 1791 \nQ 947 1169 1205 825 \nQ 1463 481 1925 481 \nQ 2391 481 2648 825 \nQ 2906 1169 2906 1791 \nz\nM 3481 434 \nQ 3481 -459 3084 -895 \nQ 2688 -1331 1869 -1331 \nQ 1566 -1331 1297 -1286 \nQ 1028 -1241 775 -1147 \nL 775 -588 \nQ 1028 -725 1275 -790 \nQ 1522 -856 1778 -856 \nQ 2344 -856 2625 -561 \nQ 2906 -266 2906 331 \nL 2906 616 \nQ 2728 306 2450 153 \nQ 2172 0 1784 0 \nQ 1141 0 747 490 \nQ 353 981 353 1791 \nQ 353 2603 747 3093 \nQ 1141 3584 1784 3584 \nQ 2172 3584 2450 3431 \nQ 2728 3278 2906 2969 \nL 2906 3500 \nL 3481 3500 \nL 3481 434 \nz\n\" transform=\"scale(0.015625)\"/>\n       </defs>\n       <use xlink:href=\"#DejaVuSans-72\"/>\n       <use xlink:href=\"#DejaVuSans-34\" x=\"41.113281\"/>\n       <use xlink:href=\"#DejaVuSans-5f\" x=\"104.736328\"/>\n       <use xlink:href=\"#DejaVuSans-67\" x=\"154.736328\"/>\n       <use xlink:href=\"#DejaVuSans-6f\" x=\"218.212891\"/>\n       <use xlink:href=\"#DejaVuSans-6c\" x=\"279.394531\"/>\n       <use xlink:href=\"#DejaVuSans-64\" x=\"307.177734\"/>\n      </g>\n     </g>\n    </g>\n    <g id=\"ytick_63\">\n     <g id=\"line2d_71\">\n      <g>\n       <use xlink:href=\"#ma135784799\" x=\"148.951562\" y=\"135.460982\" style=\"stroke: #000000; stroke-width: 0.8\"/>\n      </g>\n     </g>\n     <g id=\"text_71\">\n      <!-- r2_gold -->\n      <g transform=\"translate(104.884375 139.260201) scale(0.1 -0.1)\">\n       <use xlink:href=\"#DejaVuSans-72\"/>\n       <use xlink:href=\"#DejaVuSans-32\" x=\"41.113281\"/>\n       <use xlink:href=\"#DejaVuSans-5f\" x=\"104.736328\"/>\n       <use xlink:href=\"#DejaVuSans-67\" x=\"154.736328\"/>\n       <use xlink:href=\"#DejaVuSans-6f\" x=\"218.212891\"/>\n       <use xlink:href=\"#DejaVuSans-6c\" x=\"279.394531\"/>\n       <use xlink:href=\"#DejaVuSans-64\" x=\"307.177734\"/>\n      </g>\n     </g>\n    </g>\n    <g id=\"ytick_64\">\n     <g id=\"line2d_72\">\n      <g>\n       <use xlink:href=\"#ma135784799\" x=\"148.951562\" y=\"137.271268\" style=\"stroke: #000000; stroke-width: 0.8\"/>\n      </g>\n     </g>\n     <g id=\"text_72\">\n      <!-- r3_gold -->\n      <g transform=\"translate(104.884375 141.070487) scale(0.1 -0.1)\">\n       <use xlink:href=\"#DejaVuSans-72\"/>\n       <use xlink:href=\"#DejaVuSans-33\" x=\"41.113281\"/>\n       <use xlink:href=\"#DejaVuSans-5f\" x=\"104.736328\"/>\n       <use xlink:href=\"#DejaVuSans-67\" x=\"154.736328\"/>\n       <use xlink:href=\"#DejaVuSans-6f\" x=\"218.212891\"/>\n       <use xlink:href=\"#DejaVuSans-6c\" x=\"279.394531\"/>\n       <use xlink:href=\"#DejaVuSans-64\" x=\"307.177734\"/>\n      </g>\n     </g>\n    </g>\n    <g id=\"ytick_65\">\n     <g id=\"line2d_73\">\n      <g>\n       <use xlink:href=\"#ma135784799\" x=\"148.951562\" y=\"139.081554\" style=\"stroke: #000000; stroke-width: 0.8\"/>\n      </g>\n     </g>\n     <g id=\"text_73\">\n      <!-- r1_max_mana -->\n      <g transform=\"translate(71.35625 142.74171) scale(0.1 -0.1)\">\n       <use xlink:href=\"#DejaVuSans-72\"/>\n       <use xlink:href=\"#DejaVuSans-31\" x=\"41.113281\"/>\n       <use xlink:href=\"#DejaVuSans-5f\" x=\"104.736328\"/>\n       <use xlink:href=\"#DejaVuSans-6d\" x=\"154.736328\"/>\n       <use xlink:href=\"#DejaVuSans-61\" x=\"252.148438\"/>\n       <use xlink:href=\"#DejaVuSans-78\" x=\"313.427734\"/>\n       <use xlink:href=\"#DejaVuSans-5f\" x=\"372.607422\"/>\n       <use xlink:href=\"#DejaVuSans-6d\" x=\"422.607422\"/>\n       <use xlink:href=\"#DejaVuSans-61\" x=\"520.019531\"/>\n       <use xlink:href=\"#DejaVuSans-6e\" x=\"581.298828\"/>\n       <use xlink:href=\"#DejaVuSans-61\" x=\"644.677734\"/>\n      </g>\n     </g>\n    </g>\n    <g id=\"ytick_66\">\n     <g id=\"line2d_74\">\n      <g>\n       <use xlink:href=\"#ma135784799\" x=\"148.951562\" y=\"140.891839\" style=\"stroke: #000000; stroke-width: 0.8\"/>\n      </g>\n     </g>\n     <g id=\"text_74\">\n      <!-- r5_gold -->\n      <g transform=\"translate(104.884375 144.691058) scale(0.1 -0.1)\">\n       <use xlink:href=\"#DejaVuSans-72\"/>\n       <use xlink:href=\"#DejaVuSans-35\" x=\"41.113281\"/>\n       <use xlink:href=\"#DejaVuSans-5f\" x=\"104.736328\"/>\n       <use xlink:href=\"#DejaVuSans-67\" x=\"154.736328\"/>\n       <use xlink:href=\"#DejaVuSans-6f\" x=\"218.212891\"/>\n       <use xlink:href=\"#DejaVuSans-6c\" x=\"279.394531\"/>\n       <use xlink:href=\"#DejaVuSans-64\" x=\"307.177734\"/>\n      </g>\n     </g>\n    </g>\n    <g id=\"ytick_67\">\n     <g id=\"line2d_75\">\n      <g>\n       <use xlink:href=\"#ma135784799\" x=\"148.951562\" y=\"142.702125\" style=\"stroke: #000000; stroke-width: 0.8\"/>\n      </g>\n     </g>\n     <g id=\"text_75\">\n      <!-- r1_roshans_killed -->\n      <g transform=\"translate(55.625 146.501344) scale(0.1 -0.1)\">\n       <use xlink:href=\"#DejaVuSans-72\"/>\n       <use xlink:href=\"#DejaVuSans-31\" x=\"41.113281\"/>\n       <use xlink:href=\"#DejaVuSans-5f\" x=\"104.736328\"/>\n       <use xlink:href=\"#DejaVuSans-72\" x=\"154.736328\"/>\n       <use xlink:href=\"#DejaVuSans-6f\" x=\"193.599609\"/>\n       <use xlink:href=\"#DejaVuSans-73\" x=\"254.78125\"/>\n       <use xlink:href=\"#DejaVuSans-68\" x=\"306.880859\"/>\n       <use xlink:href=\"#DejaVuSans-61\" x=\"370.259766\"/>\n       <use xlink:href=\"#DejaVuSans-6e\" x=\"431.539062\"/>\n       <use xlink:href=\"#DejaVuSans-73\" x=\"494.917969\"/>\n       <use xlink:href=\"#DejaVuSans-5f\" x=\"547.017578\"/>\n       <use xlink:href=\"#DejaVuSans-6b\" x=\"597.017578\"/>\n       <use xlink:href=\"#DejaVuSans-69\" x=\"654.927734\"/>\n       <use xlink:href=\"#DejaVuSans-6c\" x=\"682.710938\"/>\n       <use xlink:href=\"#DejaVuSans-6c\" x=\"710.494141\"/>\n       <use xlink:href=\"#DejaVuSans-65\" x=\"738.277344\"/>\n       <use xlink:href=\"#DejaVuSans-64\" x=\"799.800781\"/>\n      </g>\n     </g>\n    </g>\n    <g id=\"ytick_68\">\n     <g id=\"line2d_76\">\n      <g>\n       <use xlink:href=\"#ma135784799\" x=\"148.951562\" y=\"144.512411\" style=\"stroke: #000000; stroke-width: 0.8\"/>\n      </g>\n     </g>\n     <g id=\"text_76\">\n      <!-- r1_gold -->\n      <g transform=\"translate(104.884375 148.311629) scale(0.1 -0.1)\">\n       <use xlink:href=\"#DejaVuSans-72\"/>\n       <use xlink:href=\"#DejaVuSans-31\" x=\"41.113281\"/>\n       <use xlink:href=\"#DejaVuSans-5f\" x=\"104.736328\"/>\n       <use xlink:href=\"#DejaVuSans-67\" x=\"154.736328\"/>\n       <use xlink:href=\"#DejaVuSans-6f\" x=\"218.212891\"/>\n       <use xlink:href=\"#DejaVuSans-6c\" x=\"279.394531\"/>\n       <use xlink:href=\"#DejaVuSans-64\" x=\"307.177734\"/>\n      </g>\n     </g>\n    </g>\n    <g id=\"ytick_69\">\n     <g id=\"line2d_77\">\n      <g>\n       <use xlink:href=\"#ma135784799\" x=\"148.951562\" y=\"146.322696\" style=\"stroke: #000000; stroke-width: 0.8\"/>\n      </g>\n     </g>\n     <g id=\"text_77\">\n      <!-- r4_max_health -->\n      <g transform=\"translate(68.035937 150.121915) scale(0.1 -0.1)\">\n       <use xlink:href=\"#DejaVuSans-72\"/>\n       <use xlink:href=\"#DejaVuSans-34\" x=\"41.113281\"/>\n       <use xlink:href=\"#DejaVuSans-5f\" x=\"104.736328\"/>\n       <use xlink:href=\"#DejaVuSans-6d\" x=\"154.736328\"/>\n       <use xlink:href=\"#DejaVuSans-61\" x=\"252.148438\"/>\n       <use xlink:href=\"#DejaVuSans-78\" x=\"313.427734\"/>\n       <use xlink:href=\"#DejaVuSans-5f\" x=\"372.607422\"/>\n       <use xlink:href=\"#DejaVuSans-68\" x=\"422.607422\"/>\n       <use xlink:href=\"#DejaVuSans-65\" x=\"485.986328\"/>\n       <use xlink:href=\"#DejaVuSans-61\" x=\"547.509766\"/>\n       <use xlink:href=\"#DejaVuSans-6c\" x=\"608.789062\"/>\n       <use xlink:href=\"#DejaVuSans-74\" x=\"636.572266\"/>\n       <use xlink:href=\"#DejaVuSans-68\" x=\"675.78125\"/>\n      </g>\n     </g>\n    </g>\n    <g id=\"ytick_70\">\n     <g id=\"line2d_78\">\n      <g>\n       <use xlink:href=\"#ma135784799\" x=\"148.951562\" y=\"148.132982\" style=\"stroke: #000000; stroke-width: 0.8\"/>\n      </g>\n     </g>\n     <g id=\"text_78\">\n      <!-- r2_max_health -->\n      <g transform=\"translate(68.035937 151.932201) scale(0.1 -0.1)\">\n       <use xlink:href=\"#DejaVuSans-72\"/>\n       <use xlink:href=\"#DejaVuSans-32\" x=\"41.113281\"/>\n       <use xlink:href=\"#DejaVuSans-5f\" x=\"104.736328\"/>\n       <use xlink:href=\"#DejaVuSans-6d\" x=\"154.736328\"/>\n       <use xlink:href=\"#DejaVuSans-61\" x=\"252.148438\"/>\n       <use xlink:href=\"#DejaVuSans-78\" x=\"313.427734\"/>\n       <use xlink:href=\"#DejaVuSans-5f\" x=\"372.607422\"/>\n       <use xlink:href=\"#DejaVuSans-68\" x=\"422.607422\"/>\n       <use xlink:href=\"#DejaVuSans-65\" x=\"485.986328\"/>\n       <use xlink:href=\"#DejaVuSans-61\" x=\"547.509766\"/>\n       <use xlink:href=\"#DejaVuSans-6c\" x=\"608.789062\"/>\n       <use xlink:href=\"#DejaVuSans-74\" x=\"636.572266\"/>\n       <use xlink:href=\"#DejaVuSans-68\" x=\"675.78125\"/>\n      </g>\n     </g>\n    </g>\n    <g id=\"ytick_71\">\n     <g id=\"line2d_79\">\n      <g>\n       <use xlink:href=\"#ma135784799\" x=\"148.951562\" y=\"149.943268\" style=\"stroke: #000000; stroke-width: 0.8\"/>\n      </g>\n     </g>\n     <g id=\"text_79\">\n      <!-- r5_max_health -->\n      <g transform=\"translate(68.035937 153.742487) scale(0.1 -0.1)\">\n       <use xlink:href=\"#DejaVuSans-72\"/>\n       <use xlink:href=\"#DejaVuSans-35\" x=\"41.113281\"/>\n       <use xlink:href=\"#DejaVuSans-5f\" x=\"104.736328\"/>\n       <use xlink:href=\"#DejaVuSans-6d\" x=\"154.736328\"/>\n       <use xlink:href=\"#DejaVuSans-61\" x=\"252.148438\"/>\n       <use xlink:href=\"#DejaVuSans-78\" x=\"313.427734\"/>\n       <use xlink:href=\"#DejaVuSans-5f\" x=\"372.607422\"/>\n       <use xlink:href=\"#DejaVuSans-68\" x=\"422.607422\"/>\n       <use xlink:href=\"#DejaVuSans-65\" x=\"485.986328\"/>\n       <use xlink:href=\"#DejaVuSans-61\" x=\"547.509766\"/>\n       <use xlink:href=\"#DejaVuSans-6c\" x=\"608.789062\"/>\n       <use xlink:href=\"#DejaVuSans-74\" x=\"636.572266\"/>\n       <use xlink:href=\"#DejaVuSans-68\" x=\"675.78125\"/>\n      </g>\n     </g>\n    </g>\n    <g id=\"ytick_72\">\n     <g id=\"line2d_80\">\n      <g>\n       <use xlink:href=\"#ma135784799\" x=\"148.951562\" y=\"151.753554\" style=\"stroke: #000000; stroke-width: 0.8\"/>\n      </g>\n     </g>\n     <g id=\"text_80\">\n      <!-- r3_max_health -->\n      <g transform=\"translate(68.035937 155.552772) scale(0.1 -0.1)\">\n       <use xlink:href=\"#DejaVuSans-72\"/>\n       <use xlink:href=\"#DejaVuSans-33\" x=\"41.113281\"/>\n       <use xlink:href=\"#DejaVuSans-5f\" x=\"104.736328\"/>\n       <use xlink:href=\"#DejaVuSans-6d\" x=\"154.736328\"/>\n       <use xlink:href=\"#DejaVuSans-61\" x=\"252.148438\"/>\n       <use xlink:href=\"#DejaVuSans-78\" x=\"313.427734\"/>\n       <use xlink:href=\"#DejaVuSans-5f\" x=\"372.607422\"/>\n       <use xlink:href=\"#DejaVuSans-68\" x=\"422.607422\"/>\n       <use xlink:href=\"#DejaVuSans-65\" x=\"485.986328\"/>\n       <use xlink:href=\"#DejaVuSans-61\" x=\"547.509766\"/>\n       <use xlink:href=\"#DejaVuSans-6c\" x=\"608.789062\"/>\n       <use xlink:href=\"#DejaVuSans-74\" x=\"636.572266\"/>\n       <use xlink:href=\"#DejaVuSans-68\" x=\"675.78125\"/>\n      </g>\n     </g>\n    </g>\n    <g id=\"ytick_73\">\n     <g id=\"line2d_81\">\n      <g>\n       <use xlink:href=\"#ma135784799\" x=\"148.951562\" y=\"153.563839\" style=\"stroke: #000000; stroke-width: 0.8\"/>\n      </g>\n     </g>\n     <g id=\"text_81\">\n      <!-- r1_max_health -->\n      <g transform=\"translate(68.035937 157.363058) scale(0.1 -0.1)\">\n       <use xlink:href=\"#DejaVuSans-72\"/>\n       <use xlink:href=\"#DejaVuSans-31\" x=\"41.113281\"/>\n       <use xlink:href=\"#DejaVuSans-5f\" x=\"104.736328\"/>\n       <use xlink:href=\"#DejaVuSans-6d\" x=\"154.736328\"/>\n       <use xlink:href=\"#DejaVuSans-61\" x=\"252.148438\"/>\n       <use xlink:href=\"#DejaVuSans-78\" x=\"313.427734\"/>\n       <use xlink:href=\"#DejaVuSans-5f\" x=\"372.607422\"/>\n       <use xlink:href=\"#DejaVuSans-68\" x=\"422.607422\"/>\n       <use xlink:href=\"#DejaVuSans-65\" x=\"485.986328\"/>\n       <use xlink:href=\"#DejaVuSans-61\" x=\"547.509766\"/>\n       <use xlink:href=\"#DejaVuSans-6c\" x=\"608.789062\"/>\n       <use xlink:href=\"#DejaVuSans-74\" x=\"636.572266\"/>\n       <use xlink:href=\"#DejaVuSans-68\" x=\"675.78125\"/>\n      </g>\n     </g>\n    </g>\n    <g id=\"ytick_74\">\n     <g id=\"line2d_82\">\n      <g>\n       <use xlink:href=\"#ma135784799\" x=\"148.951562\" y=\"155.374125\" style=\"stroke: #000000; stroke-width: 0.8\"/>\n      </g>\n     </g>\n     <g id=\"text_82\">\n      <!-- r3_firstblood_claimed -->\n      <g transform=\"translate(34.801562 159.173344) scale(0.1 -0.1)\">\n       <use xlink:href=\"#DejaVuSans-72\"/>\n       <use xlink:href=\"#DejaVuSans-33\" x=\"41.113281\"/>\n       <use xlink:href=\"#DejaVuSans-5f\" x=\"104.736328\"/>\n       <use xlink:href=\"#DejaVuSans-66\" x=\"154.736328\"/>\n       <use xlink:href=\"#DejaVuSans-69\" x=\"189.941406\"/>\n       <use xlink:href=\"#DejaVuSans-72\" x=\"217.724609\"/>\n       <use xlink:href=\"#DejaVuSans-73\" x=\"258.837891\"/>\n       <use xlink:href=\"#DejaVuSans-74\" x=\"310.9375\"/>\n       <use xlink:href=\"#DejaVuSans-62\" x=\"350.146484\"/>\n       <use xlink:href=\"#DejaVuSans-6c\" x=\"413.623047\"/>\n       <use xlink:href=\"#DejaVuSans-6f\" x=\"441.40625\"/>\n       <use xlink:href=\"#DejaVuSans-6f\" x=\"502.587891\"/>\n       <use xlink:href=\"#DejaVuSans-64\" x=\"563.769531\"/>\n       <use xlink:href=\"#DejaVuSans-5f\" x=\"627.246094\"/>\n       <use xlink:href=\"#DejaVuSans-63\" x=\"677.246094\"/>\n       <use xlink:href=\"#DejaVuSans-6c\" x=\"732.226562\"/>\n       <use xlink:href=\"#DejaVuSans-61\" x=\"760.009766\"/>\n       <use xlink:href=\"#DejaVuSans-69\" x=\"821.289062\"/>\n       <use xlink:href=\"#DejaVuSans-6d\" x=\"849.072266\"/>\n       <use xlink:href=\"#DejaVuSans-65\" x=\"946.484375\"/>\n       <use xlink:href=\"#DejaVuSans-64\" x=\"1008.007812\"/>\n      </g>\n     </g>\n    </g>\n    <g id=\"ytick_75\">\n     <g id=\"line2d_83\">\n      <g>\n       <use xlink:href=\"#ma135784799\" x=\"148.951562\" y=\"157.184411\" style=\"stroke: #000000; stroke-width: 0.8\"/>\n      </g>\n     </g>\n     <g id=\"text_83\">\n      <!-- r5_max_mana -->\n      <g transform=\"translate(71.35625 160.844567) scale(0.1 -0.1)\">\n       <use xlink:href=\"#DejaVuSans-72\"/>\n       <use xlink:href=\"#DejaVuSans-35\" x=\"41.113281\"/>\n       <use xlink:href=\"#DejaVuSans-5f\" x=\"104.736328\"/>\n       <use xlink:href=\"#DejaVuSans-6d\" x=\"154.736328\"/>\n       <use xlink:href=\"#DejaVuSans-61\" x=\"252.148438\"/>\n       <use xlink:href=\"#DejaVuSans-78\" x=\"313.427734\"/>\n       <use xlink:href=\"#DejaVuSans-5f\" x=\"372.607422\"/>\n       <use xlink:href=\"#DejaVuSans-6d\" x=\"422.607422\"/>\n       <use xlink:href=\"#DejaVuSans-61\" x=\"520.019531\"/>\n       <use xlink:href=\"#DejaVuSans-6e\" x=\"581.298828\"/>\n       <use xlink:href=\"#DejaVuSans-61\" x=\"644.677734\"/>\n      </g>\n     </g>\n    </g>\n    <g id=\"ytick_76\">\n     <g id=\"line2d_84\">\n      <g>\n       <use xlink:href=\"#ma135784799\" x=\"148.951562\" y=\"158.994696\" style=\"stroke: #000000; stroke-width: 0.8\"/>\n      </g>\n     </g>\n     <g id=\"text_84\">\n      <!-- r1_firstblood_claimed -->\n      <g transform=\"translate(34.801562 162.793915) scale(0.1 -0.1)\">\n       <use xlink:href=\"#DejaVuSans-72\"/>\n       <use xlink:href=\"#DejaVuSans-31\" x=\"41.113281\"/>\n       <use xlink:href=\"#DejaVuSans-5f\" x=\"104.736328\"/>\n       <use xlink:href=\"#DejaVuSans-66\" x=\"154.736328\"/>\n       <use xlink:href=\"#DejaVuSans-69\" x=\"189.941406\"/>\n       <use xlink:href=\"#DejaVuSans-72\" x=\"217.724609\"/>\n       <use xlink:href=\"#DejaVuSans-73\" x=\"258.837891\"/>\n       <use xlink:href=\"#DejaVuSans-74\" x=\"310.9375\"/>\n       <use xlink:href=\"#DejaVuSans-62\" x=\"350.146484\"/>\n       <use xlink:href=\"#DejaVuSans-6c\" x=\"413.623047\"/>\n       <use xlink:href=\"#DejaVuSans-6f\" x=\"441.40625\"/>\n       <use xlink:href=\"#DejaVuSans-6f\" x=\"502.587891\"/>\n       <use xlink:href=\"#DejaVuSans-64\" x=\"563.769531\"/>\n       <use xlink:href=\"#DejaVuSans-5f\" x=\"627.246094\"/>\n       <use xlink:href=\"#DejaVuSans-63\" x=\"677.246094\"/>\n       <use xlink:href=\"#DejaVuSans-6c\" x=\"732.226562\"/>\n       <use xlink:href=\"#DejaVuSans-61\" x=\"760.009766\"/>\n       <use xlink:href=\"#DejaVuSans-69\" x=\"821.289062\"/>\n       <use xlink:href=\"#DejaVuSans-6d\" x=\"849.072266\"/>\n       <use xlink:href=\"#DejaVuSans-65\" x=\"946.484375\"/>\n       <use xlink:href=\"#DejaVuSans-64\" x=\"1008.007812\"/>\n      </g>\n     </g>\n    </g>\n    <g id=\"ytick_77\">\n     <g id=\"line2d_85\">\n      <g>\n       <use xlink:href=\"#ma135784799\" x=\"148.951562\" y=\"160.804982\" style=\"stroke: #000000; stroke-width: 0.8\"/>\n      </g>\n     </g>\n     <g id=\"text_85\">\n      <!-- r2_max_mana -->\n      <g transform=\"translate(71.35625 164.51592) scale(0.1 -0.1)\">\n       <use xlink:href=\"#DejaVuSans-72\"/>\n       <use xlink:href=\"#DejaVuSans-32\" x=\"41.113281\"/>\n       <use xlink:href=\"#DejaVuSans-5f\" x=\"104.736328\"/>\n       <use xlink:href=\"#DejaVuSans-6d\" x=\"154.736328\"/>\n       <use xlink:href=\"#DejaVuSans-61\" x=\"252.148438\"/>\n       <use xlink:href=\"#DejaVuSans-78\" x=\"313.427734\"/>\n       <use xlink:href=\"#DejaVuSans-5f\" x=\"372.607422\"/>\n       <use xlink:href=\"#DejaVuSans-6d\" x=\"422.607422\"/>\n       <use xlink:href=\"#DejaVuSans-61\" x=\"520.019531\"/>\n       <use xlink:href=\"#DejaVuSans-6e\" x=\"581.298828\"/>\n       <use xlink:href=\"#DejaVuSans-61\" x=\"644.677734\"/>\n      </g>\n     </g>\n    </g>\n    <g id=\"ytick_78\">\n     <g id=\"line2d_86\">\n      <g>\n       <use xlink:href=\"#ma135784799\" x=\"148.951562\" y=\"162.615268\" style=\"stroke: #000000; stroke-width: 0.8\"/>\n      </g>\n     </g>\n     <g id=\"text_86\">\n      <!-- r4_max_mana -->\n      <g transform=\"translate(71.35625 166.275424) scale(0.1 -0.1)\">\n       <use xlink:href=\"#DejaVuSans-72\"/>\n       <use xlink:href=\"#DejaVuSans-34\" x=\"41.113281\"/>\n       <use xlink:href=\"#DejaVuSans-5f\" x=\"104.736328\"/>\n       <use xlink:href=\"#DejaVuSans-6d\" x=\"154.736328\"/>\n       <use xlink:href=\"#DejaVuSans-61\" x=\"252.148438\"/>\n       <use xlink:href=\"#DejaVuSans-78\" x=\"313.427734\"/>\n       <use xlink:href=\"#DejaVuSans-5f\" x=\"372.607422\"/>\n       <use xlink:href=\"#DejaVuSans-6d\" x=\"422.607422\"/>\n       <use xlink:href=\"#DejaVuSans-61\" x=\"520.019531\"/>\n       <use xlink:href=\"#DejaVuSans-6e\" x=\"581.298828\"/>\n       <use xlink:href=\"#DejaVuSans-61\" x=\"644.677734\"/>\n      </g>\n     </g>\n    </g>\n    <g id=\"ytick_79\">\n     <g id=\"line2d_87\">\n      <g>\n       <use xlink:href=\"#ma135784799\" x=\"148.951562\" y=\"164.425554\" style=\"stroke: #000000; stroke-width: 0.8\"/>\n      </g>\n     </g>\n     <g id=\"text_87\">\n      <!-- r3_max_mana -->\n      <g transform=\"translate(71.35625 168.136491) scale(0.1 -0.1)\">\n       <use xlink:href=\"#DejaVuSans-72\"/>\n       <use xlink:href=\"#DejaVuSans-33\" x=\"41.113281\"/>\n       <use xlink:href=\"#DejaVuSans-5f\" x=\"104.736328\"/>\n       <use xlink:href=\"#DejaVuSans-6d\" x=\"154.736328\"/>\n       <use xlink:href=\"#DejaVuSans-61\" x=\"252.148438\"/>\n       <use xlink:href=\"#DejaVuSans-78\" x=\"313.427734\"/>\n       <use xlink:href=\"#DejaVuSans-5f\" x=\"372.607422\"/>\n       <use xlink:href=\"#DejaVuSans-6d\" x=\"422.607422\"/>\n       <use xlink:href=\"#DejaVuSans-61\" x=\"520.019531\"/>\n       <use xlink:href=\"#DejaVuSans-6e\" x=\"581.298828\"/>\n       <use xlink:href=\"#DejaVuSans-61\" x=\"644.677734\"/>\n      </g>\n     </g>\n    </g>\n    <g id=\"ytick_80\">\n     <g id=\"line2d_88\">\n      <g>\n       <use xlink:href=\"#ma135784799\" x=\"148.951562\" y=\"166.235839\" style=\"stroke: #000000; stroke-width: 0.8\"/>\n      </g>\n     </g>\n     <g id=\"text_88\">\n      <!-- r5_firstblood_claimed -->\n      <g transform=\"translate(34.801562 170.035058) scale(0.1 -0.1)\">\n       <use xlink:href=\"#DejaVuSans-72\"/>\n       <use xlink:href=\"#DejaVuSans-35\" x=\"41.113281\"/>\n       <use xlink:href=\"#DejaVuSans-5f\" x=\"104.736328\"/>\n       <use xlink:href=\"#DejaVuSans-66\" x=\"154.736328\"/>\n       <use xlink:href=\"#DejaVuSans-69\" x=\"189.941406\"/>\n       <use xlink:href=\"#DejaVuSans-72\" x=\"217.724609\"/>\n       <use xlink:href=\"#DejaVuSans-73\" x=\"258.837891\"/>\n       <use xlink:href=\"#DejaVuSans-74\" x=\"310.9375\"/>\n       <use xlink:href=\"#DejaVuSans-62\" x=\"350.146484\"/>\n       <use xlink:href=\"#DejaVuSans-6c\" x=\"413.623047\"/>\n       <use xlink:href=\"#DejaVuSans-6f\" x=\"441.40625\"/>\n       <use xlink:href=\"#DejaVuSans-6f\" x=\"502.587891\"/>\n       <use xlink:href=\"#DejaVuSans-64\" x=\"563.769531\"/>\n       <use xlink:href=\"#DejaVuSans-5f\" x=\"627.246094\"/>\n       <use xlink:href=\"#DejaVuSans-63\" x=\"677.246094\"/>\n       <use xlink:href=\"#DejaVuSans-6c\" x=\"732.226562\"/>\n       <use xlink:href=\"#DejaVuSans-61\" x=\"760.009766\"/>\n       <use xlink:href=\"#DejaVuSans-69\" x=\"821.289062\"/>\n       <use xlink:href=\"#DejaVuSans-6d\" x=\"849.072266\"/>\n       <use xlink:href=\"#DejaVuSans-65\" x=\"946.484375\"/>\n       <use xlink:href=\"#DejaVuSans-64\" x=\"1008.007812\"/>\n      </g>\n     </g>\n    </g>\n    <g id=\"ytick_81\">\n     <g id=\"line2d_89\">\n      <g>\n       <use xlink:href=\"#ma135784799\" x=\"148.951562\" y=\"168.046125\" style=\"stroke: #000000; stroke-width: 0.8\"/>\n      </g>\n     </g>\n     <g id=\"text_89\">\n      <!-- r4_xp -->\n      <g transform=\"translate(114.210938 171.706281) scale(0.1 -0.1)\">\n       <use xlink:href=\"#DejaVuSans-72\"/>\n       <use xlink:href=\"#DejaVuSans-34\" x=\"41.113281\"/>\n       <use xlink:href=\"#DejaVuSans-5f\" x=\"104.736328\"/>\n       <use xlink:href=\"#DejaVuSans-78\" x=\"154.736328\"/>\n       <use xlink:href=\"#DejaVuSans-70\" x=\"213.916016\"/>\n      </g>\n     </g>\n    </g>\n    <g id=\"ytick_82\">\n     <g id=\"line2d_90\">\n      <g>\n       <use xlink:href=\"#ma135784799\" x=\"148.951562\" y=\"169.856411\" style=\"stroke: #000000; stroke-width: 0.8\"/>\n      </g>\n     </g>\n     <g id=\"text_90\">\n      <!-- r2_xp -->\n      <g transform=\"translate(114.210938 173.567348) scale(0.1 -0.1)\">\n       <use xlink:href=\"#DejaVuSans-72\"/>\n       <use xlink:href=\"#DejaVuSans-32\" x=\"41.113281\"/>\n       <use xlink:href=\"#DejaVuSans-5f\" x=\"104.736328\"/>\n       <use xlink:href=\"#DejaVuSans-78\" x=\"154.736328\"/>\n       <use xlink:href=\"#DejaVuSans-70\" x=\"213.916016\"/>\n      </g>\n     </g>\n    </g>\n    <g id=\"ytick_83\">\n     <g id=\"line2d_91\">\n      <g>\n       <use xlink:href=\"#ma135784799\" x=\"148.951562\" y=\"171.666696\" style=\"stroke: #000000; stroke-width: 0.8\"/>\n      </g>\n     </g>\n     <g id=\"text_91\">\n      <!-- r3_xp -->\n      <g transform=\"translate(114.210938 175.377634) scale(0.1 -0.1)\">\n       <use xlink:href=\"#DejaVuSans-72\"/>\n       <use xlink:href=\"#DejaVuSans-33\" x=\"41.113281\"/>\n       <use xlink:href=\"#DejaVuSans-5f\" x=\"104.736328\"/>\n       <use xlink:href=\"#DejaVuSans-78\" x=\"154.736328\"/>\n       <use xlink:href=\"#DejaVuSans-70\" x=\"213.916016\"/>\n      </g>\n     </g>\n    </g>\n    <g id=\"ytick_84\">\n     <g id=\"line2d_92\">\n      <g>\n       <use xlink:href=\"#ma135784799\" x=\"148.951562\" y=\"173.476982\" style=\"stroke: #000000; stroke-width: 0.8\"/>\n      </g>\n     </g>\n     <g id=\"text_92\">\n      <!-- r4_lh -->\n      <g transform=\"translate(117.3625 177.276201) scale(0.1 -0.1)\">\n       <use xlink:href=\"#DejaVuSans-72\"/>\n       <use xlink:href=\"#DejaVuSans-34\" x=\"41.113281\"/>\n       <use xlink:href=\"#DejaVuSans-5f\" x=\"104.736328\"/>\n       <use xlink:href=\"#DejaVuSans-6c\" x=\"154.736328\"/>\n       <use xlink:href=\"#DejaVuSans-68\" x=\"182.519531\"/>\n      </g>\n     </g>\n    </g>\n    <g id=\"ytick_85\">\n     <g id=\"line2d_93\">\n      <g>\n       <use xlink:href=\"#ma135784799\" x=\"148.951562\" y=\"175.287268\" style=\"stroke: #000000; stroke-width: 0.8\"/>\n      </g>\n     </g>\n     <g id=\"text_93\">\n      <!-- r1_xp -->\n      <g transform=\"translate(114.210938 178.947424) scale(0.1 -0.1)\">\n       <use xlink:href=\"#DejaVuSans-72\"/>\n       <use xlink:href=\"#DejaVuSans-31\" x=\"41.113281\"/>\n       <use xlink:href=\"#DejaVuSans-5f\" x=\"104.736328\"/>\n       <use xlink:href=\"#DejaVuSans-78\" x=\"154.736328\"/>\n       <use xlink:href=\"#DejaVuSans-70\" x=\"213.916016\"/>\n      </g>\n     </g>\n    </g>\n    <g id=\"ytick_86\">\n     <g id=\"line2d_94\">\n      <g>\n       <use xlink:href=\"#ma135784799\" x=\"148.951562\" y=\"177.097554\" style=\"stroke: #000000; stroke-width: 0.8\"/>\n      </g>\n     </g>\n     <g id=\"text_94\">\n      <!-- r5_xp -->\n      <g transform=\"translate(114.210938 180.75771) scale(0.1 -0.1)\">\n       <use xlink:href=\"#DejaVuSans-72\"/>\n       <use xlink:href=\"#DejaVuSans-35\" x=\"41.113281\"/>\n       <use xlink:href=\"#DejaVuSans-5f\" x=\"104.736328\"/>\n       <use xlink:href=\"#DejaVuSans-78\" x=\"154.736328\"/>\n       <use xlink:href=\"#DejaVuSans-70\" x=\"213.916016\"/>\n      </g>\n     </g>\n    </g>\n    <g id=\"ytick_87\">\n     <g id=\"line2d_95\">\n      <g>\n       <use xlink:href=\"#ma135784799\" x=\"148.951562\" y=\"178.907839\" style=\"stroke: #000000; stroke-width: 0.8\"/>\n      </g>\n     </g>\n     <g id=\"text_95\">\n      <!-- r2_lh -->\n      <g transform=\"translate(117.3625 182.707058) scale(0.1 -0.1)\">\n       <use xlink:href=\"#DejaVuSans-72\"/>\n       <use xlink:href=\"#DejaVuSans-32\" x=\"41.113281\"/>\n       <use xlink:href=\"#DejaVuSans-5f\" x=\"104.736328\"/>\n       <use xlink:href=\"#DejaVuSans-6c\" x=\"154.736328\"/>\n       <use xlink:href=\"#DejaVuSans-68\" x=\"182.519531\"/>\n      </g>\n     </g>\n    </g>\n    <g id=\"ytick_88\">\n     <g id=\"line2d_96\">\n      <g>\n       <use xlink:href=\"#ma135784799\" x=\"148.951562\" y=\"180.718125\" style=\"stroke: #000000; stroke-width: 0.8\"/>\n      </g>\n     </g>\n     <g id=\"text_96\">\n      <!-- r4_level -->\n      <g transform=\"translate(102.696875 184.517344) scale(0.1 -0.1)\">\n       <defs>\n        <path id=\"DejaVuSans-76\" d=\"M 191 3500 \nL 800 3500 \nL 1894 563 \nL 2988 3500 \nL 3597 3500 \nL 2284 0 \nL 1503 0 \nL 191 3500 \nz\n\" transform=\"scale(0.015625)\"/>\n       </defs>\n       <use xlink:href=\"#DejaVuSans-72\"/>\n       <use xlink:href=\"#DejaVuSans-34\" x=\"41.113281\"/>\n       <use xlink:href=\"#DejaVuSans-5f\" x=\"104.736328\"/>\n       <use xlink:href=\"#DejaVuSans-6c\" x=\"154.736328\"/>\n       <use xlink:href=\"#DejaVuSans-65\" x=\"182.519531\"/>\n       <use xlink:href=\"#DejaVuSans-76\" x=\"244.042969\"/>\n       <use xlink:href=\"#DejaVuSans-65\" x=\"303.222656\"/>\n       <use xlink:href=\"#DejaVuSans-6c\" x=\"364.746094\"/>\n      </g>\n     </g>\n    </g>\n    <g id=\"ytick_89\">\n     <g id=\"line2d_97\">\n      <g>\n       <use xlink:href=\"#ma135784799\" x=\"148.951562\" y=\"182.528411\" style=\"stroke: #000000; stroke-width: 0.8\"/>\n      </g>\n     </g>\n     <g id=\"text_97\">\n      <!-- r5_lh -->\n      <g transform=\"translate(117.3625 186.327629) scale(0.1 -0.1)\">\n       <use xlink:href=\"#DejaVuSans-72\"/>\n       <use xlink:href=\"#DejaVuSans-35\" x=\"41.113281\"/>\n       <use xlink:href=\"#DejaVuSans-5f\" x=\"104.736328\"/>\n       <use xlink:href=\"#DejaVuSans-6c\" x=\"154.736328\"/>\n       <use xlink:href=\"#DejaVuSans-68\" x=\"182.519531\"/>\n      </g>\n     </g>\n    </g>\n    <g id=\"ytick_90\">\n     <g id=\"line2d_98\">\n      <g>\n       <use xlink:href=\"#ma135784799\" x=\"148.951562\" y=\"184.338696\" style=\"stroke: #000000; stroke-width: 0.8\"/>\n      </g>\n     </g>\n     <g id=\"text_98\">\n      <!-- d4_hero_id -->\n      <g transform=\"translate(87.61875 188.137915) scale(0.1 -0.1)\">\n       <use xlink:href=\"#DejaVuSans-64\"/>\n       <use xlink:href=\"#DejaVuSans-34\" x=\"63.476562\"/>\n       <use xlink:href=\"#DejaVuSans-5f\" x=\"127.099609\"/>\n       <use xlink:href=\"#DejaVuSans-68\" x=\"177.099609\"/>\n       <use xlink:href=\"#DejaVuSans-65\" x=\"240.478516\"/>\n       <use xlink:href=\"#DejaVuSans-72\" x=\"302.001953\"/>\n       <use xlink:href=\"#DejaVuSans-6f\" x=\"340.865234\"/>\n       <use xlink:href=\"#DejaVuSans-5f\" x=\"402.046875\"/>\n       <use xlink:href=\"#DejaVuSans-69\" x=\"452.046875\"/>\n       <use xlink:href=\"#DejaVuSans-64\" x=\"479.830078\"/>\n      </g>\n     </g>\n    </g>\n    <g id=\"ytick_91\">\n     <g id=\"line2d_99\">\n      <g>\n       <use xlink:href=\"#ma135784799\" x=\"148.951562\" y=\"186.148982\" style=\"stroke: #000000; stroke-width: 0.8\"/>\n      </g>\n     </g>\n     <g id=\"text_99\">\n      <!-- d1_hero_id -->\n      <g transform=\"translate(87.61875 189.948201) scale(0.1 -0.1)\">\n       <use xlink:href=\"#DejaVuSans-64\"/>\n       <use xlink:href=\"#DejaVuSans-31\" x=\"63.476562\"/>\n       <use xlink:href=\"#DejaVuSans-5f\" x=\"127.099609\"/>\n       <use xlink:href=\"#DejaVuSans-68\" x=\"177.099609\"/>\n       <use xlink:href=\"#DejaVuSans-65\" x=\"240.478516\"/>\n       <use xlink:href=\"#DejaVuSans-72\" x=\"302.001953\"/>\n       <use xlink:href=\"#DejaVuSans-6f\" x=\"340.865234\"/>\n       <use xlink:href=\"#DejaVuSans-5f\" x=\"402.046875\"/>\n       <use xlink:href=\"#DejaVuSans-69\" x=\"452.046875\"/>\n       <use xlink:href=\"#DejaVuSans-64\" x=\"479.830078\"/>\n      </g>\n     </g>\n    </g>\n    <g id=\"ytick_92\">\n     <g id=\"line2d_100\">\n      <g>\n       <use xlink:href=\"#ma135784799\" x=\"148.951562\" y=\"187.959268\" style=\"stroke: #000000; stroke-width: 0.8\"/>\n      </g>\n     </g>\n     <g id=\"text_100\">\n      <!-- r2_level -->\n      <g transform=\"translate(102.696875 191.758487) scale(0.1 -0.1)\">\n       <use xlink:href=\"#DejaVuSans-72\"/>\n       <use xlink:href=\"#DejaVuSans-32\" x=\"41.113281\"/>\n       <use xlink:href=\"#DejaVuSans-5f\" x=\"104.736328\"/>\n       <use xlink:href=\"#DejaVuSans-6c\" x=\"154.736328\"/>\n       <use xlink:href=\"#DejaVuSans-65\" x=\"182.519531\"/>\n       <use xlink:href=\"#DejaVuSans-76\" x=\"244.042969\"/>\n       <use xlink:href=\"#DejaVuSans-65\" x=\"303.222656\"/>\n       <use xlink:href=\"#DejaVuSans-6c\" x=\"364.746094\"/>\n      </g>\n     </g>\n    </g>\n    <g id=\"ytick_93\">\n     <g id=\"line2d_101\">\n      <g>\n       <use xlink:href=\"#ma135784799\" x=\"148.951562\" y=\"189.769554\" style=\"stroke: #000000; stroke-width: 0.8\"/>\n      </g>\n     </g>\n     <g id=\"text_101\">\n      <!-- r3_lh -->\n      <g transform=\"translate(117.3625 193.568772) scale(0.1 -0.1)\">\n       <use xlink:href=\"#DejaVuSans-72\"/>\n       <use xlink:href=\"#DejaVuSans-33\" x=\"41.113281\"/>\n       <use xlink:href=\"#DejaVuSans-5f\" x=\"104.736328\"/>\n       <use xlink:href=\"#DejaVuSans-6c\" x=\"154.736328\"/>\n       <use xlink:href=\"#DejaVuSans-68\" x=\"182.519531\"/>\n      </g>\n     </g>\n    </g>\n    <g id=\"ytick_94\">\n     <g id=\"line2d_102\">\n      <g>\n       <use xlink:href=\"#ma135784799\" x=\"148.951562\" y=\"191.579839\" style=\"stroke: #000000; stroke-width: 0.8\"/>\n      </g>\n     </g>\n     <g id=\"text_102\">\n      <!-- r1_level -->\n      <g transform=\"translate(102.696875 195.379058) scale(0.1 -0.1)\">\n       <use xlink:href=\"#DejaVuSans-72\"/>\n       <use xlink:href=\"#DejaVuSans-31\" x=\"41.113281\"/>\n       <use xlink:href=\"#DejaVuSans-5f\" x=\"104.736328\"/>\n       <use xlink:href=\"#DejaVuSans-6c\" x=\"154.736328\"/>\n       <use xlink:href=\"#DejaVuSans-65\" x=\"182.519531\"/>\n       <use xlink:href=\"#DejaVuSans-76\" x=\"244.042969\"/>\n       <use xlink:href=\"#DejaVuSans-65\" x=\"303.222656\"/>\n       <use xlink:href=\"#DejaVuSans-6c\" x=\"364.746094\"/>\n      </g>\n     </g>\n    </g>\n    <g id=\"ytick_95\">\n     <g id=\"line2d_103\">\n      <g>\n       <use xlink:href=\"#ma135784799\" x=\"148.951562\" y=\"193.390125\" style=\"stroke: #000000; stroke-width: 0.8\"/>\n      </g>\n     </g>\n     <g id=\"text_103\">\n      <!-- r3_level -->\n      <g transform=\"translate(102.696875 197.189344) scale(0.1 -0.1)\">\n       <use xlink:href=\"#DejaVuSans-72\"/>\n       <use xlink:href=\"#DejaVuSans-33\" x=\"41.113281\"/>\n       <use xlink:href=\"#DejaVuSans-5f\" x=\"104.736328\"/>\n       <use xlink:href=\"#DejaVuSans-6c\" x=\"154.736328\"/>\n       <use xlink:href=\"#DejaVuSans-65\" x=\"182.519531\"/>\n       <use xlink:href=\"#DejaVuSans-76\" x=\"244.042969\"/>\n       <use xlink:href=\"#DejaVuSans-65\" x=\"303.222656\"/>\n       <use xlink:href=\"#DejaVuSans-6c\" x=\"364.746094\"/>\n      </g>\n     </g>\n    </g>\n    <g id=\"ytick_96\">\n     <g id=\"line2d_104\">\n      <g>\n       <use xlink:href=\"#ma135784799\" x=\"148.951562\" y=\"195.200411\" style=\"stroke: #000000; stroke-width: 0.8\"/>\n      </g>\n     </g>\n     <g id=\"text_104\">\n      <!-- r5_level -->\n      <g transform=\"translate(102.696875 198.999629) scale(0.1 -0.1)\">\n       <use xlink:href=\"#DejaVuSans-72\"/>\n       <use xlink:href=\"#DejaVuSans-35\" x=\"41.113281\"/>\n       <use xlink:href=\"#DejaVuSans-5f\" x=\"104.736328\"/>\n       <use xlink:href=\"#DejaVuSans-6c\" x=\"154.736328\"/>\n       <use xlink:href=\"#DejaVuSans-65\" x=\"182.519531\"/>\n       <use xlink:href=\"#DejaVuSans-76\" x=\"244.042969\"/>\n       <use xlink:href=\"#DejaVuSans-65\" x=\"303.222656\"/>\n       <use xlink:href=\"#DejaVuSans-6c\" x=\"364.746094\"/>\n      </g>\n     </g>\n    </g>\n    <g id=\"ytick_97\">\n     <g id=\"line2d_105\">\n      <g>\n       <use xlink:href=\"#ma135784799\" x=\"148.951562\" y=\"197.010696\" style=\"stroke: #000000; stroke-width: 0.8\"/>\n      </g>\n     </g>\n     <g id=\"text_105\">\n      <!-- game_mode -->\n      <g transform=\"translate(80.220312 200.809915) scale(0.1 -0.1)\">\n       <use xlink:href=\"#DejaVuSans-67\"/>\n       <use xlink:href=\"#DejaVuSans-61\" x=\"63.476562\"/>\n       <use xlink:href=\"#DejaVuSans-6d\" x=\"124.755859\"/>\n       <use xlink:href=\"#DejaVuSans-65\" x=\"222.167969\"/>\n       <use xlink:href=\"#DejaVuSans-5f\" x=\"283.691406\"/>\n       <use xlink:href=\"#DejaVuSans-6d\" x=\"333.691406\"/>\n       <use xlink:href=\"#DejaVuSans-6f\" x=\"431.103516\"/>\n       <use xlink:href=\"#DejaVuSans-64\" x=\"492.285156\"/>\n       <use xlink:href=\"#DejaVuSans-65\" x=\"555.761719\"/>\n      </g>\n     </g>\n    </g>\n    <g id=\"ytick_98\">\n     <g id=\"line2d_106\">\n      <g>\n       <use xlink:href=\"#ma135784799\" x=\"148.951562\" y=\"198.820982\" style=\"stroke: #000000; stroke-width: 0.8\"/>\n      </g>\n     </g>\n     <g id=\"text_106\">\n      <!-- r5_creeps_stacked -->\n      <g transform=\"translate(49.54375 202.620201) scale(0.1 -0.1)\">\n       <use xlink:href=\"#DejaVuSans-72\"/>\n       <use xlink:href=\"#DejaVuSans-35\" x=\"41.113281\"/>\n       <use xlink:href=\"#DejaVuSans-5f\" x=\"104.736328\"/>\n       <use xlink:href=\"#DejaVuSans-63\" x=\"154.736328\"/>\n       <use xlink:href=\"#DejaVuSans-72\" x=\"209.716797\"/>\n       <use xlink:href=\"#DejaVuSans-65\" x=\"248.580078\"/>\n       <use xlink:href=\"#DejaVuSans-65\" x=\"310.103516\"/>\n       <use xlink:href=\"#DejaVuSans-70\" x=\"371.626953\"/>\n       <use xlink:href=\"#DejaVuSans-73\" x=\"435.103516\"/>\n       <use xlink:href=\"#DejaVuSans-5f\" x=\"487.203125\"/>\n       <use xlink:href=\"#DejaVuSans-73\" x=\"537.203125\"/>\n       <use xlink:href=\"#DejaVuSans-74\" x=\"589.302734\"/>\n       <use xlink:href=\"#DejaVuSans-61\" x=\"628.511719\"/>\n       <use xlink:href=\"#DejaVuSans-63\" x=\"689.791016\"/>\n       <use xlink:href=\"#DejaVuSans-6b\" x=\"744.771484\"/>\n       <use xlink:href=\"#DejaVuSans-65\" x=\"799.056641\"/>\n       <use xlink:href=\"#DejaVuSans-64\" x=\"860.580078\"/>\n      </g>\n     </g>\n    </g>\n    <g id=\"ytick_99\">\n     <g id=\"line2d_107\">\n      <g>\n       <use xlink:href=\"#ma135784799\" x=\"148.951562\" y=\"200.631268\" style=\"stroke: #000000; stroke-width: 0.8\"/>\n      </g>\n     </g>\n     <g id=\"text_107\">\n      <!-- r1_creeps_stacked -->\n      <g transform=\"translate(49.54375 204.430487) scale(0.1 -0.1)\">\n       <use xlink:href=\"#DejaVuSans-72\"/>\n       <use xlink:href=\"#DejaVuSans-31\" x=\"41.113281\"/>\n       <use xlink:href=\"#DejaVuSans-5f\" x=\"104.736328\"/>\n       <use xlink:href=\"#DejaVuSans-63\" x=\"154.736328\"/>\n       <use xlink:href=\"#DejaVuSans-72\" x=\"209.716797\"/>\n       <use xlink:href=\"#DejaVuSans-65\" x=\"248.580078\"/>\n       <use xlink:href=\"#DejaVuSans-65\" x=\"310.103516\"/>\n       <use xlink:href=\"#DejaVuSans-70\" x=\"371.626953\"/>\n       <use xlink:href=\"#DejaVuSans-73\" x=\"435.103516\"/>\n       <use xlink:href=\"#DejaVuSans-5f\" x=\"487.203125\"/>\n       <use xlink:href=\"#DejaVuSans-73\" x=\"537.203125\"/>\n       <use xlink:href=\"#DejaVuSans-74\" x=\"589.302734\"/>\n       <use xlink:href=\"#DejaVuSans-61\" x=\"628.511719\"/>\n       <use xlink:href=\"#DejaVuSans-63\" x=\"689.791016\"/>\n       <use xlink:href=\"#DejaVuSans-6b\" x=\"744.771484\"/>\n       <use xlink:href=\"#DejaVuSans-65\" x=\"799.056641\"/>\n       <use xlink:href=\"#DejaVuSans-64\" x=\"860.580078\"/>\n      </g>\n     </g>\n    </g>\n    <g id=\"ytick_100\">\n     <g id=\"line2d_108\">\n      <g>\n       <use xlink:href=\"#ma135784799\" x=\"148.951562\" y=\"202.441554\" style=\"stroke: #000000; stroke-width: 0.8\"/>\n      </g>\n     </g>\n     <g id=\"text_108\">\n      <!-- r1_camps_stacked -->\n      <g transform=\"translate(49.867187 206.240772) scale(0.1 -0.1)\">\n       <use xlink:href=\"#DejaVuSans-72\"/>\n       <use xlink:href=\"#DejaVuSans-31\" x=\"41.113281\"/>\n       <use xlink:href=\"#DejaVuSans-5f\" x=\"104.736328\"/>\n       <use xlink:href=\"#DejaVuSans-63\" x=\"154.736328\"/>\n       <use xlink:href=\"#DejaVuSans-61\" x=\"209.716797\"/>\n       <use xlink:href=\"#DejaVuSans-6d\" x=\"270.996094\"/>\n       <use xlink:href=\"#DejaVuSans-70\" x=\"368.408203\"/>\n       <use xlink:href=\"#DejaVuSans-73\" x=\"431.884766\"/>\n       <use xlink:href=\"#DejaVuSans-5f\" x=\"483.984375\"/>\n       <use xlink:href=\"#DejaVuSans-73\" x=\"533.984375\"/>\n       <use xlink:href=\"#DejaVuSans-74\" x=\"586.083984\"/>\n       <use xlink:href=\"#DejaVuSans-61\" x=\"625.292969\"/>\n       <use xlink:href=\"#DejaVuSans-63\" x=\"686.572266\"/>\n       <use xlink:href=\"#DejaVuSans-6b\" x=\"741.552734\"/>\n       <use xlink:href=\"#DejaVuSans-65\" x=\"795.837891\"/>\n       <use xlink:href=\"#DejaVuSans-64\" x=\"857.361328\"/>\n      </g>\n     </g>\n    </g>\n    <g id=\"ytick_101\">\n     <g id=\"line2d_109\">\n      <g>\n       <use xlink:href=\"#ma135784799\" x=\"148.951562\" y=\"204.251839\" style=\"stroke: #000000; stroke-width: 0.8\"/>\n      </g>\n     </g>\n     <g id=\"text_109\">\n      <!-- r3_camps_stacked -->\n      <g transform=\"translate(49.867187 208.051058) scale(0.1 -0.1)\">\n       <use xlink:href=\"#DejaVuSans-72\"/>\n       <use xlink:href=\"#DejaVuSans-33\" x=\"41.113281\"/>\n       <use xlink:href=\"#DejaVuSans-5f\" x=\"104.736328\"/>\n       <use xlink:href=\"#DejaVuSans-63\" x=\"154.736328\"/>\n       <use xlink:href=\"#DejaVuSans-61\" x=\"209.716797\"/>\n       <use xlink:href=\"#DejaVuSans-6d\" x=\"270.996094\"/>\n       <use xlink:href=\"#DejaVuSans-70\" x=\"368.408203\"/>\n       <use xlink:href=\"#DejaVuSans-73\" x=\"431.884766\"/>\n       <use xlink:href=\"#DejaVuSans-5f\" x=\"483.984375\"/>\n       <use xlink:href=\"#DejaVuSans-73\" x=\"533.984375\"/>\n       <use xlink:href=\"#DejaVuSans-74\" x=\"586.083984\"/>\n       <use xlink:href=\"#DejaVuSans-61\" x=\"625.292969\"/>\n       <use xlink:href=\"#DejaVuSans-63\" x=\"686.572266\"/>\n       <use xlink:href=\"#DejaVuSans-6b\" x=\"741.552734\"/>\n       <use xlink:href=\"#DejaVuSans-65\" x=\"795.837891\"/>\n       <use xlink:href=\"#DejaVuSans-64\" x=\"857.361328\"/>\n      </g>\n     </g>\n    </g>\n    <g id=\"ytick_102\">\n     <g id=\"line2d_110\">\n      <g>\n       <use xlink:href=\"#ma135784799\" x=\"148.951562\" y=\"206.062125\" style=\"stroke: #000000; stroke-width: 0.8\"/>\n      </g>\n     </g>\n     <g id=\"text_110\">\n      <!-- r1_teamfight_participation -->\n      <g transform=\"translate(9.4375 209.861344) scale(0.1 -0.1)\">\n       <use xlink:href=\"#DejaVuSans-72\"/>\n       <use xlink:href=\"#DejaVuSans-31\" x=\"41.113281\"/>\n       <use xlink:href=\"#DejaVuSans-5f\" x=\"104.736328\"/>\n       <use xlink:href=\"#DejaVuSans-74\" x=\"154.736328\"/>\n       <use xlink:href=\"#DejaVuSans-65\" x=\"193.945312\"/>\n       <use xlink:href=\"#DejaVuSans-61\" x=\"255.46875\"/>\n       <use xlink:href=\"#DejaVuSans-6d\" x=\"316.748047\"/>\n       <use xlink:href=\"#DejaVuSans-66\" x=\"414.160156\"/>\n       <use xlink:href=\"#DejaVuSans-69\" x=\"449.365234\"/>\n       <use xlink:href=\"#DejaVuSans-67\" x=\"477.148438\"/>\n       <use xlink:href=\"#DejaVuSans-68\" x=\"540.625\"/>\n       <use xlink:href=\"#DejaVuSans-74\" x=\"604.003906\"/>\n       <use xlink:href=\"#DejaVuSans-5f\" x=\"643.212891\"/>\n       <use xlink:href=\"#DejaVuSans-70\" x=\"693.212891\"/>\n       <use xlink:href=\"#DejaVuSans-61\" x=\"756.689453\"/>\n       <use xlink:href=\"#DejaVuSans-72\" x=\"817.96875\"/>\n       <use xlink:href=\"#DejaVuSans-74\" x=\"859.082031\"/>\n       <use xlink:href=\"#DejaVuSans-69\" x=\"898.291016\"/>\n       <use xlink:href=\"#DejaVuSans-63\" x=\"926.074219\"/>\n       <use xlink:href=\"#DejaVuSans-69\" x=\"981.054688\"/>\n       <use xlink:href=\"#DejaVuSans-70\" x=\"1008.837891\"/>\n       <use xlink:href=\"#DejaVuSans-61\" x=\"1072.314453\"/>\n       <use xlink:href=\"#DejaVuSans-74\" x=\"1133.59375\"/>\n       <use xlink:href=\"#DejaVuSans-69\" x=\"1172.802734\"/>\n       <use xlink:href=\"#DejaVuSans-6f\" x=\"1200.585938\"/>\n       <use xlink:href=\"#DejaVuSans-6e\" x=\"1261.767578\"/>\n      </g>\n     </g>\n    </g>\n    <g id=\"ytick_103\">\n     <g id=\"line2d_111\">\n      <g>\n       <use xlink:href=\"#ma135784799\" x=\"148.951562\" y=\"207.872411\" style=\"stroke: #000000; stroke-width: 0.8\"/>\n      </g>\n     </g>\n     <g id=\"text_111\">\n      <!-- d5_hero_id -->\n      <g transform=\"translate(87.61875 211.671629) scale(0.1 -0.1)\">\n       <use xlink:href=\"#DejaVuSans-64\"/>\n       <use xlink:href=\"#DejaVuSans-35\" x=\"63.476562\"/>\n       <use xlink:href=\"#DejaVuSans-5f\" x=\"127.099609\"/>\n       <use xlink:href=\"#DejaVuSans-68\" x=\"177.099609\"/>\n       <use xlink:href=\"#DejaVuSans-65\" x=\"240.478516\"/>\n       <use xlink:href=\"#DejaVuSans-72\" x=\"302.001953\"/>\n       <use xlink:href=\"#DejaVuSans-6f\" x=\"340.865234\"/>\n       <use xlink:href=\"#DejaVuSans-5f\" x=\"402.046875\"/>\n       <use xlink:href=\"#DejaVuSans-69\" x=\"452.046875\"/>\n       <use xlink:href=\"#DejaVuSans-64\" x=\"479.830078\"/>\n      </g>\n     </g>\n    </g>\n    <g id=\"ytick_104\">\n     <g id=\"line2d_112\">\n      <g>\n       <use xlink:href=\"#ma135784799\" x=\"148.951562\" y=\"209.682696\" style=\"stroke: #000000; stroke-width: 0.8\"/>\n      </g>\n     </g>\n     <g id=\"text_112\">\n      <!-- r5_camps_stacked -->\n      <g transform=\"translate(49.867187 213.481915) scale(0.1 -0.1)\">\n       <use xlink:href=\"#DejaVuSans-72\"/>\n       <use xlink:href=\"#DejaVuSans-35\" x=\"41.113281\"/>\n       <use xlink:href=\"#DejaVuSans-5f\" x=\"104.736328\"/>\n       <use xlink:href=\"#DejaVuSans-63\" x=\"154.736328\"/>\n       <use xlink:href=\"#DejaVuSans-61\" x=\"209.716797\"/>\n       <use xlink:href=\"#DejaVuSans-6d\" x=\"270.996094\"/>\n       <use xlink:href=\"#DejaVuSans-70\" x=\"368.408203\"/>\n       <use xlink:href=\"#DejaVuSans-73\" x=\"431.884766\"/>\n       <use xlink:href=\"#DejaVuSans-5f\" x=\"483.984375\"/>\n       <use xlink:href=\"#DejaVuSans-73\" x=\"533.984375\"/>\n       <use xlink:href=\"#DejaVuSans-74\" x=\"586.083984\"/>\n       <use xlink:href=\"#DejaVuSans-61\" x=\"625.292969\"/>\n       <use xlink:href=\"#DejaVuSans-63\" x=\"686.572266\"/>\n       <use xlink:href=\"#DejaVuSans-6b\" x=\"741.552734\"/>\n       <use xlink:href=\"#DejaVuSans-65\" x=\"795.837891\"/>\n       <use xlink:href=\"#DejaVuSans-64\" x=\"857.361328\"/>\n      </g>\n     </g>\n    </g>\n    <g id=\"ytick_105\">\n     <g id=\"line2d_113\">\n      <g>\n       <use xlink:href=\"#ma135784799\" x=\"148.951562\" y=\"211.492982\" style=\"stroke: #000000; stroke-width: 0.8\"/>\n      </g>\n     </g>\n     <g id=\"text_113\">\n      <!-- d3_sen_placed -->\n      <g transform=\"translate(68.285937 215.292201) scale(0.1 -0.1)\">\n       <use xlink:href=\"#DejaVuSans-64\"/>\n       <use xlink:href=\"#DejaVuSans-33\" x=\"63.476562\"/>\n       <use xlink:href=\"#DejaVuSans-5f\" x=\"127.099609\"/>\n       <use xlink:href=\"#DejaVuSans-73\" x=\"177.099609\"/>\n       <use xlink:href=\"#DejaVuSans-65\" x=\"229.199219\"/>\n       <use xlink:href=\"#DejaVuSans-6e\" x=\"290.722656\"/>\n       <use xlink:href=\"#DejaVuSans-5f\" x=\"354.101562\"/>\n       <use xlink:href=\"#DejaVuSans-70\" x=\"404.101562\"/>\n       <use xlink:href=\"#DejaVuSans-6c\" x=\"467.578125\"/>\n       <use xlink:href=\"#DejaVuSans-61\" x=\"495.361328\"/>\n       <use xlink:href=\"#DejaVuSans-63\" x=\"556.640625\"/>\n       <use xlink:href=\"#DejaVuSans-65\" x=\"611.621094\"/>\n       <use xlink:href=\"#DejaVuSans-64\" x=\"673.144531\"/>\n      </g>\n     </g>\n    </g>\n    <g id=\"ytick_106\">\n     <g id=\"line2d_114\">\n      <g>\n       <use xlink:href=\"#ma135784799\" x=\"148.951562\" y=\"213.303268\" style=\"stroke: #000000; stroke-width: 0.8\"/>\n      </g>\n     </g>\n     <g id=\"text_114\">\n      <!-- r3_creeps_stacked -->\n      <g transform=\"translate(49.54375 217.102487) scale(0.1 -0.1)\">\n       <use xlink:href=\"#DejaVuSans-72\"/>\n       <use xlink:href=\"#DejaVuSans-33\" x=\"41.113281\"/>\n       <use xlink:href=\"#DejaVuSans-5f\" x=\"104.736328\"/>\n       <use xlink:href=\"#DejaVuSans-63\" x=\"154.736328\"/>\n       <use xlink:href=\"#DejaVuSans-72\" x=\"209.716797\"/>\n       <use xlink:href=\"#DejaVuSans-65\" x=\"248.580078\"/>\n       <use xlink:href=\"#DejaVuSans-65\" x=\"310.103516\"/>\n       <use xlink:href=\"#DejaVuSans-70\" x=\"371.626953\"/>\n       <use xlink:href=\"#DejaVuSans-73\" x=\"435.103516\"/>\n       <use xlink:href=\"#DejaVuSans-5f\" x=\"487.203125\"/>\n       <use xlink:href=\"#DejaVuSans-73\" x=\"537.203125\"/>\n       <use xlink:href=\"#DejaVuSans-74\" x=\"589.302734\"/>\n       <use xlink:href=\"#DejaVuSans-61\" x=\"628.511719\"/>\n       <use xlink:href=\"#DejaVuSans-63\" x=\"689.791016\"/>\n       <use xlink:href=\"#DejaVuSans-6b\" x=\"744.771484\"/>\n       <use xlink:href=\"#DejaVuSans-65\" x=\"799.056641\"/>\n       <use xlink:href=\"#DejaVuSans-64\" x=\"860.580078\"/>\n      </g>\n     </g>\n    </g>\n    <g id=\"ytick_107\">\n     <g id=\"line2d_115\">\n      <g>\n       <use xlink:href=\"#ma135784799\" x=\"148.951562\" y=\"215.113554\" style=\"stroke: #000000; stroke-width: 0.8\"/>\n      </g>\n     </g>\n     <g id=\"text_115\">\n      <!-- r1_lh -->\n      <g transform=\"translate(117.3625 218.912772) scale(0.1 -0.1)\">\n       <use xlink:href=\"#DejaVuSans-72\"/>\n       <use xlink:href=\"#DejaVuSans-31\" x=\"41.113281\"/>\n       <use xlink:href=\"#DejaVuSans-5f\" x=\"104.736328\"/>\n       <use xlink:href=\"#DejaVuSans-6c\" x=\"154.736328\"/>\n       <use xlink:href=\"#DejaVuSans-68\" x=\"182.519531\"/>\n      </g>\n     </g>\n    </g>\n    <g id=\"ytick_108\">\n     <g id=\"line2d_116\">\n      <g>\n       <use xlink:href=\"#ma135784799\" x=\"148.951562\" y=\"216.923839\" style=\"stroke: #000000; stroke-width: 0.8\"/>\n      </g>\n     </g>\n     <g id=\"text_116\">\n      <!-- r1_stuns -->\n      <g transform=\"translate(99.464062 220.583996) scale(0.1 -0.1)\">\n       <use xlink:href=\"#DejaVuSans-72\"/>\n       <use xlink:href=\"#DejaVuSans-31\" x=\"41.113281\"/>\n       <use xlink:href=\"#DejaVuSans-5f\" x=\"104.736328\"/>\n       <use xlink:href=\"#DejaVuSans-73\" x=\"154.736328\"/>\n       <use xlink:href=\"#DejaVuSans-74\" x=\"206.835938\"/>\n       <use xlink:href=\"#DejaVuSans-75\" x=\"246.044922\"/>\n       <use xlink:href=\"#DejaVuSans-6e\" x=\"309.423828\"/>\n       <use xlink:href=\"#DejaVuSans-73\" x=\"372.802734\"/>\n      </g>\n     </g>\n    </g>\n    <g id=\"ytick_109\">\n     <g id=\"line2d_117\">\n      <g>\n       <use xlink:href=\"#ma135784799\" x=\"148.951562\" y=\"218.734125\" style=\"stroke: #000000; stroke-width: 0.8\"/>\n      </g>\n     </g>\n     <g id=\"text_117\">\n      <!-- r2_creeps_stacked -->\n      <g transform=\"translate(49.54375 222.533344) scale(0.1 -0.1)\">\n       <use xlink:href=\"#DejaVuSans-72\"/>\n       <use xlink:href=\"#DejaVuSans-32\" x=\"41.113281\"/>\n       <use xlink:href=\"#DejaVuSans-5f\" x=\"104.736328\"/>\n       <use xlink:href=\"#DejaVuSans-63\" x=\"154.736328\"/>\n       <use xlink:href=\"#DejaVuSans-72\" x=\"209.716797\"/>\n       <use xlink:href=\"#DejaVuSans-65\" x=\"248.580078\"/>\n       <use xlink:href=\"#DejaVuSans-65\" x=\"310.103516\"/>\n       <use xlink:href=\"#DejaVuSans-70\" x=\"371.626953\"/>\n       <use xlink:href=\"#DejaVuSans-73\" x=\"435.103516\"/>\n       <use xlink:href=\"#DejaVuSans-5f\" x=\"487.203125\"/>\n       <use xlink:href=\"#DejaVuSans-73\" x=\"537.203125\"/>\n       <use xlink:href=\"#DejaVuSans-74\" x=\"589.302734\"/>\n       <use xlink:href=\"#DejaVuSans-61\" x=\"628.511719\"/>\n       <use xlink:href=\"#DejaVuSans-63\" x=\"689.791016\"/>\n       <use xlink:href=\"#DejaVuSans-6b\" x=\"744.771484\"/>\n       <use xlink:href=\"#DejaVuSans-65\" x=\"799.056641\"/>\n       <use xlink:href=\"#DejaVuSans-64\" x=\"860.580078\"/>\n      </g>\n     </g>\n    </g>\n    <g id=\"ytick_110\">\n     <g id=\"line2d_118\">\n      <g>\n       <use xlink:href=\"#ma135784799\" x=\"148.951562\" y=\"220.544411\" style=\"stroke: #000000; stroke-width: 0.8\"/>\n      </g>\n     </g>\n     <g id=\"text_118\">\n      <!-- d4_sen_placed -->\n      <g transform=\"translate(68.285937 224.343629) scale(0.1 -0.1)\">\n       <use xlink:href=\"#DejaVuSans-64\"/>\n       <use xlink:href=\"#DejaVuSans-34\" x=\"63.476562\"/>\n       <use xlink:href=\"#DejaVuSans-5f\" x=\"127.099609\"/>\n       <use xlink:href=\"#DejaVuSans-73\" x=\"177.099609\"/>\n       <use xlink:href=\"#DejaVuSans-65\" x=\"229.199219\"/>\n       <use xlink:href=\"#DejaVuSans-6e\" x=\"290.722656\"/>\n       <use xlink:href=\"#DejaVuSans-5f\" x=\"354.101562\"/>\n       <use xlink:href=\"#DejaVuSans-70\" x=\"404.101562\"/>\n       <use xlink:href=\"#DejaVuSans-6c\" x=\"467.578125\"/>\n       <use xlink:href=\"#DejaVuSans-61\" x=\"495.361328\"/>\n       <use xlink:href=\"#DejaVuSans-63\" x=\"556.640625\"/>\n       <use xlink:href=\"#DejaVuSans-65\" x=\"611.621094\"/>\n       <use xlink:href=\"#DejaVuSans-64\" x=\"673.144531\"/>\n      </g>\n     </g>\n    </g>\n    <g id=\"ytick_111\">\n     <g id=\"line2d_119\">\n      <g>\n       <use xlink:href=\"#ma135784799\" x=\"148.951562\" y=\"222.354696\" style=\"stroke: #000000; stroke-width: 0.8\"/>\n      </g>\n     </g>\n     <g id=\"text_119\">\n      <!-- d3_hero_id -->\n      <g transform=\"translate(87.61875 226.153915) scale(0.1 -0.1)\">\n       <use xlink:href=\"#DejaVuSans-64\"/>\n       <use xlink:href=\"#DejaVuSans-33\" x=\"63.476562\"/>\n       <use xlink:href=\"#DejaVuSans-5f\" x=\"127.099609\"/>\n       <use xlink:href=\"#DejaVuSans-68\" x=\"177.099609\"/>\n       <use xlink:href=\"#DejaVuSans-65\" x=\"240.478516\"/>\n       <use xlink:href=\"#DejaVuSans-72\" x=\"302.001953\"/>\n       <use xlink:href=\"#DejaVuSans-6f\" x=\"340.865234\"/>\n       <use xlink:href=\"#DejaVuSans-5f\" x=\"402.046875\"/>\n       <use xlink:href=\"#DejaVuSans-69\" x=\"452.046875\"/>\n       <use xlink:href=\"#DejaVuSans-64\" x=\"479.830078\"/>\n      </g>\n     </g>\n    </g>\n    <g id=\"ytick_112\">\n     <g id=\"line2d_120\">\n      <g>\n       <use xlink:href=\"#ma135784799\" x=\"148.951562\" y=\"224.164982\" style=\"stroke: #000000; stroke-width: 0.8\"/>\n      </g>\n     </g>\n     <g id=\"text_120\">\n      <!-- r4_camps_stacked -->\n      <g transform=\"translate(49.867187 227.964201) scale(0.1 -0.1)\">\n       <use xlink:href=\"#DejaVuSans-72\"/>\n       <use xlink:href=\"#DejaVuSans-34\" x=\"41.113281\"/>\n       <use xlink:href=\"#DejaVuSans-5f\" x=\"104.736328\"/>\n       <use xlink:href=\"#DejaVuSans-63\" x=\"154.736328\"/>\n       <use xlink:href=\"#DejaVuSans-61\" x=\"209.716797\"/>\n       <use xlink:href=\"#DejaVuSans-6d\" x=\"270.996094\"/>\n       <use xlink:href=\"#DejaVuSans-70\" x=\"368.408203\"/>\n       <use xlink:href=\"#DejaVuSans-73\" x=\"431.884766\"/>\n       <use xlink:href=\"#DejaVuSans-5f\" x=\"483.984375\"/>\n       <use xlink:href=\"#DejaVuSans-73\" x=\"533.984375\"/>\n       <use xlink:href=\"#DejaVuSans-74\" x=\"586.083984\"/>\n       <use xlink:href=\"#DejaVuSans-61\" x=\"625.292969\"/>\n       <use xlink:href=\"#DejaVuSans-63\" x=\"686.572266\"/>\n       <use xlink:href=\"#DejaVuSans-6b\" x=\"741.552734\"/>\n       <use xlink:href=\"#DejaVuSans-65\" x=\"795.837891\"/>\n       <use xlink:href=\"#DejaVuSans-64\" x=\"857.361328\"/>\n      </g>\n     </g>\n    </g>\n    <g id=\"ytick_113\">\n     <g id=\"line2d_121\">\n      <g>\n       <use xlink:href=\"#ma135784799\" x=\"148.951562\" y=\"225.975268\" style=\"stroke: #000000; stroke-width: 0.8\"/>\n      </g>\n     </g>\n     <g id=\"text_121\">\n      <!-- r4_creeps_stacked -->\n      <g transform=\"translate(49.54375 229.774487) scale(0.1 -0.1)\">\n       <use xlink:href=\"#DejaVuSans-72\"/>\n       <use xlink:href=\"#DejaVuSans-34\" x=\"41.113281\"/>\n       <use xlink:href=\"#DejaVuSans-5f\" x=\"104.736328\"/>\n       <use xlink:href=\"#DejaVuSans-63\" x=\"154.736328\"/>\n       <use xlink:href=\"#DejaVuSans-72\" x=\"209.716797\"/>\n       <use xlink:href=\"#DejaVuSans-65\" x=\"248.580078\"/>\n       <use xlink:href=\"#DejaVuSans-65\" x=\"310.103516\"/>\n       <use xlink:href=\"#DejaVuSans-70\" x=\"371.626953\"/>\n       <use xlink:href=\"#DejaVuSans-73\" x=\"435.103516\"/>\n       <use xlink:href=\"#DejaVuSans-5f\" x=\"487.203125\"/>\n       <use xlink:href=\"#DejaVuSans-73\" x=\"537.203125\"/>\n       <use xlink:href=\"#DejaVuSans-74\" x=\"589.302734\"/>\n       <use xlink:href=\"#DejaVuSans-61\" x=\"628.511719\"/>\n       <use xlink:href=\"#DejaVuSans-63\" x=\"689.791016\"/>\n       <use xlink:href=\"#DejaVuSans-6b\" x=\"744.771484\"/>\n       <use xlink:href=\"#DejaVuSans-65\" x=\"799.056641\"/>\n       <use xlink:href=\"#DejaVuSans-64\" x=\"860.580078\"/>\n      </g>\n     </g>\n    </g>\n    <g id=\"ytick_114\">\n     <g id=\"line2d_122\">\n      <g>\n       <use xlink:href=\"#ma135784799\" x=\"148.951562\" y=\"227.785554\" style=\"stroke: #000000; stroke-width: 0.8\"/>\n      </g>\n     </g>\n     <g id=\"text_122\">\n      <!-- r1_obs_placed -->\n      <g transform=\"translate(70.546875 231.584772) scale(0.1 -0.1)\">\n       <use xlink:href=\"#DejaVuSans-72\"/>\n       <use xlink:href=\"#DejaVuSans-31\" x=\"41.113281\"/>\n       <use xlink:href=\"#DejaVuSans-5f\" x=\"104.736328\"/>\n       <use xlink:href=\"#DejaVuSans-6f\" x=\"154.736328\"/>\n       <use xlink:href=\"#DejaVuSans-62\" x=\"215.917969\"/>\n       <use xlink:href=\"#DejaVuSans-73\" x=\"279.394531\"/>\n       <use xlink:href=\"#DejaVuSans-5f\" x=\"331.494141\"/>\n       <use xlink:href=\"#DejaVuSans-70\" x=\"381.494141\"/>\n       <use xlink:href=\"#DejaVuSans-6c\" x=\"444.970703\"/>\n       <use xlink:href=\"#DejaVuSans-61\" x=\"472.753906\"/>\n       <use xlink:href=\"#DejaVuSans-63\" x=\"534.033203\"/>\n       <use xlink:href=\"#DejaVuSans-65\" x=\"589.013672\"/>\n       <use xlink:href=\"#DejaVuSans-64\" x=\"650.537109\"/>\n      </g>\n     </g>\n    </g>\n    <g id=\"ytick_115\">\n     <g id=\"line2d_123\">\n      <g>\n       <use xlink:href=\"#ma135784799\" x=\"148.951562\" y=\"229.595839\" style=\"stroke: #000000; stroke-width: 0.8\"/>\n      </g>\n     </g>\n     <g id=\"text_123\">\n      <!-- lobby_type -->\n      <g transform=\"translate(87.098437 233.395058) scale(0.1 -0.1)\">\n       <use xlink:href=\"#DejaVuSans-6c\"/>\n       <use xlink:href=\"#DejaVuSans-6f\" x=\"27.783203\"/>\n       <use xlink:href=\"#DejaVuSans-62\" x=\"88.964844\"/>\n       <use xlink:href=\"#DejaVuSans-62\" x=\"152.441406\"/>\n       <use xlink:href=\"#DejaVuSans-79\" x=\"215.917969\"/>\n       <use xlink:href=\"#DejaVuSans-5f\" x=\"275.097656\"/>\n       <use xlink:href=\"#DejaVuSans-74\" x=\"325.097656\"/>\n       <use xlink:href=\"#DejaVuSans-79\" x=\"364.306641\"/>\n       <use xlink:href=\"#DejaVuSans-70\" x=\"423.486328\"/>\n       <use xlink:href=\"#DejaVuSans-65\" x=\"486.962891\"/>\n      </g>\n     </g>\n    </g>\n    <g id=\"ytick_116\">\n     <g id=\"line2d_124\">\n      <g>\n       <use xlink:href=\"#ma135784799\" x=\"148.951562\" y=\"231.406125\" style=\"stroke: #000000; stroke-width: 0.8\"/>\n      </g>\n     </g>\n     <g id=\"text_124\">\n      <!-- d5_sen_placed -->\n      <g transform=\"translate(68.285937 235.205344) scale(0.1 -0.1)\">\n       <use xlink:href=\"#DejaVuSans-64\"/>\n       <use xlink:href=\"#DejaVuSans-35\" x=\"63.476562\"/>\n       <use xlink:href=\"#DejaVuSans-5f\" x=\"127.099609\"/>\n       <use xlink:href=\"#DejaVuSans-73\" x=\"177.099609\"/>\n       <use xlink:href=\"#DejaVuSans-65\" x=\"229.199219\"/>\n       <use xlink:href=\"#DejaVuSans-6e\" x=\"290.722656\"/>\n       <use xlink:href=\"#DejaVuSans-5f\" x=\"354.101562\"/>\n       <use xlink:href=\"#DejaVuSans-70\" x=\"404.101562\"/>\n       <use xlink:href=\"#DejaVuSans-6c\" x=\"467.578125\"/>\n       <use xlink:href=\"#DejaVuSans-61\" x=\"495.361328\"/>\n       <use xlink:href=\"#DejaVuSans-63\" x=\"556.640625\"/>\n       <use xlink:href=\"#DejaVuSans-65\" x=\"611.621094\"/>\n       <use xlink:href=\"#DejaVuSans-64\" x=\"673.144531\"/>\n      </g>\n     </g>\n    </g>\n    <g id=\"ytick_117\">\n     <g id=\"line2d_125\">\n      <g>\n       <use xlink:href=\"#ma135784799\" x=\"148.951562\" y=\"233.216411\" style=\"stroke: #000000; stroke-width: 0.8\"/>\n      </g>\n     </g>\n     <g id=\"text_125\">\n      <!-- r5_hero_id -->\n      <g transform=\"translate(89.85625 237.015629) scale(0.1 -0.1)\">\n       <use xlink:href=\"#DejaVuSans-72\"/>\n       <use xlink:href=\"#DejaVuSans-35\" x=\"41.113281\"/>\n       <use xlink:href=\"#DejaVuSans-5f\" x=\"104.736328\"/>\n       <use xlink:href=\"#DejaVuSans-68\" x=\"154.736328\"/>\n       <use xlink:href=\"#DejaVuSans-65\" x=\"218.115234\"/>\n       <use xlink:href=\"#DejaVuSans-72\" x=\"279.638672\"/>\n       <use xlink:href=\"#DejaVuSans-6f\" x=\"318.501953\"/>\n       <use xlink:href=\"#DejaVuSans-5f\" x=\"379.683594\"/>\n       <use xlink:href=\"#DejaVuSans-69\" x=\"429.683594\"/>\n       <use xlink:href=\"#DejaVuSans-64\" x=\"457.466797\"/>\n      </g>\n     </g>\n    </g>\n    <g id=\"ytick_118\">\n     <g id=\"line2d_126\">\n      <g>\n       <use xlink:href=\"#ma135784799\" x=\"148.951562\" y=\"235.026696\" style=\"stroke: #000000; stroke-width: 0.8\"/>\n      </g>\n     </g>\n     <g id=\"text_126\">\n      <!-- r2_camps_stacked -->\n      <g transform=\"translate(49.867187 238.825915) scale(0.1 -0.1)\">\n       <use xlink:href=\"#DejaVuSans-72\"/>\n       <use xlink:href=\"#DejaVuSans-32\" x=\"41.113281\"/>\n       <use xlink:href=\"#DejaVuSans-5f\" x=\"104.736328\"/>\n       <use xlink:href=\"#DejaVuSans-63\" x=\"154.736328\"/>\n       <use xlink:href=\"#DejaVuSans-61\" x=\"209.716797\"/>\n       <use xlink:href=\"#DejaVuSans-6d\" x=\"270.996094\"/>\n       <use xlink:href=\"#DejaVuSans-70\" x=\"368.408203\"/>\n       <use xlink:href=\"#DejaVuSans-73\" x=\"431.884766\"/>\n       <use xlink:href=\"#DejaVuSans-5f\" x=\"483.984375\"/>\n       <use xlink:href=\"#DejaVuSans-73\" x=\"533.984375\"/>\n       <use xlink:href=\"#DejaVuSans-74\" x=\"586.083984\"/>\n       <use xlink:href=\"#DejaVuSans-61\" x=\"625.292969\"/>\n       <use xlink:href=\"#DejaVuSans-63\" x=\"686.572266\"/>\n       <use xlink:href=\"#DejaVuSans-6b\" x=\"741.552734\"/>\n       <use xlink:href=\"#DejaVuSans-65\" x=\"795.837891\"/>\n       <use xlink:href=\"#DejaVuSans-64\" x=\"857.361328\"/>\n      </g>\n     </g>\n    </g>\n    <g id=\"ytick_119\">\n     <g id=\"line2d_127\">\n      <g>\n       <use xlink:href=\"#ma135784799\" x=\"148.951562\" y=\"236.836982\" style=\"stroke: #000000; stroke-width: 0.8\"/>\n      </g>\n     </g>\n     <g id=\"text_127\">\n      <!-- r5_obs_placed -->\n      <g transform=\"translate(70.546875 240.636201) scale(0.1 -0.1)\">\n       <use xlink:href=\"#DejaVuSans-72\"/>\n       <use xlink:href=\"#DejaVuSans-35\" x=\"41.113281\"/>\n       <use xlink:href=\"#DejaVuSans-5f\" x=\"104.736328\"/>\n       <use xlink:href=\"#DejaVuSans-6f\" x=\"154.736328\"/>\n       <use xlink:href=\"#DejaVuSans-62\" x=\"215.917969\"/>\n       <use xlink:href=\"#DejaVuSans-73\" x=\"279.394531\"/>\n       <use xlink:href=\"#DejaVuSans-5f\" x=\"331.494141\"/>\n       <use xlink:href=\"#DejaVuSans-70\" x=\"381.494141\"/>\n       <use xlink:href=\"#DejaVuSans-6c\" x=\"444.970703\"/>\n       <use xlink:href=\"#DejaVuSans-61\" x=\"472.753906\"/>\n       <use xlink:href=\"#DejaVuSans-63\" x=\"534.033203\"/>\n       <use xlink:href=\"#DejaVuSans-65\" x=\"589.013672\"/>\n       <use xlink:href=\"#DejaVuSans-64\" x=\"650.537109\"/>\n      </g>\n     </g>\n    </g>\n    <g id=\"ytick_120\">\n     <g id=\"line2d_128\">\n      <g>\n       <use xlink:href=\"#ma135784799\" x=\"148.951562\" y=\"238.647268\" style=\"stroke: #000000; stroke-width: 0.8\"/>\n      </g>\n     </g>\n     <g id=\"text_128\">\n      <!-- r4_teamfight_participation -->\n      <g transform=\"translate(9.4375 242.446487) scale(0.1 -0.1)\">\n       <use xlink:href=\"#DejaVuSans-72\"/>\n       <use xlink:href=\"#DejaVuSans-34\" x=\"41.113281\"/>\n       <use xlink:href=\"#DejaVuSans-5f\" x=\"104.736328\"/>\n       <use xlink:href=\"#DejaVuSans-74\" x=\"154.736328\"/>\n       <use xlink:href=\"#DejaVuSans-65\" x=\"193.945312\"/>\n       <use xlink:href=\"#DejaVuSans-61\" x=\"255.46875\"/>\n       <use xlink:href=\"#DejaVuSans-6d\" x=\"316.748047\"/>\n       <use xlink:href=\"#DejaVuSans-66\" x=\"414.160156\"/>\n       <use xlink:href=\"#DejaVuSans-69\" x=\"449.365234\"/>\n       <use xlink:href=\"#DejaVuSans-67\" x=\"477.148438\"/>\n       <use xlink:href=\"#DejaVuSans-68\" x=\"540.625\"/>\n       <use xlink:href=\"#DejaVuSans-74\" x=\"604.003906\"/>\n       <use xlink:href=\"#DejaVuSans-5f\" x=\"643.212891\"/>\n       <use xlink:href=\"#DejaVuSans-70\" x=\"693.212891\"/>\n       <use xlink:href=\"#DejaVuSans-61\" x=\"756.689453\"/>\n       <use xlink:href=\"#DejaVuSans-72\" x=\"817.96875\"/>\n       <use xlink:href=\"#DejaVuSans-74\" x=\"859.082031\"/>\n       <use xlink:href=\"#DejaVuSans-69\" x=\"898.291016\"/>\n       <use xlink:href=\"#DejaVuSans-63\" x=\"926.074219\"/>\n       <use xlink:href=\"#DejaVuSans-69\" x=\"981.054688\"/>\n       <use xlink:href=\"#DejaVuSans-70\" x=\"1008.837891\"/>\n       <use xlink:href=\"#DejaVuSans-61\" x=\"1072.314453\"/>\n       <use xlink:href=\"#DejaVuSans-74\" x=\"1133.59375\"/>\n       <use xlink:href=\"#DejaVuSans-69\" x=\"1172.802734\"/>\n       <use xlink:href=\"#DejaVuSans-6f\" x=\"1200.585938\"/>\n       <use xlink:href=\"#DejaVuSans-6e\" x=\"1261.767578\"/>\n      </g>\n     </g>\n    </g>\n    <g id=\"ytick_121\">\n     <g id=\"line2d_129\">\n      <g>\n       <use xlink:href=\"#ma135784799\" x=\"148.951562\" y=\"240.457554\" style=\"stroke: #000000; stroke-width: 0.8\"/>\n      </g>\n     </g>\n     <g id=\"text_129\">\n      <!-- r1_hero_id -->\n      <g transform=\"translate(89.85625 244.256772) scale(0.1 -0.1)\">\n       <use xlink:href=\"#DejaVuSans-72\"/>\n       <use xlink:href=\"#DejaVuSans-31\" x=\"41.113281\"/>\n       <use xlink:href=\"#DejaVuSans-5f\" x=\"104.736328\"/>\n       <use xlink:href=\"#DejaVuSans-68\" x=\"154.736328\"/>\n       <use xlink:href=\"#DejaVuSans-65\" x=\"218.115234\"/>\n       <use xlink:href=\"#DejaVuSans-72\" x=\"279.638672\"/>\n       <use xlink:href=\"#DejaVuSans-6f\" x=\"318.501953\"/>\n       <use xlink:href=\"#DejaVuSans-5f\" x=\"379.683594\"/>\n       <use xlink:href=\"#DejaVuSans-69\" x=\"429.683594\"/>\n       <use xlink:href=\"#DejaVuSans-64\" x=\"457.466797\"/>\n      </g>\n     </g>\n    </g>\n    <g id=\"ytick_122\">\n     <g id=\"line2d_130\">\n      <g>\n       <use xlink:href=\"#ma135784799\" x=\"148.951562\" y=\"242.267839\" style=\"stroke: #000000; stroke-width: 0.8\"/>\n      </g>\n     </g>\n     <g id=\"text_130\">\n      <!-- d2_hero_id -->\n      <g transform=\"translate(87.61875 246.067058) scale(0.1 -0.1)\">\n       <use xlink:href=\"#DejaVuSans-64\"/>\n       <use xlink:href=\"#DejaVuSans-32\" x=\"63.476562\"/>\n       <use xlink:href=\"#DejaVuSans-5f\" x=\"127.099609\"/>\n       <use xlink:href=\"#DejaVuSans-68\" x=\"177.099609\"/>\n       <use xlink:href=\"#DejaVuSans-65\" x=\"240.478516\"/>\n       <use xlink:href=\"#DejaVuSans-72\" x=\"302.001953\"/>\n       <use xlink:href=\"#DejaVuSans-6f\" x=\"340.865234\"/>\n       <use xlink:href=\"#DejaVuSans-5f\" x=\"402.046875\"/>\n       <use xlink:href=\"#DejaVuSans-69\" x=\"452.046875\"/>\n       <use xlink:href=\"#DejaVuSans-64\" x=\"479.830078\"/>\n      </g>\n     </g>\n    </g>\n    <g id=\"ytick_123\">\n     <g id=\"line2d_131\">\n      <g>\n       <use xlink:href=\"#ma135784799\" x=\"148.951562\" y=\"244.078125\" style=\"stroke: #000000; stroke-width: 0.8\"/>\n      </g>\n     </g>\n     <g id=\"text_131\">\n      <!-- r3_obs_placed -->\n      <g transform=\"translate(70.546875 247.877344) scale(0.1 -0.1)\">\n       <use xlink:href=\"#DejaVuSans-72\"/>\n       <use xlink:href=\"#DejaVuSans-33\" x=\"41.113281\"/>\n       <use xlink:href=\"#DejaVuSans-5f\" x=\"104.736328\"/>\n       <use xlink:href=\"#DejaVuSans-6f\" x=\"154.736328\"/>\n       <use xlink:href=\"#DejaVuSans-62\" x=\"215.917969\"/>\n       <use xlink:href=\"#DejaVuSans-73\" x=\"279.394531\"/>\n       <use xlink:href=\"#DejaVuSans-5f\" x=\"331.494141\"/>\n       <use xlink:href=\"#DejaVuSans-70\" x=\"381.494141\"/>\n       <use xlink:href=\"#DejaVuSans-6c\" x=\"444.970703\"/>\n       <use xlink:href=\"#DejaVuSans-61\" x=\"472.753906\"/>\n       <use xlink:href=\"#DejaVuSans-63\" x=\"534.033203\"/>\n       <use xlink:href=\"#DejaVuSans-65\" x=\"589.013672\"/>\n       <use xlink:href=\"#DejaVuSans-64\" x=\"650.537109\"/>\n      </g>\n     </g>\n    </g>\n    <g id=\"ytick_124\">\n     <g id=\"line2d_132\">\n      <g>\n       <use xlink:href=\"#ma135784799\" x=\"148.951562\" y=\"245.888411\" style=\"stroke: #000000; stroke-width: 0.8\"/>\n      </g>\n     </g>\n     <g id=\"text_132\">\n      <!-- r2_obs_placed -->\n      <g transform=\"translate(70.546875 249.687629) scale(0.1 -0.1)\">\n       <use xlink:href=\"#DejaVuSans-72\"/>\n       <use xlink:href=\"#DejaVuSans-32\" x=\"41.113281\"/>\n       <use xlink:href=\"#DejaVuSans-5f\" x=\"104.736328\"/>\n       <use xlink:href=\"#DejaVuSans-6f\" x=\"154.736328\"/>\n       <use xlink:href=\"#DejaVuSans-62\" x=\"215.917969\"/>\n       <use xlink:href=\"#DejaVuSans-73\" x=\"279.394531\"/>\n       <use xlink:href=\"#DejaVuSans-5f\" x=\"331.494141\"/>\n       <use xlink:href=\"#DejaVuSans-70\" x=\"381.494141\"/>\n       <use xlink:href=\"#DejaVuSans-6c\" x=\"444.970703\"/>\n       <use xlink:href=\"#DejaVuSans-61\" x=\"472.753906\"/>\n       <use xlink:href=\"#DejaVuSans-63\" x=\"534.033203\"/>\n       <use xlink:href=\"#DejaVuSans-65\" x=\"589.013672\"/>\n       <use xlink:href=\"#DejaVuSans-64\" x=\"650.537109\"/>\n      </g>\n     </g>\n    </g>\n    <g id=\"ytick_125\">\n     <g id=\"line2d_133\">\n      <g>\n       <use xlink:href=\"#ma135784799\" x=\"148.951562\" y=\"247.698696\" style=\"stroke: #000000; stroke-width: 0.8\"/>\n      </g>\n     </g>\n     <g id=\"text_133\">\n      <!-- r4_hero_id -->\n      <g transform=\"translate(89.85625 251.497915) scale(0.1 -0.1)\">\n       <use xlink:href=\"#DejaVuSans-72\"/>\n       <use xlink:href=\"#DejaVuSans-34\" x=\"41.113281\"/>\n       <use xlink:href=\"#DejaVuSans-5f\" x=\"104.736328\"/>\n       <use xlink:href=\"#DejaVuSans-68\" x=\"154.736328\"/>\n       <use xlink:href=\"#DejaVuSans-65\" x=\"218.115234\"/>\n       <use xlink:href=\"#DejaVuSans-72\" x=\"279.638672\"/>\n       <use xlink:href=\"#DejaVuSans-6f\" x=\"318.501953\"/>\n       <use xlink:href=\"#DejaVuSans-5f\" x=\"379.683594\"/>\n       <use xlink:href=\"#DejaVuSans-69\" x=\"429.683594\"/>\n       <use xlink:href=\"#DejaVuSans-64\" x=\"457.466797\"/>\n      </g>\n     </g>\n    </g>\n    <g id=\"ytick_126\">\n     <g id=\"line2d_134\">\n      <g>\n       <use xlink:href=\"#ma135784799\" x=\"148.951562\" y=\"249.508982\" style=\"stroke: #000000; stroke-width: 0.8\"/>\n      </g>\n     </g>\n     <g id=\"text_134\">\n      <!-- d1_sen_placed -->\n      <g transform=\"translate(68.285937 253.308201) scale(0.1 -0.1)\">\n       <use xlink:href=\"#DejaVuSans-64\"/>\n       <use xlink:href=\"#DejaVuSans-31\" x=\"63.476562\"/>\n       <use xlink:href=\"#DejaVuSans-5f\" x=\"127.099609\"/>\n       <use xlink:href=\"#DejaVuSans-73\" x=\"177.099609\"/>\n       <use xlink:href=\"#DejaVuSans-65\" x=\"229.199219\"/>\n       <use xlink:href=\"#DejaVuSans-6e\" x=\"290.722656\"/>\n       <use xlink:href=\"#DejaVuSans-5f\" x=\"354.101562\"/>\n       <use xlink:href=\"#DejaVuSans-70\" x=\"404.101562\"/>\n       <use xlink:href=\"#DejaVuSans-6c\" x=\"467.578125\"/>\n       <use xlink:href=\"#DejaVuSans-61\" x=\"495.361328\"/>\n       <use xlink:href=\"#DejaVuSans-63\" x=\"556.640625\"/>\n       <use xlink:href=\"#DejaVuSans-65\" x=\"611.621094\"/>\n       <use xlink:href=\"#DejaVuSans-64\" x=\"673.144531\"/>\n      </g>\n     </g>\n    </g>\n    <g id=\"ytick_127\">\n     <g id=\"line2d_135\">\n      <g>\n       <use xlink:href=\"#ma135784799\" x=\"148.951562\" y=\"251.319268\" style=\"stroke: #000000; stroke-width: 0.8\"/>\n      </g>\n     </g>\n     <g id=\"text_135\">\n      <!-- r4_stuns -->\n      <g transform=\"translate(99.464062 254.979424) scale(0.1 -0.1)\">\n       <use xlink:href=\"#DejaVuSans-72\"/>\n       <use xlink:href=\"#DejaVuSans-34\" x=\"41.113281\"/>\n       <use xlink:href=\"#DejaVuSans-5f\" x=\"104.736328\"/>\n       <use xlink:href=\"#DejaVuSans-73\" x=\"154.736328\"/>\n       <use xlink:href=\"#DejaVuSans-74\" x=\"206.835938\"/>\n       <use xlink:href=\"#DejaVuSans-75\" x=\"246.044922\"/>\n       <use xlink:href=\"#DejaVuSans-6e\" x=\"309.423828\"/>\n       <use xlink:href=\"#DejaVuSans-73\" x=\"372.802734\"/>\n      </g>\n     </g>\n    </g>\n    <g id=\"ytick_128\">\n     <g id=\"line2d_136\">\n      <g>\n       <use xlink:href=\"#ma135784799\" x=\"148.951562\" y=\"253.129554\" style=\"stroke: #000000; stroke-width: 0.8\"/>\n      </g>\n     </g>\n     <g id=\"text_136\">\n      <!-- r2_teamfight_participation -->\n      <g transform=\"translate(9.4375 256.928772) scale(0.1 -0.1)\">\n       <use xlink:href=\"#DejaVuSans-72\"/>\n       <use xlink:href=\"#DejaVuSans-32\" x=\"41.113281\"/>\n       <use xlink:href=\"#DejaVuSans-5f\" x=\"104.736328\"/>\n       <use xlink:href=\"#DejaVuSans-74\" x=\"154.736328\"/>\n       <use xlink:href=\"#DejaVuSans-65\" x=\"193.945312\"/>\n       <use xlink:href=\"#DejaVuSans-61\" x=\"255.46875\"/>\n       <use xlink:href=\"#DejaVuSans-6d\" x=\"316.748047\"/>\n       <use xlink:href=\"#DejaVuSans-66\" x=\"414.160156\"/>\n       <use xlink:href=\"#DejaVuSans-69\" x=\"449.365234\"/>\n       <use xlink:href=\"#DejaVuSans-67\" x=\"477.148438\"/>\n       <use xlink:href=\"#DejaVuSans-68\" x=\"540.625\"/>\n       <use xlink:href=\"#DejaVuSans-74\" x=\"604.003906\"/>\n       <use xlink:href=\"#DejaVuSans-5f\" x=\"643.212891\"/>\n       <use xlink:href=\"#DejaVuSans-70\" x=\"693.212891\"/>\n       <use xlink:href=\"#DejaVuSans-61\" x=\"756.689453\"/>\n       <use xlink:href=\"#DejaVuSans-72\" x=\"817.96875\"/>\n       <use xlink:href=\"#DejaVuSans-74\" x=\"859.082031\"/>\n       <use xlink:href=\"#DejaVuSans-69\" x=\"898.291016\"/>\n       <use xlink:href=\"#DejaVuSans-63\" x=\"926.074219\"/>\n       <use xlink:href=\"#DejaVuSans-69\" x=\"981.054688\"/>\n       <use xlink:href=\"#DejaVuSans-70\" x=\"1008.837891\"/>\n       <use xlink:href=\"#DejaVuSans-61\" x=\"1072.314453\"/>\n       <use xlink:href=\"#DejaVuSans-74\" x=\"1133.59375\"/>\n       <use xlink:href=\"#DejaVuSans-69\" x=\"1172.802734\"/>\n       <use xlink:href=\"#DejaVuSans-6f\" x=\"1200.585938\"/>\n       <use xlink:href=\"#DejaVuSans-6e\" x=\"1261.767578\"/>\n      </g>\n     </g>\n    </g>\n    <g id=\"ytick_129\">\n     <g id=\"line2d_137\">\n      <g>\n       <use xlink:href=\"#ma135784799\" x=\"148.951562\" y=\"254.939839\" style=\"stroke: #000000; stroke-width: 0.8\"/>\n      </g>\n     </g>\n     <g id=\"text_137\">\n      <!-- r3_hero_id -->\n      <g transform=\"translate(89.85625 258.739058) scale(0.1 -0.1)\">\n       <use xlink:href=\"#DejaVuSans-72\"/>\n       <use xlink:href=\"#DejaVuSans-33\" x=\"41.113281\"/>\n       <use xlink:href=\"#DejaVuSans-5f\" x=\"104.736328\"/>\n       <use xlink:href=\"#DejaVuSans-68\" x=\"154.736328\"/>\n       <use xlink:href=\"#DejaVuSans-65\" x=\"218.115234\"/>\n       <use xlink:href=\"#DejaVuSans-72\" x=\"279.638672\"/>\n       <use xlink:href=\"#DejaVuSans-6f\" x=\"318.501953\"/>\n       <use xlink:href=\"#DejaVuSans-5f\" x=\"379.683594\"/>\n       <use xlink:href=\"#DejaVuSans-69\" x=\"429.683594\"/>\n       <use xlink:href=\"#DejaVuSans-64\" x=\"457.466797\"/>\n      </g>\n     </g>\n    </g>\n    <g id=\"ytick_130\">\n     <g id=\"line2d_138\">\n      <g>\n       <use xlink:href=\"#ma135784799\" x=\"148.951562\" y=\"256.750125\" style=\"stroke: #000000; stroke-width: 0.8\"/>\n      </g>\n     </g>\n     <g id=\"text_138\">\n      <!-- d2_sen_placed -->\n      <g transform=\"translate(68.285937 260.549344) scale(0.1 -0.1)\">\n       <use xlink:href=\"#DejaVuSans-64\"/>\n       <use xlink:href=\"#DejaVuSans-32\" x=\"63.476562\"/>\n       <use xlink:href=\"#DejaVuSans-5f\" x=\"127.099609\"/>\n       <use xlink:href=\"#DejaVuSans-73\" x=\"177.099609\"/>\n       <use xlink:href=\"#DejaVuSans-65\" x=\"229.199219\"/>\n       <use xlink:href=\"#DejaVuSans-6e\" x=\"290.722656\"/>\n       <use xlink:href=\"#DejaVuSans-5f\" x=\"354.101562\"/>\n       <use xlink:href=\"#DejaVuSans-70\" x=\"404.101562\"/>\n       <use xlink:href=\"#DejaVuSans-6c\" x=\"467.578125\"/>\n       <use xlink:href=\"#DejaVuSans-61\" x=\"495.361328\"/>\n       <use xlink:href=\"#DejaVuSans-63\" x=\"556.640625\"/>\n       <use xlink:href=\"#DejaVuSans-65\" x=\"611.621094\"/>\n       <use xlink:href=\"#DejaVuSans-64\" x=\"673.144531\"/>\n      </g>\n     </g>\n    </g>\n    <g id=\"ytick_131\">\n     <g id=\"line2d_139\">\n      <g>\n       <use xlink:href=\"#ma135784799\" x=\"148.951562\" y=\"258.560411\" style=\"stroke: #000000; stroke-width: 0.8\"/>\n      </g>\n     </g>\n     <g id=\"text_139\">\n      <!-- r3_teamfight_participation -->\n      <g transform=\"translate(9.4375 262.359629) scale(0.1 -0.1)\">\n       <use xlink:href=\"#DejaVuSans-72\"/>\n       <use xlink:href=\"#DejaVuSans-33\" x=\"41.113281\"/>\n       <use xlink:href=\"#DejaVuSans-5f\" x=\"104.736328\"/>\n       <use xlink:href=\"#DejaVuSans-74\" x=\"154.736328\"/>\n       <use xlink:href=\"#DejaVuSans-65\" x=\"193.945312\"/>\n       <use xlink:href=\"#DejaVuSans-61\" x=\"255.46875\"/>\n       <use xlink:href=\"#DejaVuSans-6d\" x=\"316.748047\"/>\n       <use xlink:href=\"#DejaVuSans-66\" x=\"414.160156\"/>\n       <use xlink:href=\"#DejaVuSans-69\" x=\"449.365234\"/>\n       <use xlink:href=\"#DejaVuSans-67\" x=\"477.148438\"/>\n       <use xlink:href=\"#DejaVuSans-68\" x=\"540.625\"/>\n       <use xlink:href=\"#DejaVuSans-74\" x=\"604.003906\"/>\n       <use xlink:href=\"#DejaVuSans-5f\" x=\"643.212891\"/>\n       <use xlink:href=\"#DejaVuSans-70\" x=\"693.212891\"/>\n       <use xlink:href=\"#DejaVuSans-61\" x=\"756.689453\"/>\n       <use xlink:href=\"#DejaVuSans-72\" x=\"817.96875\"/>\n       <use xlink:href=\"#DejaVuSans-74\" x=\"859.082031\"/>\n       <use xlink:href=\"#DejaVuSans-69\" x=\"898.291016\"/>\n       <use xlink:href=\"#DejaVuSans-63\" x=\"926.074219\"/>\n       <use xlink:href=\"#DejaVuSans-69\" x=\"981.054688\"/>\n       <use xlink:href=\"#DejaVuSans-70\" x=\"1008.837891\"/>\n       <use xlink:href=\"#DejaVuSans-61\" x=\"1072.314453\"/>\n       <use xlink:href=\"#DejaVuSans-74\" x=\"1133.59375\"/>\n       <use xlink:href=\"#DejaVuSans-69\" x=\"1172.802734\"/>\n       <use xlink:href=\"#DejaVuSans-6f\" x=\"1200.585938\"/>\n       <use xlink:href=\"#DejaVuSans-6e\" x=\"1261.767578\"/>\n      </g>\n     </g>\n    </g>\n    <g id=\"ytick_132\">\n     <g id=\"line2d_140\">\n      <g>\n       <use xlink:href=\"#ma135784799\" x=\"148.951562\" y=\"260.370696\" style=\"stroke: #000000; stroke-width: 0.8\"/>\n      </g>\n     </g>\n     <g id=\"text_140\">\n      <!-- d1_teamfight_participation -->\n      <g transform=\"translate(7.2 264.169915) scale(0.1 -0.1)\">\n       <use xlink:href=\"#DejaVuSans-64\"/>\n       <use xlink:href=\"#DejaVuSans-31\" x=\"63.476562\"/>\n       <use xlink:href=\"#DejaVuSans-5f\" x=\"127.099609\"/>\n       <use xlink:href=\"#DejaVuSans-74\" x=\"177.099609\"/>\n       <use xlink:href=\"#DejaVuSans-65\" x=\"216.308594\"/>\n       <use xlink:href=\"#DejaVuSans-61\" x=\"277.832031\"/>\n       <use xlink:href=\"#DejaVuSans-6d\" x=\"339.111328\"/>\n       <use xlink:href=\"#DejaVuSans-66\" x=\"436.523438\"/>\n       <use xlink:href=\"#DejaVuSans-69\" x=\"471.728516\"/>\n       <use xlink:href=\"#DejaVuSans-67\" x=\"499.511719\"/>\n       <use xlink:href=\"#DejaVuSans-68\" x=\"562.988281\"/>\n       <use xlink:href=\"#DejaVuSans-74\" x=\"626.367188\"/>\n       <use xlink:href=\"#DejaVuSans-5f\" x=\"665.576172\"/>\n       <use xlink:href=\"#DejaVuSans-70\" x=\"715.576172\"/>\n       <use xlink:href=\"#DejaVuSans-61\" x=\"779.052734\"/>\n       <use xlink:href=\"#DejaVuSans-72\" x=\"840.332031\"/>\n       <use xlink:href=\"#DejaVuSans-74\" x=\"881.445312\"/>\n       <use xlink:href=\"#DejaVuSans-69\" x=\"920.654297\"/>\n       <use xlink:href=\"#DejaVuSans-63\" x=\"948.4375\"/>\n       <use xlink:href=\"#DejaVuSans-69\" x=\"1003.417969\"/>\n       <use xlink:href=\"#DejaVuSans-70\" x=\"1031.201172\"/>\n       <use xlink:href=\"#DejaVuSans-61\" x=\"1094.677734\"/>\n       <use xlink:href=\"#DejaVuSans-74\" x=\"1155.957031\"/>\n       <use xlink:href=\"#DejaVuSans-69\" x=\"1195.166016\"/>\n       <use xlink:href=\"#DejaVuSans-6f\" x=\"1222.949219\"/>\n       <use xlink:href=\"#DejaVuSans-6e\" x=\"1284.130859\"/>\n      </g>\n     </g>\n    </g>\n    <g id=\"ytick_133\">\n     <g id=\"line2d_141\">\n      <g>\n       <use xlink:href=\"#ma135784799\" x=\"148.951562\" y=\"262.180982\" style=\"stroke: #000000; stroke-width: 0.8\"/>\n      </g>\n     </g>\n     <g id=\"text_141\">\n      <!-- r4_obs_placed -->\n      <g transform=\"translate(70.546875 265.980201) scale(0.1 -0.1)\">\n       <use xlink:href=\"#DejaVuSans-72\"/>\n       <use xlink:href=\"#DejaVuSans-34\" x=\"41.113281\"/>\n       <use xlink:href=\"#DejaVuSans-5f\" x=\"104.736328\"/>\n       <use xlink:href=\"#DejaVuSans-6f\" x=\"154.736328\"/>\n       <use xlink:href=\"#DejaVuSans-62\" x=\"215.917969\"/>\n       <use xlink:href=\"#DejaVuSans-73\" x=\"279.394531\"/>\n       <use xlink:href=\"#DejaVuSans-5f\" x=\"331.494141\"/>\n       <use xlink:href=\"#DejaVuSans-70\" x=\"381.494141\"/>\n       <use xlink:href=\"#DejaVuSans-6c\" x=\"444.970703\"/>\n       <use xlink:href=\"#DejaVuSans-61\" x=\"472.753906\"/>\n       <use xlink:href=\"#DejaVuSans-63\" x=\"534.033203\"/>\n       <use xlink:href=\"#DejaVuSans-65\" x=\"589.013672\"/>\n       <use xlink:href=\"#DejaVuSans-64\" x=\"650.537109\"/>\n      </g>\n     </g>\n    </g>\n    <g id=\"ytick_134\">\n     <g id=\"line2d_142\">\n      <g>\n       <use xlink:href=\"#ma135784799\" x=\"148.951562\" y=\"263.991268\" style=\"stroke: #000000; stroke-width: 0.8\"/>\n      </g>\n     </g>\n     <g id=\"text_142\">\n      <!-- d3_creeps_stacked -->\n      <g transform=\"translate(47.30625 267.790487) scale(0.1 -0.1)\">\n       <use xlink:href=\"#DejaVuSans-64\"/>\n       <use xlink:href=\"#DejaVuSans-33\" x=\"63.476562\"/>\n       <use xlink:href=\"#DejaVuSans-5f\" x=\"127.099609\"/>\n       <use xlink:href=\"#DejaVuSans-63\" x=\"177.099609\"/>\n       <use xlink:href=\"#DejaVuSans-72\" x=\"232.080078\"/>\n       <use xlink:href=\"#DejaVuSans-65\" x=\"270.943359\"/>\n       <use xlink:href=\"#DejaVuSans-65\" x=\"332.466797\"/>\n       <use xlink:href=\"#DejaVuSans-70\" x=\"393.990234\"/>\n       <use xlink:href=\"#DejaVuSans-73\" x=\"457.466797\"/>\n       <use xlink:href=\"#DejaVuSans-5f\" x=\"509.566406\"/>\n       <use xlink:href=\"#DejaVuSans-73\" x=\"559.566406\"/>\n       <use xlink:href=\"#DejaVuSans-74\" x=\"611.666016\"/>\n       <use xlink:href=\"#DejaVuSans-61\" x=\"650.875\"/>\n       <use xlink:href=\"#DejaVuSans-63\" x=\"712.154297\"/>\n       <use xlink:href=\"#DejaVuSans-6b\" x=\"767.134766\"/>\n       <use xlink:href=\"#DejaVuSans-65\" x=\"821.419922\"/>\n       <use xlink:href=\"#DejaVuSans-64\" x=\"882.943359\"/>\n      </g>\n     </g>\n    </g>\n    <g id=\"ytick_135\">\n     <g id=\"line2d_143\">\n      <g>\n       <use xlink:href=\"#ma135784799\" x=\"148.951562\" y=\"265.801554\" style=\"stroke: #000000; stroke-width: 0.8\"/>\n      </g>\n     </g>\n     <g id=\"text_143\">\n      <!-- d4_creeps_stacked -->\n      <g transform=\"translate(47.30625 269.600772) scale(0.1 -0.1)\">\n       <use xlink:href=\"#DejaVuSans-64\"/>\n       <use xlink:href=\"#DejaVuSans-34\" x=\"63.476562\"/>\n       <use xlink:href=\"#DejaVuSans-5f\" x=\"127.099609\"/>\n       <use xlink:href=\"#DejaVuSans-63\" x=\"177.099609\"/>\n       <use xlink:href=\"#DejaVuSans-72\" x=\"232.080078\"/>\n       <use xlink:href=\"#DejaVuSans-65\" x=\"270.943359\"/>\n       <use xlink:href=\"#DejaVuSans-65\" x=\"332.466797\"/>\n       <use xlink:href=\"#DejaVuSans-70\" x=\"393.990234\"/>\n       <use xlink:href=\"#DejaVuSans-73\" x=\"457.466797\"/>\n       <use xlink:href=\"#DejaVuSans-5f\" x=\"509.566406\"/>\n       <use xlink:href=\"#DejaVuSans-73\" x=\"559.566406\"/>\n       <use xlink:href=\"#DejaVuSans-74\" x=\"611.666016\"/>\n       <use xlink:href=\"#DejaVuSans-61\" x=\"650.875\"/>\n       <use xlink:href=\"#DejaVuSans-63\" x=\"712.154297\"/>\n       <use xlink:href=\"#DejaVuSans-6b\" x=\"767.134766\"/>\n       <use xlink:href=\"#DejaVuSans-65\" x=\"821.419922\"/>\n       <use xlink:href=\"#DejaVuSans-64\" x=\"882.943359\"/>\n      </g>\n     </g>\n    </g>\n    <g id=\"ytick_136\">\n     <g id=\"line2d_144\">\n      <g>\n       <use xlink:href=\"#ma135784799\" x=\"148.951562\" y=\"267.611839\" style=\"stroke: #000000; stroke-width: 0.8\"/>\n      </g>\n     </g>\n     <g id=\"text_144\">\n      <!-- d4_camps_stacked -->\n      <g transform=\"translate(47.629687 271.411058) scale(0.1 -0.1)\">\n       <use xlink:href=\"#DejaVuSans-64\"/>\n       <use xlink:href=\"#DejaVuSans-34\" x=\"63.476562\"/>\n       <use xlink:href=\"#DejaVuSans-5f\" x=\"127.099609\"/>\n       <use xlink:href=\"#DejaVuSans-63\" x=\"177.099609\"/>\n       <use xlink:href=\"#DejaVuSans-61\" x=\"232.080078\"/>\n       <use xlink:href=\"#DejaVuSans-6d\" x=\"293.359375\"/>\n       <use xlink:href=\"#DejaVuSans-70\" x=\"390.771484\"/>\n       <use xlink:href=\"#DejaVuSans-73\" x=\"454.248047\"/>\n       <use xlink:href=\"#DejaVuSans-5f\" x=\"506.347656\"/>\n       <use xlink:href=\"#DejaVuSans-73\" x=\"556.347656\"/>\n       <use xlink:href=\"#DejaVuSans-74\" x=\"608.447266\"/>\n       <use xlink:href=\"#DejaVuSans-61\" x=\"647.65625\"/>\n       <use xlink:href=\"#DejaVuSans-63\" x=\"708.935547\"/>\n       <use xlink:href=\"#DejaVuSans-6b\" x=\"763.916016\"/>\n       <use xlink:href=\"#DejaVuSans-65\" x=\"818.201172\"/>\n       <use xlink:href=\"#DejaVuSans-64\" x=\"879.724609\"/>\n      </g>\n     </g>\n    </g>\n    <g id=\"ytick_137\">\n     <g id=\"line2d_145\">\n      <g>\n       <use xlink:href=\"#ma135784799\" x=\"148.951562\" y=\"269.422125\" style=\"stroke: #000000; stroke-width: 0.8\"/>\n      </g>\n     </g>\n     <g id=\"text_145\">\n      <!-- r2_stuns -->\n      <g transform=\"translate(99.464062 273.133062) scale(0.1 -0.1)\">\n       <use xlink:href=\"#DejaVuSans-72\"/>\n       <use xlink:href=\"#DejaVuSans-32\" x=\"41.113281\"/>\n       <use xlink:href=\"#DejaVuSans-5f\" x=\"104.736328\"/>\n       <use xlink:href=\"#DejaVuSans-73\" x=\"154.736328\"/>\n       <use xlink:href=\"#DejaVuSans-74\" x=\"206.835938\"/>\n       <use xlink:href=\"#DejaVuSans-75\" x=\"246.044922\"/>\n       <use xlink:href=\"#DejaVuSans-6e\" x=\"309.423828\"/>\n       <use xlink:href=\"#DejaVuSans-73\" x=\"372.802734\"/>\n      </g>\n     </g>\n    </g>\n    <g id=\"ytick_138\">\n     <g id=\"line2d_146\">\n      <g>\n       <use xlink:href=\"#ma135784799\" x=\"148.951562\" y=\"271.232411\" style=\"stroke: #000000; stroke-width: 0.8\"/>\n      </g>\n     </g>\n     <g id=\"text_146\">\n      <!-- d3_camps_stacked -->\n      <g transform=\"translate(47.629687 275.031629) scale(0.1 -0.1)\">\n       <use xlink:href=\"#DejaVuSans-64\"/>\n       <use xlink:href=\"#DejaVuSans-33\" x=\"63.476562\"/>\n       <use xlink:href=\"#DejaVuSans-5f\" x=\"127.099609\"/>\n       <use xlink:href=\"#DejaVuSans-63\" x=\"177.099609\"/>\n       <use xlink:href=\"#DejaVuSans-61\" x=\"232.080078\"/>\n       <use xlink:href=\"#DejaVuSans-6d\" x=\"293.359375\"/>\n       <use xlink:href=\"#DejaVuSans-70\" x=\"390.771484\"/>\n       <use xlink:href=\"#DejaVuSans-73\" x=\"454.248047\"/>\n       <use xlink:href=\"#DejaVuSans-5f\" x=\"506.347656\"/>\n       <use xlink:href=\"#DejaVuSans-73\" x=\"556.347656\"/>\n       <use xlink:href=\"#DejaVuSans-74\" x=\"608.447266\"/>\n       <use xlink:href=\"#DejaVuSans-61\" x=\"647.65625\"/>\n       <use xlink:href=\"#DejaVuSans-63\" x=\"708.935547\"/>\n       <use xlink:href=\"#DejaVuSans-6b\" x=\"763.916016\"/>\n       <use xlink:href=\"#DejaVuSans-65\" x=\"818.201172\"/>\n       <use xlink:href=\"#DejaVuSans-64\" x=\"879.724609\"/>\n      </g>\n     </g>\n    </g>\n    <g id=\"ytick_139\">\n     <g id=\"line2d_147\">\n      <g>\n       <use xlink:href=\"#ma135784799\" x=\"148.951562\" y=\"273.042696\" style=\"stroke: #000000; stroke-width: 0.8\"/>\n      </g>\n     </g>\n     <g id=\"text_147\">\n      <!-- r3_stuns -->\n      <g transform=\"translate(99.464062 276.753634) scale(0.1 -0.1)\">\n       <use xlink:href=\"#DejaVuSans-72\"/>\n       <use xlink:href=\"#DejaVuSans-33\" x=\"41.113281\"/>\n       <use xlink:href=\"#DejaVuSans-5f\" x=\"104.736328\"/>\n       <use xlink:href=\"#DejaVuSans-73\" x=\"154.736328\"/>\n       <use xlink:href=\"#DejaVuSans-74\" x=\"206.835938\"/>\n       <use xlink:href=\"#DejaVuSans-75\" x=\"246.044922\"/>\n       <use xlink:href=\"#DejaVuSans-6e\" x=\"309.423828\"/>\n       <use xlink:href=\"#DejaVuSans-73\" x=\"372.802734\"/>\n      </g>\n     </g>\n    </g>\n    <g id=\"ytick_140\">\n     <g id=\"line2d_148\">\n      <g>\n       <use xlink:href=\"#ma135784799\" x=\"148.951562\" y=\"274.852982\" style=\"stroke: #000000; stroke-width: 0.8\"/>\n      </g>\n     </g>\n     <g id=\"text_148\">\n      <!-- d2_camps_stacked -->\n      <g transform=\"translate(47.629687 278.652201) scale(0.1 -0.1)\">\n       <use xlink:href=\"#DejaVuSans-64\"/>\n       <use xlink:href=\"#DejaVuSans-32\" x=\"63.476562\"/>\n       <use xlink:href=\"#DejaVuSans-5f\" x=\"127.099609\"/>\n       <use xlink:href=\"#DejaVuSans-63\" x=\"177.099609\"/>\n       <use xlink:href=\"#DejaVuSans-61\" x=\"232.080078\"/>\n       <use xlink:href=\"#DejaVuSans-6d\" x=\"293.359375\"/>\n       <use xlink:href=\"#DejaVuSans-70\" x=\"390.771484\"/>\n       <use xlink:href=\"#DejaVuSans-73\" x=\"454.248047\"/>\n       <use xlink:href=\"#DejaVuSans-5f\" x=\"506.347656\"/>\n       <use xlink:href=\"#DejaVuSans-73\" x=\"556.347656\"/>\n       <use xlink:href=\"#DejaVuSans-74\" x=\"608.447266\"/>\n       <use xlink:href=\"#DejaVuSans-61\" x=\"647.65625\"/>\n       <use xlink:href=\"#DejaVuSans-63\" x=\"708.935547\"/>\n       <use xlink:href=\"#DejaVuSans-6b\" x=\"763.916016\"/>\n       <use xlink:href=\"#DejaVuSans-65\" x=\"818.201172\"/>\n       <use xlink:href=\"#DejaVuSans-64\" x=\"879.724609\"/>\n      </g>\n     </g>\n    </g>\n    <g id=\"ytick_141\">\n     <g id=\"line2d_149\">\n      <g>\n       <use xlink:href=\"#ma135784799\" x=\"148.951562\" y=\"276.663268\" style=\"stroke: #000000; stroke-width: 0.8\"/>\n      </g>\n     </g>\n     <g id=\"text_149\">\n      <!-- r5_teamfight_participation -->\n      <g transform=\"translate(9.4375 280.462487) scale(0.1 -0.1)\">\n       <use xlink:href=\"#DejaVuSans-72\"/>\n       <use xlink:href=\"#DejaVuSans-35\" x=\"41.113281\"/>\n       <use xlink:href=\"#DejaVuSans-5f\" x=\"104.736328\"/>\n       <use xlink:href=\"#DejaVuSans-74\" x=\"154.736328\"/>\n       <use xlink:href=\"#DejaVuSans-65\" x=\"193.945312\"/>\n       <use xlink:href=\"#DejaVuSans-61\" x=\"255.46875\"/>\n       <use xlink:href=\"#DejaVuSans-6d\" x=\"316.748047\"/>\n       <use xlink:href=\"#DejaVuSans-66\" x=\"414.160156\"/>\n       <use xlink:href=\"#DejaVuSans-69\" x=\"449.365234\"/>\n       <use xlink:href=\"#DejaVuSans-67\" x=\"477.148438\"/>\n       <use xlink:href=\"#DejaVuSans-68\" x=\"540.625\"/>\n       <use xlink:href=\"#DejaVuSans-74\" x=\"604.003906\"/>\n       <use xlink:href=\"#DejaVuSans-5f\" x=\"643.212891\"/>\n       <use xlink:href=\"#DejaVuSans-70\" x=\"693.212891\"/>\n       <use xlink:href=\"#DejaVuSans-61\" x=\"756.689453\"/>\n       <use xlink:href=\"#DejaVuSans-72\" x=\"817.96875\"/>\n       <use xlink:href=\"#DejaVuSans-74\" x=\"859.082031\"/>\n       <use xlink:href=\"#DejaVuSans-69\" x=\"898.291016\"/>\n       <use xlink:href=\"#DejaVuSans-63\" x=\"926.074219\"/>\n       <use xlink:href=\"#DejaVuSans-69\" x=\"981.054688\"/>\n       <use xlink:href=\"#DejaVuSans-70\" x=\"1008.837891\"/>\n       <use xlink:href=\"#DejaVuSans-61\" x=\"1072.314453\"/>\n       <use xlink:href=\"#DejaVuSans-74\" x=\"1133.59375\"/>\n       <use xlink:href=\"#DejaVuSans-69\" x=\"1172.802734\"/>\n       <use xlink:href=\"#DejaVuSans-6f\" x=\"1200.585938\"/>\n       <use xlink:href=\"#DejaVuSans-6e\" x=\"1261.767578\"/>\n      </g>\n     </g>\n    </g>\n    <g id=\"ytick_142\">\n     <g id=\"line2d_150\">\n      <g>\n       <use xlink:href=\"#ma135784799\" x=\"148.951562\" y=\"278.473554\" style=\"stroke: #000000; stroke-width: 0.8\"/>\n      </g>\n     </g>\n     <g id=\"text_150\">\n      <!-- r5_stuns -->\n      <g transform=\"translate(99.464062 282.13371) scale(0.1 -0.1)\">\n       <use xlink:href=\"#DejaVuSans-72\"/>\n       <use xlink:href=\"#DejaVuSans-35\" x=\"41.113281\"/>\n       <use xlink:href=\"#DejaVuSans-5f\" x=\"104.736328\"/>\n       <use xlink:href=\"#DejaVuSans-73\" x=\"154.736328\"/>\n       <use xlink:href=\"#DejaVuSans-74\" x=\"206.835938\"/>\n       <use xlink:href=\"#DejaVuSans-75\" x=\"246.044922\"/>\n       <use xlink:href=\"#DejaVuSans-6e\" x=\"309.423828\"/>\n       <use xlink:href=\"#DejaVuSans-73\" x=\"372.802734\"/>\n      </g>\n     </g>\n    </g>\n    <g id=\"ytick_143\">\n     <g id=\"line2d_151\">\n      <g>\n       <use xlink:href=\"#ma135784799\" x=\"148.951562\" y=\"280.283839\" style=\"stroke: #000000; stroke-width: 0.8\"/>\n      </g>\n     </g>\n     <g id=\"text_151\">\n      <!-- r2_hero_id -->\n      <g transform=\"translate(89.85625 284.083058) scale(0.1 -0.1)\">\n       <use xlink:href=\"#DejaVuSans-72\"/>\n       <use xlink:href=\"#DejaVuSans-32\" x=\"41.113281\"/>\n       <use xlink:href=\"#DejaVuSans-5f\" x=\"104.736328\"/>\n       <use xlink:href=\"#DejaVuSans-68\" x=\"154.736328\"/>\n       <use xlink:href=\"#DejaVuSans-65\" x=\"218.115234\"/>\n       <use xlink:href=\"#DejaVuSans-72\" x=\"279.638672\"/>\n       <use xlink:href=\"#DejaVuSans-6f\" x=\"318.501953\"/>\n       <use xlink:href=\"#DejaVuSans-5f\" x=\"379.683594\"/>\n       <use xlink:href=\"#DejaVuSans-69\" x=\"429.683594\"/>\n       <use xlink:href=\"#DejaVuSans-64\" x=\"457.466797\"/>\n      </g>\n     </g>\n    </g>\n    <g id=\"ytick_144\">\n     <g id=\"line2d_152\">\n      <g>\n       <use xlink:href=\"#ma135784799\" x=\"148.951562\" y=\"282.094125\" style=\"stroke: #000000; stroke-width: 0.8\"/>\n      </g>\n     </g>\n     <g id=\"text_152\">\n      <!-- d5_teamfight_participation -->\n      <g transform=\"translate(7.2 285.893344) scale(0.1 -0.1)\">\n       <use xlink:href=\"#DejaVuSans-64\"/>\n       <use xlink:href=\"#DejaVuSans-35\" x=\"63.476562\"/>\n       <use xlink:href=\"#DejaVuSans-5f\" x=\"127.099609\"/>\n       <use xlink:href=\"#DejaVuSans-74\" x=\"177.099609\"/>\n       <use xlink:href=\"#DejaVuSans-65\" x=\"216.308594\"/>\n       <use xlink:href=\"#DejaVuSans-61\" x=\"277.832031\"/>\n       <use xlink:href=\"#DejaVuSans-6d\" x=\"339.111328\"/>\n       <use xlink:href=\"#DejaVuSans-66\" x=\"436.523438\"/>\n       <use xlink:href=\"#DejaVuSans-69\" x=\"471.728516\"/>\n       <use xlink:href=\"#DejaVuSans-67\" x=\"499.511719\"/>\n       <use xlink:href=\"#DejaVuSans-68\" x=\"562.988281\"/>\n       <use xlink:href=\"#DejaVuSans-74\" x=\"626.367188\"/>\n       <use xlink:href=\"#DejaVuSans-5f\" x=\"665.576172\"/>\n       <use xlink:href=\"#DejaVuSans-70\" x=\"715.576172\"/>\n       <use xlink:href=\"#DejaVuSans-61\" x=\"779.052734\"/>\n       <use xlink:href=\"#DejaVuSans-72\" x=\"840.332031\"/>\n       <use xlink:href=\"#DejaVuSans-74\" x=\"881.445312\"/>\n       <use xlink:href=\"#DejaVuSans-69\" x=\"920.654297\"/>\n       <use xlink:href=\"#DejaVuSans-63\" x=\"948.4375\"/>\n       <use xlink:href=\"#DejaVuSans-69\" x=\"1003.417969\"/>\n       <use xlink:href=\"#DejaVuSans-70\" x=\"1031.201172\"/>\n       <use xlink:href=\"#DejaVuSans-61\" x=\"1094.677734\"/>\n       <use xlink:href=\"#DejaVuSans-74\" x=\"1155.957031\"/>\n       <use xlink:href=\"#DejaVuSans-69\" x=\"1195.166016\"/>\n       <use xlink:href=\"#DejaVuSans-6f\" x=\"1222.949219\"/>\n       <use xlink:href=\"#DejaVuSans-6e\" x=\"1284.130859\"/>\n      </g>\n     </g>\n    </g>\n    <g id=\"ytick_145\">\n     <g id=\"line2d_153\">\n      <g>\n       <use xlink:href=\"#ma135784799\" x=\"148.951562\" y=\"283.904411\" style=\"stroke: #000000; stroke-width: 0.8\"/>\n      </g>\n     </g>\n     <g id=\"text_153\">\n      <!-- r2_sen_placed -->\n      <g transform=\"translate(70.523437 287.703629) scale(0.1 -0.1)\">\n       <use xlink:href=\"#DejaVuSans-72\"/>\n       <use xlink:href=\"#DejaVuSans-32\" x=\"41.113281\"/>\n       <use xlink:href=\"#DejaVuSans-5f\" x=\"104.736328\"/>\n       <use xlink:href=\"#DejaVuSans-73\" x=\"154.736328\"/>\n       <use xlink:href=\"#DejaVuSans-65\" x=\"206.835938\"/>\n       <use xlink:href=\"#DejaVuSans-6e\" x=\"268.359375\"/>\n       <use xlink:href=\"#DejaVuSans-5f\" x=\"331.738281\"/>\n       <use xlink:href=\"#DejaVuSans-70\" x=\"381.738281\"/>\n       <use xlink:href=\"#DejaVuSans-6c\" x=\"445.214844\"/>\n       <use xlink:href=\"#DejaVuSans-61\" x=\"472.998047\"/>\n       <use xlink:href=\"#DejaVuSans-63\" x=\"534.277344\"/>\n       <use xlink:href=\"#DejaVuSans-65\" x=\"589.257812\"/>\n       <use xlink:href=\"#DejaVuSans-64\" x=\"650.78125\"/>\n      </g>\n     </g>\n    </g>\n    <g id=\"ytick_146\">\n     <g id=\"line2d_154\">\n      <g>\n       <use xlink:href=\"#ma135784799\" x=\"148.951562\" y=\"285.714696\" style=\"stroke: #000000; stroke-width: 0.8\"/>\n      </g>\n     </g>\n     <g id=\"text_154\">\n      <!-- d3_obs_placed -->\n      <g transform=\"translate(68.309375 289.513915) scale(0.1 -0.1)\">\n       <use xlink:href=\"#DejaVuSans-64\"/>\n       <use xlink:href=\"#DejaVuSans-33\" x=\"63.476562\"/>\n       <use xlink:href=\"#DejaVuSans-5f\" x=\"127.099609\"/>\n       <use xlink:href=\"#DejaVuSans-6f\" x=\"177.099609\"/>\n       <use xlink:href=\"#DejaVuSans-62\" x=\"238.28125\"/>\n       <use xlink:href=\"#DejaVuSans-73\" x=\"301.757812\"/>\n       <use xlink:href=\"#DejaVuSans-5f\" x=\"353.857422\"/>\n       <use xlink:href=\"#DejaVuSans-70\" x=\"403.857422\"/>\n       <use xlink:href=\"#DejaVuSans-6c\" x=\"467.333984\"/>\n       <use xlink:href=\"#DejaVuSans-61\" x=\"495.117188\"/>\n       <use xlink:href=\"#DejaVuSans-63\" x=\"556.396484\"/>\n       <use xlink:href=\"#DejaVuSans-65\" x=\"611.376953\"/>\n       <use xlink:href=\"#DejaVuSans-64\" x=\"672.900391\"/>\n      </g>\n     </g>\n    </g>\n    <g id=\"ytick_147\">\n     <g id=\"line2d_155\">\n      <g>\n       <use xlink:href=\"#ma135784799\" x=\"148.951562\" y=\"287.524982\" style=\"stroke: #000000; stroke-width: 0.8\"/>\n      </g>\n     </g>\n     <g id=\"text_155\">\n      <!-- d2_creeps_stacked -->\n      <g transform=\"translate(47.30625 291.324201) scale(0.1 -0.1)\">\n       <use xlink:href=\"#DejaVuSans-64\"/>\n       <use xlink:href=\"#DejaVuSans-32\" x=\"63.476562\"/>\n       <use xlink:href=\"#DejaVuSans-5f\" x=\"127.099609\"/>\n       <use xlink:href=\"#DejaVuSans-63\" x=\"177.099609\"/>\n       <use xlink:href=\"#DejaVuSans-72\" x=\"232.080078\"/>\n       <use xlink:href=\"#DejaVuSans-65\" x=\"270.943359\"/>\n       <use xlink:href=\"#DejaVuSans-65\" x=\"332.466797\"/>\n       <use xlink:href=\"#DejaVuSans-70\" x=\"393.990234\"/>\n       <use xlink:href=\"#DejaVuSans-73\" x=\"457.466797\"/>\n       <use xlink:href=\"#DejaVuSans-5f\" x=\"509.566406\"/>\n       <use xlink:href=\"#DejaVuSans-73\" x=\"559.566406\"/>\n       <use xlink:href=\"#DejaVuSans-74\" x=\"611.666016\"/>\n       <use xlink:href=\"#DejaVuSans-61\" x=\"650.875\"/>\n       <use xlink:href=\"#DejaVuSans-63\" x=\"712.154297\"/>\n       <use xlink:href=\"#DejaVuSans-6b\" x=\"767.134766\"/>\n       <use xlink:href=\"#DejaVuSans-65\" x=\"821.419922\"/>\n       <use xlink:href=\"#DejaVuSans-64\" x=\"882.943359\"/>\n      </g>\n     </g>\n    </g>\n    <g id=\"ytick_148\">\n     <g id=\"line2d_156\">\n      <g>\n       <use xlink:href=\"#ma135784799\" x=\"148.951562\" y=\"289.335268\" style=\"stroke: #000000; stroke-width: 0.8\"/>\n      </g>\n     </g>\n     <g id=\"text_156\">\n      <!-- d4_obs_placed -->\n      <g transform=\"translate(68.309375 293.134487) scale(0.1 -0.1)\">\n       <use xlink:href=\"#DejaVuSans-64\"/>\n       <use xlink:href=\"#DejaVuSans-34\" x=\"63.476562\"/>\n       <use xlink:href=\"#DejaVuSans-5f\" x=\"127.099609\"/>\n       <use xlink:href=\"#DejaVuSans-6f\" x=\"177.099609\"/>\n       <use xlink:href=\"#DejaVuSans-62\" x=\"238.28125\"/>\n       <use xlink:href=\"#DejaVuSans-73\" x=\"301.757812\"/>\n       <use xlink:href=\"#DejaVuSans-5f\" x=\"353.857422\"/>\n       <use xlink:href=\"#DejaVuSans-70\" x=\"403.857422\"/>\n       <use xlink:href=\"#DejaVuSans-6c\" x=\"467.333984\"/>\n       <use xlink:href=\"#DejaVuSans-61\" x=\"495.117188\"/>\n       <use xlink:href=\"#DejaVuSans-63\" x=\"556.396484\"/>\n       <use xlink:href=\"#DejaVuSans-65\" x=\"611.376953\"/>\n       <use xlink:href=\"#DejaVuSans-64\" x=\"672.900391\"/>\n      </g>\n     </g>\n    </g>\n    <g id=\"ytick_149\">\n     <g id=\"line2d_157\">\n      <g>\n       <use xlink:href=\"#ma135784799\" x=\"148.951562\" y=\"291.145554\" style=\"stroke: #000000; stroke-width: 0.8\"/>\n      </g>\n     </g>\n     <g id=\"text_157\">\n      <!-- r1_sen_placed -->\n      <g transform=\"translate(70.523437 294.944772) scale(0.1 -0.1)\">\n       <use xlink:href=\"#DejaVuSans-72\"/>\n       <use xlink:href=\"#DejaVuSans-31\" x=\"41.113281\"/>\n       <use xlink:href=\"#DejaVuSans-5f\" x=\"104.736328\"/>\n       <use xlink:href=\"#DejaVuSans-73\" x=\"154.736328\"/>\n       <use xlink:href=\"#DejaVuSans-65\" x=\"206.835938\"/>\n       <use xlink:href=\"#DejaVuSans-6e\" x=\"268.359375\"/>\n       <use xlink:href=\"#DejaVuSans-5f\" x=\"331.738281\"/>\n       <use xlink:href=\"#DejaVuSans-70\" x=\"381.738281\"/>\n       <use xlink:href=\"#DejaVuSans-6c\" x=\"445.214844\"/>\n       <use xlink:href=\"#DejaVuSans-61\" x=\"472.998047\"/>\n       <use xlink:href=\"#DejaVuSans-63\" x=\"534.277344\"/>\n       <use xlink:href=\"#DejaVuSans-65\" x=\"589.257812\"/>\n       <use xlink:href=\"#DejaVuSans-64\" x=\"650.78125\"/>\n      </g>\n     </g>\n    </g>\n    <g id=\"ytick_150\">\n     <g id=\"line2d_158\">\n      <g>\n       <use xlink:href=\"#ma135784799\" x=\"148.951562\" y=\"292.955839\" style=\"stroke: #000000; stroke-width: 0.8\"/>\n      </g>\n     </g>\n     <g id=\"text_158\">\n      <!-- d5_creeps_stacked -->\n      <g transform=\"translate(47.30625 296.755058) scale(0.1 -0.1)\">\n       <use xlink:href=\"#DejaVuSans-64\"/>\n       <use xlink:href=\"#DejaVuSans-35\" x=\"63.476562\"/>\n       <use xlink:href=\"#DejaVuSans-5f\" x=\"127.099609\"/>\n       <use xlink:href=\"#DejaVuSans-63\" x=\"177.099609\"/>\n       <use xlink:href=\"#DejaVuSans-72\" x=\"232.080078\"/>\n       <use xlink:href=\"#DejaVuSans-65\" x=\"270.943359\"/>\n       <use xlink:href=\"#DejaVuSans-65\" x=\"332.466797\"/>\n       <use xlink:href=\"#DejaVuSans-70\" x=\"393.990234\"/>\n       <use xlink:href=\"#DejaVuSans-73\" x=\"457.466797\"/>\n       <use xlink:href=\"#DejaVuSans-5f\" x=\"509.566406\"/>\n       <use xlink:href=\"#DejaVuSans-73\" x=\"559.566406\"/>\n       <use xlink:href=\"#DejaVuSans-74\" x=\"611.666016\"/>\n       <use xlink:href=\"#DejaVuSans-61\" x=\"650.875\"/>\n       <use xlink:href=\"#DejaVuSans-63\" x=\"712.154297\"/>\n       <use xlink:href=\"#DejaVuSans-6b\" x=\"767.134766\"/>\n       <use xlink:href=\"#DejaVuSans-65\" x=\"821.419922\"/>\n       <use xlink:href=\"#DejaVuSans-64\" x=\"882.943359\"/>\n      </g>\n     </g>\n    </g>\n    <g id=\"ytick_151\">\n     <g id=\"line2d_159\">\n      <g>\n       <use xlink:href=\"#ma135784799\" x=\"148.951562\" y=\"294.766125\" style=\"stroke: #000000; stroke-width: 0.8\"/>\n      </g>\n     </g>\n     <g id=\"text_159\">\n      <!-- d5_camps_stacked -->\n      <g transform=\"translate(47.629687 298.565344) scale(0.1 -0.1)\">\n       <use xlink:href=\"#DejaVuSans-64\"/>\n       <use xlink:href=\"#DejaVuSans-35\" x=\"63.476562\"/>\n       <use xlink:href=\"#DejaVuSans-5f\" x=\"127.099609\"/>\n       <use xlink:href=\"#DejaVuSans-63\" x=\"177.099609\"/>\n       <use xlink:href=\"#DejaVuSans-61\" x=\"232.080078\"/>\n       <use xlink:href=\"#DejaVuSans-6d\" x=\"293.359375\"/>\n       <use xlink:href=\"#DejaVuSans-70\" x=\"390.771484\"/>\n       <use xlink:href=\"#DejaVuSans-73\" x=\"454.248047\"/>\n       <use xlink:href=\"#DejaVuSans-5f\" x=\"506.347656\"/>\n       <use xlink:href=\"#DejaVuSans-73\" x=\"556.347656\"/>\n       <use xlink:href=\"#DejaVuSans-74\" x=\"608.447266\"/>\n       <use xlink:href=\"#DejaVuSans-61\" x=\"647.65625\"/>\n       <use xlink:href=\"#DejaVuSans-63\" x=\"708.935547\"/>\n       <use xlink:href=\"#DejaVuSans-6b\" x=\"763.916016\"/>\n       <use xlink:href=\"#DejaVuSans-65\" x=\"818.201172\"/>\n       <use xlink:href=\"#DejaVuSans-64\" x=\"879.724609\"/>\n      </g>\n     </g>\n    </g>\n    <g id=\"ytick_152\">\n     <g id=\"line2d_160\">\n      <g>\n       <use xlink:href=\"#ma135784799\" x=\"148.951562\" y=\"296.576411\" style=\"stroke: #000000; stroke-width: 0.8\"/>\n      </g>\n     </g>\n     <g id=\"text_160\">\n      <!-- d3_teamfight_participation -->\n      <g transform=\"translate(7.2 300.375629) scale(0.1 -0.1)\">\n       <use xlink:href=\"#DejaVuSans-64\"/>\n       <use xlink:href=\"#DejaVuSans-33\" x=\"63.476562\"/>\n       <use xlink:href=\"#DejaVuSans-5f\" x=\"127.099609\"/>\n       <use xlink:href=\"#DejaVuSans-74\" x=\"177.099609\"/>\n       <use xlink:href=\"#DejaVuSans-65\" x=\"216.308594\"/>\n       <use xlink:href=\"#DejaVuSans-61\" x=\"277.832031\"/>\n       <use xlink:href=\"#DejaVuSans-6d\" x=\"339.111328\"/>\n       <use xlink:href=\"#DejaVuSans-66\" x=\"436.523438\"/>\n       <use xlink:href=\"#DejaVuSans-69\" x=\"471.728516\"/>\n       <use xlink:href=\"#DejaVuSans-67\" x=\"499.511719\"/>\n       <use xlink:href=\"#DejaVuSans-68\" x=\"562.988281\"/>\n       <use xlink:href=\"#DejaVuSans-74\" x=\"626.367188\"/>\n       <use xlink:href=\"#DejaVuSans-5f\" x=\"665.576172\"/>\n       <use xlink:href=\"#DejaVuSans-70\" x=\"715.576172\"/>\n       <use xlink:href=\"#DejaVuSans-61\" x=\"779.052734\"/>\n       <use xlink:href=\"#DejaVuSans-72\" x=\"840.332031\"/>\n       <use xlink:href=\"#DejaVuSans-74\" x=\"881.445312\"/>\n       <use xlink:href=\"#DejaVuSans-69\" x=\"920.654297\"/>\n       <use xlink:href=\"#DejaVuSans-63\" x=\"948.4375\"/>\n       <use xlink:href=\"#DejaVuSans-69\" x=\"1003.417969\"/>\n       <use xlink:href=\"#DejaVuSans-70\" x=\"1031.201172\"/>\n       <use xlink:href=\"#DejaVuSans-61\" x=\"1094.677734\"/>\n       <use xlink:href=\"#DejaVuSans-74\" x=\"1155.957031\"/>\n       <use xlink:href=\"#DejaVuSans-69\" x=\"1195.166016\"/>\n       <use xlink:href=\"#DejaVuSans-6f\" x=\"1222.949219\"/>\n       <use xlink:href=\"#DejaVuSans-6e\" x=\"1284.130859\"/>\n      </g>\n     </g>\n    </g>\n    <g id=\"ytick_153\">\n     <g id=\"line2d_161\">\n      <g>\n       <use xlink:href=\"#ma135784799\" x=\"148.951562\" y=\"298.386696\" style=\"stroke: #000000; stroke-width: 0.8\"/>\n      </g>\n     </g>\n     <g id=\"text_161\">\n      <!-- d4_teamfight_participation -->\n      <g transform=\"translate(7.2 302.185915) scale(0.1 -0.1)\">\n       <use xlink:href=\"#DejaVuSans-64\"/>\n       <use xlink:href=\"#DejaVuSans-34\" x=\"63.476562\"/>\n       <use xlink:href=\"#DejaVuSans-5f\" x=\"127.099609\"/>\n       <use xlink:href=\"#DejaVuSans-74\" x=\"177.099609\"/>\n       <use xlink:href=\"#DejaVuSans-65\" x=\"216.308594\"/>\n       <use xlink:href=\"#DejaVuSans-61\" x=\"277.832031\"/>\n       <use xlink:href=\"#DejaVuSans-6d\" x=\"339.111328\"/>\n       <use xlink:href=\"#DejaVuSans-66\" x=\"436.523438\"/>\n       <use xlink:href=\"#DejaVuSans-69\" x=\"471.728516\"/>\n       <use xlink:href=\"#DejaVuSans-67\" x=\"499.511719\"/>\n       <use xlink:href=\"#DejaVuSans-68\" x=\"562.988281\"/>\n       <use xlink:href=\"#DejaVuSans-74\" x=\"626.367188\"/>\n       <use xlink:href=\"#DejaVuSans-5f\" x=\"665.576172\"/>\n       <use xlink:href=\"#DejaVuSans-70\" x=\"715.576172\"/>\n       <use xlink:href=\"#DejaVuSans-61\" x=\"779.052734\"/>\n       <use xlink:href=\"#DejaVuSans-72\" x=\"840.332031\"/>\n       <use xlink:href=\"#DejaVuSans-74\" x=\"881.445312\"/>\n       <use xlink:href=\"#DejaVuSans-69\" x=\"920.654297\"/>\n       <use xlink:href=\"#DejaVuSans-63\" x=\"948.4375\"/>\n       <use xlink:href=\"#DejaVuSans-69\" x=\"1003.417969\"/>\n       <use xlink:href=\"#DejaVuSans-70\" x=\"1031.201172\"/>\n       <use xlink:href=\"#DejaVuSans-61\" x=\"1094.677734\"/>\n       <use xlink:href=\"#DejaVuSans-74\" x=\"1155.957031\"/>\n       <use xlink:href=\"#DejaVuSans-69\" x=\"1195.166016\"/>\n       <use xlink:href=\"#DejaVuSans-6f\" x=\"1222.949219\"/>\n       <use xlink:href=\"#DejaVuSans-6e\" x=\"1284.130859\"/>\n      </g>\n     </g>\n    </g>\n    <g id=\"ytick_154\">\n     <g id=\"line2d_162\">\n      <g>\n       <use xlink:href=\"#ma135784799\" x=\"148.951562\" y=\"300.196982\" style=\"stroke: #000000; stroke-width: 0.8\"/>\n      </g>\n     </g>\n     <g id=\"text_162\">\n      <!-- d1_creeps_stacked -->\n      <g transform=\"translate(47.30625 303.996201) scale(0.1 -0.1)\">\n       <use xlink:href=\"#DejaVuSans-64\"/>\n       <use xlink:href=\"#DejaVuSans-31\" x=\"63.476562\"/>\n       <use xlink:href=\"#DejaVuSans-5f\" x=\"127.099609\"/>\n       <use xlink:href=\"#DejaVuSans-63\" x=\"177.099609\"/>\n       <use xlink:href=\"#DejaVuSans-72\" x=\"232.080078\"/>\n       <use xlink:href=\"#DejaVuSans-65\" x=\"270.943359\"/>\n       <use xlink:href=\"#DejaVuSans-65\" x=\"332.466797\"/>\n       <use xlink:href=\"#DejaVuSans-70\" x=\"393.990234\"/>\n       <use xlink:href=\"#DejaVuSans-73\" x=\"457.466797\"/>\n       <use xlink:href=\"#DejaVuSans-5f\" x=\"509.566406\"/>\n       <use xlink:href=\"#DejaVuSans-73\" x=\"559.566406\"/>\n       <use xlink:href=\"#DejaVuSans-74\" x=\"611.666016\"/>\n       <use xlink:href=\"#DejaVuSans-61\" x=\"650.875\"/>\n       <use xlink:href=\"#DejaVuSans-63\" x=\"712.154297\"/>\n       <use xlink:href=\"#DejaVuSans-6b\" x=\"767.134766\"/>\n       <use xlink:href=\"#DejaVuSans-65\" x=\"821.419922\"/>\n       <use xlink:href=\"#DejaVuSans-64\" x=\"882.943359\"/>\n      </g>\n     </g>\n    </g>\n    <g id=\"ytick_155\">\n     <g id=\"line2d_163\">\n      <g>\n       <use xlink:href=\"#ma135784799\" x=\"148.951562\" y=\"302.007268\" style=\"stroke: #000000; stroke-width: 0.8\"/>\n      </g>\n     </g>\n     <g id=\"text_163\">\n      <!-- d1_obs_placed -->\n      <g transform=\"translate(68.309375 305.806487) scale(0.1 -0.1)\">\n       <use xlink:href=\"#DejaVuSans-64\"/>\n       <use xlink:href=\"#DejaVuSans-31\" x=\"63.476562\"/>\n       <use xlink:href=\"#DejaVuSans-5f\" x=\"127.099609\"/>\n       <use xlink:href=\"#DejaVuSans-6f\" x=\"177.099609\"/>\n       <use xlink:href=\"#DejaVuSans-62\" x=\"238.28125\"/>\n       <use xlink:href=\"#DejaVuSans-73\" x=\"301.757812\"/>\n       <use xlink:href=\"#DejaVuSans-5f\" x=\"353.857422\"/>\n       <use xlink:href=\"#DejaVuSans-70\" x=\"403.857422\"/>\n       <use xlink:href=\"#DejaVuSans-6c\" x=\"467.333984\"/>\n       <use xlink:href=\"#DejaVuSans-61\" x=\"495.117188\"/>\n       <use xlink:href=\"#DejaVuSans-63\" x=\"556.396484\"/>\n       <use xlink:href=\"#DejaVuSans-65\" x=\"611.376953\"/>\n       <use xlink:href=\"#DejaVuSans-64\" x=\"672.900391\"/>\n      </g>\n     </g>\n    </g>\n    <g id=\"ytick_156\">\n     <g id=\"line2d_164\">\n      <g>\n       <use xlink:href=\"#ma135784799\" x=\"148.951562\" y=\"303.817554\" style=\"stroke: #000000; stroke-width: 0.8\"/>\n      </g>\n     </g>\n     <g id=\"text_164\">\n      <!-- r5_sen_placed -->\n      <g transform=\"translate(70.523437 307.616772) scale(0.1 -0.1)\">\n       <use xlink:href=\"#DejaVuSans-72\"/>\n       <use xlink:href=\"#DejaVuSans-35\" x=\"41.113281\"/>\n       <use xlink:href=\"#DejaVuSans-5f\" x=\"104.736328\"/>\n       <use xlink:href=\"#DejaVuSans-73\" x=\"154.736328\"/>\n       <use xlink:href=\"#DejaVuSans-65\" x=\"206.835938\"/>\n       <use xlink:href=\"#DejaVuSans-6e\" x=\"268.359375\"/>\n       <use xlink:href=\"#DejaVuSans-5f\" x=\"331.738281\"/>\n       <use xlink:href=\"#DejaVuSans-70\" x=\"381.738281\"/>\n       <use xlink:href=\"#DejaVuSans-6c\" x=\"445.214844\"/>\n       <use xlink:href=\"#DejaVuSans-61\" x=\"472.998047\"/>\n       <use xlink:href=\"#DejaVuSans-63\" x=\"534.277344\"/>\n       <use xlink:href=\"#DejaVuSans-65\" x=\"589.257812\"/>\n       <use xlink:href=\"#DejaVuSans-64\" x=\"650.78125\"/>\n      </g>\n     </g>\n    </g>\n    <g id=\"ytick_157\">\n     <g id=\"line2d_165\">\n      <g>\n       <use xlink:href=\"#ma135784799\" x=\"148.951562\" y=\"305.627839\" style=\"stroke: #000000; stroke-width: 0.8\"/>\n      </g>\n     </g>\n     <g id=\"text_165\">\n      <!-- d1_stuns -->\n      <g transform=\"translate(97.226562 309.427058) scale(0.1 -0.1)\">\n       <use xlink:href=\"#DejaVuSans-64\"/>\n       <use xlink:href=\"#DejaVuSans-31\" x=\"63.476562\"/>\n       <use xlink:href=\"#DejaVuSans-5f\" x=\"127.099609\"/>\n       <use xlink:href=\"#DejaVuSans-73\" x=\"177.099609\"/>\n       <use xlink:href=\"#DejaVuSans-74\" x=\"229.199219\"/>\n       <use xlink:href=\"#DejaVuSans-75\" x=\"268.408203\"/>\n       <use xlink:href=\"#DejaVuSans-6e\" x=\"331.787109\"/>\n       <use xlink:href=\"#DejaVuSans-73\" x=\"395.166016\"/>\n      </g>\n     </g>\n    </g>\n    <g id=\"ytick_158\">\n     <g id=\"line2d_166\">\n      <g>\n       <use xlink:href=\"#ma135784799\" x=\"148.951562\" y=\"307.438125\" style=\"stroke: #000000; stroke-width: 0.8\"/>\n      </g>\n     </g>\n     <g id=\"text_166\">\n      <!-- d1_camps_stacked -->\n      <g transform=\"translate(47.629687 311.237344) scale(0.1 -0.1)\">\n       <use xlink:href=\"#DejaVuSans-64\"/>\n       <use xlink:href=\"#DejaVuSans-31\" x=\"63.476562\"/>\n       <use xlink:href=\"#DejaVuSans-5f\" x=\"127.099609\"/>\n       <use xlink:href=\"#DejaVuSans-63\" x=\"177.099609\"/>\n       <use xlink:href=\"#DejaVuSans-61\" x=\"232.080078\"/>\n       <use xlink:href=\"#DejaVuSans-6d\" x=\"293.359375\"/>\n       <use xlink:href=\"#DejaVuSans-70\" x=\"390.771484\"/>\n       <use xlink:href=\"#DejaVuSans-73\" x=\"454.248047\"/>\n       <use xlink:href=\"#DejaVuSans-5f\" x=\"506.347656\"/>\n       <use xlink:href=\"#DejaVuSans-73\" x=\"556.347656\"/>\n       <use xlink:href=\"#DejaVuSans-74\" x=\"608.447266\"/>\n       <use xlink:href=\"#DejaVuSans-61\" x=\"647.65625\"/>\n       <use xlink:href=\"#DejaVuSans-63\" x=\"708.935547\"/>\n       <use xlink:href=\"#DejaVuSans-6b\" x=\"763.916016\"/>\n       <use xlink:href=\"#DejaVuSans-65\" x=\"818.201172\"/>\n       <use xlink:href=\"#DejaVuSans-64\" x=\"879.724609\"/>\n      </g>\n     </g>\n    </g>\n    <g id=\"ytick_159\">\n     <g id=\"line2d_167\">\n      <g>\n       <use xlink:href=\"#ma135784799\" x=\"148.951562\" y=\"309.248411\" style=\"stroke: #000000; stroke-width: 0.8\"/>\n      </g>\n     </g>\n     <g id=\"text_167\">\n      <!-- d5_obs_placed -->\n      <g transform=\"translate(68.309375 313.047629) scale(0.1 -0.1)\">\n       <use xlink:href=\"#DejaVuSans-64\"/>\n       <use xlink:href=\"#DejaVuSans-35\" x=\"63.476562\"/>\n       <use xlink:href=\"#DejaVuSans-5f\" x=\"127.099609\"/>\n       <use xlink:href=\"#DejaVuSans-6f\" x=\"177.099609\"/>\n       <use xlink:href=\"#DejaVuSans-62\" x=\"238.28125\"/>\n       <use xlink:href=\"#DejaVuSans-73\" x=\"301.757812\"/>\n       <use xlink:href=\"#DejaVuSans-5f\" x=\"353.857422\"/>\n       <use xlink:href=\"#DejaVuSans-70\" x=\"403.857422\"/>\n       <use xlink:href=\"#DejaVuSans-6c\" x=\"467.333984\"/>\n       <use xlink:href=\"#DejaVuSans-61\" x=\"495.117188\"/>\n       <use xlink:href=\"#DejaVuSans-63\" x=\"556.396484\"/>\n       <use xlink:href=\"#DejaVuSans-65\" x=\"611.376953\"/>\n       <use xlink:href=\"#DejaVuSans-64\" x=\"672.900391\"/>\n      </g>\n     </g>\n    </g>\n    <g id=\"ytick_160\">\n     <g id=\"line2d_168\">\n      <g>\n       <use xlink:href=\"#ma135784799\" x=\"148.951562\" y=\"311.058696\" style=\"stroke: #000000; stroke-width: 0.8\"/>\n      </g>\n     </g>\n     <g id=\"text_168\">\n      <!-- d2_teamfight_participation -->\n      <g transform=\"translate(7.2 314.857915) scale(0.1 -0.1)\">\n       <use xlink:href=\"#DejaVuSans-64\"/>\n       <use xlink:href=\"#DejaVuSans-32\" x=\"63.476562\"/>\n       <use xlink:href=\"#DejaVuSans-5f\" x=\"127.099609\"/>\n       <use xlink:href=\"#DejaVuSans-74\" x=\"177.099609\"/>\n       <use xlink:href=\"#DejaVuSans-65\" x=\"216.308594\"/>\n       <use xlink:href=\"#DejaVuSans-61\" x=\"277.832031\"/>\n       <use xlink:href=\"#DejaVuSans-6d\" x=\"339.111328\"/>\n       <use xlink:href=\"#DejaVuSans-66\" x=\"436.523438\"/>\n       <use xlink:href=\"#DejaVuSans-69\" x=\"471.728516\"/>\n       <use xlink:href=\"#DejaVuSans-67\" x=\"499.511719\"/>\n       <use xlink:href=\"#DejaVuSans-68\" x=\"562.988281\"/>\n       <use xlink:href=\"#DejaVuSans-74\" x=\"626.367188\"/>\n       <use xlink:href=\"#DejaVuSans-5f\" x=\"665.576172\"/>\n       <use xlink:href=\"#DejaVuSans-70\" x=\"715.576172\"/>\n       <use xlink:href=\"#DejaVuSans-61\" x=\"779.052734\"/>\n       <use xlink:href=\"#DejaVuSans-72\" x=\"840.332031\"/>\n       <use xlink:href=\"#DejaVuSans-74\" x=\"881.445312\"/>\n       <use xlink:href=\"#DejaVuSans-69\" x=\"920.654297\"/>\n       <use xlink:href=\"#DejaVuSans-63\" x=\"948.4375\"/>\n       <use xlink:href=\"#DejaVuSans-69\" x=\"1003.417969\"/>\n       <use xlink:href=\"#DejaVuSans-70\" x=\"1031.201172\"/>\n       <use xlink:href=\"#DejaVuSans-61\" x=\"1094.677734\"/>\n       <use xlink:href=\"#DejaVuSans-74\" x=\"1155.957031\"/>\n       <use xlink:href=\"#DejaVuSans-69\" x=\"1195.166016\"/>\n       <use xlink:href=\"#DejaVuSans-6f\" x=\"1222.949219\"/>\n       <use xlink:href=\"#DejaVuSans-6e\" x=\"1284.130859\"/>\n      </g>\n     </g>\n    </g>\n    <g id=\"ytick_161\">\n     <g id=\"line2d_169\">\n      <g>\n       <use xlink:href=\"#ma135784799\" x=\"148.951562\" y=\"312.868982\" style=\"stroke: #000000; stroke-width: 0.8\"/>\n      </g>\n     </g>\n     <g id=\"text_169\">\n      <!-- chat_len -->\n      <g transform=\"translate(99.798437 316.668201) scale(0.1 -0.1)\">\n       <use xlink:href=\"#DejaVuSans-63\"/>\n       <use xlink:href=\"#DejaVuSans-68\" x=\"54.980469\"/>\n       <use xlink:href=\"#DejaVuSans-61\" x=\"118.359375\"/>\n       <use xlink:href=\"#DejaVuSans-74\" x=\"179.638672\"/>\n       <use xlink:href=\"#DejaVuSans-5f\" x=\"218.847656\"/>\n       <use xlink:href=\"#DejaVuSans-6c\" x=\"268.847656\"/>\n       <use xlink:href=\"#DejaVuSans-65\" x=\"296.630859\"/>\n       <use xlink:href=\"#DejaVuSans-6e\" x=\"358.154297\"/>\n      </g>\n     </g>\n    </g>\n    <g id=\"ytick_162\">\n     <g id=\"line2d_170\">\n      <g>\n       <use xlink:href=\"#ma135784799\" x=\"148.951562\" y=\"314.679268\" style=\"stroke: #000000; stroke-width: 0.8\"/>\n      </g>\n     </g>\n     <g id=\"text_170\">\n      <!-- r3_sen_placed -->\n      <g transform=\"translate(70.523437 318.478487) scale(0.1 -0.1)\">\n       <use xlink:href=\"#DejaVuSans-72\"/>\n       <use xlink:href=\"#DejaVuSans-33\" x=\"41.113281\"/>\n       <use xlink:href=\"#DejaVuSans-5f\" x=\"104.736328\"/>\n       <use xlink:href=\"#DejaVuSans-73\" x=\"154.736328\"/>\n       <use xlink:href=\"#DejaVuSans-65\" x=\"206.835938\"/>\n       <use xlink:href=\"#DejaVuSans-6e\" x=\"268.359375\"/>\n       <use xlink:href=\"#DejaVuSans-5f\" x=\"331.738281\"/>\n       <use xlink:href=\"#DejaVuSans-70\" x=\"381.738281\"/>\n       <use xlink:href=\"#DejaVuSans-6c\" x=\"445.214844\"/>\n       <use xlink:href=\"#DejaVuSans-61\" x=\"472.998047\"/>\n       <use xlink:href=\"#DejaVuSans-63\" x=\"534.277344\"/>\n       <use xlink:href=\"#DejaVuSans-65\" x=\"589.257812\"/>\n       <use xlink:href=\"#DejaVuSans-64\" x=\"650.78125\"/>\n      </g>\n     </g>\n    </g>\n    <g id=\"ytick_163\">\n     <g id=\"line2d_171\">\n      <g>\n       <use xlink:href=\"#ma135784799\" x=\"148.951562\" y=\"316.489554\" style=\"stroke: #000000; stroke-width: 0.8\"/>\n      </g>\n     </g>\n     <g id=\"text_171\">\n      <!-- objectives_len -->\n      <g transform=\"translate(70.80625 320.288772) scale(0.1 -0.1)\">\n       <defs>\n        <path id=\"DejaVuSans-6a\" d=\"M 603 3500 \nL 1178 3500 \nL 1178 -63 \nQ 1178 -731 923 -1031 \nQ 669 -1331 103 -1331 \nL -116 -1331 \nL -116 -844 \nL 38 -844 \nQ 366 -844 484 -692 \nQ 603 -541 603 -63 \nL 603 3500 \nz\nM 603 4863 \nL 1178 4863 \nL 1178 4134 \nL 603 4134 \nL 603 4863 \nz\n\" transform=\"scale(0.015625)\"/>\n       </defs>\n       <use xlink:href=\"#DejaVuSans-6f\"/>\n       <use xlink:href=\"#DejaVuSans-62\" x=\"61.181641\"/>\n       <use xlink:href=\"#DejaVuSans-6a\" x=\"124.658203\"/>\n       <use xlink:href=\"#DejaVuSans-65\" x=\"152.441406\"/>\n       <use xlink:href=\"#DejaVuSans-63\" x=\"213.964844\"/>\n       <use xlink:href=\"#DejaVuSans-74\" x=\"268.945312\"/>\n       <use xlink:href=\"#DejaVuSans-69\" x=\"308.154297\"/>\n       <use xlink:href=\"#DejaVuSans-76\" x=\"335.9375\"/>\n       <use xlink:href=\"#DejaVuSans-65\" x=\"395.117188\"/>\n       <use xlink:href=\"#DejaVuSans-73\" x=\"456.640625\"/>\n       <use xlink:href=\"#DejaVuSans-5f\" x=\"508.740234\"/>\n       <use xlink:href=\"#DejaVuSans-6c\" x=\"558.740234\"/>\n       <use xlink:href=\"#DejaVuSans-65\" x=\"586.523438\"/>\n       <use xlink:href=\"#DejaVuSans-6e\" x=\"648.046875\"/>\n      </g>\n     </g>\n    </g>\n    <g id=\"ytick_164\">\n     <g id=\"line2d_172\">\n      <g>\n       <use xlink:href=\"#ma135784799\" x=\"148.951562\" y=\"318.299839\" style=\"stroke: #000000; stroke-width: 0.8\"/>\n      </g>\n     </g>\n     <g id=\"text_172\">\n      <!-- d3_stuns -->\n      <g transform=\"translate(97.226562 322.099058) scale(0.1 -0.1)\">\n       <use xlink:href=\"#DejaVuSans-64\"/>\n       <use xlink:href=\"#DejaVuSans-33\" x=\"63.476562\"/>\n       <use xlink:href=\"#DejaVuSans-5f\" x=\"127.099609\"/>\n       <use xlink:href=\"#DejaVuSans-73\" x=\"177.099609\"/>\n       <use xlink:href=\"#DejaVuSans-74\" x=\"229.199219\"/>\n       <use xlink:href=\"#DejaVuSans-75\" x=\"268.408203\"/>\n       <use xlink:href=\"#DejaVuSans-6e\" x=\"331.787109\"/>\n       <use xlink:href=\"#DejaVuSans-73\" x=\"395.166016\"/>\n      </g>\n     </g>\n    </g>\n    <g id=\"ytick_165\">\n     <g id=\"line2d_173\">\n      <g>\n       <use xlink:href=\"#ma135784799\" x=\"148.951562\" y=\"320.110125\" style=\"stroke: #000000; stroke-width: 0.8\"/>\n      </g>\n     </g>\n     <g id=\"text_173\">\n      <!-- d2_obs_placed -->\n      <g transform=\"translate(68.309375 323.909344) scale(0.1 -0.1)\">\n       <use xlink:href=\"#DejaVuSans-64\"/>\n       <use xlink:href=\"#DejaVuSans-32\" x=\"63.476562\"/>\n       <use xlink:href=\"#DejaVuSans-5f\" x=\"127.099609\"/>\n       <use xlink:href=\"#DejaVuSans-6f\" x=\"177.099609\"/>\n       <use xlink:href=\"#DejaVuSans-62\" x=\"238.28125\"/>\n       <use xlink:href=\"#DejaVuSans-73\" x=\"301.757812\"/>\n       <use xlink:href=\"#DejaVuSans-5f\" x=\"353.857422\"/>\n       <use xlink:href=\"#DejaVuSans-70\" x=\"403.857422\"/>\n       <use xlink:href=\"#DejaVuSans-6c\" x=\"467.333984\"/>\n       <use xlink:href=\"#DejaVuSans-61\" x=\"495.117188\"/>\n       <use xlink:href=\"#DejaVuSans-63\" x=\"556.396484\"/>\n       <use xlink:href=\"#DejaVuSans-65\" x=\"611.376953\"/>\n       <use xlink:href=\"#DejaVuSans-64\" x=\"672.900391\"/>\n      </g>\n     </g>\n    </g>\n    <g id=\"ytick_166\">\n     <g id=\"line2d_174\">\n      <g>\n       <use xlink:href=\"#ma135784799\" x=\"148.951562\" y=\"321.920411\" style=\"stroke: #000000; stroke-width: 0.8\"/>\n      </g>\n     </g>\n     <g id=\"text_174\">\n      <!-- d5_stuns -->\n      <g transform=\"translate(97.226562 325.719629) scale(0.1 -0.1)\">\n       <use xlink:href=\"#DejaVuSans-64\"/>\n       <use xlink:href=\"#DejaVuSans-35\" x=\"63.476562\"/>\n       <use xlink:href=\"#DejaVuSans-5f\" x=\"127.099609\"/>\n       <use xlink:href=\"#DejaVuSans-73\" x=\"177.099609\"/>\n       <use xlink:href=\"#DejaVuSans-74\" x=\"229.199219\"/>\n       <use xlink:href=\"#DejaVuSans-75\" x=\"268.408203\"/>\n       <use xlink:href=\"#DejaVuSans-6e\" x=\"331.787109\"/>\n       <use xlink:href=\"#DejaVuSans-73\" x=\"395.166016\"/>\n      </g>\n     </g>\n    </g>\n    <g id=\"ytick_167\">\n     <g id=\"line2d_175\">\n      <g>\n       <use xlink:href=\"#ma135784799\" x=\"148.951562\" y=\"323.730696\" style=\"stroke: #000000; stroke-width: 0.8\"/>\n      </g>\n     </g>\n     <g id=\"text_175\">\n      <!-- d2_stuns -->\n      <g transform=\"translate(97.226562 327.529915) scale(0.1 -0.1)\">\n       <use xlink:href=\"#DejaVuSans-64\"/>\n       <use xlink:href=\"#DejaVuSans-32\" x=\"63.476562\"/>\n       <use xlink:href=\"#DejaVuSans-5f\" x=\"127.099609\"/>\n       <use xlink:href=\"#DejaVuSans-73\" x=\"177.099609\"/>\n       <use xlink:href=\"#DejaVuSans-74\" x=\"229.199219\"/>\n       <use xlink:href=\"#DejaVuSans-75\" x=\"268.408203\"/>\n       <use xlink:href=\"#DejaVuSans-6e\" x=\"331.787109\"/>\n       <use xlink:href=\"#DejaVuSans-73\" x=\"395.166016\"/>\n      </g>\n     </g>\n    </g>\n    <g id=\"ytick_168\">\n     <g id=\"line2d_176\">\n      <g>\n       <use xlink:href=\"#ma135784799\" x=\"148.951562\" y=\"325.540982\" style=\"stroke: #000000; stroke-width: 0.8\"/>\n      </g>\n     </g>\n     <g id=\"text_176\">\n      <!-- r4_sen_placed -->\n      <g transform=\"translate(70.523437 329.340201) scale(0.1 -0.1)\">\n       <use xlink:href=\"#DejaVuSans-72\"/>\n       <use xlink:href=\"#DejaVuSans-34\" x=\"41.113281\"/>\n       <use xlink:href=\"#DejaVuSans-5f\" x=\"104.736328\"/>\n       <use xlink:href=\"#DejaVuSans-73\" x=\"154.736328\"/>\n       <use xlink:href=\"#DejaVuSans-65\" x=\"206.835938\"/>\n       <use xlink:href=\"#DejaVuSans-6e\" x=\"268.359375\"/>\n       <use xlink:href=\"#DejaVuSans-5f\" x=\"331.738281\"/>\n       <use xlink:href=\"#DejaVuSans-70\" x=\"381.738281\"/>\n       <use xlink:href=\"#DejaVuSans-6c\" x=\"445.214844\"/>\n       <use xlink:href=\"#DejaVuSans-61\" x=\"472.998047\"/>\n       <use xlink:href=\"#DejaVuSans-63\" x=\"534.277344\"/>\n       <use xlink:href=\"#DejaVuSans-65\" x=\"589.257812\"/>\n       <use xlink:href=\"#DejaVuSans-64\" x=\"650.78125\"/>\n      </g>\n     </g>\n    </g>\n    <g id=\"ytick_169\">\n     <g id=\"line2d_177\">\n      <g>\n       <use xlink:href=\"#ma135784799\" x=\"148.951562\" y=\"327.351268\" style=\"stroke: #000000; stroke-width: 0.8\"/>\n      </g>\n     </g>\n     <g id=\"text_177\">\n      <!-- d4_stuns -->\n      <g transform=\"translate(97.226562 331.150487) scale(0.1 -0.1)\">\n       <use xlink:href=\"#DejaVuSans-64\"/>\n       <use xlink:href=\"#DejaVuSans-34\" x=\"63.476562\"/>\n       <use xlink:href=\"#DejaVuSans-5f\" x=\"127.099609\"/>\n       <use xlink:href=\"#DejaVuSans-73\" x=\"177.099609\"/>\n       <use xlink:href=\"#DejaVuSans-74\" x=\"229.199219\"/>\n       <use xlink:href=\"#DejaVuSans-75\" x=\"268.408203\"/>\n       <use xlink:href=\"#DejaVuSans-6e\" x=\"331.787109\"/>\n       <use xlink:href=\"#DejaVuSans-73\" x=\"395.166016\"/>\n      </g>\n     </g>\n    </g>\n    <g id=\"ytick_170\">\n     <g id=\"line2d_178\">\n      <g>\n       <use xlink:href=\"#ma135784799\" x=\"148.951562\" y=\"329.161554\" style=\"stroke: #000000; stroke-width: 0.8\"/>\n      </g>\n     </g>\n     <g id=\"text_178\">\n      <!-- d3_firstblood_claimed -->\n      <g transform=\"translate(32.564062 332.960772) scale(0.1 -0.1)\">\n       <use xlink:href=\"#DejaVuSans-64\"/>\n       <use xlink:href=\"#DejaVuSans-33\" x=\"63.476562\"/>\n       <use xlink:href=\"#DejaVuSans-5f\" x=\"127.099609\"/>\n       <use xlink:href=\"#DejaVuSans-66\" x=\"177.099609\"/>\n       <use xlink:href=\"#DejaVuSans-69\" x=\"212.304688\"/>\n       <use xlink:href=\"#DejaVuSans-72\" x=\"240.087891\"/>\n       <use xlink:href=\"#DejaVuSans-73\" x=\"281.201172\"/>\n       <use xlink:href=\"#DejaVuSans-74\" x=\"333.300781\"/>\n       <use xlink:href=\"#DejaVuSans-62\" x=\"372.509766\"/>\n       <use xlink:href=\"#DejaVuSans-6c\" x=\"435.986328\"/>\n       <use xlink:href=\"#DejaVuSans-6f\" x=\"463.769531\"/>\n       <use xlink:href=\"#DejaVuSans-6f\" x=\"524.951172\"/>\n       <use xlink:href=\"#DejaVuSans-64\" x=\"586.132812\"/>\n       <use xlink:href=\"#DejaVuSans-5f\" x=\"649.609375\"/>\n       <use xlink:href=\"#DejaVuSans-63\" x=\"699.609375\"/>\n       <use xlink:href=\"#DejaVuSans-6c\" x=\"754.589844\"/>\n       <use xlink:href=\"#DejaVuSans-61\" x=\"782.373047\"/>\n       <use xlink:href=\"#DejaVuSans-69\" x=\"843.652344\"/>\n       <use xlink:href=\"#DejaVuSans-6d\" x=\"871.435547\"/>\n       <use xlink:href=\"#DejaVuSans-65\" x=\"968.847656\"/>\n       <use xlink:href=\"#DejaVuSans-64\" x=\"1030.371094\"/>\n      </g>\n     </g>\n    </g>\n    <g id=\"ytick_171\">\n     <g id=\"line2d_179\">\n      <g>\n       <use xlink:href=\"#ma135784799\" x=\"148.951562\" y=\"330.971839\" style=\"stroke: #000000; stroke-width: 0.8\"/>\n      </g>\n     </g>\n     <g id=\"text_179\">\n      <!-- d2_firstblood_claimed -->\n      <g transform=\"translate(32.564062 334.771058) scale(0.1 -0.1)\">\n       <use xlink:href=\"#DejaVuSans-64\"/>\n       <use xlink:href=\"#DejaVuSans-32\" x=\"63.476562\"/>\n       <use xlink:href=\"#DejaVuSans-5f\" x=\"127.099609\"/>\n       <use xlink:href=\"#DejaVuSans-66\" x=\"177.099609\"/>\n       <use xlink:href=\"#DejaVuSans-69\" x=\"212.304688\"/>\n       <use xlink:href=\"#DejaVuSans-72\" x=\"240.087891\"/>\n       <use xlink:href=\"#DejaVuSans-73\" x=\"281.201172\"/>\n       <use xlink:href=\"#DejaVuSans-74\" x=\"333.300781\"/>\n       <use xlink:href=\"#DejaVuSans-62\" x=\"372.509766\"/>\n       <use xlink:href=\"#DejaVuSans-6c\" x=\"435.986328\"/>\n       <use xlink:href=\"#DejaVuSans-6f\" x=\"463.769531\"/>\n       <use xlink:href=\"#DejaVuSans-6f\" x=\"524.951172\"/>\n       <use xlink:href=\"#DejaVuSans-64\" x=\"586.132812\"/>\n       <use xlink:href=\"#DejaVuSans-5f\" x=\"649.609375\"/>\n       <use xlink:href=\"#DejaVuSans-63\" x=\"699.609375\"/>\n       <use xlink:href=\"#DejaVuSans-6c\" x=\"754.589844\"/>\n       <use xlink:href=\"#DejaVuSans-61\" x=\"782.373047\"/>\n       <use xlink:href=\"#DejaVuSans-69\" x=\"843.652344\"/>\n       <use xlink:href=\"#DejaVuSans-6d\" x=\"871.435547\"/>\n       <use xlink:href=\"#DejaVuSans-65\" x=\"968.847656\"/>\n       <use xlink:href=\"#DejaVuSans-64\" x=\"1030.371094\"/>\n      </g>\n     </g>\n    </g>\n    <g id=\"ytick_172\">\n     <g id=\"line2d_180\">\n      <g>\n       <use xlink:href=\"#ma135784799\" x=\"148.951562\" y=\"332.782125\" style=\"stroke: #000000; stroke-width: 0.8\"/>\n      </g>\n     </g>\n     <g id=\"text_180\">\n      <!-- d1_firstblood_claimed -->\n      <g transform=\"translate(32.564062 336.581344) scale(0.1 -0.1)\">\n       <use xlink:href=\"#DejaVuSans-64\"/>\n       <use xlink:href=\"#DejaVuSans-31\" x=\"63.476562\"/>\n       <use xlink:href=\"#DejaVuSans-5f\" x=\"127.099609\"/>\n       <use xlink:href=\"#DejaVuSans-66\" x=\"177.099609\"/>\n       <use xlink:href=\"#DejaVuSans-69\" x=\"212.304688\"/>\n       <use xlink:href=\"#DejaVuSans-72\" x=\"240.087891\"/>\n       <use xlink:href=\"#DejaVuSans-73\" x=\"281.201172\"/>\n       <use xlink:href=\"#DejaVuSans-74\" x=\"333.300781\"/>\n       <use xlink:href=\"#DejaVuSans-62\" x=\"372.509766\"/>\n       <use xlink:href=\"#DejaVuSans-6c\" x=\"435.986328\"/>\n       <use xlink:href=\"#DejaVuSans-6f\" x=\"463.769531\"/>\n       <use xlink:href=\"#DejaVuSans-6f\" x=\"524.951172\"/>\n       <use xlink:href=\"#DejaVuSans-64\" x=\"586.132812\"/>\n       <use xlink:href=\"#DejaVuSans-5f\" x=\"649.609375\"/>\n       <use xlink:href=\"#DejaVuSans-63\" x=\"699.609375\"/>\n       <use xlink:href=\"#DejaVuSans-6c\" x=\"754.589844\"/>\n       <use xlink:href=\"#DejaVuSans-61\" x=\"782.373047\"/>\n       <use xlink:href=\"#DejaVuSans-69\" x=\"843.652344\"/>\n       <use xlink:href=\"#DejaVuSans-6d\" x=\"871.435547\"/>\n       <use xlink:href=\"#DejaVuSans-65\" x=\"968.847656\"/>\n       <use xlink:href=\"#DejaVuSans-64\" x=\"1030.371094\"/>\n      </g>\n     </g>\n    </g>\n    <g id=\"ytick_173\">\n     <g id=\"line2d_181\">\n      <g>\n       <use xlink:href=\"#ma135784799\" x=\"148.951562\" y=\"334.592411\" style=\"stroke: #000000; stroke-width: 0.8\"/>\n      </g>\n     </g>\n     <g id=\"text_181\">\n      <!-- game_time -->\n      <g transform=\"translate(85.989062 338.391629) scale(0.1 -0.1)\">\n       <use xlink:href=\"#DejaVuSans-67\"/>\n       <use xlink:href=\"#DejaVuSans-61\" x=\"63.476562\"/>\n       <use xlink:href=\"#DejaVuSans-6d\" x=\"124.755859\"/>\n       <use xlink:href=\"#DejaVuSans-65\" x=\"222.167969\"/>\n       <use xlink:href=\"#DejaVuSans-5f\" x=\"283.691406\"/>\n       <use xlink:href=\"#DejaVuSans-74\" x=\"333.691406\"/>\n       <use xlink:href=\"#DejaVuSans-69\" x=\"372.900391\"/>\n       <use xlink:href=\"#DejaVuSans-6d\" x=\"400.683594\"/>\n       <use xlink:href=\"#DejaVuSans-65\" x=\"498.095703\"/>\n      </g>\n     </g>\n    </g>\n    <g id=\"ytick_174\">\n     <g id=\"line2d_182\">\n      <g>\n       <use xlink:href=\"#ma135784799\" x=\"148.951562\" y=\"336.402696\" style=\"stroke: #000000; stroke-width: 0.8\"/>\n      </g>\n     </g>\n     <g id=\"text_182\">\n      <!-- d5_firstblood_claimed -->\n      <g transform=\"translate(32.564062 340.201915) scale(0.1 -0.1)\">\n       <use xlink:href=\"#DejaVuSans-64\"/>\n       <use xlink:href=\"#DejaVuSans-35\" x=\"63.476562\"/>\n       <use xlink:href=\"#DejaVuSans-5f\" x=\"127.099609\"/>\n       <use xlink:href=\"#DejaVuSans-66\" x=\"177.099609\"/>\n       <use xlink:href=\"#DejaVuSans-69\" x=\"212.304688\"/>\n       <use xlink:href=\"#DejaVuSans-72\" x=\"240.087891\"/>\n       <use xlink:href=\"#DejaVuSans-73\" x=\"281.201172\"/>\n       <use xlink:href=\"#DejaVuSans-74\" x=\"333.300781\"/>\n       <use xlink:href=\"#DejaVuSans-62\" x=\"372.509766\"/>\n       <use xlink:href=\"#DejaVuSans-6c\" x=\"435.986328\"/>\n       <use xlink:href=\"#DejaVuSans-6f\" x=\"463.769531\"/>\n       <use xlink:href=\"#DejaVuSans-6f\" x=\"524.951172\"/>\n       <use xlink:href=\"#DejaVuSans-64\" x=\"586.132812\"/>\n       <use xlink:href=\"#DejaVuSans-5f\" x=\"649.609375\"/>\n       <use xlink:href=\"#DejaVuSans-63\" x=\"699.609375\"/>\n       <use xlink:href=\"#DejaVuSans-6c\" x=\"754.589844\"/>\n       <use xlink:href=\"#DejaVuSans-61\" x=\"782.373047\"/>\n       <use xlink:href=\"#DejaVuSans-69\" x=\"843.652344\"/>\n       <use xlink:href=\"#DejaVuSans-6d\" x=\"871.435547\"/>\n       <use xlink:href=\"#DejaVuSans-65\" x=\"968.847656\"/>\n       <use xlink:href=\"#DejaVuSans-64\" x=\"1030.371094\"/>\n      </g>\n     </g>\n    </g>\n    <g id=\"ytick_175\">\n     <g id=\"line2d_183\">\n      <g>\n       <use xlink:href=\"#ma135784799\" x=\"148.951562\" y=\"338.212982\" style=\"stroke: #000000; stroke-width: 0.8\"/>\n      </g>\n     </g>\n     <g id=\"text_183\">\n      <!-- d4_firstblood_claimed -->\n      <g transform=\"translate(32.564062 342.012201) scale(0.1 -0.1)\">\n       <use xlink:href=\"#DejaVuSans-64\"/>\n       <use xlink:href=\"#DejaVuSans-34\" x=\"63.476562\"/>\n       <use xlink:href=\"#DejaVuSans-5f\" x=\"127.099609\"/>\n       <use xlink:href=\"#DejaVuSans-66\" x=\"177.099609\"/>\n       <use xlink:href=\"#DejaVuSans-69\" x=\"212.304688\"/>\n       <use xlink:href=\"#DejaVuSans-72\" x=\"240.087891\"/>\n       <use xlink:href=\"#DejaVuSans-73\" x=\"281.201172\"/>\n       <use xlink:href=\"#DejaVuSans-74\" x=\"333.300781\"/>\n       <use xlink:href=\"#DejaVuSans-62\" x=\"372.509766\"/>\n       <use xlink:href=\"#DejaVuSans-6c\" x=\"435.986328\"/>\n       <use xlink:href=\"#DejaVuSans-6f\" x=\"463.769531\"/>\n       <use xlink:href=\"#DejaVuSans-6f\" x=\"524.951172\"/>\n       <use xlink:href=\"#DejaVuSans-64\" x=\"586.132812\"/>\n       <use xlink:href=\"#DejaVuSans-5f\" x=\"649.609375\"/>\n       <use xlink:href=\"#DejaVuSans-63\" x=\"699.609375\"/>\n       <use xlink:href=\"#DejaVuSans-6c\" x=\"754.589844\"/>\n       <use xlink:href=\"#DejaVuSans-61\" x=\"782.373047\"/>\n       <use xlink:href=\"#DejaVuSans-69\" x=\"843.652344\"/>\n       <use xlink:href=\"#DejaVuSans-6d\" x=\"871.435547\"/>\n       <use xlink:href=\"#DejaVuSans-65\" x=\"968.847656\"/>\n       <use xlink:href=\"#DejaVuSans-64\" x=\"1030.371094\"/>\n      </g>\n     </g>\n    </g>\n    <g id=\"ytick_176\">\n     <g id=\"line2d_184\">\n      <g>\n       <use xlink:href=\"#ma135784799\" x=\"148.951562\" y=\"340.023268\" style=\"stroke: #000000; stroke-width: 0.8\"/>\n      </g>\n     </g>\n     <g id=\"text_184\">\n      <!-- d5_denies -->\n      <g transform=\"translate(91.260937 343.822487) scale(0.1 -0.1)\">\n       <use xlink:href=\"#DejaVuSans-64\"/>\n       <use xlink:href=\"#DejaVuSans-35\" x=\"63.476562\"/>\n       <use xlink:href=\"#DejaVuSans-5f\" x=\"127.099609\"/>\n       <use xlink:href=\"#DejaVuSans-64\" x=\"177.099609\"/>\n       <use xlink:href=\"#DejaVuSans-65\" x=\"240.576172\"/>\n       <use xlink:href=\"#DejaVuSans-6e\" x=\"302.099609\"/>\n       <use xlink:href=\"#DejaVuSans-69\" x=\"365.478516\"/>\n       <use xlink:href=\"#DejaVuSans-65\" x=\"393.261719\"/>\n       <use xlink:href=\"#DejaVuSans-73\" x=\"454.785156\"/>\n      </g>\n     </g>\n    </g>\n    <g id=\"ytick_177\">\n     <g id=\"line2d_185\">\n      <g>\n       <use xlink:href=\"#ma135784799\" x=\"148.951562\" y=\"341.833554\" style=\"stroke: #000000; stroke-width: 0.8\"/>\n      </g>\n     </g>\n     <g id=\"text_185\">\n      <!-- d1_roshans_killed -->\n      <g transform=\"translate(53.3875 345.632772) scale(0.1 -0.1)\">\n       <use xlink:href=\"#DejaVuSans-64\"/>\n       <use xlink:href=\"#DejaVuSans-31\" x=\"63.476562\"/>\n       <use xlink:href=\"#DejaVuSans-5f\" x=\"127.099609\"/>\n       <use xlink:href=\"#DejaVuSans-72\" x=\"177.099609\"/>\n       <use xlink:href=\"#DejaVuSans-6f\" x=\"215.962891\"/>\n       <use xlink:href=\"#DejaVuSans-73\" x=\"277.144531\"/>\n       <use xlink:href=\"#DejaVuSans-68\" x=\"329.244141\"/>\n       <use xlink:href=\"#DejaVuSans-61\" x=\"392.623047\"/>\n       <use xlink:href=\"#DejaVuSans-6e\" x=\"453.902344\"/>\n       <use xlink:href=\"#DejaVuSans-73\" x=\"517.28125\"/>\n       <use xlink:href=\"#DejaVuSans-5f\" x=\"569.380859\"/>\n       <use xlink:href=\"#DejaVuSans-6b\" x=\"619.380859\"/>\n       <use xlink:href=\"#DejaVuSans-69\" x=\"677.291016\"/>\n       <use xlink:href=\"#DejaVuSans-6c\" x=\"705.074219\"/>\n       <use xlink:href=\"#DejaVuSans-6c\" x=\"732.857422\"/>\n       <use xlink:href=\"#DejaVuSans-65\" x=\"760.640625\"/>\n       <use xlink:href=\"#DejaVuSans-64\" x=\"822.164062\"/>\n      </g>\n     </g>\n    </g>\n    <g id=\"ytick_178\">\n     <g id=\"line2d_186\">\n      <g>\n       <use xlink:href=\"#ma135784799\" x=\"148.951562\" y=\"343.643839\" style=\"stroke: #000000; stroke-width: 0.8\"/>\n      </g>\n     </g>\n     <g id=\"text_186\">\n      <!-- d4_roshans_killed -->\n      <g transform=\"translate(53.3875 347.443058) scale(0.1 -0.1)\">\n       <use xlink:href=\"#DejaVuSans-64\"/>\n       <use xlink:href=\"#DejaVuSans-34\" x=\"63.476562\"/>\n       <use xlink:href=\"#DejaVuSans-5f\" x=\"127.099609\"/>\n       <use xlink:href=\"#DejaVuSans-72\" x=\"177.099609\"/>\n       <use xlink:href=\"#DejaVuSans-6f\" x=\"215.962891\"/>\n       <use xlink:href=\"#DejaVuSans-73\" x=\"277.144531\"/>\n       <use xlink:href=\"#DejaVuSans-68\" x=\"329.244141\"/>\n       <use xlink:href=\"#DejaVuSans-61\" x=\"392.623047\"/>\n       <use xlink:href=\"#DejaVuSans-6e\" x=\"453.902344\"/>\n       <use xlink:href=\"#DejaVuSans-73\" x=\"517.28125\"/>\n       <use xlink:href=\"#DejaVuSans-5f\" x=\"569.380859\"/>\n       <use xlink:href=\"#DejaVuSans-6b\" x=\"619.380859\"/>\n       <use xlink:href=\"#DejaVuSans-69\" x=\"677.291016\"/>\n       <use xlink:href=\"#DejaVuSans-6c\" x=\"705.074219\"/>\n       <use xlink:href=\"#DejaVuSans-6c\" x=\"732.857422\"/>\n       <use xlink:href=\"#DejaVuSans-65\" x=\"760.640625\"/>\n       <use xlink:href=\"#DejaVuSans-64\" x=\"822.164062\"/>\n      </g>\n     </g>\n    </g>\n    <g id=\"ytick_179\">\n     <g id=\"line2d_187\">\n      <g>\n       <use xlink:href=\"#ma135784799\" x=\"148.951562\" y=\"345.454125\" style=\"stroke: #000000; stroke-width: 0.8\"/>\n      </g>\n     </g>\n     <g id=\"text_187\">\n      <!-- d3_roshans_killed -->\n      <g transform=\"translate(53.3875 349.253344) scale(0.1 -0.1)\">\n       <use xlink:href=\"#DejaVuSans-64\"/>\n       <use xlink:href=\"#DejaVuSans-33\" x=\"63.476562\"/>\n       <use xlink:href=\"#DejaVuSans-5f\" x=\"127.099609\"/>\n       <use xlink:href=\"#DejaVuSans-72\" x=\"177.099609\"/>\n       <use xlink:href=\"#DejaVuSans-6f\" x=\"215.962891\"/>\n       <use xlink:href=\"#DejaVuSans-73\" x=\"277.144531\"/>\n       <use xlink:href=\"#DejaVuSans-68\" x=\"329.244141\"/>\n       <use xlink:href=\"#DejaVuSans-61\" x=\"392.623047\"/>\n       <use xlink:href=\"#DejaVuSans-6e\" x=\"453.902344\"/>\n       <use xlink:href=\"#DejaVuSans-73\" x=\"517.28125\"/>\n       <use xlink:href=\"#DejaVuSans-5f\" x=\"569.380859\"/>\n       <use xlink:href=\"#DejaVuSans-6b\" x=\"619.380859\"/>\n       <use xlink:href=\"#DejaVuSans-69\" x=\"677.291016\"/>\n       <use xlink:href=\"#DejaVuSans-6c\" x=\"705.074219\"/>\n       <use xlink:href=\"#DejaVuSans-6c\" x=\"732.857422\"/>\n       <use xlink:href=\"#DejaVuSans-65\" x=\"760.640625\"/>\n       <use xlink:href=\"#DejaVuSans-64\" x=\"822.164062\"/>\n      </g>\n     </g>\n    </g>\n    <g id=\"ytick_180\">\n     <g id=\"line2d_188\">\n      <g>\n       <use xlink:href=\"#ma135784799\" x=\"148.951562\" y=\"347.264411\" style=\"stroke: #000000; stroke-width: 0.8\"/>\n      </g>\n     </g>\n     <g id=\"text_188\">\n      <!-- d2_lh -->\n      <g transform=\"translate(115.125 351.063629) scale(0.1 -0.1)\">\n       <use xlink:href=\"#DejaVuSans-64\"/>\n       <use xlink:href=\"#DejaVuSans-32\" x=\"63.476562\"/>\n       <use xlink:href=\"#DejaVuSans-5f\" x=\"127.099609\"/>\n       <use xlink:href=\"#DejaVuSans-6c\" x=\"177.099609\"/>\n       <use xlink:href=\"#DejaVuSans-68\" x=\"204.882812\"/>\n      </g>\n     </g>\n    </g>\n    <g id=\"ytick_181\">\n     <g id=\"line2d_189\">\n      <g>\n       <use xlink:href=\"#ma135784799\" x=\"148.951562\" y=\"349.074696\" style=\"stroke: #000000; stroke-width: 0.8\"/>\n      </g>\n     </g>\n     <g id=\"text_189\">\n      <!-- d3_lh -->\n      <g transform=\"translate(115.125 352.873915) scale(0.1 -0.1)\">\n       <use xlink:href=\"#DejaVuSans-64\"/>\n       <use xlink:href=\"#DejaVuSans-33\" x=\"63.476562\"/>\n       <use xlink:href=\"#DejaVuSans-5f\" x=\"127.099609\"/>\n       <use xlink:href=\"#DejaVuSans-6c\" x=\"177.099609\"/>\n       <use xlink:href=\"#DejaVuSans-68\" x=\"204.882812\"/>\n      </g>\n     </g>\n    </g>\n    <g id=\"ytick_182\">\n     <g id=\"line2d_190\">\n      <g>\n       <use xlink:href=\"#ma135784799\" x=\"148.951562\" y=\"350.884982\" style=\"stroke: #000000; stroke-width: 0.8\"/>\n      </g>\n     </g>\n     <g id=\"text_190\">\n      <!-- d5_roshans_killed -->\n      <g transform=\"translate(53.3875 354.684201) scale(0.1 -0.1)\">\n       <use xlink:href=\"#DejaVuSans-64\"/>\n       <use xlink:href=\"#DejaVuSans-35\" x=\"63.476562\"/>\n       <use xlink:href=\"#DejaVuSans-5f\" x=\"127.099609\"/>\n       <use xlink:href=\"#DejaVuSans-72\" x=\"177.099609\"/>\n       <use xlink:href=\"#DejaVuSans-6f\" x=\"215.962891\"/>\n       <use xlink:href=\"#DejaVuSans-73\" x=\"277.144531\"/>\n       <use xlink:href=\"#DejaVuSans-68\" x=\"329.244141\"/>\n       <use xlink:href=\"#DejaVuSans-61\" x=\"392.623047\"/>\n       <use xlink:href=\"#DejaVuSans-6e\" x=\"453.902344\"/>\n       <use xlink:href=\"#DejaVuSans-73\" x=\"517.28125\"/>\n       <use xlink:href=\"#DejaVuSans-5f\" x=\"569.380859\"/>\n       <use xlink:href=\"#DejaVuSans-6b\" x=\"619.380859\"/>\n       <use xlink:href=\"#DejaVuSans-69\" x=\"677.291016\"/>\n       <use xlink:href=\"#DejaVuSans-6c\" x=\"705.074219\"/>\n       <use xlink:href=\"#DejaVuSans-6c\" x=\"732.857422\"/>\n       <use xlink:href=\"#DejaVuSans-65\" x=\"760.640625\"/>\n       <use xlink:href=\"#DejaVuSans-64\" x=\"822.164062\"/>\n      </g>\n     </g>\n    </g>\n    <g id=\"ytick_183\">\n     <g id=\"line2d_191\">\n      <g>\n       <use xlink:href=\"#ma135784799\" x=\"148.951562\" y=\"352.695268\" style=\"stroke: #000000; stroke-width: 0.8\"/>\n      </g>\n     </g>\n     <g id=\"text_191\">\n      <!-- d2_roshans_killed -->\n      <g transform=\"translate(53.3875 356.494487) scale(0.1 -0.1)\">\n       <use xlink:href=\"#DejaVuSans-64\"/>\n       <use xlink:href=\"#DejaVuSans-32\" x=\"63.476562\"/>\n       <use xlink:href=\"#DejaVuSans-5f\" x=\"127.099609\"/>\n       <use xlink:href=\"#DejaVuSans-72\" x=\"177.099609\"/>\n       <use xlink:href=\"#DejaVuSans-6f\" x=\"215.962891\"/>\n       <use xlink:href=\"#DejaVuSans-73\" x=\"277.144531\"/>\n       <use xlink:href=\"#DejaVuSans-68\" x=\"329.244141\"/>\n       <use xlink:href=\"#DejaVuSans-61\" x=\"392.623047\"/>\n       <use xlink:href=\"#DejaVuSans-6e\" x=\"453.902344\"/>\n       <use xlink:href=\"#DejaVuSans-73\" x=\"517.28125\"/>\n       <use xlink:href=\"#DejaVuSans-5f\" x=\"569.380859\"/>\n       <use xlink:href=\"#DejaVuSans-6b\" x=\"619.380859\"/>\n       <use xlink:href=\"#DejaVuSans-69\" x=\"677.291016\"/>\n       <use xlink:href=\"#DejaVuSans-6c\" x=\"705.074219\"/>\n       <use xlink:href=\"#DejaVuSans-6c\" x=\"732.857422\"/>\n       <use xlink:href=\"#DejaVuSans-65\" x=\"760.640625\"/>\n       <use xlink:href=\"#DejaVuSans-64\" x=\"822.164062\"/>\n      </g>\n     </g>\n    </g>\n    <g id=\"ytick_184\">\n     <g id=\"line2d_192\">\n      <g>\n       <use xlink:href=\"#ma135784799\" x=\"148.951562\" y=\"354.505554\" style=\"stroke: #000000; stroke-width: 0.8\"/>\n      </g>\n     </g>\n     <g id=\"text_192\">\n      <!-- d4_denies -->\n      <g transform=\"translate(91.260937 358.304772) scale(0.1 -0.1)\">\n       <use xlink:href=\"#DejaVuSans-64\"/>\n       <use xlink:href=\"#DejaVuSans-34\" x=\"63.476562\"/>\n       <use xlink:href=\"#DejaVuSans-5f\" x=\"127.099609\"/>\n       <use xlink:href=\"#DejaVuSans-64\" x=\"177.099609\"/>\n       <use xlink:href=\"#DejaVuSans-65\" x=\"240.576172\"/>\n       <use xlink:href=\"#DejaVuSans-6e\" x=\"302.099609\"/>\n       <use xlink:href=\"#DejaVuSans-69\" x=\"365.478516\"/>\n       <use xlink:href=\"#DejaVuSans-65\" x=\"393.261719\"/>\n       <use xlink:href=\"#DejaVuSans-73\" x=\"454.785156\"/>\n      </g>\n     </g>\n    </g>\n    <g id=\"ytick_185\">\n     <g id=\"line2d_193\">\n      <g>\n       <use xlink:href=\"#ma135784799\" x=\"148.951562\" y=\"356.315839\" style=\"stroke: #000000; stroke-width: 0.8\"/>\n      </g>\n     </g>\n     <g id=\"text_193\">\n      <!-- d2_denies -->\n      <g transform=\"translate(91.260937 360.115058) scale(0.1 -0.1)\">\n       <use xlink:href=\"#DejaVuSans-64\"/>\n       <use xlink:href=\"#DejaVuSans-32\" x=\"63.476562\"/>\n       <use xlink:href=\"#DejaVuSans-5f\" x=\"127.099609\"/>\n       <use xlink:href=\"#DejaVuSans-64\" x=\"177.099609\"/>\n       <use xlink:href=\"#DejaVuSans-65\" x=\"240.576172\"/>\n       <use xlink:href=\"#DejaVuSans-6e\" x=\"302.099609\"/>\n       <use xlink:href=\"#DejaVuSans-69\" x=\"365.478516\"/>\n       <use xlink:href=\"#DejaVuSans-65\" x=\"393.261719\"/>\n       <use xlink:href=\"#DejaVuSans-73\" x=\"454.785156\"/>\n      </g>\n     </g>\n    </g>\n    <g id=\"ytick_186\">\n     <g id=\"line2d_194\">\n      <g>\n       <use xlink:href=\"#ma135784799\" x=\"148.951562\" y=\"358.126125\" style=\"stroke: #000000; stroke-width: 0.8\"/>\n      </g>\n     </g>\n     <g id=\"text_194\">\n      <!-- d3_denies -->\n      <g transform=\"translate(91.260937 361.925344) scale(0.1 -0.1)\">\n       <use xlink:href=\"#DejaVuSans-64\"/>\n       <use xlink:href=\"#DejaVuSans-33\" x=\"63.476562\"/>\n       <use xlink:href=\"#DejaVuSans-5f\" x=\"127.099609\"/>\n       <use xlink:href=\"#DejaVuSans-64\" x=\"177.099609\"/>\n       <use xlink:href=\"#DejaVuSans-65\" x=\"240.576172\"/>\n       <use xlink:href=\"#DejaVuSans-6e\" x=\"302.099609\"/>\n       <use xlink:href=\"#DejaVuSans-69\" x=\"365.478516\"/>\n       <use xlink:href=\"#DejaVuSans-65\" x=\"393.261719\"/>\n       <use xlink:href=\"#DejaVuSans-73\" x=\"454.785156\"/>\n      </g>\n     </g>\n    </g>\n    <g id=\"ytick_187\">\n     <g id=\"line2d_195\">\n      <g>\n       <use xlink:href=\"#ma135784799\" x=\"148.951562\" y=\"359.936411\" style=\"stroke: #000000; stroke-width: 0.8\"/>\n      </g>\n     </g>\n     <g id=\"text_195\">\n      <!-- d5_lh -->\n      <g transform=\"translate(115.125 363.735629) scale(0.1 -0.1)\">\n       <use xlink:href=\"#DejaVuSans-64\"/>\n       <use xlink:href=\"#DejaVuSans-35\" x=\"63.476562\"/>\n       <use xlink:href=\"#DejaVuSans-5f\" x=\"127.099609\"/>\n       <use xlink:href=\"#DejaVuSans-6c\" x=\"177.099609\"/>\n       <use xlink:href=\"#DejaVuSans-68\" x=\"204.882812\"/>\n      </g>\n     </g>\n    </g>\n    <g id=\"ytick_188\">\n     <g id=\"line2d_196\">\n      <g>\n       <use xlink:href=\"#ma135784799\" x=\"148.951562\" y=\"361.746696\" style=\"stroke: #000000; stroke-width: 0.8\"/>\n      </g>\n     </g>\n     <g id=\"text_196\">\n      <!-- d4_lh -->\n      <g transform=\"translate(115.125 365.545915) scale(0.1 -0.1)\">\n       <use xlink:href=\"#DejaVuSans-64\"/>\n       <use xlink:href=\"#DejaVuSans-34\" x=\"63.476562\"/>\n       <use xlink:href=\"#DejaVuSans-5f\" x=\"127.099609\"/>\n       <use xlink:href=\"#DejaVuSans-6c\" x=\"177.099609\"/>\n       <use xlink:href=\"#DejaVuSans-68\" x=\"204.882812\"/>\n      </g>\n     </g>\n    </g>\n    <g id=\"ytick_189\">\n     <g id=\"line2d_197\">\n      <g>\n       <use xlink:href=\"#ma135784799\" x=\"148.951562\" y=\"363.556982\" style=\"stroke: #000000; stroke-width: 0.8\"/>\n      </g>\n     </g>\n     <g id=\"text_197\">\n      <!-- d1_denies -->\n      <g transform=\"translate(91.260937 367.356201) scale(0.1 -0.1)\">\n       <use xlink:href=\"#DejaVuSans-64\"/>\n       <use xlink:href=\"#DejaVuSans-31\" x=\"63.476562\"/>\n       <use xlink:href=\"#DejaVuSans-5f\" x=\"127.099609\"/>\n       <use xlink:href=\"#DejaVuSans-64\" x=\"177.099609\"/>\n       <use xlink:href=\"#DejaVuSans-65\" x=\"240.576172\"/>\n       <use xlink:href=\"#DejaVuSans-6e\" x=\"302.099609\"/>\n       <use xlink:href=\"#DejaVuSans-69\" x=\"365.478516\"/>\n       <use xlink:href=\"#DejaVuSans-65\" x=\"393.261719\"/>\n       <use xlink:href=\"#DejaVuSans-73\" x=\"454.785156\"/>\n      </g>\n     </g>\n    </g>\n    <g id=\"ytick_190\">\n     <g id=\"line2d_198\">\n      <g>\n       <use xlink:href=\"#ma135784799\" x=\"148.951562\" y=\"365.367268\" style=\"stroke: #000000; stroke-width: 0.8\"/>\n      </g>\n     </g>\n     <g id=\"text_198\">\n      <!-- d1_lh -->\n      <g transform=\"translate(115.125 369.166487) scale(0.1 -0.1)\">\n       <use xlink:href=\"#DejaVuSans-64\"/>\n       <use xlink:href=\"#DejaVuSans-31\" x=\"63.476562\"/>\n       <use xlink:href=\"#DejaVuSans-5f\" x=\"127.099609\"/>\n       <use xlink:href=\"#DejaVuSans-6c\" x=\"177.099609\"/>\n       <use xlink:href=\"#DejaVuSans-68\" x=\"204.882812\"/>\n      </g>\n     </g>\n    </g>\n    <g id=\"ytick_191\">\n     <g id=\"line2d_199\">\n      <g>\n       <use xlink:href=\"#ma135784799\" x=\"148.951562\" y=\"367.177554\" style=\"stroke: #000000; stroke-width: 0.8\"/>\n      </g>\n     </g>\n     <g id=\"text_199\">\n      <!-- d1_max_mana -->\n      <g transform=\"translate(69.11875 370.976772) scale(0.1 -0.1)\">\n       <use xlink:href=\"#DejaVuSans-64\"/>\n       <use xlink:href=\"#DejaVuSans-31\" x=\"63.476562\"/>\n       <use xlink:href=\"#DejaVuSans-5f\" x=\"127.099609\"/>\n       <use xlink:href=\"#DejaVuSans-6d\" x=\"177.099609\"/>\n       <use xlink:href=\"#DejaVuSans-61\" x=\"274.511719\"/>\n       <use xlink:href=\"#DejaVuSans-78\" x=\"335.791016\"/>\n       <use xlink:href=\"#DejaVuSans-5f\" x=\"394.970703\"/>\n       <use xlink:href=\"#DejaVuSans-6d\" x=\"444.970703\"/>\n       <use xlink:href=\"#DejaVuSans-61\" x=\"542.382812\"/>\n       <use xlink:href=\"#DejaVuSans-6e\" x=\"603.662109\"/>\n       <use xlink:href=\"#DejaVuSans-61\" x=\"667.041016\"/>\n      </g>\n     </g>\n    </g>\n    <g id=\"ytick_192\">\n     <g id=\"line2d_200\">\n      <g>\n       <use xlink:href=\"#ma135784799\" x=\"148.951562\" y=\"368.987839\" style=\"stroke: #000000; stroke-width: 0.8\"/>\n      </g>\n     </g>\n     <g id=\"text_200\">\n      <!-- d2_max_mana -->\n      <g transform=\"translate(69.11875 372.787058) scale(0.1 -0.1)\">\n       <use xlink:href=\"#DejaVuSans-64\"/>\n       <use xlink:href=\"#DejaVuSans-32\" x=\"63.476562\"/>\n       <use xlink:href=\"#DejaVuSans-5f\" x=\"127.099609\"/>\n       <use xlink:href=\"#DejaVuSans-6d\" x=\"177.099609\"/>\n       <use xlink:href=\"#DejaVuSans-61\" x=\"274.511719\"/>\n       <use xlink:href=\"#DejaVuSans-78\" x=\"335.791016\"/>\n       <use xlink:href=\"#DejaVuSans-5f\" x=\"394.970703\"/>\n       <use xlink:href=\"#DejaVuSans-6d\" x=\"444.970703\"/>\n       <use xlink:href=\"#DejaVuSans-61\" x=\"542.382812\"/>\n       <use xlink:href=\"#DejaVuSans-6e\" x=\"603.662109\"/>\n       <use xlink:href=\"#DejaVuSans-61\" x=\"667.041016\"/>\n      </g>\n     </g>\n    </g>\n    <g id=\"ytick_193\">\n     <g id=\"line2d_201\">\n      <g>\n       <use xlink:href=\"#ma135784799\" x=\"148.951562\" y=\"370.798125\" style=\"stroke: #000000; stroke-width: 0.8\"/>\n      </g>\n     </g>\n     <g id=\"text_201\">\n      <!-- d5_max_mana -->\n      <g transform=\"translate(69.11875 374.597344) scale(0.1 -0.1)\">\n       <use xlink:href=\"#DejaVuSans-64\"/>\n       <use xlink:href=\"#DejaVuSans-35\" x=\"63.476562\"/>\n       <use xlink:href=\"#DejaVuSans-5f\" x=\"127.099609\"/>\n       <use xlink:href=\"#DejaVuSans-6d\" x=\"177.099609\"/>\n       <use xlink:href=\"#DejaVuSans-61\" x=\"274.511719\"/>\n       <use xlink:href=\"#DejaVuSans-78\" x=\"335.791016\"/>\n       <use xlink:href=\"#DejaVuSans-5f\" x=\"394.970703\"/>\n       <use xlink:href=\"#DejaVuSans-6d\" x=\"444.970703\"/>\n       <use xlink:href=\"#DejaVuSans-61\" x=\"542.382812\"/>\n       <use xlink:href=\"#DejaVuSans-6e\" x=\"603.662109\"/>\n       <use xlink:href=\"#DejaVuSans-61\" x=\"667.041016\"/>\n      </g>\n     </g>\n    </g>\n    <g id=\"ytick_194\">\n     <g id=\"line2d_202\">\n      <g>\n       <use xlink:href=\"#ma135784799\" x=\"148.951562\" y=\"372.608411\" style=\"stroke: #000000; stroke-width: 0.8\"/>\n      </g>\n     </g>\n     <g id=\"text_202\">\n      <!-- d4_max_mana -->\n      <g transform=\"translate(69.11875 376.407629) scale(0.1 -0.1)\">\n       <use xlink:href=\"#DejaVuSans-64\"/>\n       <use xlink:href=\"#DejaVuSans-34\" x=\"63.476562\"/>\n       <use xlink:href=\"#DejaVuSans-5f\" x=\"127.099609\"/>\n       <use xlink:href=\"#DejaVuSans-6d\" x=\"177.099609\"/>\n       <use xlink:href=\"#DejaVuSans-61\" x=\"274.511719\"/>\n       <use xlink:href=\"#DejaVuSans-78\" x=\"335.791016\"/>\n       <use xlink:href=\"#DejaVuSans-5f\" x=\"394.970703\"/>\n       <use xlink:href=\"#DejaVuSans-6d\" x=\"444.970703\"/>\n       <use xlink:href=\"#DejaVuSans-61\" x=\"542.382812\"/>\n       <use xlink:href=\"#DejaVuSans-6e\" x=\"603.662109\"/>\n       <use xlink:href=\"#DejaVuSans-61\" x=\"667.041016\"/>\n      </g>\n     </g>\n    </g>\n    <g id=\"ytick_195\">\n     <g id=\"line2d_203\">\n      <g>\n       <use xlink:href=\"#ma135784799\" x=\"148.951562\" y=\"374.418696\" style=\"stroke: #000000; stroke-width: 0.8\"/>\n      </g>\n     </g>\n     <g id=\"text_203\">\n      <!-- d3_max_mana -->\n      <g transform=\"translate(69.11875 378.217915) scale(0.1 -0.1)\">\n       <use xlink:href=\"#DejaVuSans-64\"/>\n       <use xlink:href=\"#DejaVuSans-33\" x=\"63.476562\"/>\n       <use xlink:href=\"#DejaVuSans-5f\" x=\"127.099609\"/>\n       <use xlink:href=\"#DejaVuSans-6d\" x=\"177.099609\"/>\n       <use xlink:href=\"#DejaVuSans-61\" x=\"274.511719\"/>\n       <use xlink:href=\"#DejaVuSans-78\" x=\"335.791016\"/>\n       <use xlink:href=\"#DejaVuSans-5f\" x=\"394.970703\"/>\n       <use xlink:href=\"#DejaVuSans-6d\" x=\"444.970703\"/>\n       <use xlink:href=\"#DejaVuSans-61\" x=\"542.382812\"/>\n       <use xlink:href=\"#DejaVuSans-6e\" x=\"603.662109\"/>\n       <use xlink:href=\"#DejaVuSans-61\" x=\"667.041016\"/>\n      </g>\n     </g>\n    </g>\n    <g id=\"ytick_196\">\n     <g id=\"line2d_204\">\n      <g>\n       <use xlink:href=\"#ma135784799\" x=\"148.951562\" y=\"376.228982\" style=\"stroke: #000000; stroke-width: 0.8\"/>\n      </g>\n     </g>\n     <g id=\"text_204\">\n      <!-- d2_level -->\n      <g transform=\"translate(100.459375 380.028201) scale(0.1 -0.1)\">\n       <use xlink:href=\"#DejaVuSans-64\"/>\n       <use xlink:href=\"#DejaVuSans-32\" x=\"63.476562\"/>\n       <use xlink:href=\"#DejaVuSans-5f\" x=\"127.099609\"/>\n       <use xlink:href=\"#DejaVuSans-6c\" x=\"177.099609\"/>\n       <use xlink:href=\"#DejaVuSans-65\" x=\"204.882812\"/>\n       <use xlink:href=\"#DejaVuSans-76\" x=\"266.40625\"/>\n       <use xlink:href=\"#DejaVuSans-65\" x=\"325.585938\"/>\n       <use xlink:href=\"#DejaVuSans-6c\" x=\"387.109375\"/>\n      </g>\n     </g>\n    </g>\n    <g id=\"ytick_197\">\n     <g id=\"line2d_205\">\n      <g>\n       <use xlink:href=\"#ma135784799\" x=\"148.951562\" y=\"378.039268\" style=\"stroke: #000000; stroke-width: 0.8\"/>\n      </g>\n     </g>\n     <g id=\"text_205\">\n      <!-- d1_max_health -->\n      <g transform=\"translate(65.798437 381.838487) scale(0.1 -0.1)\">\n       <use xlink:href=\"#DejaVuSans-64\"/>\n       <use xlink:href=\"#DejaVuSans-31\" x=\"63.476562\"/>\n       <use xlink:href=\"#DejaVuSans-5f\" x=\"127.099609\"/>\n       <use xlink:href=\"#DejaVuSans-6d\" x=\"177.099609\"/>\n       <use xlink:href=\"#DejaVuSans-61\" x=\"274.511719\"/>\n       <use xlink:href=\"#DejaVuSans-78\" x=\"335.791016\"/>\n       <use xlink:href=\"#DejaVuSans-5f\" x=\"394.970703\"/>\n       <use xlink:href=\"#DejaVuSans-68\" x=\"444.970703\"/>\n       <use xlink:href=\"#DejaVuSans-65\" x=\"508.349609\"/>\n       <use xlink:href=\"#DejaVuSans-61\" x=\"569.873047\"/>\n       <use xlink:href=\"#DejaVuSans-6c\" x=\"631.152344\"/>\n       <use xlink:href=\"#DejaVuSans-74\" x=\"658.935547\"/>\n       <use xlink:href=\"#DejaVuSans-68\" x=\"698.144531\"/>\n      </g>\n     </g>\n    </g>\n    <g id=\"ytick_198\">\n     <g id=\"line2d_206\">\n      <g>\n       <use xlink:href=\"#ma135784799\" x=\"148.951562\" y=\"379.849554\" style=\"stroke: #000000; stroke-width: 0.8\"/>\n      </g>\n     </g>\n     <g id=\"text_206\">\n      <!-- d5_level -->\n      <g transform=\"translate(100.459375 383.648772) scale(0.1 -0.1)\">\n       <use xlink:href=\"#DejaVuSans-64\"/>\n       <use xlink:href=\"#DejaVuSans-35\" x=\"63.476562\"/>\n       <use xlink:href=\"#DejaVuSans-5f\" x=\"127.099609\"/>\n       <use xlink:href=\"#DejaVuSans-6c\" x=\"177.099609\"/>\n       <use xlink:href=\"#DejaVuSans-65\" x=\"204.882812\"/>\n       <use xlink:href=\"#DejaVuSans-76\" x=\"266.40625\"/>\n       <use xlink:href=\"#DejaVuSans-65\" x=\"325.585938\"/>\n       <use xlink:href=\"#DejaVuSans-6c\" x=\"387.109375\"/>\n      </g>\n     </g>\n    </g>\n    <g id=\"ytick_199\">\n     <g id=\"line2d_207\">\n      <g>\n       <use xlink:href=\"#ma135784799\" x=\"148.951562\" y=\"381.659839\" style=\"stroke: #000000; stroke-width: 0.8\"/>\n      </g>\n     </g>\n     <g id=\"text_207\">\n      <!-- d1_level -->\n      <g transform=\"translate(100.459375 385.459058) scale(0.1 -0.1)\">\n       <use xlink:href=\"#DejaVuSans-64\"/>\n       <use xlink:href=\"#DejaVuSans-31\" x=\"63.476562\"/>\n       <use xlink:href=\"#DejaVuSans-5f\" x=\"127.099609\"/>\n       <use xlink:href=\"#DejaVuSans-6c\" x=\"177.099609\"/>\n       <use xlink:href=\"#DejaVuSans-65\" x=\"204.882812\"/>\n       <use xlink:href=\"#DejaVuSans-76\" x=\"266.40625\"/>\n       <use xlink:href=\"#DejaVuSans-65\" x=\"325.585938\"/>\n       <use xlink:href=\"#DejaVuSans-6c\" x=\"387.109375\"/>\n      </g>\n     </g>\n    </g>\n    <g id=\"ytick_200\">\n     <g id=\"line2d_208\">\n      <g>\n       <use xlink:href=\"#ma135784799\" x=\"148.951562\" y=\"383.470125\" style=\"stroke: #000000; stroke-width: 0.8\"/>\n      </g>\n     </g>\n     <g id=\"text_208\">\n      <!-- d3_level -->\n      <g transform=\"translate(100.459375 387.269344) scale(0.1 -0.1)\">\n       <use xlink:href=\"#DejaVuSans-64\"/>\n       <use xlink:href=\"#DejaVuSans-33\" x=\"63.476562\"/>\n       <use xlink:href=\"#DejaVuSans-5f\" x=\"127.099609\"/>\n       <use xlink:href=\"#DejaVuSans-6c\" x=\"177.099609\"/>\n       <use xlink:href=\"#DejaVuSans-65\" x=\"204.882812\"/>\n       <use xlink:href=\"#DejaVuSans-76\" x=\"266.40625\"/>\n       <use xlink:href=\"#DejaVuSans-65\" x=\"325.585938\"/>\n       <use xlink:href=\"#DejaVuSans-6c\" x=\"387.109375\"/>\n      </g>\n     </g>\n    </g>\n    <g id=\"ytick_201\">\n     <g id=\"line2d_209\">\n      <g>\n       <use xlink:href=\"#ma135784799\" x=\"148.951562\" y=\"385.280411\" style=\"stroke: #000000; stroke-width: 0.8\"/>\n      </g>\n     </g>\n     <g id=\"text_209\">\n      <!-- d4_level -->\n      <g transform=\"translate(100.459375 389.079629) scale(0.1 -0.1)\">\n       <use xlink:href=\"#DejaVuSans-64\"/>\n       <use xlink:href=\"#DejaVuSans-34\" x=\"63.476562\"/>\n       <use xlink:href=\"#DejaVuSans-5f\" x=\"127.099609\"/>\n       <use xlink:href=\"#DejaVuSans-6c\" x=\"177.099609\"/>\n       <use xlink:href=\"#DejaVuSans-65\" x=\"204.882812\"/>\n       <use xlink:href=\"#DejaVuSans-76\" x=\"266.40625\"/>\n       <use xlink:href=\"#DejaVuSans-65\" x=\"325.585938\"/>\n       <use xlink:href=\"#DejaVuSans-6c\" x=\"387.109375\"/>\n      </g>\n     </g>\n    </g>\n    <g id=\"ytick_202\">\n     <g id=\"line2d_210\">\n      <g>\n       <use xlink:href=\"#ma135784799\" x=\"148.951562\" y=\"387.090696\" style=\"stroke: #000000; stroke-width: 0.8\"/>\n      </g>\n     </g>\n     <g id=\"text_210\">\n      <!-- d2_max_health -->\n      <g transform=\"translate(65.798437 390.889915) scale(0.1 -0.1)\">\n       <use xlink:href=\"#DejaVuSans-64\"/>\n       <use xlink:href=\"#DejaVuSans-32\" x=\"63.476562\"/>\n       <use xlink:href=\"#DejaVuSans-5f\" x=\"127.099609\"/>\n       <use xlink:href=\"#DejaVuSans-6d\" x=\"177.099609\"/>\n       <use xlink:href=\"#DejaVuSans-61\" x=\"274.511719\"/>\n       <use xlink:href=\"#DejaVuSans-78\" x=\"335.791016\"/>\n       <use xlink:href=\"#DejaVuSans-5f\" x=\"394.970703\"/>\n       <use xlink:href=\"#DejaVuSans-68\" x=\"444.970703\"/>\n       <use xlink:href=\"#DejaVuSans-65\" x=\"508.349609\"/>\n       <use xlink:href=\"#DejaVuSans-61\" x=\"569.873047\"/>\n       <use xlink:href=\"#DejaVuSans-6c\" x=\"631.152344\"/>\n       <use xlink:href=\"#DejaVuSans-74\" x=\"658.935547\"/>\n       <use xlink:href=\"#DejaVuSans-68\" x=\"698.144531\"/>\n      </g>\n     </g>\n    </g>\n    <g id=\"ytick_203\">\n     <g id=\"line2d_211\">\n      <g>\n       <use xlink:href=\"#ma135784799\" x=\"148.951562\" y=\"388.900982\" style=\"stroke: #000000; stroke-width: 0.8\"/>\n      </g>\n     </g>\n     <g id=\"text_211\">\n      <!-- d2_health -->\n      <g transform=\"translate(92.585938 392.700201) scale(0.1 -0.1)\">\n       <use xlink:href=\"#DejaVuSans-64\"/>\n       <use xlink:href=\"#DejaVuSans-32\" x=\"63.476562\"/>\n       <use xlink:href=\"#DejaVuSans-5f\" x=\"127.099609\"/>\n       <use xlink:href=\"#DejaVuSans-68\" x=\"177.099609\"/>\n       <use xlink:href=\"#DejaVuSans-65\" x=\"240.478516\"/>\n       <use xlink:href=\"#DejaVuSans-61\" x=\"302.001953\"/>\n       <use xlink:href=\"#DejaVuSans-6c\" x=\"363.28125\"/>\n       <use xlink:href=\"#DejaVuSans-74\" x=\"391.064453\"/>\n       <use xlink:href=\"#DejaVuSans-68\" x=\"430.273438\"/>\n      </g>\n     </g>\n    </g>\n    <g id=\"ytick_204\">\n     <g id=\"line2d_212\">\n      <g>\n       <use xlink:href=\"#ma135784799\" x=\"148.951562\" y=\"390.711268\" style=\"stroke: #000000; stroke-width: 0.8\"/>\n      </g>\n     </g>\n     <g id=\"text_212\">\n      <!-- d2_xp -->\n      <g transform=\"translate(111.973437 394.510487) scale(0.1 -0.1)\">\n       <use xlink:href=\"#DejaVuSans-64\"/>\n       <use xlink:href=\"#DejaVuSans-32\" x=\"63.476562\"/>\n       <use xlink:href=\"#DejaVuSans-5f\" x=\"127.099609\"/>\n       <use xlink:href=\"#DejaVuSans-78\" x=\"177.099609\"/>\n       <use xlink:href=\"#DejaVuSans-70\" x=\"236.279297\"/>\n      </g>\n     </g>\n    </g>\n    <g id=\"ytick_205\">\n     <g id=\"line2d_213\">\n      <g>\n       <use xlink:href=\"#ma135784799\" x=\"148.951562\" y=\"392.521554\" style=\"stroke: #000000; stroke-width: 0.8\"/>\n      </g>\n     </g>\n     <g id=\"text_213\">\n      <!-- d3_max_health -->\n      <g transform=\"translate(65.798437 396.320772) scale(0.1 -0.1)\">\n       <use xlink:href=\"#DejaVuSans-64\"/>\n       <use xlink:href=\"#DejaVuSans-33\" x=\"63.476562\"/>\n       <use xlink:href=\"#DejaVuSans-5f\" x=\"127.099609\"/>\n       <use xlink:href=\"#DejaVuSans-6d\" x=\"177.099609\"/>\n       <use xlink:href=\"#DejaVuSans-61\" x=\"274.511719\"/>\n       <use xlink:href=\"#DejaVuSans-78\" x=\"335.791016\"/>\n       <use xlink:href=\"#DejaVuSans-5f\" x=\"394.970703\"/>\n       <use xlink:href=\"#DejaVuSans-68\" x=\"444.970703\"/>\n       <use xlink:href=\"#DejaVuSans-65\" x=\"508.349609\"/>\n       <use xlink:href=\"#DejaVuSans-61\" x=\"569.873047\"/>\n       <use xlink:href=\"#DejaVuSans-6c\" x=\"631.152344\"/>\n       <use xlink:href=\"#DejaVuSans-74\" x=\"658.935547\"/>\n       <use xlink:href=\"#DejaVuSans-68\" x=\"698.144531\"/>\n      </g>\n     </g>\n    </g>\n    <g id=\"ytick_206\">\n     <g id=\"line2d_214\">\n      <g>\n       <use xlink:href=\"#ma135784799\" x=\"148.951562\" y=\"394.331839\" style=\"stroke: #000000; stroke-width: 0.8\"/>\n      </g>\n     </g>\n     <g id=\"text_214\">\n      <!-- d5_xp -->\n      <g transform=\"translate(111.973437 398.131058) scale(0.1 -0.1)\">\n       <use xlink:href=\"#DejaVuSans-64\"/>\n       <use xlink:href=\"#DejaVuSans-35\" x=\"63.476562\"/>\n       <use xlink:href=\"#DejaVuSans-5f\" x=\"127.099609\"/>\n       <use xlink:href=\"#DejaVuSans-78\" x=\"177.099609\"/>\n       <use xlink:href=\"#DejaVuSans-70\" x=\"236.279297\"/>\n      </g>\n     </g>\n    </g>\n    <g id=\"ytick_207\">\n     <g id=\"line2d_215\">\n      <g>\n       <use xlink:href=\"#ma135784799\" x=\"148.951562\" y=\"396.142125\" style=\"stroke: #000000; stroke-width: 0.8\"/>\n      </g>\n     </g>\n     <g id=\"text_215\">\n      <!-- d1_xp -->\n      <g transform=\"translate(111.973437 399.941344) scale(0.1 -0.1)\">\n       <use xlink:href=\"#DejaVuSans-64\"/>\n       <use xlink:href=\"#DejaVuSans-31\" x=\"63.476562\"/>\n       <use xlink:href=\"#DejaVuSans-5f\" x=\"127.099609\"/>\n       <use xlink:href=\"#DejaVuSans-78\" x=\"177.099609\"/>\n       <use xlink:href=\"#DejaVuSans-70\" x=\"236.279297\"/>\n      </g>\n     </g>\n    </g>\n    <g id=\"ytick_208\">\n     <g id=\"line2d_216\">\n      <g>\n       <use xlink:href=\"#ma135784799\" x=\"148.951562\" y=\"397.952411\" style=\"stroke: #000000; stroke-width: 0.8\"/>\n      </g>\n     </g>\n     <g id=\"text_216\">\n      <!-- d1_health -->\n      <g transform=\"translate(92.585938 401.751629) scale(0.1 -0.1)\">\n       <use xlink:href=\"#DejaVuSans-64\"/>\n       <use xlink:href=\"#DejaVuSans-31\" x=\"63.476562\"/>\n       <use xlink:href=\"#DejaVuSans-5f\" x=\"127.099609\"/>\n       <use xlink:href=\"#DejaVuSans-68\" x=\"177.099609\"/>\n       <use xlink:href=\"#DejaVuSans-65\" x=\"240.478516\"/>\n       <use xlink:href=\"#DejaVuSans-61\" x=\"302.001953\"/>\n       <use xlink:href=\"#DejaVuSans-6c\" x=\"363.28125\"/>\n       <use xlink:href=\"#DejaVuSans-74\" x=\"391.064453\"/>\n       <use xlink:href=\"#DejaVuSans-68\" x=\"430.273438\"/>\n      </g>\n     </g>\n    </g>\n    <g id=\"ytick_209\">\n     <g id=\"line2d_217\">\n      <g>\n       <use xlink:href=\"#ma135784799\" x=\"148.951562\" y=\"399.762696\" style=\"stroke: #000000; stroke-width: 0.8\"/>\n      </g>\n     </g>\n     <g id=\"text_217\">\n      <!-- d4_max_health -->\n      <g transform=\"translate(65.798437 403.561915) scale(0.1 -0.1)\">\n       <use xlink:href=\"#DejaVuSans-64\"/>\n       <use xlink:href=\"#DejaVuSans-34\" x=\"63.476562\"/>\n       <use xlink:href=\"#DejaVuSans-5f\" x=\"127.099609\"/>\n       <use xlink:href=\"#DejaVuSans-6d\" x=\"177.099609\"/>\n       <use xlink:href=\"#DejaVuSans-61\" x=\"274.511719\"/>\n       <use xlink:href=\"#DejaVuSans-78\" x=\"335.791016\"/>\n       <use xlink:href=\"#DejaVuSans-5f\" x=\"394.970703\"/>\n       <use xlink:href=\"#DejaVuSans-68\" x=\"444.970703\"/>\n       <use xlink:href=\"#DejaVuSans-65\" x=\"508.349609\"/>\n       <use xlink:href=\"#DejaVuSans-61\" x=\"569.873047\"/>\n       <use xlink:href=\"#DejaVuSans-6c\" x=\"631.152344\"/>\n       <use xlink:href=\"#DejaVuSans-74\" x=\"658.935547\"/>\n       <use xlink:href=\"#DejaVuSans-68\" x=\"698.144531\"/>\n      </g>\n     </g>\n    </g>\n    <g id=\"ytick_210\">\n     <g id=\"line2d_218\">\n      <g>\n       <use xlink:href=\"#ma135784799\" x=\"148.951562\" y=\"401.572982\" style=\"stroke: #000000; stroke-width: 0.8\"/>\n      </g>\n     </g>\n     <g id=\"text_218\">\n      <!-- d3_xp -->\n      <g transform=\"translate(111.973437 405.372201) scale(0.1 -0.1)\">\n       <use xlink:href=\"#DejaVuSans-64\"/>\n       <use xlink:href=\"#DejaVuSans-33\" x=\"63.476562\"/>\n       <use xlink:href=\"#DejaVuSans-5f\" x=\"127.099609\"/>\n       <use xlink:href=\"#DejaVuSans-78\" x=\"177.099609\"/>\n       <use xlink:href=\"#DejaVuSans-70\" x=\"236.279297\"/>\n      </g>\n     </g>\n    </g>\n    <g id=\"ytick_211\">\n     <g id=\"line2d_219\">\n      <g>\n       <use xlink:href=\"#ma135784799\" x=\"148.951562\" y=\"403.383268\" style=\"stroke: #000000; stroke-width: 0.8\"/>\n      </g>\n     </g>\n     <g id=\"text_219\">\n      <!-- d4_xp -->\n      <g transform=\"translate(111.973437 407.182487) scale(0.1 -0.1)\">\n       <use xlink:href=\"#DejaVuSans-64\"/>\n       <use xlink:href=\"#DejaVuSans-34\" x=\"63.476562\"/>\n       <use xlink:href=\"#DejaVuSans-5f\" x=\"127.099609\"/>\n       <use xlink:href=\"#DejaVuSans-78\" x=\"177.099609\"/>\n       <use xlink:href=\"#DejaVuSans-70\" x=\"236.279297\"/>\n      </g>\n     </g>\n    </g>\n    <g id=\"ytick_212\">\n     <g id=\"line2d_220\">\n      <g>\n       <use xlink:href=\"#ma135784799\" x=\"148.951562\" y=\"405.193554\" style=\"stroke: #000000; stroke-width: 0.8\"/>\n      </g>\n     </g>\n     <g id=\"text_220\">\n      <!-- d3_health -->\n      <g transform=\"translate(92.585938 408.992772) scale(0.1 -0.1)\">\n       <use xlink:href=\"#DejaVuSans-64\"/>\n       <use xlink:href=\"#DejaVuSans-33\" x=\"63.476562\"/>\n       <use xlink:href=\"#DejaVuSans-5f\" x=\"127.099609\"/>\n       <use xlink:href=\"#DejaVuSans-68\" x=\"177.099609\"/>\n       <use xlink:href=\"#DejaVuSans-65\" x=\"240.478516\"/>\n       <use xlink:href=\"#DejaVuSans-61\" x=\"302.001953\"/>\n       <use xlink:href=\"#DejaVuSans-6c\" x=\"363.28125\"/>\n       <use xlink:href=\"#DejaVuSans-74\" x=\"391.064453\"/>\n       <use xlink:href=\"#DejaVuSans-68\" x=\"430.273438\"/>\n      </g>\n     </g>\n    </g>\n    <g id=\"ytick_213\">\n     <g id=\"line2d_221\">\n      <g>\n       <use xlink:href=\"#ma135784799\" x=\"148.951562\" y=\"407.003839\" style=\"stroke: #000000; stroke-width: 0.8\"/>\n      </g>\n     </g>\n     <g id=\"text_221\">\n      <!-- d4_health -->\n      <g transform=\"translate(92.585938 410.803058) scale(0.1 -0.1)\">\n       <use xlink:href=\"#DejaVuSans-64\"/>\n       <use xlink:href=\"#DejaVuSans-34\" x=\"63.476562\"/>\n       <use xlink:href=\"#DejaVuSans-5f\" x=\"127.099609\"/>\n       <use xlink:href=\"#DejaVuSans-68\" x=\"177.099609\"/>\n       <use xlink:href=\"#DejaVuSans-65\" x=\"240.478516\"/>\n       <use xlink:href=\"#DejaVuSans-61\" x=\"302.001953\"/>\n       <use xlink:href=\"#DejaVuSans-6c\" x=\"363.28125\"/>\n       <use xlink:href=\"#DejaVuSans-74\" x=\"391.064453\"/>\n       <use xlink:href=\"#DejaVuSans-68\" x=\"430.273438\"/>\n      </g>\n     </g>\n    </g>\n    <g id=\"ytick_214\">\n     <g id=\"line2d_222\">\n      <g>\n       <use xlink:href=\"#ma135784799\" x=\"148.951562\" y=\"408.814125\" style=\"stroke: #000000; stroke-width: 0.8\"/>\n      </g>\n     </g>\n     <g id=\"text_222\">\n      <!-- d5_max_health -->\n      <g transform=\"translate(65.798437 412.613344) scale(0.1 -0.1)\">\n       <use xlink:href=\"#DejaVuSans-64\"/>\n       <use xlink:href=\"#DejaVuSans-35\" x=\"63.476562\"/>\n       <use xlink:href=\"#DejaVuSans-5f\" x=\"127.099609\"/>\n       <use xlink:href=\"#DejaVuSans-6d\" x=\"177.099609\"/>\n       <use xlink:href=\"#DejaVuSans-61\" x=\"274.511719\"/>\n       <use xlink:href=\"#DejaVuSans-78\" x=\"335.791016\"/>\n       <use xlink:href=\"#DejaVuSans-5f\" x=\"394.970703\"/>\n       <use xlink:href=\"#DejaVuSans-68\" x=\"444.970703\"/>\n       <use xlink:href=\"#DejaVuSans-65\" x=\"508.349609\"/>\n       <use xlink:href=\"#DejaVuSans-61\" x=\"569.873047\"/>\n       <use xlink:href=\"#DejaVuSans-6c\" x=\"631.152344\"/>\n       <use xlink:href=\"#DejaVuSans-74\" x=\"658.935547\"/>\n       <use xlink:href=\"#DejaVuSans-68\" x=\"698.144531\"/>\n      </g>\n     </g>\n    </g>\n    <g id=\"ytick_215\">\n     <g id=\"line2d_223\">\n      <g>\n       <use xlink:href=\"#ma135784799\" x=\"148.951562\" y=\"410.624411\" style=\"stroke: #000000; stroke-width: 0.8\"/>\n      </g>\n     </g>\n     <g id=\"text_223\">\n      <!-- d2_gold -->\n      <g transform=\"translate(102.646875 414.423629) scale(0.1 -0.1)\">\n       <use xlink:href=\"#DejaVuSans-64\"/>\n       <use xlink:href=\"#DejaVuSans-32\" x=\"63.476562\"/>\n       <use xlink:href=\"#DejaVuSans-5f\" x=\"127.099609\"/>\n       <use xlink:href=\"#DejaVuSans-67\" x=\"177.099609\"/>\n       <use xlink:href=\"#DejaVuSans-6f\" x=\"240.576172\"/>\n       <use xlink:href=\"#DejaVuSans-6c\" x=\"301.757812\"/>\n       <use xlink:href=\"#DejaVuSans-64\" x=\"329.541016\"/>\n      </g>\n     </g>\n    </g>\n    <g id=\"ytick_216\">\n     <g id=\"line2d_224\">\n      <g>\n       <use xlink:href=\"#ma135784799\" x=\"148.951562\" y=\"412.434696\" style=\"stroke: #000000; stroke-width: 0.8\"/>\n      </g>\n     </g>\n     <g id=\"text_224\">\n      <!-- d5_health -->\n      <g transform=\"translate(92.585938 416.233915) scale(0.1 -0.1)\">\n       <use xlink:href=\"#DejaVuSans-64\"/>\n       <use xlink:href=\"#DejaVuSans-35\" x=\"63.476562\"/>\n       <use xlink:href=\"#DejaVuSans-5f\" x=\"127.099609\"/>\n       <use xlink:href=\"#DejaVuSans-68\" x=\"177.099609\"/>\n       <use xlink:href=\"#DejaVuSans-65\" x=\"240.478516\"/>\n       <use xlink:href=\"#DejaVuSans-61\" x=\"302.001953\"/>\n       <use xlink:href=\"#DejaVuSans-6c\" x=\"363.28125\"/>\n       <use xlink:href=\"#DejaVuSans-74\" x=\"391.064453\"/>\n       <use xlink:href=\"#DejaVuSans-68\" x=\"430.273438\"/>\n      </g>\n     </g>\n    </g>\n    <g id=\"ytick_217\">\n     <g id=\"line2d_225\">\n      <g>\n       <use xlink:href=\"#ma135784799\" x=\"148.951562\" y=\"414.244982\" style=\"stroke: #000000; stroke-width: 0.8\"/>\n      </g>\n     </g>\n     <g id=\"text_225\">\n      <!-- d3_gold -->\n      <g transform=\"translate(102.646875 418.044201) scale(0.1 -0.1)\">\n       <use xlink:href=\"#DejaVuSans-64\"/>\n       <use xlink:href=\"#DejaVuSans-33\" x=\"63.476562\"/>\n       <use xlink:href=\"#DejaVuSans-5f\" x=\"127.099609\"/>\n       <use xlink:href=\"#DejaVuSans-67\" x=\"177.099609\"/>\n       <use xlink:href=\"#DejaVuSans-6f\" x=\"240.576172\"/>\n       <use xlink:href=\"#DejaVuSans-6c\" x=\"301.757812\"/>\n       <use xlink:href=\"#DejaVuSans-64\" x=\"329.541016\"/>\n      </g>\n     </g>\n    </g>\n    <g id=\"ytick_218\">\n     <g id=\"line2d_226\">\n      <g>\n       <use xlink:href=\"#ma135784799\" x=\"148.951562\" y=\"416.055268\" style=\"stroke: #000000; stroke-width: 0.8\"/>\n      </g>\n     </g>\n     <g id=\"text_226\">\n      <!-- d1_gold -->\n      <g transform=\"translate(102.646875 419.854487) scale(0.1 -0.1)\">\n       <use xlink:href=\"#DejaVuSans-64\"/>\n       <use xlink:href=\"#DejaVuSans-31\" x=\"63.476562\"/>\n       <use xlink:href=\"#DejaVuSans-5f\" x=\"127.099609\"/>\n       <use xlink:href=\"#DejaVuSans-67\" x=\"177.099609\"/>\n       <use xlink:href=\"#DejaVuSans-6f\" x=\"240.576172\"/>\n       <use xlink:href=\"#DejaVuSans-6c\" x=\"301.757812\"/>\n       <use xlink:href=\"#DejaVuSans-64\" x=\"329.541016\"/>\n      </g>\n     </g>\n    </g>\n    <g id=\"ytick_219\">\n     <g id=\"line2d_227\">\n      <g>\n       <use xlink:href=\"#ma135784799\" x=\"148.951562\" y=\"417.865554\" style=\"stroke: #000000; stroke-width: 0.8\"/>\n      </g>\n     </g>\n     <g id=\"text_227\">\n      <!-- d4_gold -->\n      <g transform=\"translate(102.646875 421.664772) scale(0.1 -0.1)\">\n       <use xlink:href=\"#DejaVuSans-64\"/>\n       <use xlink:href=\"#DejaVuSans-34\" x=\"63.476562\"/>\n       <use xlink:href=\"#DejaVuSans-5f\" x=\"127.099609\"/>\n       <use xlink:href=\"#DejaVuSans-67\" x=\"177.099609\"/>\n       <use xlink:href=\"#DejaVuSans-6f\" x=\"240.576172\"/>\n       <use xlink:href=\"#DejaVuSans-6c\" x=\"301.757812\"/>\n       <use xlink:href=\"#DejaVuSans-64\" x=\"329.541016\"/>\n      </g>\n     </g>\n    </g>\n    <g id=\"ytick_220\">\n     <g id=\"line2d_228\">\n      <g>\n       <use xlink:href=\"#ma135784799\" x=\"148.951562\" y=\"419.675839\" style=\"stroke: #000000; stroke-width: 0.8\"/>\n      </g>\n     </g>\n     <g id=\"text_228\">\n      <!-- d5_gold -->\n      <g transform=\"translate(102.646875 423.475058) scale(0.1 -0.1)\">\n       <use xlink:href=\"#DejaVuSans-64\"/>\n       <use xlink:href=\"#DejaVuSans-35\" x=\"63.476562\"/>\n       <use xlink:href=\"#DejaVuSans-5f\" x=\"127.099609\"/>\n       <use xlink:href=\"#DejaVuSans-67\" x=\"177.099609\"/>\n       <use xlink:href=\"#DejaVuSans-6f\" x=\"240.576172\"/>\n       <use xlink:href=\"#DejaVuSans-6c\" x=\"301.757812\"/>\n       <use xlink:href=\"#DejaVuSans-64\" x=\"329.541016\"/>\n      </g>\n     </g>\n    </g>\n    <g id=\"ytick_221\">\n     <g id=\"line2d_229\">\n      <g>\n       <use xlink:href=\"#ma135784799\" x=\"148.951562\" y=\"421.486125\" style=\"stroke: #000000; stroke-width: 0.8\"/>\n      </g>\n     </g>\n     <g id=\"text_229\">\n      <!-- d4_rune_pickups -->\n      <g transform=\"translate(58.303125 425.285344) scale(0.1 -0.1)\">\n       <use xlink:href=\"#DejaVuSans-64\"/>\n       <use xlink:href=\"#DejaVuSans-34\" x=\"63.476562\"/>\n       <use xlink:href=\"#DejaVuSans-5f\" x=\"127.099609\"/>\n       <use xlink:href=\"#DejaVuSans-72\" x=\"177.099609\"/>\n       <use xlink:href=\"#DejaVuSans-75\" x=\"218.212891\"/>\n       <use xlink:href=\"#DejaVuSans-6e\" x=\"281.591797\"/>\n       <use xlink:href=\"#DejaVuSans-65\" x=\"344.970703\"/>\n       <use xlink:href=\"#DejaVuSans-5f\" x=\"406.494141\"/>\n       <use xlink:href=\"#DejaVuSans-70\" x=\"456.494141\"/>\n       <use xlink:href=\"#DejaVuSans-69\" x=\"519.970703\"/>\n       <use xlink:href=\"#DejaVuSans-63\" x=\"547.753906\"/>\n       <use xlink:href=\"#DejaVuSans-6b\" x=\"602.734375\"/>\n       <use xlink:href=\"#DejaVuSans-75\" x=\"657.519531\"/>\n       <use xlink:href=\"#DejaVuSans-70\" x=\"720.898438\"/>\n       <use xlink:href=\"#DejaVuSans-73\" x=\"784.375\"/>\n      </g>\n     </g>\n    </g>\n    <g id=\"ytick_222\">\n     <g id=\"line2d_230\">\n      <g>\n       <use xlink:href=\"#ma135784799\" x=\"148.951562\" y=\"423.296411\" style=\"stroke: #000000; stroke-width: 0.8\"/>\n      </g>\n     </g>\n     <g id=\"text_230\">\n      <!-- d3_rune_pickups -->\n      <g transform=\"translate(58.303125 427.095629) scale(0.1 -0.1)\">\n       <use xlink:href=\"#DejaVuSans-64\"/>\n       <use xlink:href=\"#DejaVuSans-33\" x=\"63.476562\"/>\n       <use xlink:href=\"#DejaVuSans-5f\" x=\"127.099609\"/>\n       <use xlink:href=\"#DejaVuSans-72\" x=\"177.099609\"/>\n       <use xlink:href=\"#DejaVuSans-75\" x=\"218.212891\"/>\n       <use xlink:href=\"#DejaVuSans-6e\" x=\"281.591797\"/>\n       <use xlink:href=\"#DejaVuSans-65\" x=\"344.970703\"/>\n       <use xlink:href=\"#DejaVuSans-5f\" x=\"406.494141\"/>\n       <use xlink:href=\"#DejaVuSans-70\" x=\"456.494141\"/>\n       <use xlink:href=\"#DejaVuSans-69\" x=\"519.970703\"/>\n       <use xlink:href=\"#DejaVuSans-63\" x=\"547.753906\"/>\n       <use xlink:href=\"#DejaVuSans-6b\" x=\"602.734375\"/>\n       <use xlink:href=\"#DejaVuSans-75\" x=\"657.519531\"/>\n       <use xlink:href=\"#DejaVuSans-70\" x=\"720.898438\"/>\n       <use xlink:href=\"#DejaVuSans-73\" x=\"784.375\"/>\n      </g>\n     </g>\n    </g>\n    <g id=\"ytick_223\">\n     <g id=\"line2d_231\">\n      <g>\n       <use xlink:href=\"#ma135784799\" x=\"148.951562\" y=\"425.106696\" style=\"stroke: #000000; stroke-width: 0.8\"/>\n      </g>\n     </g>\n     <g id=\"text_231\">\n      <!-- d1_rune_pickups -->\n      <g transform=\"translate(58.303125 428.905915) scale(0.1 -0.1)\">\n       <use xlink:href=\"#DejaVuSans-64\"/>\n       <use xlink:href=\"#DejaVuSans-31\" x=\"63.476562\"/>\n       <use xlink:href=\"#DejaVuSans-5f\" x=\"127.099609\"/>\n       <use xlink:href=\"#DejaVuSans-72\" x=\"177.099609\"/>\n       <use xlink:href=\"#DejaVuSans-75\" x=\"218.212891\"/>\n       <use xlink:href=\"#DejaVuSans-6e\" x=\"281.591797\"/>\n       <use xlink:href=\"#DejaVuSans-65\" x=\"344.970703\"/>\n       <use xlink:href=\"#DejaVuSans-5f\" x=\"406.494141\"/>\n       <use xlink:href=\"#DejaVuSans-70\" x=\"456.494141\"/>\n       <use xlink:href=\"#DejaVuSans-69\" x=\"519.970703\"/>\n       <use xlink:href=\"#DejaVuSans-63\" x=\"547.753906\"/>\n       <use xlink:href=\"#DejaVuSans-6b\" x=\"602.734375\"/>\n       <use xlink:href=\"#DejaVuSans-75\" x=\"657.519531\"/>\n       <use xlink:href=\"#DejaVuSans-70\" x=\"720.898438\"/>\n       <use xlink:href=\"#DejaVuSans-73\" x=\"784.375\"/>\n      </g>\n     </g>\n    </g>\n    <g id=\"ytick_224\">\n     <g id=\"line2d_232\">\n      <g>\n       <use xlink:href=\"#ma135784799\" x=\"148.951562\" y=\"426.916982\" style=\"stroke: #000000; stroke-width: 0.8\"/>\n      </g>\n     </g>\n     <g id=\"text_232\">\n      <!-- d5_rune_pickups -->\n      <g transform=\"translate(58.303125 430.716201) scale(0.1 -0.1)\">\n       <use xlink:href=\"#DejaVuSans-64\"/>\n       <use xlink:href=\"#DejaVuSans-35\" x=\"63.476562\"/>\n       <use xlink:href=\"#DejaVuSans-5f\" x=\"127.099609\"/>\n       <use xlink:href=\"#DejaVuSans-72\" x=\"177.099609\"/>\n       <use xlink:href=\"#DejaVuSans-75\" x=\"218.212891\"/>\n       <use xlink:href=\"#DejaVuSans-6e\" x=\"281.591797\"/>\n       <use xlink:href=\"#DejaVuSans-65\" x=\"344.970703\"/>\n       <use xlink:href=\"#DejaVuSans-5f\" x=\"406.494141\"/>\n       <use xlink:href=\"#DejaVuSans-70\" x=\"456.494141\"/>\n       <use xlink:href=\"#DejaVuSans-69\" x=\"519.970703\"/>\n       <use xlink:href=\"#DejaVuSans-63\" x=\"547.753906\"/>\n       <use xlink:href=\"#DejaVuSans-6b\" x=\"602.734375\"/>\n       <use xlink:href=\"#DejaVuSans-75\" x=\"657.519531\"/>\n       <use xlink:href=\"#DejaVuSans-70\" x=\"720.898438\"/>\n       <use xlink:href=\"#DejaVuSans-73\" x=\"784.375\"/>\n      </g>\n     </g>\n    </g>\n    <g id=\"ytick_225\">\n     <g id=\"line2d_233\">\n      <g>\n       <use xlink:href=\"#ma135784799\" x=\"148.951562\" y=\"428.727268\" style=\"stroke: #000000; stroke-width: 0.8\"/>\n      </g>\n     </g>\n     <g id=\"text_233\">\n      <!-- d2_rune_pickups -->\n      <g transform=\"translate(58.303125 432.526487) scale(0.1 -0.1)\">\n       <use xlink:href=\"#DejaVuSans-64\"/>\n       <use xlink:href=\"#DejaVuSans-32\" x=\"63.476562\"/>\n       <use xlink:href=\"#DejaVuSans-5f\" x=\"127.099609\"/>\n       <use xlink:href=\"#DejaVuSans-72\" x=\"177.099609\"/>\n       <use xlink:href=\"#DejaVuSans-75\" x=\"218.212891\"/>\n       <use xlink:href=\"#DejaVuSans-6e\" x=\"281.591797\"/>\n       <use xlink:href=\"#DejaVuSans-65\" x=\"344.970703\"/>\n       <use xlink:href=\"#DejaVuSans-5f\" x=\"406.494141\"/>\n       <use xlink:href=\"#DejaVuSans-70\" x=\"456.494141\"/>\n       <use xlink:href=\"#DejaVuSans-69\" x=\"519.970703\"/>\n       <use xlink:href=\"#DejaVuSans-63\" x=\"547.753906\"/>\n       <use xlink:href=\"#DejaVuSans-6b\" x=\"602.734375\"/>\n       <use xlink:href=\"#DejaVuSans-75\" x=\"657.519531\"/>\n       <use xlink:href=\"#DejaVuSans-70\" x=\"720.898438\"/>\n       <use xlink:href=\"#DejaVuSans-73\" x=\"784.375\"/>\n      </g>\n     </g>\n    </g>\n    <g id=\"ytick_226\">\n     <g id=\"line2d_234\">\n      <g>\n       <use xlink:href=\"#ma135784799\" x=\"148.951562\" y=\"430.537554\" style=\"stroke: #000000; stroke-width: 0.8\"/>\n      </g>\n     </g>\n     <g id=\"text_234\">\n      <!-- d5_assists -->\n      <g transform=\"translate(90.576562 434.336772) scale(0.1 -0.1)\">\n       <use xlink:href=\"#DejaVuSans-64\"/>\n       <use xlink:href=\"#DejaVuSans-35\" x=\"63.476562\"/>\n       <use xlink:href=\"#DejaVuSans-5f\" x=\"127.099609\"/>\n       <use xlink:href=\"#DejaVuSans-61\" x=\"177.099609\"/>\n       <use xlink:href=\"#DejaVuSans-73\" x=\"238.378906\"/>\n       <use xlink:href=\"#DejaVuSans-73\" x=\"290.478516\"/>\n       <use xlink:href=\"#DejaVuSans-69\" x=\"342.578125\"/>\n       <use xlink:href=\"#DejaVuSans-73\" x=\"370.361328\"/>\n       <use xlink:href=\"#DejaVuSans-74\" x=\"422.460938\"/>\n       <use xlink:href=\"#DejaVuSans-73\" x=\"461.669922\"/>\n      </g>\n     </g>\n    </g>\n    <g id=\"ytick_227\">\n     <g id=\"line2d_235\">\n      <g>\n       <use xlink:href=\"#ma135784799\" x=\"148.951562\" y=\"432.347839\" style=\"stroke: #000000; stroke-width: 0.8\"/>\n      </g>\n     </g>\n     <g id=\"text_235\">\n      <!-- d1_assists -->\n      <g transform=\"translate(90.576562 436.147058) scale(0.1 -0.1)\">\n       <use xlink:href=\"#DejaVuSans-64\"/>\n       <use xlink:href=\"#DejaVuSans-31\" x=\"63.476562\"/>\n       <use xlink:href=\"#DejaVuSans-5f\" x=\"127.099609\"/>\n       <use xlink:href=\"#DejaVuSans-61\" x=\"177.099609\"/>\n       <use xlink:href=\"#DejaVuSans-73\" x=\"238.378906\"/>\n       <use xlink:href=\"#DejaVuSans-73\" x=\"290.478516\"/>\n       <use xlink:href=\"#DejaVuSans-69\" x=\"342.578125\"/>\n       <use xlink:href=\"#DejaVuSans-73\" x=\"370.361328\"/>\n       <use xlink:href=\"#DejaVuSans-74\" x=\"422.460938\"/>\n       <use xlink:href=\"#DejaVuSans-73\" x=\"461.669922\"/>\n      </g>\n     </g>\n    </g>\n    <g id=\"ytick_228\">\n     <g id=\"line2d_236\">\n      <g>\n       <use xlink:href=\"#ma135784799\" x=\"148.951562\" y=\"434.158125\" style=\"stroke: #000000; stroke-width: 0.8\"/>\n      </g>\n     </g>\n     <g id=\"text_236\">\n      <!-- d2_kills -->\n      <g transform=\"translate(104.90625 437.957344) scale(0.1 -0.1)\">\n       <use xlink:href=\"#DejaVuSans-64\"/>\n       <use xlink:href=\"#DejaVuSans-32\" x=\"63.476562\"/>\n       <use xlink:href=\"#DejaVuSans-5f\" x=\"127.099609\"/>\n       <use xlink:href=\"#DejaVuSans-6b\" x=\"177.099609\"/>\n       <use xlink:href=\"#DejaVuSans-69\" x=\"235.009766\"/>\n       <use xlink:href=\"#DejaVuSans-6c\" x=\"262.792969\"/>\n       <use xlink:href=\"#DejaVuSans-6c\" x=\"290.576172\"/>\n       <use xlink:href=\"#DejaVuSans-73\" x=\"318.359375\"/>\n      </g>\n     </g>\n    </g>\n    <g id=\"ytick_229\">\n     <g id=\"line2d_237\">\n      <g>\n       <use xlink:href=\"#ma135784799\" x=\"148.951562\" y=\"435.968411\" style=\"stroke: #000000; stroke-width: 0.8\"/>\n      </g>\n     </g>\n     <g id=\"text_237\">\n      <!-- d3_kills -->\n      <g transform=\"translate(104.90625 439.767629) scale(0.1 -0.1)\">\n       <use xlink:href=\"#DejaVuSans-64\"/>\n       <use xlink:href=\"#DejaVuSans-33\" x=\"63.476562\"/>\n       <use xlink:href=\"#DejaVuSans-5f\" x=\"127.099609\"/>\n       <use xlink:href=\"#DejaVuSans-6b\" x=\"177.099609\"/>\n       <use xlink:href=\"#DejaVuSans-69\" x=\"235.009766\"/>\n       <use xlink:href=\"#DejaVuSans-6c\" x=\"262.792969\"/>\n       <use xlink:href=\"#DejaVuSans-6c\" x=\"290.576172\"/>\n       <use xlink:href=\"#DejaVuSans-73\" x=\"318.359375\"/>\n      </g>\n     </g>\n    </g>\n    <g id=\"ytick_230\">\n     <g id=\"line2d_238\">\n      <g>\n       <use xlink:href=\"#ma135784799\" x=\"148.951562\" y=\"437.778696\" style=\"stroke: #000000; stroke-width: 0.8\"/>\n      </g>\n     </g>\n     <g id=\"text_238\">\n      <!-- d4_assists -->\n      <g transform=\"translate(90.576562 441.577915) scale(0.1 -0.1)\">\n       <use xlink:href=\"#DejaVuSans-64\"/>\n       <use xlink:href=\"#DejaVuSans-34\" x=\"63.476562\"/>\n       <use xlink:href=\"#DejaVuSans-5f\" x=\"127.099609\"/>\n       <use xlink:href=\"#DejaVuSans-61\" x=\"177.099609\"/>\n       <use xlink:href=\"#DejaVuSans-73\" x=\"238.378906\"/>\n       <use xlink:href=\"#DejaVuSans-73\" x=\"290.478516\"/>\n       <use xlink:href=\"#DejaVuSans-69\" x=\"342.578125\"/>\n       <use xlink:href=\"#DejaVuSans-73\" x=\"370.361328\"/>\n       <use xlink:href=\"#DejaVuSans-74\" x=\"422.460938\"/>\n       <use xlink:href=\"#DejaVuSans-73\" x=\"461.669922\"/>\n      </g>\n     </g>\n    </g>\n    <g id=\"ytick_231\">\n     <g id=\"line2d_239\">\n      <g>\n       <use xlink:href=\"#ma135784799\" x=\"148.951562\" y=\"439.588982\" style=\"stroke: #000000; stroke-width: 0.8\"/>\n      </g>\n     </g>\n     <g id=\"text_239\">\n      <!-- d1_kills -->\n      <g transform=\"translate(104.90625 443.388201) scale(0.1 -0.1)\">\n       <use xlink:href=\"#DejaVuSans-64\"/>\n       <use xlink:href=\"#DejaVuSans-31\" x=\"63.476562\"/>\n       <use xlink:href=\"#DejaVuSans-5f\" x=\"127.099609\"/>\n       <use xlink:href=\"#DejaVuSans-6b\" x=\"177.099609\"/>\n       <use xlink:href=\"#DejaVuSans-69\" x=\"235.009766\"/>\n       <use xlink:href=\"#DejaVuSans-6c\" x=\"262.792969\"/>\n       <use xlink:href=\"#DejaVuSans-6c\" x=\"290.576172\"/>\n       <use xlink:href=\"#DejaVuSans-73\" x=\"318.359375\"/>\n      </g>\n     </g>\n    </g>\n    <g id=\"ytick_232\">\n     <g id=\"line2d_240\">\n      <g>\n       <use xlink:href=\"#ma135784799\" x=\"148.951562\" y=\"441.399268\" style=\"stroke: #000000; stroke-width: 0.8\"/>\n      </g>\n     </g>\n     <g id=\"text_240\">\n      <!-- d2_assists -->\n      <g transform=\"translate(90.576562 445.198487) scale(0.1 -0.1)\">\n       <use xlink:href=\"#DejaVuSans-64\"/>\n       <use xlink:href=\"#DejaVuSans-32\" x=\"63.476562\"/>\n       <use xlink:href=\"#DejaVuSans-5f\" x=\"127.099609\"/>\n       <use xlink:href=\"#DejaVuSans-61\" x=\"177.099609\"/>\n       <use xlink:href=\"#DejaVuSans-73\" x=\"238.378906\"/>\n       <use xlink:href=\"#DejaVuSans-73\" x=\"290.478516\"/>\n       <use xlink:href=\"#DejaVuSans-69\" x=\"342.578125\"/>\n       <use xlink:href=\"#DejaVuSans-73\" x=\"370.361328\"/>\n       <use xlink:href=\"#DejaVuSans-74\" x=\"422.460938\"/>\n       <use xlink:href=\"#DejaVuSans-73\" x=\"461.669922\"/>\n      </g>\n     </g>\n    </g>\n    <g id=\"ytick_233\">\n     <g id=\"line2d_241\">\n      <g>\n       <use xlink:href=\"#ma135784799\" x=\"148.951562\" y=\"443.209554\" style=\"stroke: #000000; stroke-width: 0.8\"/>\n      </g>\n     </g>\n     <g id=\"text_241\">\n      <!-- d3_assists -->\n      <g transform=\"translate(90.576562 447.008772) scale(0.1 -0.1)\">\n       <use xlink:href=\"#DejaVuSans-64\"/>\n       <use xlink:href=\"#DejaVuSans-33\" x=\"63.476562\"/>\n       <use xlink:href=\"#DejaVuSans-5f\" x=\"127.099609\"/>\n       <use xlink:href=\"#DejaVuSans-61\" x=\"177.099609\"/>\n       <use xlink:href=\"#DejaVuSans-73\" x=\"238.378906\"/>\n       <use xlink:href=\"#DejaVuSans-73\" x=\"290.478516\"/>\n       <use xlink:href=\"#DejaVuSans-69\" x=\"342.578125\"/>\n       <use xlink:href=\"#DejaVuSans-73\" x=\"370.361328\"/>\n       <use xlink:href=\"#DejaVuSans-74\" x=\"422.460938\"/>\n       <use xlink:href=\"#DejaVuSans-73\" x=\"461.669922\"/>\n      </g>\n     </g>\n    </g>\n    <g id=\"ytick_234\">\n     <g id=\"line2d_242\">\n      <g>\n       <use xlink:href=\"#ma135784799\" x=\"148.951562\" y=\"445.019839\" style=\"stroke: #000000; stroke-width: 0.8\"/>\n      </g>\n     </g>\n     <g id=\"text_242\">\n      <!-- d1_towers_killed -->\n      <g transform=\"translate(58.923437 448.819058) scale(0.1 -0.1)\">\n       <use xlink:href=\"#DejaVuSans-64\"/>\n       <use xlink:href=\"#DejaVuSans-31\" x=\"63.476562\"/>\n       <use xlink:href=\"#DejaVuSans-5f\" x=\"127.099609\"/>\n       <use xlink:href=\"#DejaVuSans-74\" x=\"177.099609\"/>\n       <use xlink:href=\"#DejaVuSans-6f\" x=\"216.308594\"/>\n       <use xlink:href=\"#DejaVuSans-77\" x=\"277.490234\"/>\n       <use xlink:href=\"#DejaVuSans-65\" x=\"359.277344\"/>\n       <use xlink:href=\"#DejaVuSans-72\" x=\"420.800781\"/>\n       <use xlink:href=\"#DejaVuSans-73\" x=\"461.914062\"/>\n       <use xlink:href=\"#DejaVuSans-5f\" x=\"514.013672\"/>\n       <use xlink:href=\"#DejaVuSans-6b\" x=\"564.013672\"/>\n       <use xlink:href=\"#DejaVuSans-69\" x=\"621.923828\"/>\n       <use xlink:href=\"#DejaVuSans-6c\" x=\"649.707031\"/>\n       <use xlink:href=\"#DejaVuSans-6c\" x=\"677.490234\"/>\n       <use xlink:href=\"#DejaVuSans-65\" x=\"705.273438\"/>\n       <use xlink:href=\"#DejaVuSans-64\" x=\"766.796875\"/>\n      </g>\n     </g>\n    </g>\n    <g id=\"ytick_235\">\n     <g id=\"line2d_243\">\n      <g>\n       <use xlink:href=\"#ma135784799\" x=\"148.951562\" y=\"446.830125\" style=\"stroke: #000000; stroke-width: 0.8\"/>\n      </g>\n     </g>\n     <g id=\"text_243\">\n      <!-- d4_towers_killed -->\n      <g transform=\"translate(58.923437 450.629344) scale(0.1 -0.1)\">\n       <use xlink:href=\"#DejaVuSans-64\"/>\n       <use xlink:href=\"#DejaVuSans-34\" x=\"63.476562\"/>\n       <use xlink:href=\"#DejaVuSans-5f\" x=\"127.099609\"/>\n       <use xlink:href=\"#DejaVuSans-74\" x=\"177.099609\"/>\n       <use xlink:href=\"#DejaVuSans-6f\" x=\"216.308594\"/>\n       <use xlink:href=\"#DejaVuSans-77\" x=\"277.490234\"/>\n       <use xlink:href=\"#DejaVuSans-65\" x=\"359.277344\"/>\n       <use xlink:href=\"#DejaVuSans-72\" x=\"420.800781\"/>\n       <use xlink:href=\"#DejaVuSans-73\" x=\"461.914062\"/>\n       <use xlink:href=\"#DejaVuSans-5f\" x=\"514.013672\"/>\n       <use xlink:href=\"#DejaVuSans-6b\" x=\"564.013672\"/>\n       <use xlink:href=\"#DejaVuSans-69\" x=\"621.923828\"/>\n       <use xlink:href=\"#DejaVuSans-6c\" x=\"649.707031\"/>\n       <use xlink:href=\"#DejaVuSans-6c\" x=\"677.490234\"/>\n       <use xlink:href=\"#DejaVuSans-65\" x=\"705.273438\"/>\n       <use xlink:href=\"#DejaVuSans-64\" x=\"766.796875\"/>\n      </g>\n     </g>\n    </g>\n    <g id=\"ytick_236\">\n     <g id=\"line2d_244\">\n      <g>\n       <use xlink:href=\"#ma135784799\" x=\"148.951562\" y=\"448.640411\" style=\"stroke: #000000; stroke-width: 0.8\"/>\n      </g>\n     </g>\n     <g id=\"text_244\">\n      <!-- d4_kills -->\n      <g transform=\"translate(104.90625 452.439629) scale(0.1 -0.1)\">\n       <use xlink:href=\"#DejaVuSans-64\"/>\n       <use xlink:href=\"#DejaVuSans-34\" x=\"63.476562\"/>\n       <use xlink:href=\"#DejaVuSans-5f\" x=\"127.099609\"/>\n       <use xlink:href=\"#DejaVuSans-6b\" x=\"177.099609\"/>\n       <use xlink:href=\"#DejaVuSans-69\" x=\"235.009766\"/>\n       <use xlink:href=\"#DejaVuSans-6c\" x=\"262.792969\"/>\n       <use xlink:href=\"#DejaVuSans-6c\" x=\"290.576172\"/>\n       <use xlink:href=\"#DejaVuSans-73\" x=\"318.359375\"/>\n      </g>\n     </g>\n    </g>\n    <g id=\"ytick_237\">\n     <g id=\"line2d_245\">\n      <g>\n       <use xlink:href=\"#ma135784799\" x=\"148.951562\" y=\"450.450696\" style=\"stroke: #000000; stroke-width: 0.8\"/>\n      </g>\n     </g>\n     <g id=\"text_245\">\n      <!-- d3_towers_killed -->\n      <g transform=\"translate(58.923437 454.249915) scale(0.1 -0.1)\">\n       <use xlink:href=\"#DejaVuSans-64\"/>\n       <use xlink:href=\"#DejaVuSans-33\" x=\"63.476562\"/>\n       <use xlink:href=\"#DejaVuSans-5f\" x=\"127.099609\"/>\n       <use xlink:href=\"#DejaVuSans-74\" x=\"177.099609\"/>\n       <use xlink:href=\"#DejaVuSans-6f\" x=\"216.308594\"/>\n       <use xlink:href=\"#DejaVuSans-77\" x=\"277.490234\"/>\n       <use xlink:href=\"#DejaVuSans-65\" x=\"359.277344\"/>\n       <use xlink:href=\"#DejaVuSans-72\" x=\"420.800781\"/>\n       <use xlink:href=\"#DejaVuSans-73\" x=\"461.914062\"/>\n       <use xlink:href=\"#DejaVuSans-5f\" x=\"514.013672\"/>\n       <use xlink:href=\"#DejaVuSans-6b\" x=\"564.013672\"/>\n       <use xlink:href=\"#DejaVuSans-69\" x=\"621.923828\"/>\n       <use xlink:href=\"#DejaVuSans-6c\" x=\"649.707031\"/>\n       <use xlink:href=\"#DejaVuSans-6c\" x=\"677.490234\"/>\n       <use xlink:href=\"#DejaVuSans-65\" x=\"705.273438\"/>\n       <use xlink:href=\"#DejaVuSans-64\" x=\"766.796875\"/>\n      </g>\n     </g>\n    </g>\n    <g id=\"ytick_238\">\n     <g id=\"line2d_246\">\n      <g>\n       <use xlink:href=\"#ma135784799\" x=\"148.951562\" y=\"452.260982\" style=\"stroke: #000000; stroke-width: 0.8\"/>\n      </g>\n     </g>\n     <g id=\"text_246\">\n      <!-- d5_kills -->\n      <g transform=\"translate(104.90625 456.060201) scale(0.1 -0.1)\">\n       <use xlink:href=\"#DejaVuSans-64\"/>\n       <use xlink:href=\"#DejaVuSans-35\" x=\"63.476562\"/>\n       <use xlink:href=\"#DejaVuSans-5f\" x=\"127.099609\"/>\n       <use xlink:href=\"#DejaVuSans-6b\" x=\"177.099609\"/>\n       <use xlink:href=\"#DejaVuSans-69\" x=\"235.009766\"/>\n       <use xlink:href=\"#DejaVuSans-6c\" x=\"262.792969\"/>\n       <use xlink:href=\"#DejaVuSans-6c\" x=\"290.576172\"/>\n       <use xlink:href=\"#DejaVuSans-73\" x=\"318.359375\"/>\n      </g>\n     </g>\n    </g>\n    <g id=\"ytick_239\">\n     <g id=\"line2d_247\">\n      <g>\n       <use xlink:href=\"#ma135784799\" x=\"148.951562\" y=\"454.071268\" style=\"stroke: #000000; stroke-width: 0.8\"/>\n      </g>\n     </g>\n     <g id=\"text_247\">\n      <!-- d5_towers_killed -->\n      <g transform=\"translate(58.923437 457.870487) scale(0.1 -0.1)\">\n       <use xlink:href=\"#DejaVuSans-64\"/>\n       <use xlink:href=\"#DejaVuSans-35\" x=\"63.476562\"/>\n       <use xlink:href=\"#DejaVuSans-5f\" x=\"127.099609\"/>\n       <use xlink:href=\"#DejaVuSans-74\" x=\"177.099609\"/>\n       <use xlink:href=\"#DejaVuSans-6f\" x=\"216.308594\"/>\n       <use xlink:href=\"#DejaVuSans-77\" x=\"277.490234\"/>\n       <use xlink:href=\"#DejaVuSans-65\" x=\"359.277344\"/>\n       <use xlink:href=\"#DejaVuSans-72\" x=\"420.800781\"/>\n       <use xlink:href=\"#DejaVuSans-73\" x=\"461.914062\"/>\n       <use xlink:href=\"#DejaVuSans-5f\" x=\"514.013672\"/>\n       <use xlink:href=\"#DejaVuSans-6b\" x=\"564.013672\"/>\n       <use xlink:href=\"#DejaVuSans-69\" x=\"621.923828\"/>\n       <use xlink:href=\"#DejaVuSans-6c\" x=\"649.707031\"/>\n       <use xlink:href=\"#DejaVuSans-6c\" x=\"677.490234\"/>\n       <use xlink:href=\"#DejaVuSans-65\" x=\"705.273438\"/>\n       <use xlink:href=\"#DejaVuSans-64\" x=\"766.796875\"/>\n      </g>\n     </g>\n    </g>\n    <g id=\"ytick_240\">\n     <g id=\"line2d_248\">\n      <g>\n       <use xlink:href=\"#ma135784799\" x=\"148.951562\" y=\"455.881554\" style=\"stroke: #000000; stroke-width: 0.8\"/>\n      </g>\n     </g>\n     <g id=\"text_248\">\n      <!-- d2_towers_killed -->\n      <g transform=\"translate(58.923437 459.680772) scale(0.1 -0.1)\">\n       <use xlink:href=\"#DejaVuSans-64\"/>\n       <use xlink:href=\"#DejaVuSans-32\" x=\"63.476562\"/>\n       <use xlink:href=\"#DejaVuSans-5f\" x=\"127.099609\"/>\n       <use xlink:href=\"#DejaVuSans-74\" x=\"177.099609\"/>\n       <use xlink:href=\"#DejaVuSans-6f\" x=\"216.308594\"/>\n       <use xlink:href=\"#DejaVuSans-77\" x=\"277.490234\"/>\n       <use xlink:href=\"#DejaVuSans-65\" x=\"359.277344\"/>\n       <use xlink:href=\"#DejaVuSans-72\" x=\"420.800781\"/>\n       <use xlink:href=\"#DejaVuSans-73\" x=\"461.914062\"/>\n       <use xlink:href=\"#DejaVuSans-5f\" x=\"514.013672\"/>\n       <use xlink:href=\"#DejaVuSans-6b\" x=\"564.013672\"/>\n       <use xlink:href=\"#DejaVuSans-69\" x=\"621.923828\"/>\n       <use xlink:href=\"#DejaVuSans-6c\" x=\"649.707031\"/>\n       <use xlink:href=\"#DejaVuSans-6c\" x=\"677.490234\"/>\n       <use xlink:href=\"#DejaVuSans-65\" x=\"705.273438\"/>\n       <use xlink:href=\"#DejaVuSans-64\" x=\"766.796875\"/>\n      </g>\n     </g>\n    </g>\n    <g id=\"ytick_241\">\n     <g id=\"line2d_249\">\n      <g>\n       <use xlink:href=\"#ma135784799\" x=\"148.951562\" y=\"457.691839\" style=\"stroke: #000000; stroke-width: 0.8\"/>\n      </g>\n     </g>\n     <g id=\"text_249\">\n      <!-- r2_deaths -->\n      <g transform=\"translate(92.38125 461.491058) scale(0.1 -0.1)\">\n       <use xlink:href=\"#DejaVuSans-72\"/>\n       <use xlink:href=\"#DejaVuSans-32\" x=\"41.113281\"/>\n       <use xlink:href=\"#DejaVuSans-5f\" x=\"104.736328\"/>\n       <use xlink:href=\"#DejaVuSans-64\" x=\"154.736328\"/>\n       <use xlink:href=\"#DejaVuSans-65\" x=\"218.212891\"/>\n       <use xlink:href=\"#DejaVuSans-61\" x=\"279.736328\"/>\n       <use xlink:href=\"#DejaVuSans-74\" x=\"341.015625\"/>\n       <use xlink:href=\"#DejaVuSans-68\" x=\"380.224609\"/>\n       <use xlink:href=\"#DejaVuSans-73\" x=\"443.603516\"/>\n      </g>\n     </g>\n    </g>\n    <g id=\"ytick_242\">\n     <g id=\"line2d_250\">\n      <g>\n       <use xlink:href=\"#ma135784799\" x=\"148.951562\" y=\"459.502125\" style=\"stroke: #000000; stroke-width: 0.8\"/>\n      </g>\n     </g>\n     <g id=\"text_250\">\n      <!-- r1_deaths -->\n      <g transform=\"translate(92.38125 463.301344) scale(0.1 -0.1)\">\n       <use xlink:href=\"#DejaVuSans-72\"/>\n       <use xlink:href=\"#DejaVuSans-31\" x=\"41.113281\"/>\n       <use xlink:href=\"#DejaVuSans-5f\" x=\"104.736328\"/>\n       <use xlink:href=\"#DejaVuSans-64\" x=\"154.736328\"/>\n       <use xlink:href=\"#DejaVuSans-65\" x=\"218.212891\"/>\n       <use xlink:href=\"#DejaVuSans-61\" x=\"279.736328\"/>\n       <use xlink:href=\"#DejaVuSans-74\" x=\"341.015625\"/>\n       <use xlink:href=\"#DejaVuSans-68\" x=\"380.224609\"/>\n       <use xlink:href=\"#DejaVuSans-73\" x=\"443.603516\"/>\n      </g>\n     </g>\n    </g>\n    <g id=\"ytick_243\">\n     <g id=\"line2d_251\">\n      <g>\n       <use xlink:href=\"#ma135784799\" x=\"148.951562\" y=\"461.312411\" style=\"stroke: #000000; stroke-width: 0.8\"/>\n      </g>\n     </g>\n     <g id=\"text_251\">\n      <!-- r5_deaths -->\n      <g transform=\"translate(92.38125 465.111629) scale(0.1 -0.1)\">\n       <use xlink:href=\"#DejaVuSans-72\"/>\n       <use xlink:href=\"#DejaVuSans-35\" x=\"41.113281\"/>\n       <use xlink:href=\"#DejaVuSans-5f\" x=\"104.736328\"/>\n       <use xlink:href=\"#DejaVuSans-64\" x=\"154.736328\"/>\n       <use xlink:href=\"#DejaVuSans-65\" x=\"218.212891\"/>\n       <use xlink:href=\"#DejaVuSans-61\" x=\"279.736328\"/>\n       <use xlink:href=\"#DejaVuSans-74\" x=\"341.015625\"/>\n       <use xlink:href=\"#DejaVuSans-68\" x=\"380.224609\"/>\n       <use xlink:href=\"#DejaVuSans-73\" x=\"443.603516\"/>\n      </g>\n     </g>\n    </g>\n    <g id=\"ytick_244\">\n     <g id=\"line2d_252\">\n      <g>\n       <use xlink:href=\"#ma135784799\" x=\"148.951562\" y=\"463.122696\" style=\"stroke: #000000; stroke-width: 0.8\"/>\n      </g>\n     </g>\n     <g id=\"text_252\">\n      <!-- r4_deaths -->\n      <g transform=\"translate(92.38125 466.921915) scale(0.1 -0.1)\">\n       <use xlink:href=\"#DejaVuSans-72\"/>\n       <use xlink:href=\"#DejaVuSans-34\" x=\"41.113281\"/>\n       <use xlink:href=\"#DejaVuSans-5f\" x=\"104.736328\"/>\n       <use xlink:href=\"#DejaVuSans-64\" x=\"154.736328\"/>\n       <use xlink:href=\"#DejaVuSans-65\" x=\"218.212891\"/>\n       <use xlink:href=\"#DejaVuSans-61\" x=\"279.736328\"/>\n       <use xlink:href=\"#DejaVuSans-74\" x=\"341.015625\"/>\n       <use xlink:href=\"#DejaVuSans-68\" x=\"380.224609\"/>\n       <use xlink:href=\"#DejaVuSans-73\" x=\"443.603516\"/>\n      </g>\n     </g>\n    </g>\n    <g id=\"ytick_245\">\n     <g id=\"line2d_253\">\n      <g>\n       <use xlink:href=\"#ma135784799\" x=\"148.951562\" y=\"464.932982\" style=\"stroke: #000000; stroke-width: 0.8\"/>\n      </g>\n     </g>\n     <g id=\"text_253\">\n      <!-- r3_deaths -->\n      <g transform=\"translate(92.38125 468.732201) scale(0.1 -0.1)\">\n       <use xlink:href=\"#DejaVuSans-72\"/>\n       <use xlink:href=\"#DejaVuSans-33\" x=\"41.113281\"/>\n       <use xlink:href=\"#DejaVuSans-5f\" x=\"104.736328\"/>\n       <use xlink:href=\"#DejaVuSans-64\" x=\"154.736328\"/>\n       <use xlink:href=\"#DejaVuSans-65\" x=\"218.212891\"/>\n       <use xlink:href=\"#DejaVuSans-61\" x=\"279.736328\"/>\n       <use xlink:href=\"#DejaVuSans-74\" x=\"341.015625\"/>\n       <use xlink:href=\"#DejaVuSans-68\" x=\"380.224609\"/>\n       <use xlink:href=\"#DejaVuSans-73\" x=\"443.603516\"/>\n      </g>\n     </g>\n    </g>\n   </g>\n   <g id=\"line2d_254\">\n    <path clip-path=\"url(#p37afe5aad8)\" style=\"fill: none; stroke: #424242; stroke-width: 2.7; stroke-linecap: square\"/>\n   </g>\n   <g id=\"line2d_255\">\n    <path clip-path=\"url(#p37afe5aad8)\" style=\"fill: none; stroke: #424242; stroke-width: 2.7; stroke-linecap: square\"/>\n   </g>\n   <g id=\"line2d_256\">\n    <path clip-path=\"url(#p37afe5aad8)\" style=\"fill: none; stroke: #424242; stroke-width: 2.7; stroke-linecap: square\"/>\n   </g>\n   <g id=\"line2d_257\">\n    <path clip-path=\"url(#p37afe5aad8)\" style=\"fill: none; stroke: #424242; stroke-width: 2.7; stroke-linecap: square\"/>\n   </g>\n   <g id=\"line2d_258\">\n    <path clip-path=\"url(#p37afe5aad8)\" style=\"fill: none; stroke: #424242; stroke-width: 2.7; stroke-linecap: square\"/>\n   </g>\n   <g id=\"line2d_259\">\n    <path clip-path=\"url(#p37afe5aad8)\" style=\"fill: none; stroke: #424242; stroke-width: 2.7; stroke-linecap: square\"/>\n   </g>\n   <g id=\"line2d_260\">\n    <path clip-path=\"url(#p37afe5aad8)\" style=\"fill: none; stroke: #424242; stroke-width: 2.7; stroke-linecap: square\"/>\n   </g>\n   <g id=\"line2d_261\">\n    <path clip-path=\"url(#p37afe5aad8)\" style=\"fill: none; stroke: #424242; stroke-width: 2.7; stroke-linecap: square\"/>\n   </g>\n   <g id=\"line2d_262\">\n    <path clip-path=\"url(#p37afe5aad8)\" style=\"fill: none; stroke: #424242; stroke-width: 2.7; stroke-linecap: square\"/>\n   </g>\n   <g id=\"line2d_263\">\n    <path clip-path=\"url(#p37afe5aad8)\" style=\"fill: none; stroke: #424242; stroke-width: 2.7; stroke-linecap: square\"/>\n   </g>\n   <g id=\"line2d_264\">\n    <path clip-path=\"url(#p37afe5aad8)\" style=\"fill: none; stroke: #424242; stroke-width: 2.7; stroke-linecap: square\"/>\n   </g>\n   <g id=\"line2d_265\">\n    <path clip-path=\"url(#p37afe5aad8)\" style=\"fill: none; stroke: #424242; stroke-width: 2.7; stroke-linecap: square\"/>\n   </g>\n   <g id=\"line2d_266\">\n    <path clip-path=\"url(#p37afe5aad8)\" style=\"fill: none; stroke: #424242; stroke-width: 2.7; stroke-linecap: square\"/>\n   </g>\n   <g id=\"line2d_267\">\n    <path clip-path=\"url(#p37afe5aad8)\" style=\"fill: none; stroke: #424242; stroke-width: 2.7; stroke-linecap: square\"/>\n   </g>\n   <g id=\"line2d_268\">\n    <path clip-path=\"url(#p37afe5aad8)\" style=\"fill: none; stroke: #424242; stroke-width: 2.7; stroke-linecap: square\"/>\n   </g>\n   <g id=\"line2d_269\">\n    <path clip-path=\"url(#p37afe5aad8)\" style=\"fill: none; stroke: #424242; stroke-width: 2.7; stroke-linecap: square\"/>\n   </g>\n   <g id=\"line2d_270\">\n    <path clip-path=\"url(#p37afe5aad8)\" style=\"fill: none; stroke: #424242; stroke-width: 2.7; stroke-linecap: square\"/>\n   </g>\n   <g id=\"line2d_271\">\n    <path clip-path=\"url(#p37afe5aad8)\" style=\"fill: none; stroke: #424242; stroke-width: 2.7; stroke-linecap: square\"/>\n   </g>\n   <g id=\"line2d_272\">\n    <path clip-path=\"url(#p37afe5aad8)\" style=\"fill: none; stroke: #424242; stroke-width: 2.7; stroke-linecap: square\"/>\n   </g>\n   <g id=\"line2d_273\">\n    <path clip-path=\"url(#p37afe5aad8)\" style=\"fill: none; stroke: #424242; stroke-width: 2.7; stroke-linecap: square\"/>\n   </g>\n   <g id=\"line2d_274\">\n    <path clip-path=\"url(#p37afe5aad8)\" style=\"fill: none; stroke: #424242; stroke-width: 2.7; stroke-linecap: square\"/>\n   </g>\n   <g id=\"line2d_275\">\n    <path clip-path=\"url(#p37afe5aad8)\" style=\"fill: none; stroke: #424242; stroke-width: 2.7; stroke-linecap: square\"/>\n   </g>\n   <g id=\"line2d_276\">\n    <path clip-path=\"url(#p37afe5aad8)\" style=\"fill: none; stroke: #424242; stroke-width: 2.7; stroke-linecap: square\"/>\n   </g>\n   <g id=\"line2d_277\">\n    <path clip-path=\"url(#p37afe5aad8)\" style=\"fill: none; stroke: #424242; stroke-width: 2.7; stroke-linecap: square\"/>\n   </g>\n   <g id=\"line2d_278\">\n    <path clip-path=\"url(#p37afe5aad8)\" style=\"fill: none; stroke: #424242; stroke-width: 2.7; stroke-linecap: square\"/>\n   </g>\n   <g id=\"line2d_279\">\n    <path clip-path=\"url(#p37afe5aad8)\" style=\"fill: none; stroke: #424242; stroke-width: 2.7; stroke-linecap: square\"/>\n   </g>\n   <g id=\"line2d_280\">\n    <path clip-path=\"url(#p37afe5aad8)\" style=\"fill: none; stroke: #424242; stroke-width: 2.7; stroke-linecap: square\"/>\n   </g>\n   <g id=\"line2d_281\">\n    <path clip-path=\"url(#p37afe5aad8)\" style=\"fill: none; stroke: #424242; stroke-width: 2.7; stroke-linecap: square\"/>\n   </g>\n   <g id=\"line2d_282\">\n    <path clip-path=\"url(#p37afe5aad8)\" style=\"fill: none; stroke: #424242; stroke-width: 2.7; stroke-linecap: square\"/>\n   </g>\n   <g id=\"line2d_283\">\n    <path clip-path=\"url(#p37afe5aad8)\" style=\"fill: none; stroke: #424242; stroke-width: 2.7; stroke-linecap: square\"/>\n   </g>\n   <g id=\"line2d_284\">\n    <path clip-path=\"url(#p37afe5aad8)\" style=\"fill: none; stroke: #424242; stroke-width: 2.7; stroke-linecap: square\"/>\n   </g>\n   <g id=\"line2d_285\">\n    <path clip-path=\"url(#p37afe5aad8)\" style=\"fill: none; stroke: #424242; stroke-width: 2.7; stroke-linecap: square\"/>\n   </g>\n   <g id=\"line2d_286\">\n    <path clip-path=\"url(#p37afe5aad8)\" style=\"fill: none; stroke: #424242; stroke-width: 2.7; stroke-linecap: square\"/>\n   </g>\n   <g id=\"line2d_287\">\n    <path clip-path=\"url(#p37afe5aad8)\" style=\"fill: none; stroke: #424242; stroke-width: 2.7; stroke-linecap: square\"/>\n   </g>\n   <g id=\"line2d_288\">\n    <path clip-path=\"url(#p37afe5aad8)\" style=\"fill: none; stroke: #424242; stroke-width: 2.7; stroke-linecap: square\"/>\n   </g>\n   <g id=\"line2d_289\">\n    <path clip-path=\"url(#p37afe5aad8)\" style=\"fill: none; stroke: #424242; stroke-width: 2.7; stroke-linecap: square\"/>\n   </g>\n   <g id=\"line2d_290\">\n    <path clip-path=\"url(#p37afe5aad8)\" style=\"fill: none; stroke: #424242; stroke-width: 2.7; stroke-linecap: square\"/>\n   </g>\n   <g id=\"line2d_291\">\n    <path clip-path=\"url(#p37afe5aad8)\" style=\"fill: none; stroke: #424242; stroke-width: 2.7; stroke-linecap: square\"/>\n   </g>\n   <g id=\"line2d_292\">\n    <path clip-path=\"url(#p37afe5aad8)\" style=\"fill: none; stroke: #424242; stroke-width: 2.7; stroke-linecap: square\"/>\n   </g>\n   <g id=\"line2d_293\">\n    <path clip-path=\"url(#p37afe5aad8)\" style=\"fill: none; stroke: #424242; stroke-width: 2.7; stroke-linecap: square\"/>\n   </g>\n   <g id=\"line2d_294\">\n    <path clip-path=\"url(#p37afe5aad8)\" style=\"fill: none; stroke: #424242; stroke-width: 2.7; stroke-linecap: square\"/>\n   </g>\n   <g id=\"line2d_295\">\n    <path clip-path=\"url(#p37afe5aad8)\" style=\"fill: none; stroke: #424242; stroke-width: 2.7; stroke-linecap: square\"/>\n   </g>\n   <g id=\"line2d_296\">\n    <path clip-path=\"url(#p37afe5aad8)\" style=\"fill: none; stroke: #424242; stroke-width: 2.7; stroke-linecap: square\"/>\n   </g>\n   <g id=\"line2d_297\">\n    <path clip-path=\"url(#p37afe5aad8)\" style=\"fill: none; stroke: #424242; stroke-width: 2.7; stroke-linecap: square\"/>\n   </g>\n   <g id=\"line2d_298\">\n    <path clip-path=\"url(#p37afe5aad8)\" style=\"fill: none; stroke: #424242; stroke-width: 2.7; stroke-linecap: square\"/>\n   </g>\n   <g id=\"line2d_299\">\n    <path clip-path=\"url(#p37afe5aad8)\" style=\"fill: none; stroke: #424242; stroke-width: 2.7; stroke-linecap: square\"/>\n   </g>\n   <g id=\"line2d_300\">\n    <path clip-path=\"url(#p37afe5aad8)\" style=\"fill: none; stroke: #424242; stroke-width: 2.7; stroke-linecap: square\"/>\n   </g>\n   <g id=\"line2d_301\">\n    <path clip-path=\"url(#p37afe5aad8)\" style=\"fill: none; stroke: #424242; stroke-width: 2.7; stroke-linecap: square\"/>\n   </g>\n   <g id=\"line2d_302\">\n    <path clip-path=\"url(#p37afe5aad8)\" style=\"fill: none; stroke: #424242; stroke-width: 2.7; stroke-linecap: square\"/>\n   </g>\n   <g id=\"line2d_303\">\n    <path clip-path=\"url(#p37afe5aad8)\" style=\"fill: none; stroke: #424242; stroke-width: 2.7; stroke-linecap: square\"/>\n   </g>\n   <g id=\"line2d_304\">\n    <path clip-path=\"url(#p37afe5aad8)\" style=\"fill: none; stroke: #424242; stroke-width: 2.7; stroke-linecap: square\"/>\n   </g>\n   <g id=\"line2d_305\">\n    <path clip-path=\"url(#p37afe5aad8)\" style=\"fill: none; stroke: #424242; stroke-width: 2.7; stroke-linecap: square\"/>\n   </g>\n   <g id=\"line2d_306\">\n    <path clip-path=\"url(#p37afe5aad8)\" style=\"fill: none; stroke: #424242; stroke-width: 2.7; stroke-linecap: square\"/>\n   </g>\n   <g id=\"line2d_307\">\n    <path clip-path=\"url(#p37afe5aad8)\" style=\"fill: none; stroke: #424242; stroke-width: 2.7; stroke-linecap: square\"/>\n   </g>\n   <g id=\"line2d_308\">\n    <path clip-path=\"url(#p37afe5aad8)\" style=\"fill: none; stroke: #424242; stroke-width: 2.7; stroke-linecap: square\"/>\n   </g>\n   <g id=\"line2d_309\">\n    <path clip-path=\"url(#p37afe5aad8)\" style=\"fill: none; stroke: #424242; stroke-width: 2.7; stroke-linecap: square\"/>\n   </g>\n   <g id=\"line2d_310\">\n    <path clip-path=\"url(#p37afe5aad8)\" style=\"fill: none; stroke: #424242; stroke-width: 2.7; stroke-linecap: square\"/>\n   </g>\n   <g id=\"line2d_311\">\n    <path clip-path=\"url(#p37afe5aad8)\" style=\"fill: none; stroke: #424242; stroke-width: 2.7; stroke-linecap: square\"/>\n   </g>\n   <g id=\"line2d_312\">\n    <path clip-path=\"url(#p37afe5aad8)\" style=\"fill: none; stroke: #424242; stroke-width: 2.7; stroke-linecap: square\"/>\n   </g>\n   <g id=\"line2d_313\">\n    <path clip-path=\"url(#p37afe5aad8)\" style=\"fill: none; stroke: #424242; stroke-width: 2.7; stroke-linecap: square\"/>\n   </g>\n   <g id=\"line2d_314\">\n    <path clip-path=\"url(#p37afe5aad8)\" style=\"fill: none; stroke: #424242; stroke-width: 2.7; stroke-linecap: square\"/>\n   </g>\n   <g id=\"line2d_315\">\n    <path clip-path=\"url(#p37afe5aad8)\" style=\"fill: none; stroke: #424242; stroke-width: 2.7; stroke-linecap: square\"/>\n   </g>\n   <g id=\"line2d_316\">\n    <path clip-path=\"url(#p37afe5aad8)\" style=\"fill: none; stroke: #424242; stroke-width: 2.7; stroke-linecap: square\"/>\n   </g>\n   <g id=\"line2d_317\">\n    <path clip-path=\"url(#p37afe5aad8)\" style=\"fill: none; stroke: #424242; stroke-width: 2.7; stroke-linecap: square\"/>\n   </g>\n   <g id=\"line2d_318\">\n    <path clip-path=\"url(#p37afe5aad8)\" style=\"fill: none; stroke: #424242; stroke-width: 2.7; stroke-linecap: square\"/>\n   </g>\n   <g id=\"line2d_319\">\n    <path clip-path=\"url(#p37afe5aad8)\" style=\"fill: none; stroke: #424242; stroke-width: 2.7; stroke-linecap: square\"/>\n   </g>\n   <g id=\"line2d_320\">\n    <path clip-path=\"url(#p37afe5aad8)\" style=\"fill: none; stroke: #424242; stroke-width: 2.7; stroke-linecap: square\"/>\n   </g>\n   <g id=\"line2d_321\">\n    <path clip-path=\"url(#p37afe5aad8)\" style=\"fill: none; stroke: #424242; stroke-width: 2.7; stroke-linecap: square\"/>\n   </g>\n   <g id=\"line2d_322\">\n    <path clip-path=\"url(#p37afe5aad8)\" style=\"fill: none; stroke: #424242; stroke-width: 2.7; stroke-linecap: square\"/>\n   </g>\n   <g id=\"line2d_323\">\n    <path clip-path=\"url(#p37afe5aad8)\" style=\"fill: none; stroke: #424242; stroke-width: 2.7; stroke-linecap: square\"/>\n   </g>\n   <g id=\"line2d_324\">\n    <path clip-path=\"url(#p37afe5aad8)\" style=\"fill: none; stroke: #424242; stroke-width: 2.7; stroke-linecap: square\"/>\n   </g>\n   <g id=\"line2d_325\">\n    <path clip-path=\"url(#p37afe5aad8)\" style=\"fill: none; stroke: #424242; stroke-width: 2.7; stroke-linecap: square\"/>\n   </g>\n   <g id=\"line2d_326\">\n    <path clip-path=\"url(#p37afe5aad8)\" style=\"fill: none; stroke: #424242; stroke-width: 2.7; stroke-linecap: square\"/>\n   </g>\n   <g id=\"line2d_327\">\n    <path clip-path=\"url(#p37afe5aad8)\" style=\"fill: none; stroke: #424242; stroke-width: 2.7; stroke-linecap: square\"/>\n   </g>\n   <g id=\"line2d_328\">\n    <path clip-path=\"url(#p37afe5aad8)\" style=\"fill: none; stroke: #424242; stroke-width: 2.7; stroke-linecap: square\"/>\n   </g>\n   <g id=\"line2d_329\">\n    <path clip-path=\"url(#p37afe5aad8)\" style=\"fill: none; stroke: #424242; stroke-width: 2.7; stroke-linecap: square\"/>\n   </g>\n   <g id=\"line2d_330\">\n    <path clip-path=\"url(#p37afe5aad8)\" style=\"fill: none; stroke: #424242; stroke-width: 2.7; stroke-linecap: square\"/>\n   </g>\n   <g id=\"line2d_331\">\n    <path clip-path=\"url(#p37afe5aad8)\" style=\"fill: none; stroke: #424242; stroke-width: 2.7; stroke-linecap: square\"/>\n   </g>\n   <g id=\"line2d_332\">\n    <path clip-path=\"url(#p37afe5aad8)\" style=\"fill: none; stroke: #424242; stroke-width: 2.7; stroke-linecap: square\"/>\n   </g>\n   <g id=\"line2d_333\">\n    <path clip-path=\"url(#p37afe5aad8)\" style=\"fill: none; stroke: #424242; stroke-width: 2.7; stroke-linecap: square\"/>\n   </g>\n   <g id=\"line2d_334\">\n    <path clip-path=\"url(#p37afe5aad8)\" style=\"fill: none; stroke: #424242; stroke-width: 2.7; stroke-linecap: square\"/>\n   </g>\n   <g id=\"line2d_335\">\n    <path clip-path=\"url(#p37afe5aad8)\" style=\"fill: none; stroke: #424242; stroke-width: 2.7; stroke-linecap: square\"/>\n   </g>\n   <g id=\"line2d_336\">\n    <path clip-path=\"url(#p37afe5aad8)\" style=\"fill: none; stroke: #424242; stroke-width: 2.7; stroke-linecap: square\"/>\n   </g>\n   <g id=\"line2d_337\">\n    <path clip-path=\"url(#p37afe5aad8)\" style=\"fill: none; stroke: #424242; stroke-width: 2.7; stroke-linecap: square\"/>\n   </g>\n   <g id=\"line2d_338\">\n    <path clip-path=\"url(#p37afe5aad8)\" style=\"fill: none; stroke: #424242; stroke-width: 2.7; stroke-linecap: square\"/>\n   </g>\n   <g id=\"line2d_339\">\n    <path clip-path=\"url(#p37afe5aad8)\" style=\"fill: none; stroke: #424242; stroke-width: 2.7; stroke-linecap: square\"/>\n   </g>\n   <g id=\"line2d_340\">\n    <path clip-path=\"url(#p37afe5aad8)\" style=\"fill: none; stroke: #424242; stroke-width: 2.7; stroke-linecap: square\"/>\n   </g>\n   <g id=\"line2d_341\">\n    <path clip-path=\"url(#p37afe5aad8)\" style=\"fill: none; stroke: #424242; stroke-width: 2.7; stroke-linecap: square\"/>\n   </g>\n   <g id=\"line2d_342\">\n    <path clip-path=\"url(#p37afe5aad8)\" style=\"fill: none; stroke: #424242; stroke-width: 2.7; stroke-linecap: square\"/>\n   </g>\n   <g id=\"line2d_343\">\n    <path clip-path=\"url(#p37afe5aad8)\" style=\"fill: none; stroke: #424242; stroke-width: 2.7; stroke-linecap: square\"/>\n   </g>\n   <g id=\"line2d_344\">\n    <path clip-path=\"url(#p37afe5aad8)\" style=\"fill: none; stroke: #424242; stroke-width: 2.7; stroke-linecap: square\"/>\n   </g>\n   <g id=\"line2d_345\">\n    <path clip-path=\"url(#p37afe5aad8)\" style=\"fill: none; stroke: #424242; stroke-width: 2.7; stroke-linecap: square\"/>\n   </g>\n   <g id=\"line2d_346\">\n    <path clip-path=\"url(#p37afe5aad8)\" style=\"fill: none; stroke: #424242; stroke-width: 2.7; stroke-linecap: square\"/>\n   </g>\n   <g id=\"line2d_347\">\n    <path clip-path=\"url(#p37afe5aad8)\" style=\"fill: none; stroke: #424242; stroke-width: 2.7; stroke-linecap: square\"/>\n   </g>\n   <g id=\"line2d_348\">\n    <path clip-path=\"url(#p37afe5aad8)\" style=\"fill: none; stroke: #424242; stroke-width: 2.7; stroke-linecap: square\"/>\n   </g>\n   <g id=\"line2d_349\">\n    <path clip-path=\"url(#p37afe5aad8)\" style=\"fill: none; stroke: #424242; stroke-width: 2.7; stroke-linecap: square\"/>\n   </g>\n   <g id=\"line2d_350\">\n    <path clip-path=\"url(#p37afe5aad8)\" style=\"fill: none; stroke: #424242; stroke-width: 2.7; stroke-linecap: square\"/>\n   </g>\n   <g id=\"line2d_351\">\n    <path clip-path=\"url(#p37afe5aad8)\" style=\"fill: none; stroke: #424242; stroke-width: 2.7; stroke-linecap: square\"/>\n   </g>\n   <g id=\"line2d_352\">\n    <path clip-path=\"url(#p37afe5aad8)\" style=\"fill: none; stroke: #424242; stroke-width: 2.7; stroke-linecap: square\"/>\n   </g>\n   <g id=\"line2d_353\">\n    <path clip-path=\"url(#p37afe5aad8)\" style=\"fill: none; stroke: #424242; stroke-width: 2.7; stroke-linecap: square\"/>\n   </g>\n   <g id=\"line2d_354\">\n    <path clip-path=\"url(#p37afe5aad8)\" style=\"fill: none; stroke: #424242; stroke-width: 2.7; stroke-linecap: square\"/>\n   </g>\n   <g id=\"line2d_355\">\n    <path clip-path=\"url(#p37afe5aad8)\" style=\"fill: none; stroke: #424242; stroke-width: 2.7; stroke-linecap: square\"/>\n   </g>\n   <g id=\"line2d_356\">\n    <path clip-path=\"url(#p37afe5aad8)\" style=\"fill: none; stroke: #424242; stroke-width: 2.7; stroke-linecap: square\"/>\n   </g>\n   <g id=\"line2d_357\">\n    <path clip-path=\"url(#p37afe5aad8)\" style=\"fill: none; stroke: #424242; stroke-width: 2.7; stroke-linecap: square\"/>\n   </g>\n   <g id=\"line2d_358\">\n    <path clip-path=\"url(#p37afe5aad8)\" style=\"fill: none; stroke: #424242; stroke-width: 2.7; stroke-linecap: square\"/>\n   </g>\n   <g id=\"line2d_359\">\n    <path clip-path=\"url(#p37afe5aad8)\" style=\"fill: none; stroke: #424242; stroke-width: 2.7; stroke-linecap: square\"/>\n   </g>\n   <g id=\"line2d_360\">\n    <path clip-path=\"url(#p37afe5aad8)\" style=\"fill: none; stroke: #424242; stroke-width: 2.7; stroke-linecap: square\"/>\n   </g>\n   <g id=\"line2d_361\">\n    <path clip-path=\"url(#p37afe5aad8)\" style=\"fill: none; stroke: #424242; stroke-width: 2.7; stroke-linecap: square\"/>\n   </g>\n   <g id=\"line2d_362\">\n    <path clip-path=\"url(#p37afe5aad8)\" style=\"fill: none; stroke: #424242; stroke-width: 2.7; stroke-linecap: square\"/>\n   </g>\n   <g id=\"line2d_363\">\n    <path clip-path=\"url(#p37afe5aad8)\" style=\"fill: none; stroke: #424242; stroke-width: 2.7; stroke-linecap: square\"/>\n   </g>\n   <g id=\"line2d_364\">\n    <path clip-path=\"url(#p37afe5aad8)\" style=\"fill: none; stroke: #424242; stroke-width: 2.7; stroke-linecap: square\"/>\n   </g>\n   <g id=\"line2d_365\">\n    <path clip-path=\"url(#p37afe5aad8)\" style=\"fill: none; stroke: #424242; stroke-width: 2.7; stroke-linecap: square\"/>\n   </g>\n   <g id=\"line2d_366\">\n    <path clip-path=\"url(#p37afe5aad8)\" style=\"fill: none; stroke: #424242; stroke-width: 2.7; stroke-linecap: square\"/>\n   </g>\n   <g id=\"line2d_367\">\n    <path clip-path=\"url(#p37afe5aad8)\" style=\"fill: none; stroke: #424242; stroke-width: 2.7; stroke-linecap: square\"/>\n   </g>\n   <g id=\"line2d_368\">\n    <path clip-path=\"url(#p37afe5aad8)\" style=\"fill: none; stroke: #424242; stroke-width: 2.7; stroke-linecap: square\"/>\n   </g>\n   <g id=\"line2d_369\">\n    <path clip-path=\"url(#p37afe5aad8)\" style=\"fill: none; stroke: #424242; stroke-width: 2.7; stroke-linecap: square\"/>\n   </g>\n   <g id=\"line2d_370\">\n    <path clip-path=\"url(#p37afe5aad8)\" style=\"fill: none; stroke: #424242; stroke-width: 2.7; stroke-linecap: square\"/>\n   </g>\n   <g id=\"line2d_371\">\n    <path clip-path=\"url(#p37afe5aad8)\" style=\"fill: none; stroke: #424242; stroke-width: 2.7; stroke-linecap: square\"/>\n   </g>\n   <g id=\"line2d_372\">\n    <path clip-path=\"url(#p37afe5aad8)\" style=\"fill: none; stroke: #424242; stroke-width: 2.7; stroke-linecap: square\"/>\n   </g>\n   <g id=\"line2d_373\">\n    <path clip-path=\"url(#p37afe5aad8)\" style=\"fill: none; stroke: #424242; stroke-width: 2.7; stroke-linecap: square\"/>\n   </g>\n   <g id=\"line2d_374\">\n    <path clip-path=\"url(#p37afe5aad8)\" style=\"fill: none; stroke: #424242; stroke-width: 2.7; stroke-linecap: square\"/>\n   </g>\n   <g id=\"line2d_375\">\n    <path clip-path=\"url(#p37afe5aad8)\" style=\"fill: none; stroke: #424242; stroke-width: 2.7; stroke-linecap: square\"/>\n   </g>\n   <g id=\"line2d_376\">\n    <path clip-path=\"url(#p37afe5aad8)\" style=\"fill: none; stroke: #424242; stroke-width: 2.7; stroke-linecap: square\"/>\n   </g>\n   <g id=\"line2d_377\">\n    <path clip-path=\"url(#p37afe5aad8)\" style=\"fill: none; stroke: #424242; stroke-width: 2.7; stroke-linecap: square\"/>\n   </g>\n   <g id=\"line2d_378\">\n    <path clip-path=\"url(#p37afe5aad8)\" style=\"fill: none; stroke: #424242; stroke-width: 2.7; stroke-linecap: square\"/>\n   </g>\n   <g id=\"line2d_379\">\n    <path clip-path=\"url(#p37afe5aad8)\" style=\"fill: none; stroke: #424242; stroke-width: 2.7; stroke-linecap: square\"/>\n   </g>\n   <g id=\"line2d_380\">\n    <path clip-path=\"url(#p37afe5aad8)\" style=\"fill: none; stroke: #424242; stroke-width: 2.7; stroke-linecap: square\"/>\n   </g>\n   <g id=\"line2d_381\">\n    <path clip-path=\"url(#p37afe5aad8)\" style=\"fill: none; stroke: #424242; stroke-width: 2.7; stroke-linecap: square\"/>\n   </g>\n   <g id=\"line2d_382\">\n    <path clip-path=\"url(#p37afe5aad8)\" style=\"fill: none; stroke: #424242; stroke-width: 2.7; stroke-linecap: square\"/>\n   </g>\n   <g id=\"line2d_383\">\n    <path clip-path=\"url(#p37afe5aad8)\" style=\"fill: none; stroke: #424242; stroke-width: 2.7; stroke-linecap: square\"/>\n   </g>\n   <g id=\"line2d_384\">\n    <path clip-path=\"url(#p37afe5aad8)\" style=\"fill: none; stroke: #424242; stroke-width: 2.7; stroke-linecap: square\"/>\n   </g>\n   <g id=\"line2d_385\">\n    <path clip-path=\"url(#p37afe5aad8)\" style=\"fill: none; stroke: #424242; stroke-width: 2.7; stroke-linecap: square\"/>\n   </g>\n   <g id=\"line2d_386\">\n    <path clip-path=\"url(#p37afe5aad8)\" style=\"fill: none; stroke: #424242; stroke-width: 2.7; stroke-linecap: square\"/>\n   </g>\n   <g id=\"line2d_387\">\n    <path clip-path=\"url(#p37afe5aad8)\" style=\"fill: none; stroke: #424242; stroke-width: 2.7; stroke-linecap: square\"/>\n   </g>\n   <g id=\"line2d_388\">\n    <path clip-path=\"url(#p37afe5aad8)\" style=\"fill: none; stroke: #424242; stroke-width: 2.7; stroke-linecap: square\"/>\n   </g>\n   <g id=\"line2d_389\">\n    <path clip-path=\"url(#p37afe5aad8)\" style=\"fill: none; stroke: #424242; stroke-width: 2.7; stroke-linecap: square\"/>\n   </g>\n   <g id=\"line2d_390\">\n    <path clip-path=\"url(#p37afe5aad8)\" style=\"fill: none; stroke: #424242; stroke-width: 2.7; stroke-linecap: square\"/>\n   </g>\n   <g id=\"line2d_391\">\n    <path clip-path=\"url(#p37afe5aad8)\" style=\"fill: none; stroke: #424242; stroke-width: 2.7; stroke-linecap: square\"/>\n   </g>\n   <g id=\"line2d_392\">\n    <path clip-path=\"url(#p37afe5aad8)\" style=\"fill: none; stroke: #424242; stroke-width: 2.7; stroke-linecap: square\"/>\n   </g>\n   <g id=\"line2d_393\">\n    <path clip-path=\"url(#p37afe5aad8)\" style=\"fill: none; stroke: #424242; stroke-width: 2.7; stroke-linecap: square\"/>\n   </g>\n   <g id=\"line2d_394\">\n    <path clip-path=\"url(#p37afe5aad8)\" style=\"fill: none; stroke: #424242; stroke-width: 2.7; stroke-linecap: square\"/>\n   </g>\n   <g id=\"line2d_395\">\n    <path clip-path=\"url(#p37afe5aad8)\" style=\"fill: none; stroke: #424242; stroke-width: 2.7; stroke-linecap: square\"/>\n   </g>\n   <g id=\"line2d_396\">\n    <path clip-path=\"url(#p37afe5aad8)\" style=\"fill: none; stroke: #424242; stroke-width: 2.7; stroke-linecap: square\"/>\n   </g>\n   <g id=\"line2d_397\">\n    <path clip-path=\"url(#p37afe5aad8)\" style=\"fill: none; stroke: #424242; stroke-width: 2.7; stroke-linecap: square\"/>\n   </g>\n   <g id=\"line2d_398\">\n    <path clip-path=\"url(#p37afe5aad8)\" style=\"fill: none; stroke: #424242; stroke-width: 2.7; stroke-linecap: square\"/>\n   </g>\n   <g id=\"line2d_399\">\n    <path clip-path=\"url(#p37afe5aad8)\" style=\"fill: none; stroke: #424242; stroke-width: 2.7; stroke-linecap: square\"/>\n   </g>\n   <g id=\"line2d_400\">\n    <path clip-path=\"url(#p37afe5aad8)\" style=\"fill: none; stroke: #424242; stroke-width: 2.7; stroke-linecap: square\"/>\n   </g>\n   <g id=\"line2d_401\">\n    <path clip-path=\"url(#p37afe5aad8)\" style=\"fill: none; stroke: #424242; stroke-width: 2.7; stroke-linecap: square\"/>\n   </g>\n   <g id=\"line2d_402\">\n    <path clip-path=\"url(#p37afe5aad8)\" style=\"fill: none; stroke: #424242; stroke-width: 2.7; stroke-linecap: square\"/>\n   </g>\n   <g id=\"line2d_403\">\n    <path clip-path=\"url(#p37afe5aad8)\" style=\"fill: none; stroke: #424242; stroke-width: 2.7; stroke-linecap: square\"/>\n   </g>\n   <g id=\"line2d_404\">\n    <path clip-path=\"url(#p37afe5aad8)\" style=\"fill: none; stroke: #424242; stroke-width: 2.7; stroke-linecap: square\"/>\n   </g>\n   <g id=\"line2d_405\">\n    <path clip-path=\"url(#p37afe5aad8)\" style=\"fill: none; stroke: #424242; stroke-width: 2.7; stroke-linecap: square\"/>\n   </g>\n   <g id=\"line2d_406\">\n    <path clip-path=\"url(#p37afe5aad8)\" style=\"fill: none; stroke: #424242; stroke-width: 2.7; stroke-linecap: square\"/>\n   </g>\n   <g id=\"line2d_407\">\n    <path clip-path=\"url(#p37afe5aad8)\" style=\"fill: none; stroke: #424242; stroke-width: 2.7; stroke-linecap: square\"/>\n   </g>\n   <g id=\"line2d_408\">\n    <path clip-path=\"url(#p37afe5aad8)\" style=\"fill: none; stroke: #424242; stroke-width: 2.7; stroke-linecap: square\"/>\n   </g>\n   <g id=\"line2d_409\">\n    <path clip-path=\"url(#p37afe5aad8)\" style=\"fill: none; stroke: #424242; stroke-width: 2.7; stroke-linecap: square\"/>\n   </g>\n   <g id=\"line2d_410\">\n    <path clip-path=\"url(#p37afe5aad8)\" style=\"fill: none; stroke: #424242; stroke-width: 2.7; stroke-linecap: square\"/>\n   </g>\n   <g id=\"line2d_411\">\n    <path clip-path=\"url(#p37afe5aad8)\" style=\"fill: none; stroke: #424242; stroke-width: 2.7; stroke-linecap: square\"/>\n   </g>\n   <g id=\"line2d_412\">\n    <path clip-path=\"url(#p37afe5aad8)\" style=\"fill: none; stroke: #424242; stroke-width: 2.7; stroke-linecap: square\"/>\n   </g>\n   <g id=\"line2d_413\">\n    <path clip-path=\"url(#p37afe5aad8)\" style=\"fill: none; stroke: #424242; stroke-width: 2.7; stroke-linecap: square\"/>\n   </g>\n   <g id=\"line2d_414\">\n    <path clip-path=\"url(#p37afe5aad8)\" style=\"fill: none; stroke: #424242; stroke-width: 2.7; stroke-linecap: square\"/>\n   </g>\n   <g id=\"line2d_415\">\n    <path clip-path=\"url(#p37afe5aad8)\" style=\"fill: none; stroke: #424242; stroke-width: 2.7; stroke-linecap: square\"/>\n   </g>\n   <g id=\"line2d_416\">\n    <path clip-path=\"url(#p37afe5aad8)\" style=\"fill: none; stroke: #424242; stroke-width: 2.7; stroke-linecap: square\"/>\n   </g>\n   <g id=\"line2d_417\">\n    <path clip-path=\"url(#p37afe5aad8)\" style=\"fill: none; stroke: #424242; stroke-width: 2.7; stroke-linecap: square\"/>\n   </g>\n   <g id=\"line2d_418\">\n    <path clip-path=\"url(#p37afe5aad8)\" style=\"fill: none; stroke: #424242; stroke-width: 2.7; stroke-linecap: square\"/>\n   </g>\n   <g id=\"line2d_419\">\n    <path clip-path=\"url(#p37afe5aad8)\" style=\"fill: none; stroke: #424242; stroke-width: 2.7; stroke-linecap: square\"/>\n   </g>\n   <g id=\"line2d_420\">\n    <path clip-path=\"url(#p37afe5aad8)\" style=\"fill: none; stroke: #424242; stroke-width: 2.7; stroke-linecap: square\"/>\n   </g>\n   <g id=\"line2d_421\">\n    <path clip-path=\"url(#p37afe5aad8)\" style=\"fill: none; stroke: #424242; stroke-width: 2.7; stroke-linecap: square\"/>\n   </g>\n   <g id=\"line2d_422\">\n    <path clip-path=\"url(#p37afe5aad8)\" style=\"fill: none; stroke: #424242; stroke-width: 2.7; stroke-linecap: square\"/>\n   </g>\n   <g id=\"line2d_423\">\n    <path clip-path=\"url(#p37afe5aad8)\" style=\"fill: none; stroke: #424242; stroke-width: 2.7; stroke-linecap: square\"/>\n   </g>\n   <g id=\"line2d_424\">\n    <path clip-path=\"url(#p37afe5aad8)\" style=\"fill: none; stroke: #424242; stroke-width: 2.7; stroke-linecap: square\"/>\n   </g>\n   <g id=\"line2d_425\">\n    <path clip-path=\"url(#p37afe5aad8)\" style=\"fill: none; stroke: #424242; stroke-width: 2.7; stroke-linecap: square\"/>\n   </g>\n   <g id=\"line2d_426\">\n    <path clip-path=\"url(#p37afe5aad8)\" style=\"fill: none; stroke: #424242; stroke-width: 2.7; stroke-linecap: square\"/>\n   </g>\n   <g id=\"line2d_427\">\n    <path clip-path=\"url(#p37afe5aad8)\" style=\"fill: none; stroke: #424242; stroke-width: 2.7; stroke-linecap: square\"/>\n   </g>\n   <g id=\"line2d_428\">\n    <path clip-path=\"url(#p37afe5aad8)\" style=\"fill: none; stroke: #424242; stroke-width: 2.7; stroke-linecap: square\"/>\n   </g>\n   <g id=\"line2d_429\">\n    <path clip-path=\"url(#p37afe5aad8)\" style=\"fill: none; stroke: #424242; stroke-width: 2.7; stroke-linecap: square\"/>\n   </g>\n   <g id=\"line2d_430\">\n    <path clip-path=\"url(#p37afe5aad8)\" style=\"fill: none; stroke: #424242; stroke-width: 2.7; stroke-linecap: square\"/>\n   </g>\n   <g id=\"line2d_431\">\n    <path clip-path=\"url(#p37afe5aad8)\" style=\"fill: none; stroke: #424242; stroke-width: 2.7; stroke-linecap: square\"/>\n   </g>\n   <g id=\"line2d_432\">\n    <path clip-path=\"url(#p37afe5aad8)\" style=\"fill: none; stroke: #424242; stroke-width: 2.7; stroke-linecap: square\"/>\n   </g>\n   <g id=\"line2d_433\">\n    <path clip-path=\"url(#p37afe5aad8)\" style=\"fill: none; stroke: #424242; stroke-width: 2.7; stroke-linecap: square\"/>\n   </g>\n   <g id=\"line2d_434\">\n    <path clip-path=\"url(#p37afe5aad8)\" style=\"fill: none; stroke: #424242; stroke-width: 2.7; stroke-linecap: square\"/>\n   </g>\n   <g id=\"line2d_435\">\n    <path clip-path=\"url(#p37afe5aad8)\" style=\"fill: none; stroke: #424242; stroke-width: 2.7; stroke-linecap: square\"/>\n   </g>\n   <g id=\"line2d_436\">\n    <path clip-path=\"url(#p37afe5aad8)\" style=\"fill: none; stroke: #424242; stroke-width: 2.7; stroke-linecap: square\"/>\n   </g>\n   <g id=\"line2d_437\">\n    <path clip-path=\"url(#p37afe5aad8)\" style=\"fill: none; stroke: #424242; stroke-width: 2.7; stroke-linecap: square\"/>\n   </g>\n   <g id=\"line2d_438\">\n    <path clip-path=\"url(#p37afe5aad8)\" style=\"fill: none; stroke: #424242; stroke-width: 2.7; stroke-linecap: square\"/>\n   </g>\n   <g id=\"line2d_439\">\n    <path clip-path=\"url(#p37afe5aad8)\" style=\"fill: none; stroke: #424242; stroke-width: 2.7; stroke-linecap: square\"/>\n   </g>\n   <g id=\"line2d_440\">\n    <path clip-path=\"url(#p37afe5aad8)\" style=\"fill: none; stroke: #424242; stroke-width: 2.7; stroke-linecap: square\"/>\n   </g>\n   <g id=\"line2d_441\">\n    <path clip-path=\"url(#p37afe5aad8)\" style=\"fill: none; stroke: #424242; stroke-width: 2.7; stroke-linecap: square\"/>\n   </g>\n   <g id=\"line2d_442\">\n    <path clip-path=\"url(#p37afe5aad8)\" style=\"fill: none; stroke: #424242; stroke-width: 2.7; stroke-linecap: square\"/>\n   </g>\n   <g id=\"line2d_443\">\n    <path clip-path=\"url(#p37afe5aad8)\" style=\"fill: none; stroke: #424242; stroke-width: 2.7; stroke-linecap: square\"/>\n   </g>\n   <g id=\"line2d_444\">\n    <path clip-path=\"url(#p37afe5aad8)\" style=\"fill: none; stroke: #424242; stroke-width: 2.7; stroke-linecap: square\"/>\n   </g>\n   <g id=\"line2d_445\">\n    <path clip-path=\"url(#p37afe5aad8)\" style=\"fill: none; stroke: #424242; stroke-width: 2.7; stroke-linecap: square\"/>\n   </g>\n   <g id=\"line2d_446\">\n    <path clip-path=\"url(#p37afe5aad8)\" style=\"fill: none; stroke: #424242; stroke-width: 2.7; stroke-linecap: square\"/>\n   </g>\n   <g id=\"line2d_447\">\n    <path clip-path=\"url(#p37afe5aad8)\" style=\"fill: none; stroke: #424242; stroke-width: 2.7; stroke-linecap: square\"/>\n   </g>\n   <g id=\"line2d_448\">\n    <path clip-path=\"url(#p37afe5aad8)\" style=\"fill: none; stroke: #424242; stroke-width: 2.7; stroke-linecap: square\"/>\n   </g>\n   <g id=\"line2d_449\">\n    <path clip-path=\"url(#p37afe5aad8)\" style=\"fill: none; stroke: #424242; stroke-width: 2.7; stroke-linecap: square\"/>\n   </g>\n   <g id=\"line2d_450\">\n    <path clip-path=\"url(#p37afe5aad8)\" style=\"fill: none; stroke: #424242; stroke-width: 2.7; stroke-linecap: square\"/>\n   </g>\n   <g id=\"line2d_451\">\n    <path clip-path=\"url(#p37afe5aad8)\" style=\"fill: none; stroke: #424242; stroke-width: 2.7; stroke-linecap: square\"/>\n   </g>\n   <g id=\"line2d_452\">\n    <path clip-path=\"url(#p37afe5aad8)\" style=\"fill: none; stroke: #424242; stroke-width: 2.7; stroke-linecap: square\"/>\n   </g>\n   <g id=\"line2d_453\">\n    <path clip-path=\"url(#p37afe5aad8)\" style=\"fill: none; stroke: #424242; stroke-width: 2.7; stroke-linecap: square\"/>\n   </g>\n   <g id=\"line2d_454\">\n    <path clip-path=\"url(#p37afe5aad8)\" style=\"fill: none; stroke: #424242; stroke-width: 2.7; stroke-linecap: square\"/>\n   </g>\n   <g id=\"line2d_455\">\n    <path clip-path=\"url(#p37afe5aad8)\" style=\"fill: none; stroke: #424242; stroke-width: 2.7; stroke-linecap: square\"/>\n   </g>\n   <g id=\"line2d_456\">\n    <path clip-path=\"url(#p37afe5aad8)\" style=\"fill: none; stroke: #424242; stroke-width: 2.7; stroke-linecap: square\"/>\n   </g>\n   <g id=\"line2d_457\">\n    <path clip-path=\"url(#p37afe5aad8)\" style=\"fill: none; stroke: #424242; stroke-width: 2.7; stroke-linecap: square\"/>\n   </g>\n   <g id=\"line2d_458\">\n    <path clip-path=\"url(#p37afe5aad8)\" style=\"fill: none; stroke: #424242; stroke-width: 2.7; stroke-linecap: square\"/>\n   </g>\n   <g id=\"line2d_459\">\n    <path clip-path=\"url(#p37afe5aad8)\" style=\"fill: none; stroke: #424242; stroke-width: 2.7; stroke-linecap: square\"/>\n   </g>\n   <g id=\"line2d_460\">\n    <path clip-path=\"url(#p37afe5aad8)\" style=\"fill: none; stroke: #424242; stroke-width: 2.7; stroke-linecap: square\"/>\n   </g>\n   <g id=\"line2d_461\">\n    <path clip-path=\"url(#p37afe5aad8)\" style=\"fill: none; stroke: #424242; stroke-width: 2.7; stroke-linecap: square\"/>\n   </g>\n   <g id=\"line2d_462\">\n    <path clip-path=\"url(#p37afe5aad8)\" style=\"fill: none; stroke: #424242; stroke-width: 2.7; stroke-linecap: square\"/>\n   </g>\n   <g id=\"line2d_463\">\n    <path clip-path=\"url(#p37afe5aad8)\" style=\"fill: none; stroke: #424242; stroke-width: 2.7; stroke-linecap: square\"/>\n   </g>\n   <g id=\"line2d_464\">\n    <path clip-path=\"url(#p37afe5aad8)\" style=\"fill: none; stroke: #424242; stroke-width: 2.7; stroke-linecap: square\"/>\n   </g>\n   <g id=\"line2d_465\">\n    <path clip-path=\"url(#p37afe5aad8)\" style=\"fill: none; stroke: #424242; stroke-width: 2.7; stroke-linecap: square\"/>\n   </g>\n   <g id=\"line2d_466\">\n    <path clip-path=\"url(#p37afe5aad8)\" style=\"fill: none; stroke: #424242; stroke-width: 2.7; stroke-linecap: square\"/>\n   </g>\n   <g id=\"line2d_467\">\n    <path clip-path=\"url(#p37afe5aad8)\" style=\"fill: none; stroke: #424242; stroke-width: 2.7; stroke-linecap: square\"/>\n   </g>\n   <g id=\"line2d_468\">\n    <path clip-path=\"url(#p37afe5aad8)\" style=\"fill: none; stroke: #424242; stroke-width: 2.7; stroke-linecap: square\"/>\n   </g>\n   <g id=\"line2d_469\">\n    <path clip-path=\"url(#p37afe5aad8)\" style=\"fill: none; stroke: #424242; stroke-width: 2.7; stroke-linecap: square\"/>\n   </g>\n   <g id=\"line2d_470\">\n    <path clip-path=\"url(#p37afe5aad8)\" style=\"fill: none; stroke: #424242; stroke-width: 2.7; stroke-linecap: square\"/>\n   </g>\n   <g id=\"line2d_471\">\n    <path clip-path=\"url(#p37afe5aad8)\" style=\"fill: none; stroke: #424242; stroke-width: 2.7; stroke-linecap: square\"/>\n   </g>\n   <g id=\"line2d_472\">\n    <path clip-path=\"url(#p37afe5aad8)\" style=\"fill: none; stroke: #424242; stroke-width: 2.7; stroke-linecap: square\"/>\n   </g>\n   <g id=\"line2d_473\">\n    <path clip-path=\"url(#p37afe5aad8)\" style=\"fill: none; stroke: #424242; stroke-width: 2.7; stroke-linecap: square\"/>\n   </g>\n   <g id=\"line2d_474\">\n    <path clip-path=\"url(#p37afe5aad8)\" style=\"fill: none; stroke: #424242; stroke-width: 2.7; stroke-linecap: square\"/>\n   </g>\n   <g id=\"line2d_475\">\n    <path clip-path=\"url(#p37afe5aad8)\" style=\"fill: none; stroke: #424242; stroke-width: 2.7; stroke-linecap: square\"/>\n   </g>\n   <g id=\"line2d_476\">\n    <path clip-path=\"url(#p37afe5aad8)\" style=\"fill: none; stroke: #424242; stroke-width: 2.7; stroke-linecap: square\"/>\n   </g>\n   <g id=\"line2d_477\">\n    <path clip-path=\"url(#p37afe5aad8)\" style=\"fill: none; stroke: #424242; stroke-width: 2.7; stroke-linecap: square\"/>\n   </g>\n   <g id=\"line2d_478\">\n    <path clip-path=\"url(#p37afe5aad8)\" style=\"fill: none; stroke: #424242; stroke-width: 2.7; stroke-linecap: square\"/>\n   </g>\n   <g id=\"line2d_479\">\n    <path clip-path=\"url(#p37afe5aad8)\" style=\"fill: none; stroke: #424242; stroke-width: 2.7; stroke-linecap: square\"/>\n   </g>\n   <g id=\"line2d_480\">\n    <path clip-path=\"url(#p37afe5aad8)\" style=\"fill: none; stroke: #424242; stroke-width: 2.7; stroke-linecap: square\"/>\n   </g>\n   <g id=\"line2d_481\">\n    <path clip-path=\"url(#p37afe5aad8)\" style=\"fill: none; stroke: #424242; stroke-width: 2.7; stroke-linecap: square\"/>\n   </g>\n   <g id=\"line2d_482\">\n    <path clip-path=\"url(#p37afe5aad8)\" style=\"fill: none; stroke: #424242; stroke-width: 2.7; stroke-linecap: square\"/>\n   </g>\n   <g id=\"line2d_483\">\n    <path clip-path=\"url(#p37afe5aad8)\" style=\"fill: none; stroke: #424242; stroke-width: 2.7; stroke-linecap: square\"/>\n   </g>\n   <g id=\"line2d_484\">\n    <path clip-path=\"url(#p37afe5aad8)\" style=\"fill: none; stroke: #424242; stroke-width: 2.7; stroke-linecap: square\"/>\n   </g>\n   <g id=\"line2d_485\">\n    <path clip-path=\"url(#p37afe5aad8)\" style=\"fill: none; stroke: #424242; stroke-width: 2.7; stroke-linecap: square\"/>\n   </g>\n   <g id=\"line2d_486\">\n    <path clip-path=\"url(#p37afe5aad8)\" style=\"fill: none; stroke: #424242; stroke-width: 2.7; stroke-linecap: square\"/>\n   </g>\n   <g id=\"line2d_487\">\n    <path clip-path=\"url(#p37afe5aad8)\" style=\"fill: none; stroke: #424242; stroke-width: 2.7; stroke-linecap: square\"/>\n   </g>\n   <g id=\"line2d_488\">\n    <path clip-path=\"url(#p37afe5aad8)\" style=\"fill: none; stroke: #424242; stroke-width: 2.7; stroke-linecap: square\"/>\n   </g>\n   <g id=\"line2d_489\">\n    <path clip-path=\"url(#p37afe5aad8)\" style=\"fill: none; stroke: #424242; stroke-width: 2.7; stroke-linecap: square\"/>\n   </g>\n   <g id=\"line2d_490\">\n    <path clip-path=\"url(#p37afe5aad8)\" style=\"fill: none; stroke: #424242; stroke-width: 2.7; stroke-linecap: square\"/>\n   </g>\n   <g id=\"line2d_491\">\n    <path clip-path=\"url(#p37afe5aad8)\" style=\"fill: none; stroke: #424242; stroke-width: 2.7; stroke-linecap: square\"/>\n   </g>\n   <g id=\"line2d_492\">\n    <path clip-path=\"url(#p37afe5aad8)\" style=\"fill: none; stroke: #424242; stroke-width: 2.7; stroke-linecap: square\"/>\n   </g>\n   <g id=\"line2d_493\">\n    <path clip-path=\"url(#p37afe5aad8)\" style=\"fill: none; stroke: #424242; stroke-width: 2.7; stroke-linecap: square\"/>\n   </g>\n   <g id=\"line2d_494\">\n    <path clip-path=\"url(#p37afe5aad8)\" style=\"fill: none; stroke: #424242; stroke-width: 2.7; stroke-linecap: square\"/>\n   </g>\n   <g id=\"line2d_495\">\n    <path clip-path=\"url(#p37afe5aad8)\" style=\"fill: none; stroke: #424242; stroke-width: 2.7; stroke-linecap: square\"/>\n   </g>\n   <g id=\"line2d_496\">\n    <path clip-path=\"url(#p37afe5aad8)\" style=\"fill: none; stroke: #424242; stroke-width: 2.7; stroke-linecap: square\"/>\n   </g>\n   <g id=\"line2d_497\">\n    <path clip-path=\"url(#p37afe5aad8)\" style=\"fill: none; stroke: #424242; stroke-width: 2.7; stroke-linecap: square\"/>\n   </g>\n   <g id=\"line2d_498\">\n    <path clip-path=\"url(#p37afe5aad8)\" style=\"fill: none; stroke: #424242; stroke-width: 2.7; stroke-linecap: square\"/>\n   </g>\n   <g id=\"patch_248\">\n    <path d=\"M 148.951562 465.838125 \nL 148.951562 22.318125 \n\" style=\"fill: none; stroke: #000000; stroke-width: 0.8; stroke-linejoin: miter; stroke-linecap: square\"/>\n   </g>\n   <g id=\"patch_249\">\n    <path d=\"M 706.951563 465.838125 \nL 706.951563 22.318125 \n\" style=\"fill: none; stroke: #000000; stroke-width: 0.8; stroke-linejoin: miter; stroke-linecap: square\"/>\n   </g>\n   <g id=\"patch_250\">\n    <path d=\"M 148.951562 465.838125 \nL 706.951562 465.838125 \n\" style=\"fill: none; stroke: #000000; stroke-width: 0.8; stroke-linejoin: miter; stroke-linecap: square\"/>\n   </g>\n   <g id=\"patch_251\">\n    <path d=\"M 148.951562 22.318125 \nL 706.951562 22.318125 \n\" style=\"fill: none; stroke: #000000; stroke-width: 0.8; stroke-linejoin: miter; stroke-linecap: square\"/>\n   </g>\n   <g id=\"text_254\">\n    <!-- Correlation with target variable -->\n    <g transform=\"translate(333.97 16.318125) scale(0.12 -0.12)\">\n     <defs>\n      <path id=\"DejaVuSans-43\" d=\"M 4122 4306 \nL 4122 3641 \nQ 3803 3938 3442 4084 \nQ 3081 4231 2675 4231 \nQ 1875 4231 1450 3742 \nQ 1025 3253 1025 2328 \nQ 1025 1406 1450 917 \nQ 1875 428 2675 428 \nQ 3081 428 3442 575 \nQ 3803 722 4122 1019 \nL 4122 359 \nQ 3791 134 3420 21 \nQ 3050 -91 2638 -91 \nQ 1578 -91 968 557 \nQ 359 1206 359 2328 \nQ 359 3453 968 4101 \nQ 1578 4750 2638 4750 \nQ 3056 4750 3426 4639 \nQ 3797 4528 4122 4306 \nz\n\" transform=\"scale(0.015625)\"/>\n      <path id=\"DejaVuSans-20\" transform=\"scale(0.015625)\"/>\n     </defs>\n     <use xlink:href=\"#DejaVuSans-43\"/>\n     <use xlink:href=\"#DejaVuSans-6f\" x=\"69.824219\"/>\n     <use xlink:href=\"#DejaVuSans-72\" x=\"131.005859\"/>\n     <use xlink:href=\"#DejaVuSans-72\" x=\"170.369141\"/>\n     <use xlink:href=\"#DejaVuSans-65\" x=\"209.232422\"/>\n     <use xlink:href=\"#DejaVuSans-6c\" x=\"270.755859\"/>\n     <use xlink:href=\"#DejaVuSans-61\" x=\"298.539062\"/>\n     <use xlink:href=\"#DejaVuSans-74\" x=\"359.818359\"/>\n     <use xlink:href=\"#DejaVuSans-69\" x=\"399.027344\"/>\n     <use xlink:href=\"#DejaVuSans-6f\" x=\"426.810547\"/>\n     <use xlink:href=\"#DejaVuSans-6e\" x=\"487.992188\"/>\n     <use xlink:href=\"#DejaVuSans-20\" x=\"551.371094\"/>\n     <use xlink:href=\"#DejaVuSans-77\" x=\"583.158203\"/>\n     <use xlink:href=\"#DejaVuSans-69\" x=\"664.945312\"/>\n     <use xlink:href=\"#DejaVuSans-74\" x=\"692.728516\"/>\n     <use xlink:href=\"#DejaVuSans-68\" x=\"731.9375\"/>\n     <use xlink:href=\"#DejaVuSans-20\" x=\"795.316406\"/>\n     <use xlink:href=\"#DejaVuSans-74\" x=\"827.103516\"/>\n     <use xlink:href=\"#DejaVuSans-61\" x=\"866.3125\"/>\n     <use xlink:href=\"#DejaVuSans-72\" x=\"927.591797\"/>\n     <use xlink:href=\"#DejaVuSans-67\" x=\"966.955078\"/>\n     <use xlink:href=\"#DejaVuSans-65\" x=\"1030.431641\"/>\n     <use xlink:href=\"#DejaVuSans-74\" x=\"1091.955078\"/>\n     <use xlink:href=\"#DejaVuSans-20\" x=\"1131.164062\"/>\n     <use xlink:href=\"#DejaVuSans-76\" x=\"1162.951172\"/>\n     <use xlink:href=\"#DejaVuSans-61\" x=\"1222.130859\"/>\n     <use xlink:href=\"#DejaVuSans-72\" x=\"1283.410156\"/>\n     <use xlink:href=\"#DejaVuSans-69\" x=\"1324.523438\"/>\n     <use xlink:href=\"#DejaVuSans-61\" x=\"1352.306641\"/>\n     <use xlink:href=\"#DejaVuSans-62\" x=\"1413.585938\"/>\n     <use xlink:href=\"#DejaVuSans-6c\" x=\"1477.0625\"/>\n     <use xlink:href=\"#DejaVuSans-65\" x=\"1504.845703\"/>\n    </g>\n   </g>\n  </g>\n </g>\n <defs>\n  <clipPath id=\"p37afe5aad8\">\n   <rect x=\"148.951562\" y=\"22.318125\" width=\"558\" height=\"443.52\"/>\n  </clipPath>\n </defs>\n</svg>\n",
            "text/plain": [
              "<Figure size 1000x800 with 1 Axes>"
            ]
          },
          "metadata": {},
          "output_type": "display_data"
        }
      ],
      "source": [
        "# Корреляция с целевой переменной\n",
        "\n",
        "features = train_df.columns.tolist()\n",
        "concatenated = train_df.copy()\n",
        "concatenated[\"target\"] = train_target_only\n",
        "\n",
        "corr_with_target = concatenated[features + [\"target\"]].corr().iloc[:-1, -1].sort_values(ascending=False)\n",
        "\n",
        "plt.figure(figsize=(10, 8))\n",
        "\n",
        "sns.barplot(x=corr_with_target.values, y=corr_with_target.index)\n",
        "\n",
        "plt.title('Correlation with target variable')\n",
        "plt.show()"
      ],
      "id": "GEpigayovtOO"
    },
    {
      "cell_type": "code",
      "execution_count": null,
      "metadata": {
        "colab": {
          "base_uri": "https://localhost:8080/"
        },
        "id": "9P5XArgBz4J0",
        "outputId": "0b6498dd-cb0e-420a-fe9d-f7bcbff6b6f9"
      },
      "outputs": [
        {
          "name": "stdout",
          "output_type": "stream",
          "text": [
            "Correlation matrix is : \n",
            "                            game_time  game_mode  lobby_type  objectives_len  \\\n",
            "game_time                    1.000000  -0.013263    0.057378        0.886073   \n",
            "game_mode                   -0.013263   1.000000    0.353861        0.004395   \n",
            "lobby_type                   0.057378   0.353861    1.000000        0.014690   \n",
            "objectives_len               0.886073   0.004395    0.014690        1.000000   \n",
            "chat_len                     0.283910   0.005311    0.011804        0.281166   \n",
            "...                               ...        ...         ...             ...   \n",
            "d5_teamfight_participation   0.330493   0.010808    0.044376        0.280463   \n",
            "d5_towers_killed             0.390061  -0.002994    0.012943        0.413313   \n",
            "d5_roshans_killed            0.204402  -0.008178    0.014456        0.233635   \n",
            "d5_obs_placed                0.332175   0.026224    0.066734        0.299340   \n",
            "d5_sen_placed                0.303428   0.038678    0.065137        0.288331   \n",
            "\n",
            "                            chat_len  r1_hero_id  r1_kills  r1_deaths  \\\n",
            "game_time                   0.283910   -0.006175  0.634671   0.747182   \n",
            "game_mode                   0.005311   -0.018432 -0.010706  -0.006413   \n",
            "lobby_type                  0.011804    0.001995  0.020168   0.029938   \n",
            "objectives_len              0.281166    0.001500  0.593056   0.690292   \n",
            "chat_len                    1.000000   -0.005908  0.211918   0.241428   \n",
            "...                              ...         ...       ...        ...   \n",
            "d5_teamfight_participation  0.073464    0.015069  0.207266   0.247254   \n",
            "d5_towers_killed            0.134196   -0.000709  0.218312   0.353027   \n",
            "d5_roshans_killed           0.060728    0.004682  0.121310   0.170588   \n",
            "d5_obs_placed               0.072811    0.006306  0.204694   0.244855   \n",
            "d5_sen_placed               0.065125   -0.001709  0.199104   0.214614   \n",
            "\n",
            "                            r1_assists  r1_denies  ...  d5_stuns  \\\n",
            "game_time                     0.764302   0.270558  ...  0.457366   \n",
            "game_mode                     0.008766   0.016962  ...  0.005005   \n",
            "lobby_type                    0.052357   0.085037  ...  0.037157   \n",
            "objectives_len                0.727780   0.206152  ...  0.428361   \n",
            "chat_len                      0.200244   0.062158  ...  0.116619   \n",
            "...                                ...        ...  ...       ...   \n",
            "d5_teamfight_participation    0.249957   0.130991  ...  0.228756   \n",
            "d5_towers_killed              0.271284   0.080266  ...  0.094118   \n",
            "d5_roshans_killed             0.153461   0.053996  ...  0.045924   \n",
            "d5_obs_placed                 0.254371   0.100823  ...  0.357470   \n",
            "d5_sen_placed                 0.244368   0.088452  ...  0.290976   \n",
            "\n",
            "                            d5_creeps_stacked  d5_camps_stacked  \\\n",
            "game_time                            0.160282          0.201993   \n",
            "game_mode                            0.018098          0.014899   \n",
            "lobby_type                           0.063828          0.063749   \n",
            "objectives_len                       0.127995          0.163888   \n",
            "chat_len                             0.027607          0.040284   \n",
            "...                                       ...               ...   \n",
            "d5_teamfight_participation           0.047918          0.051897   \n",
            "d5_towers_killed                     0.021755          0.048959   \n",
            "d5_roshans_killed                    0.016317          0.033291   \n",
            "d5_obs_placed                        0.220778          0.209024   \n",
            "d5_sen_placed                        0.182929          0.174939   \n",
            "\n",
            "                            d5_rune_pickups  d5_firstblood_claimed  \\\n",
            "game_time                          0.646350               0.025343   \n",
            "game_mode                         -0.012904              -0.001258   \n",
            "lobby_type                         0.044306               0.015877   \n",
            "objectives_len                     0.558180               0.021040   \n",
            "chat_len                           0.180259              -0.000628   \n",
            "...                                     ...                    ...   \n",
            "d5_teamfight_participation         0.229784               0.214380   \n",
            "d5_towers_killed                   0.241397               0.016530   \n",
            "d5_roshans_killed                  0.151305               0.012273   \n",
            "d5_obs_placed                      0.285289               0.033137   \n",
            "d5_sen_placed                      0.213073               0.024823   \n",
            "\n",
            "                            d5_teamfight_participation  d5_towers_killed  \\\n",
            "game_time                                     0.330493          0.390061   \n",
            "game_mode                                     0.010808         -0.002994   \n",
            "lobby_type                                    0.044376          0.012943   \n",
            "objectives_len                                0.280463          0.413313   \n",
            "chat_len                                      0.073464          0.134196   \n",
            "...                                                ...               ...   \n",
            "d5_teamfight_participation                    1.000000          0.124746   \n",
            "d5_towers_killed                              0.124746          1.000000   \n",
            "d5_roshans_killed                             0.061568          0.260413   \n",
            "d5_obs_placed                                 0.141799         -0.039854   \n",
            "d5_sen_placed                                 0.115851         -0.020681   \n",
            "\n",
            "                            d5_roshans_killed  d5_obs_placed  d5_sen_placed  \n",
            "game_time                            0.204402       0.332175       0.303428  \n",
            "game_mode                           -0.008178       0.026224       0.038678  \n",
            "lobby_type                           0.014456       0.066734       0.065137  \n",
            "objectives_len                       0.233635       0.299340       0.288331  \n",
            "chat_len                             0.060728       0.072811       0.065125  \n",
            "...                                       ...            ...            ...  \n",
            "d5_teamfight_participation           0.061568       0.141799       0.115851  \n",
            "d5_towers_killed                     0.260413      -0.039854      -0.020681  \n",
            "d5_roshans_killed                    1.000000      -0.036929      -0.022748  \n",
            "d5_obs_placed                       -0.036929       1.000000       0.710328  \n",
            "d5_sen_placed                       -0.022748       0.710328       1.000000  \n",
            "\n",
            "[245 rows x 245 columns]\n"
          ]
        }
      ],
      "source": [
        "matrix = train_df.corr()\n",
        "print(\"Correlation matrix is : \")\n",
        "print(matrix)"
      ],
      "id": "9P5XArgBz4J0"
    },
    {
      "cell_type": "markdown",
      "source": [
        "## Генерация признаков"
      ],
      "metadata": {
        "id": "M8pz0ckdpT_c"
      },
      "id": "M8pz0ckdpT_c"
    },
    {
      "cell_type": "markdown",
      "source": [
        "Среда перезапускается при попытках работать с файлами json, содержащими сырые данные с дополнительными фичами."
      ],
      "metadata": {
        "id": "vj1YmGcVLruQ"
      },
      "id": "vj1YmGcVLruQ"
    },
    {
      "cell_type": "markdown",
      "metadata": {
        "id": "fe347449"
      },
      "source": [
        "## Разбиение на train и test"
      ],
      "id": "fe347449"
    },
    {
      "cell_type": "code",
      "execution_count": null,
      "metadata": {
        "id": "41f9bd4d"
      },
      "outputs": [],
      "source": [
        "X_train, X_valid, y_train, y_valid = train_test_split(train_df[quantative_features], train_target[\"radiant_win\"], test_size=0.3,shuffle=True, random_state=42)"
      ],
      "id": "41f9bd4d"
    },
    {
      "cell_type": "markdown",
      "metadata": {
        "id": "7bda1b08"
      },
      "source": [
        "## Построение модели"
      ],
      "id": "7bda1b08"
    },
    {
      "cell_type": "code",
      "execution_count": null,
      "metadata": {
        "id": "8yrtyVqR7GgY"
      },
      "outputs": [],
      "source": [
        "def get_classification_report(y_train_true, y_train_pred, y_test_true, y_test_pred):\n",
        "    print('TRAIN\\n\\n' + classification_report(y_train_true, y_train_pred))\n",
        "    print('TEST\\n\\n' + classification_report(y_test_true, y_test_pred))\n",
        "    print('CONFUSION MATRIX\\n')\n",
        "    print(pd.crosstab(y_test_true, y_test_pred))"
      ],
      "id": "8yrtyVqR7GgY"
    },
    {
      "cell_type": "markdown",
      "metadata": {
        "id": "VfY318fM614D"
      },
      "source": [
        "**RandomForestClassifier**"
      ],
      "id": "VfY318fM614D"
    },
    {
      "cell_type": "markdown",
      "metadata": {
        "id": "R7OSpXH16uqN"
      },
      "source": [
        "С помощью GridSearchCV для RandomForestClassifier найдем оптимальные значения параметров n_estimators, max_depth, max_features."
      ],
      "id": "R7OSpXH16uqN"
    },
    {
      "cell_type": "code",
      "execution_count": null,
      "metadata": {
        "id": "-d0VKAwtLUQV"
      },
      "outputs": [],
      "source": [
        "max_depths = [None] + list(np.arange(3, 21))"
      ],
      "id": "-d0VKAwtLUQV"
    },
    {
      "cell_type": "code",
      "execution_count": null,
      "metadata": {
        "colab": {
          "background_save": true
        },
        "id": "U6kZ-DZc6oIB",
        "outputId": "41e75553-1c09-43fb-abe6-cfb32500ba34"
      },
      "outputs": [
        {
          "data": {
            "text/plain": [
              "{'max_depth': None, 'n_estimators': 500}"
            ]
          },
          "execution_count": 18,
          "metadata": {},
          "output_type": "execute_result"
        }
      ],
      "source": [
        "parameters = [{'n_estimators': [50, 100, 250, 300, 350, 400, 450, 500], \n",
        "               'max_depth': max_depths}]\n",
        "clf = GridSearchCV(estimator=RandomForestClassifier(random_state=42), param_grid=parameters, cv=5)\n",
        "clf.fit(X_train, y_train)\n",
        "clf.best_params_"
      ],
      "id": "U6kZ-DZc6oIB"
    },
    {
      "cell_type": "code",
      "execution_count": null,
      "metadata": {
        "id": "242f0d0c",
        "outputId": "b81dc954-0a89-4d40-c2e6-54e7c97dee1b",
        "colab": {
          "base_uri": "https://localhost:8080/"
        }
      },
      "outputs": [
        {
          "output_type": "stream",
          "name": "stdout",
          "text": [
            "ROC AUC для тренировочной выборки: 1.0.\n",
            "ROC AUC для тестовой выборки: 0.6964306653719559\n"
          ]
        }
      ],
      "source": [
        "clf = RandomForestClassifier(n_estimators=500, random_state=42)\n",
        "clf.fit(X_train, y_train)\n",
        "y_train_pred = clf.predict(X_train)\n",
        "y_valid_pred = clf.predict(X_valid)\n",
        "RA_valid = roc_auc_score(y_valid, y_valid_pred)\n",
        "RA_train = roc_auc_score(y_train, y_train_pred)\n",
        "print(f\"ROC AUC для тренировочной выборки: {RA_train}.\\nROC AUC для тестовой выборки: {RA_valid}\")"
      ],
      "id": "242f0d0c"
    },
    {
      "cell_type": "code",
      "source": [
        "get_classification_report(y_train, y_train_pred, y_valid, y_valid_pred)"
      ],
      "metadata": {
        "colab": {
          "base_uri": "https://localhost:8080/"
        },
        "id": "vlR00okWEQy6",
        "outputId": "dcc78718-34c1-430e-b404-3baad4b65aa6"
      },
      "id": "vlR00okWEQy6",
      "execution_count": null,
      "outputs": [
        {
          "output_type": "stream",
          "name": "stdout",
          "text": [
            "TRAIN\n",
            "\n",
            "              precision    recall  f1-score   support\n",
            "\n",
            "       False       1.00      1.00      1.00     10440\n",
            "        True       1.00      1.00      1.00     11748\n",
            "\n",
            "    accuracy                           1.00     22188\n",
            "   macro avg       1.00      1.00      1.00     22188\n",
            "weighted avg       1.00      1.00      1.00     22188\n",
            "\n",
            "TEST\n",
            "\n",
            "              precision    recall  f1-score   support\n",
            "\n",
            "       False       0.74      0.58      0.65      4588\n",
            "        True       0.68      0.81      0.74      4922\n",
            "\n",
            "    accuracy                           0.70      9510\n",
            "   macro avg       0.71      0.70      0.69      9510\n",
            "weighted avg       0.71      0.70      0.70      9510\n",
            "\n",
            "CONFUSION MATRIX\n",
            "\n",
            "col_0        False  True\n",
            "radiant_win             \n",
            "False         2674  1914\n",
            "True           935  3987\n"
          ]
        }
      ]
    },
    {
      "cell_type": "code",
      "execution_count": null,
      "metadata": {
        "id": "4e5c4d1b",
        "outputId": "472454ec-6785-4ac1-885f-245a1554cd05",
        "colab": {
          "base_uri": "https://localhost:8080/"
        }
      },
      "outputs": [
        {
          "output_type": "stream",
          "name": "stdout",
          "text": [
            "cv_score: [0.78657936 0.78902746 0.78149683], cv_score.mean():0.7857012203588954\n"
          ]
        }
      ],
      "source": [
        "# кросс-валидация\n",
        "\n",
        "cv_score = cross_val_score(clf, X_train, y_train, scoring='roc_auc', cv=KFold(n_splits=3, shuffle=True, random_state=42))\n",
        "print(f\"cv_score: {cv_score}, cv_score.mean():{cv_score.mean()}\")"
      ],
      "id": "4e5c4d1b"
    },
    {
      "cell_type": "code",
      "execution_count": null,
      "metadata": {
        "id": "03f278bf",
        "outputId": "89b05d58-1430-43b8-9df6-5a5a503b6059",
        "colab": {
          "base_uri": "https://localhost:8080/",
          "height": 424
        }
      },
      "outputs": [
        {
          "output_type": "execute_result",
          "data": {
            "text/plain": [
              "          feature_name  importance\n",
              "18                r1_y    0.013012\n",
              "90                r4_y    0.012427\n",
              "42                r2_y    0.012112\n",
              "65                r3_x    0.011836\n",
              "66                r3_y    0.011763\n",
              "..                 ...         ...\n",
              "26   r1_roshans_killed    0.000154\n",
              "146  d1_roshans_killed    0.000152\n",
              "170  d2_roshans_killed    0.000148\n",
              "218  d4_roshans_killed    0.000144\n",
              "242  d5_roshans_killed    0.000126\n",
              "\n",
              "[245 rows x 2 columns]"
            ],
            "text/html": [
              "\n",
              "  <div id=\"df-b0693bf1-3239-41a1-b3d9-ab15e652bfc8\">\n",
              "    <div class=\"colab-df-container\">\n",
              "      <div>\n",
              "<style scoped>\n",
              "    .dataframe tbody tr th:only-of-type {\n",
              "        vertical-align: middle;\n",
              "    }\n",
              "\n",
              "    .dataframe tbody tr th {\n",
              "        vertical-align: top;\n",
              "    }\n",
              "\n",
              "    .dataframe thead th {\n",
              "        text-align: right;\n",
              "    }\n",
              "</style>\n",
              "<table border=\"1\" class=\"dataframe\">\n",
              "  <thead>\n",
              "    <tr style=\"text-align: right;\">\n",
              "      <th></th>\n",
              "      <th>feature_name</th>\n",
              "      <th>importance</th>\n",
              "    </tr>\n",
              "  </thead>\n",
              "  <tbody>\n",
              "    <tr>\n",
              "      <th>18</th>\n",
              "      <td>r1_y</td>\n",
              "      <td>0.013012</td>\n",
              "    </tr>\n",
              "    <tr>\n",
              "      <th>90</th>\n",
              "      <td>r4_y</td>\n",
              "      <td>0.012427</td>\n",
              "    </tr>\n",
              "    <tr>\n",
              "      <th>42</th>\n",
              "      <td>r2_y</td>\n",
              "      <td>0.012112</td>\n",
              "    </tr>\n",
              "    <tr>\n",
              "      <th>65</th>\n",
              "      <td>r3_x</td>\n",
              "      <td>0.011836</td>\n",
              "    </tr>\n",
              "    <tr>\n",
              "      <th>66</th>\n",
              "      <td>r3_y</td>\n",
              "      <td>0.011763</td>\n",
              "    </tr>\n",
              "    <tr>\n",
              "      <th>...</th>\n",
              "      <td>...</td>\n",
              "      <td>...</td>\n",
              "    </tr>\n",
              "    <tr>\n",
              "      <th>26</th>\n",
              "      <td>r1_roshans_killed</td>\n",
              "      <td>0.000154</td>\n",
              "    </tr>\n",
              "    <tr>\n",
              "      <th>146</th>\n",
              "      <td>d1_roshans_killed</td>\n",
              "      <td>0.000152</td>\n",
              "    </tr>\n",
              "    <tr>\n",
              "      <th>170</th>\n",
              "      <td>d2_roshans_killed</td>\n",
              "      <td>0.000148</td>\n",
              "    </tr>\n",
              "    <tr>\n",
              "      <th>218</th>\n",
              "      <td>d4_roshans_killed</td>\n",
              "      <td>0.000144</td>\n",
              "    </tr>\n",
              "    <tr>\n",
              "      <th>242</th>\n",
              "      <td>d5_roshans_killed</td>\n",
              "      <td>0.000126</td>\n",
              "    </tr>\n",
              "  </tbody>\n",
              "</table>\n",
              "<p>245 rows × 2 columns</p>\n",
              "</div>\n",
              "      <button class=\"colab-df-convert\" onclick=\"convertToInteractive('df-b0693bf1-3239-41a1-b3d9-ab15e652bfc8')\"\n",
              "              title=\"Convert this dataframe to an interactive table.\"\n",
              "              style=\"display:none;\">\n",
              "        \n",
              "  <svg xmlns=\"http://www.w3.org/2000/svg\" height=\"24px\"viewBox=\"0 0 24 24\"\n",
              "       width=\"24px\">\n",
              "    <path d=\"M0 0h24v24H0V0z\" fill=\"none\"/>\n",
              "    <path d=\"M18.56 5.44l.94 2.06.94-2.06 2.06-.94-2.06-.94-.94-2.06-.94 2.06-2.06.94zm-11 1L8.5 8.5l.94-2.06 2.06-.94-2.06-.94L8.5 2.5l-.94 2.06-2.06.94zm10 10l.94 2.06.94-2.06 2.06-.94-2.06-.94-.94-2.06-.94 2.06-2.06.94z\"/><path d=\"M17.41 7.96l-1.37-1.37c-.4-.4-.92-.59-1.43-.59-.52 0-1.04.2-1.43.59L10.3 9.45l-7.72 7.72c-.78.78-.78 2.05 0 2.83L4 21.41c.39.39.9.59 1.41.59.51 0 1.02-.2 1.41-.59l7.78-7.78 2.81-2.81c.8-.78.8-2.07 0-2.86zM5.41 20L4 18.59l7.72-7.72 1.47 1.35L5.41 20z\"/>\n",
              "  </svg>\n",
              "      </button>\n",
              "      \n",
              "  <style>\n",
              "    .colab-df-container {\n",
              "      display:flex;\n",
              "      flex-wrap:wrap;\n",
              "      gap: 12px;\n",
              "    }\n",
              "\n",
              "    .colab-df-convert {\n",
              "      background-color: #E8F0FE;\n",
              "      border: none;\n",
              "      border-radius: 50%;\n",
              "      cursor: pointer;\n",
              "      display: none;\n",
              "      fill: #1967D2;\n",
              "      height: 32px;\n",
              "      padding: 0 0 0 0;\n",
              "      width: 32px;\n",
              "    }\n",
              "\n",
              "    .colab-df-convert:hover {\n",
              "      background-color: #E2EBFA;\n",
              "      box-shadow: 0px 1px 2px rgba(60, 64, 67, 0.3), 0px 1px 3px 1px rgba(60, 64, 67, 0.15);\n",
              "      fill: #174EA6;\n",
              "    }\n",
              "\n",
              "    [theme=dark] .colab-df-convert {\n",
              "      background-color: #3B4455;\n",
              "      fill: #D2E3FC;\n",
              "    }\n",
              "\n",
              "    [theme=dark] .colab-df-convert:hover {\n",
              "      background-color: #434B5C;\n",
              "      box-shadow: 0px 1px 3px 1px rgba(0, 0, 0, 0.15);\n",
              "      filter: drop-shadow(0px 1px 2px rgba(0, 0, 0, 0.3));\n",
              "      fill: #FFFFFF;\n",
              "    }\n",
              "  </style>\n",
              "\n",
              "      <script>\n",
              "        const buttonEl =\n",
              "          document.querySelector('#df-b0693bf1-3239-41a1-b3d9-ab15e652bfc8 button.colab-df-convert');\n",
              "        buttonEl.style.display =\n",
              "          google.colab.kernel.accessAllowed ? 'block' : 'none';\n",
              "\n",
              "        async function convertToInteractive(key) {\n",
              "          const element = document.querySelector('#df-b0693bf1-3239-41a1-b3d9-ab15e652bfc8');\n",
              "          const dataTable =\n",
              "            await google.colab.kernel.invokeFunction('convertToInteractive',\n",
              "                                                     [key], {});\n",
              "          if (!dataTable) return;\n",
              "\n",
              "          const docLinkHtml = 'Like what you see? Visit the ' +\n",
              "            '<a target=\"_blank\" href=https://colab.research.google.com/notebooks/data_table.ipynb>data table notebook</a>'\n",
              "            + ' to learn more about interactive tables.';\n",
              "          element.innerHTML = '';\n",
              "          dataTable['output_type'] = 'display_data';\n",
              "          await google.colab.output.renderOutput(dataTable, element);\n",
              "          const docLink = document.createElement('div');\n",
              "          docLink.innerHTML = docLinkHtml;\n",
              "          element.appendChild(docLink);\n",
              "        }\n",
              "      </script>\n",
              "    </div>\n",
              "  </div>\n",
              "  "
            ]
          },
          "metadata": {},
          "execution_count": 36
        }
      ],
      "source": [
        "# Оценим важность признаков\n",
        "\n",
        "feature_importances = pd.DataFrame(zip(X_train.columns, clf.feature_importances_), columns=['feature_name', 'importance'])\n",
        "feature_importances = feature_importances.sort_values(by='importance', ascending=False)\n",
        "feature_importances"
      ],
      "id": "03f278bf"
    },
    {
      "cell_type": "code",
      "source": [
        "not_important = feature_importances['feature_name'][feature_importances['importance'] < 0.001]\n",
        "list(not_important)"
      ],
      "metadata": {
        "colab": {
          "base_uri": "https://localhost:8080/"
        },
        "id": "KMBSgRMS1De5",
        "outputId": "64a76bc9-10cd-4048-a246-3fbbafa4586b"
      },
      "id": "KMBSgRMS1De5",
      "execution_count": null,
      "outputs": [
        {
          "output_type": "execute_result",
          "data": {
            "text/plain": [
              "['r1_creeps_stacked',\n",
              " 'd5_camps_stacked',\n",
              " 'r2_towers_killed',\n",
              " 'd2_camps_stacked',\n",
              " 'd4_camps_stacked',\n",
              " 'd3_camps_stacked',\n",
              " 'd1_camps_stacked',\n",
              " 'r4_camps_stacked',\n",
              " 'r3_camps_stacked',\n",
              " 'r5_camps_stacked',\n",
              " 'r2_camps_stacked',\n",
              " 'r1_camps_stacked',\n",
              " 'lobby_type',\n",
              " 'r4_firstblood_claimed',\n",
              " 'd4_firstblood_claimed',\n",
              " 'r1_firstblood_claimed',\n",
              " 'd5_firstblood_claimed',\n",
              " 'd3_firstblood_claimed',\n",
              " 'r3_firstblood_claimed',\n",
              " 'd1_firstblood_claimed',\n",
              " 'd2_firstblood_claimed',\n",
              " 'r2_firstblood_claimed',\n",
              " 'r5_firstblood_claimed',\n",
              " 'r2_roshans_killed',\n",
              " 'd3_roshans_killed',\n",
              " 'r5_roshans_killed',\n",
              " 'r3_roshans_killed',\n",
              " 'r4_roshans_killed',\n",
              " 'r1_roshans_killed',\n",
              " 'd1_roshans_killed',\n",
              " 'd2_roshans_killed',\n",
              " 'd4_roshans_killed',\n",
              " 'd5_roshans_killed']"
            ]
          },
          "metadata": {},
          "execution_count": 38
        }
      ]
    },
    {
      "cell_type": "code",
      "source": [
        "train_df_preprocessed = train_df.copy().drop(not_important, axis = 1)"
      ],
      "metadata": {
        "id": "R3pzZWL91Dhu"
      },
      "id": "R3pzZWL91Dhu",
      "execution_count": null,
      "outputs": []
    },
    {
      "cell_type": "code",
      "source": [
        "quantative_features_2 = train_df_preprocessed.select_dtypes(include=['float64', 'int64']).columns.tolist()"
      ],
      "metadata": {
        "id": "qZrVgpgH2-6b"
      },
      "id": "qZrVgpgH2-6b",
      "execution_count": null,
      "outputs": []
    },
    {
      "cell_type": "code",
      "source": [
        "X_train_, X_valid_, y_train_, y_valid_ = train_test_split(train_df_preprocessed[quantative_features_2], train_target[\"radiant_win\"], test_size=0.3,shuffle=True, random_state=42)"
      ],
      "metadata": {
        "id": "9LKU6PU92kw2"
      },
      "id": "9LKU6PU92kw2",
      "execution_count": null,
      "outputs": []
    },
    {
      "cell_type": "code",
      "source": [
        "clf_2 = RandomForestClassifier(n_estimators=500, random_state=42)\n",
        "clf_2.fit(X_train_, y_train_)\n",
        "y_train_pred_clf2 = clf_2.predict(X_train_)\n",
        "y_valid_pred_clf2 = clf_2.predict(X_valid_)\n",
        "RA_valid_clf2 = roc_auc_score(y_valid_, y_valid_pred_clf2)\n",
        "RA_train_clf2 = roc_auc_score(y_train_, y_train_pred_clf2)\n",
        "print(f\"ROC AUC для тренировочной выборки: {RA_train_clf2}.\\nROC AUC для тестовой выборки: {RA_valid_clf2}\")"
      ],
      "metadata": {
        "colab": {
          "base_uri": "https://localhost:8080/"
        },
        "id": "09ip-ZhT1Dk3",
        "outputId": "a324c7d8-942d-411f-b71b-930ff25ca06e"
      },
      "id": "09ip-ZhT1Dk3",
      "execution_count": null,
      "outputs": [
        {
          "output_type": "stream",
          "name": "stdout",
          "text": [
            "ROC AUC для тренировочной выборки: 1.0.\n",
            "ROC AUC для тестовой выборки: 0.6958083150327321\n"
          ]
        }
      ]
    },
    {
      "cell_type": "code",
      "source": [
        "get_classification_report(y_train_, y_train_pred_clf2, y_valid_, y_valid_pred_clf2)"
      ],
      "metadata": {
        "colab": {
          "base_uri": "https://localhost:8080/"
        },
        "id": "2kqAPouq3uFD",
        "outputId": "2b4bf362-3e57-4367-ba57-9dc56673f3f1"
      },
      "id": "2kqAPouq3uFD",
      "execution_count": null,
      "outputs": [
        {
          "output_type": "stream",
          "name": "stdout",
          "text": [
            "TRAIN\n",
            "\n",
            "              precision    recall  f1-score   support\n",
            "\n",
            "       False       1.00      1.00      1.00     10440\n",
            "        True       1.00      1.00      1.00     11748\n",
            "\n",
            "    accuracy                           1.00     22188\n",
            "   macro avg       1.00      1.00      1.00     22188\n",
            "weighted avg       1.00      1.00      1.00     22188\n",
            "\n",
            "TEST\n",
            "\n",
            "              precision    recall  f1-score   support\n",
            "\n",
            "       False       0.74      0.59      0.65      4588\n",
            "        True       0.68      0.81      0.74      4922\n",
            "\n",
            "    accuracy                           0.70      9510\n",
            "   macro avg       0.71      0.70      0.69      9510\n",
            "weighted avg       0.71      0.70      0.70      9510\n",
            "\n",
            "CONFUSION MATRIX\n",
            "\n",
            "col_0        False  True\n",
            "radiant_win             \n",
            "False         2686  1902\n",
            "True           954  3968\n"
          ]
        }
      ]
    },
    {
      "cell_type": "markdown",
      "source": [
        "**CatBoost**"
      ],
      "metadata": {
        "id": "75ZYtTaRXgeU"
      },
      "id": "75ZYtTaRXgeU"
    },
    {
      "cell_type": "code",
      "source": [
        "model_catb = CatBoostClassifier(silent=True, random_state=42)\n",
        "model_catb.fit(X_train, y_train)\n",
        "\n",
        "y_train_pred_2 = model_catb.predict(X_train)\n",
        "y_valid_pred_2 = model_catb.predict(X_valid)"
      ],
      "metadata": {
        "id": "oBDkK2dJXguk"
      },
      "id": "oBDkK2dJXguk",
      "execution_count": null,
      "outputs": []
    },
    {
      "cell_type": "code",
      "source": [
        "y_train_pred_2 = np.array([x == 'True' for x in y_train_pred_2])\n",
        "y_valid_pred_2 = np.array([x == 'True' for x in y_valid_pred_2])"
      ],
      "metadata": {
        "id": "wPvf2duehmxA"
      },
      "id": "wPvf2duehmxA",
      "execution_count": null,
      "outputs": []
    },
    {
      "cell_type": "code",
      "source": [
        "RA_valid_2 = roc_auc_score(y_valid, y_valid_pred_2)\n",
        "RA_train_2 = roc_auc_score(y_train, y_train_pred_2)\n",
        "print(f\"ROC AUC для тренировочной выборки: {RA_train_2}.\\nROC AUC для тестовой выборки: {RA_valid_2}\")"
      ],
      "metadata": {
        "colab": {
          "base_uri": "https://localhost:8080/"
        },
        "id": "p7K-ZVPQEo4p",
        "outputId": "f33b07ff-db0c-4bc6-b235-108a5d1c4de7"
      },
      "id": "p7K-ZVPQEo4p",
      "execution_count": null,
      "outputs": [
        {
          "output_type": "stream",
          "name": "stdout",
          "text": [
            "ROC AUC для тренировочной выборки: 0.8686368724047919.\n",
            "ROC AUC для тестовой выборки: 0.7076400567244835\n"
          ]
        }
      ]
    },
    {
      "cell_type": "code",
      "source": [
        "get_classification_report(y_train, y_train_pred_2, y_valid, y_valid_pred_2)"
      ],
      "metadata": {
        "colab": {
          "base_uri": "https://localhost:8080/"
        },
        "id": "5SxOtjeFXgw6",
        "outputId": "2c8dba9e-6c14-4cf5-e980-4829686070e0"
      },
      "id": "5SxOtjeFXgw6",
      "execution_count": null,
      "outputs": [
        {
          "output_type": "stream",
          "name": "stdout",
          "text": [
            "TRAIN\n",
            "\n",
            "              precision    recall  f1-score   support\n",
            "\n",
            "       False       0.89      0.83      0.86     10440\n",
            "        True       0.86      0.91      0.88     11748\n",
            "\n",
            "    accuracy                           0.87     22188\n",
            "   macro avg       0.87      0.87      0.87     22188\n",
            "weighted avg       0.87      0.87      0.87     22188\n",
            "\n",
            "TEST\n",
            "\n",
            "              precision    recall  f1-score   support\n",
            "\n",
            "       False       0.73      0.64      0.68      4588\n",
            "        True       0.70      0.78      0.74      4922\n",
            "\n",
            "    accuracy                           0.71      9510\n",
            "   macro avg       0.71      0.71      0.71      9510\n",
            "weighted avg       0.71      0.71      0.71      9510\n",
            "\n",
            "CONFUSION MATRIX\n",
            "\n",
            "col_0        False  True\n",
            "radiant_win             \n",
            "False         2926  1662\n",
            "True          1095  3827\n"
          ]
        }
      ]
    },
    {
      "cell_type": "code",
      "source": [
        "# Подбор гиперпараметров для model_catb\n",
        "\n",
        "model_catb = CatBoostClassifier(silent=True, random_state=42)\n",
        "\n",
        "params = {'n_estimators':[10, 25, 50, 100, 200, 500],\n",
        "          'max_depth':[3, 5, 7, 10, 15]}\n",
        "\n",
        "cv=KFold(n_splits=3, random_state=42, shuffle=True)\n",
        "\n",
        "rs = RandomizedSearchCV(model_catb, params, scoring='roc_auc', cv=cv, n_jobs=-1)\n",
        "\n",
        "rs.fit(X_train, y_train)\n",
        "\n",
        "rs.best_params_"
      ],
      "metadata": {
        "colab": {
          "base_uri": "https://localhost:8080/"
        },
        "id": "E-RCDAbwXgzj",
        "outputId": "0997549c-9adf-4709-8294-491624316f0f"
      },
      "id": "E-RCDAbwXgzj",
      "execution_count": null,
      "outputs": [
        {
          "output_type": "execute_result",
          "data": {
            "text/plain": [
              "{'n_estimators': 500, 'max_depth': 3}"
            ]
          },
          "metadata": {},
          "execution_count": 45
        }
      ]
    },
    {
      "cell_type": "code",
      "source": [
        "model_catb_final = CatBoostClassifier(n_estimators=500, max_depth=3,\n",
        "                                      silent=True, random_state=42)\n",
        "model_catb_final.fit(X_train, y_train)\n",
        "\n",
        "y_train_pred_catb = model_catb_final.predict(X_train)\n",
        "y_valid_pred_catb = model_catb_final.predict(X_valid)\n",
        "\n",
        "y_train_pred_catb = np.array([x == 'True' for x in y_train_pred_catb])\n",
        "y_valid_pred_catb = np.array([x == 'True' for x in y_valid_pred_catb])\n",
        "\n",
        "get_classification_report(y_train, y_train_pred_catb, y_valid, y_valid_pred_catb)"
      ],
      "metadata": {
        "colab": {
          "base_uri": "https://localhost:8080/"
        },
        "id": "p2duYtSciVrk",
        "outputId": "65eb1053-31ba-4bb9-adf5-b10fd2bb1705"
      },
      "id": "p2duYtSciVrk",
      "execution_count": null,
      "outputs": [
        {
          "output_type": "stream",
          "name": "stdout",
          "text": [
            "TRAIN\n",
            "\n",
            "              precision    recall  f1-score   support\n",
            "\n",
            "       False       0.77      0.68      0.72     10440\n",
            "        True       0.74      0.82      0.78     11748\n",
            "\n",
            "    accuracy                           0.75     22188\n",
            "   macro avg       0.76      0.75      0.75     22188\n",
            "weighted avg       0.76      0.75      0.75     22188\n",
            "\n",
            "TEST\n",
            "\n",
            "              precision    recall  f1-score   support\n",
            "\n",
            "       False       0.73      0.62      0.67      4588\n",
            "        True       0.69      0.78      0.73      4922\n",
            "\n",
            "    accuracy                           0.70      9510\n",
            "   macro avg       0.71      0.70      0.70      9510\n",
            "weighted avg       0.71      0.70      0.70      9510\n",
            "\n",
            "CONFUSION MATRIX\n",
            "\n",
            "col_0        False  True\n",
            "radiant_win             \n",
            "False         2834  1754\n",
            "True          1064  3858\n"
          ]
        }
      ]
    },
    {
      "cell_type": "code",
      "source": [
        "RA_valid_catb = roc_auc_score(y_valid, y_valid_pred_catb)\n",
        "RA_train_catb = roc_auc_score(y_train, y_train_pred_catb)\n",
        "print(f\"ROC AUC для тренировочной выборки: {RA_train_catb}.\\nROC AUC для тестовой выборки: {RA_valid_catb}\")"
      ],
      "metadata": {
        "colab": {
          "base_uri": "https://localhost:8080/"
        },
        "id": "xO7TehhoE65I",
        "outputId": "fcd6ef8d-d294-4680-de4f-aaafea328113"
      },
      "id": "xO7TehhoE65I",
      "execution_count": null,
      "outputs": [
        {
          "output_type": "stream",
          "name": "stdout",
          "text": [
            "ROC AUC для тренировочной выборки: 0.7497461049863219.\n",
            "ROC AUC для тестовой выборки: 0.7007630279084318\n"
          ]
        }
      ]
    },
    {
      "cell_type": "markdown",
      "source": [
        "#### Прогнозирование на тестовом датасете"
      ],
      "metadata": {
        "id": "Kr9FFK139MjK"
      },
      "id": "Kr9FFK139MjK"
    },
    {
      "cell_type": "code",
      "source": [
        "submit_prediction = model_catb_final.predict(test_df[quantative_features])\n",
        "test_df['radiant_win_prob'] = np.array([x == 'True' for x in submit_prediction])\n",
        "test_df[[\"match_id_hash\", \"radiant_win_prob\"]]"
      ],
      "metadata": {
        "colab": {
          "base_uri": "https://localhost:8080/",
          "height": 424
        },
        "id": "0BqYt5C15LzA",
        "outputId": "30f4844b-9203-44b2-b7cd-b97f74dea225"
      },
      "id": "0BqYt5C15LzA",
      "execution_count": null,
      "outputs": [
        {
          "output_type": "execute_result",
          "data": {
            "text/plain": [
              "                         match_id_hash  radiant_win_prob\n",
              "0     a400b8f29dece5f4d266f49f1ae2e98a             False\n",
              "1     46a0ddce8f7ed2a8d9bd5edcbb925682              True\n",
              "2     b1b35ff97723d9b7ade1c9c3cf48f770             False\n",
              "3     ab3cc6ccac661a1385e73a2e9f21313a              True\n",
              "4     54aaab1cb8cc5df3c253641618673266              True\n",
              "...                                ...               ...\n",
              "7972  03f683fed8cf6f03b735e2ee2a942698              True\n",
              "7973  06e2b42495855647830ccc6d466f913c             False\n",
              "7974  defd0caeed6ea83d7d5fbdec013fe7d1             False\n",
              "7975  47ad6454ede66c1c78fdaa9391dfc556              True\n",
              "7976  9928dfde50efcbdb2055da23dcdbc101              True\n",
              "\n",
              "[7977 rows x 2 columns]"
            ],
            "text/html": [
              "\n",
              "  <div id=\"df-f5f2860d-2a74-4a82-85ac-2cc805738824\">\n",
              "    <div class=\"colab-df-container\">\n",
              "      <div>\n",
              "<style scoped>\n",
              "    .dataframe tbody tr th:only-of-type {\n",
              "        vertical-align: middle;\n",
              "    }\n",
              "\n",
              "    .dataframe tbody tr th {\n",
              "        vertical-align: top;\n",
              "    }\n",
              "\n",
              "    .dataframe thead th {\n",
              "        text-align: right;\n",
              "    }\n",
              "</style>\n",
              "<table border=\"1\" class=\"dataframe\">\n",
              "  <thead>\n",
              "    <tr style=\"text-align: right;\">\n",
              "      <th></th>\n",
              "      <th>match_id_hash</th>\n",
              "      <th>radiant_win_prob</th>\n",
              "    </tr>\n",
              "  </thead>\n",
              "  <tbody>\n",
              "    <tr>\n",
              "      <th>0</th>\n",
              "      <td>a400b8f29dece5f4d266f49f1ae2e98a</td>\n",
              "      <td>False</td>\n",
              "    </tr>\n",
              "    <tr>\n",
              "      <th>1</th>\n",
              "      <td>46a0ddce8f7ed2a8d9bd5edcbb925682</td>\n",
              "      <td>True</td>\n",
              "    </tr>\n",
              "    <tr>\n",
              "      <th>2</th>\n",
              "      <td>b1b35ff97723d9b7ade1c9c3cf48f770</td>\n",
              "      <td>False</td>\n",
              "    </tr>\n",
              "    <tr>\n",
              "      <th>3</th>\n",
              "      <td>ab3cc6ccac661a1385e73a2e9f21313a</td>\n",
              "      <td>True</td>\n",
              "    </tr>\n",
              "    <tr>\n",
              "      <th>4</th>\n",
              "      <td>54aaab1cb8cc5df3c253641618673266</td>\n",
              "      <td>True</td>\n",
              "    </tr>\n",
              "    <tr>\n",
              "      <th>...</th>\n",
              "      <td>...</td>\n",
              "      <td>...</td>\n",
              "    </tr>\n",
              "    <tr>\n",
              "      <th>7972</th>\n",
              "      <td>03f683fed8cf6f03b735e2ee2a942698</td>\n",
              "      <td>True</td>\n",
              "    </tr>\n",
              "    <tr>\n",
              "      <th>7973</th>\n",
              "      <td>06e2b42495855647830ccc6d466f913c</td>\n",
              "      <td>False</td>\n",
              "    </tr>\n",
              "    <tr>\n",
              "      <th>7974</th>\n",
              "      <td>defd0caeed6ea83d7d5fbdec013fe7d1</td>\n",
              "      <td>False</td>\n",
              "    </tr>\n",
              "    <tr>\n",
              "      <th>7975</th>\n",
              "      <td>47ad6454ede66c1c78fdaa9391dfc556</td>\n",
              "      <td>True</td>\n",
              "    </tr>\n",
              "    <tr>\n",
              "      <th>7976</th>\n",
              "      <td>9928dfde50efcbdb2055da23dcdbc101</td>\n",
              "      <td>True</td>\n",
              "    </tr>\n",
              "  </tbody>\n",
              "</table>\n",
              "<p>7977 rows × 2 columns</p>\n",
              "</div>\n",
              "      <button class=\"colab-df-convert\" onclick=\"convertToInteractive('df-f5f2860d-2a74-4a82-85ac-2cc805738824')\"\n",
              "              title=\"Convert this dataframe to an interactive table.\"\n",
              "              style=\"display:none;\">\n",
              "        \n",
              "  <svg xmlns=\"http://www.w3.org/2000/svg\" height=\"24px\"viewBox=\"0 0 24 24\"\n",
              "       width=\"24px\">\n",
              "    <path d=\"M0 0h24v24H0V0z\" fill=\"none\"/>\n",
              "    <path d=\"M18.56 5.44l.94 2.06.94-2.06 2.06-.94-2.06-.94-.94-2.06-.94 2.06-2.06.94zm-11 1L8.5 8.5l.94-2.06 2.06-.94-2.06-.94L8.5 2.5l-.94 2.06-2.06.94zm10 10l.94 2.06.94-2.06 2.06-.94-2.06-.94-.94-2.06-.94 2.06-2.06.94z\"/><path d=\"M17.41 7.96l-1.37-1.37c-.4-.4-.92-.59-1.43-.59-.52 0-1.04.2-1.43.59L10.3 9.45l-7.72 7.72c-.78.78-.78 2.05 0 2.83L4 21.41c.39.39.9.59 1.41.59.51 0 1.02-.2 1.41-.59l7.78-7.78 2.81-2.81c.8-.78.8-2.07 0-2.86zM5.41 20L4 18.59l7.72-7.72 1.47 1.35L5.41 20z\"/>\n",
              "  </svg>\n",
              "      </button>\n",
              "      \n",
              "  <style>\n",
              "    .colab-df-container {\n",
              "      display:flex;\n",
              "      flex-wrap:wrap;\n",
              "      gap: 12px;\n",
              "    }\n",
              "\n",
              "    .colab-df-convert {\n",
              "      background-color: #E8F0FE;\n",
              "      border: none;\n",
              "      border-radius: 50%;\n",
              "      cursor: pointer;\n",
              "      display: none;\n",
              "      fill: #1967D2;\n",
              "      height: 32px;\n",
              "      padding: 0 0 0 0;\n",
              "      width: 32px;\n",
              "    }\n",
              "\n",
              "    .colab-df-convert:hover {\n",
              "      background-color: #E2EBFA;\n",
              "      box-shadow: 0px 1px 2px rgba(60, 64, 67, 0.3), 0px 1px 3px 1px rgba(60, 64, 67, 0.15);\n",
              "      fill: #174EA6;\n",
              "    }\n",
              "\n",
              "    [theme=dark] .colab-df-convert {\n",
              "      background-color: #3B4455;\n",
              "      fill: #D2E3FC;\n",
              "    }\n",
              "\n",
              "    [theme=dark] .colab-df-convert:hover {\n",
              "      background-color: #434B5C;\n",
              "      box-shadow: 0px 1px 3px 1px rgba(0, 0, 0, 0.15);\n",
              "      filter: drop-shadow(0px 1px 2px rgba(0, 0, 0, 0.3));\n",
              "      fill: #FFFFFF;\n",
              "    }\n",
              "  </style>\n",
              "\n",
              "      <script>\n",
              "        const buttonEl =\n",
              "          document.querySelector('#df-f5f2860d-2a74-4a82-85ac-2cc805738824 button.colab-df-convert');\n",
              "        buttonEl.style.display =\n",
              "          google.colab.kernel.accessAllowed ? 'block' : 'none';\n",
              "\n",
              "        async function convertToInteractive(key) {\n",
              "          const element = document.querySelector('#df-f5f2860d-2a74-4a82-85ac-2cc805738824');\n",
              "          const dataTable =\n",
              "            await google.colab.kernel.invokeFunction('convertToInteractive',\n",
              "                                                     [key], {});\n",
              "          if (!dataTable) return;\n",
              "\n",
              "          const docLinkHtml = 'Like what you see? Visit the ' +\n",
              "            '<a target=\"_blank\" href=https://colab.research.google.com/notebooks/data_table.ipynb>data table notebook</a>'\n",
              "            + ' to learn more about interactive tables.';\n",
              "          element.innerHTML = '';\n",
              "          dataTable['output_type'] = 'display_data';\n",
              "          await google.colab.output.renderOutput(dataTable, element);\n",
              "          const docLink = document.createElement('div');\n",
              "          docLink.innerHTML = docLinkHtml;\n",
              "          element.appendChild(docLink);\n",
              "        }\n",
              "      </script>\n",
              "    </div>\n",
              "  </div>\n",
              "  "
            ]
          },
          "metadata": {},
          "execution_count": 85
        }
      ]
    },
    {
      "cell_type": "code",
      "source": [
        "test_df[[\"match_id_hash\", \"radiant_win_prob\"]].to_csv('submit.csv', index=False)"
      ],
      "metadata": {
        "id": "DeifnQ2o5L17"
      },
      "id": "DeifnQ2o5L17",
      "execution_count": null,
      "outputs": []
    },
    {
      "cell_type": "markdown",
      "metadata": {
        "id": "d2dca6a9"
      },
      "source": [
        "**Light auto ML**"
      ],
      "id": "d2dca6a9"
    },
    {
      "cell_type": "code",
      "execution_count": null,
      "metadata": {
        "id": "aa7b1627",
        "scrolled": true,
        "colab": {
          "base_uri": "https://localhost:8080/"
        },
        "outputId": "42fcf953-697d-4dc6-bc2c-b8dfc172941e"
      },
      "outputs": [
        {
          "output_type": "stream",
          "name": "stdout",
          "text": [
            "Looking in indexes: https://pypi.org/simple, https://us-python.pkg.dev/colab-wheels/public/simple/\n",
            "Collecting lightautoml\n",
            "  Downloading LightAutoML-0.3.7.3-py3-none-any.whl (319 kB)\n",
            "\u001b[2K     \u001b[90m━━━━━━━━━━━━━━━━━━━━━━━━━━━━━━━━━━━━━━\u001b[0m \u001b[32m319.6/319.6 kB\u001b[0m \u001b[31m25.3 MB/s\u001b[0m eta \u001b[36m0:00:00\u001b[0m\n",
            "\u001b[?25hRequirement already satisfied: pyyaml in /usr/local/lib/python3.9/dist-packages (from lightautoml) (6.0)\n",
            "Requirement already satisfied: scikit-learn>=0.22 in /usr/local/lib/python3.9/dist-packages (from lightautoml) (1.2.2)\n",
            "Requirement already satisfied: jinja2 in /usr/local/lib/python3.9/dist-packages (from lightautoml) (3.1.2)\n",
            "Collecting poetry-core<2.0.0,>=1.0.0\n",
            "  Downloading poetry_core-1.5.2-py3-none-any.whl (465 kB)\n",
            "\u001b[2K     \u001b[90m━━━━━━━━━━━━━━━━━━━━━━━━━━━━━━━━━━━━━━\u001b[0m \u001b[32m465.2/465.2 kB\u001b[0m \u001b[31m47.9 MB/s\u001b[0m eta \u001b[36m0:00:00\u001b[0m\n",
            "\u001b[?25hRequirement already satisfied: joblib in /usr/local/lib/python3.9/dist-packages (from lightautoml) (1.1.1)\n",
            "Collecting json2html\n",
            "  Downloading json2html-1.3.0.tar.gz (7.0 kB)\n",
            "  Preparing metadata (setup.py) ... \u001b[?25l\u001b[?25hdone\n",
            "Collecting autowoe>=1.2\n",
            "  Downloading AutoWoE-1.3.2-py3-none-any.whl (215 kB)\n",
            "\u001b[2K     \u001b[90m━━━━━━━━━━━━━━━━━━━━━━━━━━━━━━━━━━━━━━\u001b[0m \u001b[32m215.7/215.7 kB\u001b[0m \u001b[31m30.9 MB/s\u001b[0m eta \u001b[36m0:00:00\u001b[0m\n",
            "\u001b[?25hCollecting cmaes\n",
            "  Downloading cmaes-0.9.1-py3-none-any.whl (21 kB)\n",
            "Collecting pandas<=1.4.3\n",
            "  Downloading pandas-1.4.3-cp39-cp39-manylinux_2_17_x86_64.manylinux2014_x86_64.whl (11.7 MB)\n",
            "\u001b[2K     \u001b[90m━━━━━━━━━━━━━━━━━━━━━━━━━━━━━━━━━━━━━━━━\u001b[0m \u001b[32m11.7/11.7 MB\u001b[0m \u001b[31m24.5 MB/s\u001b[0m eta \u001b[36m0:00:00\u001b[0m\n",
            "\u001b[?25hRequirement already satisfied: tqdm in /usr/local/lib/python3.9/dist-packages (from lightautoml) (4.65.0)\n",
            "Collecting optuna\n",
            "  Downloading optuna-3.1.1-py3-none-any.whl (365 kB)\n",
            "\u001b[2K     \u001b[90m━━━━━━━━━━━━━━━━━━━━━━━━━━━━━━━━━━━━━━\u001b[0m \u001b[32m365.7/365.7 kB\u001b[0m \u001b[31m42.4 MB/s\u001b[0m eta \u001b[36m0:00:00\u001b[0m\n",
            "\u001b[?25hRequirement already satisfied: torchvision in /usr/local/lib/python3.9/dist-packages (from lightautoml) (0.15.1+cu118)\n",
            "Requirement already satisfied: catboost>=0.26.1 in /usr/local/lib/python3.9/dist-packages (from lightautoml) (1.1.1)\n",
            "Requirement already satisfied: networkx in /usr/local/lib/python3.9/dist-packages (from lightautoml) (3.0)\n",
            "Collecting lightgbm<=3.2.1,>=2.3\n",
            "  Downloading lightgbm-3.2.1-py3-none-manylinux1_x86_64.whl (2.0 MB)\n",
            "\u001b[2K     \u001b[90m━━━━━━━━━━━━━━━━━━━━━━━━━━━━━━━━━━━━━━━━\u001b[0m \u001b[32m2.0/2.0 MB\u001b[0m \u001b[31m96.9 MB/s\u001b[0m eta \u001b[36m0:00:00\u001b[0m\n",
            "\u001b[?25hCollecting torch<1.9\n",
            "  Downloading torch-1.8.1-cp39-cp39-manylinux1_x86_64.whl (804.1 MB)\n",
            "\u001b[2K     \u001b[90m━━━━━━━━━━━━━━━━━━━━━━━━━━━━━━━━━━━━━━━\u001b[0m \u001b[32m804.1/804.1 MB\u001b[0m \u001b[31m2.2 MB/s\u001b[0m eta \u001b[36m0:00:00\u001b[0m\n",
            "\u001b[?25hRequirement already satisfied: seaborn in /usr/local/lib/python3.9/dist-packages (from lightautoml) (0.12.2)\n",
            "Requirement already satisfied: holidays in /usr/local/lib/python3.9/dist-packages (from lightautoml) (0.22)\n",
            "Requirement already satisfied: pytest in /usr/local/lib/python3.9/dist-packages (from autowoe>=1.2->lightautoml) (7.2.2)\n",
            "Collecting sphinx-rtd-theme\n",
            "  Downloading sphinx_rtd_theme-1.2.0-py2.py3-none-any.whl (2.8 MB)\n",
            "\u001b[2K     \u001b[90m━━━━━━━━━━━━━━━━━━━━━━━━━━━━━━━━━━━━━━━━\u001b[0m \u001b[32m2.8/2.8 MB\u001b[0m \u001b[31m101.6 MB/s\u001b[0m eta \u001b[36m0:00:00\u001b[0m\n",
            "\u001b[?25hRequirement already satisfied: numpy in /usr/local/lib/python3.9/dist-packages (from autowoe>=1.2->lightautoml) (1.22.4)\n",
            "Collecting StrEnum<0.5.0,>=0.4.7\n",
            "  Downloading StrEnum-0.4.10-py3-none-any.whl (7.7 kB)\n",
            "Requirement already satisfied: sphinx in /usr/local/lib/python3.9/dist-packages (from autowoe>=1.2->lightautoml) (3.5.4)\n",
            "Requirement already satisfied: pytz in /usr/local/lib/python3.9/dist-packages (from autowoe>=1.2->lightautoml) (2022.7.1)\n",
            "Requirement already satisfied: scipy in /usr/local/lib/python3.9/dist-packages (from autowoe>=1.2->lightautoml) (1.10.1)\n",
            "Requirement already satisfied: matplotlib in /usr/local/lib/python3.9/dist-packages (from autowoe>=1.2->lightautoml) (3.7.1)\n",
            "Requirement already satisfied: graphviz in /usr/local/lib/python3.9/dist-packages (from catboost>=0.26.1->lightautoml) (0.20.1)\n",
            "Requirement already satisfied: plotly in /usr/local/lib/python3.9/dist-packages (from catboost>=0.26.1->lightautoml) (5.13.1)\n",
            "Requirement already satisfied: six in /usr/local/lib/python3.9/dist-packages (from catboost>=0.26.1->lightautoml) (1.16.0)\n",
            "Requirement already satisfied: wheel in /usr/local/lib/python3.9/dist-packages (from lightgbm<=3.2.1,>=2.3->lightautoml) (0.40.0)\n",
            "Requirement already satisfied: python-dateutil>=2.8.1 in /usr/local/lib/python3.9/dist-packages (from pandas<=1.4.3->lightautoml) (2.8.2)\n",
            "Requirement already satisfied: threadpoolctl>=2.0.0 in /usr/local/lib/python3.9/dist-packages (from scikit-learn>=0.22->lightautoml) (3.1.0)\n",
            "Requirement already satisfied: typing-extensions in /usr/local/lib/python3.9/dist-packages (from torch<1.9->lightautoml) (4.5.0)\n",
            "Requirement already satisfied: PyMeeus in /usr/local/lib/python3.9/dist-packages (from holidays->lightautoml) (0.5.12)\n",
            "Requirement already satisfied: convertdate>=2.3.0 in /usr/local/lib/python3.9/dist-packages (from holidays->lightautoml) (2.4.0)\n",
            "Requirement already satisfied: hijri-converter in /usr/local/lib/python3.9/dist-packages (from holidays->lightautoml) (2.2.4)\n",
            "Requirement already satisfied: korean-lunar-calendar in /usr/local/lib/python3.9/dist-packages (from holidays->lightautoml) (0.3.1)\n",
            "Requirement already satisfied: MarkupSafe>=2.0 in /usr/local/lib/python3.9/dist-packages (from jinja2->lightautoml) (2.1.2)\n",
            "Requirement already satisfied: packaging>=20.0 in /usr/local/lib/python3.9/dist-packages (from optuna->lightautoml) (23.0)\n",
            "Requirement already satisfied: sqlalchemy>=1.3.0 in /usr/local/lib/python3.9/dist-packages (from optuna->lightautoml) (1.4.47)\n",
            "Collecting alembic>=1.5.0\n",
            "  Downloading alembic-1.10.3-py3-none-any.whl (212 kB)\n",
            "\u001b[2K     \u001b[90m━━━━━━━━━━━━━━━━━━━━━━━━━━━━━━━━━━━━━━\u001b[0m \u001b[32m212.3/212.3 kB\u001b[0m \u001b[31m26.0 MB/s\u001b[0m eta \u001b[36m0:00:00\u001b[0m\n",
            "\u001b[?25hCollecting colorlog\n",
            "  Downloading colorlog-6.7.0-py2.py3-none-any.whl (11 kB)\n",
            "Requirement already satisfied: requests in /usr/local/lib/python3.9/dist-packages (from torchvision->lightautoml) (2.27.1)\n",
            "Collecting torchvision\n",
            "  Downloading torchvision-0.15.1-cp39-cp39-manylinux1_x86_64.whl (6.0 MB)\n",
            "\u001b[2K     \u001b[90m━━━━━━━━━━━━━━━━━━━━━━━━━━━━━━━━━━━━━━━━\u001b[0m \u001b[32m6.0/6.0 MB\u001b[0m \u001b[31m65.3 MB/s\u001b[0m eta \u001b[36m0:00:00\u001b[0m\n",
            "\u001b[?25h  Downloading torchvision-0.14.1-cp39-cp39-manylinux1_x86_64.whl (24.2 MB)\n",
            "\u001b[2K     \u001b[90m━━━━━━━━━━━━━━━━━━━━━━━━━━━━━━━━━━━━━━━━\u001b[0m \u001b[32m24.2/24.2 MB\u001b[0m \u001b[31m69.4 MB/s\u001b[0m eta \u001b[36m0:00:00\u001b[0m\n",
            "\u001b[?25h  Downloading torchvision-0.14.0-cp39-cp39-manylinux1_x86_64.whl (24.3 MB)\n",
            "\u001b[2K     \u001b[90m━━━━━━━━━━━━━━━━━━━━━━━━━━━━━━━━━━━━━━━━\u001b[0m \u001b[32m24.3/24.3 MB\u001b[0m \u001b[31m20.8 MB/s\u001b[0m eta \u001b[36m0:00:00\u001b[0m\n",
            "\u001b[?25h  Downloading torchvision-0.13.1-cp39-cp39-manylinux1_x86_64.whl (19.1 MB)\n",
            "\u001b[2K     \u001b[90m━━━━━━━━━━━━━━━━━━━━━━━━━━━━━━━━━━━━━━━━\u001b[0m \u001b[32m19.1/19.1 MB\u001b[0m \u001b[31m82.8 MB/s\u001b[0m eta \u001b[36m0:00:00\u001b[0m\n",
            "\u001b[?25hRequirement already satisfied: pillow!=8.3.*,>=5.3.0 in /usr/local/lib/python3.9/dist-packages (from torchvision->lightautoml) (8.4.0)\n",
            "  Downloading torchvision-0.13.0-cp39-cp39-manylinux1_x86_64.whl (19.1 MB)\n",
            "\u001b[2K     \u001b[90m━━━━━━━━━━━━━━━━━━━━━━━━━━━━━━━━━━━━━━━━\u001b[0m \u001b[32m19.1/19.1 MB\u001b[0m \u001b[31m90.7 MB/s\u001b[0m eta \u001b[36m0:00:00\u001b[0m\n",
            "\u001b[?25h  Downloading torchvision-0.12.0-cp39-cp39-manylinux1_x86_64.whl (21.0 MB)\n",
            "\u001b[2K     \u001b[90m━━━━━━━━━━━━━━━━━━━━━━━━━━━━━━━━━━━━━━━━\u001b[0m \u001b[32m21.0/21.0 MB\u001b[0m \u001b[31m21.2 MB/s\u001b[0m eta \u001b[36m0:00:00\u001b[0m\n",
            "\u001b[?25h  Downloading torchvision-0.11.3-cp39-cp39-manylinux1_x86_64.whl (23.2 MB)\n",
            "\u001b[2K     \u001b[90m━━━━━━━━━━━━━━━━━━━━━━━━━━━━━━━━━━━━━━━━\u001b[0m \u001b[32m23.2/23.2 MB\u001b[0m \u001b[31m67.9 MB/s\u001b[0m eta \u001b[36m0:00:00\u001b[0m\n",
            "\u001b[?25h  Downloading torchvision-0.11.2-cp39-cp39-manylinux1_x86_64.whl (23.2 MB)\n",
            "\u001b[2K     \u001b[90m━━━━━━━━━━━━━━━━━━━━━━━━━━━━━━━━━━━━━━━━\u001b[0m \u001b[32m23.2/23.2 MB\u001b[0m \u001b[31m60.4 MB/s\u001b[0m eta \u001b[36m0:00:00\u001b[0m\n",
            "\u001b[?25h  Downloading torchvision-0.11.1-cp39-cp39-manylinux1_x86_64.whl (23.2 MB)\n",
            "\u001b[2K     \u001b[90m━━━━━━━━━━━━━━━━━━━━━━━━━━━━━━━━━━━━━━━━\u001b[0m \u001b[32m23.2/23.2 MB\u001b[0m \u001b[31m21.4 MB/s\u001b[0m eta \u001b[36m0:00:00\u001b[0m\n",
            "\u001b[?25h  Downloading torchvision-0.10.1-cp39-cp39-manylinux1_x86_64.whl (22.1 MB)\n",
            "\u001b[2K     \u001b[90m━━━━━━━━━━━━━━━━━━━━━━━━━━━━━━━━━━━━━━━━\u001b[0m \u001b[32m22.1/22.1 MB\u001b[0m \u001b[31m78.3 MB/s\u001b[0m eta \u001b[36m0:00:00\u001b[0m\n",
            "\u001b[?25h  Downloading torchvision-0.10.0-cp39-cp39-manylinux1_x86_64.whl (22.1 MB)\n",
            "\u001b[2K     \u001b[90m━━━━━━━━━━━━━━━━━━━━━━━━━━━━━━━━━━━━━━━━\u001b[0m \u001b[32m22.1/22.1 MB\u001b[0m \u001b[31m85.8 MB/s\u001b[0m eta \u001b[36m0:00:00\u001b[0m\n",
            "\u001b[?25h  Downloading torchvision-0.9.1-cp39-cp39-manylinux1_x86_64.whl (17.3 MB)\n",
            "\u001b[2K     \u001b[90m━━━━━━━━━━━━━━━━━━━━━━━━━━━━━━━━━━━━━━━━\u001b[0m \u001b[32m17.3/17.3 MB\u001b[0m \u001b[31m96.6 MB/s\u001b[0m eta \u001b[36m0:00:00\u001b[0m\n",
            "\u001b[?25hCollecting Mako\n",
            "  Downloading Mako-1.2.4-py3-none-any.whl (78 kB)\n",
            "\u001b[2K     \u001b[90m━━━━━━━━━━━━━━━━━━━━━━━━━━━━━━━━━━━━━━━━\u001b[0m \u001b[32m78.7/78.7 kB\u001b[0m \u001b[31m12.8 MB/s\u001b[0m eta \u001b[36m0:00:00\u001b[0m\n",
            "\u001b[?25hRequirement already satisfied: contourpy>=1.0.1 in /usr/local/lib/python3.9/dist-packages (from matplotlib->autowoe>=1.2->lightautoml) (1.0.7)\n",
            "Requirement already satisfied: fonttools>=4.22.0 in /usr/local/lib/python3.9/dist-packages (from matplotlib->autowoe>=1.2->lightautoml) (4.39.3)\n",
            "Requirement already satisfied: pyparsing>=2.3.1 in /usr/local/lib/python3.9/dist-packages (from matplotlib->autowoe>=1.2->lightautoml) (3.0.9)\n",
            "Requirement already satisfied: cycler>=0.10 in /usr/local/lib/python3.9/dist-packages (from matplotlib->autowoe>=1.2->lightautoml) (0.11.0)\n",
            "Requirement already satisfied: kiwisolver>=1.0.1 in /usr/local/lib/python3.9/dist-packages (from matplotlib->autowoe>=1.2->lightautoml) (1.4.4)\n",
            "Requirement already satisfied: importlib-resources>=3.2.0 in /usr/local/lib/python3.9/dist-packages (from matplotlib->autowoe>=1.2->lightautoml) (5.12.0)\n",
            "Requirement already satisfied: greenlet!=0.4.17 in /usr/local/lib/python3.9/dist-packages (from sqlalchemy>=1.3.0->optuna->lightautoml) (2.0.2)\n",
            "Requirement already satisfied: tenacity>=6.2.0 in /usr/local/lib/python3.9/dist-packages (from plotly->catboost>=0.26.1->lightautoml) (8.2.2)\n",
            "Requirement already satisfied: pluggy<2.0,>=0.12 in /usr/local/lib/python3.9/dist-packages (from pytest->autowoe>=1.2->lightautoml) (1.0.0)\n",
            "Requirement already satisfied: iniconfig in /usr/local/lib/python3.9/dist-packages (from pytest->autowoe>=1.2->lightautoml) (2.0.0)\n",
            "Requirement already satisfied: exceptiongroup>=1.0.0rc8 in /usr/local/lib/python3.9/dist-packages (from pytest->autowoe>=1.2->lightautoml) (1.1.1)\n",
            "Requirement already satisfied: attrs>=19.2.0 in /usr/local/lib/python3.9/dist-packages (from pytest->autowoe>=1.2->lightautoml) (22.2.0)\n",
            "Requirement already satisfied: tomli>=1.0.0 in /usr/local/lib/python3.9/dist-packages (from pytest->autowoe>=1.2->lightautoml) (2.0.1)\n",
            "Requirement already satisfied: sphinxcontrib-devhelp in /usr/local/lib/python3.9/dist-packages (from sphinx->autowoe>=1.2->lightautoml) (1.0.2)\n",
            "Requirement already satisfied: sphinxcontrib-applehelp in /usr/local/lib/python3.9/dist-packages (from sphinx->autowoe>=1.2->lightautoml) (1.0.4)\n",
            "Requirement already satisfied: setuptools in /usr/local/lib/python3.9/dist-packages (from sphinx->autowoe>=1.2->lightautoml) (67.6.1)\n",
            "Requirement already satisfied: sphinxcontrib-htmlhelp in /usr/local/lib/python3.9/dist-packages (from sphinx->autowoe>=1.2->lightautoml) (2.0.1)\n",
            "Requirement already satisfied: sphinxcontrib-qthelp in /usr/local/lib/python3.9/dist-packages (from sphinx->autowoe>=1.2->lightautoml) (1.0.3)\n",
            "Requirement already satisfied: docutils<0.17,>=0.12 in /usr/local/lib/python3.9/dist-packages (from sphinx->autowoe>=1.2->lightautoml) (0.16)\n",
            "Requirement already satisfied: Pygments>=2.0 in /usr/local/lib/python3.9/dist-packages (from sphinx->autowoe>=1.2->lightautoml) (2.14.0)\n",
            "Requirement already satisfied: imagesize in /usr/local/lib/python3.9/dist-packages (from sphinx->autowoe>=1.2->lightautoml) (1.4.1)\n",
            "Requirement already satisfied: sphinxcontrib-jsmath in /usr/local/lib/python3.9/dist-packages (from sphinx->autowoe>=1.2->lightautoml) (1.0.1)\n",
            "Requirement already satisfied: alabaster<0.8,>=0.7 in /usr/local/lib/python3.9/dist-packages (from sphinx->autowoe>=1.2->lightautoml) (0.7.13)\n",
            "Requirement already satisfied: sphinxcontrib-serializinghtml in /usr/local/lib/python3.9/dist-packages (from sphinx->autowoe>=1.2->lightautoml) (1.1.5)\n",
            "Requirement already satisfied: babel>=1.3 in /usr/local/lib/python3.9/dist-packages (from sphinx->autowoe>=1.2->lightautoml) (2.12.1)\n",
            "Requirement already satisfied: snowballstemmer>=1.1 in /usr/local/lib/python3.9/dist-packages (from sphinx->autowoe>=1.2->lightautoml) (2.2.0)\n",
            "Collecting sphinxcontrib-jquery!=3.0.0,>=2.0.0\n",
            "  Downloading sphinxcontrib_jquery-4.1-py2.py3-none-any.whl (121 kB)\n",
            "\u001b[2K     \u001b[90m━━━━━━━━━━━━━━━━━━━━━━━━━━━━━━━━━━━━━━\u001b[0m \u001b[32m121.1/121.1 kB\u001b[0m \u001b[31m19.4 MB/s\u001b[0m eta \u001b[36m0:00:00\u001b[0m\n",
            "\u001b[?25hRequirement already satisfied: zipp>=3.1.0 in /usr/local/lib/python3.9/dist-packages (from importlib-resources>=3.2.0->matplotlib->autowoe>=1.2->lightautoml) (3.15.0)\n",
            "Requirement already satisfied: charset-normalizer~=2.0.0 in /usr/local/lib/python3.9/dist-packages (from requests->torchvision->lightautoml) (2.0.12)\n",
            "Requirement already satisfied: certifi>=2017.4.17 in /usr/local/lib/python3.9/dist-packages (from requests->torchvision->lightautoml) (2022.12.7)\n",
            "Requirement already satisfied: idna<4,>=2.5 in /usr/local/lib/python3.9/dist-packages (from requests->torchvision->lightautoml) (3.4)\n",
            "Requirement already satisfied: urllib3<1.27,>=1.21.1 in /usr/local/lib/python3.9/dist-packages (from requests->torchvision->lightautoml) (1.26.15)\n",
            "Building wheels for collected packages: json2html\n",
            "  Building wheel for json2html (setup.py) ... \u001b[?25l\u001b[?25hdone\n",
            "  Created wheel for json2html: filename=json2html-1.3.0-py3-none-any.whl size=7608 sha256=9ac897d570c1dc7794955659e9434d023e4c8bbc33833f1741735214f765a959\n",
            "  Stored in directory: /root/.cache/pip/wheels/b9/56/a2/f610a5e8a635d74d27c9971d6099b2521d2155169ff2d99b89\n",
            "Successfully built json2html\n",
            "Installing collected packages: StrEnum, json2html, torch, poetry-core, Mako, colorlog, cmaes, torchvision, pandas, alembic, sphinxcontrib-jquery, optuna, lightgbm, sphinx-rtd-theme, autowoe, lightautoml\n",
            "  Attempting uninstall: torch\n",
            "    Found existing installation: torch 2.0.0+cu118\n",
            "    Uninstalling torch-2.0.0+cu118:\n",
            "      Successfully uninstalled torch-2.0.0+cu118\n",
            "  Attempting uninstall: torchvision\n",
            "    Found existing installation: torchvision 0.15.1+cu118\n",
            "    Uninstalling torchvision-0.15.1+cu118:\n",
            "      Successfully uninstalled torchvision-0.15.1+cu118\n",
            "  Attempting uninstall: pandas\n",
            "    Found existing installation: pandas 1.4.4\n",
            "    Uninstalling pandas-1.4.4:\n",
            "      Successfully uninstalled pandas-1.4.4\n",
            "  Attempting uninstall: lightgbm\n",
            "    Found existing installation: lightgbm 3.3.5\n",
            "    Uninstalling lightgbm-3.3.5:\n",
            "      Successfully uninstalled lightgbm-3.3.5\n",
            "\u001b[31mERROR: pip's dependency resolver does not currently take into account all the packages that are installed. This behaviour is the source of the following dependency conflicts.\n",
            "torchtext 0.15.1 requires torch==2.0.0, but you have torch 1.8.1 which is incompatible.\n",
            "torchdata 0.6.0 requires torch==2.0.0, but you have torch 1.8.1 which is incompatible.\n",
            "torchaudio 2.0.1+cu118 requires torch==2.0.0, but you have torch 1.8.1 which is incompatible.\u001b[0m\u001b[31m\n",
            "\u001b[0mSuccessfully installed Mako-1.2.4 StrEnum-0.4.10 alembic-1.10.3 autowoe-1.3.2 cmaes-0.9.1 colorlog-6.7.0 json2html-1.3.0 lightautoml-0.3.7.3 lightgbm-3.2.1 optuna-3.1.1 pandas-1.4.3 poetry-core-1.5.2 sphinx-rtd-theme-1.2.0 sphinxcontrib-jquery-4.1 torch-1.8.1 torchvision-0.9.1\n"
          ]
        }
      ],
      "source": [
        "!pip install lightautoml"
      ],
      "id": "aa7b1627"
    },
    {
      "cell_type": "code",
      "source": [
        "!pip install torch==2.0.0"
      ],
      "metadata": {
        "colab": {
          "base_uri": "https://localhost:8080/"
        },
        "id": "DjNufTKu8Myt",
        "outputId": "d851cd9c-4ce8-42ae-caef-aad87fa50a42"
      },
      "id": "DjNufTKu8Myt",
      "execution_count": null,
      "outputs": [
        {
          "output_type": "stream",
          "name": "stdout",
          "text": [
            "Looking in indexes: https://pypi.org/simple, https://us-python.pkg.dev/colab-wheels/public/simple/\n",
            "Collecting torch==2.0.0\n",
            "  Downloading torch-2.0.0-cp39-cp39-manylinux1_x86_64.whl (619.9 MB)\n",
            "\u001b[2K     \u001b[90m━━━━━━━━━━━━━━━━━━━━━━━━━━━━━━━━━━━━━━━\u001b[0m \u001b[32m619.9/619.9 MB\u001b[0m \u001b[31m2.6 MB/s\u001b[0m eta \u001b[36m0:00:00\u001b[0m\n",
            "\u001b[?25hRequirement already satisfied: sympy in /usr/local/lib/python3.9/dist-packages (from torch==2.0.0) (1.11.1)\n",
            "Collecting nvidia-cudnn-cu11==8.5.0.96\n",
            "  Downloading nvidia_cudnn_cu11-8.5.0.96-2-py3-none-manylinux1_x86_64.whl (557.1 MB)\n",
            "\u001b[2K     \u001b[90m━━━━━━━━━━━━━━━━━━━━━━━━━━━━━━━━━━━━━━━\u001b[0m \u001b[32m557.1/557.1 MB\u001b[0m \u001b[31m3.1 MB/s\u001b[0m eta \u001b[36m0:00:00\u001b[0m\n",
            "\u001b[?25hRequirement already satisfied: triton==2.0.0 in /usr/local/lib/python3.9/dist-packages (from torch==2.0.0) (2.0.0)\n",
            "Collecting nvidia-nvtx-cu11==11.7.91\n",
            "  Downloading nvidia_nvtx_cu11-11.7.91-py3-none-manylinux1_x86_64.whl (98 kB)\n",
            "\u001b[2K     \u001b[90m━━━━━━━━━━━━━━━━━━━━━━━━━━━━━━━━━━━━━━━━\u001b[0m \u001b[32m98.6/98.6 kB\u001b[0m \u001b[31m11.7 MB/s\u001b[0m eta \u001b[36m0:00:00\u001b[0m\n",
            "\u001b[?25hCollecting nvidia-cufft-cu11==10.9.0.58\n",
            "  Downloading nvidia_cufft_cu11-10.9.0.58-py3-none-manylinux1_x86_64.whl (168.4 MB)\n",
            "\u001b[2K     \u001b[90m━━━━━━━━━━━━━━━━━━━━━━━━━━━━━━━━━━━━━━━\u001b[0m \u001b[32m168.4/168.4 MB\u001b[0m \u001b[31m6.9 MB/s\u001b[0m eta \u001b[36m0:00:00\u001b[0m\n",
            "\u001b[?25hCollecting nvidia-nccl-cu11==2.14.3\n",
            "  Downloading nvidia_nccl_cu11-2.14.3-py3-none-manylinux1_x86_64.whl (177.1 MB)\n",
            "\u001b[2K     \u001b[90m━━━━━━━━━━━━━━━━━━━━━━━━━━━━━━━━━━━━━━━\u001b[0m \u001b[32m177.1/177.1 MB\u001b[0m \u001b[31m7.7 MB/s\u001b[0m eta \u001b[36m0:00:00\u001b[0m\n",
            "\u001b[?25hCollecting nvidia-cuda-cupti-cu11==11.7.101\n",
            "  Downloading nvidia_cuda_cupti_cu11-11.7.101-py3-none-manylinux1_x86_64.whl (11.8 MB)\n",
            "\u001b[2K     \u001b[90m━━━━━━━━━━━━━━━━━━━━━━━━━━━━━━━━━━━━━━━━\u001b[0m \u001b[32m11.8/11.8 MB\u001b[0m \u001b[31m93.2 MB/s\u001b[0m eta \u001b[36m0:00:00\u001b[0m\n",
            "\u001b[?25hCollecting nvidia-cusparse-cu11==11.7.4.91\n",
            "  Downloading nvidia_cusparse_cu11-11.7.4.91-py3-none-manylinux1_x86_64.whl (173.2 MB)\n",
            "\u001b[2K     \u001b[90m━━━━━━━━━━━━━━━━━━━━━━━━━━━━━━━━━━━━━━━\u001b[0m \u001b[32m173.2/173.2 MB\u001b[0m \u001b[31m8.0 MB/s\u001b[0m eta \u001b[36m0:00:00\u001b[0m\n",
            "\u001b[?25hRequirement already satisfied: filelock in /usr/local/lib/python3.9/dist-packages (from torch==2.0.0) (3.10.7)\n",
            "Collecting nvidia-cuda-nvrtc-cu11==11.7.99\n",
            "  Downloading nvidia_cuda_nvrtc_cu11-11.7.99-2-py3-none-manylinux1_x86_64.whl (21.0 MB)\n",
            "\u001b[2K     \u001b[90m━━━━━━━━━━━━━━━━━━━━━━━━━━━━━━━━━━━━━━━━\u001b[0m \u001b[32m21.0/21.0 MB\u001b[0m \u001b[31m73.3 MB/s\u001b[0m eta \u001b[36m0:00:00\u001b[0m\n",
            "\u001b[?25hCollecting nvidia-cublas-cu11==11.10.3.66\n",
            "  Downloading nvidia_cublas_cu11-11.10.3.66-py3-none-manylinux1_x86_64.whl (317.1 MB)\n",
            "\u001b[2K     \u001b[90m━━━━━━━━━━━━━━━━━━━━━━━━━━━━━━━━━━━━━━━\u001b[0m \u001b[32m317.1/317.1 MB\u001b[0m \u001b[31m4.5 MB/s\u001b[0m eta \u001b[36m0:00:00\u001b[0m\n",
            "\u001b[?25hCollecting nvidia-cuda-runtime-cu11==11.7.99\n",
            "  Downloading nvidia_cuda_runtime_cu11-11.7.99-py3-none-manylinux1_x86_64.whl (849 kB)\n",
            "\u001b[2K     \u001b[90m━━━━━━━━━━━━━━━━━━━━━━━━━━━━━━━━━━━━━━\u001b[0m \u001b[32m849.3/849.3 kB\u001b[0m \u001b[31m52.8 MB/s\u001b[0m eta \u001b[36m0:00:00\u001b[0m\n",
            "\u001b[?25hCollecting nvidia-cusolver-cu11==11.4.0.1\n",
            "  Downloading nvidia_cusolver_cu11-11.4.0.1-2-py3-none-manylinux1_x86_64.whl (102.6 MB)\n",
            "\u001b[2K     \u001b[90m━━━━━━━━━━━━━━━━━━━━━━━━━━━━━━━━━━━━━━\u001b[0m \u001b[32m102.6/102.6 MB\u001b[0m \u001b[31m10.2 MB/s\u001b[0m eta \u001b[36m0:00:00\u001b[0m\n",
            "\u001b[?25hRequirement already satisfied: typing-extensions in /usr/local/lib/python3.9/dist-packages (from torch==2.0.0) (4.5.0)\n",
            "Collecting nvidia-curand-cu11==10.2.10.91\n",
            "  Downloading nvidia_curand_cu11-10.2.10.91-py3-none-manylinux1_x86_64.whl (54.6 MB)\n",
            "\u001b[2K     \u001b[90m━━━━━━━━━━━━━━━━━━━━━━━━━━━━━━━━━━━━━━━━\u001b[0m \u001b[32m54.6/54.6 MB\u001b[0m \u001b[31m14.3 MB/s\u001b[0m eta \u001b[36m0:00:00\u001b[0m\n",
            "\u001b[?25hRequirement already satisfied: jinja2 in /usr/local/lib/python3.9/dist-packages (from torch==2.0.0) (3.1.2)\n",
            "Requirement already satisfied: networkx in /usr/local/lib/python3.9/dist-packages (from torch==2.0.0) (3.0)\n",
            "Requirement already satisfied: wheel in /usr/local/lib/python3.9/dist-packages (from nvidia-cublas-cu11==11.10.3.66->torch==2.0.0) (0.40.0)\n",
            "Requirement already satisfied: setuptools in /usr/local/lib/python3.9/dist-packages (from nvidia-cublas-cu11==11.10.3.66->torch==2.0.0) (67.6.1)\n",
            "Requirement already satisfied: lit in /usr/local/lib/python3.9/dist-packages (from triton==2.0.0->torch==2.0.0) (16.0.0)\n",
            "Requirement already satisfied: cmake in /usr/local/lib/python3.9/dist-packages (from triton==2.0.0->torch==2.0.0) (3.25.2)\n",
            "Requirement already satisfied: MarkupSafe>=2.0 in /usr/local/lib/python3.9/dist-packages (from jinja2->torch==2.0.0) (2.1.2)\n",
            "Requirement already satisfied: mpmath>=0.19 in /usr/local/lib/python3.9/dist-packages (from sympy->torch==2.0.0) (1.3.0)\n",
            "Installing collected packages: nvidia-nvtx-cu11, nvidia-nccl-cu11, nvidia-cusparse-cu11, nvidia-curand-cu11, nvidia-cufft-cu11, nvidia-cuda-runtime-cu11, nvidia-cuda-nvrtc-cu11, nvidia-cuda-cupti-cu11, nvidia-cublas-cu11, nvidia-cusolver-cu11, nvidia-cudnn-cu11, torch\n",
            "  Attempting uninstall: torch\n",
            "    Found existing installation: torch 1.8.1\n",
            "    Uninstalling torch-1.8.1:\n",
            "      Successfully uninstalled torch-1.8.1\n",
            "\u001b[31mERROR: pip's dependency resolver does not currently take into account all the packages that are installed. This behaviour is the source of the following dependency conflicts.\n",
            "torchvision 0.9.1 requires torch==1.8.1, but you have torch 2.0.0 which is incompatible.\n",
            "lightautoml 0.3.7.3 requires torch<1.9, but you have torch 2.0.0 which is incompatible.\u001b[0m\u001b[31m\n",
            "\u001b[0mSuccessfully installed nvidia-cublas-cu11-11.10.3.66 nvidia-cuda-cupti-cu11-11.7.101 nvidia-cuda-nvrtc-cu11-11.7.99 nvidia-cuda-runtime-cu11-11.7.99 nvidia-cudnn-cu11-8.5.0.96 nvidia-cufft-cu11-10.9.0.58 nvidia-curand-cu11-10.2.10.91 nvidia-cusolver-cu11-11.4.0.1 nvidia-cusparse-cu11-11.7.4.91 nvidia-nccl-cu11-2.14.3 nvidia-nvtx-cu11-11.7.91 torch-2.0.0\n"
          ]
        }
      ]
    },
    {
      "cell_type": "code",
      "execution_count": null,
      "metadata": {
        "id": "0197958d"
      },
      "outputs": [],
      "source": [
        "from lightautoml.automl.presets.tabular_presets import TabularAutoML, TabularUtilizedAutoML\n",
        "from lightautoml.tasks import Task\n",
        "from lightautoml.tasks.common_metric import mean_quantile_error"
      ],
      "id": "0197958d"
    },
    {
      "cell_type": "code",
      "source": [
        "X_y_train = X_train.copy()\n",
        "X_y_train[\"target\"] = y_train"
      ],
      "metadata": {
        "id": "n8XZjhX900lu"
      },
      "id": "n8XZjhX900lu",
      "execution_count": null,
      "outputs": []
    },
    {
      "cell_type": "code",
      "execution_count": null,
      "metadata": {
        "id": "47457049"
      },
      "outputs": [],
      "source": [
        "TASK = Task(\"binary\", metric=\"auc\", greater_is_better=False)\n",
        "N_THREADS = 8 # threads cnt for lgbm and linear models\n",
        "N_FOLDS = 5 # folds cnt for AutoML\n",
        "RANDOM_STATE = 42\n",
        "TEST_SIZE = 0.3\n",
        "TARGET_NAME = \"target\"\n",
        "roles = {\"target\": TARGET_NAME, \"drop\": [\"match_id_hash\"]}\n"
      ],
      "id": "47457049"
    },
    {
      "cell_type": "code",
      "execution_count": null,
      "metadata": {
        "id": "889f1e0c"
      },
      "outputs": [],
      "source": [
        "automl_model = TabularAutoML(task=TASK,\n",
        "                            timeout=30000,\n",
        "                            cpu_limit = N_THREADS,\n",
        "                            gpu_ids='all',\n",
        "                            reader_params = {'n_jobs': N_THREADS, 'cv': N_FOLDS, 'random_state': RANDOM_STATE},\n",
        "                            general_params={'use_algos': [['lgb_tuned', 'cb_tuned', 'cb'],['lgb_tuned', 'cb']]},\n",
        "                            tuning_params={'max_tuning_iter': 20},\n",
        "                      )"
      ],
      "id": "889f1e0c"
    },
    {
      "cell_type": "code",
      "execution_count": null,
      "metadata": {
        "id": "412256f8",
        "colab": {
          "base_uri": "https://localhost:8080/"
        },
        "outputId": "b6e46b60-ea6a-46d9-9f32-c7d69a8f5eb3"
      },
      "outputs": [
        {
          "output_type": "stream",
          "name": "stdout",
          "text": [
            "[15:33:32] Stdout logging level is INFO.\n"
          ]
        },
        {
          "output_type": "stream",
          "name": "stderr",
          "text": [
            "INFO:lightautoml.automl.presets.base:Stdout logging level is INFO.\n"
          ]
        },
        {
          "output_type": "stream",
          "name": "stdout",
          "text": [
            "[15:33:32] Copying TaskTimer may affect the parent PipelineTimer, so copy will create new unlimited TaskTimer\n"
          ]
        },
        {
          "output_type": "stream",
          "name": "stderr",
          "text": [
            "WARNING:lightautoml.utils.timer:Copying TaskTimer may affect the parent PipelineTimer, so copy will create new unlimited TaskTimer\n"
          ]
        },
        {
          "output_type": "stream",
          "name": "stdout",
          "text": [
            "[15:33:32] Task: binary\n",
            "\n"
          ]
        },
        {
          "output_type": "stream",
          "name": "stderr",
          "text": [
            "INFO:lightautoml.automl.presets.base:Task: binary\n",
            "\n"
          ]
        },
        {
          "output_type": "stream",
          "name": "stdout",
          "text": [
            "[15:33:32] Start automl preset with listed constraints:\n"
          ]
        },
        {
          "output_type": "stream",
          "name": "stderr",
          "text": [
            "INFO:lightautoml.automl.presets.base:Start automl preset with listed constraints:\n"
          ]
        },
        {
          "output_type": "stream",
          "name": "stdout",
          "text": [
            "[15:33:32] - time: 30000.00 seconds\n"
          ]
        },
        {
          "output_type": "stream",
          "name": "stderr",
          "text": [
            "INFO:lightautoml.automl.presets.base:- time: 30000.00 seconds\n"
          ]
        },
        {
          "output_type": "stream",
          "name": "stdout",
          "text": [
            "[15:33:32] - CPU: 8 cores\n"
          ]
        },
        {
          "output_type": "stream",
          "name": "stderr",
          "text": [
            "INFO:lightautoml.automl.presets.base:- CPU: 8 cores\n"
          ]
        },
        {
          "output_type": "stream",
          "name": "stdout",
          "text": [
            "[15:33:32] - memory: 16 GB\n",
            "\n"
          ]
        },
        {
          "output_type": "stream",
          "name": "stderr",
          "text": [
            "INFO:lightautoml.automl.presets.base:- memory: 16 GB\n",
            "\n"
          ]
        },
        {
          "output_type": "stream",
          "name": "stdout",
          "text": [
            "[15:33:32] \u001b[1mTrain data shape: (22188, 246)\u001b[0m\n",
            "\n"
          ]
        },
        {
          "output_type": "stream",
          "name": "stderr",
          "text": [
            "INFO:lightautoml.reader.base:\u001b[1mTrain data shape: (22188, 246)\u001b[0m\n",
            "\n",
            "INFO3:lightautoml.reader.base:Feats was rejected during automatic roles guess: []\n"
          ]
        },
        {
          "output_type": "stream",
          "name": "stdout",
          "text": [
            "[15:33:50] Layer \u001b[1m1\u001b[0m train process start. Time left 29981.92 secs\n"
          ]
        },
        {
          "output_type": "stream",
          "name": "stderr",
          "text": [
            "INFO:lightautoml.automl.base:Layer \u001b[1m1\u001b[0m train process start. Time left 29981.92 secs\n",
            "INFO3:lightautoml.ml_algo.boost_lgbm:Training until validation scores don't improve for 200 rounds\n",
            "DEBUG:lightautoml.ml_algo.boost_lgbm:[100]\tvalid's auc: 0.779649\n",
            "DEBUG:lightautoml.ml_algo.boost_lgbm:[200]\tvalid's auc: 0.792598\n",
            "DEBUG:lightautoml.ml_algo.boost_lgbm:[300]\tvalid's auc: 0.798915\n",
            "DEBUG:lightautoml.ml_algo.boost_lgbm:[400]\tvalid's auc: 0.799557\n",
            "DEBUG:lightautoml.ml_algo.boost_lgbm:[500]\tvalid's auc: 0.79889\n",
            "DEBUG:lightautoml.ml_algo.boost_lgbm:[600]\tvalid's auc: 0.800136\n",
            "DEBUG:lightautoml.ml_algo.boost_lgbm:[700]\tvalid's auc: 0.800802\n",
            "DEBUG:lightautoml.ml_algo.boost_lgbm:[800]\tvalid's auc: 0.801004\n",
            "DEBUG:lightautoml.ml_algo.boost_lgbm:[900]\tvalid's auc: 0.801622\n",
            "DEBUG:lightautoml.ml_algo.boost_lgbm:[1000]\tvalid's auc: 0.801647\n",
            "DEBUG:lightautoml.ml_algo.boost_lgbm:[1100]\tvalid's auc: 0.801435\n",
            "DEBUG:lightautoml.ml_algo.boost_lgbm:[1200]\tvalid's auc: 0.801913\n",
            "DEBUG:lightautoml.ml_algo.boost_lgbm:[1300]\tvalid's auc: 0.801779\n",
            "DEBUG:lightautoml.ml_algo.boost_lgbm:[1400]\tvalid's auc: 0.801265\n",
            "DEBUG:lightautoml.ml_algo.boost_lgbm:Early stopping, best iteration is:\n",
            "[1230]\tvalid's auc: 0.802082\n"
          ]
        },
        {
          "output_type": "stream",
          "name": "stdout",
          "text": [
            "[15:35:23] \u001b[1mSelector_LightGBM\u001b[0m fitting and predicting completed\n"
          ]
        },
        {
          "output_type": "stream",
          "name": "stderr",
          "text": [
            "INFO:lightautoml.ml_algo.base:\u001b[1mSelector_LightGBM\u001b[0m fitting and predicting completed\n"
          ]
        },
        {
          "output_type": "stream",
          "name": "stdout",
          "text": [
            "[15:35:26] Start hyperparameters optimization for \u001b[1mLvl_0_Pipe_0_Mod_0_Tuned_LightGBM\u001b[0m ... Time budget is 300.00 secs\n"
          ]
        },
        {
          "output_type": "stream",
          "name": "stderr",
          "text": [
            "INFO:lightautoml.ml_algo.tuning.optuna:Start hyperparameters optimization for \u001b[1mLvl_0_Pipe_0_Mod_0_Tuned_LightGBM\u001b[0m ... Time budget is 300.00 secs\n",
            "INFO:optuna.storages._in_memory:A new study created in memory with name: no-name-c37a3e18-ca7e-417a-ae9b-25923e8b3107\n",
            "INFO3:lightautoml.ml_algo.boost_lgbm:Training until validation scores don't improve for 200 rounds\n",
            "DEBUG:lightautoml.ml_algo.boost_lgbm:[100]\tvalid's auc: 0.780933\n",
            "DEBUG:lightautoml.ml_algo.boost_lgbm:[200]\tvalid's auc: 0.792321\n",
            "DEBUG:lightautoml.ml_algo.boost_lgbm:[300]\tvalid's auc: 0.797481\n",
            "DEBUG:lightautoml.ml_algo.boost_lgbm:[400]\tvalid's auc: 0.799384\n",
            "DEBUG:lightautoml.ml_algo.boost_lgbm:[500]\tvalid's auc: 0.80142\n",
            "DEBUG:lightautoml.ml_algo.boost_lgbm:[600]\tvalid's auc: 0.802237\n",
            "DEBUG:lightautoml.ml_algo.boost_lgbm:[700]\tvalid's auc: 0.802535\n",
            "DEBUG:lightautoml.ml_algo.boost_lgbm:[800]\tvalid's auc: 0.802946\n",
            "DEBUG:lightautoml.ml_algo.boost_lgbm:[900]\tvalid's auc: 0.802911\n",
            "DEBUG:lightautoml.ml_algo.boost_lgbm:[1000]\tvalid's auc: 0.803204\n",
            "DEBUG:lightautoml.ml_algo.boost_lgbm:[1100]\tvalid's auc: 0.803542\n",
            "DEBUG:lightautoml.ml_algo.boost_lgbm:[1200]\tvalid's auc: 0.803671\n",
            "DEBUG:lightautoml.ml_algo.boost_lgbm:[1300]\tvalid's auc: 0.803618\n",
            "DEBUG:lightautoml.ml_algo.boost_lgbm:[1400]\tvalid's auc: 0.803856\n",
            "DEBUG:lightautoml.ml_algo.boost_lgbm:[1500]\tvalid's auc: 0.803838\n",
            "DEBUG:lightautoml.ml_algo.boost_lgbm:[1600]\tvalid's auc: 0.803889\n",
            "DEBUG:lightautoml.ml_algo.boost_lgbm:[1700]\tvalid's auc: 0.804088\n",
            "DEBUG:lightautoml.ml_algo.boost_lgbm:[1800]\tvalid's auc: 0.804471\n",
            "DEBUG:lightautoml.ml_algo.boost_lgbm:[1900]\tvalid's auc: 0.804404\n",
            "DEBUG:lightautoml.ml_algo.boost_lgbm:[2000]\tvalid's auc: 0.804432\n",
            "DEBUG:lightautoml.ml_algo.boost_lgbm:Early stopping, best iteration is:\n",
            "[1835]\tvalid's auc: 0.804541\n",
            "INFO:optuna.study.study:Trial 0 finished with value: -0.8045412488791066 and parameters: {'feature_fraction': 0.6872700594236812, 'num_leaves': 244}. Best is trial 0 with value: -0.8045412488791066.\n",
            "INFO3:lightautoml.ml_algo.tuning.optuna:\u001b[1mTrial 1\u001b[0m with hyperparameters {'feature_fraction': 0.6872700594236812, 'num_leaves': 244} scored -0.8045412488791066 in 0:04:29.862917\n",
            "INFO3:lightautoml.ml_algo.boost_lgbm:Training until validation scores don't improve for 200 rounds\n",
            "DEBUG:lightautoml.ml_algo.boost_lgbm:[100]\tvalid's auc: 0.780872\n",
            "DEBUG:lightautoml.ml_algo.boost_lgbm:[200]\tvalid's auc: 0.792399\n",
            "DEBUG:lightautoml.ml_algo.boost_lgbm:[300]\tvalid's auc: 0.798592\n",
            "DEBUG:lightautoml.ml_algo.boost_lgbm:[400]\tvalid's auc: 0.800537\n",
            "DEBUG:lightautoml.ml_algo.boost_lgbm:[500]\tvalid's auc: 0.80092\n",
            "DEBUG:lightautoml.ml_algo.boost_lgbm:[600]\tvalid's auc: 0.8024\n",
            "DEBUG:lightautoml.ml_algo.boost_lgbm:[700]\tvalid's auc: 0.802679\n",
            "DEBUG:lightautoml.ml_algo.boost_lgbm:[800]\tvalid's auc: 0.803552\n",
            "DEBUG:lightautoml.ml_algo.boost_lgbm:[900]\tvalid's auc: 0.803979\n",
            "DEBUG:lightautoml.ml_algo.boost_lgbm:[1000]\tvalid's auc: 0.803835\n",
            "DEBUG:lightautoml.ml_algo.boost_lgbm:Early stopping, best iteration is:\n",
            "[867]\tvalid's auc: 0.804068\n",
            "INFO:optuna.study.study:Trial 1 finished with value: -0.8040684356403358 and parameters: {'feature_fraction': 0.8659969709057025, 'num_leaves': 159}. Best is trial 1 with value: -0.8040684356403358.\n",
            "INFO3:lightautoml.ml_algo.tuning.optuna:\u001b[1mTrial 2\u001b[0m with hyperparameters {'feature_fraction': 0.8659969709057025, 'num_leaves': 159} scored -0.8040684356403358 in 0:01:56.720664\n"
          ]
        },
        {
          "output_type": "stream",
          "name": "stdout",
          "text": [
            "[15:41:52] Hyperparameters optimization for \u001b[1mLvl_0_Pipe_0_Mod_0_Tuned_LightGBM\u001b[0m completed\n"
          ]
        },
        {
          "output_type": "stream",
          "name": "stderr",
          "text": [
            "INFO:lightautoml.ml_algo.tuning.optuna:Hyperparameters optimization for \u001b[1mLvl_0_Pipe_0_Mod_0_Tuned_LightGBM\u001b[0m completed\n",
            "INFO2:lightautoml.ml_algo.tuning.optuna:The set of hyperparameters \u001b[1m{'feature_fraction': 0.8659969709057025, 'num_leaves': 159}\u001b[0m\n",
            " achieve -0.8041 auc\n"
          ]
        },
        {
          "output_type": "stream",
          "name": "stdout",
          "text": [
            "[15:41:52] Start fitting \u001b[1mLvl_0_Pipe_0_Mod_0_Tuned_LightGBM\u001b[0m ...\n"
          ]
        },
        {
          "output_type": "stream",
          "name": "stderr",
          "text": [
            "INFO:lightautoml.ml_algo.base:Start fitting \u001b[1mLvl_0_Pipe_0_Mod_0_Tuned_LightGBM\u001b[0m ...\n",
            "DEBUG:lightautoml.ml_algo.base:Training params: {'task': 'train', 'learning_rate': 0.05, 'num_leaves': 159, 'feature_fraction': 0.8659969709057025, 'bagging_fraction': 0.7, 'bagging_freq': 1, 'max_depth': -1, 'verbosity': -1, 'reg_alpha': 1, 'reg_lambda': 0.0, 'min_split_gain': 0.0, 'zero_as_missing': False, 'num_threads': 2, 'max_bin': 255, 'min_data_in_bin': 3, 'num_trees': 3000, 'early_stopping_rounds': 100, 'random_state': 42}\n",
            "INFO2:lightautoml.ml_algo.base:===== Start working with \u001b[1mfold 0\u001b[0m for \u001b[1mLvl_0_Pipe_0_Mod_0_Tuned_LightGBM\u001b[0m =====\n",
            "INFO3:lightautoml.ml_algo.boost_lgbm:Training until validation scores don't improve for 100 rounds\n",
            "DEBUG:lightautoml.ml_algo.boost_lgbm:[100]\tvalid's auc: 0.789317\n",
            "DEBUG:lightautoml.ml_algo.boost_lgbm:[200]\tvalid's auc: 0.794058\n",
            "DEBUG:lightautoml.ml_algo.boost_lgbm:[300]\tvalid's auc: 0.797483\n",
            "DEBUG:lightautoml.ml_algo.boost_lgbm:[400]\tvalid's auc: 0.797675\n",
            "DEBUG:lightautoml.ml_algo.boost_lgbm:[500]\tvalid's auc: 0.798322\n",
            "DEBUG:lightautoml.ml_algo.boost_lgbm:[600]\tvalid's auc: 0.798749\n",
            "DEBUG:lightautoml.ml_algo.boost_lgbm:[700]\tvalid's auc: 0.799111\n",
            "DEBUG:lightautoml.ml_algo.boost_lgbm:[800]\tvalid's auc: 0.799542\n",
            "DEBUG:lightautoml.ml_algo.boost_lgbm:[900]\tvalid's auc: 0.800189\n",
            "DEBUG:lightautoml.ml_algo.boost_lgbm:[1000]\tvalid's auc: 0.800488\n",
            "DEBUG:lightautoml.ml_algo.boost_lgbm:[1100]\tvalid's auc: 0.800526\n",
            "DEBUG:lightautoml.ml_algo.boost_lgbm:[1200]\tvalid's auc: 0.800854\n",
            "DEBUG:lightautoml.ml_algo.boost_lgbm:[1300]\tvalid's auc: 0.801114\n",
            "DEBUG:lightautoml.ml_algo.boost_lgbm:[1400]\tvalid's auc: 0.801155\n",
            "DEBUG:lightautoml.ml_algo.boost_lgbm:Early stopping, best iteration is:\n",
            "[1333]\tvalid's auc: 0.801241\n",
            "INFO2:lightautoml.ml_algo.base:===== Start working with \u001b[1mfold 1\u001b[0m for \u001b[1mLvl_0_Pipe_0_Mod_0_Tuned_LightGBM\u001b[0m =====\n",
            "INFO3:lightautoml.ml_algo.boost_lgbm:Training until validation scores don't improve for 100 rounds\n",
            "DEBUG:lightautoml.ml_algo.boost_lgbm:[100]\tvalid's auc: 0.789655\n",
            "DEBUG:lightautoml.ml_algo.boost_lgbm:[200]\tvalid's auc: 0.795931\n",
            "DEBUG:lightautoml.ml_algo.boost_lgbm:[300]\tvalid's auc: 0.797546\n",
            "DEBUG:lightautoml.ml_algo.boost_lgbm:[400]\tvalid's auc: 0.798477\n",
            "DEBUG:lightautoml.ml_algo.boost_lgbm:[500]\tvalid's auc: 0.799472\n",
            "DEBUG:lightautoml.ml_algo.boost_lgbm:[600]\tvalid's auc: 0.800511\n",
            "DEBUG:lightautoml.ml_algo.boost_lgbm:[700]\tvalid's auc: 0.801101\n",
            "DEBUG:lightautoml.ml_algo.boost_lgbm:[800]\tvalid's auc: 0.800745\n",
            "DEBUG:lightautoml.ml_algo.boost_lgbm:Early stopping, best iteration is:\n",
            "[707]\tvalid's auc: 0.801146\n",
            "INFO2:lightautoml.ml_algo.base:===== Start working with \u001b[1mfold 2\u001b[0m for \u001b[1mLvl_0_Pipe_0_Mod_0_Tuned_LightGBM\u001b[0m =====\n",
            "INFO3:lightautoml.ml_algo.boost_lgbm:Training until validation scores don't improve for 100 rounds\n",
            "DEBUG:lightautoml.ml_algo.boost_lgbm:[100]\tvalid's auc: 0.791304\n",
            "DEBUG:lightautoml.ml_algo.boost_lgbm:[200]\tvalid's auc: 0.799739\n",
            "DEBUG:lightautoml.ml_algo.boost_lgbm:[300]\tvalid's auc: 0.802774\n",
            "DEBUG:lightautoml.ml_algo.boost_lgbm:[400]\tvalid's auc: 0.804212\n",
            "DEBUG:lightautoml.ml_algo.boost_lgbm:[500]\tvalid's auc: 0.805529\n",
            "DEBUG:lightautoml.ml_algo.boost_lgbm:[600]\tvalid's auc: 0.805718\n",
            "DEBUG:lightautoml.ml_algo.boost_lgbm:[700]\tvalid's auc: 0.806254\n",
            "DEBUG:lightautoml.ml_algo.boost_lgbm:[800]\tvalid's auc: 0.806526\n",
            "DEBUG:lightautoml.ml_algo.boost_lgbm:[900]\tvalid's auc: 0.806626\n",
            "DEBUG:lightautoml.ml_algo.boost_lgbm:[1000]\tvalid's auc: 0.806791\n",
            "DEBUG:lightautoml.ml_algo.boost_lgbm:[1100]\tvalid's auc: 0.8071\n",
            "DEBUG:lightautoml.ml_algo.boost_lgbm:[1200]\tvalid's auc: 0.80704\n",
            "DEBUG:lightautoml.ml_algo.boost_lgbm:Early stopping, best iteration is:\n",
            "[1118]\tvalid's auc: 0.807212\n",
            "INFO2:lightautoml.ml_algo.base:===== Start working with \u001b[1mfold 3\u001b[0m for \u001b[1mLvl_0_Pipe_0_Mod_0_Tuned_LightGBM\u001b[0m =====\n",
            "INFO3:lightautoml.ml_algo.boost_lgbm:Training until validation scores don't improve for 100 rounds\n",
            "DEBUG:lightautoml.ml_algo.boost_lgbm:[100]\tvalid's auc: 0.789849\n",
            "DEBUG:lightautoml.ml_algo.boost_lgbm:[200]\tvalid's auc: 0.797375\n",
            "DEBUG:lightautoml.ml_algo.boost_lgbm:[300]\tvalid's auc: 0.799774\n",
            "DEBUG:lightautoml.ml_algo.boost_lgbm:[400]\tvalid's auc: 0.799307\n",
            "DEBUG:lightautoml.ml_algo.boost_lgbm:Early stopping, best iteration is:\n",
            "[308]\tvalid's auc: 0.800082\n",
            "INFO2:lightautoml.ml_algo.base:===== Start working with \u001b[1mfold 4\u001b[0m for \u001b[1mLvl_0_Pipe_0_Mod_0_Tuned_LightGBM\u001b[0m =====\n",
            "INFO3:lightautoml.ml_algo.boost_lgbm:Training until validation scores don't improve for 100 rounds\n",
            "DEBUG:lightautoml.ml_algo.boost_lgbm:[100]\tvalid's auc: 0.79141\n",
            "DEBUG:lightautoml.ml_algo.boost_lgbm:[200]\tvalid's auc: 0.800684\n",
            "DEBUG:lightautoml.ml_algo.boost_lgbm:[300]\tvalid's auc: 0.802334\n",
            "DEBUG:lightautoml.ml_algo.boost_lgbm:[400]\tvalid's auc: 0.803226\n",
            "DEBUG:lightautoml.ml_algo.boost_lgbm:[500]\tvalid's auc: 0.80427\n",
            "DEBUG:lightautoml.ml_algo.boost_lgbm:[600]\tvalid's auc: 0.804531\n",
            "DEBUG:lightautoml.ml_algo.boost_lgbm:[700]\tvalid's auc: 0.805159\n",
            "DEBUG:lightautoml.ml_algo.boost_lgbm:[800]\tvalid's auc: 0.805968\n",
            "DEBUG:lightautoml.ml_algo.boost_lgbm:[900]\tvalid's auc: 0.805609\n",
            "DEBUG:lightautoml.ml_algo.boost_lgbm:Early stopping, best iteration is:\n",
            "[804]\tvalid's auc: 0.805995\n"
          ]
        },
        {
          "output_type": "stream",
          "name": "stdout",
          "text": [
            "[15:46:53] Fitting \u001b[1mLvl_0_Pipe_0_Mod_0_Tuned_LightGBM\u001b[0m finished. score = \u001b[1m-0.8015504065581555\u001b[0m\n"
          ]
        },
        {
          "output_type": "stream",
          "name": "stderr",
          "text": [
            "INFO:lightautoml.ml_algo.base:Fitting \u001b[1mLvl_0_Pipe_0_Mod_0_Tuned_LightGBM\u001b[0m finished. score = \u001b[1m-0.8015504065581555\u001b[0m\n"
          ]
        },
        {
          "output_type": "stream",
          "name": "stdout",
          "text": [
            "[15:46:53] \u001b[1mLvl_0_Pipe_0_Mod_0_Tuned_LightGBM\u001b[0m fitting and predicting completed\n"
          ]
        },
        {
          "output_type": "stream",
          "name": "stderr",
          "text": [
            "INFO:lightautoml.ml_algo.base:\u001b[1mLvl_0_Pipe_0_Mod_0_Tuned_LightGBM\u001b[0m fitting and predicting completed\n"
          ]
        },
        {
          "output_type": "stream",
          "name": "stdout",
          "text": [
            "[15:46:53] Start fitting \u001b[1mLvl_0_Pipe_0_Mod_1_CatBoost\u001b[0m ...\n"
          ]
        },
        {
          "output_type": "stream",
          "name": "stderr",
          "text": [
            "INFO:lightautoml.ml_algo.base:Start fitting \u001b[1mLvl_0_Pipe_0_Mod_1_CatBoost\u001b[0m ...\n",
            "DEBUG:lightautoml.ml_algo.base:Training params: {'task_type': 'GPU', 'thread_count': 2, 'random_seed': 42, 'num_trees': 5000, 'learning_rate': 0.03, 'l2_leaf_reg': 0.01, 'bootstrap_type': 'Bernoulli', 'grow_policy': 'SymmetricTree', 'max_depth': 5, 'min_data_in_leaf': 1, 'one_hot_max_size': 10, 'fold_permutation_block': 1, 'boosting_type': 'Plain', 'boost_from_average': True, 'od_type': 'Iter', 'od_wait': 100, 'max_bin': 32, 'feature_border_type': 'GreedyLogSum', 'nan_mode': 'Min', 'verbose': 100, 'allow_writing_files': False, 'devices': '0'}\n",
            "INFO2:lightautoml.ml_algo.base:===== Start working with \u001b[1mfold 0\u001b[0m for \u001b[1mLvl_0_Pipe_0_Mod_1_CatBoost\u001b[0m =====\n",
            "Default metric period is 5 because AUC is/are not implemented for GPU\n",
            "INFO3:lightautoml.ml_algo.boost_cb:0:\ttest: 0.6537209\tbest: 0.6537209 (0)\ttotal: 25.9ms\tremaining: 2m 9s\n",
            "DEBUG:lightautoml.ml_algo.boost_cb:100:\ttest: 0.7699827\tbest: 0.7699827 (100)\ttotal: 669ms\tremaining: 32.4s\n",
            "DEBUG:lightautoml.ml_algo.boost_cb:200:\ttest: 0.7818603\tbest: 0.7818603 (200)\ttotal: 1.17s\tremaining: 27.9s\n",
            "DEBUG:lightautoml.ml_algo.boost_cb:300:\ttest: 0.7875715\tbest: 0.7875715 (300)\ttotal: 1.72s\tremaining: 26.8s\n",
            "DEBUG:lightautoml.ml_algo.boost_cb:400:\ttest: 0.7917280\tbest: 0.7917892 (397)\ttotal: 2.22s\tremaining: 25.5s\n",
            "DEBUG:lightautoml.ml_algo.boost_cb:500:\ttest: 0.7937442\tbest: 0.7937442 (500)\ttotal: 2.73s\tremaining: 24.5s\n",
            "DEBUG:lightautoml.ml_algo.boost_cb:600:\ttest: 0.7956896\tbest: 0.7956896 (600)\ttotal: 3.24s\tremaining: 23.7s\n",
            "DEBUG:lightautoml.ml_algo.boost_cb:700:\ttest: 0.7972226\tbest: 0.7972634 (692)\ttotal: 3.75s\tremaining: 23s\n",
            "DEBUG:lightautoml.ml_algo.boost_cb:800:\ttest: 0.7978727\tbest: 0.7981330 (790)\ttotal: 4.29s\tremaining: 22.5s\n",
            "DEBUG:lightautoml.ml_algo.boost_cb:900:\ttest: 0.7981200\tbest: 0.7981972 (886)\ttotal: 4.92s\tremaining: 22.4s\n",
            "DEBUG:lightautoml.ml_algo.boost_cb:1000:\ttest: 0.7985798\tbest: 0.7988445 (953)\ttotal: 7.99s\tremaining: 31.9s\n",
            "DEBUG:lightautoml.ml_algo.boost_cb:1100:\ttest: 0.7991819\tbest: 0.7992682 (1077)\ttotal: 10.4s\tremaining: 36.7s\n",
            "INFO3:lightautoml.ml_algo.boost_cb:bestTest = 0.7992681861\n",
            "INFO3:lightautoml.ml_algo.boost_cb:bestIteration = 1077\n",
            "INFO3:lightautoml.ml_algo.boost_cb:Shrink model to first 1078 iterations.\n",
            "INFO2:lightautoml.ml_algo.base:===== Start working with \u001b[1mfold 1\u001b[0m for \u001b[1mLvl_0_Pipe_0_Mod_1_CatBoost\u001b[0m =====\n",
            "Default metric period is 5 because AUC is/are not implemented for GPU\n",
            "INFO3:lightautoml.ml_algo.boost_cb:0:\ttest: 0.6628571\tbest: 0.6628571 (0)\ttotal: 6.17ms\tremaining: 30.8s\n",
            "DEBUG:lightautoml.ml_algo.boost_cb:100:\ttest: 0.7693520\tbest: 0.7694983 (99)\ttotal: 555ms\tremaining: 26.9s\n",
            "DEBUG:lightautoml.ml_algo.boost_cb:200:\ttest: 0.7789107\tbest: 0.7789107 (200)\ttotal: 1.04s\tremaining: 25s\n",
            "DEBUG:lightautoml.ml_algo.boost_cb:300:\ttest: 0.7832742\tbest: 0.7833171 (296)\ttotal: 1.56s\tremaining: 24.4s\n",
            "DEBUG:lightautoml.ml_algo.boost_cb:400:\ttest: 0.7875565\tbest: 0.7875565 (400)\ttotal: 2.06s\tremaining: 23.6s\n",
            "DEBUG:lightautoml.ml_algo.boost_cb:500:\ttest: 0.7899752\tbest: 0.7899752 (500)\ttotal: 2.58s\tremaining: 23.2s\n",
            "DEBUG:lightautoml.ml_algo.boost_cb:600:\ttest: 0.7913889\tbest: 0.7915721 (597)\ttotal: 3.11s\tremaining: 22.8s\n",
            "DEBUG:lightautoml.ml_algo.boost_cb:700:\ttest: 0.7926712\tbest: 0.7929934 (680)\ttotal: 3.64s\tremaining: 22.3s\n",
            "DEBUG:lightautoml.ml_algo.boost_cb:800:\ttest: 0.7936378\tbest: 0.7936414 (797)\ttotal: 4.13s\tremaining: 21.6s\n",
            "DEBUG:lightautoml.ml_algo.boost_cb:900:\ttest: 0.7944705\tbest: 0.7945610 (894)\ttotal: 4.69s\tremaining: 21.4s\n",
            "DEBUG:lightautoml.ml_algo.boost_cb:1000:\ttest: 0.7950489\tbest: 0.7950489 (1000)\ttotal: 5.2s\tremaining: 20.8s\n",
            "DEBUG:lightautoml.ml_algo.boost_cb:1100:\ttest: 0.7957869\tbest: 0.7958884 (1098)\ttotal: 5.71s\tremaining: 20.2s\n",
            "DEBUG:lightautoml.ml_algo.boost_cb:1200:\ttest: 0.7960681\tbest: 0.7962116 (1152)\ttotal: 6.2s\tremaining: 19.6s\n",
            "INFO3:lightautoml.ml_algo.boost_cb:bestTest = 0.7962116003\n",
            "INFO3:lightautoml.ml_algo.boost_cb:bestIteration = 1152\n",
            "INFO3:lightautoml.ml_algo.boost_cb:Shrink model to first 1153 iterations.\n",
            "INFO2:lightautoml.ml_algo.base:===== Start working with \u001b[1mfold 2\u001b[0m for \u001b[1mLvl_0_Pipe_0_Mod_1_CatBoost\u001b[0m =====\n",
            "Default metric period is 5 because AUC is/are not implemented for GPU\n",
            "INFO3:lightautoml.ml_algo.boost_cb:0:\ttest: 0.6728794\tbest: 0.6728794 (0)\ttotal: 6.11ms\tremaining: 30.5s\n",
            "DEBUG:lightautoml.ml_algo.boost_cb:100:\ttest: 0.7717936\tbest: 0.7717936 (100)\ttotal: 539ms\tremaining: 26.1s\n",
            "DEBUG:lightautoml.ml_algo.boost_cb:200:\ttest: 0.7819400\tbest: 0.7819400 (200)\ttotal: 1.03s\tremaining: 24.6s\n",
            "DEBUG:lightautoml.ml_algo.boost_cb:300:\ttest: 0.7872059\tbest: 0.7872279 (299)\ttotal: 3.11s\tremaining: 48.5s\n",
            "DEBUG:lightautoml.ml_algo.boost_cb:400:\ttest: 0.7919657\tbest: 0.7919657 (400)\ttotal: 6.33s\tremaining: 1m 12s\n",
            "DEBUG:lightautoml.ml_algo.boost_cb:500:\ttest: 0.7948751\tbest: 0.7948755 (499)\ttotal: 7.11s\tremaining: 1m 3s\n",
            "DEBUG:lightautoml.ml_algo.boost_cb:600:\ttest: 0.7956296\tbest: 0.7960182 (562)\ttotal: 7.63s\tremaining: 55.9s\n",
            "DEBUG:lightautoml.ml_algo.boost_cb:700:\ttest: 0.7961001\tbest: 0.7965752 (675)\ttotal: 8.15s\tremaining: 50s\n",
            "DEBUG:lightautoml.ml_algo.boost_cb:800:\ttest: 0.7969000\tbest: 0.7969000 (800)\ttotal: 8.67s\tremaining: 45.4s\n",
            "DEBUG:lightautoml.ml_algo.boost_cb:900:\ttest: 0.7965925\tbest: 0.7969636 (803)\ttotal: 9.17s\tremaining: 41.7s\n",
            "INFO3:lightautoml.ml_algo.boost_cb:bestTest = 0.7969635725\n",
            "INFO3:lightautoml.ml_algo.boost_cb:bestIteration = 803\n",
            "INFO3:lightautoml.ml_algo.boost_cb:Shrink model to first 804 iterations.\n",
            "INFO2:lightautoml.ml_algo.base:===== Start working with \u001b[1mfold 3\u001b[0m for \u001b[1mLvl_0_Pipe_0_Mod_1_CatBoost\u001b[0m =====\n",
            "Default metric period is 5 because AUC is/are not implemented for GPU\n",
            "INFO3:lightautoml.ml_algo.boost_cb:0:\ttest: 0.6500139\tbest: 0.6500139 (0)\ttotal: 18.9ms\tremaining: 1m 34s\n",
            "DEBUG:lightautoml.ml_algo.boost_cb:100:\ttest: 0.7667055\tbest: 0.7667382 (98)\ttotal: 558ms\tremaining: 27.1s\n",
            "DEBUG:lightautoml.ml_algo.boost_cb:200:\ttest: 0.7763799\tbest: 0.7763799 (200)\ttotal: 3.21s\tremaining: 1m 16s\n",
            "DEBUG:lightautoml.ml_algo.boost_cb:300:\ttest: 0.7816149\tbest: 0.7816446 (299)\ttotal: 3.8s\tremaining: 59.3s\n",
            "DEBUG:lightautoml.ml_algo.boost_cb:400:\ttest: 0.7852905\tbest: 0.7853022 (399)\ttotal: 4.32s\tremaining: 49.5s\n",
            "DEBUG:lightautoml.ml_algo.boost_cb:500:\ttest: 0.7891375\tbest: 0.7891454 (496)\ttotal: 4.83s\tremaining: 43.3s\n",
            "DEBUG:lightautoml.ml_algo.boost_cb:600:\ttest: 0.7902737\tbest: 0.7903163 (597)\ttotal: 5.32s\tremaining: 38.9s\n",
            "DEBUG:lightautoml.ml_algo.boost_cb:700:\ttest: 0.7926725\tbest: 0.7926887 (698)\ttotal: 5.84s\tremaining: 35.8s\n",
            "DEBUG:lightautoml.ml_algo.boost_cb:800:\ttest: 0.7936058\tbest: 0.7936058 (800)\ttotal: 6.36s\tremaining: 33.3s\n",
            "DEBUG:lightautoml.ml_algo.boost_cb:900:\ttest: 0.7941592\tbest: 0.7945523 (871)\ttotal: 7.81s\tremaining: 35.5s\n",
            "INFO3:lightautoml.ml_algo.boost_cb:bestTest = 0.7945522666\n",
            "INFO3:lightautoml.ml_algo.boost_cb:bestIteration = 871\n",
            "INFO3:lightautoml.ml_algo.boost_cb:Shrink model to first 872 iterations.\n",
            "INFO2:lightautoml.ml_algo.base:===== Start working with \u001b[1mfold 4\u001b[0m for \u001b[1mLvl_0_Pipe_0_Mod_1_CatBoost\u001b[0m =====\n",
            "Default metric period is 5 because AUC is/are not implemented for GPU\n",
            "INFO3:lightautoml.ml_algo.boost_cb:0:\ttest: 0.6686336\tbest: 0.6686336 (0)\ttotal: 112ms\tremaining: 9m 19s\n",
            "DEBUG:lightautoml.ml_algo.boost_cb:100:\ttest: 0.7742428\tbest: 0.7742428 (100)\ttotal: 4.66s\tremaining: 3m 46s\n",
            "DEBUG:lightautoml.ml_algo.boost_cb:200:\ttest: 0.7846938\tbest: 0.7846938 (200)\ttotal: 6.99s\tremaining: 2m 46s\n",
            "DEBUG:lightautoml.ml_algo.boost_cb:300:\ttest: 0.7901043\tbest: 0.7901357 (299)\ttotal: 9.44s\tremaining: 2m 27s\n",
            "DEBUG:lightautoml.ml_algo.boost_cb:400:\ttest: 0.7937971\tbest: 0.7938195 (399)\ttotal: 13.6s\tremaining: 2m 35s\n",
            "DEBUG:lightautoml.ml_algo.boost_cb:500:\ttest: 0.7974621\tbest: 0.7975237 (499)\ttotal: 16.1s\tremaining: 2m 24s\n",
            "DEBUG:lightautoml.ml_algo.boost_cb:600:\ttest: 0.8000759\tbest: 0.8001928 (599)\ttotal: 16.7s\tremaining: 2m 2s\n",
            "DEBUG:lightautoml.ml_algo.boost_cb:700:\ttest: 0.8013971\tbest: 0.8013971 (700)\ttotal: 17.2s\tremaining: 1m 45s\n",
            "DEBUG:lightautoml.ml_algo.boost_cb:800:\ttest: 0.8032714\tbest: 0.8033147 (792)\ttotal: 17.7s\tremaining: 1m 32s\n",
            "DEBUG:lightautoml.ml_algo.boost_cb:900:\ttest: 0.8044615\tbest: 0.8045559 (879)\ttotal: 18.3s\tremaining: 1m 23s\n",
            "INFO3:lightautoml.ml_algo.boost_cb:bestTest = 0.8045558929\n",
            "INFO3:lightautoml.ml_algo.boost_cb:bestIteration = 879\n",
            "INFO3:lightautoml.ml_algo.boost_cb:Shrink model to first 880 iterations.\n"
          ]
        },
        {
          "output_type": "stream",
          "name": "stdout",
          "text": [
            "[15:47:55] Fitting \u001b[1mLvl_0_Pipe_0_Mod_1_CatBoost\u001b[0m finished. score = \u001b[1m-0.798316653229962\u001b[0m\n"
          ]
        },
        {
          "output_type": "stream",
          "name": "stderr",
          "text": [
            "INFO:lightautoml.ml_algo.base:Fitting \u001b[1mLvl_0_Pipe_0_Mod_1_CatBoost\u001b[0m finished. score = \u001b[1m-0.798316653229962\u001b[0m\n"
          ]
        },
        {
          "output_type": "stream",
          "name": "stdout",
          "text": [
            "[15:47:55] \u001b[1mLvl_0_Pipe_0_Mod_1_CatBoost\u001b[0m fitting and predicting completed\n"
          ]
        },
        {
          "output_type": "stream",
          "name": "stderr",
          "text": [
            "INFO:lightautoml.ml_algo.base:\u001b[1mLvl_0_Pipe_0_Mod_1_CatBoost\u001b[0m fitting and predicting completed\n"
          ]
        },
        {
          "output_type": "stream",
          "name": "stdout",
          "text": [
            "[15:47:55] Start hyperparameters optimization for \u001b[1mLvl_0_Pipe_0_Mod_2_Tuned_CatBoost\u001b[0m ... Time budget is 300.00 secs\n"
          ]
        },
        {
          "output_type": "stream",
          "name": "stderr",
          "text": [
            "INFO:lightautoml.ml_algo.tuning.optuna:Start hyperparameters optimization for \u001b[1mLvl_0_Pipe_0_Mod_2_Tuned_CatBoost\u001b[0m ... Time budget is 300.00 secs\n",
            "INFO:optuna.storages._in_memory:A new study created in memory with name: no-name-3b0a445d-f7ac-411c-951b-ed72fd767fb4\n",
            "Default metric period is 5 because AUC is/are not implemented for GPU\n",
            "INFO3:lightautoml.ml_algo.boost_cb:0:\ttest: 0.6531342\tbest: 0.6531342 (0)\ttotal: 5.6ms\tremaining: 28s\n",
            "DEBUG:lightautoml.ml_algo.boost_cb:100:\ttest: 0.7669343\tbest: 0.7669343 (100)\ttotal: 451ms\tremaining: 21.9s\n",
            "DEBUG:lightautoml.ml_algo.boost_cb:200:\ttest: 0.7796258\tbest: 0.7796258 (200)\ttotal: 907ms\tremaining: 21.7s\n",
            "DEBUG:lightautoml.ml_algo.boost_cb:300:\ttest: 0.7861741\tbest: 0.7861741 (300)\ttotal: 1.36s\tremaining: 21.2s\n",
            "DEBUG:lightautoml.ml_algo.boost_cb:400:\ttest: 0.7906664\tbest: 0.7906664 (400)\ttotal: 1.82s\tremaining: 20.9s\n",
            "DEBUG:lightautoml.ml_algo.boost_cb:500:\ttest: 0.7931485\tbest: 0.7931890 (495)\ttotal: 2.29s\tremaining: 20.5s\n",
            "DEBUG:lightautoml.ml_algo.boost_cb:600:\ttest: 0.7951810\tbest: 0.7952988 (591)\ttotal: 3.13s\tremaining: 22.9s\n",
            "DEBUG:lightautoml.ml_algo.boost_cb:700:\ttest: 0.7963404\tbest: 0.7963404 (700)\ttotal: 3.91s\tremaining: 24s\n",
            "DEBUG:lightautoml.ml_algo.boost_cb:800:\ttest: 0.7974015\tbest: 0.7975681 (789)\ttotal: 4.39s\tremaining: 23s\n",
            "DEBUG:lightautoml.ml_algo.boost_cb:900:\ttest: 0.7978803\tbest: 0.7978803 (900)\ttotal: 4.88s\tremaining: 22.2s\n",
            "DEBUG:lightautoml.ml_algo.boost_cb:1000:\ttest: 0.7988799\tbest: 0.7989370 (992)\ttotal: 5.35s\tremaining: 21.4s\n",
            "DEBUG:lightautoml.ml_algo.boost_cb:1100:\ttest: 0.7995486\tbest: 0.7995804 (1093)\ttotal: 5.84s\tremaining: 20.7s\n",
            "DEBUG:lightautoml.ml_algo.boost_cb:1200:\ttest: 0.8000128\tbest: 0.8000701 (1192)\ttotal: 8.28s\tremaining: 26.2s\n",
            "DEBUG:lightautoml.ml_algo.boost_cb:1300:\ttest: 0.8001594\tbest: 0.8002458 (1290)\ttotal: 12.4s\tremaining: 35.4s\n",
            "DEBUG:lightautoml.ml_algo.boost_cb:1400:\ttest: 0.8010744\tbest: 0.8010793 (1399)\ttotal: 13.4s\tremaining: 34.5s\n",
            "DEBUG:lightautoml.ml_algo.boost_cb:1500:\ttest: 0.8013513\tbest: 0.8013672 (1499)\ttotal: 13.9s\tremaining: 32.4s\n",
            "DEBUG:lightautoml.ml_algo.boost_cb:1600:\ttest: 0.8014091\tbest: 0.8016080 (1524)\ttotal: 14.4s\tremaining: 30.5s\n",
            "INFO3:lightautoml.ml_algo.boost_cb:bestTest = 0.8016079664\n",
            "INFO3:lightautoml.ml_algo.boost_cb:bestIteration = 1524\n",
            "INFO3:lightautoml.ml_algo.boost_cb:Shrink model to first 1525 iterations.\n",
            "INFO:optuna.study.study:Trial 0 finished with value: -0.801608074508845 and parameters: {'max_depth': 4}. Best is trial 0 with value: -0.801608074508845.\n",
            "INFO3:lightautoml.ml_algo.tuning.optuna:\u001b[1mTrial 1\u001b[0m with hyperparameters {'max_depth': 4} scored -0.801608074508845 in 0:00:15.741892\n",
            "Default metric period is 5 because AUC is/are not implemented for GPU\n",
            "INFO3:lightautoml.ml_algo.boost_cb:0:\ttest: 0.6674252\tbest: 0.6674252 (0)\ttotal: 8.71ms\tremaining: 43.5s\n",
            "DEBUG:lightautoml.ml_algo.boost_cb:100:\ttest: 0.7760655\tbest: 0.7760655 (100)\ttotal: 765ms\tremaining: 37.1s\n",
            "DEBUG:lightautoml.ml_algo.boost_cb:200:\ttest: 0.7866064\tbest: 0.7866412 (199)\ttotal: 1.52s\tremaining: 36.4s\n",
            "DEBUG:lightautoml.ml_algo.boost_cb:300:\ttest: 0.7885125\tbest: 0.7888808 (297)\ttotal: 2.28s\tremaining: 35.7s\n",
            "DEBUG:lightautoml.ml_algo.boost_cb:400:\ttest: 0.7908838\tbest: 0.7910182 (397)\ttotal: 3.04s\tremaining: 34.9s\n",
            "DEBUG:lightautoml.ml_algo.boost_cb:500:\ttest: 0.7918790\tbest: 0.7919461 (489)\ttotal: 3.84s\tremaining: 34.5s\n",
            "DEBUG:lightautoml.ml_algo.boost_cb:600:\ttest: 0.7926329\tbest: 0.7930015 (589)\ttotal: 4.63s\tremaining: 33.9s\n",
            "DEBUG:lightautoml.ml_algo.boost_cb:700:\ttest: 0.7941893\tbest: 0.7947133 (683)\ttotal: 5.37s\tremaining: 32.9s\n",
            "INFO3:lightautoml.ml_algo.boost_cb:bestTest = 0.7947132587\n",
            "INFO3:lightautoml.ml_algo.boost_cb:bestIteration = 683\n",
            "INFO3:lightautoml.ml_algo.boost_cb:Shrink model to first 684 iterations.\n",
            "INFO:optuna.study.study:Trial 1 finished with value: -0.7947132550745903 and parameters: {'max_depth': 7}. Best is trial 1 with value: -0.7947132550745903.\n",
            "INFO3:lightautoml.ml_algo.tuning.optuna:\u001b[1mTrial 2\u001b[0m with hyperparameters {'max_depth': 7} scored -0.7947132550745903 in 0:00:06.979248\n",
            "Default metric period is 5 because AUC is/are not implemented for GPU\n",
            "INFO3:lightautoml.ml_algo.boost_cb:0:\ttest: 0.6639329\tbest: 0.6639329 (0)\ttotal: 38.1ms\tremaining: 3m 10s\n",
            "DEBUG:lightautoml.ml_algo.boost_cb:100:\ttest: 0.7744249\tbest: 0.7744304 (99)\ttotal: 5.26s\tremaining: 4m 15s\n",
            "DEBUG:lightautoml.ml_algo.boost_cb:200:\ttest: 0.7855749\tbest: 0.7855749 (200)\ttotal: 6.25s\tremaining: 2m 29s\n",
            "DEBUG:lightautoml.ml_algo.boost_cb:300:\ttest: 0.7891499\tbest: 0.7891499 (300)\ttotal: 6.88s\tremaining: 1m 47s\n",
            "DEBUG:lightautoml.ml_algo.boost_cb:400:\ttest: 0.7905173\tbest: 0.7905173 (400)\ttotal: 7.5s\tremaining: 1m 26s\n",
            "DEBUG:lightautoml.ml_algo.boost_cb:500:\ttest: 0.7926481\tbest: 0.7927071 (498)\ttotal: 8.13s\tremaining: 1m 12s\n",
            "DEBUG:lightautoml.ml_algo.boost_cb:600:\ttest: 0.7945710\tbest: 0.7945710 (600)\ttotal: 8.72s\tremaining: 1m 3s\n",
            "DEBUG:lightautoml.ml_algo.boost_cb:700:\ttest: 0.7956787\tbest: 0.7957182 (699)\ttotal: 9.34s\tremaining: 57.3s\n",
            "DEBUG:lightautoml.ml_algo.boost_cb:800:\ttest: 0.7960973\tbest: 0.7965670 (788)\ttotal: 9.95s\tremaining: 52.2s\n",
            "DEBUG:lightautoml.ml_algo.boost_cb:900:\ttest: 0.7967882\tbest: 0.7971689 (848)\ttotal: 10.5s\tremaining: 47.9s\n",
            "DEBUG:lightautoml.ml_algo.boost_cb:1000:\ttest: 0.7976981\tbest: 0.7976981 (1000)\ttotal: 11.2s\tremaining: 44.6s\n",
            "DEBUG:lightautoml.ml_algo.boost_cb:1100:\ttest: 0.7978634\tbest: 0.7978634 (1100)\ttotal: 11.8s\tremaining: 41.7s\n",
            "DEBUG:lightautoml.ml_algo.boost_cb:1200:\ttest: 0.7983431\tbest: 0.7983431 (1200)\ttotal: 12.4s\tremaining: 39.2s\n",
            "DEBUG:lightautoml.ml_algo.boost_cb:1300:\ttest: 0.7976449\tbest: 0.7984534 (1230)\ttotal: 13s\tremaining: 37s\n",
            "INFO3:lightautoml.ml_algo.boost_cb:bestTest = 0.7984533906\n",
            "INFO3:lightautoml.ml_algo.boost_cb:bestIteration = 1230\n",
            "INFO3:lightautoml.ml_algo.boost_cb:Shrink model to first 1231 iterations.\n",
            "INFO:optuna.study.study:Trial 2 finished with value: -0.7984533708323143 and parameters: {'max_depth': 6}. Best is trial 1 with value: -0.7947132550745903.\n",
            "INFO3:lightautoml.ml_algo.tuning.optuna:\u001b[1mTrial 3\u001b[0m with hyperparameters {'max_depth': 6} scored -0.7984533708323143 in 0:00:14.322245\n",
            "Default metric period is 5 because AUC is/are not implemented for GPU\n",
            "INFO3:lightautoml.ml_algo.boost_cb:0:\ttest: 0.6537209\tbest: 0.6537209 (0)\ttotal: 6.22ms\tremaining: 31.1s\n",
            "DEBUG:lightautoml.ml_algo.boost_cb:100:\ttest: 0.7718515\tbest: 0.7718515 (100)\ttotal: 1.18s\tremaining: 57.2s\n",
            "DEBUG:lightautoml.ml_algo.boost_cb:200:\ttest: 0.7838047\tbest: 0.7838245 (199)\ttotal: 4.78s\tremaining: 1m 54s\n",
            "DEBUG:lightautoml.ml_algo.boost_cb:300:\ttest: 0.7895631\tbest: 0.7895631 (300)\ttotal: 8.02s\tremaining: 2m 5s\n",
            "DEBUG:lightautoml.ml_algo.boost_cb:400:\ttest: 0.7932567\tbest: 0.7933227 (396)\ttotal: 8.59s\tremaining: 1m 38s\n",
            "DEBUG:lightautoml.ml_algo.boost_cb:500:\ttest: 0.7944018\tbest: 0.7944018 (500)\ttotal: 9.14s\tremaining: 1m 22s\n",
            "DEBUG:lightautoml.ml_algo.boost_cb:600:\ttest: 0.7960657\tbest: 0.7960732 (598)\ttotal: 9.67s\tremaining: 1m 10s\n",
            "DEBUG:lightautoml.ml_algo.boost_cb:700:\ttest: 0.7974037\tbest: 0.7974703 (689)\ttotal: 10.2s\tremaining: 1m 2s\n",
            "DEBUG:lightautoml.ml_algo.boost_cb:800:\ttest: 0.7979801\tbest: 0.7980943 (765)\ttotal: 10.8s\tremaining: 56.4s\n",
            "DEBUG:lightautoml.ml_algo.boost_cb:900:\ttest: 0.7981330\tbest: 0.7983050 (842)\ttotal: 11.3s\tremaining: 51.4s\n",
            "DEBUG:lightautoml.ml_algo.boost_cb:1000:\ttest: 0.7983953\tbest: 0.7987776 (974)\ttotal: 11.8s\tremaining: 47.2s\n",
            "DEBUG:lightautoml.ml_algo.boost_cb:1100:\ttest: 0.7990428\tbest: 0.7990428 (1100)\ttotal: 12.3s\tremaining: 43.7s\n",
            "DEBUG:lightautoml.ml_algo.boost_cb:1200:\ttest: 0.7992160\tbest: 0.7992643 (1116)\ttotal: 12.8s\tremaining: 40.6s\n",
            "DEBUG:lightautoml.ml_algo.boost_cb:1300:\ttest: 0.7996866\tbest: 0.7997978 (1281)\ttotal: 13.4s\tremaining: 38s\n",
            "DEBUG:lightautoml.ml_algo.boost_cb:1400:\ttest: 0.7997285\tbest: 0.7998213 (1354)\ttotal: 13.9s\tremaining: 35.7s\n",
            "DEBUG:lightautoml.ml_algo.boost_cb:1500:\ttest: 0.8001899\tbest: 0.8001899 (1500)\ttotal: 14.4s\tremaining: 33.6s\n",
            "DEBUG:lightautoml.ml_algo.boost_cb:1600:\ttest: 0.7997703\tbest: 0.8002305 (1504)\ttotal: 14.9s\tremaining: 31.7s\n",
            "INFO3:lightautoml.ml_algo.boost_cb:bestTest = 0.8002305031\n",
            "INFO3:lightautoml.ml_algo.boost_cb:bestIteration = 1504\n",
            "INFO3:lightautoml.ml_algo.boost_cb:Shrink model to first 1505 iterations.\n",
            "INFO:optuna.study.study:Trial 3 finished with value: -0.8002304964539007 and parameters: {'max_depth': 5}. Best is trial 1 with value: -0.7947132550745903.\n",
            "INFO3:lightautoml.ml_algo.tuning.optuna:\u001b[1mTrial 4\u001b[0m with hyperparameters {'max_depth': 5} scored -0.8002304964539007 in 0:00:16.018092\n",
            "Default metric period is 5 because AUC is/are not implemented for GPU\n",
            "INFO3:lightautoml.ml_algo.boost_cb:0:\ttest: 0.6420693\tbest: 0.6420693 (0)\ttotal: 5.31ms\tremaining: 26.6s\n",
            "DEBUG:lightautoml.ml_algo.boost_cb:100:\ttest: 0.7595896\tbest: 0.7597136 (99)\ttotal: 402ms\tremaining: 19.5s\n",
            "DEBUG:lightautoml.ml_algo.boost_cb:200:\ttest: 0.7749096\tbest: 0.7749096 (200)\ttotal: 801ms\tremaining: 19.1s\n",
            "DEBUG:lightautoml.ml_algo.boost_cb:300:\ttest: 0.7828342\tbest: 0.7828354 (299)\ttotal: 1.23s\tremaining: 19.2s\n",
            "DEBUG:lightautoml.ml_algo.boost_cb:400:\ttest: 0.7868807\tbest: 0.7868807 (400)\ttotal: 2.45s\tremaining: 28.1s\n",
            "DEBUG:lightautoml.ml_algo.boost_cb:500:\ttest: 0.7892007\tbest: 0.7892007 (500)\ttotal: 4.76s\tremaining: 42.8s\n",
            "DEBUG:lightautoml.ml_algo.boost_cb:600:\ttest: 0.7915460\tbest: 0.7915460 (600)\ttotal: 6.87s\tremaining: 50.3s\n",
            "DEBUG:lightautoml.ml_algo.boost_cb:700:\ttest: 0.7937719\tbest: 0.7937719 (700)\ttotal: 7.4s\tremaining: 45.4s\n",
            "DEBUG:lightautoml.ml_algo.boost_cb:800:\ttest: 0.7951630\tbest: 0.7951630 (800)\ttotal: 7.84s\tremaining: 41.1s\n",
            "DEBUG:lightautoml.ml_algo.boost_cb:900:\ttest: 0.7964413\tbest: 0.7964413 (900)\ttotal: 8.28s\tremaining: 37.7s\n",
            "DEBUG:lightautoml.ml_algo.boost_cb:1000:\ttest: 0.7979506\tbest: 0.7979506 (1000)\ttotal: 8.7s\tremaining: 34.8s\n",
            "DEBUG:lightautoml.ml_algo.boost_cb:1100:\ttest: 0.7990350\tbest: 0.7990350 (1100)\ttotal: 9.19s\tremaining: 32.5s\n",
            "DEBUG:lightautoml.ml_algo.boost_cb:1200:\ttest: 0.7994753\tbest: 0.7994753 (1200)\ttotal: 9.64s\tremaining: 30.5s\n",
            "DEBUG:lightautoml.ml_algo.boost_cb:1300:\ttest: 0.8003510\tbest: 0.8003813 (1298)\ttotal: 10.1s\tremaining: 28.6s\n",
            "DEBUG:lightautoml.ml_algo.boost_cb:1400:\ttest: 0.8010628\tbest: 0.8010669 (1399)\ttotal: 10.5s\tremaining: 27s\n",
            "DEBUG:lightautoml.ml_algo.boost_cb:1500:\ttest: 0.8013249\tbest: 0.8015295 (1460)\ttotal: 10.9s\tremaining: 25.5s\n",
            "INFO3:lightautoml.ml_algo.boost_cb:bestTest = 0.8015295267\n",
            "INFO3:lightautoml.ml_algo.boost_cb:bestIteration = 1460\n",
            "INFO3:lightautoml.ml_algo.boost_cb:Shrink model to first 1461 iterations.\n",
            "INFO:optuna.study.study:Trial 4 finished with value: -0.8015295100676614 and parameters: {'max_depth': 3}. Best is trial 1 with value: -0.7947132550745903.\n",
            "INFO3:lightautoml.ml_algo.tuning.optuna:\u001b[1mTrial 5\u001b[0m with hyperparameters {'max_depth': 3} scored -0.8015295100676614 in 0:00:12.405467\n",
            "Default metric period is 5 because AUC is/are not implemented for GPU\n",
            "INFO3:lightautoml.ml_algo.boost_cb:0:\ttest: 0.6420693\tbest: 0.6420693 (0)\ttotal: 5.21ms\tremaining: 26s\n",
            "DEBUG:lightautoml.ml_algo.boost_cb:100:\ttest: 0.7595900\tbest: 0.7597161 (99)\ttotal: 429ms\tremaining: 20.8s\n",
            "DEBUG:lightautoml.ml_algo.boost_cb:200:\ttest: 0.7749099\tbest: 0.7749099 (200)\ttotal: 827ms\tremaining: 19.8s\n",
            "DEBUG:lightautoml.ml_algo.boost_cb:300:\ttest: 0.7828344\tbest: 0.7828363 (299)\ttotal: 1.25s\tremaining: 19.6s\n",
            "DEBUG:lightautoml.ml_algo.boost_cb:400:\ttest: 0.7868809\tbest: 0.7868809 (400)\ttotal: 1.67s\tremaining: 19.2s\n",
            "DEBUG:lightautoml.ml_algo.boost_cb:500:\ttest: 0.7891993\tbest: 0.7891993 (500)\ttotal: 2.09s\tremaining: 18.7s\n",
            "DEBUG:lightautoml.ml_algo.boost_cb:600:\ttest: 0.7915446\tbest: 0.7915446 (600)\ttotal: 2.52s\tremaining: 18.4s\n",
            "DEBUG:lightautoml.ml_algo.boost_cb:700:\ttest: 0.7938261\tbest: 0.7938261 (700)\ttotal: 2.94s\tremaining: 18s\n",
            "DEBUG:lightautoml.ml_algo.boost_cb:800:\ttest: 0.7954021\tbest: 0.7954021 (800)\ttotal: 3.38s\tremaining: 17.7s\n",
            "DEBUG:lightautoml.ml_algo.boost_cb:900:\ttest: 0.7964270\tbest: 0.7964466 (892)\ttotal: 3.81s\tremaining: 17.3s\n",
            "DEBUG:lightautoml.ml_algo.boost_cb:1000:\ttest: 0.7979221\tbest: 0.7979357 (998)\ttotal: 4.25s\tremaining: 17s\n",
            "DEBUG:lightautoml.ml_algo.boost_cb:1100:\ttest: 0.7990839\tbest: 0.7990839 (1100)\ttotal: 6.12s\tremaining: 21.7s\n",
            "DEBUG:lightautoml.ml_algo.boost_cb:1200:\ttest: 0.7993861\tbest: 0.7993935 (1199)\ttotal: 9.4s\tremaining: 29.7s\n",
            "DEBUG:lightautoml.ml_algo.boost_cb:1300:\ttest: 0.8000116\tbest: 0.8000326 (1298)\ttotal: 10.4s\tremaining: 29.5s\n",
            "DEBUG:lightautoml.ml_algo.boost_cb:1400:\ttest: 0.8005019\tbest: 0.8005050 (1399)\ttotal: 10.8s\tremaining: 27.8s\n",
            "DEBUG:lightautoml.ml_algo.boost_cb:1500:\ttest: 0.8009430\tbest: 0.8010088 (1476)\ttotal: 11.2s\tremaining: 26.2s\n",
            "DEBUG:lightautoml.ml_algo.boost_cb:1600:\ttest: 0.8010952\tbest: 0.8011506 (1598)\ttotal: 11.7s\tremaining: 24.9s\n",
            "DEBUG:lightautoml.ml_algo.boost_cb:1700:\ttest: 0.8015393\tbest: 0.8015867 (1696)\ttotal: 12.1s\tremaining: 23.6s\n",
            "DEBUG:lightautoml.ml_algo.boost_cb:1800:\ttest: 0.8018538\tbest: 0.8018601 (1797)\ttotal: 12.6s\tremaining: 22.4s\n",
            "DEBUG:lightautoml.ml_algo.boost_cb:1900:\ttest: 0.8025618\tbest: 0.8025874 (1899)\ttotal: 13s\tremaining: 21.2s\n",
            "DEBUG:lightautoml.ml_algo.boost_cb:2000:\ttest: 0.8027694\tbest: 0.8028746 (1996)\ttotal: 13.5s\tremaining: 20.2s\n",
            "DEBUG:lightautoml.ml_algo.boost_cb:2100:\ttest: 0.8032047\tbest: 0.8032047 (2100)\ttotal: 13.9s\tremaining: 19.2s\n",
            "DEBUG:lightautoml.ml_algo.boost_cb:2200:\ttest: 0.8034135\tbest: 0.8034214 (2199)\ttotal: 14.4s\tremaining: 18.3s\n",
            "DEBUG:lightautoml.ml_algo.boost_cb:2300:\ttest: 0.8033861\tbest: 0.8036527 (2242)\ttotal: 14.8s\tremaining: 17.4s\n",
            "INFO3:lightautoml.ml_algo.boost_cb:bestTest = 0.8036527038\n",
            "INFO3:lightautoml.ml_algo.boost_cb:bestIteration = 2242\n",
            "INFO3:lightautoml.ml_algo.boost_cb:Shrink model to first 2243 iterations.\n",
            "INFO:optuna.study.study:Trial 5 finished with value: -0.8036528898671232 and parameters: {'max_depth': 3}. Best is trial 1 with value: -0.7947132550745903.\n",
            "INFO3:lightautoml.ml_algo.tuning.optuna:\u001b[1mTrial 6\u001b[0m with hyperparameters {'max_depth': 3} scored -0.8036528898671232 in 0:00:16.044593\n",
            "Default metric period is 5 because AUC is/are not implemented for GPU\n",
            "INFO3:lightautoml.ml_algo.boost_cb:0:\ttest: 0.6420693\tbest: 0.6420693 (0)\ttotal: 5.3ms\tremaining: 26.5s\n",
            "DEBUG:lightautoml.ml_algo.boost_cb:100:\ttest: 0.7595891\tbest: 0.7597151 (99)\ttotal: 416ms\tremaining: 20.2s\n",
            "DEBUG:lightautoml.ml_algo.boost_cb:200:\ttest: 0.7749093\tbest: 0.7749093 (200)\ttotal: 831ms\tremaining: 19.8s\n",
            "DEBUG:lightautoml.ml_algo.boost_cb:300:\ttest: 0.7828344\tbest: 0.7828351 (299)\ttotal: 1.24s\tremaining: 19.3s\n",
            "DEBUG:lightautoml.ml_algo.boost_cb:400:\ttest: 0.7868809\tbest: 0.7868809 (400)\ttotal: 1.68s\tremaining: 19.3s\n",
            "DEBUG:lightautoml.ml_algo.boost_cb:500:\ttest: 0.7896776\tbest: 0.7896776 (500)\ttotal: 2.14s\tremaining: 19.2s\n",
            "DEBUG:lightautoml.ml_algo.boost_cb:600:\ttest: 0.7915815\tbest: 0.7915815 (600)\ttotal: 2.56s\tremaining: 18.8s\n",
            "DEBUG:lightautoml.ml_algo.boost_cb:700:\ttest: 0.7939861\tbest: 0.7939861 (700)\ttotal: 2.99s\tremaining: 18.3s\n",
            "DEBUG:lightautoml.ml_algo.boost_cb:800:\ttest: 0.7953817\tbest: 0.7953817 (800)\ttotal: 3.41s\tremaining: 17.9s\n",
            "DEBUG:lightautoml.ml_algo.boost_cb:900:\ttest: 0.7967257\tbest: 0.7967257 (900)\ttotal: 3.86s\tremaining: 17.6s\n",
            "DEBUG:lightautoml.ml_algo.boost_cb:1000:\ttest: 0.7980756\tbest: 0.7980756 (1000)\ttotal: 6.74s\tremaining: 26.9s\n",
            "DEBUG:lightautoml.ml_algo.boost_cb:1100:\ttest: 0.7989392\tbest: 0.7990558 (1077)\ttotal: 9.48s\tremaining: 33.6s\n",
            "INFO3:lightautoml.ml_algo.boost_cb:bestTest = 0.7990558147\n",
            "INFO3:lightautoml.ml_algo.boost_cb:bestIteration = 1077\n",
            "INFO3:lightautoml.ml_algo.boost_cb:Shrink model to first 1078 iterations.\n",
            "INFO:optuna.study.study:Trial 6 finished with value: -0.7990558001141275 and parameters: {'max_depth': 3}. Best is trial 1 with value: -0.7947132550745903.\n",
            "INFO3:lightautoml.ml_algo.tuning.optuna:\u001b[1mTrial 7\u001b[0m with hyperparameters {'max_depth': 3} scored -0.7990558001141275 in 0:00:10.857593\n",
            "Default metric period is 5 because AUC is/are not implemented for GPU\n",
            "INFO3:lightautoml.ml_algo.boost_cb:0:\ttest: 0.6674252\tbest: 0.6674252 (0)\ttotal: 8.72ms\tremaining: 43.6s\n",
            "DEBUG:lightautoml.ml_algo.boost_cb:100:\ttest: 0.7760655\tbest: 0.7760655 (100)\ttotal: 769ms\tremaining: 37.3s\n",
            "DEBUG:lightautoml.ml_algo.boost_cb:200:\ttest: 0.7866064\tbest: 0.7866412 (199)\ttotal: 1.55s\tremaining: 37s\n",
            "DEBUG:lightautoml.ml_algo.boost_cb:300:\ttest: 0.7885124\tbest: 0.7888808 (297)\ttotal: 2.28s\tremaining: 35.6s\n",
            "DEBUG:lightautoml.ml_algo.boost_cb:400:\ttest: 0.7908837\tbest: 0.7910182 (397)\ttotal: 3.05s\tremaining: 35s\n",
            "DEBUG:lightautoml.ml_algo.boost_cb:500:\ttest: 0.7918797\tbest: 0.7919461 (489)\ttotal: 3.81s\tremaining: 34.2s\n",
            "DEBUG:lightautoml.ml_algo.boost_cb:600:\ttest: 0.7926327\tbest: 0.7930015 (589)\ttotal: 4.55s\tremaining: 33.3s\n",
            "DEBUG:lightautoml.ml_algo.boost_cb:700:\ttest: 0.7941893\tbest: 0.7947133 (683)\ttotal: 5.29s\tremaining: 32.5s\n",
            "INFO3:lightautoml.ml_algo.boost_cb:bestTest = 0.7947132587\n",
            "INFO3:lightautoml.ml_algo.boost_cb:bestIteration = 683\n",
            "INFO3:lightautoml.ml_algo.boost_cb:Shrink model to first 684 iterations.\n",
            "INFO:optuna.study.study:Trial 7 finished with value: -0.7947132550745903 and parameters: {'max_depth': 7}. Best is trial 1 with value: -0.7947132550745903.\n",
            "INFO3:lightautoml.ml_algo.tuning.optuna:\u001b[1mTrial 8\u001b[0m with hyperparameters {'max_depth': 7} scored -0.7947132550745903 in 0:00:07.609154\n",
            "Default metric period is 5 because AUC is/are not implemented for GPU\n",
            "INFO3:lightautoml.ml_algo.boost_cb:0:\ttest: 0.6639329\tbest: 0.6639329 (0)\ttotal: 7.28ms\tremaining: 36.4s\n",
            "DEBUG:lightautoml.ml_algo.boost_cb:100:\ttest: 0.7744255\tbest: 0.7744308 (99)\ttotal: 625ms\tremaining: 30.3s\n",
            "DEBUG:lightautoml.ml_algo.boost_cb:200:\ttest: 0.7855743\tbest: 0.7855743 (200)\ttotal: 2.5s\tremaining: 59.8s\n",
            "DEBUG:lightautoml.ml_algo.boost_cb:300:\ttest: 0.7891510\tbest: 0.7891510 (300)\ttotal: 6.48s\tremaining: 1m 41s\n",
            "DEBUG:lightautoml.ml_algo.boost_cb:400:\ttest: 0.7905177\tbest: 0.7905177 (400)\ttotal: 7.18s\tremaining: 1m 22s\n",
            "DEBUG:lightautoml.ml_algo.boost_cb:500:\ttest: 0.7926481\tbest: 0.7927085 (498)\ttotal: 7.82s\tremaining: 1m 10s\n",
            "DEBUG:lightautoml.ml_algo.boost_cb:600:\ttest: 0.7945712\tbest: 0.7945712 (600)\ttotal: 8.43s\tremaining: 1m 1s\n",
            "DEBUG:lightautoml.ml_algo.boost_cb:700:\ttest: 0.7956024\tbest: 0.7956024 (700)\ttotal: 9.04s\tremaining: 55.4s\n",
            "DEBUG:lightautoml.ml_algo.boost_cb:800:\ttest: 0.7952061\tbest: 0.7959226 (711)\ttotal: 9.63s\tremaining: 50.5s\n",
            "INFO3:lightautoml.ml_algo.boost_cb:bestTest = 0.7959225774\n",
            "INFO3:lightautoml.ml_algo.boost_cb:bestIteration = 711\n",
            "INFO3:lightautoml.ml_algo.boost_cb:Shrink model to first 712 iterations.\n",
            "INFO:optuna.study.study:Trial 8 finished with value: -0.7959225972120323 and parameters: {'max_depth': 6}. Best is trial 1 with value: -0.7947132550745903.\n",
            "INFO3:lightautoml.ml_algo.tuning.optuna:\u001b[1mTrial 9\u001b[0m with hyperparameters {'max_depth': 6} scored -0.7959225972120323 in 0:00:10.707801\n",
            "Default metric period is 5 because AUC is/are not implemented for GPU\n",
            "INFO3:lightautoml.ml_algo.boost_cb:0:\ttest: 0.6639329\tbest: 0.6639329 (0)\ttotal: 7.5ms\tremaining: 37.5s\n",
            "DEBUG:lightautoml.ml_algo.boost_cb:100:\ttest: 0.7743927\tbest: 0.7744002 (99)\ttotal: 625ms\tremaining: 30.3s\n",
            "DEBUG:lightautoml.ml_algo.boost_cb:200:\ttest: 0.7848793\tbest: 0.7849874 (199)\ttotal: 1.24s\tremaining: 29.5s\n",
            "DEBUG:lightautoml.ml_algo.boost_cb:300:\ttest: 0.7893915\tbest: 0.7895653 (289)\ttotal: 1.83s\tremaining: 28.5s\n",
            "DEBUG:lightautoml.ml_algo.boost_cb:400:\ttest: 0.7911873\tbest: 0.7912766 (396)\ttotal: 2.43s\tremaining: 27.9s\n",
            "DEBUG:lightautoml.ml_algo.boost_cb:500:\ttest: 0.7918130\tbest: 0.7921684 (472)\ttotal: 3.03s\tremaining: 27.2s\n",
            "DEBUG:lightautoml.ml_algo.boost_cb:600:\ttest: 0.7945957\tbest: 0.7945957 (600)\ttotal: 3.64s\tremaining: 26.7s\n",
            "DEBUG:lightautoml.ml_algo.boost_cb:700:\ttest: 0.7960451\tbest: 0.7960451 (700)\ttotal: 4.29s\tremaining: 26.3s\n",
            "DEBUG:lightautoml.ml_algo.boost_cb:800:\ttest: 0.7962540\tbest: 0.7969930 (785)\ttotal: 4.89s\tremaining: 25.6s\n",
            "INFO3:lightautoml.ml_algo.boost_cb:bestTest = 0.7969929576\n",
            "INFO3:lightautoml.ml_algo.boost_cb:bestIteration = 785\n",
            "INFO3:lightautoml.ml_algo.boost_cb:Shrink model to first 786 iterations.\n",
            "INFO:optuna.study.study:Trial 9 finished with value: -0.7969931523599902 and parameters: {'max_depth': 6}. Best is trial 1 with value: -0.7947132550745903.\n",
            "INFO3:lightautoml.ml_algo.tuning.optuna:\u001b[1mTrial 10\u001b[0m with hyperparameters {'max_depth': 6} scored -0.7969931523599902 in 0:00:06.410212\n",
            "Default metric period is 5 because AUC is/are not implemented for GPU\n",
            "INFO3:lightautoml.ml_algo.boost_cb:0:\ttest: 0.6674252\tbest: 0.6674252 (0)\ttotal: 41ms\tremaining: 3m 25s\n",
            "DEBUG:lightautoml.ml_algo.boost_cb:100:\ttest: 0.7760655\tbest: 0.7760655 (100)\ttotal: 4.05s\tremaining: 3m 16s\n",
            "DEBUG:lightautoml.ml_algo.boost_cb:200:\ttest: 0.7866074\tbest: 0.7866422 (199)\ttotal: 4.87s\tremaining: 1m 56s\n",
            "DEBUG:lightautoml.ml_algo.boost_cb:300:\ttest: 0.7885126\tbest: 0.7888818 (297)\ttotal: 5.62s\tremaining: 1m 27s\n",
            "DEBUG:lightautoml.ml_algo.boost_cb:400:\ttest: 0.7908845\tbest: 0.7910196 (397)\ttotal: 6.38s\tremaining: 1m 13s\n",
            "DEBUG:lightautoml.ml_algo.boost_cb:500:\ttest: 0.7918807\tbest: 0.7919479 (489)\ttotal: 7.13s\tremaining: 1m 4s\n",
            "DEBUG:lightautoml.ml_algo.boost_cb:600:\ttest: 0.7926335\tbest: 0.7930022 (589)\ttotal: 7.91s\tremaining: 57.9s\n",
            "DEBUG:lightautoml.ml_algo.boost_cb:700:\ttest: 0.7941899\tbest: 0.7947134 (683)\ttotal: 8.67s\tremaining: 53.1s\n",
            "INFO3:lightautoml.ml_algo.boost_cb:bestTest = 0.7947134376\n",
            "INFO3:lightautoml.ml_algo.boost_cb:bestIteration = 683\n",
            "INFO3:lightautoml.ml_algo.boost_cb:Shrink model to first 684 iterations.\n",
            "INFO:optuna.study.study:Trial 10 finished with value: -0.7947134588734002 and parameters: {'max_depth': 7}. Best is trial 1 with value: -0.7947132550745903.\n",
            "INFO3:lightautoml.ml_algo.tuning.optuna:\u001b[1mTrial 11\u001b[0m with hyperparameters {'max_depth': 7} scored -0.7947134588734002 in 0:00:11.052898\n",
            "Default metric period is 5 because AUC is/are not implemented for GPU\n",
            "INFO3:lightautoml.ml_algo.boost_cb:0:\ttest: 0.6674252\tbest: 0.6674252 (0)\ttotal: 8.58ms\tremaining: 42.9s\n",
            "DEBUG:lightautoml.ml_algo.boost_cb:100:\ttest: 0.7760630\tbest: 0.7760630 (100)\ttotal: 781ms\tremaining: 37.9s\n",
            "DEBUG:lightautoml.ml_algo.boost_cb:200:\ttest: 0.7866084\tbest: 0.7866424 (199)\ttotal: 1.53s\tremaining: 36.5s\n",
            "DEBUG:lightautoml.ml_algo.boost_cb:300:\ttest: 0.7885098\tbest: 0.7888791 (297)\ttotal: 2.28s\tremaining: 35.6s\n",
            "DEBUG:lightautoml.ml_algo.boost_cb:400:\ttest: 0.7908845\tbest: 0.7910179 (397)\ttotal: 3.03s\tremaining: 34.8s\n",
            "DEBUG:lightautoml.ml_algo.boost_cb:500:\ttest: 0.7918804\tbest: 0.7919434 (489)\ttotal: 4.33s\tremaining: 38.9s\n",
            "DEBUG:lightautoml.ml_algo.boost_cb:600:\ttest: 0.7923721\tbest: 0.7929549 (566)\ttotal: 9.03s\tremaining: 1m 6s\n",
            "DEBUG:lightautoml.ml_algo.boost_cb:700:\ttest: 0.7933643\tbest: 0.7937852 (687)\ttotal: 9.9s\tremaining: 1m\n",
            "DEBUG:lightautoml.ml_algo.boost_cb:800:\ttest: 0.7945928\tbest: 0.7947214 (762)\ttotal: 10.7s\tremaining: 55.8s\n",
            "DEBUG:lightautoml.ml_algo.boost_cb:900:\ttest: 0.7961341\tbest: 0.7962369 (869)\ttotal: 11.4s\tremaining: 52s\n",
            "DEBUG:lightautoml.ml_algo.boost_cb:1000:\ttest: 0.7964144\tbest: 0.7965462 (911)\ttotal: 12.2s\tremaining: 48.7s\n",
            "INFO3:lightautoml.ml_algo.boost_cb:bestTest = 0.7965462208\n",
            "INFO3:lightautoml.ml_algo.boost_cb:bestIteration = 911\n",
            "INFO3:lightautoml.ml_algo.boost_cb:Shrink model to first 912 iterations.\n",
            "INFO:optuna.study.study:Trial 11 finished with value: -0.796546221570066 and parameters: {'max_depth': 7}. Best is trial 1 with value: -0.7947132550745903.\n",
            "INFO3:lightautoml.ml_algo.tuning.optuna:\u001b[1mTrial 12\u001b[0m with hyperparameters {'max_depth': 7} scored -0.796546221570066 in 0:00:13.263786\n",
            "Default metric period is 5 because AUC is/are not implemented for GPU\n",
            "INFO3:lightautoml.ml_algo.boost_cb:0:\ttest: 0.6674252\tbest: 0.6674252 (0)\ttotal: 9.09ms\tremaining: 45.4s\n",
            "DEBUG:lightautoml.ml_algo.boost_cb:100:\ttest: 0.7760655\tbest: 0.7760655 (100)\ttotal: 750ms\tremaining: 36.4s\n",
            "DEBUG:lightautoml.ml_algo.boost_cb:200:\ttest: 0.7866106\tbest: 0.7866469 (199)\ttotal: 1.51s\tremaining: 36.1s\n",
            "DEBUG:lightautoml.ml_algo.boost_cb:300:\ttest: 0.7885135\tbest: 0.7888840 (297)\ttotal: 2.29s\tremaining: 35.8s\n",
            "DEBUG:lightautoml.ml_algo.boost_cb:400:\ttest: 0.7908835\tbest: 0.7910204 (397)\ttotal: 3.04s\tremaining: 34.8s\n",
            "DEBUG:lightautoml.ml_algo.boost_cb:500:\ttest: 0.7918808\tbest: 0.7919479 (489)\ttotal: 3.81s\tremaining: 34.3s\n",
            "DEBUG:lightautoml.ml_algo.boost_cb:600:\ttest: 0.7926335\tbest: 0.7930034 (589)\ttotal: 4.58s\tremaining: 33.6s\n",
            "DEBUG:lightautoml.ml_algo.boost_cb:700:\ttest: 0.7941907\tbest: 0.7947151 (683)\ttotal: 5.35s\tremaining: 32.8s\n",
            "INFO3:lightautoml.ml_algo.boost_cb:bestTest = 0.7947151065\n",
            "INFO3:lightautoml.ml_algo.boost_cb:bestIteration = 683\n",
            "INFO3:lightautoml.ml_algo.boost_cb:Shrink model to first 684 iterations.\n",
            "INFO:optuna.study.study:Trial 12 finished with value: -0.7947150892638788 and parameters: {'max_depth': 7}. Best is trial 1 with value: -0.7947132550745903.\n",
            "INFO3:lightautoml.ml_algo.tuning.optuna:\u001b[1mTrial 13\u001b[0m with hyperparameters {'max_depth': 7} scored -0.7947150892638788 in 0:00:08.328812\n",
            "Default metric period is 5 because AUC is/are not implemented for GPU\n",
            "INFO3:lightautoml.ml_algo.boost_cb:0:\ttest: 0.6537209\tbest: 0.6537209 (0)\ttotal: 38.5ms\tremaining: 3m 12s\n",
            "DEBUG:lightautoml.ml_algo.boost_cb:100:\ttest: 0.7718542\tbest: 0.7718542 (100)\ttotal: 2.51s\tremaining: 2m 1s\n",
            "DEBUG:lightautoml.ml_algo.boost_cb:200:\ttest: 0.7838041\tbest: 0.7838243 (199)\ttotal: 3.06s\tremaining: 1m 13s\n",
            "DEBUG:lightautoml.ml_algo.boost_cb:300:\ttest: 0.7895651\tbest: 0.7895651 (300)\ttotal: 3.59s\tremaining: 56.1s\n",
            "DEBUG:lightautoml.ml_algo.boost_cb:400:\ttest: 0.7932634\tbest: 0.7933262 (396)\ttotal: 4.11s\tremaining: 47.1s\n",
            "DEBUG:lightautoml.ml_algo.boost_cb:500:\ttest: 0.7944086\tbest: 0.7944086 (500)\ttotal: 4.64s\tremaining: 41.7s\n",
            "DEBUG:lightautoml.ml_algo.boost_cb:600:\ttest: 0.7960687\tbest: 0.7960726 (598)\ttotal: 5.15s\tremaining: 37.7s\n",
            "DEBUG:lightautoml.ml_algo.boost_cb:700:\ttest: 0.7974024\tbest: 0.7974690 (689)\ttotal: 5.67s\tremaining: 34.8s\n",
            "DEBUG:lightautoml.ml_algo.boost_cb:800:\ttest: 0.7979814\tbest: 0.7980912 (765)\ttotal: 6.18s\tremaining: 32.4s\n",
            "DEBUG:lightautoml.ml_algo.boost_cb:900:\ttest: 0.7983022\tbest: 0.7983054 (842)\ttotal: 6.71s\tremaining: 30.5s\n",
            "DEBUG:lightautoml.ml_algo.boost_cb:1000:\ttest: 0.7990310\tbest: 0.7990366 (988)\ttotal: 7.25s\tremaining: 28.9s\n",
            "DEBUG:lightautoml.ml_algo.boost_cb:1100:\ttest: 0.7988092\tbest: 0.7992857 (1046)\ttotal: 7.77s\tremaining: 27.5s\n",
            "INFO3:lightautoml.ml_algo.boost_cb:bestTest = 0.7992857099\n",
            "INFO3:lightautoml.ml_algo.boost_cb:bestIteration = 1046\n",
            "INFO3:lightautoml.ml_algo.boost_cb:Shrink model to first 1047 iterations.\n",
            "INFO:optuna.study.study:Trial 13 finished with value: -0.7992856851715987 and parameters: {'max_depth': 5}. Best is trial 1 with value: -0.7947132550745903.\n",
            "INFO3:lightautoml.ml_algo.tuning.optuna:\u001b[1mTrial 14\u001b[0m with hyperparameters {'max_depth': 5} scored -0.7992856851715987 in 0:00:09.615415\n",
            "Default metric period is 5 because AUC is/are not implemented for GPU\n",
            "INFO3:lightautoml.ml_algo.boost_cb:0:\ttest: 0.6674252\tbest: 0.6674252 (0)\ttotal: 8.7ms\tremaining: 43.5s\n",
            "DEBUG:lightautoml.ml_algo.boost_cb:100:\ttest: 0.7760655\tbest: 0.7760655 (100)\ttotal: 773ms\tremaining: 37.5s\n",
            "DEBUG:lightautoml.ml_algo.boost_cb:200:\ttest: 0.7866064\tbest: 0.7866412 (199)\ttotal: 1.53s\tremaining: 36.5s\n",
            "DEBUG:lightautoml.ml_algo.boost_cb:300:\ttest: 0.7885123\tbest: 0.7888808 (297)\ttotal: 2.28s\tremaining: 35.6s\n",
            "DEBUG:lightautoml.ml_algo.boost_cb:400:\ttest: 0.7908839\tbest: 0.7910182 (397)\ttotal: 3.08s\tremaining: 35.3s\n",
            "DEBUG:lightautoml.ml_algo.boost_cb:500:\ttest: 0.7918797\tbest: 0.7919461 (489)\ttotal: 7.32s\tremaining: 1m 5s\n",
            "DEBUG:lightautoml.ml_algo.boost_cb:600:\ttest: 0.7926338\tbest: 0.7930019 (589)\ttotal: 9.22s\tremaining: 1m 7s\n",
            "DEBUG:lightautoml.ml_algo.boost_cb:700:\ttest: 0.7941907\tbest: 0.7947145 (683)\ttotal: 9.97s\tremaining: 1m 1s\n",
            "INFO3:lightautoml.ml_algo.boost_cb:bestTest = 0.7947144508\n",
            "INFO3:lightautoml.ml_algo.boost_cb:bestIteration = 683\n",
            "INFO3:lightautoml.ml_algo.boost_cb:Shrink model to first 684 iterations.\n",
            "INFO:optuna.study.study:Trial 14 finished with value: -0.7947144778674493 and parameters: {'max_depth': 7}. Best is trial 1 with value: -0.7947132550745903.\n",
            "INFO3:lightautoml.ml_algo.tuning.optuna:\u001b[1mTrial 15\u001b[0m with hyperparameters {'max_depth': 7} scored -0.7947144778674493 in 0:00:11.757756\n",
            "Default metric period is 5 because AUC is/are not implemented for GPU\n",
            "INFO3:lightautoml.ml_algo.boost_cb:0:\ttest: 0.6639329\tbest: 0.6639329 (0)\ttotal: 8.16ms\tremaining: 40.8s\n",
            "DEBUG:lightautoml.ml_algo.boost_cb:100:\ttest: 0.7744251\tbest: 0.7744304 (99)\ttotal: 619ms\tremaining: 30s\n",
            "DEBUG:lightautoml.ml_algo.boost_cb:200:\ttest: 0.7855172\tbest: 0.7855172 (200)\ttotal: 1.22s\tremaining: 29.2s\n",
            "DEBUG:lightautoml.ml_algo.boost_cb:300:\ttest: 0.7901117\tbest: 0.7901117 (300)\ttotal: 1.82s\tremaining: 28.4s\n",
            "DEBUG:lightautoml.ml_algo.boost_cb:400:\ttest: 0.7923969\tbest: 0.7923969 (400)\ttotal: 2.44s\tremaining: 28s\n",
            "DEBUG:lightautoml.ml_algo.boost_cb:500:\ttest: 0.7939323\tbest: 0.7940642 (491)\ttotal: 3.06s\tremaining: 27.4s\n",
            "DEBUG:lightautoml.ml_algo.boost_cb:600:\ttest: 0.7955344\tbest: 0.7955470 (599)\ttotal: 3.66s\tremaining: 26.8s\n",
            "DEBUG:lightautoml.ml_algo.boost_cb:700:\ttest: 0.7967023\tbest: 0.7968439 (699)\ttotal: 4.28s\tremaining: 26.2s\n",
            "DEBUG:lightautoml.ml_algo.boost_cb:800:\ttest: 0.7964851\tbest: 0.7973101 (770)\ttotal: 4.89s\tremaining: 25.6s\n",
            "INFO3:lightautoml.ml_algo.boost_cb:bestTest = 0.7973100543\n",
            "INFO3:lightautoml.ml_algo.boost_cb:bestIteration = 770\n",
            "INFO3:lightautoml.ml_algo.boost_cb:Shrink model to first 771 iterations.\n",
            "INFO:optuna.study.study:Trial 15 finished with value: -0.7973102633080623 and parameters: {'max_depth': 6}. Best is trial 1 with value: -0.7947132550745903.\n",
            "INFO3:lightautoml.ml_algo.tuning.optuna:\u001b[1mTrial 16\u001b[0m with hyperparameters {'max_depth': 6} scored -0.7973102633080623 in 0:00:06.280087\n",
            "Default metric period is 5 because AUC is/are not implemented for GPU\n",
            "INFO3:lightautoml.ml_algo.boost_cb:0:\ttest: 0.6674252\tbest: 0.6674252 (0)\ttotal: 8.95ms\tremaining: 44.7s\n",
            "DEBUG:lightautoml.ml_algo.boost_cb:100:\ttest: 0.7760655\tbest: 0.7760655 (100)\ttotal: 837ms\tremaining: 40.6s\n",
            "DEBUG:lightautoml.ml_algo.boost_cb:200:\ttest: 0.7866064\tbest: 0.7866412 (199)\ttotal: 5.23s\tremaining: 2m 4s\n",
            "DEBUG:lightautoml.ml_algo.boost_cb:300:\ttest: 0.7885124\tbest: 0.7888808 (297)\ttotal: 6.79s\tremaining: 1m 45s\n",
            "DEBUG:lightautoml.ml_algo.boost_cb:400:\ttest: 0.7908841\tbest: 0.7910182 (397)\ttotal: 7.55s\tremaining: 1m 26s\n",
            "DEBUG:lightautoml.ml_algo.boost_cb:500:\ttest: 0.7918797\tbest: 0.7919461 (489)\ttotal: 8.32s\tremaining: 1m 14s\n",
            "DEBUG:lightautoml.ml_algo.boost_cb:600:\ttest: 0.7926327\tbest: 0.7930018 (589)\ttotal: 9.09s\tremaining: 1m 6s\n",
            "DEBUG:lightautoml.ml_algo.boost_cb:700:\ttest: 0.7941893\tbest: 0.7947133 (683)\ttotal: 9.85s\tremaining: 1m\n",
            "INFO3:lightautoml.ml_algo.boost_cb:bestTest = 0.7947132587\n",
            "INFO3:lightautoml.ml_algo.boost_cb:bestIteration = 683\n",
            "INFO3:lightautoml.ml_algo.boost_cb:Shrink model to first 684 iterations.\n",
            "INFO:optuna.study.study:Trial 16 finished with value: -0.7947132550745905 and parameters: {'max_depth': 7}. Best is trial 1 with value: -0.7947132550745903.\n",
            "INFO3:lightautoml.ml_algo.tuning.optuna:\u001b[1mTrial 17\u001b[0m with hyperparameters {'max_depth': 7} scored -0.7947132550745905 in 0:00:11.429456\n",
            "Default metric period is 5 because AUC is/are not implemented for GPU\n",
            "INFO3:lightautoml.ml_algo.boost_cb:0:\ttest: 0.6531342\tbest: 0.6531342 (0)\ttotal: 5.46ms\tremaining: 27.3s\n",
            "DEBUG:lightautoml.ml_algo.boost_cb:100:\ttest: 0.7669343\tbest: 0.7669343 (100)\ttotal: 483ms\tremaining: 23.4s\n",
            "DEBUG:lightautoml.ml_algo.boost_cb:200:\ttest: 0.7796248\tbest: 0.7796248 (200)\ttotal: 940ms\tremaining: 22.4s\n",
            "DEBUG:lightautoml.ml_algo.boost_cb:300:\ttest: 0.7861755\tbest: 0.7861755 (300)\ttotal: 1.39s\tremaining: 21.7s\n",
            "DEBUG:lightautoml.ml_algo.boost_cb:400:\ttest: 0.7906650\tbest: 0.7906650 (400)\ttotal: 1.86s\tremaining: 21.4s\n",
            "DEBUG:lightautoml.ml_algo.boost_cb:500:\ttest: 0.7931479\tbest: 0.7931916 (495)\ttotal: 2.31s\tremaining: 20.8s\n",
            "DEBUG:lightautoml.ml_algo.boost_cb:600:\ttest: 0.7951797\tbest: 0.7952953 (591)\ttotal: 2.79s\tremaining: 20.4s\n",
            "DEBUG:lightautoml.ml_algo.boost_cb:700:\ttest: 0.7963404\tbest: 0.7963404 (700)\ttotal: 3.25s\tremaining: 19.9s\n",
            "DEBUG:lightautoml.ml_algo.boost_cb:800:\ttest: 0.7973975\tbest: 0.7975648 (789)\ttotal: 3.71s\tremaining: 19.4s\n",
            "DEBUG:lightautoml.ml_algo.boost_cb:900:\ttest: 0.7978752\tbest: 0.7978752 (900)\ttotal: 4.2s\tremaining: 19.1s\n",
            "DEBUG:lightautoml.ml_algo.boost_cb:1000:\ttest: 0.7988938\tbest: 0.7989270 (992)\ttotal: 6.99s\tremaining: 27.9s\n",
            "DEBUG:lightautoml.ml_algo.boost_cb:1100:\ttest: 0.7994204\tbest: 0.7994432 (1091)\ttotal: 10.3s\tremaining: 36.5s\n",
            "DEBUG:lightautoml.ml_algo.boost_cb:1200:\ttest: 0.7995388\tbest: 0.7996142 (1189)\ttotal: 11.5s\tremaining: 36.4s\n",
            "DEBUG:lightautoml.ml_algo.boost_cb:1300:\ttest: 0.7997430\tbest: 0.7998704 (1285)\ttotal: 12s\tremaining: 34.1s\n",
            "DEBUG:lightautoml.ml_algo.boost_cb:1400:\ttest: 0.8007104\tbest: 0.8007104 (1400)\ttotal: 12.5s\tremaining: 32s\n",
            "DEBUG:lightautoml.ml_algo.boost_cb:1500:\ttest: 0.8009711\tbest: 0.8009750 (1499)\ttotal: 12.9s\tremaining: 30.1s\n",
            "DEBUG:lightautoml.ml_algo.boost_cb:1600:\ttest: 0.8012843\tbest: 0.8013532 (1572)\ttotal: 13.4s\tremaining: 28.4s\n",
            "DEBUG:lightautoml.ml_algo.boost_cb:1700:\ttest: 0.8016289\tbest: 0.8016819 (1683)\ttotal: 13.8s\tremaining: 26.8s\n",
            "INFO3:lightautoml.ml_algo.boost_cb:bestTest = 0.8016819358\n",
            "INFO3:lightautoml.ml_algo.boost_cb:bestIteration = 1683\n",
            "INFO3:lightautoml.ml_algo.boost_cb:Shrink model to first 1684 iterations.\n",
            "INFO:optuna.study.study:Trial 17 finished with value: -0.8016821553762126 and parameters: {'max_depth': 4}. Best is trial 1 with value: -0.7947132550745903.\n",
            "INFO3:lightautoml.ml_algo.tuning.optuna:\u001b[1mTrial 18\u001b[0m with hyperparameters {'max_depth': 4} scored -0.8016821553762126 in 0:00:15.500923\n",
            "Default metric period is 5 because AUC is/are not implemented for GPU\n",
            "INFO3:lightautoml.ml_algo.boost_cb:0:\ttest: 0.6537209\tbest: 0.6537209 (0)\ttotal: 6.46ms\tremaining: 32.3s\n",
            "DEBUG:lightautoml.ml_algo.boost_cb:100:\ttest: 0.7718566\tbest: 0.7718566 (100)\ttotal: 504ms\tremaining: 24.5s\n",
            "DEBUG:lightautoml.ml_algo.boost_cb:200:\ttest: 0.7838119\tbest: 0.7838306 (199)\ttotal: 1.03s\tremaining: 24.6s\n",
            "DEBUG:lightautoml.ml_algo.boost_cb:300:\ttest: 0.7895706\tbest: 0.7895706 (300)\ttotal: 1.52s\tremaining: 23.8s\n",
            "DEBUG:lightautoml.ml_algo.boost_cb:400:\ttest: 0.7932602\tbest: 0.7933280 (396)\ttotal: 2.05s\tremaining: 23.5s\n",
            "DEBUG:lightautoml.ml_algo.boost_cb:500:\ttest: 0.7944090\tbest: 0.7944090 (500)\ttotal: 2.55s\tremaining: 22.9s\n",
            "DEBUG:lightautoml.ml_algo.boost_cb:600:\ttest: 0.7960654\tbest: 0.7960732 (598)\ttotal: 3.08s\tremaining: 22.6s\n",
            "DEBUG:lightautoml.ml_algo.boost_cb:700:\ttest: 0.7974032\tbest: 0.7974676 (689)\ttotal: 3.58s\tremaining: 22s\n",
            "DEBUG:lightautoml.ml_algo.boost_cb:800:\ttest: 0.7979735\tbest: 0.7980890 (765)\ttotal: 4.11s\tremaining: 21.5s\n",
            "DEBUG:lightautoml.ml_algo.boost_cb:900:\ttest: 0.7980832\tbest: 0.7982787 (842)\ttotal: 6.06s\tremaining: 27.6s\n",
            "DEBUG:lightautoml.ml_algo.boost_cb:1000:\ttest: 0.7984322\tbest: 0.7987464 (987)\ttotal: 9.68s\tremaining: 38.7s\n",
            "INFO3:lightautoml.ml_algo.boost_cb:bestTest = 0.798746407\n",
            "INFO3:lightautoml.ml_algo.boost_cb:bestIteration = 987\n",
            "INFO3:lightautoml.ml_algo.boost_cb:Shrink model to first 988 iterations.\n",
            "INFO:optuna.study.study:Trial 18 finished with value: -0.7987464335208283 and parameters: {'max_depth': 5}. Best is trial 1 with value: -0.7947132550745903.\n",
            "INFO3:lightautoml.ml_algo.tuning.optuna:\u001b[1mTrial 19\u001b[0m with hyperparameters {'max_depth': 5} scored -0.7987464335208283 in 0:00:11.204279\n",
            "Default metric period is 5 because AUC is/are not implemented for GPU\n",
            "INFO3:lightautoml.ml_algo.boost_cb:0:\ttest: 0.6639329\tbest: 0.6639329 (0)\ttotal: 17ms\tremaining: 1m 24s\n",
            "DEBUG:lightautoml.ml_algo.boost_cb:100:\ttest: 0.7744237\tbest: 0.7744296 (99)\ttotal: 608ms\tremaining: 29.5s\n",
            "DEBUG:lightautoml.ml_algo.boost_cb:200:\ttest: 0.7855757\tbest: 0.7855757 (200)\ttotal: 1.22s\tremaining: 29.2s\n",
            "DEBUG:lightautoml.ml_algo.boost_cb:300:\ttest: 0.7891499\tbest: 0.7891499 (300)\ttotal: 1.81s\tremaining: 28.3s\n",
            "DEBUG:lightautoml.ml_algo.boost_cb:400:\ttest: 0.7905183\tbest: 0.7905183 (400)\ttotal: 2.42s\tremaining: 27.8s\n",
            "DEBUG:lightautoml.ml_algo.boost_cb:500:\ttest: 0.7926481\tbest: 0.7927073 (498)\ttotal: 3.02s\tremaining: 27.1s\n",
            "DEBUG:lightautoml.ml_algo.boost_cb:600:\ttest: 0.7948510\tbest: 0.7949130 (599)\ttotal: 3.62s\tremaining: 26.5s\n",
            "DEBUG:lightautoml.ml_algo.boost_cb:700:\ttest: 0.7962006\tbest: 0.7962299 (698)\ttotal: 4.22s\tremaining: 25.9s\n",
            "DEBUG:lightautoml.ml_algo.boost_cb:800:\ttest: 0.7952969\tbest: 0.7963422 (709)\ttotal: 4.82s\tremaining: 25.2s\n",
            "INFO3:lightautoml.ml_algo.boost_cb:bestTest = 0.7963421941\n",
            "INFO3:lightautoml.ml_algo.boost_cb:bestIteration = 709\n",
            "INFO3:lightautoml.ml_algo.boost_cb:Shrink model to first 710 iterations.\n",
            "INFO:optuna.study.study:Trial 19 finished with value: -0.7963420151626315 and parameters: {'max_depth': 6}. Best is trial 1 with value: -0.7947132550745903.\n",
            "INFO3:lightautoml.ml_algo.tuning.optuna:\u001b[1mTrial 20\u001b[0m with hyperparameters {'max_depth': 6} scored -0.7963420151626315 in 0:00:05.860917\n"
          ]
        },
        {
          "output_type": "stream",
          "name": "stdout",
          "text": [
            "[15:51:37] Hyperparameters optimization for \u001b[1mLvl_0_Pipe_0_Mod_2_Tuned_CatBoost\u001b[0m completed\n"
          ]
        },
        {
          "output_type": "stream",
          "name": "stderr",
          "text": [
            "INFO:lightautoml.ml_algo.tuning.optuna:Hyperparameters optimization for \u001b[1mLvl_0_Pipe_0_Mod_2_Tuned_CatBoost\u001b[0m completed\n",
            "INFO2:lightautoml.ml_algo.tuning.optuna:The set of hyperparameters \u001b[1m{'max_depth': 7}\u001b[0m\n",
            " achieve -0.7947 auc\n"
          ]
        },
        {
          "output_type": "stream",
          "name": "stdout",
          "text": [
            "[15:51:37] Start fitting \u001b[1mLvl_0_Pipe_0_Mod_2_Tuned_CatBoost\u001b[0m ...\n"
          ]
        },
        {
          "output_type": "stream",
          "name": "stderr",
          "text": [
            "INFO:lightautoml.ml_algo.base:Start fitting \u001b[1mLvl_0_Pipe_0_Mod_2_Tuned_CatBoost\u001b[0m ...\n",
            "DEBUG:lightautoml.ml_algo.base:Training params: {'task_type': 'GPU', 'thread_count': 2, 'random_seed': 42, 'num_trees': 3000, 'learning_rate': 0.03, 'l2_leaf_reg': 0.01, 'bootstrap_type': 'Bernoulli', 'grow_policy': 'SymmetricTree', 'max_depth': 7, 'min_data_in_leaf': 1, 'one_hot_max_size': 10, 'fold_permutation_block': 1, 'boosting_type': 'Plain', 'boost_from_average': True, 'od_type': 'Iter', 'od_wait': 100, 'max_bin': 32, 'feature_border_type': 'GreedyLogSum', 'nan_mode': 'Min', 'verbose': 100, 'allow_writing_files': False, 'devices': '0'}\n",
            "INFO2:lightautoml.ml_algo.base:===== Start working with \u001b[1mfold 0\u001b[0m for \u001b[1mLvl_0_Pipe_0_Mod_2_Tuned_CatBoost\u001b[0m =====\n",
            "Default metric period is 5 because AUC is/are not implemented for GPU\n",
            "INFO3:lightautoml.ml_algo.boost_cb:0:\ttest: 0.6674248\tbest: 0.6674248 (0)\ttotal: 8.54ms\tremaining: 25.6s\n",
            "DEBUG:lightautoml.ml_algo.boost_cb:100:\ttest: 0.7787020\tbest: 0.7787020 (100)\ttotal: 787ms\tremaining: 22.6s\n",
            "DEBUG:lightautoml.ml_algo.boost_cb:200:\ttest: 0.7882590\tbest: 0.7882673 (199)\ttotal: 1.52s\tremaining: 21.2s\n",
            "DEBUG:lightautoml.ml_algo.boost_cb:300:\ttest: 0.7912639\tbest: 0.7914871 (289)\ttotal: 2.26s\tremaining: 20.2s\n",
            "DEBUG:lightautoml.ml_algo.boost_cb:400:\ttest: 0.7927079\tbest: 0.7931260 (396)\ttotal: 4.15s\tremaining: 26.9s\n",
            "DEBUG:lightautoml.ml_algo.boost_cb:500:\ttest: 0.7949747\tbest: 0.7949747 (500)\ttotal: 8.51s\tremaining: 42.4s\n",
            "DEBUG:lightautoml.ml_algo.boost_cb:600:\ttest: 0.7956312\tbest: 0.7959356 (593)\ttotal: 9.31s\tremaining: 37.2s\n",
            "INFO3:lightautoml.ml_algo.boost_cb:bestTest = 0.7959356308\n",
            "INFO3:lightautoml.ml_algo.boost_cb:bestIteration = 593\n",
            "INFO3:lightautoml.ml_algo.boost_cb:Shrink model to first 594 iterations.\n",
            "INFO2:lightautoml.ml_algo.base:===== Start working with \u001b[1mfold 1\u001b[0m for \u001b[1mLvl_0_Pipe_0_Mod_2_Tuned_CatBoost\u001b[0m =====\n",
            "Default metric period is 5 because AUC is/are not implemented for GPU\n",
            "INFO3:lightautoml.ml_algo.boost_cb:0:\ttest: 0.6741535\tbest: 0.6741535 (0)\ttotal: 8.68ms\tremaining: 26s\n",
            "DEBUG:lightautoml.ml_algo.boost_cb:100:\ttest: 0.7713276\tbest: 0.7713732 (99)\ttotal: 746ms\tremaining: 21.4s\n",
            "DEBUG:lightautoml.ml_algo.boost_cb:200:\ttest: 0.7767900\tbest: 0.7772051 (194)\ttotal: 1.49s\tremaining: 20.8s\n",
            "DEBUG:lightautoml.ml_algo.boost_cb:300:\ttest: 0.7802444\tbest: 0.7802817 (299)\ttotal: 2.24s\tremaining: 20.1s\n",
            "DEBUG:lightautoml.ml_algo.boost_cb:400:\ttest: 0.7816063\tbest: 0.7817421 (396)\ttotal: 3.01s\tremaining: 19.5s\n",
            "DEBUG:lightautoml.ml_algo.boost_cb:500:\ttest: 0.7844328\tbest: 0.7844881 (497)\ttotal: 3.75s\tremaining: 18.7s\n",
            "DEBUG:lightautoml.ml_algo.boost_cb:600:\ttest: 0.7849140\tbest: 0.7851873 (589)\ttotal: 4.51s\tremaining: 18s\n",
            "DEBUG:lightautoml.ml_algo.boost_cb:700:\ttest: 0.7855386\tbest: 0.7865312 (664)\ttotal: 5.26s\tremaining: 17.3s\n",
            "INFO3:lightautoml.ml_algo.boost_cb:bestTest = 0.7865311503\n",
            "INFO3:lightautoml.ml_algo.boost_cb:bestIteration = 664\n",
            "INFO3:lightautoml.ml_algo.boost_cb:Shrink model to first 665 iterations.\n",
            "INFO2:lightautoml.ml_algo.base:===== Start working with \u001b[1mfold 2\u001b[0m for \u001b[1mLvl_0_Pipe_0_Mod_2_Tuned_CatBoost\u001b[0m =====\n",
            "Default metric period is 5 because AUC is/are not implemented for GPU\n",
            "INFO3:lightautoml.ml_algo.boost_cb:0:\ttest: 0.6958523\tbest: 0.6958523 (0)\ttotal: 8.67ms\tremaining: 26s\n",
            "DEBUG:lightautoml.ml_algo.boost_cb:100:\ttest: 0.7768572\tbest: 0.7768572 (100)\ttotal: 758ms\tremaining: 21.7s\n",
            "DEBUG:lightautoml.ml_algo.boost_cb:200:\ttest: 0.7837843\tbest: 0.7839035 (182)\ttotal: 4.72s\tremaining: 1m 5s\n",
            "DEBUG:lightautoml.ml_algo.boost_cb:300:\ttest: 0.7888683\tbest: 0.7888683 (300)\ttotal: 6.91s\tremaining: 1m 1s\n",
            "DEBUG:lightautoml.ml_algo.boost_cb:400:\ttest: 0.7902672\tbest: 0.7906446 (356)\ttotal: 7.64s\tremaining: 49.5s\n",
            "DEBUG:lightautoml.ml_algo.boost_cb:500:\ttest: 0.7920039\tbest: 0.7920039 (500)\ttotal: 8.39s\tremaining: 41.9s\n",
            "DEBUG:lightautoml.ml_algo.boost_cb:600:\ttest: 0.7934978\tbest: 0.7939451 (561)\ttotal: 9.14s\tremaining: 36.5s\n",
            "DEBUG:lightautoml.ml_algo.boost_cb:700:\ttest: 0.7945629\tbest: 0.7947257 (695)\ttotal: 9.91s\tremaining: 32.5s\n",
            "DEBUG:lightautoml.ml_algo.boost_cb:800:\ttest: 0.7950603\tbest: 0.7953375 (783)\ttotal: 10.6s\tremaining: 29.2s\n",
            "DEBUG:lightautoml.ml_algo.boost_cb:900:\ttest: 0.7954229\tbest: 0.7957826 (884)\ttotal: 11.4s\tremaining: 26.6s\n",
            "INFO3:lightautoml.ml_algo.boost_cb:bestTest = 0.7957825661\n",
            "INFO3:lightautoml.ml_algo.boost_cb:bestIteration = 884\n",
            "INFO3:lightautoml.ml_algo.boost_cb:Shrink model to first 885 iterations.\n",
            "INFO2:lightautoml.ml_algo.base:===== Start working with \u001b[1mfold 3\u001b[0m for \u001b[1mLvl_0_Pipe_0_Mod_2_Tuned_CatBoost\u001b[0m =====\n",
            "Default metric period is 5 because AUC is/are not implemented for GPU\n",
            "INFO3:lightautoml.ml_algo.boost_cb:0:\ttest: 0.6793960\tbest: 0.6793960 (0)\ttotal: 8.59ms\tremaining: 25.8s\n",
            "DEBUG:lightautoml.ml_algo.boost_cb:100:\ttest: 0.7712228\tbest: 0.7712228 (100)\ttotal: 755ms\tremaining: 21.7s\n",
            "DEBUG:lightautoml.ml_algo.boost_cb:200:\ttest: 0.7787880\tbest: 0.7788427 (199)\ttotal: 1.52s\tremaining: 21.1s\n",
            "DEBUG:lightautoml.ml_algo.boost_cb:300:\ttest: 0.7826527\tbest: 0.7827356 (296)\ttotal: 2.31s\tremaining: 20.7s\n",
            "DEBUG:lightautoml.ml_algo.boost_cb:400:\ttest: 0.7842764\tbest: 0.7846839 (386)\ttotal: 3.06s\tremaining: 19.9s\n",
            "INFO3:lightautoml.ml_algo.boost_cb:bestTest = 0.7846838832\n",
            "INFO3:lightautoml.ml_algo.boost_cb:bestIteration = 386\n",
            "INFO3:lightautoml.ml_algo.boost_cb:Shrink model to first 387 iterations.\n",
            "INFO2:lightautoml.ml_algo.base:===== Start working with \u001b[1mfold 4\u001b[0m for \u001b[1mLvl_0_Pipe_0_Mod_2_Tuned_CatBoost\u001b[0m =====\n",
            "Default metric period is 5 because AUC is/are not implemented for GPU\n",
            "INFO3:lightautoml.ml_algo.boost_cb:0:\ttest: 0.6959293\tbest: 0.6959293 (0)\ttotal: 49.3ms\tremaining: 2m 27s\n",
            "DEBUG:lightautoml.ml_algo.boost_cb:100:\ttest: 0.7740304\tbest: 0.7740304 (100)\ttotal: 3.47s\tremaining: 1m 39s\n",
            "DEBUG:lightautoml.ml_algo.boost_cb:200:\ttest: 0.7855217\tbest: 0.7855217 (200)\ttotal: 4.23s\tremaining: 58.9s\n",
            "DEBUG:lightautoml.ml_algo.boost_cb:300:\ttest: 0.7911730\tbest: 0.7911730 (300)\ttotal: 4.98s\tremaining: 44.6s\n",
            "DEBUG:lightautoml.ml_algo.boost_cb:400:\ttest: 0.7945992\tbest: 0.7946377 (399)\ttotal: 5.74s\tremaining: 37.2s\n",
            "DEBUG:lightautoml.ml_algo.boost_cb:500:\ttest: 0.7955005\tbest: 0.7963811 (486)\ttotal: 6.51s\tremaining: 32.5s\n",
            "INFO3:lightautoml.ml_algo.boost_cb:bestTest = 0.7963811159\n",
            "INFO3:lightautoml.ml_algo.boost_cb:bestIteration = 486\n",
            "INFO3:lightautoml.ml_algo.boost_cb:Shrink model to first 487 iterations.\n"
          ]
        },
        {
          "output_type": "stream",
          "name": "stdout",
          "text": [
            "[15:52:21] Fitting \u001b[1mLvl_0_Pipe_0_Mod_2_Tuned_CatBoost\u001b[0m finished. score = \u001b[1m-0.7916598667809438\u001b[0m\n"
          ]
        },
        {
          "output_type": "stream",
          "name": "stderr",
          "text": [
            "INFO:lightautoml.ml_algo.base:Fitting \u001b[1mLvl_0_Pipe_0_Mod_2_Tuned_CatBoost\u001b[0m finished. score = \u001b[1m-0.7916598667809438\u001b[0m\n"
          ]
        },
        {
          "output_type": "stream",
          "name": "stdout",
          "text": [
            "[15:52:21] \u001b[1mLvl_0_Pipe_0_Mod_2_Tuned_CatBoost\u001b[0m fitting and predicting completed\n"
          ]
        },
        {
          "output_type": "stream",
          "name": "stderr",
          "text": [
            "INFO:lightautoml.ml_algo.base:\u001b[1mLvl_0_Pipe_0_Mod_2_Tuned_CatBoost\u001b[0m fitting and predicting completed\n"
          ]
        },
        {
          "output_type": "stream",
          "name": "stdout",
          "text": [
            "[15:52:21] Time left 28870.96 secs\n",
            "\n"
          ]
        },
        {
          "output_type": "stream",
          "name": "stderr",
          "text": [
            "INFO:lightautoml.automl.base:Time left 28870.96 secs\n",
            "\n"
          ]
        },
        {
          "output_type": "stream",
          "name": "stdout",
          "text": [
            "[15:52:21] \u001b[1mLayer 1 training completed.\u001b[0m\n",
            "\n"
          ]
        },
        {
          "output_type": "stream",
          "name": "stderr",
          "text": [
            "INFO:lightautoml.automl.base:\u001b[1mLayer 1 training completed.\u001b[0m\n",
            "\n"
          ]
        },
        {
          "output_type": "stream",
          "name": "stdout",
          "text": [
            "[15:52:21] Layer \u001b[1m2\u001b[0m train process start. Time left 28870.91 secs\n"
          ]
        },
        {
          "output_type": "stream",
          "name": "stderr",
          "text": [
            "INFO:lightautoml.automl.base:Layer \u001b[1m2\u001b[0m train process start. Time left 28870.91 secs\n"
          ]
        },
        {
          "output_type": "stream",
          "name": "stdout",
          "text": [
            "[15:52:23] Start hyperparameters optimization for \u001b[1mLvl_1_Pipe_0_Mod_0_Tuned_LightGBM\u001b[0m ... Time budget is 300.00 secs\n"
          ]
        },
        {
          "output_type": "stream",
          "name": "stderr",
          "text": [
            "INFO:lightautoml.ml_algo.tuning.optuna:Start hyperparameters optimization for \u001b[1mLvl_1_Pipe_0_Mod_0_Tuned_LightGBM\u001b[0m ... Time budget is 300.00 secs\n",
            "INFO:optuna.storages._in_memory:A new study created in memory with name: no-name-ba9f8ef5-97db-4439-a49d-5a192d366563\n",
            "INFO3:lightautoml.ml_algo.boost_lgbm:Training until validation scores don't improve for 200 rounds\n",
            "DEBUG:lightautoml.ml_algo.boost_lgbm:[100]\tvalid's auc: 0.780933\n",
            "DEBUG:lightautoml.ml_algo.boost_lgbm:[200]\tvalid's auc: 0.792321\n",
            "DEBUG:lightautoml.ml_algo.boost_lgbm:[300]\tvalid's auc: 0.797481\n",
            "DEBUG:lightautoml.ml_algo.boost_lgbm:[400]\tvalid's auc: 0.799384\n",
            "DEBUG:lightautoml.ml_algo.boost_lgbm:[500]\tvalid's auc: 0.80142\n",
            "DEBUG:lightautoml.ml_algo.boost_lgbm:[600]\tvalid's auc: 0.802237\n",
            "DEBUG:lightautoml.ml_algo.boost_lgbm:[700]\tvalid's auc: 0.802535\n",
            "DEBUG:lightautoml.ml_algo.boost_lgbm:[800]\tvalid's auc: 0.802946\n",
            "DEBUG:lightautoml.ml_algo.boost_lgbm:[900]\tvalid's auc: 0.802911\n",
            "DEBUG:lightautoml.ml_algo.boost_lgbm:[1000]\tvalid's auc: 0.803204\n",
            "DEBUG:lightautoml.ml_algo.boost_lgbm:[1100]\tvalid's auc: 0.803542\n",
            "DEBUG:lightautoml.ml_algo.boost_lgbm:[1200]\tvalid's auc: 0.803671\n",
            "DEBUG:lightautoml.ml_algo.boost_lgbm:[1300]\tvalid's auc: 0.803618\n",
            "DEBUG:lightautoml.ml_algo.boost_lgbm:[1400]\tvalid's auc: 0.803856\n",
            "DEBUG:lightautoml.ml_algo.boost_lgbm:[1500]\tvalid's auc: 0.803838\n",
            "DEBUG:lightautoml.ml_algo.boost_lgbm:[1600]\tvalid's auc: 0.803889\n",
            "DEBUG:lightautoml.ml_algo.boost_lgbm:[1700]\tvalid's auc: 0.804088\n",
            "DEBUG:lightautoml.ml_algo.boost_lgbm:[1800]\tvalid's auc: 0.804471\n",
            "DEBUG:lightautoml.ml_algo.boost_lgbm:[1900]\tvalid's auc: 0.804404\n",
            "DEBUG:lightautoml.ml_algo.boost_lgbm:[2000]\tvalid's auc: 0.804432\n",
            "DEBUG:lightautoml.ml_algo.boost_lgbm:Early stopping, best iteration is:\n",
            "[1835]\tvalid's auc: 0.804541\n",
            "INFO:optuna.study.study:Trial 0 finished with value: -0.8045412488791066 and parameters: {'feature_fraction': 0.6872700594236812, 'num_leaves': 244}. Best is trial 0 with value: -0.8045412488791066.\n",
            "INFO3:lightautoml.ml_algo.tuning.optuna:\u001b[1mTrial 1\u001b[0m with hyperparameters {'feature_fraction': 0.6872700594236812, 'num_leaves': 244} scored -0.8045412488791066 in 0:02:49.517735\n",
            "INFO3:lightautoml.ml_algo.boost_lgbm:Training until validation scores don't improve for 200 rounds\n",
            "DEBUG:lightautoml.ml_algo.boost_lgbm:[100]\tvalid's auc: 0.780872\n",
            "DEBUG:lightautoml.ml_algo.boost_lgbm:[200]\tvalid's auc: 0.792399\n",
            "DEBUG:lightautoml.ml_algo.boost_lgbm:[300]\tvalid's auc: 0.798592\n",
            "DEBUG:lightautoml.ml_algo.boost_lgbm:[400]\tvalid's auc: 0.800537\n",
            "DEBUG:lightautoml.ml_algo.boost_lgbm:[500]\tvalid's auc: 0.80092\n",
            "DEBUG:lightautoml.ml_algo.boost_lgbm:[600]\tvalid's auc: 0.8024\n",
            "DEBUG:lightautoml.ml_algo.boost_lgbm:[700]\tvalid's auc: 0.802679\n",
            "DEBUG:lightautoml.ml_algo.boost_lgbm:[800]\tvalid's auc: 0.803552\n",
            "DEBUG:lightautoml.ml_algo.boost_lgbm:[900]\tvalid's auc: 0.803979\n",
            "DEBUG:lightautoml.ml_algo.boost_lgbm:[1000]\tvalid's auc: 0.803835\n",
            "DEBUG:lightautoml.ml_algo.boost_lgbm:Early stopping, best iteration is:\n",
            "[867]\tvalid's auc: 0.804068\n",
            "INFO:optuna.study.study:Trial 1 finished with value: -0.8040684356403358 and parameters: {'feature_fraction': 0.8659969709057025, 'num_leaves': 159}. Best is trial 1 with value: -0.8040684356403358.\n",
            "INFO3:lightautoml.ml_algo.tuning.optuna:\u001b[1mTrial 2\u001b[0m with hyperparameters {'feature_fraction': 0.8659969709057025, 'num_leaves': 159} scored -0.8040684356403358 in 0:01:56.589058\n",
            "INFO3:lightautoml.ml_algo.boost_lgbm:Training until validation scores don't improve for 200 rounds\n",
            "DEBUG:lightautoml.ml_algo.boost_lgbm:[100]\tvalid's auc: 0.776052\n",
            "DEBUG:lightautoml.ml_algo.boost_lgbm:[200]\tvalid's auc: 0.788959\n",
            "DEBUG:lightautoml.ml_algo.boost_lgbm:[300]\tvalid's auc: 0.795583\n",
            "DEBUG:lightautoml.ml_algo.boost_lgbm:[400]\tvalid's auc: 0.799035\n",
            "DEBUG:lightautoml.ml_algo.boost_lgbm:[500]\tvalid's auc: 0.800581\n",
            "DEBUG:lightautoml.ml_algo.boost_lgbm:[600]\tvalid's auc: 0.80156\n",
            "DEBUG:lightautoml.ml_algo.boost_lgbm:[700]\tvalid's auc: 0.801783\n",
            "DEBUG:lightautoml.ml_algo.boost_lgbm:[800]\tvalid's auc: 0.802549\n",
            "DEBUG:lightautoml.ml_algo.boost_lgbm:[900]\tvalid's auc: 0.80346\n",
            "DEBUG:lightautoml.ml_algo.boost_lgbm:[1000]\tvalid's auc: 0.803763\n",
            "DEBUG:lightautoml.ml_algo.boost_lgbm:[1100]\tvalid's auc: 0.804202\n",
            "DEBUG:lightautoml.ml_algo.boost_lgbm:[1200]\tvalid's auc: 0.804463\n",
            "DEBUG:lightautoml.ml_algo.boost_lgbm:[1300]\tvalid's auc: 0.804472\n",
            "DEBUG:lightautoml.ml_algo.boost_lgbm:[1400]\tvalid's auc: 0.804526\n",
            "DEBUG:lightautoml.ml_algo.boost_lgbm:[1500]\tvalid's auc: 0.804793\n",
            "DEBUG:lightautoml.ml_algo.boost_lgbm:[1600]\tvalid's auc: 0.80514\n",
            "DEBUG:lightautoml.ml_algo.boost_lgbm:[1700]\tvalid's auc: 0.80562\n",
            "DEBUG:lightautoml.ml_algo.boost_lgbm:[1800]\tvalid's auc: 0.805986\n",
            "DEBUG:lightautoml.ml_algo.boost_lgbm:[1900]\tvalid's auc: 0.806033\n",
            "DEBUG:lightautoml.ml_algo.boost_lgbm:[2000]\tvalid's auc: 0.805726\n",
            "DEBUG:lightautoml.ml_algo.boost_lgbm:[2100]\tvalid's auc: 0.805828\n",
            "DEBUG:lightautoml.ml_algo.boost_lgbm:Early stopping, best iteration is:\n",
            "[1906]\tvalid's auc: 0.80611\n",
            "INFO:optuna.study.study:Trial 2 finished with value: -0.8061104997146816 and parameters: {'feature_fraction': 0.5780093202212182, 'num_leaves': 53}. Best is trial 1 with value: -0.8040684356403358.\n",
            "INFO3:lightautoml.ml_algo.tuning.optuna:\u001b[1mTrial 3\u001b[0m with hyperparameters {'feature_fraction': 0.5780093202212182, 'num_leaves': 53} scored -0.8061104997146816 in 0:01:12.893281\n"
          ]
        },
        {
          "output_type": "stream",
          "name": "stdout",
          "text": [
            "[15:58:22] Hyperparameters optimization for \u001b[1mLvl_1_Pipe_0_Mod_0_Tuned_LightGBM\u001b[0m completed\n"
          ]
        },
        {
          "output_type": "stream",
          "name": "stderr",
          "text": [
            "INFO:lightautoml.ml_algo.tuning.optuna:Hyperparameters optimization for \u001b[1mLvl_1_Pipe_0_Mod_0_Tuned_LightGBM\u001b[0m completed\n",
            "INFO2:lightautoml.ml_algo.tuning.optuna:The set of hyperparameters \u001b[1m{'feature_fraction': 0.8659969709057025, 'num_leaves': 159}\u001b[0m\n",
            " achieve -0.8041 auc\n"
          ]
        },
        {
          "output_type": "stream",
          "name": "stdout",
          "text": [
            "[15:58:22] Start fitting \u001b[1mLvl_1_Pipe_0_Mod_0_Tuned_LightGBM\u001b[0m ...\n"
          ]
        },
        {
          "output_type": "stream",
          "name": "stderr",
          "text": [
            "INFO:lightautoml.ml_algo.base:Start fitting \u001b[1mLvl_1_Pipe_0_Mod_0_Tuned_LightGBM\u001b[0m ...\n",
            "DEBUG:lightautoml.ml_algo.base:Training params: {'task': 'train', 'learning_rate': 0.05, 'num_leaves': 159, 'feature_fraction': 0.8659969709057025, 'bagging_fraction': 0.7, 'bagging_freq': 1, 'max_depth': -1, 'verbosity': -1, 'reg_alpha': 1, 'reg_lambda': 0.0, 'min_split_gain': 0.0, 'zero_as_missing': False, 'num_threads': 2, 'max_bin': 255, 'min_data_in_bin': 3, 'num_trees': 3000, 'early_stopping_rounds': 100, 'random_state': 42}\n",
            "INFO2:lightautoml.ml_algo.base:===== Start working with \u001b[1mfold 0\u001b[0m for \u001b[1mLvl_1_Pipe_0_Mod_0_Tuned_LightGBM\u001b[0m =====\n",
            "INFO3:lightautoml.ml_algo.boost_lgbm:Training until validation scores don't improve for 100 rounds\n",
            "DEBUG:lightautoml.ml_algo.boost_lgbm:[100]\tvalid's auc: 0.789317\n",
            "DEBUG:lightautoml.ml_algo.boost_lgbm:[200]\tvalid's auc: 0.794058\n",
            "DEBUG:lightautoml.ml_algo.boost_lgbm:[300]\tvalid's auc: 0.797483\n",
            "DEBUG:lightautoml.ml_algo.boost_lgbm:[400]\tvalid's auc: 0.797675\n",
            "DEBUG:lightautoml.ml_algo.boost_lgbm:[500]\tvalid's auc: 0.798322\n",
            "DEBUG:lightautoml.ml_algo.boost_lgbm:[600]\tvalid's auc: 0.798749\n",
            "DEBUG:lightautoml.ml_algo.boost_lgbm:[700]\tvalid's auc: 0.799111\n",
            "DEBUG:lightautoml.ml_algo.boost_lgbm:[800]\tvalid's auc: 0.799542\n",
            "DEBUG:lightautoml.ml_algo.boost_lgbm:[900]\tvalid's auc: 0.800189\n",
            "DEBUG:lightautoml.ml_algo.boost_lgbm:[1000]\tvalid's auc: 0.800488\n",
            "DEBUG:lightautoml.ml_algo.boost_lgbm:[1100]\tvalid's auc: 0.800526\n",
            "DEBUG:lightautoml.ml_algo.boost_lgbm:[1200]\tvalid's auc: 0.800854\n",
            "DEBUG:lightautoml.ml_algo.boost_lgbm:[1300]\tvalid's auc: 0.801114\n",
            "DEBUG:lightautoml.ml_algo.boost_lgbm:[1400]\tvalid's auc: 0.801155\n",
            "DEBUG:lightautoml.ml_algo.boost_lgbm:Early stopping, best iteration is:\n",
            "[1333]\tvalid's auc: 0.801241\n",
            "INFO2:lightautoml.ml_algo.base:===== Start working with \u001b[1mfold 1\u001b[0m for \u001b[1mLvl_1_Pipe_0_Mod_0_Tuned_LightGBM\u001b[0m =====\n",
            "INFO3:lightautoml.ml_algo.boost_lgbm:Training until validation scores don't improve for 100 rounds\n",
            "DEBUG:lightautoml.ml_algo.boost_lgbm:[100]\tvalid's auc: 0.789655\n",
            "DEBUG:lightautoml.ml_algo.boost_lgbm:[200]\tvalid's auc: 0.795931\n",
            "DEBUG:lightautoml.ml_algo.boost_lgbm:[300]\tvalid's auc: 0.797546\n",
            "DEBUG:lightautoml.ml_algo.boost_lgbm:[400]\tvalid's auc: 0.798477\n",
            "DEBUG:lightautoml.ml_algo.boost_lgbm:[500]\tvalid's auc: 0.799472\n",
            "DEBUG:lightautoml.ml_algo.boost_lgbm:[600]\tvalid's auc: 0.800511\n",
            "DEBUG:lightautoml.ml_algo.boost_lgbm:[700]\tvalid's auc: 0.801101\n",
            "DEBUG:lightautoml.ml_algo.boost_lgbm:[800]\tvalid's auc: 0.800745\n",
            "DEBUG:lightautoml.ml_algo.boost_lgbm:Early stopping, best iteration is:\n",
            "[707]\tvalid's auc: 0.801146\n",
            "INFO2:lightautoml.ml_algo.base:===== Start working with \u001b[1mfold 2\u001b[0m for \u001b[1mLvl_1_Pipe_0_Mod_0_Tuned_LightGBM\u001b[0m =====\n",
            "INFO3:lightautoml.ml_algo.boost_lgbm:Training until validation scores don't improve for 100 rounds\n",
            "DEBUG:lightautoml.ml_algo.boost_lgbm:[100]\tvalid's auc: 0.791304\n",
            "DEBUG:lightautoml.ml_algo.boost_lgbm:[200]\tvalid's auc: 0.799739\n",
            "DEBUG:lightautoml.ml_algo.boost_lgbm:[300]\tvalid's auc: 0.802774\n",
            "DEBUG:lightautoml.ml_algo.boost_lgbm:[400]\tvalid's auc: 0.804212\n",
            "DEBUG:lightautoml.ml_algo.boost_lgbm:[500]\tvalid's auc: 0.805529\n",
            "DEBUG:lightautoml.ml_algo.boost_lgbm:[600]\tvalid's auc: 0.805718\n",
            "DEBUG:lightautoml.ml_algo.boost_lgbm:[700]\tvalid's auc: 0.806254\n",
            "DEBUG:lightautoml.ml_algo.boost_lgbm:[800]\tvalid's auc: 0.806526\n",
            "DEBUG:lightautoml.ml_algo.boost_lgbm:[900]\tvalid's auc: 0.806626\n",
            "DEBUG:lightautoml.ml_algo.boost_lgbm:[1000]\tvalid's auc: 0.806791\n",
            "DEBUG:lightautoml.ml_algo.boost_lgbm:[1100]\tvalid's auc: 0.8071\n",
            "DEBUG:lightautoml.ml_algo.boost_lgbm:[1200]\tvalid's auc: 0.80704\n",
            "DEBUG:lightautoml.ml_algo.boost_lgbm:Early stopping, best iteration is:\n",
            "[1118]\tvalid's auc: 0.807212\n",
            "INFO2:lightautoml.ml_algo.base:===== Start working with \u001b[1mfold 3\u001b[0m for \u001b[1mLvl_1_Pipe_0_Mod_0_Tuned_LightGBM\u001b[0m =====\n",
            "INFO3:lightautoml.ml_algo.boost_lgbm:Training until validation scores don't improve for 100 rounds\n",
            "DEBUG:lightautoml.ml_algo.boost_lgbm:[100]\tvalid's auc: 0.789849\n",
            "DEBUG:lightautoml.ml_algo.boost_lgbm:[200]\tvalid's auc: 0.797375\n",
            "DEBUG:lightautoml.ml_algo.boost_lgbm:[300]\tvalid's auc: 0.799774\n",
            "DEBUG:lightautoml.ml_algo.boost_lgbm:[400]\tvalid's auc: 0.799307\n",
            "DEBUG:lightautoml.ml_algo.boost_lgbm:Early stopping, best iteration is:\n",
            "[308]\tvalid's auc: 0.800082\n",
            "INFO2:lightautoml.ml_algo.base:===== Start working with \u001b[1mfold 4\u001b[0m for \u001b[1mLvl_1_Pipe_0_Mod_0_Tuned_LightGBM\u001b[0m =====\n",
            "INFO3:lightautoml.ml_algo.boost_lgbm:Training until validation scores don't improve for 100 rounds\n",
            "DEBUG:lightautoml.ml_algo.boost_lgbm:[100]\tvalid's auc: 0.79141\n",
            "DEBUG:lightautoml.ml_algo.boost_lgbm:[200]\tvalid's auc: 0.800684\n",
            "DEBUG:lightautoml.ml_algo.boost_lgbm:[300]\tvalid's auc: 0.802334\n",
            "DEBUG:lightautoml.ml_algo.boost_lgbm:[400]\tvalid's auc: 0.803226\n",
            "DEBUG:lightautoml.ml_algo.boost_lgbm:[500]\tvalid's auc: 0.80427\n",
            "DEBUG:lightautoml.ml_algo.boost_lgbm:[600]\tvalid's auc: 0.804531\n",
            "DEBUG:lightautoml.ml_algo.boost_lgbm:[700]\tvalid's auc: 0.805159\n",
            "DEBUG:lightautoml.ml_algo.boost_lgbm:[800]\tvalid's auc: 0.805968\n",
            "DEBUG:lightautoml.ml_algo.boost_lgbm:[900]\tvalid's auc: 0.805609\n",
            "DEBUG:lightautoml.ml_algo.boost_lgbm:Early stopping, best iteration is:\n",
            "[804]\tvalid's auc: 0.805995\n"
          ]
        },
        {
          "output_type": "stream",
          "name": "stdout",
          "text": [
            "[16:03:30] Fitting \u001b[1mLvl_1_Pipe_0_Mod_0_Tuned_LightGBM\u001b[0m finished. score = \u001b[1m-0.8015504065581555\u001b[0m\n"
          ]
        },
        {
          "output_type": "stream",
          "name": "stderr",
          "text": [
            "INFO:lightautoml.ml_algo.base:Fitting \u001b[1mLvl_1_Pipe_0_Mod_0_Tuned_LightGBM\u001b[0m finished. score = \u001b[1m-0.8015504065581555\u001b[0m\n"
          ]
        },
        {
          "output_type": "stream",
          "name": "stdout",
          "text": [
            "[16:03:30] \u001b[1mLvl_1_Pipe_0_Mod_0_Tuned_LightGBM\u001b[0m fitting and predicting completed\n"
          ]
        },
        {
          "output_type": "stream",
          "name": "stderr",
          "text": [
            "INFO:lightautoml.ml_algo.base:\u001b[1mLvl_1_Pipe_0_Mod_0_Tuned_LightGBM\u001b[0m fitting and predicting completed\n"
          ]
        },
        {
          "output_type": "stream",
          "name": "stdout",
          "text": [
            "[16:03:30] Start fitting \u001b[1mLvl_1_Pipe_0_Mod_1_CatBoost\u001b[0m ...\n"
          ]
        },
        {
          "output_type": "stream",
          "name": "stderr",
          "text": [
            "INFO:lightautoml.ml_algo.base:Start fitting \u001b[1mLvl_1_Pipe_0_Mod_1_CatBoost\u001b[0m ...\n",
            "DEBUG:lightautoml.ml_algo.base:Training params: {'task_type': 'GPU', 'thread_count': 2, 'random_seed': 42, 'num_trees': 5000, 'learning_rate': 0.03, 'l2_leaf_reg': 0.01, 'bootstrap_type': 'Bernoulli', 'grow_policy': 'SymmetricTree', 'max_depth': 5, 'min_data_in_leaf': 1, 'one_hot_max_size': 10, 'fold_permutation_block': 1, 'boosting_type': 'Plain', 'boost_from_average': True, 'od_type': 'Iter', 'od_wait': 100, 'max_bin': 32, 'feature_border_type': 'GreedyLogSum', 'nan_mode': 'Min', 'verbose': 100, 'allow_writing_files': False, 'devices': '0'}\n",
            "INFO2:lightautoml.ml_algo.base:===== Start working with \u001b[1mfold 0\u001b[0m for \u001b[1mLvl_1_Pipe_0_Mod_1_CatBoost\u001b[0m =====\n",
            "Default metric period is 5 because AUC is/are not implemented for GPU\n",
            "INFO3:lightautoml.ml_algo.boost_cb:0:\ttest: 0.6537209\tbest: 0.6537209 (0)\ttotal: 8.71ms\tremaining: 43.5s\n",
            "DEBUG:lightautoml.ml_algo.boost_cb:100:\ttest: 0.7699919\tbest: 0.7699919 (100)\ttotal: 657ms\tremaining: 31.9s\n",
            "DEBUG:lightautoml.ml_algo.boost_cb:200:\ttest: 0.7818537\tbest: 0.7818537 (200)\ttotal: 1.18s\tremaining: 28.2s\n",
            "DEBUG:lightautoml.ml_algo.boost_cb:300:\ttest: 0.7875744\tbest: 0.7875744 (300)\ttotal: 1.7s\tremaining: 26.6s\n",
            "DEBUG:lightautoml.ml_algo.boost_cb:400:\ttest: 0.7919974\tbest: 0.7920250 (396)\ttotal: 2.22s\tremaining: 25.4s\n",
            "DEBUG:lightautoml.ml_algo.boost_cb:500:\ttest: 0.7943063\tbest: 0.7943063 (500)\ttotal: 2.75s\tremaining: 24.7s\n",
            "DEBUG:lightautoml.ml_algo.boost_cb:600:\ttest: 0.7961621\tbest: 0.7961621 (600)\ttotal: 3.26s\tremaining: 23.9s\n",
            "DEBUG:lightautoml.ml_algo.boost_cb:700:\ttest: 0.7970761\tbest: 0.7970761 (700)\ttotal: 3.77s\tremaining: 23.1s\n",
            "DEBUG:lightautoml.ml_algo.boost_cb:800:\ttest: 0.7980401\tbest: 0.7981379 (797)\ttotal: 4.27s\tremaining: 22.4s\n",
            "DEBUG:lightautoml.ml_algo.boost_cb:900:\ttest: 0.7984964\tbest: 0.7984964 (900)\ttotal: 4.79s\tremaining: 21.8s\n",
            "DEBUG:lightautoml.ml_algo.boost_cb:1000:\ttest: 0.7981411\tbest: 0.7987020 (917)\ttotal: 5.3s\tremaining: 21.2s\n",
            "INFO3:lightautoml.ml_algo.boost_cb:bestTest = 0.7987020016\n",
            "INFO3:lightautoml.ml_algo.boost_cb:bestIteration = 917\n",
            "INFO3:lightautoml.ml_algo.boost_cb:Shrink model to first 918 iterations.\n",
            "INFO2:lightautoml.ml_algo.base:===== Start working with \u001b[1mfold 1\u001b[0m for \u001b[1mLvl_1_Pipe_0_Mod_1_CatBoost\u001b[0m =====\n",
            "Default metric period is 5 because AUC is/are not implemented for GPU\n",
            "INFO3:lightautoml.ml_algo.boost_cb:0:\ttest: 0.6628518\tbest: 0.6628518 (0)\ttotal: 8.65ms\tremaining: 43.3s\n",
            "DEBUG:lightautoml.ml_algo.boost_cb:100:\ttest: 0.7693529\tbest: 0.7694982 (99)\ttotal: 514ms\tremaining: 24.9s\n",
            "DEBUG:lightautoml.ml_algo.boost_cb:200:\ttest: 0.7789137\tbest: 0.7789137 (200)\ttotal: 3.51s\tremaining: 1m 23s\n",
            "DEBUG:lightautoml.ml_algo.boost_cb:300:\ttest: 0.7832800\tbest: 0.7833195 (296)\ttotal: 6.21s\tremaining: 1m 36s\n",
            "DEBUG:lightautoml.ml_algo.boost_cb:400:\ttest: 0.7875481\tbest: 0.7875481 (400)\ttotal: 6.77s\tremaining: 1m 17s\n",
            "DEBUG:lightautoml.ml_algo.boost_cb:500:\ttest: 0.7899682\tbest: 0.7899682 (500)\ttotal: 7.3s\tremaining: 1m 5s\n",
            "DEBUG:lightautoml.ml_algo.boost_cb:600:\ttest: 0.7913815\tbest: 0.7915665 (597)\ttotal: 7.82s\tremaining: 57.2s\n",
            "DEBUG:lightautoml.ml_algo.boost_cb:700:\ttest: 0.7927136\tbest: 0.7928197 (680)\ttotal: 8.32s\tremaining: 51.1s\n",
            "DEBUG:lightautoml.ml_algo.boost_cb:800:\ttest: 0.7932039\tbest: 0.7932667 (794)\ttotal: 8.85s\tremaining: 46.4s\n",
            "DEBUG:lightautoml.ml_algo.boost_cb:900:\ttest: 0.7947658\tbest: 0.7948164 (893)\ttotal: 9.36s\tremaining: 42.6s\n",
            "DEBUG:lightautoml.ml_algo.boost_cb:1000:\ttest: 0.7955109\tbest: 0.7955109 (1000)\ttotal: 9.89s\tremaining: 39.5s\n",
            "DEBUG:lightautoml.ml_algo.boost_cb:1100:\ttest: 0.7961341\tbest: 0.7962334 (1084)\ttotal: 10.4s\tremaining: 36.8s\n",
            "DEBUG:lightautoml.ml_algo.boost_cb:1200:\ttest: 0.7965468\tbest: 0.7966861 (1172)\ttotal: 11s\tremaining: 34.6s\n",
            "DEBUG:lightautoml.ml_algo.boost_cb:1300:\ttest: 0.7968504\tbest: 0.7969764 (1258)\ttotal: 11.5s\tremaining: 32.6s\n",
            "DEBUG:lightautoml.ml_algo.boost_cb:1400:\ttest: 0.7968811\tbest: 0.7969792 (1398)\ttotal: 12s\tremaining: 30.8s\n",
            "DEBUG:lightautoml.ml_algo.boost_cb:1500:\ttest: 0.7972359\tbest: 0.7973239 (1488)\ttotal: 12.5s\tremaining: 29.1s\n",
            "DEBUG:lightautoml.ml_algo.boost_cb:1600:\ttest: 0.7973278\tbest: 0.7974181 (1562)\ttotal: 13s\tremaining: 27.6s\n",
            "DEBUG:lightautoml.ml_algo.boost_cb:1700:\ttest: 0.7974825\tbest: 0.7976899 (1694)\ttotal: 13.5s\tremaining: 26.2s\n",
            "DEBUG:lightautoml.ml_algo.boost_cb:1800:\ttest: 0.7981927\tbest: 0.7982280 (1798)\ttotal: 14s\tremaining: 24.9s\n",
            "DEBUG:lightautoml.ml_algo.boost_cb:1900:\ttest: 0.7989187\tbest: 0.7990232 (1897)\ttotal: 14.5s\tremaining: 23.7s\n",
            "DEBUG:lightautoml.ml_algo.boost_cb:2000:\ttest: 0.7990310\tbest: 0.7991679 (1977)\ttotal: 15.1s\tremaining: 22.6s\n",
            "DEBUG:lightautoml.ml_algo.boost_cb:2100:\ttest: 0.7992947\tbest: 0.7994304 (2034)\ttotal: 15.6s\tremaining: 21.5s\n",
            "DEBUG:lightautoml.ml_algo.boost_cb:2200:\ttest: 0.7997177\tbest: 0.7997178 (2199)\ttotal: 16.7s\tremaining: 21.2s\n",
            "DEBUG:lightautoml.ml_algo.boost_cb:2300:\ttest: 0.7998188\tbest: 0.7998576 (2294)\ttotal: 19.8s\tremaining: 23.3s\n",
            "DEBUG:lightautoml.ml_algo.boost_cb:2400:\ttest: 0.7997528\tbest: 0.7998826 (2362)\ttotal: 21.6s\tremaining: 23.4s\n",
            "INFO3:lightautoml.ml_algo.boost_cb:bestTest = 0.7998825908\n",
            "INFO3:lightautoml.ml_algo.boost_cb:bestIteration = 2362\n",
            "INFO3:lightautoml.ml_algo.boost_cb:Shrink model to first 2363 iterations.\n",
            "INFO2:lightautoml.ml_algo.base:===== Start working with \u001b[1mfold 2\u001b[0m for \u001b[1mLvl_1_Pipe_0_Mod_1_CatBoost\u001b[0m =====\n",
            "Default metric period is 5 because AUC is/are not implemented for GPU\n",
            "INFO3:lightautoml.ml_algo.boost_cb:0:\ttest: 0.6728794\tbest: 0.6728794 (0)\ttotal: 6.03ms\tremaining: 30.2s\n",
            "DEBUG:lightautoml.ml_algo.boost_cb:100:\ttest: 0.7717838\tbest: 0.7717838 (100)\ttotal: 559ms\tremaining: 27.1s\n",
            "DEBUG:lightautoml.ml_algo.boost_cb:200:\ttest: 0.7819396\tbest: 0.7819396 (200)\ttotal: 1.06s\tremaining: 25.3s\n",
            "DEBUG:lightautoml.ml_algo.boost_cb:300:\ttest: 0.7871957\tbest: 0.7872192 (299)\ttotal: 1.58s\tremaining: 24.7s\n",
            "DEBUG:lightautoml.ml_algo.boost_cb:400:\ttest: 0.7919538\tbest: 0.7919538 (400)\ttotal: 2.08s\tremaining: 23.9s\n",
            "DEBUG:lightautoml.ml_algo.boost_cb:500:\ttest: 0.7948688\tbest: 0.7948688 (500)\ttotal: 2.61s\tremaining: 23.4s\n",
            "DEBUG:lightautoml.ml_algo.boost_cb:600:\ttest: 0.7958934\tbest: 0.7960608 (585)\ttotal: 3.12s\tremaining: 22.8s\n",
            "DEBUG:lightautoml.ml_algo.boost_cb:700:\ttest: 0.7972485\tbest: 0.7976382 (675)\ttotal: 3.65s\tremaining: 22.4s\n",
            "DEBUG:lightautoml.ml_algo.boost_cb:800:\ttest: 0.7979640\tbest: 0.7981668 (791)\ttotal: 4.16s\tremaining: 21.8s\n",
            "DEBUG:lightautoml.ml_algo.boost_cb:900:\ttest: 0.7977774\tbest: 0.7982333 (878)\ttotal: 4.68s\tremaining: 21.3s\n",
            "DEBUG:lightautoml.ml_algo.boost_cb:1000:\ttest: 0.7991022\tbest: 0.7991022 (1000)\ttotal: 5.24s\tremaining: 20.9s\n",
            "DEBUG:lightautoml.ml_algo.boost_cb:1100:\ttest: 0.7995718\tbest: 0.7999462 (1050)\ttotal: 5.76s\tremaining: 20.4s\n",
            "INFO3:lightautoml.ml_algo.boost_cb:bestTest = 0.7999461889\n",
            "INFO3:lightautoml.ml_algo.boost_cb:bestIteration = 1050\n",
            "INFO3:lightautoml.ml_algo.boost_cb:Shrink model to first 1051 iterations.\n",
            "INFO2:lightautoml.ml_algo.base:===== Start working with \u001b[1mfold 3\u001b[0m for \u001b[1mLvl_1_Pipe_0_Mod_1_CatBoost\u001b[0m =====\n",
            "Default metric period is 5 because AUC is/are not implemented for GPU\n",
            "INFO3:lightautoml.ml_algo.boost_cb:0:\ttest: 0.6500139\tbest: 0.6500139 (0)\ttotal: 6.02ms\tremaining: 30.1s\n",
            "DEBUG:lightautoml.ml_algo.boost_cb:100:\ttest: 0.7666999\tbest: 0.7667329 (98)\ttotal: 514ms\tremaining: 24.9s\n",
            "DEBUG:lightautoml.ml_algo.boost_cb:200:\ttest: 0.7763799\tbest: 0.7763799 (200)\ttotal: 1.03s\tremaining: 24.6s\n",
            "DEBUG:lightautoml.ml_algo.boost_cb:300:\ttest: 0.7819909\tbest: 0.7819994 (299)\ttotal: 1.53s\tremaining: 23.9s\n",
            "DEBUG:lightautoml.ml_algo.boost_cb:400:\ttest: 0.7852761\tbest: 0.7852761 (400)\ttotal: 3.04s\tremaining: 34.8s\n",
            "DEBUG:lightautoml.ml_algo.boost_cb:500:\ttest: 0.7883225\tbest: 0.7883403 (498)\ttotal: 6.4s\tremaining: 57.5s\n",
            "DEBUG:lightautoml.ml_algo.boost_cb:600:\ttest: 0.7896443\tbest: 0.7896904 (597)\ttotal: 7.78s\tremaining: 57s\n",
            "DEBUG:lightautoml.ml_algo.boost_cb:700:\ttest: 0.7913920\tbest: 0.7913920 (700)\ttotal: 8.34s\tremaining: 51.1s\n",
            "DEBUG:lightautoml.ml_algo.boost_cb:800:\ttest: 0.7923470\tbest: 0.7923522 (778)\ttotal: 8.88s\tremaining: 46.5s\n",
            "DEBUG:lightautoml.ml_algo.boost_cb:900:\ttest: 0.7929287\tbest: 0.7931177 (877)\ttotal: 9.41s\tremaining: 42.8s\n",
            "INFO3:lightautoml.ml_algo.boost_cb:bestTest = 0.793117702\n",
            "INFO3:lightautoml.ml_algo.boost_cb:bestIteration = 877\n",
            "INFO3:lightautoml.ml_algo.boost_cb:Shrink model to first 878 iterations.\n",
            "INFO2:lightautoml.ml_algo.base:===== Start working with \u001b[1mfold 4\u001b[0m for \u001b[1mLvl_1_Pipe_0_Mod_1_CatBoost\u001b[0m =====\n",
            "Default metric period is 5 because AUC is/are not implemented for GPU\n",
            "INFO3:lightautoml.ml_algo.boost_cb:0:\ttest: 0.6686336\tbest: 0.6686336 (0)\ttotal: 6.17ms\tremaining: 30.9s\n",
            "DEBUG:lightautoml.ml_algo.boost_cb:100:\ttest: 0.7742559\tbest: 0.7742559 (100)\ttotal: 506ms\tremaining: 24.5s\n",
            "DEBUG:lightautoml.ml_algo.boost_cb:200:\ttest: 0.7847074\tbest: 0.7847074 (200)\ttotal: 1.03s\tremaining: 24.5s\n",
            "DEBUG:lightautoml.ml_algo.boost_cb:300:\ttest: 0.7901153\tbest: 0.7901463 (299)\ttotal: 1.52s\tremaining: 23.8s\n",
            "DEBUG:lightautoml.ml_algo.boost_cb:400:\ttest: 0.7938054\tbest: 0.7938271 (399)\ttotal: 2.05s\tremaining: 23.5s\n",
            "DEBUG:lightautoml.ml_algo.boost_cb:500:\ttest: 0.7974697\tbest: 0.7975284 (499)\ttotal: 2.54s\tremaining: 22.9s\n",
            "DEBUG:lightautoml.ml_algo.boost_cb:600:\ttest: 0.8000774\tbest: 0.8001919 (599)\ttotal: 3.06s\tremaining: 22.4s\n",
            "DEBUG:lightautoml.ml_algo.boost_cb:700:\ttest: 0.8013988\tbest: 0.8013988 (700)\ttotal: 3.57s\tremaining: 21.9s\n",
            "DEBUG:lightautoml.ml_algo.boost_cb:800:\ttest: 0.8031214\tbest: 0.8031687 (791)\ttotal: 4.09s\tremaining: 21.5s\n",
            "DEBUG:lightautoml.ml_algo.boost_cb:900:\ttest: 0.8037685\tbest: 0.8040375 (879)\ttotal: 4.62s\tremaining: 21s\n",
            "INFO3:lightautoml.ml_algo.boost_cb:bestTest = 0.8040374517\n",
            "INFO3:lightautoml.ml_algo.boost_cb:bestIteration = 879\n",
            "INFO3:lightautoml.ml_algo.boost_cb:Shrink model to first 880 iterations.\n"
          ]
        },
        {
          "output_type": "stream",
          "name": "stdout",
          "text": [
            "[16:04:22] Fitting \u001b[1mLvl_1_Pipe_0_Mod_1_CatBoost\u001b[0m finished. score = \u001b[1m-0.7988974034220547\u001b[0m\n"
          ]
        },
        {
          "output_type": "stream",
          "name": "stderr",
          "text": [
            "INFO:lightautoml.ml_algo.base:Fitting \u001b[1mLvl_1_Pipe_0_Mod_1_CatBoost\u001b[0m finished. score = \u001b[1m-0.7988974034220547\u001b[0m\n"
          ]
        },
        {
          "output_type": "stream",
          "name": "stdout",
          "text": [
            "[16:04:22] \u001b[1mLvl_1_Pipe_0_Mod_1_CatBoost\u001b[0m fitting and predicting completed\n"
          ]
        },
        {
          "output_type": "stream",
          "name": "stderr",
          "text": [
            "INFO:lightautoml.ml_algo.base:\u001b[1mLvl_1_Pipe_0_Mod_1_CatBoost\u001b[0m fitting and predicting completed\n"
          ]
        },
        {
          "output_type": "stream",
          "name": "stdout",
          "text": [
            "[16:04:22] Time left 28149.77 secs\n",
            "\n"
          ]
        },
        {
          "output_type": "stream",
          "name": "stderr",
          "text": [
            "INFO:lightautoml.automl.base:Time left 28149.77 secs\n",
            "\n"
          ]
        },
        {
          "output_type": "stream",
          "name": "stdout",
          "text": [
            "[16:04:22] \u001b[1mLayer 2 training completed.\u001b[0m\n",
            "\n"
          ]
        },
        {
          "output_type": "stream",
          "name": "stderr",
          "text": [
            "INFO:lightautoml.automl.base:\u001b[1mLayer 2 training completed.\u001b[0m\n",
            "\n"
          ]
        },
        {
          "output_type": "stream",
          "name": "stdout",
          "text": [
            "[16:04:22] Blending: optimization starts with equal weights and score \u001b[1m-0.8045335751287902\u001b[0m\n"
          ]
        },
        {
          "output_type": "stream",
          "name": "stderr",
          "text": [
            "INFO:lightautoml.automl.blend:Blending: optimization starts with equal weights and score \u001b[1m-0.8045335751287902\u001b[0m\n"
          ]
        },
        {
          "output_type": "stream",
          "name": "stdout",
          "text": [
            "[16:04:22] Blending: iteration \u001b[1m0\u001b[0m: score = \u001b[1m-0.7988974034220547\u001b[0m, weights = \u001b[1m[0. 1.]\u001b[0m\n"
          ]
        },
        {
          "output_type": "stream",
          "name": "stderr",
          "text": [
            "INFO:lightautoml.automl.blend:Blending: iteration \u001b[1m0\u001b[0m: score = \u001b[1m-0.7988974034220547\u001b[0m, weights = \u001b[1m[0. 1.]\u001b[0m\n"
          ]
        },
        {
          "output_type": "stream",
          "name": "stdout",
          "text": [
            "[16:04:23] Blending: iteration \u001b[1m1\u001b[0m: score = \u001b[1m-0.7988974034220547\u001b[0m, weights = \u001b[1m[0. 1.]\u001b[0m\n"
          ]
        },
        {
          "output_type": "stream",
          "name": "stderr",
          "text": [
            "INFO:lightautoml.automl.blend:Blending: iteration \u001b[1m1\u001b[0m: score = \u001b[1m-0.7988974034220547\u001b[0m, weights = \u001b[1m[0. 1.]\u001b[0m\n"
          ]
        },
        {
          "output_type": "stream",
          "name": "stdout",
          "text": [
            "[16:04:23] Blending: no score update. Terminated\n",
            "\n"
          ]
        },
        {
          "output_type": "stream",
          "name": "stderr",
          "text": [
            "INFO:lightautoml.automl.blend:Blending: no score update. Terminated\n",
            "\n"
          ]
        },
        {
          "output_type": "stream",
          "name": "stdout",
          "text": [
            "[16:04:23] \u001b[1mAutoml preset training completed in 1850.44 seconds\u001b[0m\n",
            "\n"
          ]
        },
        {
          "output_type": "stream",
          "name": "stderr",
          "text": [
            "INFO:lightautoml.automl.presets.base:\u001b[1mAutoml preset training completed in 1850.44 seconds\u001b[0m\n",
            "\n"
          ]
        },
        {
          "output_type": "stream",
          "name": "stdout",
          "text": [
            "[16:04:23] Model description:\n",
            "Models on level 0:\n",
            "\t 5 averaged models Lvl_0_Pipe_0_Mod_0_Tuned_LightGBM\n",
            "\t 5 averaged models Lvl_0_Pipe_0_Mod_1_CatBoost\n",
            "\t 5 averaged models Lvl_0_Pipe_0_Mod_2_Tuned_CatBoost\n",
            "\n",
            "Final prediction for new objects (level 1) = \n",
            "\t 1.00000 * (5 averaged models Lvl_1_Pipe_0_Mod_1_CatBoost) \n",
            "\n"
          ]
        },
        {
          "output_type": "stream",
          "name": "stderr",
          "text": [
            "INFO:lightautoml.automl.presets.base:Model description:\n",
            "Models on level 0:\n",
            "\t 5 averaged models Lvl_0_Pipe_0_Mod_0_Tuned_LightGBM\n",
            "\t 5 averaged models Lvl_0_Pipe_0_Mod_1_CatBoost\n",
            "\t 5 averaged models Lvl_0_Pipe_0_Mod_2_Tuned_CatBoost\n",
            "\n",
            "Final prediction for new objects (level 1) = \n",
            "\t 1.00000 * (5 averaged models Lvl_1_Pipe_0_Mod_1_CatBoost) \n",
            "\n"
          ]
        }
      ],
      "source": [
        "train_pred_automl = automl_model.fit_predict(X_y_train, roles = roles, verbose = 1)"
      ],
      "id": "412256f8"
    },
    {
      "cell_type": "code",
      "source": [
        "valid_pred_automl = automl_model.predict(X_valid)\n",
        "valid_pred_automl"
      ],
      "metadata": {
        "colab": {
          "base_uri": "https://localhost:8080/"
        },
        "id": "ph2MtFm-J0ls",
        "outputId": "2ed0a73b-c1da-4176-80c9-8d55cf47af81"
      },
      "id": "ph2MtFm-J0ls",
      "execution_count": null,
      "outputs": [
        {
          "output_type": "execute_result",
          "data": {
            "text/plain": [
              "array([[0.5808208 ],\n",
              "       [0.6233927 ],\n",
              "       [0.5556127 ],\n",
              "       ...,\n",
              "       [0.88990676],\n",
              "       [0.9831792 ],\n",
              "       [0.4351571 ]], dtype=float32)"
            ]
          },
          "metadata": {},
          "execution_count": 92
        }
      ]
    },
    {
      "cell_type": "code",
      "source": [
        "valid_pred_automl_ = np.array([x.data[0] > 0.5 for x in valid_pred_automl])\n",
        "valid_pred_automl_\n"
      ],
      "metadata": {
        "colab": {
          "base_uri": "https://localhost:8080/"
        },
        "id": "_r21rF7XndVN",
        "outputId": "286db4bc-58e9-4e98-8e87-63cd094c4693"
      },
      "id": "_r21rF7XndVN",
      "execution_count": null,
      "outputs": [
        {
          "output_type": "execute_result",
          "data": {
            "text/plain": [
              "array([ True,  True,  True, ...,  True,  True, False])"
            ]
          },
          "metadata": {},
          "execution_count": 72
        }
      ]
    },
    {
      "cell_type": "code",
      "source": [
        "train_pred_automl_ = np.array([x.data[0] > 0.5 for x in train_pred_automl])\n",
        "train_pred_automl_"
      ],
      "metadata": {
        "colab": {
          "base_uri": "https://localhost:8080/"
        },
        "id": "o6T8puQiJ0o0",
        "outputId": "e8e1c61d-9ac4-48cc-b7f8-964584cfe932"
      },
      "id": "o6T8puQiJ0o0",
      "execution_count": null,
      "outputs": [
        {
          "output_type": "execute_result",
          "data": {
            "text/plain": [
              "array([ True, False,  True, ...,  True,  True, False])"
            ]
          },
          "metadata": {},
          "execution_count": 73
        }
      ]
    },
    {
      "cell_type": "code",
      "source": [
        "RA_valid_automl = roc_auc_score(y_valid, valid_pred_automl_)\n",
        "RA_train_automl = roc_auc_score(y_train, train_pred_automl_)\n",
        "print(f\"ROC AUC для тренировочной выборки: {RA_train_automl}.\\nROC AUC для тестовой выборки: {RA_valid_automl}\")"
      ],
      "metadata": {
        "colab": {
          "base_uri": "https://localhost:8080/"
        },
        "id": "chk2EcZaAlo6",
        "outputId": "dfd7ce26-3934-4a02-b770-6d1ec931901e"
      },
      "id": "chk2EcZaAlo6",
      "execution_count": null,
      "outputs": [
        {
          "output_type": "stream",
          "name": "stdout",
          "text": [
            "ROC AUC для тренировочной выборки: 0.7127631898215006.\n",
            "ROC AUC для тестовой выборки: 0.7061474167014139\n"
          ]
        }
      ]
    },
    {
      "cell_type": "markdown",
      "metadata": {
        "id": "7a53437d"
      },
      "source": [
        "#### Прогнозирование на тестовом датасете"
      ],
      "id": "7a53437d"
    },
    {
      "cell_type": "code",
      "execution_count": null,
      "metadata": {
        "id": "a7a88f42",
        "outputId": "0b499717-26f6-4e46-9f71-814109db0f8d",
        "colab": {
          "base_uri": "https://localhost:8080/"
        }
      },
      "outputs": [
        {
          "output_type": "execute_result",
          "data": {
            "text/plain": [
              "<bound method NDFrame.head of                          match_id_hash  game_time  game_mode  lobby_type  \\\n",
              "0     a400b8f29dece5f4d266f49f1ae2e98a        155         22           7   \n",
              "1     46a0ddce8f7ed2a8d9bd5edcbb925682        576         22           7   \n",
              "2     b1b35ff97723d9b7ade1c9c3cf48f770        453         22           7   \n",
              "3     ab3cc6ccac661a1385e73a2e9f21313a        721          4           0   \n",
              "4     54aaab1cb8cc5df3c253641618673266        752         22           7   \n",
              "...                                ...        ...        ...         ...   \n",
              "7972  03f683fed8cf6f03b735e2ee2a942698        509          4           0   \n",
              "7973  06e2b42495855647830ccc6d466f913c       2561         22           7   \n",
              "7974  defd0caeed6ea83d7d5fbdec013fe7d1       1783         22           0   \n",
              "7975  47ad6454ede66c1c78fdaa9391dfc556       2405         22           7   \n",
              "7976  9928dfde50efcbdb2055da23dcdbc101       1775         22           0   \n",
              "\n",
              "      objectives_len  chat_len  r1_hero_id  r1_kills  r1_deaths  r1_assists  \\\n",
              "0                  1        11          11         0          0           0   \n",
              "1                  1         4          14         1          0           3   \n",
              "2                  1         3          42         0          1           1   \n",
              "3                  2         1          30         2          2           1   \n",
              "4                  1         0           8         2          0           2   \n",
              "...              ...       ...         ...       ...        ...         ...   \n",
              "7972               1         0          16         2          0           0   \n",
              "7973              17         7          76         2          9           1   \n",
              "7974               8        23           3         1          9           9   \n",
              "7975              12         4          22         3          8          14   \n",
              "7976              10        13          32         3          4          15   \n",
              "\n",
              "      ...  d5_creeps_stacked  d5_camps_stacked  d5_rune_pickups  \\\n",
              "0     ...                  0                 0                0   \n",
              "1     ...                  3                 1                3   \n",
              "2     ...                  2                 1                2   \n",
              "3     ...                  0                 0                1   \n",
              "4     ...                  0                 0                1   \n",
              "...   ...                ...               ...              ...   \n",
              "7972  ...                  3                 2                0   \n",
              "7973  ...                  0                 0               20   \n",
              "7974  ...                  6                 2                3   \n",
              "7975  ...                  3                 1                4   \n",
              "7976  ...                  0                 0                1   \n",
              "\n",
              "      d5_firstblood_claimed  d5_teamfight_participation  d5_towers_killed  \\\n",
              "0                         0                    0.000000                 0   \n",
              "1                         0                    0.000000                 0   \n",
              "2                         0                    0.250000                 0   \n",
              "3                         0                    0.125000                 0   \n",
              "4                         0                    1.000000                 0   \n",
              "...                     ...                         ...               ...   \n",
              "7972                      0                    0.000000                 0   \n",
              "7973                      0                    0.395833                 0   \n",
              "7974                      0                    0.562500                 0   \n",
              "7975                      0                    0.625000                 0   \n",
              "7976                      0                    0.550000                 1   \n",
              "\n",
              "      d5_roshans_killed  d5_obs_placed  d5_sen_placed  radiant_win_prob  \n",
              "0                     0              0              0          0.349537  \n",
              "1                     0              2              0          0.801083  \n",
              "2                     0              0              0          0.639846  \n",
              "3                     0              0              0          0.469788  \n",
              "4                     0              0              0          0.761745  \n",
              "...                 ...            ...            ...               ...  \n",
              "7972                  0              0              0          0.810011  \n",
              "7973                  0              4              0          0.266326  \n",
              "7974                  0              7              2          0.179827  \n",
              "7975                  0              0              0          0.821431  \n",
              "7976                  0              0              0          0.695337  \n",
              "\n",
              "[7977 rows x 247 columns]>"
            ]
          },
          "metadata": {},
          "execution_count": 93
        }
      ],
      "source": [
        "submit_prediction_2 = automl_model.predict(test_df[quantative_features])\n",
        "test_df['radiant_win_prob'] = np.array([x.data[0] for x in submit_prediction_2])\n",
        "test_df.head"
      ],
      "id": "a7a88f42"
    },
    {
      "cell_type": "code",
      "source": [
        "test_df.shape"
      ],
      "metadata": {
        "colab": {
          "base_uri": "https://localhost:8080/"
        },
        "id": "ldLbpDsnOuKw",
        "outputId": "e0210c92-d763-4cac-92b0-3af18079c376"
      },
      "id": "ldLbpDsnOuKw",
      "execution_count": null,
      "outputs": [
        {
          "output_type": "execute_result",
          "data": {
            "text/plain": [
              "(7977, 247)"
            ]
          },
          "metadata": {},
          "execution_count": 90
        }
      ]
    },
    {
      "cell_type": "code",
      "execution_count": null,
      "metadata": {
        "id": "7a5b140c"
      },
      "outputs": [],
      "source": [
        "test_df[[\"match_id_hash\", \"radiant_win_prob\"]].to_csv('submit_2.csv', index=False)"
      ],
      "id": "7a5b140c"
    }
  ],
  "metadata": {
    "accelerator": "GPU",
    "colab": {
      "provenance": [],
      "include_colab_link": true
    },
    "gpuClass": "standard",
    "kernelspec": {
      "display_name": "Python 3",
      "language": "python",
      "name": "python3"
    },
    "language_info": {
      "codemirror_mode": {
        "name": "ipython",
        "version": 3
      },
      "file_extension": ".py",
      "mimetype": "text/x-python",
      "name": "python",
      "nbconvert_exporter": "python",
      "pygments_lexer": "ipython3",
      "version": "3.8.8"
    }
  },
  "nbformat": 4,
  "nbformat_minor": 5
}